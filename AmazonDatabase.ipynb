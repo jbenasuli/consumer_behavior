{
  "nbformat": 4,
  "nbformat_minor": 0,
  "metadata": {
    "colab": {
      "name": "AmazonDatabase.ipynb",
      "provenance": [],
      "authorship_tag": "ABX9TyMw4KleRlpFc/Sz69VbtzON",
      "include_colab_link": true
    },
    "kernelspec": {
      "name": "python3",
      "display_name": "Python 3"
    },
    "language_info": {
      "name": "python"
    }
  },
  "cells": [
    {
      "cell_type": "markdown",
      "metadata": {
        "id": "view-in-github",
        "colab_type": "text"
      },
      "source": [
        "<a href=\"https://colab.research.google.com/github/jbenasuli/final_project/blob/livia-branch/AmazonDatabase.ipynb\" target=\"_parent\"><img src=\"https://colab.research.google.com/assets/colab-badge.svg\" alt=\"Open In Colab\"/></a>"
      ]
    },
    {
      "cell_type": "code",
      "metadata": {
        "colab": {
          "base_uri": "https://localhost:8080/"
        },
        "id": "KGGwvPbKovSS",
        "outputId": "f8e2c54c-bd17-4757-f08e-96abe7bc2841"
      },
      "source": [
        "import os\n",
        "# Find the latest version of spark 2.0  from http://www-us.apache.org/dist/spark/ and enter as the spark version\n",
        "# For example:\n",
        "# spark_version = 'spark-3.0.0'\n",
        "spark_version = 'spark-3.1.1'\n",
        "os.environ['SPARK_VERSION']=spark_version\n",
        "\n",
        "# Install Spark and Java\n",
        "!apt-get update\n",
        "!apt-get install openjdk-11-jdk-headless -qq > /dev/null\n",
        "!wget -q http://www-us.apache.org/dist/spark/$SPARK_VERSION/$SPARK_VERSION-bin-hadoop2.7.tgz\n",
        "!tar xf $SPARK_VERSION-bin-hadoop2.7.tgz\n",
        "!pip install -q findspark\n",
        "\n",
        "# Set Environment Variables\n",
        "import os\n",
        "os.environ[\"JAVA_HOME\"] = \"/usr/lib/jvm/java-11-openjdk-amd64\"\n",
        "os.environ[\"SPARK_HOME\"] = f\"/content/{spark_version}-bin-hadoop2.7\"\n",
        "\n",
        "# Start a SparkSession\n",
        "import findspark\n",
        "findspark.init()"
      ],
      "execution_count": 13,
      "outputs": [
        {
          "output_type": "stream",
          "text": [
            "\r0% [Working]\r            \rIgn:1 https://developer.download.nvidia.com/compute/cuda/repos/ubuntu1804/x86_64  InRelease\n",
            "\r0% [Connecting to archive.ubuntu.com] [Connecting to security.ubuntu.com] [Wait\r                                                                               \rIgn:2 https://developer.download.nvidia.com/compute/machine-learning/repos/ubuntu1804/x86_64  InRelease\n",
            "\r0% [Connecting to archive.ubuntu.com] [Connecting to security.ubuntu.com] [Wait\r                                                                               \rHit:3 https://cloud.r-project.org/bin/linux/ubuntu bionic-cran40/ InRelease\n",
            "\r0% [Connecting to archive.ubuntu.com] [Connecting to security.ubuntu.com] [Conn\r                                                                               \rHit:4 https://developer.download.nvidia.com/compute/cuda/repos/ubuntu1804/x86_64  Release\n",
            "Hit:5 https://developer.download.nvidia.com/compute/machine-learning/repos/ubuntu1804/x86_64  Release\n",
            "Hit:6 http://ppa.launchpad.net/c2d4u.team/c2d4u4.0+/ubuntu bionic InRelease\n",
            "Hit:7 http://security.ubuntu.com/ubuntu bionic-security InRelease\n",
            "Hit:8 http://archive.ubuntu.com/ubuntu bionic InRelease\n",
            "Hit:9 http://archive.ubuntu.com/ubuntu bionic-updates InRelease\n",
            "Hit:11 http://ppa.launchpad.net/cran/libgit2/ubuntu bionic InRelease\n",
            "Hit:12 http://archive.ubuntu.com/ubuntu bionic-backports InRelease\n",
            "Hit:14 http://ppa.launchpad.net/deadsnakes/ppa/ubuntu bionic InRelease\n",
            "Hit:15 http://ppa.launchpad.net/graphics-drivers/ppa/ubuntu bionic InRelease\n",
            "Reading package lists... Done\n"
          ],
          "name": "stdout"
        }
      ]
    },
    {
      "cell_type": "code",
      "metadata": {
        "id": "i-TtqK6Joz2t"
      },
      "source": [
        "from pyspark.sql import SparkSession\n",
        "spark = SparkSession.builder.appName(\"BigData-Challenge\").config(\"spark.driver.extraClassPath\",\"/content/postgresql-42.2.16.jar\").getOrCreate()"
      ],
      "execution_count": 14,
      "outputs": []
    },
    {
      "cell_type": "code",
      "metadata": {
        "colab": {
          "base_uri": "https://localhost:8080/"
        },
        "id": "96SWJb2Oo16p",
        "outputId": "e2145161-5a39-4e5c-bee3-7eda240cf22b"
      },
      "source": [
        "# Selected furniture data\n",
        "from pyspark import SparkFiles\n",
        "url = \"https://s3.amazonaws.com/amazon-reviews-pds/tsv/amazon_reviews_us_Furniture_v1_00.tsv.gz\"\n",
        "spark.sparkContext.addFile(url)\n",
        "df_furniture = spark.read.option(\"encoding\", \"UTF-8\").csv(SparkFiles.get(\"\"), sep=\"\\t\", header=True, inferSchema=True)\n",
        "df_furniture.show()"
      ],
      "execution_count": 22,
      "outputs": [
        {
          "output_type": "stream",
          "text": [
            "+-----------+-----------+--------------+----------+--------------+--------------------+----------------+-----------+-------------+-----------+----+-----------------+--------------------+--------------------+-----------+\n",
            "|marketplace|customer_id|     review_id|product_id|product_parent|       product_title|product_category|star_rating|helpful_votes|total_votes|vine|verified_purchase|     review_headline|         review_body|review_date|\n",
            "+-----------+-----------+--------------+----------+--------------+--------------------+----------------+-----------+-------------+-----------+----+-----------------+--------------------+--------------------+-----------+\n",
            "|         US|   33670092|R1UUISQ1GKOJTI|B00EE62UAE|     583436067|Trademark Home Po...|            Home|          1|            0|          0|   N|                Y|                 Run|Don't buy it clap...| 2015-08-31|\n",
            "|         US|   13726692|R1HOJ9WE8VCVOD|B001APXO5C|     465035091|O2-Cool 10-Inch P...|            Home|          5|            9|          9|   N|                Y|Love it, really c...|Love this ,I boug...| 2015-08-31|\n",
            "|         US|   50131396| RDNGVXMWQN2TN|B002HFDLCK|     136507891|Hoover Vacuum Cle...|            Home|          5|            0|          0|   N|                Y|          Five Stars|Nice style, color...| 2015-08-31|\n",
            "|         US|   16046884|R3OM9COQMVTDJ2|B00PL9EFPQ|     631238459|Banksy Pile of Ri...|            Home|          2|            0|          0|   N|                Y|Love Banksy's wor...|Meeeh. Love Banks...| 2015-08-31|\n",
            "|         US|   11417282|R3OFUQVR4Y80Q9|B00B5TPVQS|     190431573|SkyScan Atomic Wa...|            Home|          4|            0|          0|   N|                N|A silent second h...|Review by John Cr...| 2015-08-31|\n",
            "|         US|   48013430|R2GD25SBBGRKPO|B00NQDGHDC|     124050883|Mellanni Bed Shee...|            Home|          5|            0|          0|   N|                Y|I am very pleased...|I am very pleased...| 2015-08-31|\n",
            "|         US|    7341516|R3RRSLYKVWH9WB|B00I3BYEXM|     933053612|Hippie Hobo Sling...|            Home|          5|            0|          0|   N|                Y|          Five Stars|LOVE THIS SO VERY...| 2015-08-31|\n",
            "|         US|   20696954|R2HMFAGJJU6NT3|B008QZD7RY|      77515396|OluKai Hokua Sand...|            Home|          5|            0|          0|   N|                Y|          Five Stars|           Love them| 2015-08-31|\n",
            "|         US|   28241302|R2QDRZATHBY4GY|B00TQ6MXE0|     267158600|Melrose Ivory Ant...|            Home|          1|            0|          0|   N|                Y|Not the color I e...|This is a nice sh...| 2015-08-31|\n",
            "|         US|   45444347|R107946YZK57Q2|B004O39RJ4|     473994651|Home Basics 6-Pie...|            Home|          2|            0|          0|   N|                Y|Two mugs came chi...|Two mugs came chi...| 2015-08-31|\n",
            "|         US|   15080335|R31EK6FUI5YAL1|B003LZ09C0|     945333576|La Crosse Technol...|            Home|          5|            0|          0|   N|                Y|          Five Stars|Works great, it a...| 2015-08-31|\n",
            "|         US|   12081067|R2PCO0R2FKDQLD|B00I56KQV4|     383995956|Cozy Beddings 3-P...|            Home|          5|            0|          0|   N|                Y|          Five Stars|Exactly as I expe...| 2015-08-31|\n",
            "|         US|   26317120|R3HR2Y7RR8NWL0|B00GS6ENAS|     255999883|Tools of the Trad...|            Home|          4|            0|          0|   N|                Y|          Four Stars|    met expectations| 2015-08-31|\n",
            "|         US|   37523392|R2D2NATNTV6VBD|B00S9X17SY|     142926812|Clara Clark Premi...|            Home|          3|            0|          0|   N|                Y|        Pretty color|Very silky feelin...| 2015-08-31|\n",
            "|         US|   36990227| RKB0AGB0GJ693|B001R1RXUG|     237680897|Honeywell HT-908 ...|            Home|          5|            0|          0|   N|                Y|          Five Stars|Works great for t...| 2015-08-31|\n",
            "|         US|    8273344| RN6VOEZIS9SRX|B008T19WSS|     395315543|2 pcs .925 Sterli...|            Home|          5|            0|          0|   N|                Y|          Five Stars|          love these| 2015-08-31|\n",
            "|         US|   45448526|R31I8XK53JBAQ2|B011A4X754|     751900773|Artficial Pachyve...|            Home|          4|            0|          0|   N|                Y|          Four Stars|Good length. Very...| 2015-08-31|\n",
            "|         US|   28088591|R2R2Y989GKB6QH|B00DDIKBQO|     764331420|Pinzon Blackout C...|            Home|          5|            0|          0|   N|                Y|          Five Stars|        Works great!| 2015-08-31|\n",
            "|         US|   20276397|R12WZKURAV2VEY|B00F3T165Q|     962537263|Rit Dye Liquid Dy...|            Home|          5|            0|          0|   N|                Y|            Love it!|Been using this f...| 2015-08-31|\n",
            "|         US|     123327| RX2EMR0I821HW|B006C6FC6S|     279696452|The Original Slee...|            Home|          2|            0|          0|   N|                Y|           Two Stars|Ehh. Not sure why...| 2015-08-31|\n",
            "+-----------+-----------+--------------+----------+--------------+--------------------+----------------+-----------+-------------+-----------+----+-----------------+--------------------+--------------------+-----------+\n",
            "only showing top 20 rows\n",
            "\n"
          ],
          "name": "stdout"
        }
      ]
    },
    {
      "cell_type": "code",
      "metadata": {
        "id": "9ygTNZDYoWo0",
        "outputId": "1b1680bd-8ebc-47b8-98d2-ede6e29f9cd6",
        "colab": {
          "base_uri": "https://localhost:8080/"
        }
      },
      "source": [
        "print((df_furniture.count(), len(df_furniture.columns)))"
      ],
      "execution_count": 23,
      "outputs": [
        {
          "output_type": "stream",
          "text": [
            "(7013672, 15)\n"
          ],
          "name": "stdout"
        }
      ]
    },
    {
      "cell_type": "code",
      "metadata": {
        "id": "fHNQ-W7o17-Y",
        "colab": {
          "base_uri": "https://localhost:8080/"
        },
        "outputId": "66bddc66-a1ff-4bdd-8a20-a96c94fdeb21"
      },
      "source": [
        "# Drop the non-beneficial columns\n",
        "columns_to_drop = [\"review_id\",\"product_title\",\"helpful_votes\",\"review_headline\",\"review_body\",\"marketplace\"]\n",
        "\n",
        "df_furniture = df_furniture.drop(*columns_to_drop)\n",
        "df_furniture.show()"
      ],
      "execution_count": 24,
      "outputs": [
        {
          "output_type": "stream",
          "text": [
            "+-----------+-----------+----------+--------------+----------------+-----------+-----------+----+-----------------+-----------+\n",
            "|marketplace|customer_id|product_id|product_parent|product_category|star_rating|total_votes|vine|verified_purchase|review_date|\n",
            "+-----------+-----------+----------+--------------+----------------+-----------+-----------+----+-----------------+-----------+\n",
            "|         US|   33670092|B00EE62UAE|     583436067|            Home|          1|          0|   N|                Y| 2015-08-31|\n",
            "|         US|   13726692|B001APXO5C|     465035091|            Home|          5|          9|   N|                Y| 2015-08-31|\n",
            "|         US|   50131396|B002HFDLCK|     136507891|            Home|          5|          0|   N|                Y| 2015-08-31|\n",
            "|         US|   16046884|B00PL9EFPQ|     631238459|            Home|          2|          0|   N|                Y| 2015-08-31|\n",
            "|         US|   11417282|B00B5TPVQS|     190431573|            Home|          4|          0|   N|                N| 2015-08-31|\n",
            "|         US|   48013430|B00NQDGHDC|     124050883|            Home|          5|          0|   N|                Y| 2015-08-31|\n",
            "|         US|    7341516|B00I3BYEXM|     933053612|            Home|          5|          0|   N|                Y| 2015-08-31|\n",
            "|         US|   20696954|B008QZD7RY|      77515396|            Home|          5|          0|   N|                Y| 2015-08-31|\n",
            "|         US|   28241302|B00TQ6MXE0|     267158600|            Home|          1|          0|   N|                Y| 2015-08-31|\n",
            "|         US|   45444347|B004O39RJ4|     473994651|            Home|          2|          0|   N|                Y| 2015-08-31|\n",
            "|         US|   15080335|B003LZ09C0|     945333576|            Home|          5|          0|   N|                Y| 2015-08-31|\n",
            "|         US|   12081067|B00I56KQV4|     383995956|            Home|          5|          0|   N|                Y| 2015-08-31|\n",
            "|         US|   26317120|B00GS6ENAS|     255999883|            Home|          4|          0|   N|                Y| 2015-08-31|\n",
            "|         US|   37523392|B00S9X17SY|     142926812|            Home|          3|          0|   N|                Y| 2015-08-31|\n",
            "|         US|   36990227|B001R1RXUG|     237680897|            Home|          5|          0|   N|                Y| 2015-08-31|\n",
            "|         US|    8273344|B008T19WSS|     395315543|            Home|          5|          0|   N|                Y| 2015-08-31|\n",
            "|         US|   45448526|B011A4X754|     751900773|            Home|          4|          0|   N|                Y| 2015-08-31|\n",
            "|         US|   28088591|B00DDIKBQO|     764331420|            Home|          5|          0|   N|                Y| 2015-08-31|\n",
            "|         US|   20276397|B00F3T165Q|     962537263|            Home|          5|          0|   N|                Y| 2015-08-31|\n",
            "|         US|     123327|B006C6FC6S|     279696452|            Home|          2|          0|   N|                Y| 2015-08-31|\n",
            "+-----------+-----------+----------+--------------+----------------+-----------+-----------+----+-----------------+-----------+\n",
            "only showing top 20 rows\n",
            "\n"
          ],
          "name": "stdout"
        }
      ]
    },
    {
      "cell_type": "code",
      "metadata": {
        "id": "pbxL3ynlo_QE",
        "outputId": "35e7a126-4a94-4167-925a-c4569531852c",
        "colab": {
          "base_uri": "https://localhost:8080/"
        }
      },
      "source": [
        "# Only considering verified purchases\n",
        "df_furniture = df_furniture.filter(df_furniture.verified_purchase == \"Y\")\n",
        "print((df_furniture.count(), len(df_furniture.columns)))"
      ],
      "execution_count": 25,
      "outputs": [
        {
          "output_type": "stream",
          "text": [
            "(6263101, 10)\n"
          ],
          "name": "stdout"
        }
      ]
    },
    {
      "cell_type": "code",
      "metadata": {
        "id": "1zyIxaunrLKe",
        "colab": {
          "base_uri": "https://localhost:8080/"
        },
        "outputId": "63e9367c-af8c-46e5-c2dc-7eea5a4cce11"
      },
      "source": [
        "# Selected home data\n",
        "from pyspark import SparkFiles\n",
        "url = \"https://s3.amazonaws.com/amazon-reviews-pds/tsv/amazon_reviews_us_Home_v1_00.tsv.gz\"\n",
        "spark.sparkContext.addFile(url)\n",
        "df_home = spark.read.option(\"encoding\", \"UTF-8\").csv(SparkFiles.get(\"\"), sep=\"\\t\", header=True, inferSchema=True)\n",
        "df_home.show()"
      ],
      "execution_count": 26,
      "outputs": [
        {
          "output_type": "stream",
          "text": [
            "+-----------+-----------+--------------+----------+--------------+--------------------+----------------+-----------+-------------+-----------+----+-----------------+--------------------+--------------------+-----------+\n",
            "|marketplace|customer_id|     review_id|product_id|product_parent|       product_title|product_category|star_rating|helpful_votes|total_votes|vine|verified_purchase|     review_headline|         review_body|review_date|\n",
            "+-----------+-----------+--------------+----------+--------------+--------------------+----------------+-----------+-------------+-----------+----+-----------------+--------------------+--------------------+-----------+\n",
            "|         US|   33670092|R1UUISQ1GKOJTI|B00EE62UAE|     583436067|Trademark Home Po...|            Home|          1|            0|          0|   N|                Y|                 Run|Don't buy it clap...| 2015-08-31|\n",
            "|         US|   13726692|R1HOJ9WE8VCVOD|B001APXO5C|     465035091|O2-Cool 10-Inch P...|            Home|          5|            9|          9|   N|                Y|Love it, really c...|Love this ,I boug...| 2015-08-31|\n",
            "|         US|   50131396| RDNGVXMWQN2TN|B002HFDLCK|     136507891|Hoover Vacuum Cle...|            Home|          5|            0|          0|   N|                Y|          Five Stars|Nice style, color...| 2015-08-31|\n",
            "|         US|   16046884|R3OM9COQMVTDJ2|B00PL9EFPQ|     631238459|Banksy Pile of Ri...|            Home|          2|            0|          0|   N|                Y|Love Banksy's wor...|Meeeh. Love Banks...| 2015-08-31|\n",
            "|         US|   11417282|R3OFUQVR4Y80Q9|B00B5TPVQS|     190431573|SkyScan Atomic Wa...|            Home|          4|            0|          0|   N|                N|A silent second h...|Review by John Cr...| 2015-08-31|\n",
            "|         US|   48013430|R2GD25SBBGRKPO|B00NQDGHDC|     124050883|Mellanni Bed Shee...|            Home|          5|            0|          0|   N|                Y|I am very pleased...|I am very pleased...| 2015-08-31|\n",
            "|         US|    7341516|R3RRSLYKVWH9WB|B00I3BYEXM|     933053612|Hippie Hobo Sling...|            Home|          5|            0|          0|   N|                Y|          Five Stars|LOVE THIS SO VERY...| 2015-08-31|\n",
            "|         US|   20696954|R2HMFAGJJU6NT3|B008QZD7RY|      77515396|OluKai Hokua Sand...|            Home|          5|            0|          0|   N|                Y|          Five Stars|           Love them| 2015-08-31|\n",
            "|         US|   28241302|R2QDRZATHBY4GY|B00TQ6MXE0|     267158600|Melrose Ivory Ant...|            Home|          1|            0|          0|   N|                Y|Not the color I e...|This is a nice sh...| 2015-08-31|\n",
            "|         US|   45444347|R107946YZK57Q2|B004O39RJ4|     473994651|Home Basics 6-Pie...|            Home|          2|            0|          0|   N|                Y|Two mugs came chi...|Two mugs came chi...| 2015-08-31|\n",
            "|         US|   15080335|R31EK6FUI5YAL1|B003LZ09C0|     945333576|La Crosse Technol...|            Home|          5|            0|          0|   N|                Y|          Five Stars|Works great, it a...| 2015-08-31|\n",
            "|         US|   12081067|R2PCO0R2FKDQLD|B00I56KQV4|     383995956|Cozy Beddings 3-P...|            Home|          5|            0|          0|   N|                Y|          Five Stars|Exactly as I expe...| 2015-08-31|\n",
            "|         US|   26317120|R3HR2Y7RR8NWL0|B00GS6ENAS|     255999883|Tools of the Trad...|            Home|          4|            0|          0|   N|                Y|          Four Stars|    met expectations| 2015-08-31|\n",
            "|         US|   37523392|R2D2NATNTV6VBD|B00S9X17SY|     142926812|Clara Clark Premi...|            Home|          3|            0|          0|   N|                Y|        Pretty color|Very silky feelin...| 2015-08-31|\n",
            "|         US|   36990227| RKB0AGB0GJ693|B001R1RXUG|     237680897|Honeywell HT-908 ...|            Home|          5|            0|          0|   N|                Y|          Five Stars|Works great for t...| 2015-08-31|\n",
            "|         US|    8273344| RN6VOEZIS9SRX|B008T19WSS|     395315543|2 pcs .925 Sterli...|            Home|          5|            0|          0|   N|                Y|          Five Stars|          love these| 2015-08-31|\n",
            "|         US|   45448526|R31I8XK53JBAQ2|B011A4X754|     751900773|Artficial Pachyve...|            Home|          4|            0|          0|   N|                Y|          Four Stars|Good length. Very...| 2015-08-31|\n",
            "|         US|   28088591|R2R2Y989GKB6QH|B00DDIKBQO|     764331420|Pinzon Blackout C...|            Home|          5|            0|          0|   N|                Y|          Five Stars|        Works great!| 2015-08-31|\n",
            "|         US|   20276397|R12WZKURAV2VEY|B00F3T165Q|     962537263|Rit Dye Liquid Dy...|            Home|          5|            0|          0|   N|                Y|            Love it!|Been using this f...| 2015-08-31|\n",
            "|         US|     123327| RX2EMR0I821HW|B006C6FC6S|     279696452|The Original Slee...|            Home|          2|            0|          0|   N|                Y|           Two Stars|Ehh. Not sure why...| 2015-08-31|\n",
            "+-----------+-----------+--------------+----------+--------------+--------------------+----------------+-----------+-------------+-----------+----+-----------------+--------------------+--------------------+-----------+\n",
            "only showing top 20 rows\n",
            "\n"
          ],
          "name": "stdout"
        }
      ]
    },
    {
      "cell_type": "code",
      "metadata": {
        "id": "uFDtlD9Psjyh",
        "outputId": "692e271f-6396-4fda-ac1a-1892dd7f1e69",
        "colab": {
          "base_uri": "https://localhost:8080/"
        }
      },
      "source": [
        "print((df_home.count(), len(df_home.columns)))"
      ],
      "execution_count": 27,
      "outputs": [
        {
          "output_type": "stream",
          "text": [
            "(7013672, 15)\n"
          ],
          "name": "stdout"
        }
      ]
    },
    {
      "cell_type": "code",
      "metadata": {
        "id": "-s4_C07rsj2Z",
        "outputId": "9096f91b-8f15-4908-900a-03a63e19deae",
        "colab": {
          "base_uri": "https://localhost:8080/"
        }
      },
      "source": [
        "# Drop the non-beneficial columns\n",
        "df_home = df_home.drop(*columns_to_drop)\n",
        "df_home.show()"
      ],
      "execution_count": 29,
      "outputs": [
        {
          "output_type": "stream",
          "text": [
            "+-----------+-----------+----------+--------------+----------------+-----------+-----------+----+-----------------+-----------+\n",
            "|marketplace|customer_id|product_id|product_parent|product_category|star_rating|total_votes|vine|verified_purchase|review_date|\n",
            "+-----------+-----------+----------+--------------+----------------+-----------+-----------+----+-----------------+-----------+\n",
            "|         US|   33670092|B00EE62UAE|     583436067|            Home|          1|          0|   N|                Y| 2015-08-31|\n",
            "|         US|   13726692|B001APXO5C|     465035091|            Home|          5|          9|   N|                Y| 2015-08-31|\n",
            "|         US|   50131396|B002HFDLCK|     136507891|            Home|          5|          0|   N|                Y| 2015-08-31|\n",
            "|         US|   16046884|B00PL9EFPQ|     631238459|            Home|          2|          0|   N|                Y| 2015-08-31|\n",
            "|         US|   11417282|B00B5TPVQS|     190431573|            Home|          4|          0|   N|                N| 2015-08-31|\n",
            "|         US|   48013430|B00NQDGHDC|     124050883|            Home|          5|          0|   N|                Y| 2015-08-31|\n",
            "|         US|    7341516|B00I3BYEXM|     933053612|            Home|          5|          0|   N|                Y| 2015-08-31|\n",
            "|         US|   20696954|B008QZD7RY|      77515396|            Home|          5|          0|   N|                Y| 2015-08-31|\n",
            "|         US|   28241302|B00TQ6MXE0|     267158600|            Home|          1|          0|   N|                Y| 2015-08-31|\n",
            "|         US|   45444347|B004O39RJ4|     473994651|            Home|          2|          0|   N|                Y| 2015-08-31|\n",
            "|         US|   15080335|B003LZ09C0|     945333576|            Home|          5|          0|   N|                Y| 2015-08-31|\n",
            "|         US|   12081067|B00I56KQV4|     383995956|            Home|          5|          0|   N|                Y| 2015-08-31|\n",
            "|         US|   26317120|B00GS6ENAS|     255999883|            Home|          4|          0|   N|                Y| 2015-08-31|\n",
            "|         US|   37523392|B00S9X17SY|     142926812|            Home|          3|          0|   N|                Y| 2015-08-31|\n",
            "|         US|   36990227|B001R1RXUG|     237680897|            Home|          5|          0|   N|                Y| 2015-08-31|\n",
            "|         US|    8273344|B008T19WSS|     395315543|            Home|          5|          0|   N|                Y| 2015-08-31|\n",
            "|         US|   45448526|B011A4X754|     751900773|            Home|          4|          0|   N|                Y| 2015-08-31|\n",
            "|         US|   28088591|B00DDIKBQO|     764331420|            Home|          5|          0|   N|                Y| 2015-08-31|\n",
            "|         US|   20276397|B00F3T165Q|     962537263|            Home|          5|          0|   N|                Y| 2015-08-31|\n",
            "|         US|     123327|B006C6FC6S|     279696452|            Home|          2|          0|   N|                Y| 2015-08-31|\n",
            "+-----------+-----------+----------+--------------+----------------+-----------+-----------+----+-----------------+-----------+\n",
            "only showing top 20 rows\n",
            "\n"
          ],
          "name": "stdout"
        }
      ]
    },
    {
      "cell_type": "code",
      "metadata": {
        "id": "dOjFbvb3sj5-",
        "outputId": "958090e5-0fbf-473a-e12d-79b556f1da3f",
        "colab": {
          "base_uri": "https://localhost:8080/"
        }
      },
      "source": [
        "# Only considering verified purchases\n",
        "df_home = df_home.filter(df_home.verified_purchase == \"Y\")\n",
        "print((df_home.count(), len(df_home.columns)))"
      ],
      "execution_count": 30,
      "outputs": [
        {
          "output_type": "stream",
          "text": [
            "(6263101, 10)\n"
          ],
          "name": "stdout"
        }
      ]
    },
    {
      "cell_type": "code",
      "metadata": {
        "id": "Yzqnj8j9olR1",
        "outputId": "b8f2c7bc-750f-4406-f663-8f004ce7ee4e",
        "colab": {
          "base_uri": "https://localhost:8080/"
        }
      },
      "source": [
        "print((df_home.count(), len(df_home.columns)))"
      ],
      "execution_count": 31,
      "outputs": [
        {
          "output_type": "stream",
          "text": [
            "(6263101, 10)\n"
          ],
          "name": "stdout"
        }
      ]
    },
    {
      "cell_type": "code",
      "metadata": {
        "id": "hheEdv3DsEEm",
        "outputId": "88d0f364-3607-454d-b436-bda5088ee40b",
        "colab": {
          "base_uri": "https://localhost:8080/"
        }
      },
      "source": [
        "# Merge both databases\n",
        "from functools import reduce  # For Python 3.x\n",
        "from pyspark.sql import DataFrame\n",
        "\n",
        "def unionAll(*dfs):\n",
        "    return reduce(DataFrame.unionAll, dfs)\n",
        "\n",
        "df_merge = unionAll(df_furniture, df_home)\n",
        "df_merge.show()\n"
      ],
      "execution_count": 34,
      "outputs": [
        {
          "output_type": "stream",
          "text": [
            "+-----------+-----------+----------+--------------+----------------+-----------+-----------+----+-----------------+-----------+\n",
            "|marketplace|customer_id|product_id|product_parent|product_category|star_rating|total_votes|vine|verified_purchase|review_date|\n",
            "+-----------+-----------+----------+--------------+----------------+-----------+-----------+----+-----------------+-----------+\n",
            "|         US|   33670092|B00EE62UAE|     583436067|            Home|          1|          0|   N|                Y| 2015-08-31|\n",
            "|         US|   13726692|B001APXO5C|     465035091|            Home|          5|          9|   N|                Y| 2015-08-31|\n",
            "|         US|   50131396|B002HFDLCK|     136507891|            Home|          5|          0|   N|                Y| 2015-08-31|\n",
            "|         US|   16046884|B00PL9EFPQ|     631238459|            Home|          2|          0|   N|                Y| 2015-08-31|\n",
            "|         US|   48013430|B00NQDGHDC|     124050883|            Home|          5|          0|   N|                Y| 2015-08-31|\n",
            "|         US|    7341516|B00I3BYEXM|     933053612|            Home|          5|          0|   N|                Y| 2015-08-31|\n",
            "|         US|   20696954|B008QZD7RY|      77515396|            Home|          5|          0|   N|                Y| 2015-08-31|\n",
            "|         US|   28241302|B00TQ6MXE0|     267158600|            Home|          1|          0|   N|                Y| 2015-08-31|\n",
            "|         US|   45444347|B004O39RJ4|     473994651|            Home|          2|          0|   N|                Y| 2015-08-31|\n",
            "|         US|   15080335|B003LZ09C0|     945333576|            Home|          5|          0|   N|                Y| 2015-08-31|\n",
            "|         US|   12081067|B00I56KQV4|     383995956|            Home|          5|          0|   N|                Y| 2015-08-31|\n",
            "|         US|   26317120|B00GS6ENAS|     255999883|            Home|          4|          0|   N|                Y| 2015-08-31|\n",
            "|         US|   37523392|B00S9X17SY|     142926812|            Home|          3|          0|   N|                Y| 2015-08-31|\n",
            "|         US|   36990227|B001R1RXUG|     237680897|            Home|          5|          0|   N|                Y| 2015-08-31|\n",
            "|         US|    8273344|B008T19WSS|     395315543|            Home|          5|          0|   N|                Y| 2015-08-31|\n",
            "|         US|   45448526|B011A4X754|     751900773|            Home|          4|          0|   N|                Y| 2015-08-31|\n",
            "|         US|   28088591|B00DDIKBQO|     764331420|            Home|          5|          0|   N|                Y| 2015-08-31|\n",
            "|         US|   20276397|B00F3T165Q|     962537263|            Home|          5|          0|   N|                Y| 2015-08-31|\n",
            "|         US|     123327|B006C6FC6S|     279696452|            Home|          2|          0|   N|                Y| 2015-08-31|\n",
            "|         US|   43587367|B00S8KBF1W|     284914718|            Home|          3|          0|   N|                Y| 2015-08-31|\n",
            "+-----------+-----------+----------+--------------+----------------+-----------+-----------+----+-----------------+-----------+\n",
            "only showing top 20 rows\n",
            "\n"
          ],
          "name": "stdout"
        }
      ]
    },
    {
      "cell_type": "code",
      "metadata": {
        "id": "jS2kJTCbtyxq",
        "outputId": "61d3ea1c-b5b4-44f1-b570-960414606e0e",
        "colab": {
          "base_uri": "https://localhost:8080/"
        }
      },
      "source": [
        "print((df_merge.count(), len(df_merge.columns)))"
      ],
      "execution_count": 35,
      "outputs": [
        {
          "output_type": "stream",
          "text": [
            "(12526202, 10)\n"
          ],
          "name": "stdout"
        }
      ]
    },
    {
      "cell_type": "code",
      "metadata": {
        "id": "cJf3ljtYqL5o",
        "outputId": "71951223-808e-442a-c335-0f713af11d18",
        "colab": {
          "base_uri": "https://localhost:8080/"
        }
      },
      "source": [
        "# Get datatypes\n",
        "df_merge.printSchema()"
      ],
      "execution_count": 36,
      "outputs": [
        {
          "output_type": "stream",
          "text": [
            "root\n",
            " |-- marketplace: string (nullable = true)\n",
            " |-- customer_id: integer (nullable = true)\n",
            " |-- product_id: string (nullable = true)\n",
            " |-- product_parent: integer (nullable = true)\n",
            " |-- product_category: string (nullable = true)\n",
            " |-- star_rating: integer (nullable = true)\n",
            " |-- total_votes: integer (nullable = true)\n",
            " |-- vine: string (nullable = true)\n",
            " |-- verified_purchase: string (nullable = true)\n",
            " |-- review_date: string (nullable = true)\n",
            "\n"
          ],
          "name": "stdout"
        }
      ]
    },
    {
      "cell_type": "code",
      "metadata": {
        "id": "cksd66Xrq4Es"
      },
      "source": [
        "# Transform date column in datetime data type\n"
      ],
      "execution_count": 39,
      "outputs": []
    },
    {
      "cell_type": "markdown",
      "metadata": {
        "id": "9BS4hnNCpJFX"
      },
      "source": [
        "# For additional data on other products segments:\n",
        "https://s3.amazonaws.com/amazon-reviews-pds/tsv/index.txt"
      ]
    }
  ]
}
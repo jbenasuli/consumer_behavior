{
  "nbformat": 4,
  "nbformat_minor": 0,
  "metadata": {
    "colab": {
      "name": "AmazonDatabase.ipynb",
      "provenance": [],
      "authorship_tag": "ABX9TyNeTdP+gnOn2LtcQ7P5riQS",
      "include_colab_link": true
    },
    "kernelspec": {
      "name": "python3",
      "display_name": "Python 3"
    },
    "language_info": {
      "name": "python"
    }
  },
  "cells": [
    {
      "cell_type": "markdown",
      "metadata": {
        "id": "view-in-github",
        "colab_type": "text"
      },
      "source": [
        "<a href=\"https://colab.research.google.com/github/jbenasuli/final_project/blob/livia-branch/AmazonDatabase.ipynb\" target=\"_parent\"><img src=\"https://colab.research.google.com/assets/colab-badge.svg\" alt=\"Open In Colab\"/></a>"
      ]
    },
    {
      "cell_type": "code",
      "metadata": {
        "colab": {
          "base_uri": "https://localhost:8080/"
        },
        "id": "--62cFcbYSE8",
        "outputId": "ec94918b-a3ca-4164-9dd0-461e3b0f57f1"
      },
      "source": [
        "import os\n",
        "# Find the latest version of spark 2.0  from http://www-us.apache.org/dist/spark/ and enter as the spark version\n",
        "# For example:\n",
        "# spark_version = 'spark-3.0.0'\n",
        "spark_version = 'spark-3.1.1'\n",
        "os.environ['SPARK_VERSION']=spark_version\n",
        "\n",
        "# Install Spark and Java\n",
        "!apt-get update\n",
        "!apt-get install openjdk-11-jdk-headless -qq > /dev/null\n",
        "!wget -q http://www-us.apache.org/dist/spark/$SPARK_VERSION/$SPARK_VERSION-bin-hadoop2.7.tgz\n",
        "!tar xf $SPARK_VERSION-bin-hadoop2.7.tgz\n",
        "!pip install -q findspark\n",
        "\n",
        "# Set Environment Variables\n",
        "import os\n",
        "os.environ[\"JAVA_HOME\"] = \"/usr/lib/jvm/java-11-openjdk-amd64\"\n",
        "os.environ[\"SPARK_HOME\"] = f\"/content/{spark_version}-bin-hadoop2.7\"\n",
        "\n",
        "# Start a SparkSession\n",
        "import findspark\n",
        "findspark.init()"
      ],
      "execution_count": 1,
      "outputs": [
        {
          "output_type": "stream",
          "text": [
            "Get:1 http://security.ubuntu.com/ubuntu bionic-security InRelease [88.7 kB]\n",
            "Hit:2 https://cloud.r-project.org/bin/linux/ubuntu bionic-cran40/ InRelease\n",
            "Ign:3 https://developer.download.nvidia.com/compute/cuda/repos/ubuntu1804/x86_64  InRelease\n",
            "Hit:4 http://archive.ubuntu.com/ubuntu bionic InRelease\n",
            "Hit:5 http://ppa.launchpad.net/c2d4u.team/c2d4u4.0+/ubuntu bionic InRelease\n",
            "Ign:6 https://developer.download.nvidia.com/compute/machine-learning/repos/ubuntu1804/x86_64  InRelease\n",
            "Hit:7 https://developer.download.nvidia.com/compute/cuda/repos/ubuntu1804/x86_64  Release\n",
            "Hit:8 https://developer.download.nvidia.com/compute/machine-learning/repos/ubuntu1804/x86_64  Release\n",
            "Get:9 http://archive.ubuntu.com/ubuntu bionic-updates InRelease [88.7 kB]\n",
            "Hit:10 http://ppa.launchpad.net/cran/libgit2/ubuntu bionic InRelease\n",
            "Hit:11 http://ppa.launchpad.net/deadsnakes/ppa/ubuntu bionic InRelease\n",
            "Get:12 http://archive.ubuntu.com/ubuntu bionic-backports InRelease [74.6 kB]\n",
            "Hit:13 http://ppa.launchpad.net/graphics-drivers/ppa/ubuntu bionic InRelease\n",
            "Fetched 252 kB in 3s (99.9 kB/s)\n",
            "Reading package lists... Done\n"
          ],
          "name": "stdout"
        }
      ]
    },
    {
      "cell_type": "code",
      "metadata": {
        "id": "2sPcAshzYUid"
      },
      "source": [
        "from pyspark.sql import SparkSession\n",
        "spark = SparkSession.builder.appName(\"BigData-Challenge\").config(\"spark.driver.extraClassPath\",\"/content/postgresql-42.2.16.jar\").getOrCreate()"
      ],
      "execution_count": 2,
      "outputs": []
    },
    {
      "cell_type": "code",
      "metadata": {
        "colab": {
          "base_uri": "https://localhost:8080/"
        },
        "id": "z-I8SYtVYWUM",
        "outputId": "cc457f00-6689-460f-c33c-bb6e928f0e2f"
      },
      "source": [
        "#1 Selected furniture data\n",
        "from pyspark import SparkFiles\n",
        "url = \"https://s3.amazonaws.com/amazon-reviews-pds/tsv/amazon_reviews_us_Furniture_v1_00.tsv.gz\"\n",
        "spark.sparkContext.addFile(url)\n",
        "df_furniture = spark.read.option(\"encoding\", \"UTF-8\").csv(SparkFiles.get(\"\"), sep=\"\\t\", header=True, inferSchema=True)\n",
        "df_furniture.show()\n",
        "print((df_furniture.count(), len(df_furniture.columns)))"
      ],
      "execution_count": 3,
      "outputs": [
        {
          "output_type": "stream",
          "text": [
            "+-----------+-----------+--------------+----------+--------------+--------------------+----------------+-----------+-------------+-----------+----+-----------------+--------------------+--------------------+-----------+\n",
            "|marketplace|customer_id|     review_id|product_id|product_parent|       product_title|product_category|star_rating|helpful_votes|total_votes|vine|verified_purchase|     review_headline|         review_body|review_date|\n",
            "+-----------+-----------+--------------+----------+--------------+--------------------+----------------+-----------+-------------+-----------+----+-----------------+--------------------+--------------------+-----------+\n",
            "|         US|   24509695|R3VR960AHLFKDV|B004HB5E0E|     488241329|Shoal Creek Compu...|       Furniture|          4|            0|          0|   N|                Y|... desk is very ...|This desk is very...| 2015-08-31|\n",
            "|         US|   34731776|R16LGVMFKIUT0G|B0042TNMMS|     205864445|Dorel Home Produc...|       Furniture|          5|            0|          0|   N|                Y|          Five Stars|          Great item| 2015-08-31|\n",
            "|         US|    1272331|R1AIMEEPYHMOE4|B0030MPBZ4|     124663823|Bathroom Vanity T...|       Furniture|          5|            1|          1|   N|                Y|          Five Stars|Perfect fit for m...| 2015-08-31|\n",
            "|         US|   45284262|R1892CCSZWZ9SR|B005G02ESA|     382367578|Sleep Master Ulti...|       Furniture|          3|            0|          0|   N|                Y|         Good enough|We use this on a ...| 2015-08-31|\n",
            "|         US|   30003523|R285P679YWVKD1|B005JS8AUA|     309497463|1 1/4\" GashGuards...|       Furniture|          3|            0|          0|   N|                N|Gash Gards for da...|The product is fi...| 2015-08-31|\n",
            "|         US|   18311821| RLB33HJBXHZHU|B00AVUQQGQ|     574537906|Serta Bonded Leat...|       Furniture|          5|            0|          0|   N|                Y|          Five Stars|Love this product...| 2015-08-31|\n",
            "|         US|   42943632|R1VGTZ94DBAD6A|B00CFY20GQ|     407473883|Prepac Shoe Stora...|       Furniture|          5|            2|          2|   N|                Y|   I love this bench|I love this bench...| 2015-08-31|\n",
            "|         US|   43157304|R168KF82ICSOHD|B00FKC48QA|     435120460|HomCom PU Leather...|       Furniture|          5|            0|          0|   N|                Y|Great storage cap...|Have had this for...| 2015-08-31|\n",
            "|         US|   51918480|R20DIYIJ0OCMOG|B00N9IAL9K|     356495985|  Folding Step Stool|       Furniture|          5|            0|          0|   N|                Y|This is the best ...|This is the best ...| 2015-08-31|\n",
            "|         US|   14522766| RD46RNVOHNZSC|B001T4XU1C|     243050228|Ace Bayou Adult V...|       Furniture|          5|            0|          0|   N|                Y|    great for price!|    my son loves it!| 2015-08-31|\n",
            "|         US|   43054112|R2JDOCETTM3AXS|B002HRFLBC|      93574483|4D Concepts Audio...|       Furniture|          5|            0|          0|   N|                Y|          Five Stars|       Great product| 2015-08-31|\n",
            "|         US|   26622950|R33YMW36IDZ6LE|B006MISZOC|     941823468|Zinus SC-SBBK-14N...|       Furniture|          5|            0|          0|   N|                Y|             perfect|bought with sleep...| 2015-08-31|\n",
            "|         US|   17988940|R30ZGGUHZ04C1S|B008BMGABC|     460567746|Poundex Marble Di...|       Furniture|          5|            1|          1|   N|                Y|   Very satisfied!!!|Delivery was on t...| 2015-08-31|\n",
            "|         US|   18444952| RS2EZU76IK2BT|B00CO2VH5Y|     829613894|Safavieh Lyndhurs...|       Furniture|          5|            0|          0|   N|                Y|soft and great fo...|Exactly as pictur...| 2015-08-31|\n",
            "|         US|   16937084|R1GJC1BP028XO9|B00LI4RJQ0|     816478187|Sauder Boone Moun...|       Furniture|          5|            2|          3|   N|                Y|        Great table.|Beautiful table. ...| 2015-08-31|\n",
            "|         US|   23665632|R2VKJPGXXEK5GP|B0046EC1D0|     358594389|Winsome Wood Brea...|       Furniture|          1|            0|          0|   N|                Y|Not what I expect...|I have cleaned up...| 2015-08-31|\n",
            "|         US|    4110125|R17KS83G3KLT97|B00DQQPL36|     312571325|HODEDAH IMPORT Me...|       Furniture|          3|            0|          0|   N|                Y|         Three Stars|First one came in...| 2015-08-31|\n",
            "|         US|     107621|R3PQL8SR4NEHWL|B003X7RWB2|     402665054|Flash Furniture H...|       Furniture|          4|            0|          0|   N|                Y|          Four Stars|Good deal to get ...| 2015-08-31|\n",
            "|         US|    2415090|R2F5WW7WNO5RRG|B001TJYPJ8|     854989315|Sleep Revolution ...|       Furniture|          5|            0|          0|   N|                Y|          Five Stars|Comfortable and e...| 2015-08-31|\n",
            "|         US|   48285966|R3UDJKVWQCFIC9|B000TMHX9A|     814079288|Flash Furniture V...|       Furniture|          5|            0|          0|   N|                Y|Very comfortable....|As advertised. Ve...| 2015-08-31|\n",
            "+-----------+-----------+--------------+----------+--------------+--------------------+----------------+-----------+-------------+-----------+----+-----------------+--------------------+--------------------+-----------+\n",
            "only showing top 20 rows\n",
            "\n",
            "(792113, 15)\n"
          ],
          "name": "stdout"
        }
      ]
    },
    {
      "cell_type": "code",
      "metadata": {
        "colab": {
          "base_uri": "https://localhost:8080/"
        },
        "id": "ujT5AprMYXTW",
        "outputId": "21854944-d8be-45d0-bf9b-8152bfe599d1"
      },
      "source": [
        "#2 Selected personal care applianaces\n",
        "url = \"https://s3.amazonaws.com/amazon-reviews-pds/tsv/amazon_reviews_us_Personal_Care_Appliances_v1_00.tsv.gz\"\n",
        "spark.sparkContext.addFile(url)\n",
        "df_personal_care = spark.read.option(\"encoding\", \"UTF-8\").csv(SparkFiles.get(\"\"), sep=\"\\t\", header=True, inferSchema=True)\n",
        "print((df_personal_care.count(), len(df_personal_care.columns)))"
      ],
      "execution_count": 4,
      "outputs": [
        {
          "output_type": "stream",
          "text": [
            "(878094, 15)\n"
          ],
          "name": "stdout"
        }
      ]
    },
    {
      "cell_type": "code",
      "metadata": {
        "colab": {
          "base_uri": "https://localhost:8080/"
        },
        "id": "XfJEG8l0YcaG",
        "outputId": "1937048d-eeb7-41ff-f646-14994f266c4c"
      },
      "source": [
        "#3 Selected office products\n",
        "url = \"https://s3.amazonaws.com/amazon-reviews-pds/tsv/amazon_reviews_us_Office_Products_v1_00.tsv.gz\"\n",
        "spark.sparkContext.addFile(url)\n",
        "df_office = spark.read.option(\"encoding\", \"UTF-8\").csv(SparkFiles.get(\"\"), sep=\"\\t\", header=True, inferSchema=True)\n",
        "print((df_office.count(), len(df_office.columns)))"
      ],
      "execution_count": 5,
      "outputs": [
        {
          "output_type": "stream",
          "text": [
            "(3520528, 15)\n"
          ],
          "name": "stdout"
        }
      ]
    },
    {
      "cell_type": "code",
      "metadata": {
        "colab": {
          "base_uri": "https://localhost:8080/"
        },
        "id": "gVCDJt_PYez2",
        "outputId": "e6b880c3-5cae-4219-beef-95edbd899901"
      },
      "source": [
        "#4 Selected apparel products\n",
        "url = \"https://s3.amazonaws.com/amazon-reviews-pds/tsv/amazon_reviews_us_Apparel_v1_00.tsv.gz\"\n",
        "spark.sparkContext.addFile(url)\n",
        "df_apparel = spark.read.option(\"encoding\", \"UTF-8\").csv(SparkFiles.get(\"\"), sep=\"\\t\", header=True, inferSchema=True)\n",
        "print((df_apparel.count(), len(df_apparel.columns)))"
      ],
      "execution_count": 6,
      "outputs": [
        {
          "output_type": "stream",
          "text": [
            "(9426861, 15)\n"
          ],
          "name": "stdout"
        }
      ]
    },
    {
      "cell_type": "code",
      "metadata": {
        "colab": {
          "base_uri": "https://localhost:8080/"
        },
        "id": "VeHFEUqGYhZu",
        "outputId": "3ee4afa3-ec4f-449b-a332-d9f378ce5007"
      },
      "source": [
        "#5 Selected home products\n",
        "url = \"https://s3.amazonaws.com/amazon-reviews-pds/tsv/amazon_reviews_us_Home_v1_00.tsv.gz\"\n",
        "spark.sparkContext.addFile(url)\n",
        "df_home = spark.read.option(\"encoding\", \"UTF-8\").csv(SparkFiles.get(\"\"), sep=\"\\t\", header=True, inferSchema=True)\n",
        "print((df_home.count(), len(df_home.columns)))"
      ],
      "execution_count": 7,
      "outputs": [
        {
          "output_type": "stream",
          "text": [
            "(15648420, 15)\n"
          ],
          "name": "stdout"
        }
      ]
    },
    {
      "cell_type": "code",
      "metadata": {
        "colab": {
          "base_uri": "https://localhost:8080/"
        },
        "id": "3jvpBQlvYj5S",
        "outputId": "ccdf597b-6b35-4af5-9588-b178c32a6cfd"
      },
      "source": [
        "#6 Merge databases\n",
        "from functools import reduce  # For Python 3.x\n",
        "from pyspark.sql import DataFrame\n",
        "\n",
        "def unionAll(*dfs):\n",
        "    return reduce(DataFrame.unionAll, dfs)\n",
        "\n",
        "df_merge = unionAll(df_furniture, df_personal_care, df_office, df_apparel, df_home)\n",
        "df_merge.show()\n",
        "\n",
        "print((df_merge.count(), len(df_merge.columns)))"
      ],
      "execution_count": 8,
      "outputs": [
        {
          "output_type": "stream",
          "text": [
            "+-----------+-----------+--------------+----------+--------------+--------------------+----------------+-----------+-------------+-----------+----+-----------------+--------------------+--------------------+-----------+\n",
            "|marketplace|customer_id|     review_id|product_id|product_parent|       product_title|product_category|star_rating|helpful_votes|total_votes|vine|verified_purchase|     review_headline|         review_body|review_date|\n",
            "+-----------+-----------+--------------+----------+--------------+--------------------+----------------+-----------+-------------+-----------+----+-----------------+--------------------+--------------------+-----------+\n",
            "|         US|   24509695|R3VR960AHLFKDV|B004HB5E0E|     488241329|Shoal Creek Compu...|       Furniture|          4|            0|          0|   N|                Y|... desk is very ...|This desk is very...| 2015-08-31|\n",
            "|         US|   34731776|R16LGVMFKIUT0G|B0042TNMMS|     205864445|Dorel Home Produc...|       Furniture|          5|            0|          0|   N|                Y|          Five Stars|          Great item| 2015-08-31|\n",
            "|         US|    1272331|R1AIMEEPYHMOE4|B0030MPBZ4|     124663823|Bathroom Vanity T...|       Furniture|          5|            1|          1|   N|                Y|          Five Stars|Perfect fit for m...| 2015-08-31|\n",
            "|         US|   45284262|R1892CCSZWZ9SR|B005G02ESA|     382367578|Sleep Master Ulti...|       Furniture|          3|            0|          0|   N|                Y|         Good enough|We use this on a ...| 2015-08-31|\n",
            "|         US|   30003523|R285P679YWVKD1|B005JS8AUA|     309497463|1 1/4\" GashGuards...|       Furniture|          3|            0|          0|   N|                N|Gash Gards for da...|The product is fi...| 2015-08-31|\n",
            "|         US|   18311821| RLB33HJBXHZHU|B00AVUQQGQ|     574537906|Serta Bonded Leat...|       Furniture|          5|            0|          0|   N|                Y|          Five Stars|Love this product...| 2015-08-31|\n",
            "|         US|   42943632|R1VGTZ94DBAD6A|B00CFY20GQ|     407473883|Prepac Shoe Stora...|       Furniture|          5|            2|          2|   N|                Y|   I love this bench|I love this bench...| 2015-08-31|\n",
            "|         US|   43157304|R168KF82ICSOHD|B00FKC48QA|     435120460|HomCom PU Leather...|       Furniture|          5|            0|          0|   N|                Y|Great storage cap...|Have had this for...| 2015-08-31|\n",
            "|         US|   51918480|R20DIYIJ0OCMOG|B00N9IAL9K|     356495985|  Folding Step Stool|       Furniture|          5|            0|          0|   N|                Y|This is the best ...|This is the best ...| 2015-08-31|\n",
            "|         US|   14522766| RD46RNVOHNZSC|B001T4XU1C|     243050228|Ace Bayou Adult V...|       Furniture|          5|            0|          0|   N|                Y|    great for price!|    my son loves it!| 2015-08-31|\n",
            "|         US|   43054112|R2JDOCETTM3AXS|B002HRFLBC|      93574483|4D Concepts Audio...|       Furniture|          5|            0|          0|   N|                Y|          Five Stars|       Great product| 2015-08-31|\n",
            "|         US|   26622950|R33YMW36IDZ6LE|B006MISZOC|     941823468|Zinus SC-SBBK-14N...|       Furniture|          5|            0|          0|   N|                Y|             perfect|bought with sleep...| 2015-08-31|\n",
            "|         US|   17988940|R30ZGGUHZ04C1S|B008BMGABC|     460567746|Poundex Marble Di...|       Furniture|          5|            1|          1|   N|                Y|   Very satisfied!!!|Delivery was on t...| 2015-08-31|\n",
            "|         US|   18444952| RS2EZU76IK2BT|B00CO2VH5Y|     829613894|Safavieh Lyndhurs...|       Furniture|          5|            0|          0|   N|                Y|soft and great fo...|Exactly as pictur...| 2015-08-31|\n",
            "|         US|   16937084|R1GJC1BP028XO9|B00LI4RJQ0|     816478187|Sauder Boone Moun...|       Furniture|          5|            2|          3|   N|                Y|        Great table.|Beautiful table. ...| 2015-08-31|\n",
            "|         US|   23665632|R2VKJPGXXEK5GP|B0046EC1D0|     358594389|Winsome Wood Brea...|       Furniture|          1|            0|          0|   N|                Y|Not what I expect...|I have cleaned up...| 2015-08-31|\n",
            "|         US|    4110125|R17KS83G3KLT97|B00DQQPL36|     312571325|HODEDAH IMPORT Me...|       Furniture|          3|            0|          0|   N|                Y|         Three Stars|First one came in...| 2015-08-31|\n",
            "|         US|     107621|R3PQL8SR4NEHWL|B003X7RWB2|     402665054|Flash Furniture H...|       Furniture|          4|            0|          0|   N|                Y|          Four Stars|Good deal to get ...| 2015-08-31|\n",
            "|         US|    2415090|R2F5WW7WNO5RRG|B001TJYPJ8|     854989315|Sleep Revolution ...|       Furniture|          5|            0|          0|   N|                Y|          Five Stars|Comfortable and e...| 2015-08-31|\n",
            "|         US|   48285966|R3UDJKVWQCFIC9|B000TMHX9A|     814079288|Flash Furniture V...|       Furniture|          5|            0|          0|   N|                Y|Very comfortable....|As advertised. Ve...| 2015-08-31|\n",
            "+-----------+-----------+--------------+----------+--------------+--------------------+----------------+-----------+-------------+-----------+----+-----------------+--------------------+--------------------+-----------+\n",
            "only showing top 20 rows\n",
            "\n",
            "(30266016, 15)\n"
          ],
          "name": "stdout"
        }
      ]
    },
    {
      "cell_type": "code",
      "metadata": {
        "id": "0N5K-FfSYn8K"
      },
      "source": [
        "#7 Only considering verified purchases\n",
        "df_merge = df_merge.filter(df_merge.verified_purchase == \"Y\")"
      ],
      "execution_count": 9,
      "outputs": []
    },
    {
      "cell_type": "code",
      "metadata": {
        "colab": {
          "base_uri": "https://localhost:8080/"
        },
        "id": "oWurbCx_Yqmx",
        "outputId": "3753c5c6-4940-474b-8162-654f140deacf"
      },
      "source": [
        "#8 Drop the non-beneficial columns\n",
        "columns_to_drop = [\"marketplace\",\"review_id\",\"product_parent\",\"star_rating\",\"helpful_votes\",\"total_votes\",\"vine\",\"review_headline\",\"review_body\",\"verified_purchase\"]\n",
        "\n",
        "df_merge = df_merge.drop(*columns_to_drop)\n",
        "df_merge.show()\n",
        "\n",
        "print((df_merge.count(), len(df_merge.columns)))"
      ],
      "execution_count": 10,
      "outputs": [
        {
          "output_type": "stream",
          "text": [
            "+-----------+----------+--------------------+----------------+-----------+\n",
            "|customer_id|product_id|       product_title|product_category|review_date|\n",
            "+-----------+----------+--------------------+----------------+-----------+\n",
            "|   24509695|B004HB5E0E|Shoal Creek Compu...|       Furniture| 2015-08-31|\n",
            "|   34731776|B0042TNMMS|Dorel Home Produc...|       Furniture| 2015-08-31|\n",
            "|    1272331|B0030MPBZ4|Bathroom Vanity T...|       Furniture| 2015-08-31|\n",
            "|   45284262|B005G02ESA|Sleep Master Ulti...|       Furniture| 2015-08-31|\n",
            "|   18311821|B00AVUQQGQ|Serta Bonded Leat...|       Furniture| 2015-08-31|\n",
            "|   42943632|B00CFY20GQ|Prepac Shoe Stora...|       Furniture| 2015-08-31|\n",
            "|   43157304|B00FKC48QA|HomCom PU Leather...|       Furniture| 2015-08-31|\n",
            "|   51918480|B00N9IAL9K|  Folding Step Stool|       Furniture| 2015-08-31|\n",
            "|   14522766|B001T4XU1C|Ace Bayou Adult V...|       Furniture| 2015-08-31|\n",
            "|   43054112|B002HRFLBC|4D Concepts Audio...|       Furniture| 2015-08-31|\n",
            "|   26622950|B006MISZOC|Zinus SC-SBBK-14N...|       Furniture| 2015-08-31|\n",
            "|   17988940|B008BMGABC|Poundex Marble Di...|       Furniture| 2015-08-31|\n",
            "|   18444952|B00CO2VH5Y|Safavieh Lyndhurs...|       Furniture| 2015-08-31|\n",
            "|   16937084|B00LI4RJQ0|Sauder Boone Moun...|       Furniture| 2015-08-31|\n",
            "|   23665632|B0046EC1D0|Winsome Wood Brea...|       Furniture| 2015-08-31|\n",
            "|    4110125|B00DQQPL36|HODEDAH IMPORT Me...|       Furniture| 2015-08-31|\n",
            "|     107621|B003X7RWB2|Flash Furniture H...|       Furniture| 2015-08-31|\n",
            "|    2415090|B001TJYPJ8|Sleep Revolution ...|       Furniture| 2015-08-31|\n",
            "|   48285966|B000TMHX9A|Flash Furniture V...|       Furniture| 2015-08-31|\n",
            "|   33228559|B005MZBB2O|Amelia Floral Mut...|       Furniture| 2015-08-31|\n",
            "+-----------+----------+--------------------+----------------+-----------+\n",
            "only showing top 20 rows\n",
            "\n",
            "(26788263, 5)\n"
          ],
          "name": "stdout"
        }
      ]
    },
    {
      "cell_type": "code",
      "metadata": {
        "colab": {
          "base_uri": "https://localhost:8080/"
        },
        "id": "b9Me_J03YsVi",
        "outputId": "b851acef-f922-4b47-d502-33f84c5aefd0"
      },
      "source": [
        "#9 Get datatypes\n",
        "df_merge.printSchema()"
      ],
      "execution_count": 11,
      "outputs": [
        {
          "output_type": "stream",
          "text": [
            "root\n",
            " |-- customer_id: integer (nullable = true)\n",
            " |-- product_id: string (nullable = true)\n",
            " |-- product_title: string (nullable = true)\n",
            " |-- product_category: string (nullable = true)\n",
            " |-- review_date: string (nullable = true)\n",
            "\n"
          ],
          "name": "stdout"
        }
      ]
    },
    {
      "cell_type": "code",
      "metadata": {
        "colab": {
          "base_uri": "https://localhost:8080/"
        },
        "id": "5QzDlaFgYtu8",
        "outputId": "0f2fe584-2f69-4ace-9446-af156c8d179e"
      },
      "source": [
        "#10 Convert date from string to datetime\n",
        "from pyspark.sql.types import *\n",
        "df_merge = df_merge.withColumn(\"review_date\", df_merge[\"review_date\"].cast(DateType()))\n",
        "\n",
        "df_merge.printSchema()\n",
        "df_merge.show()"
      ],
      "execution_count": 12,
      "outputs": [
        {
          "output_type": "stream",
          "text": [
            "root\n",
            " |-- customer_id: integer (nullable = true)\n",
            " |-- product_id: string (nullable = true)\n",
            " |-- product_title: string (nullable = true)\n",
            " |-- product_category: string (nullable = true)\n",
            " |-- review_date: date (nullable = true)\n",
            "\n",
            "+-----------+----------+--------------------+----------------+-----------+\n",
            "|customer_id|product_id|       product_title|product_category|review_date|\n",
            "+-----------+----------+--------------------+----------------+-----------+\n",
            "|   24509695|B004HB5E0E|Shoal Creek Compu...|       Furniture| 2015-08-31|\n",
            "|   34731776|B0042TNMMS|Dorel Home Produc...|       Furniture| 2015-08-31|\n",
            "|    1272331|B0030MPBZ4|Bathroom Vanity T...|       Furniture| 2015-08-31|\n",
            "|   45284262|B005G02ESA|Sleep Master Ulti...|       Furniture| 2015-08-31|\n",
            "|   18311821|B00AVUQQGQ|Serta Bonded Leat...|       Furniture| 2015-08-31|\n",
            "|   42943632|B00CFY20GQ|Prepac Shoe Stora...|       Furniture| 2015-08-31|\n",
            "|   43157304|B00FKC48QA|HomCom PU Leather...|       Furniture| 2015-08-31|\n",
            "|   51918480|B00N9IAL9K|  Folding Step Stool|       Furniture| 2015-08-31|\n",
            "|   14522766|B001T4XU1C|Ace Bayou Adult V...|       Furniture| 2015-08-31|\n",
            "|   43054112|B002HRFLBC|4D Concepts Audio...|       Furniture| 2015-08-31|\n",
            "|   26622950|B006MISZOC|Zinus SC-SBBK-14N...|       Furniture| 2015-08-31|\n",
            "|   17988940|B008BMGABC|Poundex Marble Di...|       Furniture| 2015-08-31|\n",
            "|   18444952|B00CO2VH5Y|Safavieh Lyndhurs...|       Furniture| 2015-08-31|\n",
            "|   16937084|B00LI4RJQ0|Sauder Boone Moun...|       Furniture| 2015-08-31|\n",
            "|   23665632|B0046EC1D0|Winsome Wood Brea...|       Furniture| 2015-08-31|\n",
            "|    4110125|B00DQQPL36|HODEDAH IMPORT Me...|       Furniture| 2015-08-31|\n",
            "|     107621|B003X7RWB2|Flash Furniture H...|       Furniture| 2015-08-31|\n",
            "|    2415090|B001TJYPJ8|Sleep Revolution ...|       Furniture| 2015-08-31|\n",
            "|   48285966|B000TMHX9A|Flash Furniture V...|       Furniture| 2015-08-31|\n",
            "|   33228559|B005MZBB2O|Amelia Floral Mut...|       Furniture| 2015-08-31|\n",
            "+-----------+----------+--------------------+----------------+-----------+\n",
            "only showing top 20 rows\n",
            "\n"
          ],
          "name": "stdout"
        }
      ]
    },
    {
      "cell_type": "code",
      "metadata": {
        "colab": {
          "base_uri": "https://localhost:8080/"
        },
        "id": "pLODDwUEYv8w",
        "outputId": "7faa31e4-320f-4e24-c773-3b6686d58b03"
      },
      "source": [
        "#10 Create column with year\n",
        "from pyspark.sql.functions import year\n",
        "from pyspark.sql.functions import to_date\n",
        " \n",
        "df_merge = df_merge.withColumn(\"review_year\",year(df_merge.review_date))\n",
        "df_merge.show()"
      ],
      "execution_count": 13,
      "outputs": [
        {
          "output_type": "stream",
          "text": [
            "+-----------+----------+--------------------+----------------+-----------+-----------+\n",
            "|customer_id|product_id|       product_title|product_category|review_date|review_year|\n",
            "+-----------+----------+--------------------+----------------+-----------+-----------+\n",
            "|   24509695|B004HB5E0E|Shoal Creek Compu...|       Furniture| 2015-08-31|       2015|\n",
            "|   34731776|B0042TNMMS|Dorel Home Produc...|       Furniture| 2015-08-31|       2015|\n",
            "|    1272331|B0030MPBZ4|Bathroom Vanity T...|       Furniture| 2015-08-31|       2015|\n",
            "|   45284262|B005G02ESA|Sleep Master Ulti...|       Furniture| 2015-08-31|       2015|\n",
            "|   18311821|B00AVUQQGQ|Serta Bonded Leat...|       Furniture| 2015-08-31|       2015|\n",
            "|   42943632|B00CFY20GQ|Prepac Shoe Stora...|       Furniture| 2015-08-31|       2015|\n",
            "|   43157304|B00FKC48QA|HomCom PU Leather...|       Furniture| 2015-08-31|       2015|\n",
            "|   51918480|B00N9IAL9K|  Folding Step Stool|       Furniture| 2015-08-31|       2015|\n",
            "|   14522766|B001T4XU1C|Ace Bayou Adult V...|       Furniture| 2015-08-31|       2015|\n",
            "|   43054112|B002HRFLBC|4D Concepts Audio...|       Furniture| 2015-08-31|       2015|\n",
            "|   26622950|B006MISZOC|Zinus SC-SBBK-14N...|       Furniture| 2015-08-31|       2015|\n",
            "|   17988940|B008BMGABC|Poundex Marble Di...|       Furniture| 2015-08-31|       2015|\n",
            "|   18444952|B00CO2VH5Y|Safavieh Lyndhurs...|       Furniture| 2015-08-31|       2015|\n",
            "|   16937084|B00LI4RJQ0|Sauder Boone Moun...|       Furniture| 2015-08-31|       2015|\n",
            "|   23665632|B0046EC1D0|Winsome Wood Brea...|       Furniture| 2015-08-31|       2015|\n",
            "|    4110125|B00DQQPL36|HODEDAH IMPORT Me...|       Furniture| 2015-08-31|       2015|\n",
            "|     107621|B003X7RWB2|Flash Furniture H...|       Furniture| 2015-08-31|       2015|\n",
            "|    2415090|B001TJYPJ8|Sleep Revolution ...|       Furniture| 2015-08-31|       2015|\n",
            "|   48285966|B000TMHX9A|Flash Furniture V...|       Furniture| 2015-08-31|       2015|\n",
            "|   33228559|B005MZBB2O|Amelia Floral Mut...|       Furniture| 2015-08-31|       2015|\n",
            "+-----------+----------+--------------------+----------------+-----------+-----------+\n",
            "only showing top 20 rows\n",
            "\n"
          ],
          "name": "stdout"
        }
      ]
    },
    {
      "cell_type": "code",
      "metadata": {
        "colab": {
          "base_uri": "https://localhost:8080/"
        },
        "id": "B1TjDf_yYyRR",
        "outputId": "5800f76e-19b8-45f7-a92c-f06f9b610fe2"
      },
      "source": [
        "#11 Create a table to count data rows per year\n",
        "row_year_table = df_merge.groupby(\"review_year\").agg({\"review_year\":\"count\"}).withColumnRenamed(\"count(review_year)\", \"year_count\")\n",
        "row_year_table.sort(row_year_table.review_year.desc()).show(truncate=False)"
      ],
      "execution_count": 14,
      "outputs": [
        {
          "output_type": "stream",
          "text": [
            "+-----------+----------+\n",
            "|review_year|year_count|\n",
            "+-----------+----------+\n",
            "|2015       |10159789  |\n",
            "|2014       |8613535   |\n",
            "|2013       |4717096   |\n",
            "|2012       |1616030   |\n",
            "|2011       |808013    |\n",
            "|2010       |442625    |\n",
            "|2009       |198524    |\n",
            "|2008       |103916    |\n",
            "|2007       |77769     |\n",
            "|2006       |20737     |\n",
            "|2005       |10626     |\n",
            "|2004       |5216      |\n",
            "|2003       |5299      |\n",
            "|2002       |3468      |\n",
            "|2001       |2736      |\n",
            "|2000       |1462      |\n",
            "|1999       |123       |\n",
            "|null       |0         |\n",
            "+-----------+----------+\n",
            "\n"
          ],
          "name": "stdout"
        }
      ]
    },
    {
      "cell_type": "code",
      "metadata": {
        "colab": {
          "base_uri": "https://localhost:8080/"
        },
        "id": "ixqknUY2Y2UB",
        "outputId": "52b4b344-38aa-43c5-f921-c1819071f00e"
      },
      "source": [
        "#12 Only considering 2010 data for week 1\n",
        "df_merge = df_merge.filter(df_merge.review_year == \"2010\")\n",
        "print((df_merge.count(), len(df_merge.columns)))"
      ],
      "execution_count": 15,
      "outputs": [
        {
          "output_type": "stream",
          "text": [
            "(442625, 6)\n"
          ],
          "name": "stdout"
        }
      ]
    },
    {
      "cell_type": "code",
      "metadata": {
        "id": "JaR8Cq-WfGFr"
      },
      "source": [
        "#13 Create table with customer_IDs and products bought (as  row)\n",
        "# This method didn't work, there's a limit of 10,000 distinct values in pyspark\n",
        "\n",
        "# summary_table = df_merge.groupby(\"customer_id\").pivot(\"product_id\").count()\n",
        "# summary_table.show()"
      ],
      "execution_count": 16,
      "outputs": []
    },
    {
      "cell_type": "code",
      "metadata": {
        "id": "3euX8NejqMG_"
      },
      "source": [
        "#14 Convert Pyspark dataframe into panda df\n",
        "df_week1 = df_merge.toPandas()"
      ],
      "execution_count": 17,
      "outputs": []
    },
    {
      "cell_type": "code",
      "metadata": {
        "colab": {
          "base_uri": "https://localhost:8080/"
        },
        "id": "KO5qvh5D5tuq",
        "outputId": "35b071c0-37df-4e95-ac40-7ef15d81bc4b"
      },
      "source": [
        "#15 Save file in my drive\n",
        "from google.colab import drive\n",
        "drive.mount('drive')\n",
        "\n",
        "df_week1.to_csv('data.csv')\n",
        "!cp data.csv \"drive/My Drive/\""
      ],
      "execution_count": 19,
      "outputs": [
        {
          "output_type": "stream",
          "text": [
            "Drive already mounted at drive; to attempt to forcibly remount, call drive.mount(\"drive\", force_remount=True).\n"
          ],
          "name": "stdout"
        }
      ]
    },
    {
      "cell_type": "code",
      "metadata": {
        "colab": {
          "base_uri": "https://localhost:8080/",
          "height": 419
        },
        "id": "AySH2KUxrCn1",
        "outputId": "ebc6cd55-6fcc-4be1-bed7-b57465fbf350"
      },
      "source": [
        "#16 Assume that every row represents that customer bought 1 item\n",
        "df_week1[\"Quantity\"] = 1\n",
        "df_week1"
      ],
      "execution_count": 20,
      "outputs": [
        {
          "output_type": "execute_result",
          "data": {
            "text/html": [
              "<div>\n",
              "<style scoped>\n",
              "    .dataframe tbody tr th:only-of-type {\n",
              "        vertical-align: middle;\n",
              "    }\n",
              "\n",
              "    .dataframe tbody tr th {\n",
              "        vertical-align: top;\n",
              "    }\n",
              "\n",
              "    .dataframe thead th {\n",
              "        text-align: right;\n",
              "    }\n",
              "</style>\n",
              "<table border=\"1\" class=\"dataframe\">\n",
              "  <thead>\n",
              "    <tr style=\"text-align: right;\">\n",
              "      <th></th>\n",
              "      <th>customer_id</th>\n",
              "      <th>product_id</th>\n",
              "      <th>product_title</th>\n",
              "      <th>product_category</th>\n",
              "      <th>review_date</th>\n",
              "      <th>review_year</th>\n",
              "      <th>Quantity</th>\n",
              "    </tr>\n",
              "  </thead>\n",
              "  <tbody>\n",
              "    <tr>\n",
              "      <th>0</th>\n",
              "      <td>13682848</td>\n",
              "      <td>B001GRNO68</td>\n",
              "      <td>ORE International Black 4 Panel Plum Blossom S...</td>\n",
              "      <td>Furniture</td>\n",
              "      <td>2010-12-31</td>\n",
              "      <td>2010</td>\n",
              "      <td>1</td>\n",
              "    </tr>\n",
              "    <tr>\n",
              "      <th>1</th>\n",
              "      <td>52516035</td>\n",
              "      <td>B003QCJHMQ</td>\n",
              "      <td>Winsome Wood Portland Umbrella Stand, Cappuccina</td>\n",
              "      <td>Furniture</td>\n",
              "      <td>2010-12-31</td>\n",
              "      <td>2010</td>\n",
              "      <td>1</td>\n",
              "    </tr>\n",
              "    <tr>\n",
              "      <th>2</th>\n",
              "      <td>19360779</td>\n",
              "      <td>B0012LYSG8</td>\n",
              "      <td>Tenley Occasional Table Set</td>\n",
              "      <td>Furniture</td>\n",
              "      <td>2010-12-31</td>\n",
              "      <td>2010</td>\n",
              "      <td>1</td>\n",
              "    </tr>\n",
              "    <tr>\n",
              "      <th>3</th>\n",
              "      <td>11362249</td>\n",
              "      <td>B000IHJF60</td>\n",
              "      <td>Tot Tutors WO697 Friends Collection Kids Book ...</td>\n",
              "      <td>Furniture</td>\n",
              "      <td>2010-12-31</td>\n",
              "      <td>2010</td>\n",
              "      <td>1</td>\n",
              "    </tr>\n",
              "    <tr>\n",
              "      <th>4</th>\n",
              "      <td>40561072</td>\n",
              "      <td>B001NMSD9Y</td>\n",
              "      <td>ITALMODERN Veronica Monitor Cart; Orange</td>\n",
              "      <td>Furniture</td>\n",
              "      <td>2010-12-31</td>\n",
              "      <td>2010</td>\n",
              "      <td>1</td>\n",
              "    </tr>\n",
              "    <tr>\n",
              "      <th>...</th>\n",
              "      <td>...</td>\n",
              "      <td>...</td>\n",
              "      <td>...</td>\n",
              "      <td>...</td>\n",
              "      <td>...</td>\n",
              "      <td>...</td>\n",
              "      <td>...</td>\n",
              "    </tr>\n",
              "    <tr>\n",
              "      <th>442620</th>\n",
              "      <td>14371548</td>\n",
              "      <td>B000LSUW6S</td>\n",
              "      <td>Braun Oral-B Sonic Complete Replacement Brushe...</td>\n",
              "      <td>Personal_Care_Appliances</td>\n",
              "      <td>2010-01-01</td>\n",
              "      <td>2010</td>\n",
              "      <td>1</td>\n",
              "    </tr>\n",
              "    <tr>\n",
              "      <th>442621</th>\n",
              "      <td>14812612</td>\n",
              "      <td>B001BYYCHQ</td>\n",
              "      <td>Walker or Wheelchair Bag</td>\n",
              "      <td>Personal_Care_Appliances</td>\n",
              "      <td>2010-01-01</td>\n",
              "      <td>2010</td>\n",
              "      <td>1</td>\n",
              "    </tr>\n",
              "    <tr>\n",
              "      <th>442622</th>\n",
              "      <td>13572974</td>\n",
              "      <td>B0013RQP08</td>\n",
              "      <td>Exergen temporal thermometer</td>\n",
              "      <td>Personal_Care_Appliances</td>\n",
              "      <td>2010-01-01</td>\n",
              "      <td>2010</td>\n",
              "      <td>1</td>\n",
              "    </tr>\n",
              "    <tr>\n",
              "      <th>442623</th>\n",
              "      <td>14395064</td>\n",
              "      <td>B001AHM29Y</td>\n",
              "      <td>Snore Stopper - Self-Adhesive Electrodes (1 pa...</td>\n",
              "      <td>Personal_Care_Appliances</td>\n",
              "      <td>2010-01-01</td>\n",
              "      <td>2010</td>\n",
              "      <td>1</td>\n",
              "    </tr>\n",
              "    <tr>\n",
              "      <th>442624</th>\n",
              "      <td>43655336</td>\n",
              "      <td>B00020Z2O2</td>\n",
              "      <td>Wahl 8 Pack Color-Coded Cutting Combs</td>\n",
              "      <td>Personal_Care_Appliances</td>\n",
              "      <td>2010-01-01</td>\n",
              "      <td>2010</td>\n",
              "      <td>1</td>\n",
              "    </tr>\n",
              "  </tbody>\n",
              "</table>\n",
              "<p>442625 rows × 7 columns</p>\n",
              "</div>"
            ],
            "text/plain": [
              "        customer_id  product_id  ... review_year Quantity\n",
              "0          13682848  B001GRNO68  ...        2010        1\n",
              "1          52516035  B003QCJHMQ  ...        2010        1\n",
              "2          19360779  B0012LYSG8  ...        2010        1\n",
              "3          11362249  B000IHJF60  ...        2010        1\n",
              "4          40561072  B001NMSD9Y  ...        2010        1\n",
              "...             ...         ...  ...         ...      ...\n",
              "442620     14371548  B000LSUW6S  ...        2010        1\n",
              "442621     14812612  B001BYYCHQ  ...        2010        1\n",
              "442622     13572974  B0013RQP08  ...        2010        1\n",
              "442623     14395064  B001AHM29Y  ...        2010        1\n",
              "442624     43655336  B00020Z2O2  ...        2010        1\n",
              "\n",
              "[442625 rows x 7 columns]"
            ]
          },
          "metadata": {
            "tags": []
          },
          "execution_count": 20
        }
      ]
    },
    {
      "cell_type": "code",
      "metadata": {
        "colab": {
          "base_uri": "https://localhost:8080/"
        },
        "id": "rOko5PY5dH5f",
        "outputId": "d09f74df-4c92-46d5-99fe-ac16c063ddcd"
      },
      "source": [
        "#17 Too many products to create table\n",
        "product_counts = df_week1.product_id.value_counts()\n",
        "product_counts"
      ],
      "execution_count": 21,
      "outputs": [
        {
          "output_type": "execute_result",
          "data": {
            "text/plain": [
              "B002GP7Z6Y    1242\n",
              "B002O3W4LE     870\n",
              "B0032AN4M6     780\n",
              "B001VD5E3S     606\n",
              "B001R4C5BK     591\n",
              "              ... \n",
              "B000F5496G       1\n",
              "B003TN0JCY       1\n",
              "B001TM8UX2       1\n",
              "B001S45SX6       1\n",
              "B000F5VHQQ       1\n",
              "Name: product_id, Length: 108486, dtype: int64"
            ]
          },
          "metadata": {
            "tags": []
          },
          "execution_count": 21
        }
      ]
    },
    {
      "cell_type": "code",
      "metadata": {
        "colab": {
          "base_uri": "https://localhost:8080/",
          "height": 282
        },
        "id": "EJlANXqLdH8S",
        "outputId": "7f276311-81c0-45ff-eb87-c359e898ed1b"
      },
      "source": [
        "#18 Visualize the value counts\n",
        "product_counts.plot.density()"
      ],
      "execution_count": 22,
      "outputs": [
        {
          "output_type": "execute_result",
          "data": {
            "text/plain": [
              "<matplotlib.axes._subplots.AxesSubplot at 0x7f6a66257850>"
            ]
          },
          "metadata": {
            "tags": []
          },
          "execution_count": 22
        },
        {
          "output_type": "display_data",
          "data": {
            "image/png": "[encoded data removed]",
            "text/plain": [
              "<Figure size 432x288 with 1 Axes>"
            ]
          },
          "metadata": {
            "tags": [],
            "needs_background": "light"
          }
        }
      ]
    },
    {
      "cell_type": "code",
      "metadata": {
        "id": "xsuCr2t2dH_U"
      },
      "source": [
        "#19 Determine which values to replace\n",
        "replace_product = list(product_counts[product_counts < 50].index)\n",
        "\n",
        "# Replace in DataFrame\n",
        "for product in replace_product:\n",
        "    df_week1.product_id = df_week1.product_id.replace(product,\"Other\")\n",
        "\n",
        "# Check to make sure binning was successful\n",
        "df_week1.product_id.value_counts()"
      ],
      "execution_count": null,
      "outputs": []
    },
    {
      "cell_type": "code",
      "metadata": {
        "id": "W4BGhGE5LY7v"
      },
      "source": [
        "#20 Drop rows of product_ids where total count is lower than 50\n",
        "df_simplified = df_week1[df_week1.product_id != \"Other\"]\n",
        "df_simplified"
      ],
      "execution_count": null,
      "outputs": []
    },
    {
      "cell_type": "code",
      "metadata": {
        "id": "tl2hT5UVGkt-"
      },
      "source": [
        "# Consolidate the items into 1 transaction per row with each product\n",
        "apriori_table = df_simplified.groupby([\"customer_id\",\"product_id\"])[\"Quantity\"].sum().unstack().reset_index().fillna(0).set_index(\"customer_id\")\n",
        "apriori_table"
      ],
      "execution_count": null,
      "outputs": []
    },
    {
      "cell_type": "code",
      "metadata": {
        "id": "ac0WpZHdMqLr"
      },
      "source": [
        "# Save file in my drive\n",
        "from google.colab import drive\n",
        "drive.mount('drive')\n",
        "\n",
        "df_week1.to_csv('apriori_table.csv')\n",
        "!cp data.csv \"drive/My Drive/\""
      ],
      "execution_count": null,
      "outputs": []
    }
  ]
}
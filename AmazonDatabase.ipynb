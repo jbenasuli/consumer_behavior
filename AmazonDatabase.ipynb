{
  "nbformat": 4,
  "nbformat_minor": 0,
  "metadata": {
    "colab": {
      "name": "AmazonDatabase.ipynb",
      "provenance": [],
      "authorship_tag": "ABX9TyM3JPIwbYXvUcg2VtfU7m7r",
      "include_colab_link": true
    },
    "kernelspec": {
      "name": "python3",
      "display_name": "Python 3"
    },
    "language_info": {
      "name": "python"
    }
  },
  "cells": [
    {
      "cell_type": "markdown",
      "metadata": {
        "id": "view-in-github",
        "colab_type": "text"
      },
      "source": [
        "<a href=\"https://colab.research.google.com/github/jbenasuli/final_project/blob/livia-branch/AmazonDatabase.ipynb\" target=\"_parent\"><img src=\"https://colab.research.google.com/assets/colab-badge.svg\" alt=\"Open In Colab\"/></a>"
      ]
    },
    {
      "cell_type": "code",
      "metadata": {
        "colab": {
          "base_uri": "https://localhost:8080/"
        },
        "id": "HvQg9kCOGHdt",
        "outputId": "444e7e72-9305-4a50-a4e6-55ff01829d30"
      },
      "source": [
        "import os\n",
        "# Find the latest version of spark 2.0  from http://www-us.apache.org/dist/spark/ and enter as the spark version\n",
        "# For example:\n",
        "# spark_version = 'spark-3.0.0'\n",
        "spark_version = 'spark-3.1.1'\n",
        "os.environ['SPARK_VERSION']=spark_version\n",
        "\n",
        "# Install Spark and Java\n",
        "!apt-get update\n",
        "!apt-get install openjdk-11-jdk-headless -qq > /dev/null\n",
        "!wget -q http://www-us.apache.org/dist/spark/$SPARK_VERSION/$SPARK_VERSION-bin-hadoop2.7.tgz\n",
        "!tar xf $SPARK_VERSION-bin-hadoop2.7.tgz\n",
        "!pip install -q findspark\n",
        "\n",
        "# Set Environment Variables\n",
        "import os\n",
        "os.environ[\"JAVA_HOME\"] = \"/usr/lib/jvm/java-11-openjdk-amd64\"\n",
        "os.environ[\"SPARK_HOME\"] = f\"/content/{spark_version}-bin-hadoop2.7\"\n",
        "\n",
        "# Start a SparkSession\n",
        "import findspark\n",
        "findspark.init()"
      ],
      "execution_count": 1,
      "outputs": [
        {
          "output_type": "stream",
          "text": [
            "\r0% [Working]\r            \rGet:1 http://security.ubuntu.com/ubuntu bionic-security InRelease [88.7 kB]\n",
            "\r0% [Connecting to archive.ubuntu.com (91.189.88.142)] [1 InRelease 14.2 kB/88.7\r                                                                               \rGet:2 https://cloud.r-project.org/bin/linux/ubuntu bionic-cran40/ InRelease [3,626 B]\n",
            "\r0% [Connecting to archive.ubuntu.com (91.189.88.142)] [1 InRelease 43.1 kB/88.7\r0% [Connecting to archive.ubuntu.com (91.189.88.142)] [1 InRelease 88.7 kB/88.7\r0% [Connecting to archive.ubuntu.com (91.189.88.142)] [Connecting to ppa.launch\r0% [2 InRelease gpgv 3,626 B] [Connecting to archive.ubuntu.com (91.189.88.142)\r                                                                               \rIgn:3 https://developer.download.nvidia.com/compute/cuda/repos/ubuntu1804/x86_64  InRelease\n",
            "\r0% [2 InRelease gpgv 3,626 B] [Waiting for headers] [Connecting to ppa.launchpa\r                                                                               \rHit:4 http://archive.ubuntu.com/ubuntu bionic InRelease\n",
            "\r0% [2 InRelease gpgv 3,626 B] [Connecting to ppa.launchpad.net (91.189.95.85)] \r                                                                               \rIgn:5 https://developer.download.nvidia.com/compute/machine-learning/repos/ubuntu1804/x86_64  InRelease\n",
            "\r                                                                               \r0% [2 InRelease gpgv 3,626 B] [Waiting for headers] [Waiting for headers]\r                                                                         \rGet:6 https://developer.download.nvidia.com/compute/cuda/repos/ubuntu1804/x86_64  Release [697 B]\n",
            "Hit:7 https://developer.download.nvidia.com/compute/machine-learning/repos/ubuntu1804/x86_64  Release\n",
            "Get:8 http://archive.ubuntu.com/ubuntu bionic-updates InRelease [88.7 kB]\n",
            "Get:9 http://ppa.launchpad.net/c2d4u.team/c2d4u4.0+/ubuntu bionic InRelease [15.9 kB]\n",
            "Get:10 https://developer.download.nvidia.com/compute/cuda/repos/ubuntu1804/x86_64  Release.gpg [836 B]\n",
            "Hit:11 http://ppa.launchpad.net/cran/libgit2/ubuntu bionic InRelease\n",
            "Get:12 http://archive.ubuntu.com/ubuntu bionic-backports InRelease [74.6 kB]\n",
            "Get:13 http://security.ubuntu.com/ubuntu bionic-security/main amd64 Packages [2,116 kB]\n",
            "Hit:14 http://ppa.launchpad.net/deadsnakes/ppa/ubuntu bionic InRelease\n",
            "Hit:15 http://ppa.launchpad.net/graphics-drivers/ppa/ubuntu bionic InRelease\n",
            "Ign:17 https://developer.download.nvidia.com/compute/cuda/repos/ubuntu1804/x86_64  Packages\n",
            "Get:17 https://developer.download.nvidia.com/compute/cuda/repos/ubuntu1804/x86_64  Packages [740 kB]\n",
            "Get:18 http://ppa.launchpad.net/c2d4u.team/c2d4u4.0+/ubuntu bionic/main Sources [1,756 kB]\n",
            "Get:19 http://archive.ubuntu.com/ubuntu bionic-updates/main amd64 Packages [2,546 kB]\n",
            "Get:20 http://archive.ubuntu.com/ubuntu bionic-updates/universe amd64 Packages [2,181 kB]\n",
            "Get:21 http://ppa.launchpad.net/c2d4u.team/c2d4u4.0+/ubuntu bionic/main amd64 Packages [899 kB]\n",
            "Fetched 10.5 MB in 3s (3,127 kB/s)\n",
            "Reading package lists... Done\n"
          ],
          "name": "stdout"
        }
      ]
    },
    {
      "cell_type": "code",
      "metadata": {
        "id": "JYsT-wVKGMxY"
      },
      "source": [
        "from pyspark.sql import SparkSession\n",
        "spark = SparkSession.builder.appName(\"BigData-Challenge\").config(\"spark.driver.extraClassPath\",\"/content/postgresql-42.2.16.jar\").getOrCreate()"
      ],
      "execution_count": 2,
      "outputs": []
    },
    {
      "cell_type": "code",
      "metadata": {
        "colab": {
          "base_uri": "https://localhost:8080/"
        },
        "id": "BgaGkCWDGRPX",
        "outputId": "21eadecd-c98d-4e2a-e0ad-069fcfb1cfda"
      },
      "source": [
        "# Selected furniture data\n",
        "from pyspark import SparkFiles\n",
        "url = \"https://s3.amazonaws.com/amazon-reviews-pds/tsv/amazon_reviews_us_Furniture_v1_00.tsv.gz\"\n",
        "spark.sparkContext.addFile(url)\n",
        "df_furniture = spark.read.option(\"encoding\", \"UTF-8\").csv(SparkFiles.get(\"\"), sep=\"\\t\", header=True, inferSchema=True)\n",
        "df_furniture.show()\n",
        "print((df_furniture.count(), len(df_furniture.columns)))"
      ],
      "execution_count": 3,
      "outputs": [
        {
          "output_type": "stream",
          "text": [
            "+-----------+-----------+--------------+----------+--------------+--------------------+----------------+-----------+-------------+-----------+----+-----------------+--------------------+--------------------+-----------+\n",
            "|marketplace|customer_id|     review_id|product_id|product_parent|       product_title|product_category|star_rating|helpful_votes|total_votes|vine|verified_purchase|     review_headline|         review_body|review_date|\n",
            "+-----------+-----------+--------------+----------+--------------+--------------------+----------------+-----------+-------------+-----------+----+-----------------+--------------------+--------------------+-----------+\n",
            "|         US|   24509695|R3VR960AHLFKDV|B004HB5E0E|     488241329|Shoal Creek Compu...|       Furniture|          4|            0|          0|   N|                Y|... desk is very ...|This desk is very...| 2015-08-31|\n",
            "|         US|   34731776|R16LGVMFKIUT0G|B0042TNMMS|     205864445|Dorel Home Produc...|       Furniture|          5|            0|          0|   N|                Y|          Five Stars|          Great item| 2015-08-31|\n",
            "|         US|    1272331|R1AIMEEPYHMOE4|B0030MPBZ4|     124663823|Bathroom Vanity T...|       Furniture|          5|            1|          1|   N|                Y|          Five Stars|Perfect fit for m...| 2015-08-31|\n",
            "|         US|   45284262|R1892CCSZWZ9SR|B005G02ESA|     382367578|Sleep Master Ulti...|       Furniture|          3|            0|          0|   N|                Y|         Good enough|We use this on a ...| 2015-08-31|\n",
            "|         US|   30003523|R285P679YWVKD1|B005JS8AUA|     309497463|1 1/4\" GashGuards...|       Furniture|          3|            0|          0|   N|                N|Gash Gards for da...|The product is fi...| 2015-08-31|\n",
            "|         US|   18311821| RLB33HJBXHZHU|B00AVUQQGQ|     574537906|Serta Bonded Leat...|       Furniture|          5|            0|          0|   N|                Y|          Five Stars|Love this product...| 2015-08-31|\n",
            "|         US|   42943632|R1VGTZ94DBAD6A|B00CFY20GQ|     407473883|Prepac Shoe Stora...|       Furniture|          5|            2|          2|   N|                Y|   I love this bench|I love this bench...| 2015-08-31|\n",
            "|         US|   43157304|R168KF82ICSOHD|B00FKC48QA|     435120460|HomCom PU Leather...|       Furniture|          5|            0|          0|   N|                Y|Great storage cap...|Have had this for...| 2015-08-31|\n",
            "|         US|   51918480|R20DIYIJ0OCMOG|B00N9IAL9K|     356495985|  Folding Step Stool|       Furniture|          5|            0|          0|   N|                Y|This is the best ...|This is the best ...| 2015-08-31|\n",
            "|         US|   14522766| RD46RNVOHNZSC|B001T4XU1C|     243050228|Ace Bayou Adult V...|       Furniture|          5|            0|          0|   N|                Y|    great for price!|    my son loves it!| 2015-08-31|\n",
            "|         US|   43054112|R2JDOCETTM3AXS|B002HRFLBC|      93574483|4D Concepts Audio...|       Furniture|          5|            0|          0|   N|                Y|          Five Stars|       Great product| 2015-08-31|\n",
            "|         US|   26622950|R33YMW36IDZ6LE|B006MISZOC|     941823468|Zinus SC-SBBK-14N...|       Furniture|          5|            0|          0|   N|                Y|             perfect|bought with sleep...| 2015-08-31|\n",
            "|         US|   17988940|R30ZGGUHZ04C1S|B008BMGABC|     460567746|Poundex Marble Di...|       Furniture|          5|            1|          1|   N|                Y|   Very satisfied!!!|Delivery was on t...| 2015-08-31|\n",
            "|         US|   18444952| RS2EZU76IK2BT|B00CO2VH5Y|     829613894|Safavieh Lyndhurs...|       Furniture|          5|            0|          0|   N|                Y|soft and great fo...|Exactly as pictur...| 2015-08-31|\n",
            "|         US|   16937084|R1GJC1BP028XO9|B00LI4RJQ0|     816478187|Sauder Boone Moun...|       Furniture|          5|            2|          3|   N|                Y|        Great table.|Beautiful table. ...| 2015-08-31|\n",
            "|         US|   23665632|R2VKJPGXXEK5GP|B0046EC1D0|     358594389|Winsome Wood Brea...|       Furniture|          1|            0|          0|   N|                Y|Not what I expect...|I have cleaned up...| 2015-08-31|\n",
            "|         US|    4110125|R17KS83G3KLT97|B00DQQPL36|     312571325|HODEDAH IMPORT Me...|       Furniture|          3|            0|          0|   N|                Y|         Three Stars|First one came in...| 2015-08-31|\n",
            "|         US|     107621|R3PQL8SR4NEHWL|B003X7RWB2|     402665054|Flash Furniture H...|       Furniture|          4|            0|          0|   N|                Y|          Four Stars|Good deal to get ...| 2015-08-31|\n",
            "|         US|    2415090|R2F5WW7WNO5RRG|B001TJYPJ8|     854989315|Sleep Revolution ...|       Furniture|          5|            0|          0|   N|                Y|          Five Stars|Comfortable and e...| 2015-08-31|\n",
            "|         US|   48285966|R3UDJKVWQCFIC9|B000TMHX9A|     814079288|Flash Furniture V...|       Furniture|          5|            0|          0|   N|                Y|Very comfortable....|As advertised. Ve...| 2015-08-31|\n",
            "+-----------+-----------+--------------+----------+--------------+--------------------+----------------+-----------+-------------+-----------+----+-----------------+--------------------+--------------------+-----------+\n",
            "only showing top 20 rows\n",
            "\n",
            "(792113, 15)\n"
          ],
          "name": "stdout"
        }
      ]
    },
    {
      "cell_type": "code",
      "metadata": {
        "colab": {
          "base_uri": "https://localhost:8080/"
        },
        "id": "cZ0fiuYbGST4",
        "outputId": "6deb5989-94d4-4457-ecaf-25ec22b67dc9"
      },
      "source": [
        "# Selected personal care applianaces\n",
        "url = \"https://s3.amazonaws.com/amazon-reviews-pds/tsv/amazon_reviews_us_Personal_Care_Appliances_v1_00.tsv.gz\"\n",
        "spark.sparkContext.addFile(url)\n",
        "df_personal_care = spark.read.option(\"encoding\", \"UTF-8\").csv(SparkFiles.get(\"\"), sep=\"\\t\", header=True, inferSchema=True)\n",
        "df_personal_care.show()\n",
        "print((df_personal_care.count(), len(df_personal_care.columns)))"
      ],
      "execution_count": 4,
      "outputs": [
        {
          "output_type": "stream",
          "text": [
            "+-----------+-----------+--------------+----------+--------------+--------------------+----------------+-----------+-------------+-----------+----+-----------------+--------------------+--------------------+-----------+\n",
            "|marketplace|customer_id|     review_id|product_id|product_parent|       product_title|product_category|star_rating|helpful_votes|total_votes|vine|verified_purchase|     review_headline|         review_body|review_date|\n",
            "+-----------+-----------+--------------+----------+--------------+--------------------+----------------+-----------+-------------+-----------+----+-----------------+--------------------+--------------------+-----------+\n",
            "|         US|   24509695|R3VR960AHLFKDV|B004HB5E0E|     488241329|Shoal Creek Compu...|       Furniture|          4|            0|          0|   N|                Y|... desk is very ...|This desk is very...| 2015-08-31|\n",
            "|         US|   34731776|R16LGVMFKIUT0G|B0042TNMMS|     205864445|Dorel Home Produc...|       Furniture|          5|            0|          0|   N|                Y|          Five Stars|          Great item| 2015-08-31|\n",
            "|         US|    1272331|R1AIMEEPYHMOE4|B0030MPBZ4|     124663823|Bathroom Vanity T...|       Furniture|          5|            1|          1|   N|                Y|          Five Stars|Perfect fit for m...| 2015-08-31|\n",
            "|         US|   45284262|R1892CCSZWZ9SR|B005G02ESA|     382367578|Sleep Master Ulti...|       Furniture|          3|            0|          0|   N|                Y|         Good enough|We use this on a ...| 2015-08-31|\n",
            "|         US|   30003523|R285P679YWVKD1|B005JS8AUA|     309497463|1 1/4\" GashGuards...|       Furniture|          3|            0|          0|   N|                N|Gash Gards for da...|The product is fi...| 2015-08-31|\n",
            "|         US|   18311821| RLB33HJBXHZHU|B00AVUQQGQ|     574537906|Serta Bonded Leat...|       Furniture|          5|            0|          0|   N|                Y|          Five Stars|Love this product...| 2015-08-31|\n",
            "|         US|   42943632|R1VGTZ94DBAD6A|B00CFY20GQ|     407473883|Prepac Shoe Stora...|       Furniture|          5|            2|          2|   N|                Y|   I love this bench|I love this bench...| 2015-08-31|\n",
            "|         US|   43157304|R168KF82ICSOHD|B00FKC48QA|     435120460|HomCom PU Leather...|       Furniture|          5|            0|          0|   N|                Y|Great storage cap...|Have had this for...| 2015-08-31|\n",
            "|         US|   51918480|R20DIYIJ0OCMOG|B00N9IAL9K|     356495985|  Folding Step Stool|       Furniture|          5|            0|          0|   N|                Y|This is the best ...|This is the best ...| 2015-08-31|\n",
            "|         US|   14522766| RD46RNVOHNZSC|B001T4XU1C|     243050228|Ace Bayou Adult V...|       Furniture|          5|            0|          0|   N|                Y|    great for price!|    my son loves it!| 2015-08-31|\n",
            "|         US|   43054112|R2JDOCETTM3AXS|B002HRFLBC|      93574483|4D Concepts Audio...|       Furniture|          5|            0|          0|   N|                Y|          Five Stars|       Great product| 2015-08-31|\n",
            "|         US|   26622950|R33YMW36IDZ6LE|B006MISZOC|     941823468|Zinus SC-SBBK-14N...|       Furniture|          5|            0|          0|   N|                Y|             perfect|bought with sleep...| 2015-08-31|\n",
            "|         US|   17988940|R30ZGGUHZ04C1S|B008BMGABC|     460567746|Poundex Marble Di...|       Furniture|          5|            1|          1|   N|                Y|   Very satisfied!!!|Delivery was on t...| 2015-08-31|\n",
            "|         US|   18444952| RS2EZU76IK2BT|B00CO2VH5Y|     829613894|Safavieh Lyndhurs...|       Furniture|          5|            0|          0|   N|                Y|soft and great fo...|Exactly as pictur...| 2015-08-31|\n",
            "|         US|   16937084|R1GJC1BP028XO9|B00LI4RJQ0|     816478187|Sauder Boone Moun...|       Furniture|          5|            2|          3|   N|                Y|        Great table.|Beautiful table. ...| 2015-08-31|\n",
            "|         US|   23665632|R2VKJPGXXEK5GP|B0046EC1D0|     358594389|Winsome Wood Brea...|       Furniture|          1|            0|          0|   N|                Y|Not what I expect...|I have cleaned up...| 2015-08-31|\n",
            "|         US|    4110125|R17KS83G3KLT97|B00DQQPL36|     312571325|HODEDAH IMPORT Me...|       Furniture|          3|            0|          0|   N|                Y|         Three Stars|First one came in...| 2015-08-31|\n",
            "|         US|     107621|R3PQL8SR4NEHWL|B003X7RWB2|     402665054|Flash Furniture H...|       Furniture|          4|            0|          0|   N|                Y|          Four Stars|Good deal to get ...| 2015-08-31|\n",
            "|         US|    2415090|R2F5WW7WNO5RRG|B001TJYPJ8|     854989315|Sleep Revolution ...|       Furniture|          5|            0|          0|   N|                Y|          Five Stars|Comfortable and e...| 2015-08-31|\n",
            "|         US|   48285966|R3UDJKVWQCFIC9|B000TMHX9A|     814079288|Flash Furniture V...|       Furniture|          5|            0|          0|   N|                Y|Very comfortable....|As advertised. Ve...| 2015-08-31|\n",
            "+-----------+-----------+--------------+----------+--------------+--------------------+----------------+-----------+-------------+-----------+----+-----------------+--------------------+--------------------+-----------+\n",
            "only showing top 20 rows\n",
            "\n",
            "(878094, 15)\n"
          ],
          "name": "stdout"
        }
      ]
    },
    {
      "cell_type": "code",
      "metadata": {
        "colab": {
          "base_uri": "https://localhost:8080/"
        },
        "id": "K0TKP4MMGSav",
        "outputId": "c6f209d8-9f84-4af8-9824-93c0c172f7e6"
      },
      "source": [
        "# Selected office products\n",
        "url = \"https://s3.amazonaws.com/amazon-reviews-pds/tsv/amazon_reviews_us_Office_Products_v1_00.tsv.gz\"\n",
        "spark.sparkContext.addFile(url)\n",
        "df_office = spark.read.option(\"encoding\", \"UTF-8\").csv(SparkFiles.get(\"\"), sep=\"\\t\", header=True, inferSchema=True)\n",
        "df_office.show()\n",
        "print((df_office.count(), len(df_office.columns)))"
      ],
      "execution_count": 5,
      "outputs": [
        {
          "output_type": "stream",
          "text": [
            "+-----------+-----------+--------------+----------+--------------+--------------------+----------------+-----------+-------------+-----------+----+-----------------+--------------------+--------------------+-----------+\n",
            "|marketplace|customer_id|     review_id|product_id|product_parent|       product_title|product_category|star_rating|helpful_votes|total_votes|vine|verified_purchase|     review_headline|         review_body|review_date|\n",
            "+-----------+-----------+--------------+----------+--------------+--------------------+----------------+-----------+-------------+-----------+----+-----------------+--------------------+--------------------+-----------+\n",
            "|         US|   43081963|R18RVCKGH1SSI9|B001BM2MAC|     307809868|Scotch Cushion Wr...| Office Products|          5|            0|          0|   N|                Y|          Five Stars|      Great product.| 2015-08-31|\n",
            "|         US|   10951564|R3L4L6LW1PUOFY|B00DZYEXPQ|      75004341|Dust-Off Compress...| Office Products|          5|            0|          1|   N|                Y|Phffffffft, Phfff...|What's to say abo...| 2015-08-31|\n",
            "|         US|   21143145|R2J8AWXWTDX2TF|B00RTMUHDW|     529689027|Amram Tagger Stan...| Office Products|          5|            0|          0|   N|                Y|but I am sure I w...|Haven't used yet,...| 2015-08-31|\n",
            "|         US|   52782374|R1PR37BR7G3M6A|B00D7H8XB6|     868449945|AmazonBasics 12-S...| Office Products|          1|            2|          3|   N|                Y|and the shredder ...|Although this was...| 2015-08-31|\n",
            "|         US|   24045652|R3BDDDZMZBZDPU|B001XCWP34|      33521401|Derwent Colored P...| Office Products|          4|            0|          0|   N|                Y|          Four Stars|Gorgeous colors a...| 2015-08-31|\n",
            "|         US|   21751234| R8T6MO75ND212|B004J2NBCO|     214932869|Quartet Magnetic ...| Office Products|          5|            0|          0|   N|                Y|          Five Stars|Perfect for plann...| 2015-08-31|\n",
            "|         US|    9109358|R2YWMQT2V11XYZ|B00MOPAG8K|     863351797|KITLEX40X2592UNV2...| Office Products|          5|            0|          0|   N|                N|          Five Stars|Gold plated fuser...| 2015-08-31|\n",
            "|         US|    9967215|R1V2HYL6OI9V39|B003AHIK7U|     383470576|Bible Dry Highlig...| Office Products|          5|            6|          6|   N|                Y|Won't bleed throu...|I have used these...| 2015-08-31|\n",
            "|         US|   11234247|R3BLQBKUNXGFS4|B006TKH2RO|     999128878|Parker Ingenuity ...| Office Products|          5|            0|          0|   N|                Y|           Nice pen!|Heavy pen that wr...| 2015-08-31|\n",
            "|         US|   12731488|R17MOWJCAR9Y8Q|B00W61M9K0|     622066861| RFID Card Protector| Office Products|          5|            0|          0|   N|                Y| Credit card sleeves|Not sure if they ...| 2015-08-31|\n",
            "|         US|   49861762|R11EPG1GHOXMGB|B00BXOGI3A|     688569009|The Original Stan...| Office Products|          4|            0|          0|   N|                N|          Four Stars|Great product for...| 2015-08-31|\n",
            "|         US|    1541556|R2797NKTEX5THN|B0018RHWGE|     513803406|Zebra Sparky-1 WK...| Office Products|          5|            0|          0|   N|                Y|Love these highli...|Love these highli...| 2015-08-31|\n",
            "|         US|   10579374|R2RUTMJS50E4WF|B00IA8H2OG|     201212366|E-Z Ink (TM) Comp...| Office Products|          5|            0|          0|   N|                Y|          Five Stars|Received on time,...| 2015-08-31|\n",
            "|         US|   43622307|R1FZYL1HX7O4RM|B007TOIA66|     954138793|Eric 11\" Giant Si...| Office Products|          1|            0|          0|   N|                Y|            One Star|worked about a mo...| 2015-08-31|\n",
            "|         US|   50773856|R22ENT0KU5CHPX|B00EANURCE|      43216076|Brother MFCJ450 W...| Office Products|          5|            0|          0|   N|                Y|Brothers Wireless...|I purchased this ...| 2015-08-31|\n",
            "|         US|   10165223|R2E5M7FWJC9JLE|B00T3Q0EOO|     637096152|Clarity D613 DECT...| Office Products|          5|            0|          0|   N|                Y|          Five Stars|Everything works ...| 2015-08-31|\n",
            "|         US|   14744748|R31BNW3O2Q5J3E|B00WN0N818|     710040412|Permo 50 Feet Whi...| Office Products|          5|            0|          0|   N|                Y|          Five Stars|          Thank you!| 2015-08-31|\n",
            "|         US|   37536631|R1JMQF1OOMNF49|B001GAOTSW|     696023182|Pilot G2 Retracta...| Office Products|          5|            0|          0|   N|                Y|          Five Stars|     Love these pens| 2015-08-31|\n",
            "|         US|     126687| RJH6WQDOA6CZP|B003BNY7PW|     474277918|AT&T DECT 6.0 Acc...| Office Products|          5|            0|          0|   N|                Y|          Five Stars|The product is ev...| 2015-08-31|\n",
            "|         US|   31130095|R2EVL0Z5JVV86X|B00092RJX0|     887474295|Pilot G2 Retracta...| Office Products|          5|            0|          0|   N|                Y|          Five Stars|           Great buy| 2015-08-31|\n",
            "+-----------+-----------+--------------+----------+--------------+--------------------+----------------+-----------+-------------+-----------+----+-----------------+--------------------+--------------------+-----------+\n",
            "only showing top 20 rows\n",
            "\n",
            "(3520528, 15)\n"
          ],
          "name": "stdout"
        }
      ]
    },
    {
      "cell_type": "code",
      "metadata": {
        "colab": {
          "base_uri": "https://localhost:8080/"
        },
        "id": "aGA4r_K8GSeI",
        "outputId": "e545eaa0-0e1f-4d0b-846b-838b85bde084"
      },
      "source": [
        "# Selected apparel products\n",
        "url = \"https://s3.amazonaws.com/amazon-reviews-pds/tsv/amazon_reviews_us_Apparel_v1_00.tsv.gz\"\n",
        "spark.sparkContext.addFile(url)\n",
        "df_apparel = spark.read.option(\"encoding\", \"UTF-8\").csv(SparkFiles.get(\"\"), sep=\"\\t\", header=True, inferSchema=True)\n",
        "df_apparel.show()\n",
        "print((df_apparel.count(), len(df_apparel.columns)))"
      ],
      "execution_count": 6,
      "outputs": [
        {
          "output_type": "stream",
          "text": [
            "+-----------+-----------+--------------+----------+--------------+--------------------+----------------+-----------+-------------+-----------+----+-----------------+--------------------+--------------------+-----------+\n",
            "|marketplace|customer_id|     review_id|product_id|product_parent|       product_title|product_category|star_rating|helpful_votes|total_votes|vine|verified_purchase|     review_headline|         review_body|review_date|\n",
            "+-----------+-----------+--------------+----------+--------------+--------------------+----------------+-----------+-------------+-----------+----+-----------------+--------------------+--------------------+-----------+\n",
            "|         US|   32158956|R1KKOXHNI8MSXU|B01KL6O72Y|      24485154|Easy Tool Stainle...|         Apparel|          4|            0|          0|   N|                Y|★ THESE REALLY DO...|These Really Do W...| 2013-01-14|\n",
            "|         US|    2714559|R26SP2OPDK4HT7|B01ID3ZS5W|     363128556|V28 Women Cowl Ne...|         Apparel|          5|            1|          2|   N|                Y|Favorite for wint...|I love this dress...| 2014-03-04|\n",
            "|         US|   12608825| RWQEDYAX373I1|B01I497BGY|     811958549|James Fiallo Men'...|         Apparel|          5|            0|          0|   N|                Y|Great Socks for t...|Nice socks, great...| 2015-07-12|\n",
            "|         US|   25482800|R231YI7R4GPF6J|B01HDXFZK6|     692205728|Belfry Gangster 1...|         Apparel|          5|            0|          0|   N|                Y|          Slick hat!|I bought this for...| 2015-06-03|\n",
            "|         US|    9310286|R3KO3W45DD0L1K|B01G6MBEBY|     431150422|JAEDEN Women's Be...|         Apparel|          5|            0|          0|   N|                Y|I would do it again!|Perfect dress and...| 2015-06-12|\n",
            "|         US|   26631939|R1C4QH63NFL5NJ|B01FWRXN0Y|     366144407|Levi's Boys' 514 ...|         Apparel|          5|            0|          0|   N|                Y|          Five Stars|Excellent for my ...| 2014-04-22|\n",
            "|         US|   48785098|R2GP65O1U9N7BP|B01EXNH1HE|     786052021|Minimalist Wallet...|         Apparel|          5|            0|          0|   N|                Y|            Love it!|Raw is the only w...| 2015-07-28|\n",
            "|         US|   39548589|R3O29CT5MQQ3XQ|B01E7OL09O|     108920964|Harriton Men's Ba...|         Apparel|          4|            0|          0|   N|                Y|         Three Stars|        A bit large.| 2015-07-10|\n",
            "|         US|   29355866|R1ZECD2AA8QFF6|B01DXHX81O|     317132458|Jockey Women's Un...|         Apparel|          5|            0|          0|   N|                Y|          Five Stars|          Great fit!| 2015-08-09|\n",
            "|         US|   27477484|R2S79GCF6J89OA|B01DDULIJK|     110598191|Alexander Del Ros...|         Apparel|          3|            0|          0|   N|                Y|    Not my favorite.|Shirt a bit too l...| 2014-05-24|\n",
            "|         US|   17685865|R1CBCUGNP37MPK|B01BOKOL4A|     121408017|Jockey Women's Un...|         Apparel|          5|            0|          0|   N|                Y|The Jockey Women'...|The Jockey Women'...| 2015-06-10|\n",
            "|         US|   19787539|R3NU4WUR5ZNV1V|B01B3Q4Q0O|     134506082|Bali Passion For ...|         Apparel|          5|            0|          0|   N|                Y|          Five Stars|cup size is just ...| 2013-09-06|\n",
            "|         US|   44196725|R32EPCJ3XF8LGE|B01ADDSL9U|     747539045|Lilyette Women's ...|         Apparel|          5|            0|          0|   N|                Y|          Five Stars|          Perfect...| 2014-11-17|\n",
            "|         US|   45510794|R1XIBC6WQBW31M|B019P1X5XI|     696379847|Vanity Fair Women...|         Apparel|          5|            0|          0|   N|                Y|best ever4 for me...|best  ever4 for m...| 2013-05-12|\n",
            "|         US|   42025740|R1P11MVDZ65LMH|B019MDXIXG|     387286513|Warner's Women's ...|         Apparel|          5|            0|          0|   N|                Y|          Five Stars|          Great fit.| 2014-02-14|\n",
            "|         US|   27097189|R1OJA3DJL0VDDK|B019438FEG|     764190574|Columbia Women's ...|         Apparel|          5|            0|          0|   N|                Y|          Five Stars|I have this Colum...| 2014-10-20|\n",
            "|         US|   13808904|R1THWA5YRJLOOF|B0178HGNIA|     816266887|Robes King RK Cla...|         Apparel|          4|            0|          0|   N|                Y|          Four Stars|My husband found ...| 2015-07-05|\n",
            "|         US|   30225894| R738LCNRSJVXP|B016VIU0QI|     323924698|VIV Collection Be...|         Apparel|          5|            6|          7|   N|                Y|   Awesome leggings!|Awesome leggings!...| 2015-07-29|\n",
            "|         US|   45223824|R1N3Z13931J3O9|B016PUU3VO|     893588059|Fruit of the Loom...|         Apparel|          2|            0|          0|   N|                Y|Sizes not correct...|I ordered the sam...| 2015-01-01|\n",
            "|         US|   22300783|R1LBNTP7E8N89Z|B016AQNDM4|     917361125|Jockey Scrubs Wom...|         Apparel|          1|            0|          0|   N|                Y|            One Star| not exact in sizing| 2015-02-12|\n",
            "+-----------+-----------+--------------+----------+--------------+--------------------+----------------+-----------+-------------+-----------+----+-----------------+--------------------+--------------------+-----------+\n",
            "only showing top 20 rows\n",
            "\n",
            "(9426861, 15)\n"
          ],
          "name": "stdout"
        }
      ]
    },
    {
      "cell_type": "code",
      "metadata": {
        "colab": {
          "base_uri": "https://localhost:8080/"
        },
        "id": "hsbs4Z7EGSg4",
        "outputId": "bd9c0652-d62a-45ab-a10e-985e79ae6672"
      },
      "source": [
        "# Selected home products\n",
        "url = \"https://s3.amazonaws.com/amazon-reviews-pds/tsv/amazon_reviews_us_Home_v1_00.tsv.gz\"\n",
        "spark.sparkContext.addFile(url)\n",
        "df_home = spark.read.option(\"encoding\", \"UTF-8\").csv(SparkFiles.get(\"\"), sep=\"\\t\", header=True, inferSchema=True)\n",
        "df_home.show()\n",
        "print((df_home.count(), len(df_home.columns)))"
      ],
      "execution_count": 7,
      "outputs": [
        {
          "output_type": "stream",
          "text": [
            "+-----------+-----------+--------------+----------+--------------+--------------------+----------------+-----------+-------------+-----------+----+-----------------+--------------------+--------------------+-----------+\n",
            "|marketplace|customer_id|     review_id|product_id|product_parent|       product_title|product_category|star_rating|helpful_votes|total_votes|vine|verified_purchase|     review_headline|         review_body|review_date|\n",
            "+-----------+-----------+--------------+----------+--------------+--------------------+----------------+-----------+-------------+-----------+----+-----------------+--------------------+--------------------+-----------+\n",
            "|         US|   33670092|R1UUISQ1GKOJTI|B00EE62UAE|     583436067|Trademark Home Po...|            Home|          1|            0|          0|   N|                Y|                 Run|Don't buy it clap...| 2015-08-31|\n",
            "|         US|   13726692|R1HOJ9WE8VCVOD|B001APXO5C|     465035091|O2-Cool 10-Inch P...|            Home|          5|            9|          9|   N|                Y|Love it, really c...|Love this ,I boug...| 2015-08-31|\n",
            "|         US|   50131396| RDNGVXMWQN2TN|B002HFDLCK|     136507891|Hoover Vacuum Cle...|            Home|          5|            0|          0|   N|                Y|          Five Stars|Nice style, color...| 2015-08-31|\n",
            "|         US|   16046884|R3OM9COQMVTDJ2|B00PL9EFPQ|     631238459|Banksy Pile of Ri...|            Home|          2|            0|          0|   N|                Y|Love Banksy's wor...|Meeeh. Love Banks...| 2015-08-31|\n",
            "|         US|   11417282|R3OFUQVR4Y80Q9|B00B5TPVQS|     190431573|SkyScan Atomic Wa...|            Home|          4|            0|          0|   N|                N|A silent second h...|Review by John Cr...| 2015-08-31|\n",
            "|         US|   48013430|R2GD25SBBGRKPO|B00NQDGHDC|     124050883|Mellanni Bed Shee...|            Home|          5|            0|          0|   N|                Y|I am very pleased...|I am very pleased...| 2015-08-31|\n",
            "|         US|    7341516|R3RRSLYKVWH9WB|B00I3BYEXM|     933053612|Hippie Hobo Sling...|            Home|          5|            0|          0|   N|                Y|          Five Stars|LOVE THIS SO VERY...| 2015-08-31|\n",
            "|         US|   20696954|R2HMFAGJJU6NT3|B008QZD7RY|      77515396|OluKai Hokua Sand...|            Home|          5|            0|          0|   N|                Y|          Five Stars|           Love them| 2015-08-31|\n",
            "|         US|   28241302|R2QDRZATHBY4GY|B00TQ6MXE0|     267158600|Melrose Ivory Ant...|            Home|          1|            0|          0|   N|                Y|Not the color I e...|This is a nice sh...| 2015-08-31|\n",
            "|         US|   45444347|R107946YZK57Q2|B004O39RJ4|     473994651|Home Basics 6-Pie...|            Home|          2|            0|          0|   N|                Y|Two mugs came chi...|Two mugs came chi...| 2015-08-31|\n",
            "|         US|   15080335|R31EK6FUI5YAL1|B003LZ09C0|     945333576|La Crosse Technol...|            Home|          5|            0|          0|   N|                Y|          Five Stars|Works great, it a...| 2015-08-31|\n",
            "|         US|   12081067|R2PCO0R2FKDQLD|B00I56KQV4|     383995956|Cozy Beddings 3-P...|            Home|          5|            0|          0|   N|                Y|          Five Stars|Exactly as I expe...| 2015-08-31|\n",
            "|         US|   26317120|R3HR2Y7RR8NWL0|B00GS6ENAS|     255999883|Tools of the Trad...|            Home|          4|            0|          0|   N|                Y|          Four Stars|    met expectations| 2015-08-31|\n",
            "|         US|   37523392|R2D2NATNTV6VBD|B00S9X17SY|     142926812|Clara Clark Premi...|            Home|          3|            0|          0|   N|                Y|        Pretty color|Very silky feelin...| 2015-08-31|\n",
            "|         US|   36990227| RKB0AGB0GJ693|B001R1RXUG|     237680897|Honeywell HT-908 ...|            Home|          5|            0|          0|   N|                Y|          Five Stars|Works great for t...| 2015-08-31|\n",
            "|         US|    8273344| RN6VOEZIS9SRX|B008T19WSS|     395315543|2 pcs .925 Sterli...|            Home|          5|            0|          0|   N|                Y|          Five Stars|          love these| 2015-08-31|\n",
            "|         US|   45448526|R31I8XK53JBAQ2|B011A4X754|     751900773|Artficial Pachyve...|            Home|          4|            0|          0|   N|                Y|          Four Stars|Good length. Very...| 2015-08-31|\n",
            "|         US|   28088591|R2R2Y989GKB6QH|B00DDIKBQO|     764331420|Pinzon Blackout C...|            Home|          5|            0|          0|   N|                Y|          Five Stars|        Works great!| 2015-08-31|\n",
            "|         US|   20276397|R12WZKURAV2VEY|B00F3T165Q|     962537263|Rit Dye Liquid Dy...|            Home|          5|            0|          0|   N|                Y|            Love it!|Been using this f...| 2015-08-31|\n",
            "|         US|     123327| RX2EMR0I821HW|B006C6FC6S|     279696452|The Original Slee...|            Home|          2|            0|          0|   N|                Y|           Two Stars|Ehh. Not sure why...| 2015-08-31|\n",
            "+-----------+-----------+--------------+----------+--------------+--------------------+----------------+-----------+-------------+-----------+----+-----------------+--------------------+--------------------+-----------+\n",
            "only showing top 20 rows\n",
            "\n",
            "(15648420, 15)\n"
          ],
          "name": "stdout"
        }
      ]
    },
    {
      "cell_type": "code",
      "metadata": {
        "colab": {
          "base_uri": "https://localhost:8080/"
        },
        "id": "28OMCX5wGSjy",
        "outputId": "8e822337-cadd-4c12-a3cf-1d46c5d8f008"
      },
      "source": [
        "# Merge databases\n",
        "from functools import reduce  # For Python 3.x\n",
        "from pyspark.sql import DataFrame\n",
        "\n",
        "def unionAll(*dfs):\n",
        "    return reduce(DataFrame.unionAll, dfs)\n",
        "\n",
        "df_merge = unionAll(df_furniture, df_personal_care, df_office, df_apparel, df_home)\n",
        "df_merge.show()\n",
        "\n",
        "print((df_merge.count(), len(df_merge.columns)))"
      ],
      "execution_count": 8,
      "outputs": [
        {
          "output_type": "stream",
          "text": [
            "+-----------+-----------+--------------+----------+--------------+--------------------+----------------+-----------+-------------+-----------+----+-----------------+--------------------+--------------------+-----------+\n",
            "|marketplace|customer_id|     review_id|product_id|product_parent|       product_title|product_category|star_rating|helpful_votes|total_votes|vine|verified_purchase|     review_headline|         review_body|review_date|\n",
            "+-----------+-----------+--------------+----------+--------------+--------------------+----------------+-----------+-------------+-----------+----+-----------------+--------------------+--------------------+-----------+\n",
            "|         US|   24509695|R3VR960AHLFKDV|B004HB5E0E|     488241329|Shoal Creek Compu...|       Furniture|          4|            0|          0|   N|                Y|... desk is very ...|This desk is very...| 2015-08-31|\n",
            "|         US|   34731776|R16LGVMFKIUT0G|B0042TNMMS|     205864445|Dorel Home Produc...|       Furniture|          5|            0|          0|   N|                Y|          Five Stars|          Great item| 2015-08-31|\n",
            "|         US|    1272331|R1AIMEEPYHMOE4|B0030MPBZ4|     124663823|Bathroom Vanity T...|       Furniture|          5|            1|          1|   N|                Y|          Five Stars|Perfect fit for m...| 2015-08-31|\n",
            "|         US|   45284262|R1892CCSZWZ9SR|B005G02ESA|     382367578|Sleep Master Ulti...|       Furniture|          3|            0|          0|   N|                Y|         Good enough|We use this on a ...| 2015-08-31|\n",
            "|         US|   30003523|R285P679YWVKD1|B005JS8AUA|     309497463|1 1/4\" GashGuards...|       Furniture|          3|            0|          0|   N|                N|Gash Gards for da...|The product is fi...| 2015-08-31|\n",
            "|         US|   18311821| RLB33HJBXHZHU|B00AVUQQGQ|     574537906|Serta Bonded Leat...|       Furniture|          5|            0|          0|   N|                Y|          Five Stars|Love this product...| 2015-08-31|\n",
            "|         US|   42943632|R1VGTZ94DBAD6A|B00CFY20GQ|     407473883|Prepac Shoe Stora...|       Furniture|          5|            2|          2|   N|                Y|   I love this bench|I love this bench...| 2015-08-31|\n",
            "|         US|   43157304|R168KF82ICSOHD|B00FKC48QA|     435120460|HomCom PU Leather...|       Furniture|          5|            0|          0|   N|                Y|Great storage cap...|Have had this for...| 2015-08-31|\n",
            "|         US|   51918480|R20DIYIJ0OCMOG|B00N9IAL9K|     356495985|  Folding Step Stool|       Furniture|          5|            0|          0|   N|                Y|This is the best ...|This is the best ...| 2015-08-31|\n",
            "|         US|   14522766| RD46RNVOHNZSC|B001T4XU1C|     243050228|Ace Bayou Adult V...|       Furniture|          5|            0|          0|   N|                Y|    great for price!|    my son loves it!| 2015-08-31|\n",
            "|         US|   43054112|R2JDOCETTM3AXS|B002HRFLBC|      93574483|4D Concepts Audio...|       Furniture|          5|            0|          0|   N|                Y|          Five Stars|       Great product| 2015-08-31|\n",
            "|         US|   26622950|R33YMW36IDZ6LE|B006MISZOC|     941823468|Zinus SC-SBBK-14N...|       Furniture|          5|            0|          0|   N|                Y|             perfect|bought with sleep...| 2015-08-31|\n",
            "|         US|   17988940|R30ZGGUHZ04C1S|B008BMGABC|     460567746|Poundex Marble Di...|       Furniture|          5|            1|          1|   N|                Y|   Very satisfied!!!|Delivery was on t...| 2015-08-31|\n",
            "|         US|   18444952| RS2EZU76IK2BT|B00CO2VH5Y|     829613894|Safavieh Lyndhurs...|       Furniture|          5|            0|          0|   N|                Y|soft and great fo...|Exactly as pictur...| 2015-08-31|\n",
            "|         US|   16937084|R1GJC1BP028XO9|B00LI4RJQ0|     816478187|Sauder Boone Moun...|       Furniture|          5|            2|          3|   N|                Y|        Great table.|Beautiful table. ...| 2015-08-31|\n",
            "|         US|   23665632|R2VKJPGXXEK5GP|B0046EC1D0|     358594389|Winsome Wood Brea...|       Furniture|          1|            0|          0|   N|                Y|Not what I expect...|I have cleaned up...| 2015-08-31|\n",
            "|         US|    4110125|R17KS83G3KLT97|B00DQQPL36|     312571325|HODEDAH IMPORT Me...|       Furniture|          3|            0|          0|   N|                Y|         Three Stars|First one came in...| 2015-08-31|\n",
            "|         US|     107621|R3PQL8SR4NEHWL|B003X7RWB2|     402665054|Flash Furniture H...|       Furniture|          4|            0|          0|   N|                Y|          Four Stars|Good deal to get ...| 2015-08-31|\n",
            "|         US|    2415090|R2F5WW7WNO5RRG|B001TJYPJ8|     854989315|Sleep Revolution ...|       Furniture|          5|            0|          0|   N|                Y|          Five Stars|Comfortable and e...| 2015-08-31|\n",
            "|         US|   48285966|R3UDJKVWQCFIC9|B000TMHX9A|     814079288|Flash Furniture V...|       Furniture|          5|            0|          0|   N|                Y|Very comfortable....|As advertised. Ve...| 2015-08-31|\n",
            "+-----------+-----------+--------------+----------+--------------+--------------------+----------------+-----------+-------------+-----------+----+-----------------+--------------------+--------------------+-----------+\n",
            "only showing top 20 rows\n",
            "\n",
            "(30266016, 15)\n"
          ],
          "name": "stdout"
        }
      ]
    },
    {
      "cell_type": "code",
      "metadata": {
        "id": "14JsNslqGSmI"
      },
      "source": [
        "# Only considering verified purchases\n",
        "df_df_merge = df_merge.filter(df_merge.verified_purchase == \"Y\")"
      ],
      "execution_count": 12,
      "outputs": []
    },
    {
      "cell_type": "code",
      "metadata": {
        "colab": {
          "base_uri": "https://localhost:8080/"
        },
        "id": "6njBlzbsGSog",
        "outputId": "d132a7ac-4761-4228-a98f-9bfb3364f4b5"
      },
      "source": [
        "# Drop the non-beneficial columns\n",
        "columns_to_drop = [\"marketplace\",\"review_id\",\"product_parent\",\"star_rating\",\"helpful_votes\",\"total_votes\",\"vine\",\"review_headline\",\"review_body\",\"verified_purchase\"]\n",
        "\n",
        "df_merge = df_merge.drop(*columns_to_drop)\n",
        "df_merge.show()\n",
        "\n",
        "print((df_merge.count(), len(df_merge.columns)))"
      ],
      "execution_count": 19,
      "outputs": [
        {
          "output_type": "stream",
          "text": [
            "+-----------+----------+--------------------+----------------+-----------+-----------+\n",
            "|customer_id|product_id|       product_title|product_category|review_date|review_year|\n",
            "+-----------+----------+--------------------+----------------+-----------+-----------+\n",
            "|   24509695|B004HB5E0E|Shoal Creek Compu...|       Furniture| 2015-08-31|       2015|\n",
            "|   34731776|B0042TNMMS|Dorel Home Produc...|       Furniture| 2015-08-31|       2015|\n",
            "|    1272331|B0030MPBZ4|Bathroom Vanity T...|       Furniture| 2015-08-31|       2015|\n",
            "|   45284262|B005G02ESA|Sleep Master Ulti...|       Furniture| 2015-08-31|       2015|\n",
            "|   30003523|B005JS8AUA|1 1/4\" GashGuards...|       Furniture| 2015-08-31|       2015|\n",
            "|   18311821|B00AVUQQGQ|Serta Bonded Leat...|       Furniture| 2015-08-31|       2015|\n",
            "|   42943632|B00CFY20GQ|Prepac Shoe Stora...|       Furniture| 2015-08-31|       2015|\n",
            "|   43157304|B00FKC48QA|HomCom PU Leather...|       Furniture| 2015-08-31|       2015|\n",
            "|   51918480|B00N9IAL9K|  Folding Step Stool|       Furniture| 2015-08-31|       2015|\n",
            "|   14522766|B001T4XU1C|Ace Bayou Adult V...|       Furniture| 2015-08-31|       2015|\n",
            "|   43054112|B002HRFLBC|4D Concepts Audio...|       Furniture| 2015-08-31|       2015|\n",
            "|   26622950|B006MISZOC|Zinus SC-SBBK-14N...|       Furniture| 2015-08-31|       2015|\n",
            "|   17988940|B008BMGABC|Poundex Marble Di...|       Furniture| 2015-08-31|       2015|\n",
            "|   18444952|B00CO2VH5Y|Safavieh Lyndhurs...|       Furniture| 2015-08-31|       2015|\n",
            "|   16937084|B00LI4RJQ0|Sauder Boone Moun...|       Furniture| 2015-08-31|       2015|\n",
            "|   23665632|B0046EC1D0|Winsome Wood Brea...|       Furniture| 2015-08-31|       2015|\n",
            "|    4110125|B00DQQPL36|HODEDAH IMPORT Me...|       Furniture| 2015-08-31|       2015|\n",
            "|     107621|B003X7RWB2|Flash Furniture H...|       Furniture| 2015-08-31|       2015|\n",
            "|    2415090|B001TJYPJ8|Sleep Revolution ...|       Furniture| 2015-08-31|       2015|\n",
            "|   48285966|B000TMHX9A|Flash Furniture V...|       Furniture| 2015-08-31|       2015|\n",
            "+-----------+----------+--------------------+----------------+-----------+-----------+\n",
            "only showing top 20 rows\n",
            "\n",
            "(30266016, 6)\n"
          ],
          "name": "stdout"
        }
      ]
    },
    {
      "cell_type": "code",
      "metadata": {
        "colab": {
          "base_uri": "https://localhost:8080/"
        },
        "id": "l1ozHapdGSq3",
        "outputId": "54b88881-504d-4556-92d1-1264776370a6"
      },
      "source": [
        "# Get datatypes\n",
        "df_merge.printSchema()"
      ],
      "execution_count": 14,
      "outputs": [
        {
          "output_type": "stream",
          "text": [
            "root\n",
            " |-- customer_id: integer (nullable = true)\n",
            " |-- product_id: string (nullable = true)\n",
            " |-- product_title: string (nullable = true)\n",
            " |-- product_category: string (nullable = true)\n",
            " |-- review_date: string (nullable = true)\n",
            "\n"
          ],
          "name": "stdout"
        }
      ]
    },
    {
      "cell_type": "code",
      "metadata": {
        "colab": {
          "base_uri": "https://localhost:8080/"
        },
        "id": "P0eZKJMLGStJ",
        "outputId": "b5bc4316-62cf-42d2-bbc2-18bca35a10e2"
      },
      "source": [
        "# Convert date from string to datetime\n",
        "from pyspark.sql.types import *\n",
        "df_merge = df_merge.withColumn(\"review_date\", df_merge[\"review_date\"].cast(DateType()))\n",
        "\n",
        "df_merge.printSchema()\n",
        "df_merge.show()"
      ],
      "execution_count": 15,
      "outputs": [
        {
          "output_type": "stream",
          "text": [
            "root\n",
            " |-- customer_id: integer (nullable = true)\n",
            " |-- product_id: string (nullable = true)\n",
            " |-- product_title: string (nullable = true)\n",
            " |-- product_category: string (nullable = true)\n",
            " |-- review_date: date (nullable = true)\n",
            "\n",
            "+-----------+----------+--------------------+----------------+-----------+\n",
            "|customer_id|product_id|       product_title|product_category|review_date|\n",
            "+-----------+----------+--------------------+----------------+-----------+\n",
            "|   24509695|B004HB5E0E|Shoal Creek Compu...|       Furniture| 2015-08-31|\n",
            "|   34731776|B0042TNMMS|Dorel Home Produc...|       Furniture| 2015-08-31|\n",
            "|    1272331|B0030MPBZ4|Bathroom Vanity T...|       Furniture| 2015-08-31|\n",
            "|   45284262|B005G02ESA|Sleep Master Ulti...|       Furniture| 2015-08-31|\n",
            "|   30003523|B005JS8AUA|1 1/4\" GashGuards...|       Furniture| 2015-08-31|\n",
            "|   18311821|B00AVUQQGQ|Serta Bonded Leat...|       Furniture| 2015-08-31|\n",
            "|   42943632|B00CFY20GQ|Prepac Shoe Stora...|       Furniture| 2015-08-31|\n",
            "|   43157304|B00FKC48QA|HomCom PU Leather...|       Furniture| 2015-08-31|\n",
            "|   51918480|B00N9IAL9K|  Folding Step Stool|       Furniture| 2015-08-31|\n",
            "|   14522766|B001T4XU1C|Ace Bayou Adult V...|       Furniture| 2015-08-31|\n",
            "|   43054112|B002HRFLBC|4D Concepts Audio...|       Furniture| 2015-08-31|\n",
            "|   26622950|B006MISZOC|Zinus SC-SBBK-14N...|       Furniture| 2015-08-31|\n",
            "|   17988940|B008BMGABC|Poundex Marble Di...|       Furniture| 2015-08-31|\n",
            "|   18444952|B00CO2VH5Y|Safavieh Lyndhurs...|       Furniture| 2015-08-31|\n",
            "|   16937084|B00LI4RJQ0|Sauder Boone Moun...|       Furniture| 2015-08-31|\n",
            "|   23665632|B0046EC1D0|Winsome Wood Brea...|       Furniture| 2015-08-31|\n",
            "|    4110125|B00DQQPL36|HODEDAH IMPORT Me...|       Furniture| 2015-08-31|\n",
            "|     107621|B003X7RWB2|Flash Furniture H...|       Furniture| 2015-08-31|\n",
            "|    2415090|B001TJYPJ8|Sleep Revolution ...|       Furniture| 2015-08-31|\n",
            "|   48285966|B000TMHX9A|Flash Furniture V...|       Furniture| 2015-08-31|\n",
            "+-----------+----------+--------------------+----------------+-----------+\n",
            "only showing top 20 rows\n",
            "\n"
          ],
          "name": "stdout"
        }
      ]
    },
    {
      "cell_type": "code",
      "metadata": {
        "colab": {
          "base_uri": "https://localhost:8080/"
        },
        "id": "fRQJczaPGSvy",
        "outputId": "ffe56f34-20f7-46d2-e5e6-1a7c7cea2b72"
      },
      "source": [
        "from pyspark.sql.functions import year\n",
        "from pyspark.sql.functions import to_date\n",
        " \n",
        "df_merge = df_merge.withColumn(\"review_year\",year(df_merge.review_date))\n",
        "df_merge.show()"
      ],
      "execution_count": 16,
      "outputs": [
        {
          "output_type": "stream",
          "text": [
            "+-----------+----------+--------------------+----------------+-----------+-----------+\n",
            "|customer_id|product_id|       product_title|product_category|review_date|review_year|\n",
            "+-----------+----------+--------------------+----------------+-----------+-----------+\n",
            "|   24509695|B004HB5E0E|Shoal Creek Compu...|       Furniture| 2015-08-31|       2015|\n",
            "|   34731776|B0042TNMMS|Dorel Home Produc...|       Furniture| 2015-08-31|       2015|\n",
            "|    1272331|B0030MPBZ4|Bathroom Vanity T...|       Furniture| 2015-08-31|       2015|\n",
            "|   45284262|B005G02ESA|Sleep Master Ulti...|       Furniture| 2015-08-31|       2015|\n",
            "|   30003523|B005JS8AUA|1 1/4\" GashGuards...|       Furniture| 2015-08-31|       2015|\n",
            "|   18311821|B00AVUQQGQ|Serta Bonded Leat...|       Furniture| 2015-08-31|       2015|\n",
            "|   42943632|B00CFY20GQ|Prepac Shoe Stora...|       Furniture| 2015-08-31|       2015|\n",
            "|   43157304|B00FKC48QA|HomCom PU Leather...|       Furniture| 2015-08-31|       2015|\n",
            "|   51918480|B00N9IAL9K|  Folding Step Stool|       Furniture| 2015-08-31|       2015|\n",
            "|   14522766|B001T4XU1C|Ace Bayou Adult V...|       Furniture| 2015-08-31|       2015|\n",
            "|   43054112|B002HRFLBC|4D Concepts Audio...|       Furniture| 2015-08-31|       2015|\n",
            "|   26622950|B006MISZOC|Zinus SC-SBBK-14N...|       Furniture| 2015-08-31|       2015|\n",
            "|   17988940|B008BMGABC|Poundex Marble Di...|       Furniture| 2015-08-31|       2015|\n",
            "|   18444952|B00CO2VH5Y|Safavieh Lyndhurs...|       Furniture| 2015-08-31|       2015|\n",
            "|   16937084|B00LI4RJQ0|Sauder Boone Moun...|       Furniture| 2015-08-31|       2015|\n",
            "|   23665632|B0046EC1D0|Winsome Wood Brea...|       Furniture| 2015-08-31|       2015|\n",
            "|    4110125|B00DQQPL36|HODEDAH IMPORT Me...|       Furniture| 2015-08-31|       2015|\n",
            "|     107621|B003X7RWB2|Flash Furniture H...|       Furniture| 2015-08-31|       2015|\n",
            "|    2415090|B001TJYPJ8|Sleep Revolution ...|       Furniture| 2015-08-31|       2015|\n",
            "|   48285966|B000TMHX9A|Flash Furniture V...|       Furniture| 2015-08-31|       2015|\n",
            "+-----------+----------+--------------------+----------------+-----------+-----------+\n",
            "only showing top 20 rows\n",
            "\n"
          ],
          "name": "stdout"
        }
      ]
    },
    {
      "cell_type": "code",
      "metadata": {
        "colab": {
          "base_uri": "https://localhost:8080/"
        },
        "id": "1tdmezwbGliI",
        "outputId": "606329d2-6ae8-40e2-e40e-4a228350d7f6"
      },
      "source": [
        "# Create a table to count data rows per year\n",
        "row_year_table = df_merge.groupby(\"review_year\").agg({\"review_year\":\"count\"}).withColumnRenamed(\"count(review_year)\", \"year_count\")\n",
        "row_year_table.sort(row_year_table.review_year.desc()).show(truncate=False)"
      ],
      "execution_count": 17,
      "outputs": [
        {
          "output_type": "stream",
          "text": [
            "+-----------+----------+\n",
            "|review_year|year_count|\n",
            "+-----------+----------+\n",
            "|2015       |10692196  |\n",
            "|2014       |9946608   |\n",
            "|2013       |5066874   |\n",
            "|2012       |1889341   |\n",
            "|2011       |990085    |\n",
            "|2010       |562017    |\n",
            "|2009       |358652    |\n",
            "|2008       |255264    |\n",
            "|2007       |204335    |\n",
            "|2006       |78536     |\n",
            "|2005       |55038     |\n",
            "|2004       |48632     |\n",
            "|2003       |44746     |\n",
            "|2002       |30930     |\n",
            "|2001       |23299     |\n",
            "|2000       |15646     |\n",
            "|1999       |2149      |\n",
            "|1998       |23        |\n",
            "|null       |0         |\n",
            "+-----------+----------+\n",
            "\n"
          ],
          "name": "stdout"
        }
      ]
    },
    {
      "cell_type": "code",
      "metadata": {
        "colab": {
          "base_uri": "https://localhost:8080/"
        },
        "id": "eurGAJjvGlk0",
        "outputId": "cdd809e7-842f-4e05-de8f-ff96f03616ae"
      },
      "source": [
        "# Only considering 2015 data for week 1\n",
        "df_merge = df_merge.filter(df_merge.review_year == \"2015\")\n",
        "print((df_merge.count(), len(df_merge.columns)))\n",
        "df_merge.printSchema()"
      ],
      "execution_count": 22,
      "outputs": [
        {
          "output_type": "stream",
          "text": [
            "(10692196, 6)\n",
            "root\n",
            " |-- customer_id: integer (nullable = true)\n",
            " |-- product_id: string (nullable = true)\n",
            " |-- product_title: string (nullable = true)\n",
            " |-- product_category: string (nullable = true)\n",
            " |-- review_date: date (nullable = true)\n",
            " |-- review_year: integer (nullable = true)\n",
            "\n"
          ],
          "name": "stdout"
        }
      ]
    },
    {
      "cell_type": "code",
      "metadata": {
        "colab": {
          "base_uri": "https://localhost:8080/"
        },
        "id": "SZD_JbKyGlnT",
        "outputId": "983d4386-f8ce-4b04-ef0b-75fa995f8e62"
      },
      "source": [
        "# Create table with customer_IDs and products bought\n",
        "summary_table = df_merge.groupby(\"customer_id\",\"product_id\").count()\n",
        "summary_table.show()"
      ],
      "execution_count": 24,
      "outputs": [
        {
          "output_type": "stream",
          "text": [
            "+-----------+----------+-----+\n",
            "|customer_id|product_id|count|\n",
            "+-----------+----------+-----+\n",
            "|     127351|B008Y2YNX6|    5|\n",
            "|   44249685|B00BLIYCKE|    5|\n",
            "|   44184778|B004HB5E0E|    5|\n",
            "|   29878005|B00KUPS3JU|    5|\n",
            "|    4654511|B00H3PRDRS|    5|\n",
            "|    2096598|B00FYVEMFE|    5|\n",
            "|   33405111|B000LPFUG8|    5|\n",
            "|   14761456|B003Y7GBTU|    5|\n",
            "|    8131416|B00CNAXV6U|    5|\n",
            "|   33780341|B00EKWRAIY|    5|\n",
            "|   37705813|B00RQRR65C|    5|\n",
            "|   13453350|B007S0HIYG|    5|\n",
            "|   46463411|B00KZMWY6Q|    5|\n",
            "|   20776324|B007PZDINY|    5|\n",
            "|   50466302|B004ZYVLQO|    5|\n",
            "|   14938549|B00V1TX894|    5|\n",
            "|    6632758|B007BQGLTA|    5|\n",
            "|    6790551|B00HV9SIDY|    5|\n",
            "|   31328485|B0046EC1CG|    5|\n",
            "|     131864|B00K9BC1GG|    5|\n",
            "+-----------+----------+-----+\n",
            "only showing top 20 rows\n",
            "\n"
          ],
          "name": "stdout"
        }
      ]
    },
    {
      "cell_type": "code",
      "metadata": {
        "id": "IE2BYjXxGlp8"
      },
      "source": [
        "# Create a random sample of the database for the algorithym\n",
        "# Please note that for future iterations we shoudl use stratify samplying\n",
        "\n",
        "\n",
        "df_sample = summary_table(True, 0.1, 100)"
      ],
      "execution_count": null,
      "outputs": []
    },
    {
      "cell_type": "code",
      "metadata": {
        "id": "GdLnqN5fGlvL"
      },
      "source": [
        "# Save to csv file\n",
        "df_sample.write.csv('df_sample.csv')"
      ],
      "execution_count": null,
      "outputs": []
    },
    {
      "cell_type": "code",
      "metadata": {
        "id": "Gk7IeZJwGlxs"
      },
      "source": [
        ""
      ],
      "execution_count": null,
      "outputs": []
    }
  ]
}
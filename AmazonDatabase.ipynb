{
  "nbformat": 4,
  "nbformat_minor": 0,
  "metadata": {
    "colab": {
      "name": "AmazonDatabase.ipynb",
      "provenance": [],
      "authorship_tag": "ABX9TyOX9XCL3MJ6uyYc2MRD2qpP",
      "include_colab_link": true
    },
    "kernelspec": {
      "name": "python3",
      "display_name": "Python 3"
    },
    "language_info": {
      "name": "python"
    }
  },
  "cells": [
    {
      "cell_type": "markdown",
      "metadata": {
        "id": "view-in-github",
        "colab_type": "text"
      },
      "source": [
        "<a href=\"https://colab.research.google.com/github/jbenasuli/final_project/blob/livia-branch/AmazonDatabase.ipynb\" target=\"_parent\"><img src=\"https://colab.research.google.com/assets/colab-badge.svg\" alt=\"Open In Colab\"/></a>"
      ]
    },
    {
      "cell_type": "code",
      "metadata": {
        "colab": {
          "base_uri": "https://localhost:8080/"
        },
        "id": "KGGwvPbKovSS",
        "outputId": "838289ec-fd4f-4570-8a9a-2a89cccf4491"
      },
      "source": [
        "import os\n",
        "# Find the latest version of spark 2.0  from http://www-us.apache.org/dist/spark/ and enter as the spark version\n",
        "# For example:\n",
        "# spark_version = 'spark-3.0.0'\n",
        "spark_version = 'spark-3.1.1'\n",
        "os.environ['SPARK_VERSION']=spark_version\n",
        "\n",
        "# Install Spark and Java\n",
        "!apt-get update\n",
        "!apt-get install openjdk-11-jdk-headless -qq > /dev/null\n",
        "!wget -q http://www-us.apache.org/dist/spark/$SPARK_VERSION/$SPARK_VERSION-bin-hadoop2.7.tgz\n",
        "!tar xf $SPARK_VERSION-bin-hadoop2.7.tgz\n",
        "!pip install -q findspark\n",
        "\n",
        "# Set Environment Variables\n",
        "import os\n",
        "os.environ[\"JAVA_HOME\"] = \"/usr/lib/jvm/java-11-openjdk-amd64\"\n",
        "os.environ[\"SPARK_HOME\"] = f\"/content/{spark_version}-bin-hadoop2.7\"\n",
        "\n",
        "# Start a SparkSession\n",
        "import findspark\n",
        "findspark.init()"
      ],
      "execution_count": 1,
      "outputs": [
        {
          "output_type": "stream",
          "text": [
            "\r0% [Working]\r            \rGet:1 http://security.ubuntu.com/ubuntu bionic-security InRelease [88.7 kB]\n",
            "\r0% [Connecting to archive.ubuntu.com (91.189.88.152)] [1 InRelease 14.2 kB/88.7\r0% [Waiting for headers] [Waiting for headers] [Waiting for headers] [Waiting f\r0% [1 InRelease gpgv 88.7 kB] [Waiting for headers] [Waiting for headers] [Wait\r                                                                               \rGet:2 https://cloud.r-project.org/bin/linux/ubuntu bionic-cran40/ InRelease [3,626 B]\n",
            "Ign:3 https://developer.download.nvidia.com/compute/cuda/repos/ubuntu1804/x86_64  InRelease\n",
            "Hit:4 http://archive.ubuntu.com/ubuntu bionic InRelease\n",
            "Get:5 http://ppa.launchpad.net/c2d4u.team/c2d4u4.0+/ubuntu bionic InRelease [15.9 kB]\n",
            "Ign:6 https://developer.download.nvidia.com/compute/machine-learning/repos/ubuntu1804/x86_64  InRelease\n",
            "Get:7 https://developer.download.nvidia.com/compute/cuda/repos/ubuntu1804/x86_64  Release [697 B]\n",
            "Hit:8 https://developer.download.nvidia.com/compute/machine-learning/repos/ubuntu1804/x86_64  Release\n",
            "Get:9 https://developer.download.nvidia.com/compute/cuda/repos/ubuntu1804/x86_64  Release.gpg [836 B]\n",
            "Get:10 http://archive.ubuntu.com/ubuntu bionic-updates InRelease [88.7 kB]\n",
            "Get:11 http://security.ubuntu.com/ubuntu bionic-security/multiverse amd64 Packages [24.5 kB]\n",
            "Hit:12 http://ppa.launchpad.net/cran/libgit2/ubuntu bionic InRelease\n",
            "Get:13 http://security.ubuntu.com/ubuntu bionic-security/universe amd64 Packages [1,410 kB]\n",
            "Get:14 http://archive.ubuntu.com/ubuntu bionic-backports InRelease [74.6 kB]\n",
            "Get:15 http://security.ubuntu.com/ubuntu bionic-security/restricted amd64 Packages [395 kB]\n",
            "Get:16 http://security.ubuntu.com/ubuntu bionic-security/main amd64 Packages [2,116 kB]\n",
            "Get:17 http://ppa.launchpad.net/deadsnakes/ppa/ubuntu bionic InRelease [15.9 kB]\n",
            "Hit:18 http://ppa.launchpad.net/graphics-drivers/ppa/ubuntu bionic InRelease\n",
            "Ign:20 https://developer.download.nvidia.com/compute/cuda/repos/ubuntu1804/x86_64  Packages\n",
            "Get:20 https://developer.download.nvidia.com/compute/cuda/repos/ubuntu1804/x86_64  Packages [740 kB]\n",
            "Get:21 http://ppa.launchpad.net/c2d4u.team/c2d4u4.0+/ubuntu bionic/main Sources [1,756 kB]\n",
            "Get:22 http://archive.ubuntu.com/ubuntu bionic-updates/multiverse amd64 Packages [31.4 kB]\n",
            "Get:23 http://archive.ubuntu.com/ubuntu bionic-updates/restricted amd64 Packages [425 kB]\n",
            "Get:24 http://archive.ubuntu.com/ubuntu bionic-updates/main amd64 Packages [2,546 kB]\n",
            "Get:25 http://ppa.launchpad.net/c2d4u.team/c2d4u4.0+/ubuntu bionic/main amd64 Packages [899 kB]\n",
            "Get:26 http://archive.ubuntu.com/ubuntu bionic-updates/universe amd64 Packages [2,182 kB]\n",
            "Get:27 http://ppa.launchpad.net/deadsnakes/ppa/ubuntu bionic/main amd64 Packages [39.5 kB]\n",
            "Fetched 12.9 MB in 4s (3,597 kB/s)\n",
            "Reading package lists... Done\n"
          ],
          "name": "stdout"
        }
      ]
    },
    {
      "cell_type": "code",
      "metadata": {
        "id": "i-TtqK6Joz2t"
      },
      "source": [
        "from pyspark.sql import SparkSession\n",
        "spark = SparkSession.builder.appName(\"BigData-Challenge\").config(\"spark.driver.extraClassPath\",\"/content/postgresql-42.2.16.jar\").getOrCreate()"
      ],
      "execution_count": 2,
      "outputs": []
    },
    {
      "cell_type": "code",
      "metadata": {
        "colab": {
          "base_uri": "https://localhost:8080/"
        },
        "id": "96SWJb2Oo16p",
        "outputId": "85f3acb2-eef0-4749-faf0-0a95c3e26e25"
      },
      "source": [
        "# Selected furniture data\n",
        "from pyspark import SparkFiles\n",
        "url = \"https://s3.amazonaws.com/amazon-reviews-pds/tsv/amazon_reviews_us_Furniture_v1_00.tsv.gz\"\n",
        "spark.sparkContext.addFile(url)\n",
        "df_furniture = spark.read.option(\"encoding\", \"UTF-8\").csv(SparkFiles.get(\"\"), sep=\"\\t\", header=True, inferSchema=True)\n",
        "df_furniture.show()"
      ],
      "execution_count": 3,
      "outputs": [
        {
          "output_type": "stream",
          "text": [
            "+-----------+-----------+--------------+----------+--------------+--------------------+----------------+-----------+-------------+-----------+----+-----------------+--------------------+--------------------+-----------+\n",
            "|marketplace|customer_id|     review_id|product_id|product_parent|       product_title|product_category|star_rating|helpful_votes|total_votes|vine|verified_purchase|     review_headline|         review_body|review_date|\n",
            "+-----------+-----------+--------------+----------+--------------+--------------------+----------------+-----------+-------------+-----------+----+-----------------+--------------------+--------------------+-----------+\n",
            "|         US|   24509695|R3VR960AHLFKDV|B004HB5E0E|     488241329|Shoal Creek Compu...|       Furniture|          4|            0|          0|   N|                Y|... desk is very ...|This desk is very...| 2015-08-31|\n",
            "|         US|   34731776|R16LGVMFKIUT0G|B0042TNMMS|     205864445|Dorel Home Produc...|       Furniture|          5|            0|          0|   N|                Y|          Five Stars|          Great item| 2015-08-31|\n",
            "|         US|    1272331|R1AIMEEPYHMOE4|B0030MPBZ4|     124663823|Bathroom Vanity T...|       Furniture|          5|            1|          1|   N|                Y|          Five Stars|Perfect fit for m...| 2015-08-31|\n",
            "|         US|   45284262|R1892CCSZWZ9SR|B005G02ESA|     382367578|Sleep Master Ulti...|       Furniture|          3|            0|          0|   N|                Y|         Good enough|We use this on a ...| 2015-08-31|\n",
            "|         US|   30003523|R285P679YWVKD1|B005JS8AUA|     309497463|1 1/4\" GashGuards...|       Furniture|          3|            0|          0|   N|                N|Gash Gards for da...|The product is fi...| 2015-08-31|\n",
            "|         US|   18311821| RLB33HJBXHZHU|B00AVUQQGQ|     574537906|Serta Bonded Leat...|       Furniture|          5|            0|          0|   N|                Y|          Five Stars|Love this product...| 2015-08-31|\n",
            "|         US|   42943632|R1VGTZ94DBAD6A|B00CFY20GQ|     407473883|Prepac Shoe Stora...|       Furniture|          5|            2|          2|   N|                Y|   I love this bench|I love this bench...| 2015-08-31|\n",
            "|         US|   43157304|R168KF82ICSOHD|B00FKC48QA|     435120460|HomCom PU Leather...|       Furniture|          5|            0|          0|   N|                Y|Great storage cap...|Have had this for...| 2015-08-31|\n",
            "|         US|   51918480|R20DIYIJ0OCMOG|B00N9IAL9K|     356495985|  Folding Step Stool|       Furniture|          5|            0|          0|   N|                Y|This is the best ...|This is the best ...| 2015-08-31|\n",
            "|         US|   14522766| RD46RNVOHNZSC|B001T4XU1C|     243050228|Ace Bayou Adult V...|       Furniture|          5|            0|          0|   N|                Y|    great for price!|    my son loves it!| 2015-08-31|\n",
            "|         US|   43054112|R2JDOCETTM3AXS|B002HRFLBC|      93574483|4D Concepts Audio...|       Furniture|          5|            0|          0|   N|                Y|          Five Stars|       Great product| 2015-08-31|\n",
            "|         US|   26622950|R33YMW36IDZ6LE|B006MISZOC|     941823468|Zinus SC-SBBK-14N...|       Furniture|          5|            0|          0|   N|                Y|             perfect|bought with sleep...| 2015-08-31|\n",
            "|         US|   17988940|R30ZGGUHZ04C1S|B008BMGABC|     460567746|Poundex Marble Di...|       Furniture|          5|            1|          1|   N|                Y|   Very satisfied!!!|Delivery was on t...| 2015-08-31|\n",
            "|         US|   18444952| RS2EZU76IK2BT|B00CO2VH5Y|     829613894|Safavieh Lyndhurs...|       Furniture|          5|            0|          0|   N|                Y|soft and great fo...|Exactly as pictur...| 2015-08-31|\n",
            "|         US|   16937084|R1GJC1BP028XO9|B00LI4RJQ0|     816478187|Sauder Boone Moun...|       Furniture|          5|            2|          3|   N|                Y|        Great table.|Beautiful table. ...| 2015-08-31|\n",
            "|         US|   23665632|R2VKJPGXXEK5GP|B0046EC1D0|     358594389|Winsome Wood Brea...|       Furniture|          1|            0|          0|   N|                Y|Not what I expect...|I have cleaned up...| 2015-08-31|\n",
            "|         US|    4110125|R17KS83G3KLT97|B00DQQPL36|     312571325|HODEDAH IMPORT Me...|       Furniture|          3|            0|          0|   N|                Y|         Three Stars|First one came in...| 2015-08-31|\n",
            "|         US|     107621|R3PQL8SR4NEHWL|B003X7RWB2|     402665054|Flash Furniture H...|       Furniture|          4|            0|          0|   N|                Y|          Four Stars|Good deal to get ...| 2015-08-31|\n",
            "|         US|    2415090|R2F5WW7WNO5RRG|B001TJYPJ8|     854989315|Sleep Revolution ...|       Furniture|          5|            0|          0|   N|                Y|          Five Stars|Comfortable and e...| 2015-08-31|\n",
            "|         US|   48285966|R3UDJKVWQCFIC9|B000TMHX9A|     814079288|Flash Furniture V...|       Furniture|          5|            0|          0|   N|                Y|Very comfortable....|As advertised. Ve...| 2015-08-31|\n",
            "+-----------+-----------+--------------+----------+--------------+--------------------+----------------+-----------+-------------+-----------+----+-----------------+--------------------+--------------------+-----------+\n",
            "only showing top 20 rows\n",
            "\n"
          ],
          "name": "stdout"
        }
      ]
    },
    {
      "cell_type": "code",
      "metadata": {
        "id": "9ygTNZDYoWo0",
        "colab": {
          "base_uri": "https://localhost:8080/"
        },
        "outputId": "0c57097d-fa9c-4996-95ec-5148e2adecec"
      },
      "source": [
        "print((df_furniture.count(), len(df_furniture.columns)))"
      ],
      "execution_count": 4,
      "outputs": [
        {
          "output_type": "stream",
          "text": [
            "(792113, 15)\n"
          ],
          "name": "stdout"
        }
      ]
    },
    {
      "cell_type": "code",
      "metadata": {
        "id": "fHNQ-W7o17-Y",
        "colab": {
          "base_uri": "https://localhost:8080/"
        },
        "outputId": "3cf52f18-1f9c-403b-ea39-285fc906ba9d"
      },
      "source": [
        "# Drop the non-beneficial columns\n",
        "columns_to_drop = [\"review_id\",\"product_title\",\"helpful_votes\",\"review_headline\",\"review_body\",\"marketplace\"]\n",
        "\n",
        "df_furniture = df_furniture.drop(*columns_to_drop)\n",
        "df_furniture.show()"
      ],
      "execution_count": 5,
      "outputs": [
        {
          "output_type": "stream",
          "text": [
            "+-----------+----------+--------------+----------------+-----------+-----------+----+-----------------+-----------+\n",
            "|customer_id|product_id|product_parent|product_category|star_rating|total_votes|vine|verified_purchase|review_date|\n",
            "+-----------+----------+--------------+----------------+-----------+-----------+----+-----------------+-----------+\n",
            "|   24509695|B004HB5E0E|     488241329|       Furniture|          4|          0|   N|                Y| 2015-08-31|\n",
            "|   34731776|B0042TNMMS|     205864445|       Furniture|          5|          0|   N|                Y| 2015-08-31|\n",
            "|    1272331|B0030MPBZ4|     124663823|       Furniture|          5|          1|   N|                Y| 2015-08-31|\n",
            "|   45284262|B005G02ESA|     382367578|       Furniture|          3|          0|   N|                Y| 2015-08-31|\n",
            "|   30003523|B005JS8AUA|     309497463|       Furniture|          3|          0|   N|                N| 2015-08-31|\n",
            "|   18311821|B00AVUQQGQ|     574537906|       Furniture|          5|          0|   N|                Y| 2015-08-31|\n",
            "|   42943632|B00CFY20GQ|     407473883|       Furniture|          5|          2|   N|                Y| 2015-08-31|\n",
            "|   43157304|B00FKC48QA|     435120460|       Furniture|          5|          0|   N|                Y| 2015-08-31|\n",
            "|   51918480|B00N9IAL9K|     356495985|       Furniture|          5|          0|   N|                Y| 2015-08-31|\n",
            "|   14522766|B001T4XU1C|     243050228|       Furniture|          5|          0|   N|                Y| 2015-08-31|\n",
            "|   43054112|B002HRFLBC|      93574483|       Furniture|          5|          0|   N|                Y| 2015-08-31|\n",
            "|   26622950|B006MISZOC|     941823468|       Furniture|          5|          0|   N|                Y| 2015-08-31|\n",
            "|   17988940|B008BMGABC|     460567746|       Furniture|          5|          1|   N|                Y| 2015-08-31|\n",
            "|   18444952|B00CO2VH5Y|     829613894|       Furniture|          5|          0|   N|                Y| 2015-08-31|\n",
            "|   16937084|B00LI4RJQ0|     816478187|       Furniture|          5|          3|   N|                Y| 2015-08-31|\n",
            "|   23665632|B0046EC1D0|     358594389|       Furniture|          1|          0|   N|                Y| 2015-08-31|\n",
            "|    4110125|B00DQQPL36|     312571325|       Furniture|          3|          0|   N|                Y| 2015-08-31|\n",
            "|     107621|B003X7RWB2|     402665054|       Furniture|          4|          0|   N|                Y| 2015-08-31|\n",
            "|    2415090|B001TJYPJ8|     854989315|       Furniture|          5|          0|   N|                Y| 2015-08-31|\n",
            "|   48285966|B000TMHX9A|     814079288|       Furniture|          5|          0|   N|                Y| 2015-08-31|\n",
            "+-----------+----------+--------------+----------------+-----------+-----------+----+-----------------+-----------+\n",
            "only showing top 20 rows\n",
            "\n"
          ],
          "name": "stdout"
        }
      ]
    },
    {
      "cell_type": "code",
      "metadata": {
        "id": "pbxL3ynlo_QE",
        "colab": {
          "base_uri": "https://localhost:8080/"
        },
        "outputId": "d2466c40-e3a6-4ab6-a72e-67316c7795ae"
      },
      "source": [
        "# Only considering verified purchases\n",
        "df_furniture = df_furniture.filter(df_furniture.verified_purchase == \"Y\")\n",
        "print((df_furniture.count(), len(df_furniture.columns)))"
      ],
      "execution_count": 6,
      "outputs": [
        {
          "output_type": "stream",
          "text": [
            "(718192, 9)\n"
          ],
          "name": "stdout"
        }
      ]
    },
    {
      "cell_type": "code",
      "metadata": {
        "id": "1zyIxaunrLKe",
        "colab": {
          "base_uri": "https://localhost:8080/"
        },
        "outputId": "0c0c866d-9007-4b32-d2d0-dc351f98b553"
      },
      "source": [
        "# Selected home data\n",
        "from pyspark import SparkFiles\n",
        "url = \"https://s3.amazonaws.com/amazon-reviews-pds/tsv/amazon_reviews_us_Home_v1_00.tsv.gz\"\n",
        "spark.sparkContext.addFile(url)\n",
        "df_home = spark.read.option(\"encoding\", \"UTF-8\").csv(SparkFiles.get(\"\"), sep=\"\\t\", header=True, inferSchema=True)\n",
        "df_home.show()"
      ],
      "execution_count": 7,
      "outputs": [
        {
          "output_type": "stream",
          "text": [
            "+-----------+-----------+--------------+----------+--------------+--------------------+----------------+-----------+-------------+-----------+----+-----------------+--------------------+--------------------+-----------+\n",
            "|marketplace|customer_id|     review_id|product_id|product_parent|       product_title|product_category|star_rating|helpful_votes|total_votes|vine|verified_purchase|     review_headline|         review_body|review_date|\n",
            "+-----------+-----------+--------------+----------+--------------+--------------------+----------------+-----------+-------------+-----------+----+-----------------+--------------------+--------------------+-----------+\n",
            "|         US|   33670092|R1UUISQ1GKOJTI|B00EE62UAE|     583436067|Trademark Home Po...|            Home|          1|            0|          0|   N|                Y|                 Run|Don't buy it clap...| 2015-08-31|\n",
            "|         US|   13726692|R1HOJ9WE8VCVOD|B001APXO5C|     465035091|O2-Cool 10-Inch P...|            Home|          5|            9|          9|   N|                Y|Love it, really c...|Love this ,I boug...| 2015-08-31|\n",
            "|         US|   50131396| RDNGVXMWQN2TN|B002HFDLCK|     136507891|Hoover Vacuum Cle...|            Home|          5|            0|          0|   N|                Y|          Five Stars|Nice style, color...| 2015-08-31|\n",
            "|         US|   16046884|R3OM9COQMVTDJ2|B00PL9EFPQ|     631238459|Banksy Pile of Ri...|            Home|          2|            0|          0|   N|                Y|Love Banksy's wor...|Meeeh. Love Banks...| 2015-08-31|\n",
            "|         US|   11417282|R3OFUQVR4Y80Q9|B00B5TPVQS|     190431573|SkyScan Atomic Wa...|            Home|          4|            0|          0|   N|                N|A silent second h...|Review by John Cr...| 2015-08-31|\n",
            "|         US|   48013430|R2GD25SBBGRKPO|B00NQDGHDC|     124050883|Mellanni Bed Shee...|            Home|          5|            0|          0|   N|                Y|I am very pleased...|I am very pleased...| 2015-08-31|\n",
            "|         US|    7341516|R3RRSLYKVWH9WB|B00I3BYEXM|     933053612|Hippie Hobo Sling...|            Home|          5|            0|          0|   N|                Y|          Five Stars|LOVE THIS SO VERY...| 2015-08-31|\n",
            "|         US|   20696954|R2HMFAGJJU6NT3|B008QZD7RY|      77515396|OluKai Hokua Sand...|            Home|          5|            0|          0|   N|                Y|          Five Stars|           Love them| 2015-08-31|\n",
            "|         US|   28241302|R2QDRZATHBY4GY|B00TQ6MXE0|     267158600|Melrose Ivory Ant...|            Home|          1|            0|          0|   N|                Y|Not the color I e...|This is a nice sh...| 2015-08-31|\n",
            "|         US|   45444347|R107946YZK57Q2|B004O39RJ4|     473994651|Home Basics 6-Pie...|            Home|          2|            0|          0|   N|                Y|Two mugs came chi...|Two mugs came chi...| 2015-08-31|\n",
            "|         US|   15080335|R31EK6FUI5YAL1|B003LZ09C0|     945333576|La Crosse Technol...|            Home|          5|            0|          0|   N|                Y|          Five Stars|Works great, it a...| 2015-08-31|\n",
            "|         US|   12081067|R2PCO0R2FKDQLD|B00I56KQV4|     383995956|Cozy Beddings 3-P...|            Home|          5|            0|          0|   N|                Y|          Five Stars|Exactly as I expe...| 2015-08-31|\n",
            "|         US|   26317120|R3HR2Y7RR8NWL0|B00GS6ENAS|     255999883|Tools of the Trad...|            Home|          4|            0|          0|   N|                Y|          Four Stars|    met expectations| 2015-08-31|\n",
            "|         US|   37523392|R2D2NATNTV6VBD|B00S9X17SY|     142926812|Clara Clark Premi...|            Home|          3|            0|          0|   N|                Y|        Pretty color|Very silky feelin...| 2015-08-31|\n",
            "|         US|   36990227| RKB0AGB0GJ693|B001R1RXUG|     237680897|Honeywell HT-908 ...|            Home|          5|            0|          0|   N|                Y|          Five Stars|Works great for t...| 2015-08-31|\n",
            "|         US|    8273344| RN6VOEZIS9SRX|B008T19WSS|     395315543|2 pcs .925 Sterli...|            Home|          5|            0|          0|   N|                Y|          Five Stars|          love these| 2015-08-31|\n",
            "|         US|   45448526|R31I8XK53JBAQ2|B011A4X754|     751900773|Artficial Pachyve...|            Home|          4|            0|          0|   N|                Y|          Four Stars|Good length. Very...| 2015-08-31|\n",
            "|         US|   28088591|R2R2Y989GKB6QH|B00DDIKBQO|     764331420|Pinzon Blackout C...|            Home|          5|            0|          0|   N|                Y|          Five Stars|        Works great!| 2015-08-31|\n",
            "|         US|   20276397|R12WZKURAV2VEY|B00F3T165Q|     962537263|Rit Dye Liquid Dy...|            Home|          5|            0|          0|   N|                Y|            Love it!|Been using this f...| 2015-08-31|\n",
            "|         US|     123327| RX2EMR0I821HW|B006C6FC6S|     279696452|The Original Slee...|            Home|          2|            0|          0|   N|                Y|           Two Stars|Ehh. Not sure why...| 2015-08-31|\n",
            "+-----------+-----------+--------------+----------+--------------+--------------------+----------------+-----------+-------------+-----------+----+-----------------+--------------------+--------------------+-----------+\n",
            "only showing top 20 rows\n",
            "\n"
          ],
          "name": "stdout"
        }
      ]
    },
    {
      "cell_type": "code",
      "metadata": {
        "id": "uFDtlD9Psjyh",
        "colab": {
          "base_uri": "https://localhost:8080/"
        },
        "outputId": "36314fa6-7359-4ceb-94b4-d04e2e0b1dea"
      },
      "source": [
        "print((df_home.count(), len(df_home.columns)))"
      ],
      "execution_count": 8,
      "outputs": [
        {
          "output_type": "stream",
          "text": [
            "(7013672, 15)\n"
          ],
          "name": "stdout"
        }
      ]
    },
    {
      "cell_type": "code",
      "metadata": {
        "id": "-s4_C07rsj2Z",
        "colab": {
          "base_uri": "https://localhost:8080/"
        },
        "outputId": "edf9d27a-3996-4fe6-9f3e-df34b8fe8d33"
      },
      "source": [
        "# Drop the non-beneficial columns\n",
        "df_home = df_home.drop(*columns_to_drop)\n",
        "df_home.show()"
      ],
      "execution_count": 9,
      "outputs": [
        {
          "output_type": "stream",
          "text": [
            "+-----------+----------+--------------+----------------+-----------+-----------+----+-----------------+-----------+\n",
            "|customer_id|product_id|product_parent|product_category|star_rating|total_votes|vine|verified_purchase|review_date|\n",
            "+-----------+----------+--------------+----------------+-----------+-----------+----+-----------------+-----------+\n",
            "|   33670092|B00EE62UAE|     583436067|            Home|          1|          0|   N|                Y| 2015-08-31|\n",
            "|   13726692|B001APXO5C|     465035091|            Home|          5|          9|   N|                Y| 2015-08-31|\n",
            "|   50131396|B002HFDLCK|     136507891|            Home|          5|          0|   N|                Y| 2015-08-31|\n",
            "|   16046884|B00PL9EFPQ|     631238459|            Home|          2|          0|   N|                Y| 2015-08-31|\n",
            "|   11417282|B00B5TPVQS|     190431573|            Home|          4|          0|   N|                N| 2015-08-31|\n",
            "|   48013430|B00NQDGHDC|     124050883|            Home|          5|          0|   N|                Y| 2015-08-31|\n",
            "|    7341516|B00I3BYEXM|     933053612|            Home|          5|          0|   N|                Y| 2015-08-31|\n",
            "|   20696954|B008QZD7RY|      77515396|            Home|          5|          0|   N|                Y| 2015-08-31|\n",
            "|   28241302|B00TQ6MXE0|     267158600|            Home|          1|          0|   N|                Y| 2015-08-31|\n",
            "|   45444347|B004O39RJ4|     473994651|            Home|          2|          0|   N|                Y| 2015-08-31|\n",
            "|   15080335|B003LZ09C0|     945333576|            Home|          5|          0|   N|                Y| 2015-08-31|\n",
            "|   12081067|B00I56KQV4|     383995956|            Home|          5|          0|   N|                Y| 2015-08-31|\n",
            "|   26317120|B00GS6ENAS|     255999883|            Home|          4|          0|   N|                Y| 2015-08-31|\n",
            "|   37523392|B00S9X17SY|     142926812|            Home|          3|          0|   N|                Y| 2015-08-31|\n",
            "|   36990227|B001R1RXUG|     237680897|            Home|          5|          0|   N|                Y| 2015-08-31|\n",
            "|    8273344|B008T19WSS|     395315543|            Home|          5|          0|   N|                Y| 2015-08-31|\n",
            "|   45448526|B011A4X754|     751900773|            Home|          4|          0|   N|                Y| 2015-08-31|\n",
            "|   28088591|B00DDIKBQO|     764331420|            Home|          5|          0|   N|                Y| 2015-08-31|\n",
            "|   20276397|B00F3T165Q|     962537263|            Home|          5|          0|   N|                Y| 2015-08-31|\n",
            "|     123327|B006C6FC6S|     279696452|            Home|          2|          0|   N|                Y| 2015-08-31|\n",
            "+-----------+----------+--------------+----------------+-----------+-----------+----+-----------------+-----------+\n",
            "only showing top 20 rows\n",
            "\n"
          ],
          "name": "stdout"
        }
      ]
    },
    {
      "cell_type": "code",
      "metadata": {
        "id": "dOjFbvb3sj5-",
        "colab": {
          "base_uri": "https://localhost:8080/"
        },
        "outputId": "19ce3eb9-15d0-482f-d359-610d342fd753"
      },
      "source": [
        "# Only considering verified purchases\n",
        "df_home = df_home.filter(df_home.verified_purchase == \"Y\")\n",
        "print((df_home.count(), len(df_home.columns)))"
      ],
      "execution_count": 10,
      "outputs": [
        {
          "output_type": "stream",
          "text": [
            "(6263101, 9)\n"
          ],
          "name": "stdout"
        }
      ]
    },
    {
      "cell_type": "code",
      "metadata": {
        "id": "Yzqnj8j9olR1",
        "colab": {
          "base_uri": "https://localhost:8080/"
        },
        "outputId": "9d5a7891-14a6-4dae-d90e-f24cf68f5e13"
      },
      "source": [
        "print((df_home.count(), len(df_home.columns)))"
      ],
      "execution_count": 11,
      "outputs": [
        {
          "output_type": "stream",
          "text": [
            "(6263101, 9)\n"
          ],
          "name": "stdout"
        }
      ]
    },
    {
      "cell_type": "code",
      "metadata": {
        "id": "hheEdv3DsEEm",
        "colab": {
          "base_uri": "https://localhost:8080/"
        },
        "outputId": "bb62c917-bbd5-4381-ff20-246bbd04d89f"
      },
      "source": [
        "# Merge both databases\n",
        "from functools import reduce  # For Python 3.x\n",
        "from pyspark.sql import DataFrame\n",
        "\n",
        "def unionAll(*dfs):\n",
        "    return reduce(DataFrame.unionAll, dfs)\n",
        "\n",
        "df_merge = unionAll(df_furniture, df_home)\n",
        "df_merge.show()\n"
      ],
      "execution_count": 53,
      "outputs": [
        {
          "output_type": "stream",
          "text": [
            "+-----------+----------+--------------+----------------+-----------+-----------+----+-----------------+-----------+\n",
            "|customer_id|product_id|product_parent|product_category|star_rating|total_votes|vine|verified_purchase|review_date|\n",
            "+-----------+----------+--------------+----------------+-----------+-----------+----+-----------------+-----------+\n",
            "|   24509695|B004HB5E0E|     488241329|       Furniture|          4|          0|   N|                Y| 2015-08-31|\n",
            "|   34731776|B0042TNMMS|     205864445|       Furniture|          5|          0|   N|                Y| 2015-08-31|\n",
            "|    1272331|B0030MPBZ4|     124663823|       Furniture|          5|          1|   N|                Y| 2015-08-31|\n",
            "|   45284262|B005G02ESA|     382367578|       Furniture|          3|          0|   N|                Y| 2015-08-31|\n",
            "|   18311821|B00AVUQQGQ|     574537906|       Furniture|          5|          0|   N|                Y| 2015-08-31|\n",
            "|   42943632|B00CFY20GQ|     407473883|       Furniture|          5|          2|   N|                Y| 2015-08-31|\n",
            "|   43157304|B00FKC48QA|     435120460|       Furniture|          5|          0|   N|                Y| 2015-08-31|\n",
            "|   51918480|B00N9IAL9K|     356495985|       Furniture|          5|          0|   N|                Y| 2015-08-31|\n",
            "|   14522766|B001T4XU1C|     243050228|       Furniture|          5|          0|   N|                Y| 2015-08-31|\n",
            "|   43054112|B002HRFLBC|      93574483|       Furniture|          5|          0|   N|                Y| 2015-08-31|\n",
            "|   26622950|B006MISZOC|     941823468|       Furniture|          5|          0|   N|                Y| 2015-08-31|\n",
            "|   17988940|B008BMGABC|     460567746|       Furniture|          5|          1|   N|                Y| 2015-08-31|\n",
            "|   18444952|B00CO2VH5Y|     829613894|       Furniture|          5|          0|   N|                Y| 2015-08-31|\n",
            "|   16937084|B00LI4RJQ0|     816478187|       Furniture|          5|          3|   N|                Y| 2015-08-31|\n",
            "|   23665632|B0046EC1D0|     358594389|       Furniture|          1|          0|   N|                Y| 2015-08-31|\n",
            "|    4110125|B00DQQPL36|     312571325|       Furniture|          3|          0|   N|                Y| 2015-08-31|\n",
            "|     107621|B003X7RWB2|     402665054|       Furniture|          4|          0|   N|                Y| 2015-08-31|\n",
            "|    2415090|B001TJYPJ8|     854989315|       Furniture|          5|          0|   N|                Y| 2015-08-31|\n",
            "|   48285966|B000TMHX9A|     814079288|       Furniture|          5|          0|   N|                Y| 2015-08-31|\n",
            "|   33228559|B005MZBB2O|     523675277|       Furniture|          5|          0|   N|                Y| 2015-08-31|\n",
            "+-----------+----------+--------------+----------------+-----------+-----------+----+-----------------+-----------+\n",
            "only showing top 20 rows\n",
            "\n"
          ],
          "name": "stdout"
        }
      ]
    },
    {
      "cell_type": "code",
      "metadata": {
        "id": "jS2kJTCbtyxq",
        "colab": {
          "base_uri": "https://localhost:8080/"
        },
        "outputId": "277d294a-612c-449a-b578-e1a1f247e7f1"
      },
      "source": [
        "print((df_merge.count(), len(df_merge.columns)))"
      ],
      "execution_count": 54,
      "outputs": [
        {
          "output_type": "stream",
          "text": [
            "(6981293, 9)\n"
          ],
          "name": "stdout"
        }
      ]
    },
    {
      "cell_type": "code",
      "metadata": {
        "id": "cJf3ljtYqL5o",
        "colab": {
          "base_uri": "https://localhost:8080/"
        },
        "outputId": "33aea43a-1b96-445c-a18f-45103952b1de"
      },
      "source": [
        "# Get datatypes\n",
        "df_merge.printSchema()"
      ],
      "execution_count": 55,
      "outputs": [
        {
          "output_type": "stream",
          "text": [
            "root\n",
            " |-- customer_id: integer (nullable = true)\n",
            " |-- product_id: string (nullable = true)\n",
            " |-- product_parent: integer (nullable = true)\n",
            " |-- product_category: string (nullable = true)\n",
            " |-- star_rating: integer (nullable = true)\n",
            " |-- total_votes: integer (nullable = true)\n",
            " |-- vine: string (nullable = true)\n",
            " |-- verified_purchase: string (nullable = true)\n",
            " |-- review_date: string (nullable = true)\n",
            "\n"
          ],
          "name": "stdout"
        }
      ]
    },
    {
      "cell_type": "code",
      "metadata": {
        "colab": {
          "base_uri": "https://localhost:8080/"
        },
        "id": "XAJLdghPZqjy",
        "outputId": "9a731374-4cb0-49f4-9e73-36de7af9a3c7"
      },
      "source": [
        "from pyspark.sql.types import *\n",
        "df_merge = df_merge.withColumn(\"review_date\", df_merge[\"review_date\"].cast(DateType()))\n",
        "\n",
        "df_merge.printSchema()\n",
        "df_merge.show()"
      ],
      "execution_count": 56,
      "outputs": [
        {
          "output_type": "stream",
          "text": [
            "root\n",
            " |-- customer_id: integer (nullable = true)\n",
            " |-- product_id: string (nullable = true)\n",
            " |-- product_parent: integer (nullable = true)\n",
            " |-- product_category: string (nullable = true)\n",
            " |-- star_rating: integer (nullable = true)\n",
            " |-- total_votes: integer (nullable = true)\n",
            " |-- vine: string (nullable = true)\n",
            " |-- verified_purchase: string (nullable = true)\n",
            " |-- review_date: date (nullable = true)\n",
            "\n",
            "+-----------+----------+--------------+----------------+-----------+-----------+----+-----------------+-----------+\n",
            "|customer_id|product_id|product_parent|product_category|star_rating|total_votes|vine|verified_purchase|review_date|\n",
            "+-----------+----------+--------------+----------------+-----------+-----------+----+-----------------+-----------+\n",
            "|   24509695|B004HB5E0E|     488241329|       Furniture|          4|          0|   N|                Y| 2015-08-31|\n",
            "|   34731776|B0042TNMMS|     205864445|       Furniture|          5|          0|   N|                Y| 2015-08-31|\n",
            "|    1272331|B0030MPBZ4|     124663823|       Furniture|          5|          1|   N|                Y| 2015-08-31|\n",
            "|   45284262|B005G02ESA|     382367578|       Furniture|          3|          0|   N|                Y| 2015-08-31|\n",
            "|   18311821|B00AVUQQGQ|     574537906|       Furniture|          5|          0|   N|                Y| 2015-08-31|\n",
            "|   42943632|B00CFY20GQ|     407473883|       Furniture|          5|          2|   N|                Y| 2015-08-31|\n",
            "|   43157304|B00FKC48QA|     435120460|       Furniture|          5|          0|   N|                Y| 2015-08-31|\n",
            "|   51918480|B00N9IAL9K|     356495985|       Furniture|          5|          0|   N|                Y| 2015-08-31|\n",
            "|   14522766|B001T4XU1C|     243050228|       Furniture|          5|          0|   N|                Y| 2015-08-31|\n",
            "|   43054112|B002HRFLBC|      93574483|       Furniture|          5|          0|   N|                Y| 2015-08-31|\n",
            "|   26622950|B006MISZOC|     941823468|       Furniture|          5|          0|   N|                Y| 2015-08-31|\n",
            "|   17988940|B008BMGABC|     460567746|       Furniture|          5|          1|   N|                Y| 2015-08-31|\n",
            "|   18444952|B00CO2VH5Y|     829613894|       Furniture|          5|          0|   N|                Y| 2015-08-31|\n",
            "|   16937084|B00LI4RJQ0|     816478187|       Furniture|          5|          3|   N|                Y| 2015-08-31|\n",
            "|   23665632|B0046EC1D0|     358594389|       Furniture|          1|          0|   N|                Y| 2015-08-31|\n",
            "|    4110125|B00DQQPL36|     312571325|       Furniture|          3|          0|   N|                Y| 2015-08-31|\n",
            "|     107621|B003X7RWB2|     402665054|       Furniture|          4|          0|   N|                Y| 2015-08-31|\n",
            "|    2415090|B001TJYPJ8|     854989315|       Furniture|          5|          0|   N|                Y| 2015-08-31|\n",
            "|   48285966|B000TMHX9A|     814079288|       Furniture|          5|          0|   N|                Y| 2015-08-31|\n",
            "|   33228559|B005MZBB2O|     523675277|       Furniture|          5|          0|   N|                Y| 2015-08-31|\n",
            "+-----------+----------+--------------+----------------+-----------+-----------+----+-----------------+-----------+\n",
            "only showing top 20 rows\n",
            "\n"
          ],
          "name": "stdout"
        }
      ]
    },
    {
      "cell_type": "code",
      "metadata": {
        "colab": {
          "base_uri": "https://localhost:8080/"
        },
        "id": "djBrYSt-co2u",
        "outputId": "277a1783-db5c-4ff8-abcd-baead99fa1be"
      },
      "source": [
        "from pyspark.sql.functions import year\n",
        "from pyspark.sql.functions import to_date\n",
        " \n",
        "df_merge = df_merge.withColumn(\"review_year\",year(df_merge.review_date))\n",
        "df_merge.show()"
      ],
      "execution_count": 57,
      "outputs": [
        {
          "output_type": "stream",
          "text": [
            "+-----------+----------+--------------+----------------+-----------+-----------+----+-----------------+-----------+-----------+\n",
            "|customer_id|product_id|product_parent|product_category|star_rating|total_votes|vine|verified_purchase|review_date|review_year|\n",
            "+-----------+----------+--------------+----------------+-----------+-----------+----+-----------------+-----------+-----------+\n",
            "|   24509695|B004HB5E0E|     488241329|       Furniture|          4|          0|   N|                Y| 2015-08-31|       2015|\n",
            "|   34731776|B0042TNMMS|     205864445|       Furniture|          5|          0|   N|                Y| 2015-08-31|       2015|\n",
            "|    1272331|B0030MPBZ4|     124663823|       Furniture|          5|          1|   N|                Y| 2015-08-31|       2015|\n",
            "|   45284262|B005G02ESA|     382367578|       Furniture|          3|          0|   N|                Y| 2015-08-31|       2015|\n",
            "|   18311821|B00AVUQQGQ|     574537906|       Furniture|          5|          0|   N|                Y| 2015-08-31|       2015|\n",
            "|   42943632|B00CFY20GQ|     407473883|       Furniture|          5|          2|   N|                Y| 2015-08-31|       2015|\n",
            "|   43157304|B00FKC48QA|     435120460|       Furniture|          5|          0|   N|                Y| 2015-08-31|       2015|\n",
            "|   51918480|B00N9IAL9K|     356495985|       Furniture|          5|          0|   N|                Y| 2015-08-31|       2015|\n",
            "|   14522766|B001T4XU1C|     243050228|       Furniture|          5|          0|   N|                Y| 2015-08-31|       2015|\n",
            "|   43054112|B002HRFLBC|      93574483|       Furniture|          5|          0|   N|                Y| 2015-08-31|       2015|\n",
            "|   26622950|B006MISZOC|     941823468|       Furniture|          5|          0|   N|                Y| 2015-08-31|       2015|\n",
            "|   17988940|B008BMGABC|     460567746|       Furniture|          5|          1|   N|                Y| 2015-08-31|       2015|\n",
            "|   18444952|B00CO2VH5Y|     829613894|       Furniture|          5|          0|   N|                Y| 2015-08-31|       2015|\n",
            "|   16937084|B00LI4RJQ0|     816478187|       Furniture|          5|          3|   N|                Y| 2015-08-31|       2015|\n",
            "|   23665632|B0046EC1D0|     358594389|       Furniture|          1|          0|   N|                Y| 2015-08-31|       2015|\n",
            "|    4110125|B00DQQPL36|     312571325|       Furniture|          3|          0|   N|                Y| 2015-08-31|       2015|\n",
            "|     107621|B003X7RWB2|     402665054|       Furniture|          4|          0|   N|                Y| 2015-08-31|       2015|\n",
            "|    2415090|B001TJYPJ8|     854989315|       Furniture|          5|          0|   N|                Y| 2015-08-31|       2015|\n",
            "|   48285966|B000TMHX9A|     814079288|       Furniture|          5|          0|   N|                Y| 2015-08-31|       2015|\n",
            "|   33228559|B005MZBB2O|     523675277|       Furniture|          5|          0|   N|                Y| 2015-08-31|       2015|\n",
            "+-----------+----------+--------------+----------------+-----------+-----------+----+-----------------+-----------+-----------+\n",
            "only showing top 20 rows\n",
            "\n"
          ],
          "name": "stdout"
        }
      ]
    },
    {
      "cell_type": "code",
      "metadata": {
        "colab": {
          "base_uri": "https://localhost:8080/"
        },
        "id": "bZGtqJ0adHGk",
        "outputId": "bd32b3b4-03e2-4d82-ac39-ef5a58a4e7cc"
      },
      "source": [
        "# Create a table to count data rows per year\n",
        "row_year_table = df_merge.groupby(\"review_year\").agg({\"review_year\":\"count\"}).withColumnRenamed(\"count(review_year)\", \"year_count\")\n",
        "row_year_table.sort(row_year_table.review_year.desc()).show(truncate=False)"
      ],
      "execution_count": 58,
      "outputs": [
        {
          "output_type": "stream",
          "text": [
            "+-----------+----------+\n",
            "|review_year|year_count|\n",
            "+-----------+----------+\n",
            "|2015       |2534593   |\n",
            "|2014       |2185166   |\n",
            "|2013       |1345202   |\n",
            "|2012       |468626    |\n",
            "|2011       |234799    |\n",
            "|2010       |118673    |\n",
            "|2009       |44315     |\n",
            "|2008       |22315     |\n",
            "|2007       |17074     |\n",
            "|2006       |5484      |\n",
            "|2005       |2410      |\n",
            "|2004       |1037      |\n",
            "|2003       |795       |\n",
            "|2002       |301       |\n",
            "|2001       |102       |\n",
            "|2000       |15        |\n",
            "|null       |0         |\n",
            "+-----------+----------+\n",
            "\n"
          ],
          "name": "stdout"
        }
      ]
    },
    {
      "cell_type": "code",
      "metadata": {
        "colab": {
          "base_uri": "https://localhost:8080/"
        },
        "id": "p65X2oXGfzvA",
        "outputId": "a57a5784-668c-4249-b5a8-c1e8a1ba474a"
      },
      "source": [
        "# Only considering 2015 data\n",
        "df_merge = df_merge.filter(df_merge.review_year == \"2015\")\n",
        "print((df_merge.count(), len(df_merge.columns)))"
      ],
      "execution_count": 59,
      "outputs": [
        {
          "output_type": "stream",
          "text": [
            "(2534593, 10)\n"
          ],
          "name": "stdout"
        }
      ]
    },
    {
      "cell_type": "code",
      "metadata": {
        "id": "FXiohpjgsL1z",
        "outputId": "4b0426f3-58d8-4c33-d693-e820c14ec1ca",
        "colab": {
          "base_uri": "https://localhost:8080/"
        }
      },
      "source": [
        "df_merge.printSchema()"
      ],
      "execution_count": 60,
      "outputs": [
        {
          "output_type": "stream",
          "text": [
            "root\n",
            " |-- customer_id: integer (nullable = true)\n",
            " |-- product_id: string (nullable = true)\n",
            " |-- product_parent: integer (nullable = true)\n",
            " |-- product_category: string (nullable = true)\n",
            " |-- star_rating: integer (nullable = true)\n",
            " |-- total_votes: integer (nullable = true)\n",
            " |-- vine: string (nullable = true)\n",
            " |-- verified_purchase: string (nullable = true)\n",
            " |-- review_date: date (nullable = true)\n",
            " |-- review_year: integer (nullable = true)\n",
            "\n"
          ],
          "name": "stdout"
        }
      ]
    },
    {
      "cell_type": "markdown",
      "metadata": {
        "id": "9BS4hnNCpJFX"
      },
      "source": [
        "# For additional data on other products segments:\n",
        "https://s3.amazonaws.com/amazon-reviews-pds/tsv/index.txt"
      ]
    }
  ]
}
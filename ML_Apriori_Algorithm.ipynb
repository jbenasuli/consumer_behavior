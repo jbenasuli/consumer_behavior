{
 "cells": [
  {
   "cell_type": "markdown",
   "id": "78d8bb5c",
   "metadata": {},
   "source": [
    "## Apriori Algorithm"
   ]
  },
  {
   "cell_type": "markdown",
   "id": "71700e19",
   "metadata": {},
   "source": [
    "Question: Can we predict which products a customer will most likely purchase together within various product segments?\n",
    "\n",
    "Goal: Help Amazon identify products frequently bought together by customers to increase sales and revenues (cross sell) by analyzing Amazon Marketplace segment data."
   ]
  },
  {
   "cell_type": "code",
   "execution_count": 1,
   "id": "a60d2864",
   "metadata": {},
   "outputs": [],
   "source": [
    "from sqlalchemy import create_engine\n",
    "import pandas as pd"
   ]
  }
 ],
 "metadata": {
  "kernelspec": {
   "display_name": "PythonData",
   "language": "python",
   "name": "pythondata"
  },
  "language_info": {
   "codemirror_mode": {
    "name": "ipython",
    "version": 3
   },
   "file_extension": ".py",
   "mimetype": "text/x-python",
   "name": "python",
   "nbconvert_exporter": "python",
   "pygments_lexer": "ipython3",
   "version": "3.7.9"
  }
 },
 "nbformat": 4,
 "nbformat_minor": 5
}

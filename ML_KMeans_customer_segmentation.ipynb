{
 "cells": [
  {
   "cell_type": "markdown",
   "id": "02aca9af",
   "metadata": {},
   "source": [
    "# Customer segmentation based on product categories "
   ]
  },
  {
   "cell_type": "markdown",
   "id": "fe23bf8c",
   "metadata": {},
   "source": [
    "Question: Can we identify customer segments based on the purchased product categories to better target marketing campaigns? \n",
    "\n",
    "Goal: Help Amazon learn and predict which customers are more likely to purchase products within product segments. Identifying this trend can help Amazon target advertisements to specific customers within certain product segments in efforts to increase sales and revenues. "
   ]
  },
  {
   "cell_type": "code",
   "execution_count": null,
   "id": "205c5b93",
   "metadata": {},
   "outputs": [],
   "source": []
  }
 ],
 "metadata": {
  "kernelspec": {
   "display_name": "PythonData",
   "language": "python",
   "name": "pythondata"
  },
  "language_info": {
   "codemirror_mode": {
    "name": "ipython",
    "version": 3
   },
   "file_extension": ".py",
   "mimetype": "text/x-python",
   "name": "python",
   "nbconvert_exporter": "python",
   "pygments_lexer": "ipython3",
   "version": "3.7.9"
  }
 },
 "nbformat": 4,
 "nbformat_minor": 5
}

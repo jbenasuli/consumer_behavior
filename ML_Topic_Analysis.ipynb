{
 "cells": [
  {
   "cell_type": "markdown",
   "id": "015de8d2",
   "metadata": {},
   "source": [
    "# Machine learning model to read reviews"
   ]
  },
  {
   "cell_type": "markdown",
   "id": "22024fde",
   "metadata": {},
   "source": [
    "Question: how can we analyze a large number or reviews with NPL?\n",
    "\n",
    "Goal: enable companies to quickly extract the key topics covered from the customer feedback without having to read through them one by one"
   ]
  },
  {
   "cell_type": "code",
   "execution_count": 1,
   "id": "de555216",
   "metadata": {},
   "outputs": [],
   "source": [
    "# Import dependencies\n",
    "from sqlalchemy import create_engine\n",
    "import pandas as pd\n",
    "import spacy\n",
    "\n",
    "# Libraries for visualization\n",
    "import matplotlib.pyplot as plt\n",
    "import seaborn as sns\n",
    "\n",
    "\n",
    "#Libraries for lemmatization\n",
    "import nltk\n",
    "import re\n",
    "from nltk.corpus import stopwords\n",
    "from nltk.stem import WordNetLemmatizer\n",
    "from nltk.tokenize import word_tokenize\n",
    "from nltk import FreqDist\n",
    "\n",
    "#Libraries for word cloud\n",
    "from os import path\n",
    "from PIL import Image\n",
    "from wordcloud import WordCloud, STOPWORDS"
   ]
  },
  {
   "cell_type": "code",
   "execution_count": 2,
   "id": "6f0a3032",
   "metadata": {},
   "outputs": [],
   "source": [
    "# Postgres username, password, and database name\n",
    "\n",
    "POSTGRES_ADDRESS = 'mypostgresdb.cwuhtytzosg8.us-east-2.rds.amazonaws.com' \n",
    "POSTGRES_PORT = '5432'\n",
    "POSTGRES_USERNAME = 'root' \n",
    "POSTGRES_PASSWORD = 'XXXXX' ## CHANGE THIS TO YOUR PANOPLY/POSTGRES PASSWORD\n",
    "POSTGRES_DBNAME = 'my_data_class_db'\n",
    "# A long string that contains the necessary Postgres login information\n",
    "postgres_str = ('postgresql://{username}:{password}@{ipaddress}:{port}/{dbname}'\n",
    ".format(username=POSTGRES_USERNAME,\n",
    "password=POSTGRES_PASSWORD,\n",
    "ipaddress=POSTGRES_ADDRESS,\n",
    "port=POSTGRES_PORT,\n",
    "dbname=POSTGRES_DBNAME))\n",
    "# Create the connection\n",
    "cnx = create_engine(postgres_str)"
   ]
  },
  {
   "cell_type": "code",
   "execution_count": 3,
   "id": "198f9e64",
   "metadata": {},
   "outputs": [
    {
     "data": {
      "text/html": [
       "<div>\n",
       "<style scoped>\n",
       "    .dataframe tbody tr th:only-of-type {\n",
       "        vertical-align: middle;\n",
       "    }\n",
       "\n",
       "    .dataframe tbody tr th {\n",
       "        vertical-align: top;\n",
       "    }\n",
       "\n",
       "    .dataframe thead th {\n",
       "        text-align: right;\n",
       "    }\n",
       "</style>\n",
       "<table border=\"1\" class=\"dataframe\">\n",
       "  <thead>\n",
       "    <tr style=\"text-align: right;\">\n",
       "      <th></th>\n",
       "      <th>customer_id</th>\n",
       "      <th>review_id</th>\n",
       "      <th>star_rating</th>\n",
       "      <th>review_headline</th>\n",
       "      <th>review_body</th>\n",
       "    </tr>\n",
       "  </thead>\n",
       "  <tbody>\n",
       "    <tr>\n",
       "      <th>0</th>\n",
       "      <td>51982153</td>\n",
       "      <td>R1DZ76NBD2TX55</td>\n",
       "      <td>5</td>\n",
       "      <td>my wife and i had to pick one of these up over...</td>\n",
       "      <td>my wife and i had to pick one of these up over...</td>\n",
       "    </tr>\n",
       "    <tr>\n",
       "      <th>1</th>\n",
       "      <td>44662747</td>\n",
       "      <td>R3G4HN08IK8Q5W</td>\n",
       "      <td>5</td>\n",
       "      <td>this is big and comfortable  it inflatesdeflat...</td>\n",
       "      <td>this is big and comfortable  it inflatesdeflat...</td>\n",
       "    </tr>\n",
       "    <tr>\n",
       "      <th>2</th>\n",
       "      <td>17097525</td>\n",
       "      <td>R1S3TBZK71L487</td>\n",
       "      <td>1</td>\n",
       "      <td>horrible it was so comfortable for the first f...</td>\n",
       "      <td>horrible it was so comfortable for the first f...</td>\n",
       "    </tr>\n",
       "    <tr>\n",
       "      <th>3</th>\n",
       "      <td>29924839</td>\n",
       "      <td>R9P8YG335IDYV</td>\n",
       "      <td>5</td>\n",
       "      <td>we bought this so our friends kids would have ...</td>\n",
       "      <td>we bought this so our friends kids would have ...</td>\n",
       "    </tr>\n",
       "    <tr>\n",
       "      <th>4</th>\n",
       "      <td>46198682</td>\n",
       "      <td>R5VTP1LCQIATH</td>\n",
       "      <td>4</td>\n",
       "      <td>this bed exceeded my expectations in sturdines...</td>\n",
       "      <td>this bed exceeded my expectations in sturdines...</td>\n",
       "    </tr>\n",
       "  </tbody>\n",
       "</table>\n",
       "</div>"
      ],
      "text/plain": [
       "   customer_id       review_id  star_rating  \\\n",
       "0     51982153  R1DZ76NBD2TX55            5   \n",
       "1     44662747  R3G4HN08IK8Q5W            5   \n",
       "2     17097525  R1S3TBZK71L487            1   \n",
       "3     29924839   R9P8YG335IDYV            5   \n",
       "4     46198682   R5VTP1LCQIATH            4   \n",
       "\n",
       "                                     review_headline  \\\n",
       "0  my wife and i had to pick one of these up over...   \n",
       "1  this is big and comfortable  it inflatesdeflat...   \n",
       "2  horrible it was so comfortable for the first f...   \n",
       "3  we bought this so our friends kids would have ...   \n",
       "4  this bed exceeded my expectations in sturdines...   \n",
       "\n",
       "                                         review_body  \n",
       "0  my wife and i had to pick one of these up over...  \n",
       "1  this is big and comfortable  it inflatesdeflat...  \n",
       "2  horrible it was so comfortable for the first f...  \n",
       "3  we bought this so our friends kids would have ...  \n",
       "4  this bed exceeded my expectations in sturdines...  "
      ]
     },
     "execution_count": 3,
     "metadata": {},
     "output_type": "execute_result"
    }
   ],
   "source": [
    "# 3 Load database for sentiment/topic analysis\n",
    "df = pd.read_sql_query('''SELECT * FROM airmattress_cleaned''', con=cnx)\n",
    "df.head()"
   ]
  },
  {
   "cell_type": "markdown",
   "id": "2a2a1dbd",
   "metadata": {},
   "source": [
    "### Prepare data for ML model"
   ]
  },
  {
   "cell_type": "code",
   "execution_count": 4,
   "id": "e1fb3f7c",
   "metadata": {},
   "outputs": [],
   "source": [
    "# 4 function to plot most frequent terms\n",
    "def freq_words(x, terms = 30):\n",
    "  all_words = ' '.join([text for text in x])\n",
    "  all_words = all_words.split()\n",
    "\n",
    "  fdist = FreqDist(all_words)\n",
    "  words_df = pd.DataFrame({'word':list(fdist.keys()), 'count':list(fdist.values())})\n",
    "\n",
    "  # selecting top 20 most frequent words\n",
    "  d = words_df.nlargest(columns=\"count\", n = terms) \n",
    "  plt.figure(figsize=(20,5))\n",
    "  ax = sns.barplot(data=d, x= \"word\", y = \"count\", color = 'black')\n",
    "  ax.set(ylabel = 'Count')\n",
    "  plt.show()"
   ]
  },
  {
   "cell_type": "code",
   "execution_count": 5,
   "id": "9fb0e0bc",
   "metadata": {},
   "outputs": [
    {
     "data": {
      "image/png": "[encoded data removed]",
      "text/plain": [
       "<Figure size 1440x360 with 1 Axes>"
      ]
     },
     "metadata": {
      "needs_background": "light"
     },
     "output_type": "display_data"
    }
   ],
   "source": [
    "freq_words(df['review_body'])"
   ]
  },
  {
   "cell_type": "code",
   "execution_count": 6,
   "id": "26b38f41",
   "metadata": {},
   "outputs": [
    {
     "name": "stderr",
     "output_type": "stream",
     "text": [
      "C:\\Users\\li_mi\\anaconda3\\envs\\PythonData\\lib\\site-packages\\ipykernel_launcher.py:2: FutureWarning: The default value of regex will change from True to False in a future version.\n",
      "  \n"
     ]
    },
    {
     "data": {
      "text/html": [
       "<div>\n",
       "<style scoped>\n",
       "    .dataframe tbody tr th:only-of-type {\n",
       "        vertical-align: middle;\n",
       "    }\n",
       "\n",
       "    .dataframe tbody tr th {\n",
       "        vertical-align: top;\n",
       "    }\n",
       "\n",
       "    .dataframe thead th {\n",
       "        text-align: right;\n",
       "    }\n",
       "</style>\n",
       "<table border=\"1\" class=\"dataframe\">\n",
       "  <thead>\n",
       "    <tr style=\"text-align: right;\">\n",
       "      <th></th>\n",
       "      <th>customer_id</th>\n",
       "      <th>review_id</th>\n",
       "      <th>star_rating</th>\n",
       "      <th>review_headline</th>\n",
       "      <th>review_body</th>\n",
       "    </tr>\n",
       "  </thead>\n",
       "  <tbody>\n",
       "    <tr>\n",
       "      <th>0</th>\n",
       "      <td>51982153</td>\n",
       "      <td>R1DZ76NBD2TX55</td>\n",
       "      <td>5</td>\n",
       "      <td>my wife and i had to pick one of these up over...</td>\n",
       "      <td>my wife and i had to pick one of these up over...</td>\n",
       "    </tr>\n",
       "    <tr>\n",
       "      <th>1</th>\n",
       "      <td>44662747</td>\n",
       "      <td>R3G4HN08IK8Q5W</td>\n",
       "      <td>5</td>\n",
       "      <td>this is big and comfortable  it inflatesdeflat...</td>\n",
       "      <td>this is big and comfortable  it inflatesdeflat...</td>\n",
       "    </tr>\n",
       "    <tr>\n",
       "      <th>2</th>\n",
       "      <td>17097525</td>\n",
       "      <td>R1S3TBZK71L487</td>\n",
       "      <td>1</td>\n",
       "      <td>horrible it was so comfortable for the first f...</td>\n",
       "      <td>horrible it was so comfortable for the first f...</td>\n",
       "    </tr>\n",
       "    <tr>\n",
       "      <th>3</th>\n",
       "      <td>29924839</td>\n",
       "      <td>R9P8YG335IDYV</td>\n",
       "      <td>5</td>\n",
       "      <td>we bought this so our friends kids would have ...</td>\n",
       "      <td>we bought this so our friends kids would have ...</td>\n",
       "    </tr>\n",
       "    <tr>\n",
       "      <th>4</th>\n",
       "      <td>46198682</td>\n",
       "      <td>R5VTP1LCQIATH</td>\n",
       "      <td>4</td>\n",
       "      <td>this bed exceeded my expectations in sturdines...</td>\n",
       "      <td>this bed exceeded my expectations in sturdines...</td>\n",
       "    </tr>\n",
       "    <tr>\n",
       "      <th>...</th>\n",
       "      <td>...</td>\n",
       "      <td>...</td>\n",
       "      <td>...</td>\n",
       "      <td>...</td>\n",
       "      <td>...</td>\n",
       "    </tr>\n",
       "    <tr>\n",
       "      <th>4748</th>\n",
       "      <td>10221632</td>\n",
       "      <td>R2K0TL4VNH71AB</td>\n",
       "      <td>5</td>\n",
       "      <td>good buy very little leak the bed itself is ve...</td>\n",
       "      <td>good buy very little leak the bed itself is ve...</td>\n",
       "    </tr>\n",
       "    <tr>\n",
       "      <th>4749</th>\n",
       "      <td>52922779</td>\n",
       "      <td>R3FMSB7NVM64SP</td>\n",
       "      <td>5</td>\n",
       "      <td>this is a great thing to have the built in pum...</td>\n",
       "      <td>this is a great thing to have the built in pum...</td>\n",
       "    </tr>\n",
       "    <tr>\n",
       "      <th>4750</th>\n",
       "      <td>45643821</td>\n",
       "      <td>R3JPX7JXE4JF61</td>\n",
       "      <td>5</td>\n",
       "      <td>this air mattress is incredible  we bought it ...</td>\n",
       "      <td>this air mattress is incredible  we bought it ...</td>\n",
       "    </tr>\n",
       "    <tr>\n",
       "      <th>4751</th>\n",
       "      <td>14464916</td>\n",
       "      <td>R2XZEVT9OE0BXI</td>\n",
       "      <td>4</td>\n",
       "      <td>i have not had this item for very long and hav...</td>\n",
       "      <td>i have not had this item for very long and hav...</td>\n",
       "    </tr>\n",
       "    <tr>\n",
       "      <th>4752</th>\n",
       "      <td>11092248</td>\n",
       "      <td>R164SXE5K0KQDG</td>\n",
       "      <td>4</td>\n",
       "      <td>i used to have the older version of this one u...</td>\n",
       "      <td>i used to have the older version of this one u...</td>\n",
       "    </tr>\n",
       "  </tbody>\n",
       "</table>\n",
       "<p>4753 rows × 5 columns</p>\n",
       "</div>"
      ],
      "text/plain": [
       "      customer_id       review_id  star_rating  \\\n",
       "0        51982153  R1DZ76NBD2TX55            5   \n",
       "1        44662747  R3G4HN08IK8Q5W            5   \n",
       "2        17097525  R1S3TBZK71L487            1   \n",
       "3        29924839   R9P8YG335IDYV            5   \n",
       "4        46198682   R5VTP1LCQIATH            4   \n",
       "...           ...             ...          ...   \n",
       "4748     10221632  R2K0TL4VNH71AB            5   \n",
       "4749     52922779  R3FMSB7NVM64SP            5   \n",
       "4750     45643821  R3JPX7JXE4JF61            5   \n",
       "4751     14464916  R2XZEVT9OE0BXI            4   \n",
       "4752     11092248  R164SXE5K0KQDG            4   \n",
       "\n",
       "                                        review_headline  \\\n",
       "0     my wife and i had to pick one of these up over...   \n",
       "1     this is big and comfortable  it inflatesdeflat...   \n",
       "2     horrible it was so comfortable for the first f...   \n",
       "3     we bought this so our friends kids would have ...   \n",
       "4     this bed exceeded my expectations in sturdines...   \n",
       "...                                                 ...   \n",
       "4748  good buy very little leak the bed itself is ve...   \n",
       "4749  this is a great thing to have the built in pum...   \n",
       "4750  this air mattress is incredible  we bought it ...   \n",
       "4751  i have not had this item for very long and hav...   \n",
       "4752  i used to have the older version of this one u...   \n",
       "\n",
       "                                            review_body  \n",
       "0     my wife and i had to pick one of these up over...  \n",
       "1     this is big and comfortable  it inflatesdeflat...  \n",
       "2     horrible it was so comfortable for the first f...  \n",
       "3     we bought this so our friends kids would have ...  \n",
       "4     this bed exceeded my expectations in sturdines...  \n",
       "...                                                 ...  \n",
       "4748  good buy very little leak the bed itself is ve...  \n",
       "4749  this is a great thing to have the built in pum...  \n",
       "4750  this air mattress is incredible  we bought it ...  \n",
       "4751  i have not had this item for very long and hav...  \n",
       "4752  i used to have the older version of this one u...  \n",
       "\n",
       "[4753 rows x 5 columns]"
      ]
     },
     "execution_count": 6,
     "metadata": {},
     "output_type": "execute_result"
    }
   ],
   "source": [
    "# 5 Remove unwanted characters, numbers and symbols\n",
    "df['review_body'] = df['review_body'].str.replace(\"[^a-zA-Z#]\", \" \")\n",
    "df"
   ]
  },
  {
   "cell_type": "code",
   "execution_count": 7,
   "id": "a26f3bae",
   "metadata": {},
   "outputs": [],
   "source": [
    "# 6 Remove stop words\n",
    "from nltk.corpus import stopwords\n",
    "stop_words = stopwords.words('english')\n",
    "\n",
    "# Remove stopwords\n",
    "def remove_stopwords(rev):\n",
    "    rev_new = \" \".join([i for i in rev if i not in stop_words])\n",
    "    return rev_new\n",
    "\n",
    "# Remove short words (length < 3)\n",
    "df['review_body'] = df['review_body'].apply(lambda x: ' '.join([w for w in x.split() if len(w)>2]))\n",
    "\n",
    "# Exclude stopwords from the text\n",
    "reviews = [remove_stopwords(r.split()) for r in df['review_body']]"
   ]
  },
  {
   "cell_type": "code",
   "execution_count": 8,
   "id": "2f8dc74d",
   "metadata": {},
   "outputs": [
    {
     "name": "stdout",
     "output_type": "stream",
     "text": [
      "Collecting en-core-web-sm==3.0.0\n",
      "  Downloading https://github.com/explosion/spacy-models/releases/download/en_core_web_sm-3.0.0/en_core_web_sm-3.0.0-py3-none-any.whl (13.7 MB)\n",
      "Requirement already satisfied: spacy<3.1.0,>=3.0.0 in c:\\users\\li_mi\\anaconda3\\envs\\pythondata\\lib\\site-packages (from en-core-web-sm==3.0.0) (3.0.6)\n",
      "Requirement already satisfied: cymem<2.1.0,>=2.0.2 in c:\\users\\li_mi\\anaconda3\\envs\\pythondata\\lib\\site-packages (from spacy<3.1.0,>=3.0.0->en-core-web-sm==3.0.0) (2.0.5)\n",
      "Requirement already satisfied: murmurhash<1.1.0,>=0.28.0 in c:\\users\\li_mi\\anaconda3\\envs\\pythondata\\lib\\site-packages (from spacy<3.1.0,>=3.0.0->en-core-web-sm==3.0.0) (1.0.5)\n",
      "Requirement already satisfied: pydantic<1.8.0,>=1.7.1 in c:\\users\\li_mi\\anaconda3\\envs\\pythondata\\lib\\site-packages (from spacy<3.1.0,>=3.0.0->en-core-web-sm==3.0.0) (1.7.3)\n",
      "Requirement already satisfied: wasabi<1.1.0,>=0.8.1 in c:\\users\\li_mi\\anaconda3\\envs\\pythondata\\lib\\site-packages (from spacy<3.1.0,>=3.0.0->en-core-web-sm==3.0.0) (0.8.2)\n",
      "Requirement already satisfied: spacy-legacy<3.1.0,>=3.0.4 in c:\\users\\li_mi\\anaconda3\\envs\\pythondata\\lib\\site-packages (from spacy<3.1.0,>=3.0.0->en-core-web-sm==3.0.0) (3.0.5)\n",
      "Requirement already satisfied: typing-extensions<4.0.0.0,>=3.7.4 in c:\\users\\li_mi\\anaconda3\\envs\\pythondata\\lib\\site-packages (from spacy<3.1.0,>=3.0.0->en-core-web-sm==3.0.0) (3.7.4.3)\n",
      "Requirement already satisfied: srsly<3.0.0,>=2.4.1 in c:\\users\\li_mi\\anaconda3\\envs\\pythondata\\lib\\site-packages (from spacy<3.1.0,>=3.0.0->en-core-web-sm==3.0.0) (2.4.1)\n",
      "Requirement already satisfied: preshed<3.1.0,>=3.0.2 in c:\\users\\li_mi\\anaconda3\\envs\\pythondata\\lib\\site-packages (from spacy<3.1.0,>=3.0.0->en-core-web-sm==3.0.0) (3.0.5)\n",
      "Requirement already satisfied: typer<0.4.0,>=0.3.0 in c:\\users\\li_mi\\anaconda3\\envs\\pythondata\\lib\\site-packages (from spacy<3.1.0,>=3.0.0->en-core-web-sm==3.0.0) (0.3.2)\n",
      "Requirement already satisfied: thinc<8.1.0,>=8.0.3 in c:\\users\\li_mi\\anaconda3\\envs\\pythondata\\lib\\site-packages (from spacy<3.1.0,>=3.0.0->en-core-web-sm==3.0.0) (8.0.3)\n",
      "Requirement already satisfied: numpy>=1.15.0 in c:\\users\\li_mi\\anaconda3\\envs\\pythondata\\lib\\site-packages (from spacy<3.1.0,>=3.0.0->en-core-web-sm==3.0.0) (1.20.2)\n",
      "Requirement already satisfied: pathy>=0.3.5 in c:\\users\\li_mi\\anaconda3\\envs\\pythondata\\lib\\site-packages (from spacy<3.1.0,>=3.0.0->en-core-web-sm==3.0.0) (0.5.2)\n",
      "Requirement already satisfied: packaging>=20.0 in c:\\users\\li_mi\\anaconda3\\envs\\pythondata\\lib\\site-packages (from spacy<3.1.0,>=3.0.0->en-core-web-sm==3.0.0) (20.9)\n",
      "Requirement already satisfied: tqdm<5.0.0,>=4.38.0 in c:\\users\\li_mi\\anaconda3\\envs\\pythondata\\lib\\site-packages (from spacy<3.1.0,>=3.0.0->en-core-web-sm==3.0.0) (4.59.0)\n",
      "Requirement already satisfied: requests<3.0.0,>=2.13.0 in c:\\users\\li_mi\\anaconda3\\envs\\pythondata\\lib\\site-packages (from spacy<3.1.0,>=3.0.0->en-core-web-sm==3.0.0) (2.25.1)\n",
      "Requirement already satisfied: jinja2 in c:\\users\\li_mi\\anaconda3\\envs\\pythondata\\lib\\site-packages (from spacy<3.1.0,>=3.0.0->en-core-web-sm==3.0.0) (2.11.3)\n",
      "Requirement already satisfied: setuptools in c:\\users\\li_mi\\anaconda3\\envs\\pythondata\\lib\\site-packages (from spacy<3.1.0,>=3.0.0->en-core-web-sm==3.0.0) (52.0.0.post20210125)\n",
      "Requirement already satisfied: blis<0.8.0,>=0.4.0 in c:\\users\\li_mi\\anaconda3\\envs\\pythondata\\lib\\site-packages (from spacy<3.1.0,>=3.0.0->en-core-web-sm==3.0.0) (0.7.4)\n",
      "Requirement already satisfied: catalogue<2.1.0,>=2.0.3 in c:\\users\\li_mi\\anaconda3\\envs\\pythondata\\lib\\site-packages (from spacy<3.1.0,>=3.0.0->en-core-web-sm==3.0.0) (2.0.4)\n",
      "Requirement already satisfied: zipp>=0.5 in c:\\users\\li_mi\\anaconda3\\envs\\pythondata\\lib\\site-packages (from catalogue<2.1.0,>=2.0.3->spacy<3.1.0,>=3.0.0->en-core-web-sm==3.0.0) (3.4.1)\n",
      "Requirement already satisfied: pyparsing>=2.0.2 in c:\\users\\li_mi\\anaconda3\\envs\\pythondata\\lib\\site-packages (from packaging>=20.0->spacy<3.1.0,>=3.0.0->en-core-web-sm==3.0.0) (2.4.7)\n",
      "Requirement already satisfied: smart-open<4.0.0,>=2.2.0 in c:\\users\\li_mi\\anaconda3\\envs\\pythondata\\lib\\site-packages (from pathy>=0.3.5->spacy<3.1.0,>=3.0.0->en-core-web-sm==3.0.0) (3.0.0)\n",
      "Requirement already satisfied: chardet<5,>=3.0.2 in c:\\users\\li_mi\\anaconda3\\envs\\pythondata\\lib\\site-packages (from requests<3.0.0,>=2.13.0->spacy<3.1.0,>=3.0.0->en-core-web-sm==3.0.0) (4.0.0)\n",
      "Requirement already satisfied: idna<3,>=2.5 in c:\\users\\li_mi\\anaconda3\\envs\\pythondata\\lib\\site-packages (from requests<3.0.0,>=2.13.0->spacy<3.1.0,>=3.0.0->en-core-web-sm==3.0.0) (2.10)\n",
      "Requirement already satisfied: certifi>=2017.4.17 in c:\\users\\li_mi\\anaconda3\\envs\\pythondata\\lib\\site-packages (from requests<3.0.0,>=2.13.0->spacy<3.1.0,>=3.0.0->en-core-web-sm==3.0.0) (2020.12.5)\n",
      "Requirement already satisfied: urllib3<1.27,>=1.21.1 in c:\\users\\li_mi\\anaconda3\\envs\\pythondata\\lib\\site-packages (from requests<3.0.0,>=2.13.0->spacy<3.1.0,>=3.0.0->en-core-web-sm==3.0.0) (1.26.4)\n",
      "Requirement already satisfied: click<7.2.0,>=7.1.1 in c:\\users\\li_mi\\anaconda3\\envs\\pythondata\\lib\\site-packages (from typer<0.4.0,>=0.3.0->spacy<3.1.0,>=3.0.0->en-core-web-sm==3.0.0) (7.1.2)\n",
      "Requirement already satisfied: MarkupSafe>=0.23 in c:\\users\\li_mi\\anaconda3\\envs\\pythondata\\lib\\site-packages (from jinja2->spacy<3.1.0,>=3.0.0->en-core-web-sm==3.0.0) (1.1.1)\n",
      "[+] Download and installation successful\n",
      "You can now load the package via spacy.load('en_core_web_sm')\n"
     ]
    },
    {
     "name": "stderr",
     "output_type": "stream",
     "text": [
      "2021-05-06 16:08:44.042027: W tensorflow/stream_executor/platform/default/dso_loader.cc:60] Could not load dynamic library 'cudart64_110.dll'; dlerror: cudart64_110.dll not found\n",
      "2021-05-06 16:08:44.042051: I tensorflow/stream_executor/cuda/cudart_stub.cc:29] Ignore above cudart dlerror if you do not have a GPU set up on your machine.\n"
     ]
    }
   ],
   "source": [
    "# To remove noise from reviews, use lemmatization from spaCy library\n",
    "!python -m spacy download en_core_web_sm "
   ]
  },
  {
   "cell_type": "code",
   "execution_count": 9,
   "id": "8d6281c6",
   "metadata": {},
   "outputs": [],
   "source": [
    "# 7 Use nlp to remove words that are not aggregating to analysis, using only adjectives\n",
    "nlp = spacy.load('en_core_web_sm', disable=['parser', 'ner'])\n",
    "\n",
    "# def lemmatization(texts, tags=['NOUN', 'ADJ']): # filter noun and adjective\n",
    "def lemmatization(texts, tags=['ADJ']): # filter noun and adjective\n",
    "       output = []\n",
    "       for sent in texts:\n",
    "             doc = nlp(\" \".join(sent)) \n",
    "             output.append([token.lemma_ for token in doc if token.pos_ in tags])\n",
    "       return output"
   ]
  },
  {
   "cell_type": "code",
   "execution_count": 10,
   "id": "aa42c6c5",
   "metadata": {},
   "outputs": [
    {
     "name": "stdout",
     "output_type": "stream",
     "text": [
      "['big', 'comfortable', 'inflatesdeflates', 'unfoldfold', 'hope', 'lasts', 'long', 'time']\n"
     ]
    }
   ],
   "source": [
    "tokenized_reviews = pd.Series(reviews).apply(lambda x: x.split())\n",
    "print(tokenized_reviews[1])"
   ]
  },
  {
   "cell_type": "code",
   "execution_count": 11,
   "id": "d5a54e9e",
   "metadata": {},
   "outputs": [
    {
     "name": "stdout",
     "output_type": "stream",
     "text": [
      "['big', 'comfortable', 'long']\n"
     ]
    }
   ],
   "source": [
    "reviews_2 = lemmatization(tokenized_reviews)\n",
    "print(reviews_2[1]) # print lemmatized review"
   ]
  },
  {
   "cell_type": "code",
   "execution_count": 12,
   "id": "d4d68588",
   "metadata": {},
   "outputs": [
    {
     "data": {
      "image/png": "[encoded data removed]",
      "text/plain": [
       "<Figure size 1440x360 with 1 Axes>"
      ]
     },
     "metadata": {
      "needs_background": "light"
     },
     "output_type": "display_data"
    }
   ],
   "source": [
    "reviews_3 = []\n",
    "for i in range(len(reviews_2)):\n",
    "    reviews_3.append(' '.join(reviews_2[i]))\n",
    "\n",
    "df['reviews'] = reviews_3\n",
    "\n",
    "freq_words(df['reviews'], 20)"
   ]
  },
  {
   "cell_type": "markdown",
   "id": "7374d005",
   "metadata": {},
   "source": [
    "### Separate good reviews from bad reviews to make it easier for the analysis "
   ]
  },
  {
   "cell_type": "markdown",
   "id": "f9ee2d6a",
   "metadata": {},
   "source": [
    "Create 2 dataframes, one with only 1 star reviews and another with 2 star reviews to get a better sense of the good and bad feedback"
   ]
  },
  {
   "cell_type": "code",
   "execution_count": 14,
   "id": "3691ec77",
   "metadata": {},
   "outputs": [
    {
     "data": {
      "text/html": [
       "<div>\n",
       "<style scoped>\n",
       "    .dataframe tbody tr th:only-of-type {\n",
       "        vertical-align: middle;\n",
       "    }\n",
       "\n",
       "    .dataframe tbody tr th {\n",
       "        vertical-align: top;\n",
       "    }\n",
       "\n",
       "    .dataframe thead th {\n",
       "        text-align: right;\n",
       "    }\n",
       "</style>\n",
       "<table border=\"1\" class=\"dataframe\">\n",
       "  <thead>\n",
       "    <tr style=\"text-align: right;\">\n",
       "      <th></th>\n",
       "      <th>customer_id</th>\n",
       "      <th>review_id</th>\n",
       "      <th>star_rating</th>\n",
       "      <th>review_headline</th>\n",
       "      <th>review_body</th>\n",
       "      <th>reviews</th>\n",
       "    </tr>\n",
       "  </thead>\n",
       "  <tbody>\n",
       "    <tr>\n",
       "      <th>2</th>\n",
       "      <td>17097525</td>\n",
       "      <td>R1S3TBZK71L487</td>\n",
       "      <td>1</td>\n",
       "      <td>horrible it was so comfortable for the first f...</td>\n",
       "      <td>horrible was comfortable for the first few day...</td>\n",
       "      <td>horrible comfortable first first bad bad hourl...</td>\n",
       "    </tr>\n",
       "    <tr>\n",
       "      <th>5</th>\n",
       "      <td>11489596</td>\n",
       "      <td>R157632LYK6UT6</td>\n",
       "      <td>1</td>\n",
       "      <td>i wish i could return this item i read almost ...</td>\n",
       "      <td>wish could return this item read almost all re...</td>\n",
       "      <td>many negative arrogant prior heavy personbr</td>\n",
       "    </tr>\n",
       "    <tr>\n",
       "      <th>6</th>\n",
       "      <td>12256364</td>\n",
       "      <td>R2759URB10Q8RD</td>\n",
       "      <td>1</td>\n",
       "      <td>our bad experience is the same as some others ...</td>\n",
       "      <td>our bad experience the same some others have e...</td>\n",
       "      <td>bad first nice comfortable flat top able small...</td>\n",
       "    </tr>\n",
       "    <tr>\n",
       "      <th>12</th>\n",
       "      <td>15328213</td>\n",
       "      <td>R6ISQWC1P9QMC</td>\n",
       "      <td>1</td>\n",
       "      <td>thought this was a great choice and it was unt...</td>\n",
       "      <td>thought this was great choice and was until de...</td>\n",
       "      <td>great third middle visible</td>\n",
       "    </tr>\n",
       "    <tr>\n",
       "      <th>29</th>\n",
       "      <td>22202716</td>\n",
       "      <td>R383PLOVTFG353</td>\n",
       "      <td>1</td>\n",
       "      <td>ok i ordered this on november 17th 2013 and i ...</td>\n",
       "      <td>ordered this november and got couple days afte...</td>\n",
       "      <td>big middle</td>\n",
       "    </tr>\n",
       "  </tbody>\n",
       "</table>\n",
       "</div>"
      ],
      "text/plain": [
       "    customer_id       review_id  star_rating  \\\n",
       "2      17097525  R1S3TBZK71L487            1   \n",
       "5      11489596  R157632LYK6UT6            1   \n",
       "6      12256364  R2759URB10Q8RD            1   \n",
       "12     15328213   R6ISQWC1P9QMC            1   \n",
       "29     22202716  R383PLOVTFG353            1   \n",
       "\n",
       "                                      review_headline  \\\n",
       "2   horrible it was so comfortable for the first f...   \n",
       "5   i wish i could return this item i read almost ...   \n",
       "6   our bad experience is the same as some others ...   \n",
       "12  thought this was a great choice and it was unt...   \n",
       "29  ok i ordered this on november 17th 2013 and i ...   \n",
       "\n",
       "                                          review_body  \\\n",
       "2   horrible was comfortable for the first few day...   \n",
       "5   wish could return this item read almost all re...   \n",
       "6   our bad experience the same some others have e...   \n",
       "12  thought this was great choice and was until de...   \n",
       "29  ordered this november and got couple days afte...   \n",
       "\n",
       "                                              reviews  \n",
       "2   horrible comfortable first first bad bad hourl...  \n",
       "5         many negative arrogant prior heavy personbr  \n",
       "6   bad first nice comfortable flat top able small...  \n",
       "12                         great third middle visible  \n",
       "29                                         big middle  "
      ]
     },
     "execution_count": 14,
     "metadata": {},
     "output_type": "execute_result"
    }
   ],
   "source": [
    "df_1star = df[df['star_rating'] == 1]\n",
    "df_1star.head()"
   ]
  },
  {
   "cell_type": "code",
   "execution_count": 15,
   "id": "d09db1a8",
   "metadata": {},
   "outputs": [
    {
     "data": {
      "text/html": [
       "<div>\n",
       "<style scoped>\n",
       "    .dataframe tbody tr th:only-of-type {\n",
       "        vertical-align: middle;\n",
       "    }\n",
       "\n",
       "    .dataframe tbody tr th {\n",
       "        vertical-align: top;\n",
       "    }\n",
       "\n",
       "    .dataframe thead th {\n",
       "        text-align: right;\n",
       "    }\n",
       "</style>\n",
       "<table border=\"1\" class=\"dataframe\">\n",
       "  <thead>\n",
       "    <tr style=\"text-align: right;\">\n",
       "      <th></th>\n",
       "      <th>customer_id</th>\n",
       "      <th>review_id</th>\n",
       "      <th>star_rating</th>\n",
       "      <th>review_headline</th>\n",
       "      <th>review_body</th>\n",
       "      <th>reviews</th>\n",
       "    </tr>\n",
       "  </thead>\n",
       "  <tbody>\n",
       "    <tr>\n",
       "      <th>0</th>\n",
       "      <td>51982153</td>\n",
       "      <td>R1DZ76NBD2TX55</td>\n",
       "      <td>5</td>\n",
       "      <td>my wife and i had to pick one of these up over...</td>\n",
       "      <td>wife and had pick one these over the holiday f...</td>\n",
       "      <td>little concerned blowup first dead tired secon...</td>\n",
       "    </tr>\n",
       "    <tr>\n",
       "      <th>1</th>\n",
       "      <td>44662747</td>\n",
       "      <td>R3G4HN08IK8Q5W</td>\n",
       "      <td>5</td>\n",
       "      <td>this is big and comfortable  it inflatesdeflat...</td>\n",
       "      <td>this big and comfortable inflatesdeflates itse...</td>\n",
       "      <td>big comfortable long</td>\n",
       "    </tr>\n",
       "    <tr>\n",
       "      <th>3</th>\n",
       "      <td>29924839</td>\n",
       "      <td>R9P8YG335IDYV</td>\n",
       "      <td>5</td>\n",
       "      <td>we bought this so our friends kids would have ...</td>\n",
       "      <td>bought this our friends kids would have extra ...</td>\n",
       "      <td>extra twice last great high nice extra great</td>\n",
       "    </tr>\n",
       "    <tr>\n",
       "      <th>7</th>\n",
       "      <td>22867429</td>\n",
       "      <td>R238AOC9MSH1XZ</td>\n",
       "      <td>5</td>\n",
       "      <td>grandkids love this  so do we  it is comfortab...</td>\n",
       "      <td>grandkids love this comfortable and large enou...</td>\n",
       "      <td>comfortable large small great</td>\n",
       "    </tr>\n",
       "    <tr>\n",
       "      <th>8</th>\n",
       "      <td>40522779</td>\n",
       "      <td>R3BYPZR2ROSYJ5</td>\n",
       "      <td>5</td>\n",
       "      <td>enough said doesnt deflate yet at least and fe...</td>\n",
       "      <td>enough said doesnt deflate yet least and feels...</td>\n",
       "      <td>least many</td>\n",
       "    </tr>\n",
       "  </tbody>\n",
       "</table>\n",
       "</div>"
      ],
      "text/plain": [
       "   customer_id       review_id  star_rating  \\\n",
       "0     51982153  R1DZ76NBD2TX55            5   \n",
       "1     44662747  R3G4HN08IK8Q5W            5   \n",
       "3     29924839   R9P8YG335IDYV            5   \n",
       "7     22867429  R238AOC9MSH1XZ            5   \n",
       "8     40522779  R3BYPZR2ROSYJ5            5   \n",
       "\n",
       "                                     review_headline  \\\n",
       "0  my wife and i had to pick one of these up over...   \n",
       "1  this is big and comfortable  it inflatesdeflat...   \n",
       "3  we bought this so our friends kids would have ...   \n",
       "7  grandkids love this  so do we  it is comfortab...   \n",
       "8  enough said doesnt deflate yet at least and fe...   \n",
       "\n",
       "                                         review_body  \\\n",
       "0  wife and had pick one these over the holiday f...   \n",
       "1  this big and comfortable inflatesdeflates itse...   \n",
       "3  bought this our friends kids would have extra ...   \n",
       "7  grandkids love this comfortable and large enou...   \n",
       "8  enough said doesnt deflate yet least and feels...   \n",
       "\n",
       "                                             reviews  \n",
       "0  little concerned blowup first dead tired secon...  \n",
       "1                               big comfortable long  \n",
       "3       extra twice last great high nice extra great  \n",
       "7                      comfortable large small great  \n",
       "8                                         least many  "
      ]
     },
     "execution_count": 15,
     "metadata": {},
     "output_type": "execute_result"
    }
   ],
   "source": [
    "df_5stars = df[df['star_rating'] == 5]\n",
    "df_5stars.head()"
   ]
  },
  {
   "cell_type": "code",
   "execution_count": 17,
   "id": "40b32d72",
   "metadata": {},
   "outputs": [
    {
     "name": "stderr",
     "output_type": "stream",
     "text": [
      "C:\\Users\\li_mi\\anaconda3\\envs\\PythonData\\lib\\site-packages\\ipykernel_launcher.py:2: FutureWarning: The default value of regex will change from True to False in a future version.\n",
      "  \n",
      "C:\\Users\\li_mi\\anaconda3\\envs\\PythonData\\lib\\site-packages\\ipykernel_launcher.py:2: SettingWithCopyWarning: \n",
      "A value is trying to be set on a copy of a slice from a DataFrame.\n",
      "Try using .loc[row_indexer,col_indexer] = value instead\n",
      "\n",
      "See the caveats in the documentation: https://pandas.pydata.org/pandas-docs/stable/user_guide/indexing.html#returning-a-view-versus-a-copy\n",
      "  \n",
      "C:\\Users\\li_mi\\anaconda3\\envs\\PythonData\\lib\\site-packages\\ipykernel_launcher.py:3: FutureWarning: The default value of regex will change from True to False in a future version.\n",
      "  This is separate from the ipykernel package so we can avoid doing imports until\n",
      "C:\\Users\\li_mi\\anaconda3\\envs\\PythonData\\lib\\site-packages\\ipykernel_launcher.py:3: SettingWithCopyWarning: \n",
      "A value is trying to be set on a copy of a slice from a DataFrame.\n",
      "Try using .loc[row_indexer,col_indexer] = value instead\n",
      "\n",
      "See the caveats in the documentation: https://pandas.pydata.org/pandas-docs/stable/user_guide/indexing.html#returning-a-view-versus-a-copy\n",
      "  This is separate from the ipykernel package so we can avoid doing imports until\n"
     ]
    }
   ],
   "source": [
    "# 5 Remove unwanted characters, numbers and symbols\n",
    "df_1star['review_body'] = df['review_body'].str.replace(\"[^a-zA-Z#]\", \" \")\n",
    "df_5stars['review_body'] = df['review_body'].str.replace(\"[^a-zA-Z#]\", \" \")"
   ]
  },
  {
   "cell_type": "code",
   "execution_count": 20,
   "id": "ac9e13df",
   "metadata": {},
   "outputs": [],
   "source": [
    "stop_words = stopwords.words('english')\n",
    "\n",
    "# Remove stopwords\n",
    "def remove_stopwords(rev):\n",
    "    rev_new = \" \".join([i for i in rev if i not in stop_words])\n",
    "    return rev_new\n",
    "\n",
    "# Exclude stopwords from the text\n",
    "reviews_1star = [remove_stopwords(r.split()) for r in df_1star['review_body']]\n",
    "reviews_5stars = [remove_stopwords(r.split()) for r in df_5stars['review_body']]"
   ]
  },
  {
   "cell_type": "code",
   "execution_count": 21,
   "id": "fae5264d",
   "metadata": {},
   "outputs": [],
   "source": [
    "# 7 Use nlp to remove words that are not aggregating to analysis, using only adjectives\n",
    "nlp = spacy.load('en_core_web_sm', disable=['parser', 'ner'])\n",
    "\n",
    "# def lemmatization(texts, tags=['NOUN', 'ADJ']): # filter noun and adjective\n",
    "def lemmatization(texts, tags=['ADJ']): # filter noun and adjective\n",
    "       output = []\n",
    "       for sent in texts:\n",
    "             doc = nlp(\" \".join(sent)) \n",
    "             output.append([token.lemma_ for token in doc if token.pos_ in tags])\n",
    "       return output"
   ]
  },
  {
   "cell_type": "code",
   "execution_count": 22,
   "id": "5d39b145",
   "metadata": {},
   "outputs": [
    {
     "name": "stdout",
     "output_type": "stream",
     "text": [
      "['wish', 'could', 'return', 'item', 'read', 'almost', 'reviews', 'making', 'purchase', 'could', 'believe', 'item', 'still', 'sold', 'amazon', 'many', 'negative', 'experiences', 'thinking', 'follow', 'instructions', 'work', 'arrogant', 'part', 'would', 'buy', 'againabsolutely', 'leakabsolutely', 'definitely', 'yes', 'could', 'even', 'use', 'one', 'night', 'leaked', 'much', 'followed', 'instructions', 'set', 'prior', 'use', 'instructed', 'point', 'seemed', 'okay', 'leaks', 'weight', 'addedeven', 'lbs', 'weight', 'even', 'take', 'heavy', 'personbr', 'choice', 'whether', 'buy', 'personally', 'would', 'touch', 'product', 'brand', 'ever', 'since', 'trust', 'anymore']\n",
      "['big', 'comfortable', 'inflatesdeflates', 'unfoldfold', 'hope', 'lasts', 'long', 'time']\n"
     ]
    }
   ],
   "source": [
    "tokenized_reviews_1star = pd.Series(reviews_1star).apply(lambda x: x.split())\n",
    "tokenized_reviews_5stars = pd.Series(reviews_5stars).apply(lambda x: x.split())\n",
    "print(tokenized_reviews_1star[1])\n",
    "print(tokenized_reviews_5stars[1])"
   ]
  },
  {
   "cell_type": "code",
   "execution_count": 23,
   "id": "69744141",
   "metadata": {},
   "outputs": [
    {
     "name": "stdout",
     "output_type": "stream",
     "text": [
      "['many', 'negative', 'arrogant', 'prior', 'heavy', 'personbr']\n",
      "['big', 'comfortable', 'long']\n"
     ]
    }
   ],
   "source": [
    "reviews_1star_2 = lemmatization(tokenized_reviews_1star)\n",
    "reviews_5stars_2 = lemmatization(tokenized_reviews_5stars)\n",
    "\n",
    "print(reviews_1star_2[1]) \n",
    "print(reviews_5stars_2[1]) "
   ]
  },
  {
   "cell_type": "code",
   "execution_count": 26,
   "id": "84de2c36",
   "metadata": {},
   "outputs": [
    {
     "name": "stderr",
     "output_type": "stream",
     "text": [
      "C:\\Users\\li_mi\\anaconda3\\envs\\PythonData\\lib\\site-packages\\ipykernel_launcher.py:6: SettingWithCopyWarning: \n",
      "A value is trying to be set on a copy of a slice from a DataFrame.\n",
      "Try using .loc[row_indexer,col_indexer] = value instead\n",
      "\n",
      "See the caveats in the documentation: https://pandas.pydata.org/pandas-docs/stable/user_guide/indexing.html#returning-a-view-versus-a-copy\n",
      "  \n"
     ]
    },
    {
     "data": {
      "image/png": "[encoded data removed]",
      "text/plain": [
       "<Figure size 1440x360 with 1 Axes>"
      ]
     },
     "metadata": {
      "needs_background": "light"
     },
     "output_type": "display_data"
    }
   ],
   "source": [
    "# Create chart frequent words for 1 star reviews\n",
    "reviews_1star_3 = []\n",
    "for i in range(len(reviews_1star_2 )):\n",
    "    reviews_1star_3.append(' '.join(reviews_1star_2[i]))\n",
    "\n",
    "df_1star['reviews'] = reviews_1star_3\n",
    "\n",
    "freq_words(df_1star['reviews'], 30)"
   ]
  },
  {
   "cell_type": "code",
   "execution_count": 27,
   "id": "9d026d07",
   "metadata": {},
   "outputs": [
    {
     "name": "stderr",
     "output_type": "stream",
     "text": [
      "C:\\Users\\li_mi\\anaconda3\\envs\\PythonData\\lib\\site-packages\\ipykernel_launcher.py:6: SettingWithCopyWarning: \n",
      "A value is trying to be set on a copy of a slice from a DataFrame.\n",
      "Try using .loc[row_indexer,col_indexer] = value instead\n",
      "\n",
      "See the caveats in the documentation: https://pandas.pydata.org/pandas-docs/stable/user_guide/indexing.html#returning-a-view-versus-a-copy\n",
      "  \n"
     ]
    },
    {
     "data": {
      "image/png": "[encoded data removed]",
      "text/plain": [
       "<Figure size 1440x360 with 1 Axes>"
      ]
     },
     "metadata": {
      "needs_background": "light"
     },
     "output_type": "display_data"
    }
   ],
   "source": [
    "# Create chart frequent words for 5 star reviews\n",
    "reviews_5stars_3 = []\n",
    "for i in range(len(reviews_5stars_2 )):\n",
    "    reviews_5stars_3.append(' '.join(reviews_5stars_2[i]))\n",
    "\n",
    "df_5stars['reviews'] = reviews_5stars_3\n",
    "\n",
    "freq_words(df_5stars['reviews'], 30)"
   ]
  }
 ],
 "metadata": {
  "kernelspec": {
   "display_name": "PythonData",
   "language": "python",
   "name": "pythondata"
  },
  "language_info": {
   "codemirror_mode": {
    "name": "ipython",
    "version": 3
   },
   "file_extension": ".py",
   "mimetype": "text/x-python",
   "name": "python",
   "nbconvert_exporter": "python",
   "pygments_lexer": "ipython3",
   "version": "3.7.9"
  }
 },
 "nbformat": 4,
 "nbformat_minor": 5
}

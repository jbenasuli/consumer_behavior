{
 "cells": [
  {
   "cell_type": "markdown",
   "id": "305916ac",
   "metadata": {},
   "source": [
    "# Machine learning model to read reviews"
   ]
  },
  {
   "cell_type": "markdown",
   "id": "8db71307",
   "metadata": {},
   "source": [
    "Question: how can we analyze a large number or reviews with NPL?\n",
    "\n",
    "Goal: enable companies to quickly extract the key topics covered from the customer feedback without having to read through them one by one"
   ]
  },
  {
   "cell_type": "code",
   "execution_count": 1,
   "id": "b4a2e0c3",
   "metadata": {},
   "outputs": [],
   "source": [
    "# Import dependencies\n",
    "from sqlalchemy import create_engine\n",
    "import pandas as pd\n",
    "import spacy\n",
    "\n",
    "# Libraries for visualization\n",
    "import matplotlib.pyplot as plt\n",
    "import seaborn as sns\n",
    "\n",
    "\n",
    "#Libraries for lemmatization\n",
    "import nltk\n",
    "import re\n",
    "from nltk.corpus import stopwords\n",
    "from nltk.stem import WordNetLemmatizer\n",
    "from nltk.tokenize import word_tokenize\n",
    "from nltk import FreqDist\n",
    "\n",
    "#Libraries for word cloud\n",
    "from os import path\n",
    "from PIL import Image\n",
    "from wordcloud import WordCloud, STOPWORDS"
   ]
  },
  {
   "cell_type": "code",
   "execution_count": 2,
   "id": "764df4cf",
   "metadata": {},
   "outputs": [],
   "source": [
    "# Postgres username, password, and database name\n",
    "\n",
    "POSTGRES_ADDRESS = 'mypostgresdb.cwuhtytzosg8.us-east-2.rds.amazonaws.com' \n",
    "POSTGRES_PORT = '5432'\n",
    "POSTGRES_USERNAME = 'root' \n",
    "POSTGRES_PASSWORD = 'XXXX' ## CHANGE THIS TO YOUR PANOPLY/POSTGRES PASSWORD\n",
    "POSTGRES_DBNAME = 'my_data_class_db'\n",
    "# A long string that contains the necessary Postgres login information\n",
    "postgres_str = ('postgresql://{username}:{password}@{ipaddress}:{port}/{dbname}'\n",
    ".format(username=POSTGRES_USERNAME,\n",
    "password=POSTGRES_PASSWORD,\n",
    "ipaddress=POSTGRES_ADDRESS,\n",
    "port=POSTGRES_PORT,\n",
    "dbname=POSTGRES_DBNAME))\n",
    "# Create the connection\n",
    "cnx = create_engine(postgres_str)"
   ]
  },
  {
   "cell_type": "code",
   "execution_count": 3,
   "id": "2fe96ff3",
   "metadata": {},
   "outputs": [
    {
     "data": {
      "text/html": [
       "<div>\n",
       "<style scoped>\n",
       "    .dataframe tbody tr th:only-of-type {\n",
       "        vertical-align: middle;\n",
       "    }\n",
       "\n",
       "    .dataframe tbody tr th {\n",
       "        vertical-align: top;\n",
       "    }\n",
       "\n",
       "    .dataframe thead th {\n",
       "        text-align: right;\n",
       "    }\n",
       "</style>\n",
       "<table border=\"1\" class=\"dataframe\">\n",
       "  <thead>\n",
       "    <tr style=\"text-align: right;\">\n",
       "      <th></th>\n",
       "      <th>customer_id</th>\n",
       "      <th>review_id</th>\n",
       "      <th>star_rating</th>\n",
       "      <th>review_headline</th>\n",
       "      <th>review_body</th>\n",
       "    </tr>\n",
       "  </thead>\n",
       "  <tbody>\n",
       "    <tr>\n",
       "      <th>0</th>\n",
       "      <td>51982153</td>\n",
       "      <td>R1DZ76NBD2TX55</td>\n",
       "      <td>5</td>\n",
       "      <td>my wife and i had to pick one of these up over...</td>\n",
       "      <td>my wife and i had to pick one of these up over...</td>\n",
       "    </tr>\n",
       "    <tr>\n",
       "      <th>1</th>\n",
       "      <td>44662747</td>\n",
       "      <td>R3G4HN08IK8Q5W</td>\n",
       "      <td>5</td>\n",
       "      <td>this is big and comfortable  it inflatesdeflat...</td>\n",
       "      <td>this is big and comfortable  it inflatesdeflat...</td>\n",
       "    </tr>\n",
       "    <tr>\n",
       "      <th>2</th>\n",
       "      <td>17097525</td>\n",
       "      <td>R1S3TBZK71L487</td>\n",
       "      <td>1</td>\n",
       "      <td>horrible it was so comfortable for the first f...</td>\n",
       "      <td>horrible it was so comfortable for the first f...</td>\n",
       "    </tr>\n",
       "    <tr>\n",
       "      <th>3</th>\n",
       "      <td>29924839</td>\n",
       "      <td>R9P8YG335IDYV</td>\n",
       "      <td>5</td>\n",
       "      <td>we bought this so our friends kids would have ...</td>\n",
       "      <td>we bought this so our friends kids would have ...</td>\n",
       "    </tr>\n",
       "    <tr>\n",
       "      <th>4</th>\n",
       "      <td>46198682</td>\n",
       "      <td>R5VTP1LCQIATH</td>\n",
       "      <td>4</td>\n",
       "      <td>this bed exceeded my expectations in sturdines...</td>\n",
       "      <td>this bed exceeded my expectations in sturdines...</td>\n",
       "    </tr>\n",
       "  </tbody>\n",
       "</table>\n",
       "</div>"
      ],
      "text/plain": [
       "   customer_id       review_id  star_rating  \\\n",
       "0     51982153  R1DZ76NBD2TX55            5   \n",
       "1     44662747  R3G4HN08IK8Q5W            5   \n",
       "2     17097525  R1S3TBZK71L487            1   \n",
       "3     29924839   R9P8YG335IDYV            5   \n",
       "4     46198682   R5VTP1LCQIATH            4   \n",
       "\n",
       "                                     review_headline  \\\n",
       "0  my wife and i had to pick one of these up over...   \n",
       "1  this is big and comfortable  it inflatesdeflat...   \n",
       "2  horrible it was so comfortable for the first f...   \n",
       "3  we bought this so our friends kids would have ...   \n",
       "4  this bed exceeded my expectations in sturdines...   \n",
       "\n",
       "                                         review_body  \n",
       "0  my wife and i had to pick one of these up over...  \n",
       "1  this is big and comfortable  it inflatesdeflat...  \n",
       "2  horrible it was so comfortable for the first f...  \n",
       "3  we bought this so our friends kids would have ...  \n",
       "4  this bed exceeded my expectations in sturdines...  "
      ]
     },
     "execution_count": 3,
     "metadata": {},
     "output_type": "execute_result"
    }
   ],
   "source": [
    "# 3 Load database for sentiment/topic analysis\n",
    "df = pd.read_sql_query('''SELECT * FROM airmattress_cleaned''', con=cnx)\n",
    "df.head()"
   ]
  },
  {
   "cell_type": "markdown",
   "id": "9faa8ab2",
   "metadata": {},
   "source": [
    "### Prepare data for ML model"
   ]
  },
  {
   "cell_type": "code",
   "execution_count": 4,
   "id": "a3d7554b",
   "metadata": {},
   "outputs": [],
   "source": [
    "# 4 function to plot most frequent terms\n",
    "def freq_words(x, terms = 30):\n",
    "  all_words = ' '.join([text for text in x])\n",
    "  all_words = all_words.split()\n",
    "\n",
    "  fdist = FreqDist(all_words)\n",
    "  words_df = pd.DataFrame({'word':list(fdist.keys()), 'count':list(fdist.values())})\n",
    "\n",
    "  # selecting top 20 most frequent words\n",
    "  d = words_df.nlargest(columns=\"count\", n = terms) \n",
    "  plt.figure(figsize=(20,5))\n",
    "  ax = sns.barplot(data=d, x= \"word\", y = \"count\", color = 'black')\n",
    "  ax.set(ylabel = 'Count')\n",
    "  plt.show()"
   ]
  },
  {
   "cell_type": "code",
   "execution_count": 5,
   "id": "c3543082",
   "metadata": {},
   "outputs": [
    {
     "data": {
      "image/png": "[encoded data removed]",
      "text/plain": [
       "<Figure size 1440x360 with 1 Axes>"
      ]
     },
     "metadata": {
      "needs_background": "light"
     },
     "output_type": "display_data"
    }
   ],
   "source": [
    "freq_words(df['review_body'])"
   ]
  },
  {
   "cell_type": "code",
   "execution_count": 6,
   "id": "ef8a3316",
   "metadata": {},
   "outputs": [
    {
     "name": "stderr",
     "output_type": "stream",
     "text": [
      "C:\\Users\\li_mi\\anaconda3\\envs\\PythonData\\lib\\site-packages\\ipykernel_launcher.py:2: FutureWarning: The default value of regex will change from True to False in a future version.\n",
      "  \n"
     ]
    },
    {
     "data": {
      "text/html": [
       "<div>\n",
       "<style scoped>\n",
       "    .dataframe tbody tr th:only-of-type {\n",
       "        vertical-align: middle;\n",
       "    }\n",
       "\n",
       "    .dataframe tbody tr th {\n",
       "        vertical-align: top;\n",
       "    }\n",
       "\n",
       "    .dataframe thead th {\n",
       "        text-align: right;\n",
       "    }\n",
       "</style>\n",
       "<table border=\"1\" class=\"dataframe\">\n",
       "  <thead>\n",
       "    <tr style=\"text-align: right;\">\n",
       "      <th></th>\n",
       "      <th>customer_id</th>\n",
       "      <th>review_id</th>\n",
       "      <th>star_rating</th>\n",
       "      <th>review_headline</th>\n",
       "      <th>review_body</th>\n",
       "    </tr>\n",
       "  </thead>\n",
       "  <tbody>\n",
       "    <tr>\n",
       "      <th>0</th>\n",
       "      <td>51982153</td>\n",
       "      <td>R1DZ76NBD2TX55</td>\n",
       "      <td>5</td>\n",
       "      <td>my wife and i had to pick one of these up over...</td>\n",
       "      <td>my wife and i had to pick one of these up over...</td>\n",
       "    </tr>\n",
       "    <tr>\n",
       "      <th>1</th>\n",
       "      <td>44662747</td>\n",
       "      <td>R3G4HN08IK8Q5W</td>\n",
       "      <td>5</td>\n",
       "      <td>this is big and comfortable  it inflatesdeflat...</td>\n",
       "      <td>this is big and comfortable  it inflatesdeflat...</td>\n",
       "    </tr>\n",
       "    <tr>\n",
       "      <th>2</th>\n",
       "      <td>17097525</td>\n",
       "      <td>R1S3TBZK71L487</td>\n",
       "      <td>1</td>\n",
       "      <td>horrible it was so comfortable for the first f...</td>\n",
       "      <td>horrible it was so comfortable for the first f...</td>\n",
       "    </tr>\n",
       "    <tr>\n",
       "      <th>3</th>\n",
       "      <td>29924839</td>\n",
       "      <td>R9P8YG335IDYV</td>\n",
       "      <td>5</td>\n",
       "      <td>we bought this so our friends kids would have ...</td>\n",
       "      <td>we bought this so our friends kids would have ...</td>\n",
       "    </tr>\n",
       "    <tr>\n",
       "      <th>4</th>\n",
       "      <td>46198682</td>\n",
       "      <td>R5VTP1LCQIATH</td>\n",
       "      <td>4</td>\n",
       "      <td>this bed exceeded my expectations in sturdines...</td>\n",
       "      <td>this bed exceeded my expectations in sturdines...</td>\n",
       "    </tr>\n",
       "    <tr>\n",
       "      <th>...</th>\n",
       "      <td>...</td>\n",
       "      <td>...</td>\n",
       "      <td>...</td>\n",
       "      <td>...</td>\n",
       "      <td>...</td>\n",
       "    </tr>\n",
       "    <tr>\n",
       "      <th>4748</th>\n",
       "      <td>10221632</td>\n",
       "      <td>R2K0TL4VNH71AB</td>\n",
       "      <td>5</td>\n",
       "      <td>good buy very little leak the bed itself is ve...</td>\n",
       "      <td>good buy very little leak the bed itself is ve...</td>\n",
       "    </tr>\n",
       "    <tr>\n",
       "      <th>4749</th>\n",
       "      <td>52922779</td>\n",
       "      <td>R3FMSB7NVM64SP</td>\n",
       "      <td>5</td>\n",
       "      <td>this is a great thing to have the built in pum...</td>\n",
       "      <td>this is a great thing to have the built in pum...</td>\n",
       "    </tr>\n",
       "    <tr>\n",
       "      <th>4750</th>\n",
       "      <td>45643821</td>\n",
       "      <td>R3JPX7JXE4JF61</td>\n",
       "      <td>5</td>\n",
       "      <td>this air mattress is incredible  we bought it ...</td>\n",
       "      <td>this air mattress is incredible  we bought it ...</td>\n",
       "    </tr>\n",
       "    <tr>\n",
       "      <th>4751</th>\n",
       "      <td>14464916</td>\n",
       "      <td>R2XZEVT9OE0BXI</td>\n",
       "      <td>4</td>\n",
       "      <td>i have not had this item for very long and hav...</td>\n",
       "      <td>i have not had this item for very long and hav...</td>\n",
       "    </tr>\n",
       "    <tr>\n",
       "      <th>4752</th>\n",
       "      <td>11092248</td>\n",
       "      <td>R164SXE5K0KQDG</td>\n",
       "      <td>4</td>\n",
       "      <td>i used to have the older version of this one u...</td>\n",
       "      <td>i used to have the older version of this one u...</td>\n",
       "    </tr>\n",
       "  </tbody>\n",
       "</table>\n",
       "<p>4753 rows × 5 columns</p>\n",
       "</div>"
      ],
      "text/plain": [
       "      customer_id       review_id  star_rating  \\\n",
       "0        51982153  R1DZ76NBD2TX55            5   \n",
       "1        44662747  R3G4HN08IK8Q5W            5   \n",
       "2        17097525  R1S3TBZK71L487            1   \n",
       "3        29924839   R9P8YG335IDYV            5   \n",
       "4        46198682   R5VTP1LCQIATH            4   \n",
       "...           ...             ...          ...   \n",
       "4748     10221632  R2K0TL4VNH71AB            5   \n",
       "4749     52922779  R3FMSB7NVM64SP            5   \n",
       "4750     45643821  R3JPX7JXE4JF61            5   \n",
       "4751     14464916  R2XZEVT9OE0BXI            4   \n",
       "4752     11092248  R164SXE5K0KQDG            4   \n",
       "\n",
       "                                        review_headline  \\\n",
       "0     my wife and i had to pick one of these up over...   \n",
       "1     this is big and comfortable  it inflatesdeflat...   \n",
       "2     horrible it was so comfortable for the first f...   \n",
       "3     we bought this so our friends kids would have ...   \n",
       "4     this bed exceeded my expectations in sturdines...   \n",
       "...                                                 ...   \n",
       "4748  good buy very little leak the bed itself is ve...   \n",
       "4749  this is a great thing to have the built in pum...   \n",
       "4750  this air mattress is incredible  we bought it ...   \n",
       "4751  i have not had this item for very long and hav...   \n",
       "4752  i used to have the older version of this one u...   \n",
       "\n",
       "                                            review_body  \n",
       "0     my wife and i had to pick one of these up over...  \n",
       "1     this is big and comfortable  it inflatesdeflat...  \n",
       "2     horrible it was so comfortable for the first f...  \n",
       "3     we bought this so our friends kids would have ...  \n",
       "4     this bed exceeded my expectations in sturdines...  \n",
       "...                                                 ...  \n",
       "4748  good buy very little leak the bed itself is ve...  \n",
       "4749  this is a great thing to have the built in pum...  \n",
       "4750  this air mattress is incredible  we bought it ...  \n",
       "4751  i have not had this item for very long and hav...  \n",
       "4752  i used to have the older version of this one u...  \n",
       "\n",
       "[4753 rows x 5 columns]"
      ]
     },
     "execution_count": 6,
     "metadata": {},
     "output_type": "execute_result"
    }
   ],
   "source": [
    "# 5 Remove unwanted characters, numbers and symbols\n",
    "df['review_body'] = df['review_body'].str.replace(\"[^a-zA-Z#]\", \" \")\n",
    "df"
   ]
  },
  {
   "cell_type": "code",
   "execution_count": 7,
   "id": "0d4c7b27",
   "metadata": {},
   "outputs": [],
   "source": [
    "# 6 Remove stop words\n",
    "from nltk.corpus import stopwords\n",
    "stop_words = stopwords.words('english')\n",
    "\n",
    "# Remove stopwords\n",
    "def remove_stopwords(rev):\n",
    "    rev_new = \" \".join([i for i in rev if i not in stop_words])\n",
    "    return rev_new\n",
    "\n",
    "# Remove short words (length < 3)\n",
    "df['review_body'] = df['review_body'].apply(lambda x: ' '.join([w for w in x.split() if len(w)>2]))\n",
    "\n",
    "# Exclude stopwords from the text\n",
    "reviews = [remove_stopwords(r.split()) for r in df['review_body']]"
   ]
  },
  {
   "cell_type": "code",
   "execution_count": 8,
   "id": "029b48d4",
   "metadata": {},
   "outputs": [
    {
     "name": "stdout",
     "output_type": "stream",
     "text": [
      "Collecting en-core-web-sm==3.0.0\n",
      "  Downloading https://github.com/explosion/spacy-models/releases/download/en_core_web_sm-3.0.0/en_core_web_sm-3.0.0-py3-none-any.whl (13.7 MB)\n",
      "Requirement already satisfied: spacy<3.1.0,>=3.0.0 in c:\\users\\li_mi\\anaconda3\\envs\\pythondata\\lib\\site-packages (from en-core-web-sm==3.0.0) (3.0.6)\n",
      "Requirement already satisfied: thinc<8.1.0,>=8.0.3 in c:\\users\\li_mi\\anaconda3\\envs\\pythondata\\lib\\site-packages (from spacy<3.1.0,>=3.0.0->en-core-web-sm==3.0.0) (8.0.3)\n",
      "Requirement already satisfied: preshed<3.1.0,>=3.0.2 in c:\\users\\li_mi\\anaconda3\\envs\\pythondata\\lib\\site-packages (from spacy<3.1.0,>=3.0.0->en-core-web-sm==3.0.0) (3.0.5)\n",
      "Requirement already satisfied: numpy>=1.15.0 in c:\\users\\li_mi\\anaconda3\\envs\\pythondata\\lib\\site-packages (from spacy<3.1.0,>=3.0.0->en-core-web-sm==3.0.0) (1.20.2)\n",
      "Requirement already satisfied: packaging>=20.0 in c:\\users\\li_mi\\anaconda3\\envs\\pythondata\\lib\\site-packages (from spacy<3.1.0,>=3.0.0->en-core-web-sm==3.0.0) (20.9)\n",
      "Requirement already satisfied: cymem<2.1.0,>=2.0.2 in c:\\users\\li_mi\\anaconda3\\envs\\pythondata\\lib\\site-packages (from spacy<3.1.0,>=3.0.0->en-core-web-sm==3.0.0) (2.0.5)\n",
      "Requirement already satisfied: typing-extensions<4.0.0.0,>=3.7.4 in c:\\users\\li_mi\\anaconda3\\envs\\pythondata\\lib\\site-packages (from spacy<3.1.0,>=3.0.0->en-core-web-sm==3.0.0) (3.7.4.3)\n",
      "Requirement already satisfied: setuptools in c:\\users\\li_mi\\anaconda3\\envs\\pythondata\\lib\\site-packages (from spacy<3.1.0,>=3.0.0->en-core-web-sm==3.0.0) (52.0.0.post20210125)\n",
      "Requirement already satisfied: jinja2 in c:\\users\\li_mi\\anaconda3\\envs\\pythondata\\lib\\site-packages (from spacy<3.1.0,>=3.0.0->en-core-web-sm==3.0.0) (2.11.3)\n",
      "Requirement already satisfied: pydantic<1.8.0,>=1.7.1 in c:\\users\\li_mi\\anaconda3\\envs\\pythondata\\lib\\site-packages (from spacy<3.1.0,>=3.0.0->en-core-web-sm==3.0.0) (1.7.3)\n",
      "Requirement already satisfied: spacy-legacy<3.1.0,>=3.0.4 in c:\\users\\li_mi\\anaconda3\\envs\\pythondata\\lib\\site-packages (from spacy<3.1.0,>=3.0.0->en-core-web-sm==3.0.0) (3.0.5)\n",
      "Requirement already satisfied: typer<0.4.0,>=0.3.0 in c:\\users\\li_mi\\anaconda3\\envs\\pythondata\\lib\\site-packages (from spacy<3.1.0,>=3.0.0->en-core-web-sm==3.0.0) (0.3.2)\n",
      "Requirement already satisfied: requests<3.0.0,>=2.13.0 in c:\\users\\li_mi\\anaconda3\\envs\\pythondata\\lib\\site-packages (from spacy<3.1.0,>=3.0.0->en-core-web-sm==3.0.0) (2.25.1)\n",
      "Requirement already satisfied: pathy>=0.3.5 in c:\\users\\li_mi\\anaconda3\\envs\\pythondata\\lib\\site-packages (from spacy<3.1.0,>=3.0.0->en-core-web-sm==3.0.0) (0.5.2)\n",
      "Requirement already satisfied: catalogue<2.1.0,>=2.0.3 in c:\\users\\li_mi\\anaconda3\\envs\\pythondata\\lib\\site-packages (from spacy<3.1.0,>=3.0.0->en-core-web-sm==3.0.0) (2.0.4)\n",
      "Requirement already satisfied: wasabi<1.1.0,>=0.8.1 in c:\\users\\li_mi\\anaconda3\\envs\\pythondata\\lib\\site-packages (from spacy<3.1.0,>=3.0.0->en-core-web-sm==3.0.0) (0.8.2)\n",
      "Requirement already satisfied: blis<0.8.0,>=0.4.0 in c:\\users\\li_mi\\anaconda3\\envs\\pythondata\\lib\\site-packages (from spacy<3.1.0,>=3.0.0->en-core-web-sm==3.0.0) (0.7.4)\n",
      "Requirement already satisfied: murmurhash<1.1.0,>=0.28.0 in c:\\users\\li_mi\\anaconda3\\envs\\pythondata\\lib\\site-packages (from spacy<3.1.0,>=3.0.0->en-core-web-sm==3.0.0) (1.0.5)\n",
      "Requirement already satisfied: srsly<3.0.0,>=2.4.1 in c:\\users\\li_mi\\anaconda3\\envs\\pythondata\\lib\\site-packages (from spacy<3.1.0,>=3.0.0->en-core-web-sm==3.0.0) (2.4.1)\n",
      "Requirement already satisfied: tqdm<5.0.0,>=4.38.0 in c:\\users\\li_mi\\anaconda3\\envs\\pythondata\\lib\\site-packages (from spacy<3.1.0,>=3.0.0->en-core-web-sm==3.0.0) (4.59.0)\n",
      "Requirement already satisfied: zipp>=0.5 in c:\\users\\li_mi\\anaconda3\\envs\\pythondata\\lib\\site-packages (from catalogue<2.1.0,>=2.0.3->spacy<3.1.0,>=3.0.0->en-core-web-sm==3.0.0) (3.4.1)\n",
      "Requirement already satisfied: pyparsing>=2.0.2 in c:\\users\\li_mi\\anaconda3\\envs\\pythondata\\lib\\site-packages (from packaging>=20.0->spacy<3.1.0,>=3.0.0->en-core-web-sm==3.0.0) (2.4.7)\n",
      "Requirement already satisfied: smart-open<4.0.0,>=2.2.0 in c:\\users\\li_mi\\anaconda3\\envs\\pythondata\\lib\\site-packages (from pathy>=0.3.5->spacy<3.1.0,>=3.0.0->en-core-web-sm==3.0.0) (3.0.0)\n",
      "Requirement already satisfied: certifi>=2017.4.17 in c:\\users\\li_mi\\anaconda3\\envs\\pythondata\\lib\\site-packages (from requests<3.0.0,>=2.13.0->spacy<3.1.0,>=3.0.0->en-core-web-sm==3.0.0) (2020.12.5)\n",
      "Requirement already satisfied: idna<3,>=2.5 in c:\\users\\li_mi\\anaconda3\\envs\\pythondata\\lib\\site-packages (from requests<3.0.0,>=2.13.0->spacy<3.1.0,>=3.0.0->en-core-web-sm==3.0.0) (2.10)\n",
      "Requirement already satisfied: urllib3<1.27,>=1.21.1 in c:\\users\\li_mi\\anaconda3\\envs\\pythondata\\lib\\site-packages (from requests<3.0.0,>=2.13.0->spacy<3.1.0,>=3.0.0->en-core-web-sm==3.0.0) (1.26.4)\n",
      "Requirement already satisfied: chardet<5,>=3.0.2 in c:\\users\\li_mi\\anaconda3\\envs\\pythondata\\lib\\site-packages (from requests<3.0.0,>=2.13.0->spacy<3.1.0,>=3.0.0->en-core-web-sm==3.0.0) (4.0.0)\n",
      "Requirement already satisfied: click<7.2.0,>=7.1.1 in c:\\users\\li_mi\\anaconda3\\envs\\pythondata\\lib\\site-packages (from typer<0.4.0,>=0.3.0->spacy<3.1.0,>=3.0.0->en-core-web-sm==3.0.0) (7.1.2)\n",
      "Requirement already satisfied: MarkupSafe>=0.23 in c:\\users\\li_mi\\anaconda3\\envs\\pythondata\\lib\\site-packages (from jinja2->spacy<3.1.0,>=3.0.0->en-core-web-sm==3.0.0) (1.1.1)\n",
      "[+] Download and installation successful\n",
      "You can now load the package via spacy.load('en_core_web_sm')\n"
     ]
    },
    {
     "name": "stderr",
     "output_type": "stream",
     "text": [
      "2021-05-08 09:12:10.233211: W tensorflow/stream_executor/platform/default/dso_loader.cc:60] Could not load dynamic library 'cudart64_110.dll'; dlerror: cudart64_110.dll not found\n",
      "2021-05-08 09:12:10.233235: I tensorflow/stream_executor/cuda/cudart_stub.cc:29] Ignore above cudart dlerror if you do not have a GPU set up on your machine.\n"
     ]
    }
   ],
   "source": [
    "# To remove noise from reviews, use lemmatization from spaCy library\n",
    "!python -m spacy download en_core_web_sm "
   ]
  },
  {
   "cell_type": "code",
   "execution_count": 9,
   "id": "a6872b1d",
   "metadata": {},
   "outputs": [],
   "source": [
    "# 7 Use nlp to remove words that are not aggregating to analysis, using only adjectives\n",
    "nlp = spacy.load('en_core_web_sm', disable=['parser', 'ner'])\n",
    "\n",
    "# def lemmatization(texts, tags=['NOUN', 'ADJ']): # filter noun and adjective\n",
    "def lemmatization(texts, tags=['ADJ']): # filter noun and adjective\n",
    "       output = []\n",
    "       for sent in texts:\n",
    "             doc = nlp(\" \".join(sent)) \n",
    "             output.append([token.lemma_ for token in doc if token.pos_ in tags])\n",
    "       return output"
   ]
  },
  {
   "cell_type": "code",
   "execution_count": 10,
   "id": "58c73b19",
   "metadata": {},
   "outputs": [
    {
     "name": "stdout",
     "output_type": "stream",
     "text": [
      "['big', 'comfortable', 'inflatesdeflates', 'unfoldfold', 'hope', 'lasts', 'long', 'time']\n"
     ]
    }
   ],
   "source": [
    "tokenized_reviews = pd.Series(reviews).apply(lambda x: x.split())\n",
    "print(tokenized_reviews[1])"
   ]
  },
  {
   "cell_type": "code",
   "execution_count": 11,
   "id": "33d73756",
   "metadata": {},
   "outputs": [
    {
     "name": "stdout",
     "output_type": "stream",
     "text": [
      "['big', 'comfortable', 'long']\n"
     ]
    }
   ],
   "source": [
    "reviews_2 = lemmatization(tokenized_reviews)\n",
    "print(reviews_2[1]) # print lemmatized review"
   ]
  },
  {
   "cell_type": "code",
   "execution_count": 12,
   "id": "a51b7f68",
   "metadata": {},
   "outputs": [
    {
     "data": {
      "image/png": "[encoded data removed]",
      "text/plain": [
       "<Figure size 1440x360 with 1 Axes>"
      ]
     },
     "metadata": {
      "needs_background": "light"
     },
     "output_type": "display_data"
    }
   ],
   "source": [
    "reviews_3 = []\n",
    "for i in range(len(reviews_2)):\n",
    "    reviews_3.append(' '.join(reviews_2[i]))\n",
    "\n",
    "df['reviews'] = reviews_3\n",
    "\n",
    "freq_words(df['reviews'], 20)"
   ]
  },
  {
   "cell_type": "markdown",
   "id": "effb601a",
   "metadata": {},
   "source": [
    "### Separate good reviews from bad reviews to make it easier for the analysis "
   ]
  },
  {
   "cell_type": "markdown",
   "id": "4a25fb7d",
   "metadata": {},
   "source": [
    "Create 2 dataframes, one with only 1 star reviews and another with 2 star reviews to get a better sense of the good and bad feedback"
   ]
  },
  {
   "cell_type": "code",
   "execution_count": 13,
   "id": "0f4f536c",
   "metadata": {},
   "outputs": [
    {
     "data": {
      "text/html": [
       "<div>\n",
       "<style scoped>\n",
       "    .dataframe tbody tr th:only-of-type {\n",
       "        vertical-align: middle;\n",
       "    }\n",
       "\n",
       "    .dataframe tbody tr th {\n",
       "        vertical-align: top;\n",
       "    }\n",
       "\n",
       "    .dataframe thead th {\n",
       "        text-align: right;\n",
       "    }\n",
       "</style>\n",
       "<table border=\"1\" class=\"dataframe\">\n",
       "  <thead>\n",
       "    <tr style=\"text-align: right;\">\n",
       "      <th></th>\n",
       "      <th>customer_id</th>\n",
       "      <th>review_id</th>\n",
       "      <th>star_rating</th>\n",
       "      <th>review_headline</th>\n",
       "      <th>review_body</th>\n",
       "      <th>reviews</th>\n",
       "    </tr>\n",
       "  </thead>\n",
       "  <tbody>\n",
       "    <tr>\n",
       "      <th>2</th>\n",
       "      <td>17097525</td>\n",
       "      <td>R1S3TBZK71L487</td>\n",
       "      <td>1</td>\n",
       "      <td>horrible it was so comfortable for the first f...</td>\n",
       "      <td>horrible was comfortable for the first few day...</td>\n",
       "      <td>horrible comfortable first first bad bad hourl...</td>\n",
       "    </tr>\n",
       "    <tr>\n",
       "      <th>5</th>\n",
       "      <td>11489596</td>\n",
       "      <td>R157632LYK6UT6</td>\n",
       "      <td>1</td>\n",
       "      <td>i wish i could return this item i read almost ...</td>\n",
       "      <td>wish could return this item read almost all re...</td>\n",
       "      <td>many negative arrogant prior heavy personbr</td>\n",
       "    </tr>\n",
       "    <tr>\n",
       "      <th>6</th>\n",
       "      <td>12256364</td>\n",
       "      <td>R2759URB10Q8RD</td>\n",
       "      <td>1</td>\n",
       "      <td>our bad experience is the same as some others ...</td>\n",
       "      <td>our bad experience the same some others have e...</td>\n",
       "      <td>bad first nice comfortable flat top able small...</td>\n",
       "    </tr>\n",
       "    <tr>\n",
       "      <th>12</th>\n",
       "      <td>15328213</td>\n",
       "      <td>R6ISQWC1P9QMC</td>\n",
       "      <td>1</td>\n",
       "      <td>thought this was a great choice and it was unt...</td>\n",
       "      <td>thought this was great choice and was until de...</td>\n",
       "      <td>great third middle visible</td>\n",
       "    </tr>\n",
       "    <tr>\n",
       "      <th>29</th>\n",
       "      <td>22202716</td>\n",
       "      <td>R383PLOVTFG353</td>\n",
       "      <td>1</td>\n",
       "      <td>ok i ordered this on november 17th 2013 and i ...</td>\n",
       "      <td>ordered this november and got couple days afte...</td>\n",
       "      <td>big middle</td>\n",
       "    </tr>\n",
       "  </tbody>\n",
       "</table>\n",
       "</div>"
      ],
      "text/plain": [
       "    customer_id       review_id  star_rating  \\\n",
       "2      17097525  R1S3TBZK71L487            1   \n",
       "5      11489596  R157632LYK6UT6            1   \n",
       "6      12256364  R2759URB10Q8RD            1   \n",
       "12     15328213   R6ISQWC1P9QMC            1   \n",
       "29     22202716  R383PLOVTFG353            1   \n",
       "\n",
       "                                      review_headline  \\\n",
       "2   horrible it was so comfortable for the first f...   \n",
       "5   i wish i could return this item i read almost ...   \n",
       "6   our bad experience is the same as some others ...   \n",
       "12  thought this was a great choice and it was unt...   \n",
       "29  ok i ordered this on november 17th 2013 and i ...   \n",
       "\n",
       "                                          review_body  \\\n",
       "2   horrible was comfortable for the first few day...   \n",
       "5   wish could return this item read almost all re...   \n",
       "6   our bad experience the same some others have e...   \n",
       "12  thought this was great choice and was until de...   \n",
       "29  ordered this november and got couple days afte...   \n",
       "\n",
       "                                              reviews  \n",
       "2   horrible comfortable first first bad bad hourl...  \n",
       "5         many negative arrogant prior heavy personbr  \n",
       "6   bad first nice comfortable flat top able small...  \n",
       "12                         great third middle visible  \n",
       "29                                         big middle  "
      ]
     },
     "execution_count": 13,
     "metadata": {},
     "output_type": "execute_result"
    }
   ],
   "source": [
    "df_1star = df[df['star_rating'] == 1]\n",
    "df_1star.head()"
   ]
  },
  {
   "cell_type": "code",
   "execution_count": 14,
   "id": "4d7d79a3",
   "metadata": {},
   "outputs": [
    {
     "data": {
      "text/html": [
       "<div>\n",
       "<style scoped>\n",
       "    .dataframe tbody tr th:only-of-type {\n",
       "        vertical-align: middle;\n",
       "    }\n",
       "\n",
       "    .dataframe tbody tr th {\n",
       "        vertical-align: top;\n",
       "    }\n",
       "\n",
       "    .dataframe thead th {\n",
       "        text-align: right;\n",
       "    }\n",
       "</style>\n",
       "<table border=\"1\" class=\"dataframe\">\n",
       "  <thead>\n",
       "    <tr style=\"text-align: right;\">\n",
       "      <th></th>\n",
       "      <th>customer_id</th>\n",
       "      <th>review_id</th>\n",
       "      <th>star_rating</th>\n",
       "      <th>review_headline</th>\n",
       "      <th>review_body</th>\n",
       "      <th>reviews</th>\n",
       "    </tr>\n",
       "  </thead>\n",
       "  <tbody>\n",
       "    <tr>\n",
       "      <th>0</th>\n",
       "      <td>51982153</td>\n",
       "      <td>R1DZ76NBD2TX55</td>\n",
       "      <td>5</td>\n",
       "      <td>my wife and i had to pick one of these up over...</td>\n",
       "      <td>wife and had pick one these over the holiday f...</td>\n",
       "      <td>little concerned blowup first dead tired secon...</td>\n",
       "    </tr>\n",
       "    <tr>\n",
       "      <th>1</th>\n",
       "      <td>44662747</td>\n",
       "      <td>R3G4HN08IK8Q5W</td>\n",
       "      <td>5</td>\n",
       "      <td>this is big and comfortable  it inflatesdeflat...</td>\n",
       "      <td>this big and comfortable inflatesdeflates itse...</td>\n",
       "      <td>big comfortable long</td>\n",
       "    </tr>\n",
       "    <tr>\n",
       "      <th>3</th>\n",
       "      <td>29924839</td>\n",
       "      <td>R9P8YG335IDYV</td>\n",
       "      <td>5</td>\n",
       "      <td>we bought this so our friends kids would have ...</td>\n",
       "      <td>bought this our friends kids would have extra ...</td>\n",
       "      <td>extra twice last great high nice extra great</td>\n",
       "    </tr>\n",
       "    <tr>\n",
       "      <th>7</th>\n",
       "      <td>22867429</td>\n",
       "      <td>R238AOC9MSH1XZ</td>\n",
       "      <td>5</td>\n",
       "      <td>grandkids love this  so do we  it is comfortab...</td>\n",
       "      <td>grandkids love this comfortable and large enou...</td>\n",
       "      <td>comfortable large small great</td>\n",
       "    </tr>\n",
       "    <tr>\n",
       "      <th>8</th>\n",
       "      <td>40522779</td>\n",
       "      <td>R3BYPZR2ROSYJ5</td>\n",
       "      <td>5</td>\n",
       "      <td>enough said doesnt deflate yet at least and fe...</td>\n",
       "      <td>enough said doesnt deflate yet least and feels...</td>\n",
       "      <td>least many</td>\n",
       "    </tr>\n",
       "  </tbody>\n",
       "</table>\n",
       "</div>"
      ],
      "text/plain": [
       "   customer_id       review_id  star_rating  \\\n",
       "0     51982153  R1DZ76NBD2TX55            5   \n",
       "1     44662747  R3G4HN08IK8Q5W            5   \n",
       "3     29924839   R9P8YG335IDYV            5   \n",
       "7     22867429  R238AOC9MSH1XZ            5   \n",
       "8     40522779  R3BYPZR2ROSYJ5            5   \n",
       "\n",
       "                                     review_headline  \\\n",
       "0  my wife and i had to pick one of these up over...   \n",
       "1  this is big and comfortable  it inflatesdeflat...   \n",
       "3  we bought this so our friends kids would have ...   \n",
       "7  grandkids love this  so do we  it is comfortab...   \n",
       "8  enough said doesnt deflate yet at least and fe...   \n",
       "\n",
       "                                         review_body  \\\n",
       "0  wife and had pick one these over the holiday f...   \n",
       "1  this big and comfortable inflatesdeflates itse...   \n",
       "3  bought this our friends kids would have extra ...   \n",
       "7  grandkids love this comfortable and large enou...   \n",
       "8  enough said doesnt deflate yet least and feels...   \n",
       "\n",
       "                                             reviews  \n",
       "0  little concerned blowup first dead tired secon...  \n",
       "1                               big comfortable long  \n",
       "3       extra twice last great high nice extra great  \n",
       "7                      comfortable large small great  \n",
       "8                                         least many  "
      ]
     },
     "execution_count": 14,
     "metadata": {},
     "output_type": "execute_result"
    }
   ],
   "source": [
    "df_5stars = df[df['star_rating'] == 5]\n",
    "df_5stars.head()"
   ]
  },
  {
   "cell_type": "code",
   "execution_count": 15,
   "id": "6d663f95",
   "metadata": {},
   "outputs": [
    {
     "name": "stderr",
     "output_type": "stream",
     "text": [
      "C:\\Users\\li_mi\\anaconda3\\envs\\PythonData\\lib\\site-packages\\ipykernel_launcher.py:2: FutureWarning: The default value of regex will change from True to False in a future version.\n",
      "  \n",
      "C:\\Users\\li_mi\\anaconda3\\envs\\PythonData\\lib\\site-packages\\ipykernel_launcher.py:2: SettingWithCopyWarning: \n",
      "A value is trying to be set on a copy of a slice from a DataFrame.\n",
      "Try using .loc[row_indexer,col_indexer] = value instead\n",
      "\n",
      "See the caveats in the documentation: https://pandas.pydata.org/pandas-docs/stable/user_guide/indexing.html#returning-a-view-versus-a-copy\n",
      "  \n",
      "C:\\Users\\li_mi\\anaconda3\\envs\\PythonData\\lib\\site-packages\\ipykernel_launcher.py:3: FutureWarning: The default value of regex will change from True to False in a future version.\n",
      "  This is separate from the ipykernel package so we can avoid doing imports until\n",
      "C:\\Users\\li_mi\\anaconda3\\envs\\PythonData\\lib\\site-packages\\ipykernel_launcher.py:3: SettingWithCopyWarning: \n",
      "A value is trying to be set on a copy of a slice from a DataFrame.\n",
      "Try using .loc[row_indexer,col_indexer] = value instead\n",
      "\n",
      "See the caveats in the documentation: https://pandas.pydata.org/pandas-docs/stable/user_guide/indexing.html#returning-a-view-versus-a-copy\n",
      "  This is separate from the ipykernel package so we can avoid doing imports until\n"
     ]
    }
   ],
   "source": [
    "# 5 Remove unwanted characters, numbers and symbols\n",
    "df_1star['review_body'] = df['review_body'].str.replace(\"[^a-zA-Z#]\", \" \")\n",
    "df_5stars['review_body'] = df['review_body'].str.replace(\"[^a-zA-Z#]\", \" \")"
   ]
  },
  {
   "cell_type": "code",
   "execution_count": 16,
   "id": "fb3b22c6",
   "metadata": {},
   "outputs": [],
   "source": [
    "stop_words = stopwords.words('english')\n",
    "\n",
    "# Remove stopwords\n",
    "def remove_stopwords(rev):\n",
    "    rev_new = \" \".join([i for i in rev if i not in stop_words])\n",
    "    return rev_new\n",
    "\n",
    "# Exclude stopwords from the text\n",
    "reviews_1star = [remove_stopwords(r.split()) for r in df_1star['review_body']]\n",
    "reviews_5stars = [remove_stopwords(r.split()) for r in df_5stars['review_body']]"
   ]
  },
  {
   "cell_type": "code",
   "execution_count": 17,
   "id": "85b34496",
   "metadata": {},
   "outputs": [],
   "source": [
    "# 7 Use nlp to remove words that are not aggregating to analysis, using only adjectives\n",
    "nlp = spacy.load('en_core_web_sm', disable=['parser', 'ner'])\n",
    "\n",
    "# def lemmatization(texts, tags=['NOUN', 'ADJ']): # filter noun and adjective\n",
    "def lemmatization(texts, tags=['ADJ']): # filter noun and adjective\n",
    "       output = []\n",
    "       for sent in texts:\n",
    "             doc = nlp(\" \".join(sent)) \n",
    "             output.append([token.lemma_ for token in doc if token.pos_ in tags])\n",
    "       return output"
   ]
  },
  {
   "cell_type": "code",
   "execution_count": 18,
   "id": "0e621c75",
   "metadata": {},
   "outputs": [
    {
     "name": "stdout",
     "output_type": "stream",
     "text": [
      "['wish', 'could', 'return', 'item', 'read', 'almost', 'reviews', 'making', 'purchase', 'could', 'believe', 'item', 'still', 'sold', 'amazon', 'many', 'negative', 'experiences', 'thinking', 'follow', 'instructions', 'work', 'arrogant', 'part', 'would', 'buy', 'againabsolutely', 'leakabsolutely', 'definitely', 'yes', 'could', 'even', 'use', 'one', 'night', 'leaked', 'much', 'followed', 'instructions', 'set', 'prior', 'use', 'instructed', 'point', 'seemed', 'okay', 'leaks', 'weight', 'addedeven', 'lbs', 'weight', 'even', 'take', 'heavy', 'personbr', 'choice', 'whether', 'buy', 'personally', 'would', 'touch', 'product', 'brand', 'ever', 'since', 'trust', 'anymore']\n",
      "['big', 'comfortable', 'inflatesdeflates', 'unfoldfold', 'hope', 'lasts', 'long', 'time']\n"
     ]
    }
   ],
   "source": [
    "tokenized_reviews_1star = pd.Series(reviews_1star).apply(lambda x: x.split())\n",
    "tokenized_reviews_5stars = pd.Series(reviews_5stars).apply(lambda x: x.split())\n",
    "print(tokenized_reviews_1star[1])\n",
    "print(tokenized_reviews_5stars[1])"
   ]
  },
  {
   "cell_type": "code",
   "execution_count": 19,
   "id": "31fc21d7",
   "metadata": {},
   "outputs": [
    {
     "name": "stdout",
     "output_type": "stream",
     "text": [
      "['many', 'negative', 'arrogant', 'prior', 'heavy', 'personbr']\n",
      "['big', 'comfortable', 'long']\n"
     ]
    }
   ],
   "source": [
    "reviews_1star_2 = lemmatization(tokenized_reviews_1star)\n",
    "reviews_5stars_2 = lemmatization(tokenized_reviews_5stars)\n",
    "\n",
    "print(reviews_1star_2[1]) \n",
    "print(reviews_5stars_2[1]) "
   ]
  },
  {
   "cell_type": "code",
   "execution_count": 20,
   "id": "304a6dbd",
   "metadata": {},
   "outputs": [
    {
     "name": "stderr",
     "output_type": "stream",
     "text": [
      "C:\\Users\\li_mi\\anaconda3\\envs\\PythonData\\lib\\site-packages\\ipykernel_launcher.py:6: SettingWithCopyWarning: \n",
      "A value is trying to be set on a copy of a slice from a DataFrame.\n",
      "Try using .loc[row_indexer,col_indexer] = value instead\n",
      "\n",
      "See the caveats in the documentation: https://pandas.pydata.org/pandas-docs/stable/user_guide/indexing.html#returning-a-view-versus-a-copy\n",
      "  \n"
     ]
    },
    {
     "data": {
      "image/png": "[encoded data removed]",
      "text/plain": [
       "<Figure size 1440x360 with 1 Axes>"
      ]
     },
     "metadata": {
      "needs_background": "light"
     },
     "output_type": "display_data"
    }
   ],
   "source": [
    "# Create chart frequent words for 1 star reviews\n",
    "reviews_1star_3 = []\n",
    "for i in range(len(reviews_1star_2 )):\n",
    "    reviews_1star_3.append(' '.join(reviews_1star_2[i]))\n",
    "\n",
    "df_1star['reviews'] = reviews_1star_3\n",
    "\n",
    "freq_words(df_1star['reviews'], 30)"
   ]
  },
  {
   "cell_type": "code",
   "execution_count": 21,
   "id": "57ce1666",
   "metadata": {},
   "outputs": [
    {
     "name": "stderr",
     "output_type": "stream",
     "text": [
      "C:\\Users\\li_mi\\anaconda3\\envs\\PythonData\\lib\\site-packages\\ipykernel_launcher.py:6: SettingWithCopyWarning: \n",
      "A value is trying to be set on a copy of a slice from a DataFrame.\n",
      "Try using .loc[row_indexer,col_indexer] = value instead\n",
      "\n",
      "See the caveats in the documentation: https://pandas.pydata.org/pandas-docs/stable/user_guide/indexing.html#returning-a-view-versus-a-copy\n",
      "  \n"
     ]
    },
    {
     "data": {
      "image/png": "[encoded data removed]",
      "text/plain": [
       "<Figure size 1440x360 with 1 Axes>"
      ]
     },
     "metadata": {
      "needs_background": "light"
     },
     "output_type": "display_data"
    }
   ],
   "source": [
    "# Create chart frequent words for 5 star reviews\n",
    "reviews_5stars_3 = []\n",
    "for i in range(len(reviews_5stars_2 )):\n",
    "    reviews_5stars_3.append(' '.join(reviews_5stars_2[i]))\n",
    "\n",
    "df_5stars['reviews'] = reviews_5stars_3\n",
    "\n",
    "freq_words(df_5stars['reviews'], 30)"
   ]
  },
  {
   "cell_type": "markdown",
   "id": "4d1243c4",
   "metadata": {},
   "source": [
    "### Create Latent Dirichlet Allocation (LDA) model"
   ]
  },
  {
   "cell_type": "markdown",
   "id": "99fa5a5d",
   "metadata": {},
   "source": [
    "One application of LDA in machine learning - specifically, topic discovery, a subproblem in natural language processing - is to discover topics in a collection of documents, and then automatically classify any individual document within the collection in terms of how \"relevant\" it is to each of the discovered topics. A topic is considered to be a set of terms (i.e., individual words or phrases) that, taken together, suggest a shared theme. Souce: Wikipedia\n",
    "\n",
    "Topic Modelling is different from rule-based text mining approaches that use regular expressions or dictionary based keyword searching techniques. It is an unsupervised approach used for finding and observing the bunch of words (called “topics”) in large clusters of texts. Source: https://www.analyticsvidhya.com/blog/2016/08/beginners-guide-to-topic-modeling-in-python/"
   ]
  },
  {
   "cell_type": "code",
   "execution_count": 22,
   "id": "a1da50b6",
   "metadata": {},
   "outputs": [
    {
     "name": "stderr",
     "output_type": "stream",
     "text": [
      "C:\\Users\\li_mi\\anaconda3\\envs\\PythonData\\lib\\site-packages\\gensim\\similarities\\__init__.py:15: UserWarning: The gensim.similarities.levenshtein submodule is disabled, because the optional Levenshtein package <https://pypi.org/project/python-Levenshtein/> is unavailable. Install Levenhstein (e.g. `pip install python-Levenshtein`) to suppress this warning.\n",
      "  warnings.warn(msg)\n"
     ]
    }
   ],
   "source": [
    "import gensim\n",
    "from gensim import corpora"
   ]
  },
  {
   "cell_type": "code",
   "execution_count": 23,
   "id": "99567be3",
   "metadata": {},
   "outputs": [],
   "source": [
    "# Create the term dictionary of our corpus, unique terms are assigned an index\n",
    "dictionary_1star = corpora.Dictionary(reviews_1star_2)\n",
    "dictionary_5stars = corpora.Dictionary(reviews_5stars_2)"
   ]
  },
  {
   "cell_type": "code",
   "execution_count": 24,
   "id": "d859db52",
   "metadata": {},
   "outputs": [],
   "source": [
    "# Transform list of reviews into a document term matrix\n",
    "doc_term_matrix_1star = [dictionary_1star.doc2bow(rev) for rev in reviews_1star_2]\n",
    "doc_term_matrix_5stars = [dictionary_5stars.doc2bow(rev) for rev in reviews_5stars_2]"
   ]
  },
  {
   "cell_type": "code",
   "execution_count": 25,
   "id": "3f701a8a",
   "metadata": {},
   "outputs": [],
   "source": [
    "# Creating the object for LDA model using gensim library\n",
    "LDA = gensim.models.ldamodel.LdaModel\n",
    "\n",
    "# Build LDA model. In this case we specifified # of topics = 5\n",
    "lda_model_1star = LDA(corpus=doc_term_matrix_1star, id2word=dictionary_1star, num_topics=5, random_state=100,\n",
    "                chunksize=1000, passes=50)\n",
    "\n",
    "lda_model_5stars = LDA(corpus=doc_term_matrix_5stars, id2word=dictionary_5stars, num_topics=5, random_state=100,\n",
    "                chunksize=1000, passes=50)"
   ]
  },
  {
   "cell_type": "code",
   "execution_count": 26,
   "id": "15b8e243",
   "metadata": {},
   "outputs": [
    {
     "data": {
      "text/plain": [
       "[(0,\n",
       "  '0.048*\"last\" + 0.044*\"great\" + 0.031*\"first\" + 0.030*\"mattress\" + 0.025*\"new\" + 0.025*\"old\" + 0.025*\"well\" + 0.023*\"extra\" + 0.023*\"disappointed\" + 0.022*\"total\"'),\n",
       " (1,\n",
       "  '0.049*\"bad\" + 0.033*\"new\" + 0.027*\"huge\" + 0.026*\"mattress\" + 0.026*\"many\" + 0.023*\"useless\" + 0.020*\"big\" + 0.019*\"negative\" + 0.018*\"internal\" + 0.015*\"poor\"'),\n",
       " (2,\n",
       "  '0.037*\"mattress\" + 0.027*\"first\" + 0.026*\"small\" + 0.023*\"great\" + 0.022*\"large\" + 0.021*\"middle\" + 0.018*\"fine\" + 0.018*\"less\" + 0.017*\"terrible\" + 0.016*\"unusable\"'),\n",
       " (3,\n",
       "  '0.057*\"good\" + 0.048*\"middle\" + 0.034*\"huge\" + 0.028*\"inflated\" + 0.027*\"top\" + 0.026*\"first\" + 0.021*\"sure\" + 0.020*\"next\" + 0.017*\"high\" + 0.016*\"horrible\"'),\n",
       " (4,\n",
       "  '0.067*\"first\" + 0.044*\"second\" + 0.040*\"middle\" + 0.040*\"comfortable\" + 0.029*\"big\" + 0.028*\"bad\" + 0.026*\"mattress\" + 0.020*\"worth\" + 0.019*\"last\" + 0.019*\"slow\"')]"
      ]
     },
     "execution_count": 26,
     "metadata": {},
     "output_type": "execute_result"
    }
   ],
   "source": [
    "# Print topics 1 star\n",
    "lda_model_1star.print_topics()"
   ]
  },
  {
   "cell_type": "code",
   "execution_count": 27,
   "id": "e26e7df4",
   "metadata": {},
   "outputs": [
    {
     "data": {
      "text/plain": [
       "[(0,\n",
       "  '0.124*\"comfortable\" + 0.105*\"easy\" + 0.044*\"mattress\" + 0.036*\"high\" + 0.027*\"real\" + 0.024*\"regular\" + 0.021*\"little\" + 0.019*\"electric\" + 0.016*\"perfect\" + 0.015*\"inflate\"'),\n",
       " (1,\n",
       "  '0.077*\"mattress\" + 0.045*\"many\" + 0.043*\"long\" + 0.042*\"excellent\" + 0.035*\"perfect\" + 0.034*\"spare\" + 0.030*\"comfy\" + 0.025*\"comfortable\" + 0.024*\"good\" + 0.021*\"glad\"'),\n",
       " (2,\n",
       "  '0.323*\"great\" + 0.056*\"comfortable\" + 0.023*\"little\" + 0.020*\"first\" + 0.017*\"fine\" + 0.015*\"wonderful\" + 0.014*\"airbed\" + 0.014*\"surprised\" + 0.013*\"pleased\" + 0.012*\"top\"'),\n",
       " (3,\n",
       "  '0.060*\"old\" + 0.056*\"comfortable\" + 0.049*\"happy\" + 0.040*\"new\" + 0.039*\"mattress\" + 0.035*\"first\" + 0.029*\"awesome\" + 0.029*\"last\" + 0.025*\"nice\" + 0.023*\"well\"'),\n",
       " (4,\n",
       "  '0.201*\"good\" + 0.070*\"comfortable\" + 0.060*\"nice\" + 0.048*\"easy\" + 0.043*\"extra\" + 0.040*\"little\" + 0.025*\"soft\" + 0.025*\"fast\" + 0.023*\"big\" + 0.018*\"queen\"')]"
      ]
     },
     "execution_count": 27,
     "metadata": {},
     "output_type": "execute_result"
    }
   ],
   "source": [
    "# Print topics 5 stars\n",
    "lda_model_5stars.print_topics()"
   ]
  },
  {
   "cell_type": "markdown",
   "id": "9539d2a3",
   "metadata": {},
   "source": [
    "### Topics visualization"
   ]
  },
  {
   "cell_type": "code",
   "execution_count": 28,
   "id": "9ac4135d",
   "metadata": {},
   "outputs": [],
   "source": [
    "# Import dependencies\n",
    "import pyLDAvis\n",
    "import pyLDAvis.gensim_models\n",
    "%matplotlib inline"
   ]
  },
  {
   "cell_type": "code",
   "execution_count": 29,
   "id": "47aa55da",
   "metadata": {},
   "outputs": [
    {
     "name": "stderr",
     "output_type": "stream",
     "text": [
      "C:\\Users\\li_mi\\anaconda3\\envs\\PythonData\\lib\\site-packages\\ipykernel\\ipkernel.py:283: DeprecationWarning: `should_run_async` will not call `transform_cell` automatically in the future. Please pass the result to `transformed_cell` argument and any exception that happen during thetransform in `preprocessing_exc_tuple` in IPython 7.17 and above.\n",
      "  and should_run_async(code)\n"
     ]
    },
    {
     "data": {
      "text/html": [
       "\n",
       "<link rel=\"stylesheet\" type=\"text/css\" href=\"https://cdn.jsdelivr.net/gh/bmabey/pyLDAvis@3.3.1/pyLDAvis/js/ldavis.v1.0.0.css\">\n",
       "\n",
       "\n",
       "<div id=\"ldavis_el1920814730979882963670956229\"></div>\n",
       "<script type=\"text/javascript\">\n",
       "\n",
       "var ldavis_el1920814730979882963670956229_data = {\"mdsDat\": {\"x\": [-0.05792889333833735, -0.13237600059862611, 0.164363918938894, 0.022936954460899633, 0.003004020537169866], \"y\": [0.15049365754265392, -0.06294063814591656, 0.005195557045956247, -0.009493956405918788, -0.08325462003677486], \"topics\": [1, 2, 3, 4, 5], \"cluster\": [1, 1, 1, 1, 1], \"Freq\": [28.933505984514614, 19.679235267214388, 17.268363901714842, 17.25518573044348, 16.863709116112684]}, \"tinfo\": {\"Term\": [\"second\", \"bad\", \"last\", \"middle\", \"great\", \"inflated\", \"good\", \"old\", \"well\", \"disappointed\", \"top\", \"extra\", \"slow\", \"negative\", \"small\", \"worth\", \"huge\", \"new\", \"many\", \"terrible\", \"comfortable\", \"internal\", \"big\", \"total\", \"cheap\", \"less\", \"downy\", \"large\", \"useless\", \"whole\", \"slow\", \"second\", \"unable\", \"lopsided\", \"flat\", \"overnight\", \"particular\", \"single\", \"couple\", \"correct\", \"happy\", \"occasional\", \"worth\", \"unexpected\", \"fresh\", \"thrilled\", \"sooo\", \"unwrapped\", \"excellent\", \"weekbr\", \"main\", \"unusual\", \"reasonable\", \"lousy\", \"sunken\", \"pregnant\", \"comfortable\", \"unlucky\", \"broke\", \"able\", \"third\", \"tall\", \"real\", \"left\", \"wrong\", \"right\", \"first\", \"big\", \"odd\", \"middle\", \"defective\", \"bad\", \"difficult\", \"next\", \"expensive\", \"last\", \"long\", \"mattress\", \"inflated\", \"much\", \"good\", \"little\", \"large\", \"enough\", \"great\", \"due\", \"several\", \"downy\", \"builtin\", \"wonderful\", \"electric\", \"round\", \"thin\", \"sleep\", \"wet\", \"pop\", \"inflatable\", \"fourth\", \"pumpasinb\", \"wise\", \"tough\", \"closed\", \"sucky\", \"disposable\", \"else\", \"unused\", \"contacted\", \"touching\", \"unsatisfactory\", \"broken\", \"strange\", \"original\", \"online\", \"spare\", \"positive\", \"horrible\", \"inflated\", \"sure\", \"good\", \"top\", \"high\", \"huge\", \"middle\", \"burst\", \"disappointing\", \"intex\", \"next\", \"asleep\", \"open\", \"true\", \"inner\", \"less\", \"much\", \"first\", \"right\", \"full\", \"mattress\", \"several\", \"long\", \"loose\", \"fine\", \"new\", \"bad\", \"durable\", \"numerous\", \"daily\", \"old\", \"extra\", \"noticed\", \"quick\", \"well\", \"whole\", \"refund\", \"partial\", \"actual\", \"disappointed\", \"total\", \"campsite\", \"midlevel\", \"present\", \"intake\", \"connected\", \"expel\", \"tedious\", \"receptive\", \"indooroutdoor\", \"uselessbr\", \"buildin\", \"interested\", \"obsolete\", \"rid\", \"substandard\", \"upstate\", \"decent\", \"dissatisfied\", \"possible\", \"queen\", \"sized\", \"last\", \"ill\", \"great\", \"least\", \"multiple\", \"kind\", \"airbed\", \"ready\", \"inferior\", \"standard\", \"full\", \"awesome\", \"cheap\", \"careful\", \"different\", \"new\", \"mattress\", \"little\", \"first\", \"several\", \"huge\", \"small\", \"intex\", \"fine\", \"comfortable\", \"next\", \"long\", \"large\", \"useless\", \"terrible\", \"uneven\", \"thick\", \"similar\", \"awful\", \"super\", \"individual\", \"apparent\", \"frustrating\", \"outer\", \"aero\", \"normal\", \"crazy\", \"interior\", \"toxic\", \"lumpy\", \"plenty\", \"inside\", \"frequent\", \"contrary\", \"mean\", \"fair\", \"complete\", \"simple\", \"cool\", \"sad\", \"massive\", \"plastic\", \"excited\", \"young\", \"small\", \"less\", \"fine\", \"large\", \"unusable\", \"cheap\", \"temporary\", \"soft\", \"mattress\", \"great\", \"several\", \"first\", \"middle\", \"big\", \"airbed\", \"top\", \"worth\", \"defective\", \"new\", \"many\", \"nice\", \"easy\", \"internal\", \"long\", \"huge\", \"last\", \"good\", \"useless\", \"negative\", \"hot\", \"fabulous\", \"comfy\", \"reliable\", \"dirty\", \"corporate\", \"dangerous\", \"angry\", \"beautiful\", \"blue\", \"indoor\", \"functional\", \"various\", \"unhelpful\", \"halfway\", \"zerobr\", \"displeased\", \"onbr\", \"deflated\", \"unbearable\", \"poor\", \"internal\", \"hard\", \"twice\", \"harsh\", \"buy\", \"english\", \"bubbly\", \"affordable\", \"outside\", \"many\", \"useless\", \"bad\", \"worthless\", \"new\", \"half\", \"huge\", \"uncomfortable\", \"heavy\", \"disappointed\", \"defective\", \"big\", \"due\", \"unhappy\", \"mattress\", \"impossible\", \"temporary\", \"top\", \"past\", \"good\", \"total\", \"first\", \"great\", \"well\", \"next\", \"middle\", \"comfortable\"], \"Freq\": [61.0, 80.0, 73.0, 118.0, 73.0, 41.0, 95.0, 23.0, 24.0, 27.0, 43.0, 22.0, 25.0, 15.0, 39.0, 34.0, 75.0, 68.0, 39.0, 13.0, 72.0, 21.0, 70.0, 28.0, 24.0, 27.0, 13.0, 38.0, 34.0, 14.0, 24.76717255775846, 58.42267711236642, 8.736157734238724, 8.735244541373888, 21.738904731803984, 8.669271266528515, 3.598005663060529, 6.881343353303921, 2.741190797235, 2.7241973090445963, 14.535408660938607, 9.18549710642394, 25.78025939369377, 1.8848618322500175, 1.8848540075127684, 1.8848521663981217, 1.8848454156444165, 1.8848317607107856, 1.8847786752384683, 1.883907214305627, 1.8838799044383656, 1.883661732352714, 1.8830748770590313, 1.8823718781163767, 1.8811955592832617, 1.880874898482269, 53.29396995932655, 1.8782193974566326, 1.8703111963435397, 14.188251765358316, 18.614511082727827, 7.026645962347781, 11.916031532082986, 4.703646866555071, 8.871398651737563, 18.236047873692538, 88.10935464807275, 37.915235052170104, 3.526031888728639, 53.33420936104806, 21.11744998426798, 36.81714518039961, 6.624242125854652, 20.176455060854405, 8.215815161992948, 25.698685740740775, 13.91689355978874, 34.67388152662855, 14.86654417686203, 12.877758633829833, 22.204912942296875, 9.50974010281445, 12.100619231756399, 9.094466874939855, 12.157696240628203, 8.765045436752645, 8.75351208089991, 13.00841600537851, 8.731310213350566, 6.159512332920937, 12.947160539952717, 3.5708062743788553, 3.5481448827743147, 2.739397216678804, 2.739373424095981, 2.73526982967962, 8.92562548950693, 4.450218120165441, 1.8834982865135805, 1.8834905643595066, 1.883488059877104, 1.883477207120027, 1.883467606604151, 1.883394767907614, 1.883212775519705, 1.881277436743237, 1.8804926989238129, 1.8778736364514848, 1.8743385595404725, 2.3304225451043745, 2.279391211672716, 6.750167375638401, 4.4497234848909635, 2.7385312918881684, 5.887023812710451, 14.4166054819935, 25.36529425307799, 18.59146577994275, 51.41171755824704, 24.522100144726497, 14.885250907753592, 30.065389591497425, 43.05069005912909, 4.450426409618576, 5.205032383845492, 10.066558309650082, 17.84441708136513, 4.427372649104322, 5.312513080972705, 4.078225261865708, 5.754471577080105, 9.247534126136852, 9.628531850914477, 23.502198106335104, 8.357957838520054, 7.702183331443601, 13.505034829918673, 7.925396160386525, 6.762811255047006, 5.241540223825532, 6.007333303530314, 5.532713434999253, 5.497499577593796, 6.15585869263343, 4.480401609123232, 4.478902803432178, 19.610209569626196, 18.241401464263237, 2.755068579632887, 6.0318435100102645, 19.30651754610845, 11.317972584393285, 1.89265589488378, 1.8818873495961517, 4.100630911979542, 17.974658004501773, 17.436158949818445, 1.0339124820583172, 1.0339124820583172, 1.0339124820583172, 1.0339116579349532, 1.0339116579349532, 1.0339116579349532, 1.0339116579349532, 1.0339115663656906, 1.0339110169501147, 1.033910925380852, 1.0339076288873967, 1.0339043323939414, 1.0339043323939414, 1.0339043323939414, 1.0339043323939414, 1.0339043323939414, 3.6213976817455302, 6.666952165836797, 5.617126685745918, 4.993323171086142, 6.429176825453156, 37.81022612249629, 8.424110641976691, 34.91244721330058, 8.478028088933154, 4.476532990914799, 2.76025652777758, 5.039105238471738, 1.898570902973913, 1.8972140296399667, 1.8960891928175754, 11.67734384748088, 4.48623969903274, 10.18967151365734, 3.3882839493848698, 8.905311512526524, 19.655078508324646, 23.71382966861568, 7.546211946666758, 24.403189449791775, 9.525698394858306, 13.254677140520698, 9.209505335603593, 6.291376806030675, 6.8953149185741305, 8.095479546637717, 6.834559079082972, 6.265349891369168, 6.342579407488094, 6.224661638926261, 12.994999968460712, 8.625255173273894, 3.505143339868702, 3.465786527464462, 6.16670556056552, 2.736341189057958, 2.7363336861085914, 2.7363087982765446, 2.736283727445733, 2.7338410599298455, 2.7238204135532382, 10.202788707436698, 4.446181183363017, 4.4236503754100625, 1.8812102858287088, 1.8811301323696168, 1.8811283023819663, 1.8808166554850863, 1.880416620184687, 1.8799865730868195, 1.8767791537317884, 1.852015028850164, 6.024167822468085, 3.592659571273617, 3.598205531847222, 3.5855138354959455, 5.035714266954258, 1.6732737300690657, 6.68525159320622, 2.7334893363034194, 20.551259071754387, 13.993476366336326, 14.442489456213575, 17.618690685917276, 12.940786950312184, 12.028587882202096, 8.457544125056183, 9.154369018598702, 28.700369758244722, 18.28701827977115, 9.639085899532262, 21.557944062235087, 16.235730954691398, 12.33469943243699, 4.747065190875494, 9.328307880788593, 7.956986871019896, 7.999344497173426, 9.592184048045011, 7.485635487890526, 5.781516583977225, 5.041470310110141, 5.738914471473588, 6.315043627519978, 7.235979788668613, 7.087050269705512, 6.748083853188604, 5.812755571163848, 14.55166029755317, 5.23681534668278, 3.5539042070721147, 3.551754824007147, 3.548761640867248, 2.7076866574458602, 1.8615111368610655, 1.8614769770869426, 1.861461953940208, 1.8614317287997537, 1.8613780747042727, 1.8610541828145526, 1.8599172525313106, 1.8599067005591994, 1.8594890928493724, 1.8591022468209546, 1.859098491034271, 1.8576822017605579, 1.8560310863956233, 4.267652119966636, 1.7632924862145398, 11.403107774124274, 14.017518753893286, 6.859294805471309, 2.6040371392547494, 1.0153010093846857, 1.0153009199611933, 1.0153009199611933, 1.015300472843731, 1.0153003834202385, 3.431516353728242, 20.02688332517804, 17.730789932302706, 37.37058972026689, 4.306025529054632, 25.533529052668335, 8.714787204748303, 20.39105870978534, 7.072403149618241, 4.279202415947811, 8.911730643008726, 11.244031965678447, 15.387814306184026, 6.829941722915575, 4.409241343307271, 20.035764151062054, 6.2967115834909295, 5.38104363613314, 9.348834104969649, 4.592491541013008, 10.786418331484995, 5.54888187375895, 8.623163894365284, 6.652984077527848, 5.068020993075499, 5.477354168297378, 5.31754830645904, 4.680598719672173], \"Total\": [61.0, 80.0, 73.0, 118.0, 73.0, 41.0, 95.0, 23.0, 24.0, 27.0, 43.0, 22.0, 25.0, 15.0, 39.0, 34.0, 75.0, 68.0, 39.0, 13.0, 72.0, 21.0, 70.0, 28.0, 24.0, 27.0, 13.0, 38.0, 34.0, 14.0, 25.702875585334603, 61.68570335315973, 9.423385298543247, 9.423361341211518, 24.83967030721392, 10.27932950316423, 4.282397093512914, 8.564466283701183, 3.4255147490876663, 3.4251841947772914, 18.844609697193352, 11.991995749727494, 34.25626474264942, 2.568720306356741, 2.568715934846629, 2.568715639165098, 2.5687124380013553, 2.5687053349313382, 2.568682878603174, 2.5686827701780475, 2.5686707729815796, 2.568680957885032, 2.5686681506009372, 2.5686534411913264, 2.568636845682163, 2.568651431662533, 72.80960790462778, 2.5685025958613803, 2.568354376144364, 20.558639760252024, 27.36813631134768, 10.27512122231481, 17.960669466643594, 6.854563509488331, 13.675423351079711, 29.96575054173165, 166.1958501608, 70.04035902335829, 5.1384119325559565, 118.1133827758034, 41.82742808046231, 80.06892366085732, 11.112208583286964, 50.50906160351637, 16.272399768610846, 73.84856985637396, 33.43190999245916, 120.62887993446967, 41.10818879906706, 33.39337989537966, 95.80423831902307, 22.289036292179127, 38.5292784377719, 21.397226580395795, 73.76352350581689, 19.62506705058284, 36.0134042178259, 13.697938720759343, 9.41701923894556, 6.848330148035089, 15.40812719923253, 4.279777680097834, 4.279309869506845, 3.423679853507993, 3.4236689832011233, 3.4234722782505465, 11.984116987513234, 5.982047149292886, 2.5674840650424606, 2.5674809891724504, 2.5674789816591983, 2.56747440097842, 2.567470959088903, 2.567468145297941, 2.5674632725525277, 2.5674411187593753, 2.5673777916971763, 2.567396636886121, 2.5672049499690193, 3.4192192796419385, 3.4229692470612045, 10.264008351932459, 6.859355137343939, 4.278599921164859, 9.435202387226814, 23.127107099507857, 41.10818879906706, 30.814553231819918, 95.80423831902307, 43.544938350858494, 29.099685857111297, 75.18269626019452, 118.1133827758034, 7.674519068164256, 9.394520378577768, 22.29099231386727, 50.50906160351637, 8.552551891358126, 11.133171266871798, 7.723310391066574, 12.836058207498585, 27.337626648537174, 33.39337989537966, 166.1958501608, 29.96575054173165, 28.30803646513152, 120.62887993446967, 36.0134042178259, 33.43190999245916, 13.667490964255293, 29.963921249287964, 68.3131727327854, 80.06892366085732, 6.8866683930227754, 5.163605087013275, 5.163540357915492, 23.242404821796132, 22.35243054671469, 3.440104559700507, 7.742626886424606, 24.892759779081157, 14.627200679311596, 2.5783796572834015, 2.578045791139064, 6.0164278609301025, 27.407351001548477, 28.298718073947327, 1.7167934965727545, 1.7167934965727545, 1.7167934965727545, 1.716793174965156, 1.7167932196769022, 1.7167932196769022, 1.7167932755665851, 1.7167932063531959, 1.7167931299443433, 1.716793161332383, 1.716791160493188, 1.716789384483207, 1.716789384483207, 1.716789384483207, 1.716789384483207, 1.716789384483207, 6.015325045765399, 11.173558968427942, 9.414843518029386, 8.582905641102869, 11.14150212463739, 73.84856985637396, 15.467661711787207, 73.76352350581689, 16.316276361925365, 8.583980274464935, 5.1528809135260785, 10.298609182576701, 3.434992645414791, 3.4351373962436824, 3.433520630875116, 28.30803646513152, 9.442642576363296, 24.87781296640591, 6.848287151296201, 22.288285999242675, 68.3131727327854, 120.62887993446967, 22.289036292179127, 166.1958501608, 36.0134042178259, 75.18269626019452, 39.40463224472329, 22.29099231386727, 29.963921249287964, 72.80960790462778, 50.50906160351637, 33.43190999245916, 38.5292784377719, 34.92769204492146, 13.682226542122315, 9.406627633606345, 4.275317171350222, 4.274884544955152, 7.697047137195954, 3.420544767590699, 3.420541099205964, 3.4205306194347416, 3.420516485925654, 3.420507474668656, 3.4205204682663832, 13.675453458498515, 5.976892926154297, 5.987440788919798, 2.5654027817918306, 2.565363842099074, 2.565363326304764, 2.565332335846964, 2.5653719214916, 2.5653770755221488, 2.5652775753783397, 2.565014735415703, 8.547570302959627, 5.121759065115888, 5.132260550951115, 5.121648558408484, 7.698402105567136, 2.5654354008082954, 10.265605923792407, 4.277104244716352, 39.40463224472329, 27.337626648537174, 29.963921249287964, 38.5292784377719, 26.557348256230327, 24.87781296640591, 16.206350288202902, 17.93908749983052, 120.62887993446967, 73.76352350581689, 36.0134042178259, 166.1958501608, 118.1133827758034, 70.04035902335829, 10.298609182576701, 43.544938350858494, 34.25626474264942, 41.82742808046231, 68.3131727327854, 39.14635641509092, 18.805217058572776, 12.829094150541577, 21.23909666039479, 33.43190999245916, 75.18269626019452, 73.84856985637396, 95.80423831902307, 34.92769204492146, 15.240352504729625, 5.932293284514799, 4.239887553948062, 4.239830935847089, 4.2397748802349735, 3.3936821157908605, 2.5474942866405366, 2.547478334905863, 2.5474712939153177, 2.5474566143621558, 2.5474366279830374, 2.5474687581216298, 2.547454960764107, 2.547448703114925, 2.547477452169584, 2.5473777432287257, 2.547426887630289, 2.547418564182622, 2.547334182075538, 5.94987735188204, 2.548267202704879, 16.996059812091726, 21.23909666039479, 11.052798797438266, 4.249744160260359, 1.701284158287397, 1.7012841210406213, 1.7012841601731588, 1.7012839675028701, 1.701283935310167, 5.954055845647442, 39.14635641509092, 34.92769204492146, 80.06892366085732, 8.511428370458862, 68.3131727327854, 20.479265546525276, 75.18269626019452, 17.04450326287915, 8.515947807058172, 27.407351001548477, 41.82742808046231, 70.04035902335829, 19.62506705058284, 10.224657311134838, 120.62887993446967, 19.6345609795127, 16.206350288202902, 43.544938350858494, 13.650252727966718, 95.80423831902307, 28.298718073947327, 166.1958501608, 73.76352350581689, 24.892759779081157, 50.50906160351637, 118.1133827758034, 72.80960790462778], \"Category\": [\"Default\", \"Default\", \"Default\", \"Default\", \"Default\", \"Default\", \"Default\", \"Default\", \"Default\", \"Default\", \"Default\", \"Default\", \"Default\", \"Default\", \"Default\", \"Default\", \"Default\", \"Default\", \"Default\", \"Default\", \"Default\", \"Default\", \"Default\", \"Default\", \"Default\", \"Default\", \"Default\", \"Default\", \"Default\", \"Default\", \"Topic1\", \"Topic1\", \"Topic1\", \"Topic1\", \"Topic1\", \"Topic1\", \"Topic1\", \"Topic1\", \"Topic1\", \"Topic1\", \"Topic1\", \"Topic1\", \"Topic1\", \"Topic1\", \"Topic1\", \"Topic1\", \"Topic1\", \"Topic1\", \"Topic1\", \"Topic1\", \"Topic1\", \"Topic1\", \"Topic1\", \"Topic1\", \"Topic1\", \"Topic1\", \"Topic1\", \"Topic1\", \"Topic1\", \"Topic1\", \"Topic1\", \"Topic1\", \"Topic1\", \"Topic1\", \"Topic1\", \"Topic1\", \"Topic1\", \"Topic1\", \"Topic1\", \"Topic1\", \"Topic1\", \"Topic1\", \"Topic1\", \"Topic1\", \"Topic1\", \"Topic1\", \"Topic1\", \"Topic1\", \"Topic1\", \"Topic1\", \"Topic1\", \"Topic1\", \"Topic1\", \"Topic1\", \"Topic1\", \"Topic1\", \"Topic1\", \"Topic2\", \"Topic2\", \"Topic2\", \"Topic2\", \"Topic2\", \"Topic2\", \"Topic2\", \"Topic2\", \"Topic2\", \"Topic2\", \"Topic2\", \"Topic2\", \"Topic2\", \"Topic2\", \"Topic2\", \"Topic2\", \"Topic2\", \"Topic2\", \"Topic2\", \"Topic2\", \"Topic2\", \"Topic2\", \"Topic2\", \"Topic2\", \"Topic2\", \"Topic2\", \"Topic2\", \"Topic2\", \"Topic2\", \"Topic2\", \"Topic2\", \"Topic2\", \"Topic2\", \"Topic2\", \"Topic2\", \"Topic2\", \"Topic2\", \"Topic2\", \"Topic2\", \"Topic2\", \"Topic2\", \"Topic2\", \"Topic2\", \"Topic2\", \"Topic2\", \"Topic2\", \"Topic2\", \"Topic2\", \"Topic2\", \"Topic2\", \"Topic2\", \"Topic2\", \"Topic2\", \"Topic2\", \"Topic2\", \"Topic2\", \"Topic3\", \"Topic3\", \"Topic3\", \"Topic3\", \"Topic3\", \"Topic3\", \"Topic3\", \"Topic3\", \"Topic3\", \"Topic3\", \"Topic3\", \"Topic3\", \"Topic3\", \"Topic3\", \"Topic3\", \"Topic3\", \"Topic3\", \"Topic3\", \"Topic3\", \"Topic3\", \"Topic3\", \"Topic3\", \"Topic3\", \"Topic3\", \"Topic3\", \"Topic3\", \"Topic3\", \"Topic3\", \"Topic3\", \"Topic3\", \"Topic3\", \"Topic3\", \"Topic3\", \"Topic3\", \"Topic3\", \"Topic3\", \"Topic3\", \"Topic3\", \"Topic3\", \"Topic3\", \"Topic3\", \"Topic3\", \"Topic3\", \"Topic3\", \"Topic3\", \"Topic3\", \"Topic3\", \"Topic3\", \"Topic3\", \"Topic3\", \"Topic3\", \"Topic3\", \"Topic3\", \"Topic3\", \"Topic3\", \"Topic3\", \"Topic3\", \"Topic3\", \"Topic3\", \"Topic3\", \"Topic3\", \"Topic3\", \"Topic3\", \"Topic3\", \"Topic4\", \"Topic4\", \"Topic4\", \"Topic4\", \"Topic4\", \"Topic4\", \"Topic4\", \"Topic4\", \"Topic4\", \"Topic4\", \"Topic4\", \"Topic4\", \"Topic4\", \"Topic4\", \"Topic4\", \"Topic4\", \"Topic4\", \"Topic4\", \"Topic4\", \"Topic4\", \"Topic4\", \"Topic4\", \"Topic4\", \"Topic4\", \"Topic4\", \"Topic4\", \"Topic4\", \"Topic4\", \"Topic4\", \"Topic4\", \"Topic4\", \"Topic4\", \"Topic4\", \"Topic4\", \"Topic4\", \"Topic4\", \"Topic4\", \"Topic4\", \"Topic4\", \"Topic4\", \"Topic4\", \"Topic4\", \"Topic4\", \"Topic4\", \"Topic4\", \"Topic4\", \"Topic4\", \"Topic4\", \"Topic4\", \"Topic4\", \"Topic4\", \"Topic4\", \"Topic4\", \"Topic4\", \"Topic4\", \"Topic4\", \"Topic4\", \"Topic4\", \"Topic5\", \"Topic5\", \"Topic5\", \"Topic5\", \"Topic5\", \"Topic5\", \"Topic5\", \"Topic5\", \"Topic5\", \"Topic5\", \"Topic5\", \"Topic5\", \"Topic5\", \"Topic5\", \"Topic5\", \"Topic5\", \"Topic5\", \"Topic5\", \"Topic5\", \"Topic5\", \"Topic5\", \"Topic5\", \"Topic5\", \"Topic5\", \"Topic5\", \"Topic5\", \"Topic5\", \"Topic5\", \"Topic5\", \"Topic5\", \"Topic5\", \"Topic5\", \"Topic5\", \"Topic5\", \"Topic5\", \"Topic5\", \"Topic5\", \"Topic5\", \"Topic5\", \"Topic5\", \"Topic5\", \"Topic5\", \"Topic5\", \"Topic5\", \"Topic5\", \"Topic5\", \"Topic5\", \"Topic5\", \"Topic5\", \"Topic5\", \"Topic5\", \"Topic5\", \"Topic5\", \"Topic5\", \"Topic5\", \"Topic5\", \"Topic5\", \"Topic5\"], \"logprob\": [30.0, 29.0, 28.0, 27.0, 26.0, 25.0, 24.0, 23.0, 22.0, 21.0, 20.0, 19.0, 18.0, 17.0, 16.0, 15.0, 14.0, 13.0, 12.0, 11.0, 10.0, 9.0, 8.0, 7.0, 6.0, 5.0, 4.0, 3.0, 2.0, 1.0, -3.9743, -3.1161, -5.0163, -5.0164, -4.1047, -5.024, -5.9034, -5.255, -6.1754, -6.1816, -4.5072, -4.9662, -3.9342, -6.55, -6.55, -6.55, -6.55, -6.55, -6.55, -6.5505, -6.5505, -6.5506, -6.5509, -6.5513, -6.5519, -6.5521, -3.208, -6.5535, -6.5577, -4.5314, -4.2599, -5.2341, -4.7059, -5.6355, -5.001, -4.2804, -2.7052, -3.5485, -5.9236, -3.2072, -4.1337, -3.5778, -5.2931, -4.1793, -5.0777, -3.9374, -4.5507, -3.6378, -4.4847, -4.6283, -4.0835, -4.9315, -4.6906, -4.9761, -4.6858, -5.013, -5.0144, -4.2328, -4.6315, -4.9804, -4.2375, -5.5256, -5.5319, -5.7906, -5.7906, -5.7921, -4.6094, -5.3054, -6.1652, -6.1652, -6.1652, -6.1653, -6.1653, -6.1653, -6.1654, -6.1664, -6.1668, -6.1682, -6.1701, -5.9523, -5.9745, -4.8888, -5.3055, -5.791, -5.0256, -4.13, -3.565, -3.8757, -2.8585, -3.5988, -4.098, -3.395, -3.036, -5.3054, -5.1487, -4.4892, -3.9167, -5.3106, -5.1283, -5.3927, -5.0484, -4.574, -4.5336, -3.6413, -4.6752, -4.7569, -4.1953, -4.7283, -4.8869, -5.1418, -5.0054, -5.0877, -5.0941, -4.8503, -5.168, -5.1683, -3.6916, -3.764, -5.6542, -4.8706, -3.7072, -4.2413, -6.0297, -6.0354, -5.2565, -3.7787, -3.8091, -6.6343, -6.6343, -6.6343, -6.6343, -6.6343, -6.6343, -6.6343, -6.6343, -6.6343, -6.6343, -6.6343, -6.6343, -6.6343, -6.6343, -6.6343, -6.6343, -5.3808, -4.7705, -4.9419, -5.0596, -4.8068, -3.0351, -4.5366, -3.1148, -4.5302, -5.1688, -5.6524, -5.0505, -6.0266, -6.0273, -6.0279, -4.21, -5.1667, -4.3463, -5.4474, -4.481, -3.6894, -3.5016, -4.6466, -3.473, -4.4137, -4.0833, -4.4475, -4.8285, -4.7368, -4.5764, -4.7457, -4.8327, -4.8204, -4.8392, -4.1024, -4.5122, -5.4127, -5.424, -4.8478, -5.6603, -5.6603, -5.6603, -5.6603, -5.6612, -5.6649, -4.3443, -5.1749, -5.18, -6.035, -6.0351, -6.0351, -6.0352, -6.0354, -6.0357, -6.0374, -6.0506, -4.8711, -5.388, -5.3865, -5.39, -5.0504, -6.1521, -4.767, -5.6613, -3.644, -4.0283, -3.9967, -3.798, -4.1065, -4.1796, -4.5319, -4.4527, -3.31, -3.7607, -4.4011, -3.5962, -3.8797, -4.1545, -5.1094, -4.4339, -4.5929, -4.5876, -4.406, -4.6539, -4.9123, -5.0492, -4.9197, -4.824, -4.6879, -4.7087, -4.7577, -4.9069, -3.9663, -4.9883, -5.3759, -5.3765, -5.3774, -5.6479, -6.0226, -6.0226, -6.0226, -6.0226, -6.0227, -6.0228, -6.0234, -6.0234, -6.0237, -6.0239, -6.0239, -6.0246, -6.0255, -5.1929, -6.0768, -4.2101, -4.0037, -4.7184, -5.6869, -6.6288, -6.6288, -6.6288, -6.6288, -6.6288, -5.411, -3.6469, -3.7687, -3.0231, -5.184, -3.404, -4.479, -3.6289, -4.6878, -5.1902, -4.4566, -4.2241, -3.9104, -4.7227, -5.1603, -3.6465, -4.8039, -4.9611, -4.4087, -5.1196, -4.2657, -4.9304, -4.4895, -4.7489, -5.021, -4.9434, -4.973, -5.1005], \"loglift\": [30.0, 29.0, 28.0, 27.0, 26.0, 25.0, 24.0, 23.0, 22.0, 21.0, 20.0, 19.0, 18.0, 17.0, 16.0, 15.0, 14.0, 13.0, 12.0, 11.0, 10.0, 9.0, 8.0, 7.0, 6.0, 5.0, 4.0, 3.0, 2.0, 1.0, 1.2031, 1.1858, 1.1644, 1.1643, 1.1068, 1.0698, 1.066, 1.0214, 1.0173, 1.0112, 0.9805, 0.9736, 0.9559, 0.9306, 0.9306, 0.9306, 0.9306, 0.9306, 0.9306, 0.9301, 0.9301, 0.93, 0.9297, 0.9293, 0.9287, 0.9285, 0.9281, 0.9272, 0.923, 0.8693, 0.8547, 0.8602, 0.8299, 0.8636, 0.8074, 0.7435, 0.6056, 0.6265, 0.8636, 0.4451, 0.5567, 0.4632, 0.7229, 0.3225, 0.5568, 0.1846, 0.3638, -0.0066, 0.2231, 0.2873, -0.2218, 0.3884, 0.082, 0.3846, -0.5627, 0.4341, -0.1743, 1.574, 1.55, 1.5196, 1.4516, 1.4445, 1.4382, 1.4026, 1.4026, 1.4012, 1.331, 1.3298, 1.3158, 1.3158, 1.3158, 1.3158, 1.3158, 1.3158, 1.3157, 1.3146, 1.3143, 1.3129, 1.311, 1.2422, 1.219, 1.2065, 1.1928, 1.1794, 1.1539, 1.153, 1.1428, 1.1203, 1.0032, 1.0514, 0.9552, 0.7091, 0.6163, 1.0807, 1.0351, 0.8306, 0.5851, 0.9672, 0.8857, 0.987, 0.8233, 0.5417, 0.382, -0.3305, 0.3488, 0.324, -0.5641, 0.1118, 0.0275, 0.6672, 0.0186, -0.8878, -1.053, 1.6441, 1.6144, 1.614, 1.5864, 1.5531, 1.5342, 1.5066, 1.5022, 1.4998, 1.4471, 1.4415, 1.3729, 1.3344, 1.272, 1.2492, 1.2492, 1.2492, 1.2492, 1.2492, 1.2492, 1.2492, 1.2492, 1.2492, 1.2492, 1.2492, 1.2492, 1.2492, 1.2492, 1.2492, 1.2492, 1.2488, 1.2399, 1.2398, 1.2146, 1.2065, 1.0869, 1.1486, 1.0083, 1.1016, 1.1052, 1.1321, 1.0415, 1.1634, 1.1626, 1.1625, 0.8708, 1.0121, 0.8637, 1.0526, 0.8389, 0.5105, 0.1296, 0.6732, -0.1622, 0.4264, 0.0207, 0.3026, 0.4913, 0.2871, -0.4402, -0.2439, 0.0818, -0.0478, 0.0315, 1.7055, 1.6703, 1.5584, 1.5472, 1.5354, 1.5339, 1.5339, 1.5339, 1.5339, 1.533, 1.5293, 1.4641, 1.4612, 1.4544, 1.4469, 1.4468, 1.4468, 1.4467, 1.4464, 1.4462, 1.4445, 1.4314, 1.4072, 1.4025, 1.4019, 1.4005, 1.3326, 1.3297, 1.3282, 1.3094, 1.1061, 1.0874, 1.0272, 0.9746, 1.0381, 1.0304, 1.1067, 1.0843, 0.3212, 0.3624, 0.439, -0.2854, -0.2274, 0.0204, 0.9826, 0.2163, 0.2972, 0.1029, -0.2061, 0.1027, 0.5776, 0.823, 0.4485, 0.0905, -0.5838, -0.5867, -0.896, -0.0362, 1.7338, 1.6553, 1.6035, 1.6029, 1.6021, 1.5542, 1.4663, 1.4663, 1.4663, 1.4663, 1.4662, 1.466, 1.4654, 1.4654, 1.4652, 1.465, 1.465, 1.4643, 1.4634, 1.4477, 1.4118, 1.3809, 1.3645, 1.3029, 1.2902, 1.2638, 1.2638, 1.2638, 1.2638, 1.2638, 1.2289, 1.1098, 1.102, 1.018, 1.0986, 0.7959, 0.9256, 0.4752, 0.9004, 1.0918, 0.6566, 0.4663, 0.2645, 0.7245, 0.9389, -0.0152, 0.6427, 0.6775, 0.2415, 0.6907, -0.404, 0.1508, -1.1787, -0.6258, 0.1884, -0.4415, -1.3206, -0.9644]}, \"token.table\": {\"Topic\": [1, 2, 3, 5, 2, 3, 4, 5, 3, 4, 5, 4, 1, 2, 5, 1, 3, 4, 2, 4, 1, 2, 5, 5, 1, 2, 4, 5, 5, 1, 2, 5, 3, 2, 2, 5, 5, 3, 2, 3, 5, 2, 3, 4, 2, 1, 2, 3, 4, 5, 5, 3, 4, 5, 3, 2, 4, 1, 4, 5, 1, 1, 4, 5, 3, 5, 1, 3, 1, 2, 4, 5, 3, 5, 1, 2, 3, 4, 5, 1, 2, 5, 5, 3, 5, 2, 4, 5, 5, 2, 1, 3, 2, 1, 2, 3, 4, 5, 3, 1, 2, 4, 5, 2, 4, 2, 5, 1, 2, 3, 4, 5, 1, 1, 2, 4, 3, 1, 2, 3, 4, 1, 3, 5, 5, 4, 2, 3, 4, 5, 1, 2, 3, 4, 5, 1, 3, 5, 2, 5, 4, 1, 4, 1, 2, 3, 4, 5, 5, 1, 2, 3, 4, 5, 1, 2, 3, 4, 5, 1, 3, 4, 5, 5, 1, 2, 4, 1, 5, 5, 1, 3, 4, 5, 1, 2, 4, 5, 1, 2, 3, 5, 5, 1, 2, 3, 4, 5, 1, 3, 1, 2, 3, 4, 5, 4, 5, 3, 1, 3, 1, 2, 3, 5, 1, 2, 1, 2, 3, 4, 5, 4, 3, 3, 1, 4, 3, 4, 5, 2, 3, 4, 1, 2, 3, 1, 3, 4, 5, 1, 3, 4, 5, 1, 3, 4, 1, 3, 4, 2, 4, 5, 1, 2, 3, 5, 1, 2, 3, 4, 1, 2, 5, 1, 1, 4, 1, 1, 2, 4, 5, 2, 4, 1, 2, 3, 4, 5, 4, 1, 2, 4, 5, 3, 1, 2, 3, 4, 5, 3, 4, 5, 1, 2, 3, 4, 5, 1, 2, 3, 5, 1, 2, 3, 4, 5, 2, 4, 5, 3, 3, 3, 1, 2, 1, 2, 1, 3, 5, 2, 3, 1, 2, 1, 2, 5, 4, 1, 2, 5, 1, 2, 3, 1, 1, 2, 5, 4, 4, 1, 3, 4, 5, 2, 2, 3, 3, 5, 1, 3, 2, 1, 3, 5, 1, 3, 1, 3, 1, 3, 5, 1, 3, 3, 5, 3, 1, 2, 4, 5, 2, 4, 5, 1, 4, 1, 2, 3, 4, 4, 4, 5, 1, 4, 2, 3, 4, 5, 2, 1, 1, 3, 4, 5, 1, 2, 4, 5, 1, 2, 4, 3, 4, 2, 4, 3, 2, 1, 4, 1, 2, 3, 4, 5, 1, 4, 3, 3, 4, 5, 4, 4, 2, 1, 4, 5, 1, 2, 4, 5, 1, 2, 3, 4, 5, 2, 2, 4, 2, 3, 4, 5, 1, 5, 1, 2, 5, 4, 1, 1, 2, 5, 5, 1, 2, 1, 2, 3, 4, 2, 1, 1, 3, 1, 2, 3, 4, 5, 3, 5, 1, 3, 5, 2, 1, 3, 2, 2, 1, 4, 1, 2, 4, 5, 1, 3, 5, 1, 4, 5], \"Freq\": [0.6809789053781434, 0.1459240511524593, 0.0972827007683062, 0.0486413503841531, 0.16621158320435778, 0.6648463328174311, 0.8770595082918726, 0.5877913611273162, 0.48550245099688355, 0.48550245099688355, 0.7850922617958589, 0.8770569054270778, 0.35077249902819435, 0.4676966653709258, 0.11692416634273145, 0.2118051153398917, 0.4236102306797834, 0.31770767300983754, 0.1299199527007576, 0.7795197162045456, 0.4621018780859159, 0.06244619974133999, 0.4621018780859159, 0.7850967858389885, 0.5425443348645185, 0.057109929985738786, 0.17132978995721637, 0.21416223744652046, 0.785102945459147, 0.7787087399529412, 0.5849288496669451, 0.5877913500047798, 0.582482029854305, 0.9557164291200647, 0.5212052982698236, 0.39090397370236774, 0.5877912969576956, 0.5824812372578917, 0.14602191437178946, 0.43806574311536844, 0.2920438287435789, 0.08039291889125169, 0.4019645944562585, 0.4823575133475102, 0.7789756342800671, 0.7279259087540192, 0.0549378044342656, 0.1098756088685312, 0.0412033533256992, 0.068672255542832, 0.9434338445386213, 0.11699231062817306, 0.7019538637690383, 0.11699231062817306, 0.5824813312043476, 0.7790049467857597, 0.7796124862435384, 0.19484591440212035, 0.7793836576084814, 0.7850851758484079, 0.8758653051635557, 0.8757807861720649, 0.6692440452624461, 0.16731101131561152, 0.7746622903543625, 0.7850900918746797, 0.33248411096386843, 0.6649682219277369, 0.5020629037865503, 0.02390775732316906, 0.19126205858535247, 0.2629853305548597, 0.16807069135360989, 0.6722827654144395, 0.31406632166501497, 0.08973323476143286, 0.4037995564264478, 0.13459985214214928, 0.13459985214214928, 0.6299377794733059, 0.1799822227066588, 0.1799822227066588, 0.8839955828629172, 0.6567581083988389, 0.32837905419941943, 0.5322251481194772, 0.2128900592477909, 0.2128900592477909, 0.7851085126412002, 0.7789775322676538, 0.35798799749501636, 0.6264789956162786, 0.9490479016597139, 0.45859715927608574, 0.05095523991956508, 0.05095523991956508, 0.10191047983913017, 0.3566866794369556, 0.8712485715268209, 0.4676869566622295, 0.07794782611037157, 0.3897391305518579, 0.07794782611037157, 0.8437105841550635, 0.12980162833154824, 0.7789790106760259, 0.5877912834374587, 0.42061525900024016, 0.18694011511121783, 0.09347005755560892, 0.2336751438890223, 0.09347005755560892, 0.7786091528307229, 0.09741266199224717, 0.19482532398449434, 0.6818886339457302, 0.5824813312043476, 0.49163000625340153, 0.12290750156335038, 0.06145375078167519, 0.30726875390837594, 0.08947572819072938, 0.8052815537165644, 0.08947572819072938, 0.9434212462251067, 0.7797226161649582, 0.2002408146144283, 0.23361428371683302, 0.46722856743366603, 0.06674693820480944, 0.5294957720957357, 0.14440793784429157, 0.14440793784429157, 0.13237394302393393, 0.05415297669160933, 0.8856800322994132, 0.040258183286336964, 0.040258183286336964, 0.6686674143771708, 0.1671668535942927, 0.779614052545304, 0.7785991330798571, 0.877060529409536, 0.14130262990606954, 0.2826052598121391, 0.42390788971820864, 0.10597697242955216, 0.07065131495303477, 0.785097295459191, 0.2296349345917365, 0.5323355301899346, 0.0521897578617583, 0.07306566100646161, 0.11481746729586825, 0.16268203347219032, 0.02711367224536505, 0.4744892642938884, 0.24402305020828546, 0.09489785285877768, 0.14648962840901347, 0.24414938068168912, 0.14648962840901347, 0.4394688852270404, 0.7851210937664311, 0.7959835858120238, 0.15919671716240474, 0.05306557238746825, 0.36189928662476784, 0.6333237515933436, 0.5877912840889867, 0.1174267412925173, 0.1174267412925173, 0.2348534825850346, 0.4697069651700692, 0.309281689300457, 0.5154694821674284, 0.1374585285779809, 0.03436463214449523, 0.043239303372330555, 0.6053502472126278, 0.21619651686165278, 0.08647860674466111, 0.8428443706671777, 0.053203731695876944, 0.39902798771907705, 0.17291212801160005, 0.09310653046778465, 0.2660186584793847, 0.45255709172030933, 0.5172081048232107, 0.05093060145543517, 0.2546530072771758, 0.1527918043663055, 0.20372240582174067, 0.305583608732611, 0.8770542183213097, 0.7850930432900364, 0.5824813616492157, 0.29110917108977896, 0.5822183421795579, 0.08344377821427669, 0.7509940039284903, 0.08344377821427669, 0.08344377821427669, 0.36489080249481637, 0.6081513374913606, 0.15581107281296352, 0.4674332184388906, 0.15581107281296352, 0.07790553640648176, 0.15581107281296352, 0.7796260827701627, 0.5824813463743506, 0.5824826324290344, 0.16701626542187673, 0.6680650616875069, 0.04708298172891371, 0.2824978903734822, 0.6591617442047919, 0.4486117019464845, 0.26916702116789065, 0.22430585097324224, 0.19406619651834867, 0.19406619651834867, 0.582198589555046, 0.31145145942405933, 0.15572572971202966, 0.467177189136089, 0.05190857657067656, 0.3520718146684043, 0.514566498361514, 0.09478856548764732, 0.04062367092327742, 0.1838654809133174, 0.49030794910217973, 0.24515397455108986, 0.7294410494670918, 0.14588820989341836, 0.14588820989341836, 0.3292165818089255, 0.5121146828138841, 0.1463184808039669, 0.448651070818564, 0.1345953212455692, 0.3589208566548512, 0.0897302141637128, 0.41876159642562494, 0.20938079821281247, 0.1794692556109821, 0.1794692556109821, 0.3658315936024061, 0.3658315936024061, 0.21949895616144366, 0.9550732136992331, 0.778618075886645, 0.7796165078726327, 0.7786128222568998, 0.2043612926621186, 0.07663548474829449, 0.1788161310793538, 0.5109032316552965, 0.2597941719040229, 0.6494854297600571, 0.29014610778955563, 0.11605844311582225, 0.1989573310556953, 0.24040677502563182, 0.16579777587974606, 0.7796427252926149, 0.4487213790210531, 0.3640569678850053, 0.1354630578176764, 0.042332205568023876, 0.5824812372578917, 0.38929871851033243, 0.29946055270025573, 0.17967633162015342, 0.05989211054005114, 0.08983816581007671, 0.4659842954088489, 0.4659842954088489, 0.9842292030545202, 0.11710772139500668, 0.087830791046255, 0.2927693034875167, 0.14638465174375834, 0.3806000945337717, 0.3959685522767191, 0.35637169704904725, 0.1385889932968517, 0.09899213806917978, 0.21270693061086, 0.21270693061086, 0.10635346530543, 0.31906039591629, 0.159530197958145, 0.14624743567513032, 0.7312371783756516, 0.07312371783756516, 0.8720665165657574, 0.7746525794662725, 0.5824826324290344, 0.7505005995523736, 0.16677791101163858, 0.7784506288133101, 0.19461265720332752, 0.12907442336546332, 0.8604961557697555, 0.7851345198730162, 0.5831451965831397, 0.29157259829156984, 0.44910833401783296, 0.44910833401783296, 0.19485564814680315, 0.681994768513811, 0.09742782407340157, 0.8770628400075663, 0.16795274111025077, 0.16795274111025077, 0.5038582233307523, 0.8755434872702134, 0.09728260969669036, 0.7757814104288409, 0.9340563036667718, 0.5128110181915063, 0.1465174337690018, 0.36629358442250454, 0.7795947617195339, 0.7796166646230448, 0.17651149932207646, 0.05883716644069216, 0.05883716644069216, 0.6472088308476137, 0.8763032839667251, 0.6359164068512911, 0.31795820342564557, 0.6372915267800283, 0.31864576339001416, 0.7786186850216267, 0.5824812372578917, 0.77897270219939, 0.2330213197756894, 0.5825532994392235, 0.1165106598878447, 0.12915513231734463, 0.7749307939040677, 0.29112143845048766, 0.5822428769009753, 0.6681265429602332, 0.11135442382670553, 0.22270884765341106, 0.7786136171510135, 0.5824813357248747, 0.7756809569724941, 0.9434463180220349, 0.5824826324290344, 0.6006857720761037, 0.26697145425604607, 0.06674286356401152, 0.03337143178200576, 0.934627987477275, 0.780998530918914, 0.1952496327297285, 0.9402502824348369, 0.04863363529835363, 0.24990694980024086, 0.22213951093354745, 0.2776743886669343, 0.2776743886669343, 0.7017733387771465, 0.7809816801504492, 0.1952454200376123, 0.8173305572259093, 0.1167615081751299, 0.08975450426820665, 0.5385270256092399, 0.08975450426820665, 0.1795090085364133, 0.8762501543262349, 0.9726538152121919, 0.2030218160726849, 0.22839954308177052, 0.5329322671907979, 0.05075545401817123, 0.22297678184789443, 0.11148839092394722, 0.5016977591577625, 0.1672325863859208, 0.7786001930041438, 0.7011639450465943, 0.23372131501553145, 0.5824924953167535, 0.29124624765837676, 0.5842880422361676, 0.2921440211180838, 0.5824826324290344, 0.7789766785559761, 0.7786231064005671, 0.8770532777190007, 0.16226099279728867, 0.6165917726296969, 0.0973565956783732, 0.06490439711891546, 0.06490439711891546, 0.6812571694821347, 0.2919673583494863, 0.5824813122418451, 0.12340841487647353, 0.4936336595058941, 0.3085210371911838, 0.950137754259367, 0.9356031002342519, 0.9347301602304783, 0.6942379920887053, 0.18269420844439616, 0.10961652506663769, 0.7785992227033951, 0.5741195405666965, 0.20668303460401072, 0.20668303460401072, 0.07067457949062582, 0.03533728974531291, 0.6007339256703195, 0.07067457949062582, 0.21202373847187747, 0.7789992287384583, 0.7789742444970386, 0.7796046742426468, 0.5179126303957347, 0.38843447279680104, 0.23530828263759182, 0.7059248479127755, 0.9550707855903231, 0.7848470513127837, 0.2933497047631415, 0.2933497047631415, 0.41068958666839805, 0.9567722196046523, 0.7785978080410916, 0.29340836653106656, 0.29340836653106656, 0.3912111553747554, 0.7850903639192882, 0.7786638032691083, 0.7790573947063073, 0.22592617087033176, 0.11296308543516588, 0.1882718090586098, 0.48950670355238546, 0.7789857322867949, 0.7786097350317631, 0.7786023460154725, 0.5824826324290344, 0.05726115534423933, 0.11452231068847867, 0.171783466032718, 0.171783466032718, 0.515350398098154, 0.5824813509997394, 0.7850992240018316, 0.7786091856961265, 0.7632741475281022, 0.20086161777055322, 0.8762529364608743, 0.20509734335176907, 0.7520235922898199, 0.7789736354171173, 0.8761259855034165, 0.758985259932024, 0.23353392613293047, 0.23497818614576174, 0.11748909307288087, 0.11748909307288087, 0.4699563722915235, 0.6581149094217567, 0.07312387882463962, 0.21937163647391889, 0.2338030458891277, 0.7014091376673831, 0.7851059473822521], \"Term\": [\"able\", \"able\", \"able\", \"able\", \"actual\", \"actual\", \"aero\", \"affordable\", \"airbed\", \"airbed\", \"angry\", \"apparent\", \"asleep\", \"asleep\", \"asleep\", \"awesome\", \"awesome\", \"awesome\", \"awful\", \"awful\", \"bad\", \"bad\", \"bad\", \"beautiful\", \"big\", \"big\", \"big\", \"big\", \"blue\", \"broke\", \"broken\", \"bubbly\", \"buildin\", \"builtin\", \"burst\", \"burst\", \"buy\", \"campsite\", \"careful\", \"careful\", \"careful\", \"cheap\", \"cheap\", \"cheap\", \"closed\", \"comfortable\", \"comfortable\", \"comfortable\", \"comfortable\", \"comfortable\", \"comfy\", \"complete\", \"complete\", \"complete\", \"connected\", \"contacted\", \"contrary\", \"cool\", \"cool\", \"corporate\", \"correct\", \"couple\", \"crazy\", \"crazy\", \"daily\", \"dangerous\", \"decent\", \"decent\", \"defective\", \"defective\", \"defective\", \"defective\", \"deflated\", \"deflated\", \"different\", \"different\", \"different\", \"different\", \"different\", \"difficult\", \"difficult\", \"difficult\", \"dirty\", \"disappointed\", \"disappointed\", \"disappointing\", \"disappointing\", \"disappointing\", \"displeased\", \"disposable\", \"dissatisfied\", \"dissatisfied\", \"downy\", \"due\", \"due\", \"due\", \"due\", \"due\", \"durable\", \"easy\", \"easy\", \"easy\", \"easy\", \"electric\", \"electric\", \"else\", \"english\", \"enough\", \"enough\", \"enough\", \"enough\", \"enough\", \"excellent\", \"excited\", \"excited\", \"excited\", \"expel\", \"expensive\", \"expensive\", \"expensive\", \"expensive\", \"extra\", \"extra\", \"extra\", \"fabulous\", \"fair\", \"fine\", \"fine\", \"fine\", \"fine\", \"first\", \"first\", \"first\", \"first\", \"first\", \"flat\", \"flat\", \"flat\", \"fourth\", \"fourth\", \"frequent\", \"fresh\", \"frustrating\", \"full\", \"full\", \"full\", \"full\", \"full\", \"functional\", \"good\", \"good\", \"good\", \"good\", \"good\", \"great\", \"great\", \"great\", \"great\", \"great\", \"half\", \"half\", \"half\", \"half\", \"halfway\", \"happy\", \"happy\", \"happy\", \"hard\", \"hard\", \"harsh\", \"heavy\", \"heavy\", \"heavy\", \"heavy\", \"high\", \"high\", \"high\", \"high\", \"horrible\", \"horrible\", \"horrible\", \"horrible\", \"hot\", \"huge\", \"huge\", \"huge\", \"huge\", \"huge\", \"ill\", \"ill\", \"impossible\", \"impossible\", \"impossible\", \"impossible\", \"impossible\", \"individual\", \"indoor\", \"indooroutdoor\", \"inferior\", \"inferior\", \"inflatable\", \"inflatable\", \"inflatable\", \"inflatable\", \"inflated\", \"inflated\", \"inner\", \"inner\", \"inner\", \"inner\", \"inner\", \"inside\", \"intake\", \"interested\", \"interior\", \"interior\", \"internal\", \"internal\", \"internal\", \"intex\", \"intex\", \"intex\", \"kind\", \"kind\", \"kind\", \"large\", \"large\", \"large\", \"large\", \"last\", \"last\", \"last\", \"last\", \"least\", \"least\", \"least\", \"left\", \"left\", \"left\", \"less\", \"less\", \"less\", \"little\", \"little\", \"little\", \"little\", \"long\", \"long\", \"long\", \"long\", \"loose\", \"loose\", \"loose\", \"lopsided\", \"lousy\", \"lumpy\", \"main\", \"many\", \"many\", \"many\", \"many\", \"massive\", \"massive\", \"mattress\", \"mattress\", \"mattress\", \"mattress\", \"mattress\", \"mean\", \"middle\", \"middle\", \"middle\", \"middle\", \"midlevel\", \"much\", \"much\", \"much\", \"much\", \"much\", \"multiple\", \"multiple\", \"negative\", \"new\", \"new\", \"new\", \"new\", \"new\", \"next\", \"next\", \"next\", \"next\", \"nice\", \"nice\", \"nice\", \"nice\", \"nice\", \"normal\", \"normal\", \"normal\", \"noticed\", \"numerous\", \"obsolete\", \"occasional\", \"occasional\", \"odd\", \"odd\", \"old\", \"old\", \"onbr\", \"online\", \"online\", \"open\", \"open\", \"original\", \"original\", \"original\", \"outer\", \"outside\", \"outside\", \"outside\", \"overnight\", \"overnight\", \"partial\", \"particular\", \"past\", \"past\", \"past\", \"plastic\", \"plenty\", \"poor\", \"poor\", \"poor\", \"poor\", \"pop\", \"positive\", \"positive\", \"possible\", \"possible\", \"pregnant\", \"present\", \"pumpasinb\", \"queen\", \"queen\", \"queen\", \"quick\", \"quick\", \"ready\", \"ready\", \"real\", \"real\", \"real\", \"reasonable\", \"receptive\", \"refund\", \"reliable\", \"rid\", \"right\", \"right\", \"right\", \"right\", \"round\", \"sad\", \"sad\", \"second\", \"second\", \"several\", \"several\", \"several\", \"several\", \"similar\", \"simple\", \"simple\", \"single\", \"single\", \"sized\", \"sized\", \"sized\", \"sized\", \"sleep\", \"slow\", \"small\", \"small\", \"small\", \"small\", \"soft\", \"soft\", \"soft\", \"soft\", \"sooo\", \"spare\", \"spare\", \"standard\", \"standard\", \"strange\", \"strange\", \"substandard\", \"sucky\", \"sunken\", \"super\", \"sure\", \"sure\", \"sure\", \"sure\", \"sure\", \"tall\", \"tall\", \"tedious\", \"temporary\", \"temporary\", \"temporary\", \"terrible\", \"thick\", \"thin\", \"third\", \"third\", \"third\", \"thrilled\", \"top\", \"top\", \"top\", \"total\", \"total\", \"total\", \"total\", \"total\", \"touching\", \"tough\", \"toxic\", \"true\", \"true\", \"twice\", \"twice\", \"unable\", \"unbearable\", \"uncomfortable\", \"uncomfortable\", \"uncomfortable\", \"uneven\", \"unexpected\", \"unhappy\", \"unhappy\", \"unhappy\", \"unhelpful\", \"unlucky\", \"unsatisfactory\", \"unusable\", \"unusable\", \"unusable\", \"unusable\", \"unused\", \"unusual\", \"unwrapped\", \"upstate\", \"useless\", \"useless\", \"useless\", \"useless\", \"useless\", \"uselessbr\", \"various\", \"weekbr\", \"well\", \"well\", \"wet\", \"whole\", \"whole\", \"wise\", \"wonderful\", \"worth\", \"worth\", \"worthless\", \"worthless\", \"worthless\", \"worthless\", \"wrong\", \"wrong\", \"wrong\", \"young\", \"young\", \"zerobr\"]}, \"R\": 30, \"lambda.step\": 0.01, \"plot.opts\": {\"xlab\": \"PC1\", \"ylab\": \"PC2\"}, \"topic.order\": [5, 4, 1, 3, 2]};\n",
       "\n",
       "function LDAvis_load_lib(url, callback){\n",
       "  var s = document.createElement('script');\n",
       "  s.src = url;\n",
       "  s.async = true;\n",
       "  s.onreadystatechange = s.onload = callback;\n",
       "  s.onerror = function(){console.warn(\"failed to load library \" + url);};\n",
       "  document.getElementsByTagName(\"head\")[0].appendChild(s);\n",
       "}\n",
       "\n",
       "if(typeof(LDAvis) !== \"undefined\"){\n",
       "   // already loaded: just create the visualization\n",
       "   !function(LDAvis){\n",
       "       new LDAvis(\"#\" + \"ldavis_el1920814730979882963670956229\", ldavis_el1920814730979882963670956229_data);\n",
       "   }(LDAvis);\n",
       "}else if(typeof define === \"function\" && define.amd){\n",
       "   // require.js is available: use it to load d3/LDAvis\n",
       "   require.config({paths: {d3: \"https://d3js.org/d3.v5\"}});\n",
       "   require([\"d3\"], function(d3){\n",
       "      window.d3 = d3;\n",
       "      LDAvis_load_lib(\"https://cdn.jsdelivr.net/gh/bmabey/pyLDAvis@3.3.1/pyLDAvis/js/ldavis.v3.0.0.js\", function(){\n",
       "        new LDAvis(\"#\" + \"ldavis_el1920814730979882963670956229\", ldavis_el1920814730979882963670956229_data);\n",
       "      });\n",
       "    });\n",
       "}else{\n",
       "    // require.js not available: dynamically load d3 & LDAvis\n",
       "    LDAvis_load_lib(\"https://d3js.org/d3.v5.js\", function(){\n",
       "         LDAvis_load_lib(\"https://cdn.jsdelivr.net/gh/bmabey/pyLDAvis@3.3.1/pyLDAvis/js/ldavis.v3.0.0.js\", function(){\n",
       "                 new LDAvis(\"#\" + \"ldavis_el1920814730979882963670956229\", ldavis_el1920814730979882963670956229_data);\n",
       "            })\n",
       "         });\n",
       "}\n",
       "</script>"
      ],
      "text/plain": [
       "PreparedData(topic_coordinates=              x         y  topics  cluster       Freq\n",
       "topic                                                \n",
       "4     -0.057929  0.150494       1        1  28.933506\n",
       "3     -0.132376 -0.062941       2        1  19.679235\n",
       "0      0.164364  0.005196       3        1  17.268364\n",
       "2      0.022937 -0.009494       4        1  17.255186\n",
       "1      0.003004 -0.083255       5        1  16.863709, topic_info=            Term        Freq       Total Category  logprob  loglift\n",
       "49        second   61.000000   61.000000  Default  30.0000  30.0000\n",
       "0            bad   80.000000   80.000000  Default  29.0000  29.0000\n",
       "35          last   73.000000   73.000000  Default  28.0000  28.0000\n",
       "21        middle  118.000000  118.000000  Default  27.0000  27.0000\n",
       "27         great   73.000000   73.000000  Default  26.0000  26.0000\n",
       "..           ...         ...         ...      ...      ...      ...\n",
       "27         great    6.652984   73.763524   Topic5  -4.7489  -0.6258\n",
       "191         well    5.068021   24.892760   Topic5  -5.0210   0.1884\n",
       "22          next    5.477354   50.509062   Topic5  -4.9434  -0.4415\n",
       "21        middle    5.317548  118.113383   Topic5  -4.9730  -1.3206\n",
       "2    comfortable    4.680599   72.809608   Topic5  -5.1005  -0.9644\n",
       "\n",
       "[323 rows x 6 columns], token_table=      Topic      Freq    Term\n",
       "term                         \n",
       "15        1  0.680979    able\n",
       "15        2  0.145924    able\n",
       "15        3  0.097283    able\n",
       "15        5  0.048641    able\n",
       "386       2  0.166212  actual\n",
       "...     ...       ...     ...\n",
       "136       3  0.073124   wrong\n",
       "136       5  0.219372   wrong\n",
       "574       1  0.233803   young\n",
       "574       4  0.701409   young\n",
       "310       5  0.785106  zerobr\n",
       "\n",
       "[480 rows x 3 columns], R=30, lambda_step=0.01, plot_opts={'xlab': 'PC1', 'ylab': 'PC2'}, topic_order=[5, 4, 1, 3, 2])"
      ]
     },
     "execution_count": 29,
     "metadata": {},
     "output_type": "execute_result"
    }
   ],
   "source": [
    "# Visualize topics for 1 star\n",
    "pyLDAvis.enable_notebook()\n",
    "\n",
    "vis = pyLDAvis.gensim_models.prepare(lda_model_1star, doc_term_matrix_1star, dictionary_1star)\n",
    "\n",
    "vis"
   ]
  },
  {
   "cell_type": "code",
   "execution_count": 30,
   "id": "3d7d3c15",
   "metadata": {},
   "outputs": [
    {
     "name": "stderr",
     "output_type": "stream",
     "text": [
      "C:\\Users\\li_mi\\anaconda3\\envs\\PythonData\\lib\\site-packages\\ipykernel\\ipkernel.py:283: DeprecationWarning: `should_run_async` will not call `transform_cell` automatically in the future. Please pass the result to `transformed_cell` argument and any exception that happen during thetransform in `preprocessing_exc_tuple` in IPython 7.17 and above.\n",
      "  and should_run_async(code)\n"
     ]
    },
    {
     "data": {
      "text/html": [
       "\n",
       "<link rel=\"stylesheet\" type=\"text/css\" href=\"https://cdn.jsdelivr.net/gh/bmabey/pyLDAvis@3.3.1/pyLDAvis/js/ldavis.v1.0.0.css\">\n",
       "\n",
       "\n",
       "<div id=\"ldavis_el1920814730989532884661821492\"></div>\n",
       "<script type=\"text/javascript\">\n",
       "\n",
       "var ldavis_el1920814730989532884661821492_data = {\"mdsDat\": {\"x\": [-0.08489855890156119, -0.18682984065080374, -0.09213318380195613, 0.10139773981435615, 0.2624638435399649], \"y\": [-0.03295092313449684, 0.20274216822024743, -0.2593334595284641, 0.07645314362501233, 0.013089070817701004], \"topics\": [1, 2, 3, 4, 5], \"cluster\": [1, 1, 1, 1, 1], \"Freq\": [32.5624906433176, 20.289846834102335, 17.640689026993865, 15.265683042940248, 14.241290452645952]}, \"tinfo\": {\"Term\": [\"great\", \"good\", \"easy\", \"mattress\", \"old\", \"nice\", \"happy\", \"many\", \"extra\", \"long\", \"excellent\", \"perfect\", \"new\", \"spare\", \"little\", \"comfy\", \"awesome\", \"first\", \"soft\", \"fast\", \"last\", \"big\", \"regular\", \"real\", \"much\", \"fine\", \"well\", \"glad\", \"inflate\", \"queen\", \"inflate\", \"sturdy\", \"simple\", \"overnight\", \"inexpensive\", \"portable\", \"everyday\", \"average\", \"amazed\", \"futon\", \"constant\", \"empty\", \"online\", \"put\", \"clean\", \"permanent\", \"asleep\", \"friendly\", \"slight\", \"fit\", \"stable\", \"timely\", \"late\", \"apt\", \"tight\", \"flip\", \"fold\", \"recent\", \"elderly\", \"local\", \"easy\", \"fantastic\", \"real\", \"high\", \"electric\", \"regular\", \"enough\", \"next\", \"comfortable\", \"able\", \"quick\", \"mattress\", \"sure\", \"firm\", \"perfect\", \"second\", \"top\", \"little\", \"close\", \"big\", \"worth\", \"normal\", \"inflated\", \"extra\", \"well\", \"several\", \"tall\", \"convenient\", \"happy\", \"first\", \"great\", \"fine\", \"surprised\", \"original\", \"numerous\", \"half\", \"skeptical\", \"overall\", \"grand\", \"ideal\", \"deep\", \"sore\", \"wonderful\", \"pricey\", \"comforable\", \"helpful\", \"dual\", \"tempurpedic\", \"excited\", \"weird\", \"waterproof\", \"nervous\", \"front\", \"nyc\", \"strong\", \"asinb\", \"basic\", \"surprising\", \"backup\", \"prompt\", \"double\", \"amazing\", \"airbed\", \"whole\", \"pleased\", \"back\", \"difficult\", \"temporary\", \"inflatable\", \"top\", \"first\", \"little\", \"comfortable\", \"fast\", \"quick\", \"cold\", \"small\", \"last\", \"low\", \"several\", \"worth\", \"firm\", \"well\", \"tall\", \"electric\", \"impressed\", \"twin\", \"far\", \"minimal\", \"special\", \"minor\", \"available\", \"decent\", \"sleeper\", \"exact\", \"external\", \"good\", \"cool\", \"alternative\", \"noisy\", \"thi\", \"uninflate\", \"accurate\", \"lucky\", \"tough\", \"open\", \"combined\", \"unreasonable\", \"inflatedeflate\", \"plenty\", \"handheld\", \"dry\", \"common\", \"outstanding\", \"arrive\", \"set\", \"soft\", \"queen\", \"nice\", \"hard\", \"extra\", \"fast\", \"durable\", \"right\", \"big\", \"little\", \"entire\", \"small\", \"comfortable\", \"easy\", \"short\", \"low\", \"inflated\", \"full\", \"sure\", \"large\", \"new\", \"regular\", \"middle\", \"worth\", \"firm\", \"old\", \"awesome\", \"previous\", \"slow\", \"internal\", \"positive\", \"tiny\", \"important\", \"aero\", \"various\", \"sag\", \"incredible\", \"future\", \"early\", \"nightly\", \"safe\", \"horrible\", \"personal\", \"interested\", \"broken\", \"expensive\", \"supportive\", \"clear\", \"advertised\", \"sharp\", \"operational\", \"certain\", \"worried\", \"lovely\", \"typical\", \"happy\", \"different\", \"new\", \"past\", \"satisfied\", \"impressed\", \"last\", \"bad\", \"much\", \"first\", \"standard\", \"well\", \"cold\", \"warm\", \"cheap\", \"full\", \"nice\", \"mattress\", \"free\", \"comfortable\", \"durable\", \"several\", \"able\", \"real\", \"less\", \"many\", \"long\", \"excellent\", \"comfy\", \"huge\", \"occasional\", \"primary\", \"affordable\", \"handy\", \"intex\", \"loud\", \"ill\", \"super\", \"separate\", \"reliable\", \"live\", \"initial\", \"light\", \"tired\", \"unexpected\", \"possible\", \"automatic\", \"actual\", \"particular\", \"spare\", \"young\", \"favorite\", \"superior\", \"twice\", \"popular\", \"glad\", \"heavy\", \"perfect\", \"mattress\", \"traditional\", \"tall\", \"new\", \"good\", \"last\", \"comfortable\", \"right\", \"enough\", \"full\", \"high\", \"much\", \"several\"], \"Freq\": [708.0, 418.0, 460.0, 336.0, 99.0, 155.0, 115.0, 69.0, 126.0, 67.0, 65.0, 111.0, 113.0, 55.0, 201.0, 47.0, 48.0, 140.0, 56.0, 72.0, 90.0, 84.0, 106.0, 119.0, 75.0, 38.0, 93.0, 52.0, 54.0, 42.0, 53.898465709816996, 34.40192966594208, 28.7785832952419, 27.387759760892077, 21.59736746480849, 17.91840270133821, 15.318464452804136, 13.363606440966194, 9.933142157665529, 10.007047023596597, 9.33789507914968, 8.876190603950848, 8.70510476848111, 8.668712190017562, 8.132465225505765, 20.529285596427442, 8.261230946628395, 7.564545561357332, 7.637137721168838, 34.08256422799544, 7.076323119609227, 6.742637621419107, 6.5015878885453615, 6.500553684592605, 6.409936245651748, 5.858796337053341, 15.403521620414736, 5.441468983433635, 5.367902066038311, 5.282028121605177, 368.18184497661247, 18.77912586285766, 93.755998751325, 126.53247902239099, 66.03771066446707, 82.83593856289049, 52.28105541842251, 35.405172646822, 433.21808790792954, 42.02436458997152, 43.33196320780815, 155.42737524596373, 30.460075143683905, 47.83773412915038, 57.585655244880066, 27.65686451540236, 34.7750671947615, 74.32101657231699, 17.256057773301603, 40.361195252503556, 38.61444594897641, 24.062614899337838, 30.626222044528863, 44.42732688786263, 37.56391623177468, 36.683881958022404, 34.22971109212723, 29.13106280368846, 35.32848520222434, 32.02830944429171, 704.694125496146, 37.786874104530504, 30.194052463107994, 12.096602988605216, 10.724144859118503, 10.267364461608729, 9.84328191106303, 16.55219712699229, 6.701136030767772, 6.615264096672206, 6.176156976781282, 5.837422200245583, 32.2605685692066, 5.822764999634095, 5.7342930691411995, 5.398795095302331, 5.22215416129726, 4.961054445024602, 4.957436573378825, 4.955590088817958, 4.519452363719613, 3.8280253358431104, 3.8234520010403914, 3.81939724475408, 21.06672350222141, 3.303351745914231, 3.299693027330518, 3.298215180041833, 3.2884124223525255, 3.213299216518587, 17.827067101303353, 26.394126268657335, 30.8849999834522, 13.630949964809808, 27.832579857049097, 16.207278479243815, 8.727885486270143, 17.94178965896632, 21.211921427492424, 26.670860467559677, 43.40406788237777, 50.67386889410863, 122.57511508812628, 25.119728190647894, 23.937068783335487, 19.853887087543278, 23.28295961944056, 24.746376014772807, 16.121673445637125, 20.48202673238759, 19.13150416969568, 19.298575757085366, 18.11239488704902, 17.127067290614033, 17.207644852654614, 15.667437228833089, 22.2464265434559, 15.650102034855559, 10.075788542499296, 9.123385318188914, 8.950764770477615, 8.685467065152142, 8.825366453746927, 7.458980788844505, 7.4666455780920495, 6.904854554613181, 381.4162042745616, 6.146932453402285, 5.985540861643428, 6.297862715160738, 5.733995572296642, 5.809476143927777, 5.724165107302799, 5.554893438098355, 5.62275201342295, 5.4652554616241815, 5.208780160775076, 4.338015721121413, 4.329209198561295, 3.8150246602033984, 3.808857623891011, 3.796184737052922, 3.7232426250355988, 3.636509936324157, 3.7154009288876133, 3.548663087071408, 47.97230212122319, 34.78858227026921, 114.60735226456286, 21.98915538213698, 81.85170468458259, 47.334219666055795, 32.33530972590256, 26.79885783955544, 43.470400023998785, 76.22877223494447, 10.627668367910054, 32.052265743826105, 132.71204504283375, 91.58889341963743, 13.73768020739336, 18.279524441655525, 20.405370106658964, 19.219026255999566, 16.633023243567237, 17.981973211414203, 24.912386180915565, 23.31087492224621, 11.178376460833103, 12.466354869871155, 9.869885674630678, 99.08857964737068, 47.63537876502033, 21.7915552708627, 16.12860354236085, 13.407731613507712, 11.648774224217172, 11.405726090485615, 7.654481499619254, 6.765812470586171, 6.370566627039338, 5.895522201481794, 5.813775450303092, 5.494249364665306, 5.2468421881040195, 4.7840422520085415, 4.783496703558403, 4.781885636756734, 4.78072887552236, 4.779624034924249, 4.779298767408841, 28.093767616723937, 3.980089758194487, 4.032682308573133, 3.580177547463579, 3.5766519071997376, 3.5734870390040423, 3.5016151347191715, 3.4901685432702534, 3.4214840315747503, 7.116831094502739, 79.65543070822625, 32.32205290525825, 65.65044379917289, 15.606147558738746, 21.5830313060905, 31.471598991591765, 47.142978721483956, 25.883521401812782, 37.080460106651046, 58.15477759987605, 12.101228973537387, 37.42111750947821, 24.91578335206235, 9.994806469759173, 16.537316682707605, 22.11812843756494, 40.636846549624956, 63.33604784207461, 15.451220961364626, 91.47884686436062, 16.048496108918254, 20.57408201484563, 16.00776589684801, 17.13035266301817, 13.624026875866345, 68.88824164519767, 66.39224977454309, 64.72994762378511, 46.458057982170594, 21.70587647102378, 20.761459396957452, 19.878317394715488, 17.55594914952809, 16.76302305153195, 15.565949589987834, 15.300484586989429, 14.95723904898994, 14.351424728140351, 11.91399833229977, 9.332412685422572, 9.242610628669652, 9.240956663302127, 8.549955290702293, 8.465068118116447, 8.37106846536403, 7.9485814608523455, 7.855754969581546, 7.5994572940078084, 7.5125813740894305, 51.35613466999425, 6.555782353432349, 6.5484662990439455, 6.295777857973765, 5.338441049266518, 5.184465207483745, 32.80832200663627, 21.461562565193056, 53.36048426669824, 117.39493446732372, 8.233530061911894, 24.915656256960016, 22.736908050154963, 36.68164107181331, 17.9875386619776, 37.83178949869681, 13.490250121219034, 14.81597388119547, 13.388433665734814, 15.299018669363946, 11.944730604385027, 12.198188331672663], \"Total\": [708.0, 418.0, 460.0, 336.0, 99.0, 155.0, 115.0, 69.0, 126.0, 67.0, 65.0, 111.0, 113.0, 55.0, 201.0, 47.0, 48.0, 140.0, 56.0, 72.0, 90.0, 84.0, 106.0, 119.0, 75.0, 38.0, 93.0, 52.0, 54.0, 42.0, 54.60788332848278, 35.040434164912746, 29.415959806323396, 28.026461903550185, 22.24190687251145, 18.556052300417498, 15.957402559146503, 13.999601135500845, 10.572704620320275, 10.65245813204531, 10.00255705905982, 9.513515178162974, 9.344306408820813, 9.345765935939408, 8.774726894153227, 22.219171210211762, 8.944119229908264, 8.205099068847723, 8.285226153849331, 37.04668638131914, 7.715634993904019, 7.3859904441012505, 7.145958277690126, 7.145444700814287, 7.056342135060734, 6.495760399777913, 17.161251582999395, 6.087034387215295, 6.006718820632557, 5.917521369055911, 460.24968026939064, 21.77250639452668, 119.75098286786142, 164.96047455597636, 83.7196211162464, 106.62841421551498, 68.65802648504173, 46.31691855912129, 817.8158844019471, 58.52412382375462, 69.47620791312109, 336.488946671526, 47.5689774751041, 85.0568081982986, 111.42221968615678, 42.4885530795027, 62.2314361601317, 201.5390711577767, 23.58103553112417, 84.3116495036659, 79.21232667298344, 38.87374387038315, 61.008624847998384, 126.75652169526852, 93.42239618742472, 90.15594332497665, 78.63861692711514, 57.14032708292134, 115.47634225498155, 140.74923289100548, 708.3154710689641, 38.41608473816764, 30.822574696005056, 12.736924020840735, 11.34828187111409, 10.907216963632196, 10.47092751909053, 17.961522585361212, 7.326541194473671, 7.240714363711936, 6.802678351112921, 6.460496975501053, 35.774130948442824, 6.458591804406091, 6.372308957704699, 6.0216422232633215, 5.849997706763044, 5.583576307924593, 5.583222737695391, 5.583040211552842, 5.145122580550551, 4.449924226522753, 4.449832734855698, 4.4486624084233926, 24.593594390917563, 3.9260026917375015, 3.9255174398805317, 3.9252816490715072, 3.9244392544852755, 3.839607230461968, 22.970375590028155, 35.10983279330618, 43.986990648237466, 19.241433795954492, 50.53004826898811, 28.02393599466898, 12.8449296451758, 33.84263706838946, 42.21131210535217, 62.2314361601317, 140.74923289100548, 201.5390711577767, 817.8158844019471, 72.91776721281842, 69.47620791312109, 54.326268847567945, 80.18280844500953, 90.19769847947236, 48.73183008628849, 90.15594332497665, 79.21232667298344, 85.0568081982986, 93.42239618742472, 78.63861692711514, 83.7196211162464, 55.22964945285166, 22.885517160547575, 16.275174654746976, 10.707859097717694, 9.748875162975148, 9.578180041417447, 9.312042143674544, 9.490471747722614, 8.086416466354951, 8.095885315860684, 7.570265205534491, 418.56604898265965, 6.775139041046771, 6.6135611228618165, 6.961889994391548, 6.358109710278979, 6.442173215995969, 6.3572115045773945, 6.177492784771217, 6.261675213005718, 6.091487071421479, 5.83527400459999, 4.961418104977008, 4.9606780063386555, 4.438974630700596, 4.438330678165306, 4.436666636972404, 4.352690903479642, 4.25848924889017, 4.35276316659166, 4.172655949623694, 56.97760115871266, 42.42996031274973, 155.7261733305686, 28.225262211315506, 126.75652169526852, 72.91776721281842, 48.862848773593754, 41.53839234872468, 84.3116495036659, 201.5390711577767, 15.24140243641504, 80.18280844500953, 817.8158844019471, 460.24968026939064, 28.472689988629504, 48.73183008628849, 61.008624847998384, 55.045474942601096, 47.5689774751041, 56.09572967435755, 113.61932773529011, 106.62841421551498, 34.56952913462376, 79.21232667298344, 85.0568081982986, 99.73111441541053, 48.275225685324195, 22.433658987866824, 16.768498810512664, 14.048222714698655, 12.288225684806415, 12.043707637112732, 8.295868308142676, 7.406567332599808, 7.014285054414088, 6.535154831448626, 6.456873750637597, 6.1336136821351195, 5.889790191758854, 5.419203387243581, 5.419368061827909, 5.419401310956044, 5.4193493554082535, 5.419516206244941, 5.419369614632, 32.47931237913327, 4.617079635280389, 4.696857654982433, 4.216086845324429, 4.21646489978709, 4.216508271953225, 4.1378199421037, 4.137885090373315, 4.059389872095872, 8.500669069308223, 115.47634225498155, 47.29988680848892, 113.61932773529011, 22.913175273508426, 35.166194604761806, 55.22964945285166, 90.19769847947236, 47.50931803206624, 75.12732776588545, 140.74923289100548, 19.314546814388475, 93.42239618742472, 54.326268847567945, 15.671150879542028, 34.28436998263454, 55.045474942601096, 155.7261733305686, 336.488946671526, 33.58764198946076, 817.8158844019471, 48.862848773593754, 90.15594332497665, 58.52412382375462, 119.75098286786142, 37.76552920631157, 69.51892936981197, 67.02476248203392, 65.35962708868566, 47.08897603675302, 22.338630022482523, 21.394628680740293, 20.52459976435908, 18.18306268129147, 17.389169870084903, 16.19899398739665, 15.934121966037193, 15.584872194238589, 14.980251826700467, 12.551958829640292, 9.963734197658207, 9.869594985192201, 9.86953328161319, 9.179623268418396, 9.094499492141285, 8.999412096049067, 8.575460125474475, 8.489438604805793, 8.225516834172467, 8.14107088624235, 55.69605638104624, 7.186505332339382, 7.1855756062018346, 6.930623899176252, 5.967370923010453, 5.808053435891495, 52.36818895805774, 33.73019308132166, 111.42221968615678, 336.488946671526, 10.584258802672453, 78.63861692711514, 113.61932773529011, 418.56604898265965, 90.19769847947236, 817.8158844019471, 41.53839234872468, 68.65802648504173, 55.045474942601096, 164.96047455597636, 75.12732776588545, 90.15594332497665], \"Category\": [\"Default\", \"Default\", \"Default\", \"Default\", \"Default\", \"Default\", \"Default\", \"Default\", \"Default\", \"Default\", \"Default\", \"Default\", \"Default\", \"Default\", \"Default\", \"Default\", \"Default\", \"Default\", \"Default\", \"Default\", \"Default\", \"Default\", \"Default\", \"Default\", \"Default\", \"Default\", \"Default\", \"Default\", \"Default\", \"Default\", \"Topic1\", \"Topic1\", \"Topic1\", \"Topic1\", \"Topic1\", \"Topic1\", \"Topic1\", \"Topic1\", \"Topic1\", \"Topic1\", \"Topic1\", \"Topic1\", \"Topic1\", \"Topic1\", \"Topic1\", \"Topic1\", \"Topic1\", \"Topic1\", \"Topic1\", \"Topic1\", \"Topic1\", \"Topic1\", \"Topic1\", \"Topic1\", \"Topic1\", \"Topic1\", \"Topic1\", \"Topic1\", \"Topic1\", \"Topic1\", \"Topic1\", \"Topic1\", \"Topic1\", \"Topic1\", \"Topic1\", \"Topic1\", \"Topic1\", \"Topic1\", \"Topic1\", \"Topic1\", \"Topic1\", \"Topic1\", \"Topic1\", \"Topic1\", \"Topic1\", \"Topic1\", \"Topic1\", \"Topic1\", \"Topic1\", \"Topic1\", \"Topic1\", \"Topic1\", \"Topic1\", \"Topic1\", \"Topic1\", \"Topic1\", \"Topic1\", \"Topic1\", \"Topic1\", \"Topic1\", \"Topic2\", \"Topic2\", \"Topic2\", \"Topic2\", \"Topic2\", \"Topic2\", \"Topic2\", \"Topic2\", \"Topic2\", \"Topic2\", \"Topic2\", \"Topic2\", \"Topic2\", \"Topic2\", \"Topic2\", \"Topic2\", \"Topic2\", \"Topic2\", \"Topic2\", \"Topic2\", \"Topic2\", \"Topic2\", \"Topic2\", \"Topic2\", \"Topic2\", \"Topic2\", \"Topic2\", \"Topic2\", \"Topic2\", \"Topic2\", \"Topic2\", \"Topic2\", \"Topic2\", \"Topic2\", \"Topic2\", \"Topic2\", \"Topic2\", \"Topic2\", \"Topic2\", \"Topic2\", \"Topic2\", \"Topic2\", \"Topic2\", \"Topic2\", \"Topic2\", \"Topic2\", \"Topic2\", \"Topic2\", \"Topic2\", \"Topic2\", \"Topic2\", \"Topic2\", \"Topic2\", \"Topic2\", \"Topic2\", \"Topic2\", \"Topic3\", \"Topic3\", \"Topic3\", \"Topic3\", \"Topic3\", \"Topic3\", \"Topic3\", \"Topic3\", \"Topic3\", \"Topic3\", \"Topic3\", \"Topic3\", \"Topic3\", \"Topic3\", \"Topic3\", \"Topic3\", \"Topic3\", \"Topic3\", \"Topic3\", \"Topic3\", \"Topic3\", \"Topic3\", \"Topic3\", \"Topic3\", \"Topic3\", \"Topic3\", \"Topic3\", \"Topic3\", \"Topic3\", \"Topic3\", \"Topic3\", \"Topic3\", \"Topic3\", \"Topic3\", \"Topic3\", \"Topic3\", \"Topic3\", \"Topic3\", \"Topic3\", \"Topic3\", \"Topic3\", \"Topic3\", \"Topic3\", \"Topic3\", \"Topic3\", \"Topic3\", \"Topic3\", \"Topic3\", \"Topic3\", \"Topic3\", \"Topic3\", \"Topic3\", \"Topic3\", \"Topic3\", \"Topic3\", \"Topic4\", \"Topic4\", \"Topic4\", \"Topic4\", \"Topic4\", \"Topic4\", \"Topic4\", \"Topic4\", \"Topic4\", \"Topic4\", \"Topic4\", \"Topic4\", \"Topic4\", \"Topic4\", \"Topic4\", \"Topic4\", \"Topic4\", \"Topic4\", \"Topic4\", \"Topic4\", \"Topic4\", \"Topic4\", \"Topic4\", \"Topic4\", \"Topic4\", \"Topic4\", \"Topic4\", \"Topic4\", \"Topic4\", \"Topic4\", \"Topic4\", \"Topic4\", \"Topic4\", \"Topic4\", \"Topic4\", \"Topic4\", \"Topic4\", \"Topic4\", \"Topic4\", \"Topic4\", \"Topic4\", \"Topic4\", \"Topic4\", \"Topic4\", \"Topic4\", \"Topic4\", \"Topic4\", \"Topic4\", \"Topic4\", \"Topic4\", \"Topic4\", \"Topic4\", \"Topic4\", \"Topic4\", \"Topic4\", \"Topic5\", \"Topic5\", \"Topic5\", \"Topic5\", \"Topic5\", \"Topic5\", \"Topic5\", \"Topic5\", \"Topic5\", \"Topic5\", \"Topic5\", \"Topic5\", \"Topic5\", \"Topic5\", \"Topic5\", \"Topic5\", \"Topic5\", \"Topic5\", \"Topic5\", \"Topic5\", \"Topic5\", \"Topic5\", \"Topic5\", \"Topic5\", \"Topic5\", \"Topic5\", \"Topic5\", \"Topic5\", \"Topic5\", \"Topic5\", \"Topic5\", \"Topic5\", \"Topic5\", \"Topic5\", \"Topic5\", \"Topic5\", \"Topic5\", \"Topic5\", \"Topic5\", \"Topic5\", \"Topic5\", \"Topic5\", \"Topic5\", \"Topic5\", \"Topic5\", \"Topic5\"], \"logprob\": [30.0, 29.0, 28.0, 27.0, 26.0, 25.0, 24.0, 23.0, 22.0, 21.0, 20.0, 19.0, 18.0, 17.0, 16.0, 15.0, 14.0, 13.0, 12.0, 11.0, 10.0, 9.0, 8.0, 7.0, 6.0, 5.0, 4.0, 3.0, 2.0, 1.0, -4.1727, -4.6217, -4.8002, -4.8497, -5.0872, -5.274, -5.4308, -5.5673, -5.8639, -5.8565, -5.9257, -5.9764, -5.9959, -6.0001, -6.064, -5.138, -6.0482, -6.1363, -6.1268, -4.631, -6.2031, -6.2514, -6.2878, -6.2879, -6.302, -6.3919, -5.4252, -6.4658, -6.4794, -6.4955, -2.2512, -5.2271, -3.6191, -3.3193, -3.9696, -3.743, -4.2032, -4.593, -2.0886, -4.4216, -4.3909, -3.1136, -4.7434, -4.292, -4.1065, -4.8399, -4.6109, -3.8514, -5.3117, -4.4619, -4.5062, -4.9792, -4.738, -4.366, -4.5338, -4.5575, -4.6267, -4.788, -4.5951, -4.6932, -1.129, -4.0548, -4.2791, -5.1938, -5.3143, -5.3578, -5.4, -4.8803, -5.7845, -5.7974, -5.8661, -5.9225, -4.2129, -5.925, -5.9403, -6.0006, -6.0339, -6.0852, -6.0859, -6.0863, -6.1784, -6.3444, -6.3456, -6.3467, -4.6391, -6.4918, -6.4929, -6.4934, -6.4964, -6.5195, -4.8061, -4.4136, -4.2565, -5.0744, -4.3606, -4.9013, -5.5203, -4.7996, -4.6322, -4.4032, -3.9162, -3.7614, -2.878, -4.4631, -4.5113, -4.6984, -4.5391, -4.4781, -4.9066, -4.6672, -4.7354, -4.7267, -4.7902, -4.8461, -4.8414, -4.9352, -4.4447, -4.7964, -5.2367, -5.336, -5.3551, -5.3852, -5.3692, -5.5374, -5.5364, -5.6146, -1.603, -5.7309, -5.7575, -5.7067, -5.8004, -5.7874, -5.8022, -5.8322, -5.82, -5.8485, -5.8965, -6.0794, -6.0815, -6.2079, -6.2095, -6.2129, -6.2323, -6.2558, -6.2344, -6.2803, -3.6762, -3.9976, -2.8053, -4.4563, -3.142, -3.6896, -4.0707, -4.2585, -3.7748, -3.2131, -5.1834, -4.0795, -2.6587, -3.0296, -4.9267, -4.6411, -4.5311, -4.591, -4.7355, -4.6575, -4.3315, -4.3979, -5.1329, -5.0238, -5.2574, -2.8062, -3.5387, -4.3207, -4.6217, -4.8064, -4.9471, -4.9681, -5.367, -5.4904, -5.5506, -5.6281, -5.642, -5.6986, -5.7446, -5.837, -5.8371, -5.8374, -5.8377, -5.8379, -5.838, -4.0667, -6.021, -6.0078, -6.1268, -6.1278, -6.1287, -6.149, -6.1523, -6.1722, -5.4398, -3.0246, -3.9265, -3.2179, -4.6546, -4.3304, -3.9532, -3.5491, -4.1487, -3.7892, -3.3392, -4.909, -3.78, -4.1868, -5.1002, -4.5966, -4.3059, -3.6976, -3.2538, -4.6646, -2.8862, -4.6266, -4.3782, -4.6292, -4.5614, -4.7904, -3.1003, -3.1372, -3.1626, -3.4942, -4.2552, -4.2997, -4.3432, -4.4674, -4.5136, -4.5877, -4.6049, -4.6276, -4.6689, -4.8551, -5.0993, -5.109, -5.1092, -5.1869, -5.1969, -5.208, -5.2598, -5.2716, -5.3047, -5.3162, -3.394, -5.4525, -5.4536, -5.4929, -5.6579, -5.6871, -3.8421, -4.2665, -3.3557, -2.5673, -5.2246, -4.1173, -4.2088, -3.7305, -4.4431, -3.6996, -4.7308, -4.6371, -4.7384, -4.605, -4.8525, -4.8315], \"loglift\": [30.0, 29.0, 28.0, 27.0, 26.0, 25.0, 24.0, 23.0, 22.0, 21.0, 20.0, 19.0, 18.0, 17.0, 16.0, 15.0, 14.0, 13.0, 12.0, 11.0, 10.0, 9.0, 8.0, 7.0, 6.0, 5.0, 4.0, 3.0, 2.0, 1.0, 1.1089, 1.1036, 1.1001, 1.099, 1.0926, 1.087, 1.0811, 1.0755, 1.0596, 1.0595, 1.0532, 1.0527, 1.0512, 1.0468, 1.046, 1.0429, 1.0426, 1.0407, 1.0406, 1.0386, 1.0355, 1.0309, 1.0275, 1.0274, 1.0259, 1.0188, 1.014, 1.0099, 1.0096, 1.0084, 0.8988, 0.9741, 0.8773, 0.8568, 0.8848, 0.8695, 0.8495, 0.8534, 0.4866, 0.7908, 0.6499, 0.3496, 0.6762, 0.5465, 0.462, 0.6926, 0.54, 0.1244, 0.8097, 0.3854, 0.4035, 0.6423, 0.4329, 0.0736, 0.2109, 0.2228, 0.2902, 0.4483, -0.0624, -0.3584, 1.5899, 1.5785, 1.5744, 1.5435, 1.5385, 1.5346, 1.5332, 1.5133, 1.5058, 1.5047, 1.4984, 1.4936, 1.4917, 1.4914, 1.4896, 1.4859, 1.4815, 1.4768, 1.4762, 1.4758, 1.4654, 1.4445, 1.4433, 1.4425, 1.4403, 1.4224, 1.4214, 1.421, 1.4182, 1.417, 1.3416, 1.3097, 1.2414, 1.2503, 0.9987, 1.0475, 1.2086, 0.9605, 0.9069, 0.7478, 0.4186, 0.2145, -0.3029, 0.5294, 0.5295, 0.5884, 0.3585, 0.3017, 0.4889, 0.1131, 0.1743, 0.1118, -0.0455, 0.0708, 0.0129, 0.3351, 1.7066, 1.6958, 1.6741, 1.6687, 1.6672, 1.6653, 1.6623, 1.6542, 1.6541, 1.643, 1.642, 1.6377, 1.6352, 1.6347, 1.6316, 1.6316, 1.6301, 1.6287, 1.6273, 1.6265, 1.6214, 1.6007, 1.5988, 1.5835, 1.582, 1.5791, 1.5788, 1.5771, 1.5766, 1.573, 1.5629, 1.5364, 1.4284, 1.4853, 1.2976, 1.3029, 1.3221, 1.2967, 1.0725, 0.7627, 1.3744, 0.818, -0.0835, 0.1205, 1.0062, 0.7544, 0.6397, 0.6827, 0.6842, 0.5973, 0.2175, 0.2145, 0.606, -0.1141, -0.4189, 1.8731, 1.8662, 1.8505, 1.8407, 1.8329, 1.8261, 1.8251, 1.7991, 1.7891, 1.7833, 1.7766, 1.7746, 1.7695, 1.764, 1.7549, 1.7548, 1.7544, 1.7542, 1.7539, 1.7539, 1.7345, 1.7311, 1.7271, 1.7161, 1.715, 1.7141, 1.7126, 1.7093, 1.7086, 1.7019, 1.5082, 1.4988, 1.3311, 1.4955, 1.3914, 1.3171, 1.2307, 1.2722, 1.1735, 0.9957, 1.412, 0.9647, 1.1001, 1.4298, 1.1505, 0.9678, 0.5361, 0.2095, 1.1031, -0.311, 0.7662, 0.4021, 0.5832, -0.065, 0.86, 1.9399, 1.9395, 1.9393, 1.9355, 1.9203, 1.919, 1.917, 1.9139, 1.9124, 1.9092, 1.9084, 1.9079, 1.9061, 1.8969, 1.8836, 1.8834, 1.8832, 1.878, 1.8773, 1.8766, 1.8731, 1.8714, 1.8699, 1.8687, 1.8679, 1.8572, 1.8562, 1.853, 1.8377, 1.8354, 1.4814, 1.4969, 1.2128, 0.896, 1.6979, 0.7997, 0.3402, -0.4855, 0.3367, -1.1245, 0.8244, 0.4156, 0.5353, -0.4289, 0.1101, -0.0512]}, \"token.table\": {\"Topic\": [1, 4, 3, 5, 4, 4, 5, 1, 2, 3, 1, 1, 2, 1, 3, 2, 1, 5, 3, 1, 4, 1, 2, 2, 2, 3, 4, 2, 1, 3, 4, 4, 1, 4, 1, 4, 1, 4, 1, 2, 4, 3, 2, 1, 2, 3, 4, 5, 5, 3, 1, 1, 2, 3, 4, 3, 3, 2, 1, 2, 4, 5, 1, 2, 2, 4, 3, 2, 3, 4, 4, 1, 3, 1, 1, 2, 1, 1, 3, 5, 2, 3, 1, 3, 5, 2, 2, 4, 3, 1, 3, 1, 4, 3, 2, 3, 5, 2, 1, 2, 3, 5, 1, 2, 4, 5, 1, 3, 1, 1, 5, 1, 4, 1, 2, 3, 4, 5, 1, 4, 2, 3, 5, 3, 5, 2, 2, 5, 2, 3, 5, 1, 4, 3, 4, 4, 5, 2, 1, 2, 3, 4, 5, 4, 5, 2, 5, 4, 2, 3, 4, 4, 1, 1, 2, 1, 1, 2, 3, 3, 5, 4, 4, 5, 1, 3, 4, 5, 2, 4, 5, 1, 1, 2, 4, 5, 1, 2, 3, 5, 1, 5, 5, 4, 1, 2, 3, 3, 5, 1, 4, 5, 1, 3, 4, 3, 3, 1, 4, 5, 2, 3, 4, 5, 1, 2, 3, 4, 4, 3, 1, 2, 3, 5, 2, 2, 5, 4, 1, 3, 4, 2, 3, 2, 5, 1, 5, 2, 4, 1, 5, 1, 4, 4, 1, 2, 5, 3, 5, 1, 4, 5, 4, 2, 5, 2, 1, 1, 3, 1, 2, 5, 1, 4, 5, 1, 1, 3, 5, 2, 3, 5, 4, 4, 1, 4, 1, 2, 5, 3, 1, 2, 4, 5, 4, 1, 3, 1, 2, 3, 1, 4, 1, 2, 3, 1, 3, 2, 1, 5, 3, 1, 2, 4, 2, 5, 1, 5, 5, 4, 1, 3, 2, 2, 1, 2, 4, 5, 1, 2, 2, 3, 1, 1, 4, 5, 1, 2, 3, 4, 5, 5, 3, 4, 5, 5, 3, 3, 4, 2, 4, 2, 2, 1, 2, 4, 1, 2, 3, 2, 4, 4, 1, 2, 3, 4, 5], \"Freq\": [0.7176527772800664, 0.27339153420193, 0.9438100330120854, 0.9725832627032541, 0.9487470601882725, 0.9451071846994069, 0.9899322416415677, 0.2955419274748886, 0.7047538270555036, 0.9072268160128054, 0.9458317771197767, 0.22785639701266902, 0.7405332902911743, 0.9796451156080304, 0.9189564988742809, 0.7641360018202923, 0.8944424592696371, 0.9423473532715431, 0.9664904712779347, 0.9285978846235834, 0.9942988213640218, 0.3925215930443368, 0.5709404989735808, 0.7644404220478821, 0.3157275376985164, 0.147339517592641, 0.5472610653440951, 0.764230460301127, 0.4744302861523399, 0.5100125576137654, 0.92261653209633, 0.9666926197775461, 0.4958527751453713, 0.4958527751453713, 0.9117092869671598, 0.8516332181701939, 0.7209182979925549, 0.25444175223266646, 0.1656657118355167, 0.36814602630114823, 0.46018253287643535, 0.8568577921205521, 0.9415739318077878, 0.5294590240401659, 0.15040060036244896, 0.16262829144882693, 0.11127198888603948, 0.04646522612823627, 0.9768740769410006, 0.9189717553346843, 0.8997699235165318, 0.5075224710897359, 0.2625116229774496, 0.14000619892130647, 0.08750387432581654, 0.8855906814088039, 0.9483195608437157, 0.8820055410996166, 0.06342509892564033, 0.10570849820940055, 0.6765343885401636, 0.14799189749316077, 0.31140692167997114, 0.7006655737799351, 0.7836180096164435, 0.21767166933790094, 0.9015777671160826, 0.8547011897491205, 0.6548942765959503, 0.32744713829797517, 0.8489266743314777, 0.7995660090075553, 0.19989150225188881, 0.8324012075986369, 0.7883456604319512, 0.20305873071732078, 0.9460225617401987, 0.7573768525276363, 0.014564939471685315, 0.2184740920752797, 0.26244304070359864, 0.7217183619348962, 0.9400026065897713, 0.8646367539676321, 0.9944977181678579, 0.8955401270743265, 0.12315531663071318, 0.8620872164149923, 0.9246703794316771, 0.3471221788948979, 0.6469095152132187, 0.8726602098863707, 0.13778845419258484, 0.9830923685561361, 0.3428519681223204, 0.6445617000699624, 0.9741738704910898, 0.9891689967625918, 0.5643287235525509, 0.22338011973955144, 0.11756848407344812, 0.0940547872587585, 0.22735470270577188, 0.30550788176088095, 0.41208039865421153, 0.0497338412168876, 0.9177608936475506, 0.05398593492044416, 0.9236793894376303, 0.8740621234677071, 0.05827080823118047, 0.5359113928166824, 0.4465928273472353, 0.9750034622218735, 0.898910192436641, 0.345169153682702, 0.3996695463694444, 0.23616836830921717, 0.938750462667152, 0.8151801302000965, 0.2864334302645765, 0.09547781008819219, 0.6301535465820683, 0.9102506066271612, 0.0883970405385957, 0.9554303748786703, 0.995319216924684, 0.004235400923083762, 0.9168241571926992, 0.9012397430588699, 0.9776199857156838, 0.3030923851286962, 0.692782594579877, 0.779443600392141, 0.2125755273796748, 0.35576434356805053, 0.6225876012440884, 0.8303382722878443, 0.7698813933570786, 0.04849646572328054, 0.018186174646230204, 0.07274469858492082, 0.09093087323115102, 0.9226111360108785, 0.9848410568534547, 0.9667554399164927, 0.9624718004133005, 0.9643354622864165, 0.2896994668354513, 0.14484973341772564, 0.5612927169936869, 0.9292422667250568, 0.9891238249535871, 0.49749697302911633, 0.49749697302911633, 0.9888682129496545, 0.5081248770519874, 0.1639112506619314, 0.3278225013238628, 0.8063413902069192, 0.9118972238299131, 0.9225915763917211, 0.9253839623711333, 0.9877156576790216, 0.3921867159534717, 0.3208800403255678, 0.19609335797673585, 0.08913334453487994, 0.2771689347005858, 0.5210775972371012, 0.19956163298442176, 0.9795747089448015, 0.5031042964128415, 0.13239586747706356, 0.370708428935778, 0.9804323921400595, 0.36717446187924735, 0.25305266967353535, 0.3770980959840919, 0.9118915227527681, 0.8449483640475145, 0.9847106883473312, 0.9413760000062615, 0.7390273155633345, 0.2872865635296371, 0.32832750117672815, 0.36936843882381915, 0.9712678280727786, 0.9925354234520575, 0.46063920236675115, 0.18722754676842143, 0.3477083011413541, 0.5206897649633233, 0.3181993008109198, 0.14463604582314535, 0.9338934990404786, 0.9396357096110836, 0.34607912690601955, 0.4924972190585663, 0.15972882780277828, 0.8988917105956361, 0.2200329864496726, 0.5808870842271356, 0.2024303475336988, 0.7556633966338716, 0.2159038276096776, 0.7384757330155614, 0.2632826526403306, 0.9226448322219543, 0.8618349334496178, 0.6173832929502051, 0.15434582323755128, 0.15434582323755128, 0.07717291161877564, 0.9693097267877523, 0.8991466721381542, 0.9815547777608525, 0.9926691442315062, 0.9631533477438415, 0.8208176330961537, 0.9486522359286321, 0.9421427010450132, 0.9393002462181779, 0.9464676460031923, 0.05567456741195249, 0.9633752591717558, 0.9826717039792952, 0.3055010890652595, 0.6982882035777361, 0.5205424929010455, 0.4756681400647485, 0.9451297621015027, 0.0450061791476906, 0.9226199811256378, 0.2770628661479479, 0.5541257322958958, 0.15832163779882738, 0.9011090021410388, 0.8608736223227491, 0.9700339117709327, 0.9765445645124514, 0.932894548274442, 0.9806692707551021, 0.9289950784483334, 0.9744404387719147, 0.7813299173413241, 0.9630029322037956, 0.16497776449478738, 0.8248888224739369, 0.6189169111499411, 0.3454419969208974, 0.028786833076741448, 0.7849622420529424, 0.14196125654148958, 0.07515595934549449, 0.8214180636964343, 0.7784041487500907, 0.2157023544729167, 0.9032758021701628, 0.024074114173816896, 0.6500010826930561, 0.3129634842596196, 0.9226167964523783, 0.9181113768149239, 0.3696732087764676, 0.6256008148524836, 0.6590010242901809, 0.32950051214509046, 0.9560260803009574, 0.9586220499106175, 0.4104000095327003, 0.2218378429906488, 0.23292973514018123, 0.13310270579438926, 0.9486619941273504, 0.49169923901081575, 0.49169923901081575, 0.9858593835094247, 0.9550252336068664, 0.8656492068056116, 0.9655741257326073, 0.9541700888554872, 0.31178753257495767, 0.2868445299689611, 0.3990880416959458, 0.15795680788544, 0.8424363087223468, 0.9287211220363835, 0.07181837027443883, 0.915684220999095, 0.9231834288104057, 0.9072487236022143, 0.3624211361141185, 0.6212933761956317, 0.8538808791510085, 0.12198298273585836, 0.9703076120570855, 0.9345637284312345, 0.865722925855656, 0.8663484964467341, 0.6306631252626973, 0.3573757709821951, 0.9733125897457336, 0.764276367457511, 0.43235755317915014, 0.21617877658957507, 0.02543279724583236, 0.3179099655729045, 0.4432278716841092, 0.531873446020931, 0.895483418558041, 0.9436767016303551, 0.8502989063112312, 0.9477401917830103, 0.9133400055397772, 0.8796525863696996, 0.5624167166886404, 0.4338643243026654, 0.9582100310054074, 0.18895985418412234, 0.7558394167364894, 0.8378899291679311, 0.9613066572044034, 0.8234645935428296, 0.1176377990775471, 0.8889469572698165, 0.9313627247870254, 0.8062211076279645, 0.8553972291479944, 0.31905761347287337, 0.6381152269457467, 0.9717941451775824, 0.8955694049370498, 0.40675471354603354, 0.19267328536391062, 0.3960506421369274, 0.155913536995915, 0.7275965059809367, 0.10394235799727666, 0.8945011143979417, 0.08385947947480703, 0.7250080498802213, 0.49234761353502243, 0.23986165787603658, 0.15149157339539152, 0.11361868004654364, 0.9740478405407834], \"Term\": [\"able\", \"able\", \"accurate\", \"actual\", \"advertised\", \"aero\", \"affordable\", \"airbed\", \"airbed\", \"alternative\", \"amazed\", \"amazing\", \"amazing\", \"apt\", \"arrive\", \"asinb\", \"asleep\", \"automatic\", \"available\", \"average\", \"awesome\", \"back\", \"back\", \"backup\", \"bad\", \"bad\", \"bad\", \"basic\", \"big\", \"big\", \"broken\", \"certain\", \"cheap\", \"cheap\", \"clean\", \"clear\", \"close\", \"close\", \"cold\", \"cold\", \"cold\", \"combined\", \"comforable\", \"comfortable\", \"comfortable\", \"comfortable\", \"comfortable\", \"comfortable\", \"comfy\", \"common\", \"constant\", \"convenient\", \"convenient\", \"convenient\", \"convenient\", \"cool\", \"decent\", \"deep\", \"different\", \"different\", \"different\", \"different\", \"difficult\", \"difficult\", \"double\", \"double\", \"dry\", \"dual\", \"durable\", \"durable\", \"early\", \"easy\", \"easy\", \"elderly\", \"electric\", \"electric\", \"empty\", \"enough\", \"enough\", \"enough\", \"entire\", \"entire\", \"everyday\", \"exact\", \"excellent\", \"excited\", \"expensive\", \"expensive\", \"external\", \"extra\", \"extra\", \"fantastic\", \"fantastic\", \"far\", \"fast\", \"fast\", \"favorite\", \"fine\", \"firm\", \"firm\", \"firm\", \"firm\", \"first\", \"first\", \"first\", \"first\", \"fit\", \"fit\", \"flip\", \"fold\", \"fold\", \"free\", \"free\", \"friendly\", \"front\", \"full\", \"full\", \"full\", \"futon\", \"future\", \"glad\", \"glad\", \"glad\", \"good\", \"good\", \"grand\", \"great\", \"great\", \"half\", \"handheld\", \"handy\", \"happy\", \"happy\", \"hard\", \"hard\", \"heavy\", \"heavy\", \"helpful\", \"high\", \"high\", \"high\", \"high\", \"high\", \"horrible\", \"huge\", \"ideal\", \"ill\", \"important\", \"impressed\", \"impressed\", \"impressed\", \"incredible\", \"inexpensive\", \"inflatable\", \"inflatable\", \"inflate\", \"inflated\", \"inflated\", \"inflated\", \"inflatedeflate\", \"initial\", \"interested\", \"internal\", \"intex\", \"large\", \"large\", \"large\", \"large\", \"last\", \"last\", \"last\", \"late\", \"less\", \"less\", \"less\", \"light\", \"little\", \"little\", \"little\", \"live\", \"local\", \"long\", \"loud\", \"lovely\", \"low\", \"low\", \"low\", \"lucky\", \"many\", \"mattress\", \"mattress\", \"mattress\", \"middle\", \"middle\", \"middle\", \"minimal\", \"minor\", \"much\", \"much\", \"much\", \"nervous\", \"new\", \"new\", \"new\", \"next\", \"next\", \"nice\", \"nice\", \"nightly\", \"noisy\", \"normal\", \"normal\", \"normal\", \"normal\", \"numerous\", \"nyc\", \"occasional\", \"old\", \"online\", \"open\", \"operational\", \"original\", \"outstanding\", \"overall\", \"overall\", \"overnight\", \"particular\", \"past\", \"past\", \"perfect\", \"perfect\", \"permanent\", \"permanent\", \"personal\", \"pleased\", \"pleased\", \"pleased\", \"plenty\", \"popular\", \"portable\", \"positive\", \"possible\", \"previous\", \"pricey\", \"primary\", \"prompt\", \"put\", \"queen\", \"queen\", \"quick\", \"quick\", \"quick\", \"real\", \"real\", \"real\", \"recent\", \"regular\", \"regular\", \"reliable\", \"right\", \"right\", \"right\", \"safe\", \"sag\", \"satisfied\", \"satisfied\", \"second\", \"second\", \"separate\", \"set\", \"several\", \"several\", \"several\", \"several\", \"sharp\", \"short\", \"short\", \"simple\", \"skeptical\", \"sleeper\", \"slight\", \"slow\", \"small\", \"small\", \"small\", \"soft\", \"soft\", \"sore\", \"spare\", \"spare\", \"special\", \"stable\", \"standard\", \"standard\", \"strong\", \"strong\", \"sturdy\", \"super\", \"superior\", \"supportive\", \"sure\", \"sure\", \"surprised\", \"surprising\", \"tall\", \"tall\", \"tall\", \"tall\", \"temporary\", \"temporary\", \"tempurpedic\", \"thi\", \"tight\", \"timely\", \"tiny\", \"tired\", \"top\", \"top\", \"tough\", \"traditional\", \"traditional\", \"twice\", \"twin\", \"typical\", \"typical\", \"unexpected\", \"uninflate\", \"unreasonable\", \"various\", \"warm\", \"warm\", \"waterproof\", \"weird\", \"well\", \"well\", \"well\", \"whole\", \"whole\", \"whole\", \"wonderful\", \"wonderful\", \"worried\", \"worth\", \"worth\", \"worth\", \"worth\", \"young\"]}, \"R\": 30, \"lambda.step\": 0.01, \"plot.opts\": {\"xlab\": \"PC1\", \"ylab\": \"PC2\"}, \"topic.order\": [1, 3, 5, 4, 2]};\n",
       "\n",
       "function LDAvis_load_lib(url, callback){\n",
       "  var s = document.createElement('script');\n",
       "  s.src = url;\n",
       "  s.async = true;\n",
       "  s.onreadystatechange = s.onload = callback;\n",
       "  s.onerror = function(){console.warn(\"failed to load library \" + url);};\n",
       "  document.getElementsByTagName(\"head\")[0].appendChild(s);\n",
       "}\n",
       "\n",
       "if(typeof(LDAvis) !== \"undefined\"){\n",
       "   // already loaded: just create the visualization\n",
       "   !function(LDAvis){\n",
       "       new LDAvis(\"#\" + \"ldavis_el1920814730989532884661821492\", ldavis_el1920814730989532884661821492_data);\n",
       "   }(LDAvis);\n",
       "}else if(typeof define === \"function\" && define.amd){\n",
       "   // require.js is available: use it to load d3/LDAvis\n",
       "   require.config({paths: {d3: \"https://d3js.org/d3.v5\"}});\n",
       "   require([\"d3\"], function(d3){\n",
       "      window.d3 = d3;\n",
       "      LDAvis_load_lib(\"https://cdn.jsdelivr.net/gh/bmabey/pyLDAvis@3.3.1/pyLDAvis/js/ldavis.v3.0.0.js\", function(){\n",
       "        new LDAvis(\"#\" + \"ldavis_el1920814730989532884661821492\", ldavis_el1920814730989532884661821492_data);\n",
       "      });\n",
       "    });\n",
       "}else{\n",
       "    // require.js not available: dynamically load d3 & LDAvis\n",
       "    LDAvis_load_lib(\"https://d3js.org/d3.v5.js\", function(){\n",
       "         LDAvis_load_lib(\"https://cdn.jsdelivr.net/gh/bmabey/pyLDAvis@3.3.1/pyLDAvis/js/ldavis.v3.0.0.js\", function(){\n",
       "                 new LDAvis(\"#\" + \"ldavis_el1920814730989532884661821492\", ldavis_el1920814730989532884661821492_data);\n",
       "            })\n",
       "         });\n",
       "}\n",
       "</script>"
      ],
      "text/plain": [
       "PreparedData(topic_coordinates=              x         y  topics  cluster       Freq\n",
       "topic                                                \n",
       "0     -0.084899 -0.032951       1        1  32.562491\n",
       "2     -0.186830  0.202742       2        1  20.289847\n",
       "4     -0.092133 -0.259333       3        1  17.640689\n",
       "3      0.101398  0.076453       4        1  15.265683\n",
       "1      0.262464  0.013089       5        1  14.241290, topic_info=        Term        Freq       Total Category  logprob  loglift\n",
       "23     great  708.000000  708.000000  Default  30.0000  30.0000\n",
       "41      good  418.000000  418.000000  Default  29.0000  29.0000\n",
       "50      easy  460.000000  460.000000  Default  28.0000  28.0000\n",
       "9   mattress  336.000000  336.000000  Default  27.0000  27.0000\n",
       "57       old   99.000000   99.000000  Default  26.0000  26.0000\n",
       "..       ...         ...         ...      ...      ...      ...\n",
       "94    enough   14.815974   68.658026   Topic5  -4.6371   0.4156\n",
       "32      full   13.388434   55.045475   Topic5  -4.7384   0.5353\n",
       "24      high   15.299019  164.960475   Topic5  -4.6050  -0.4289\n",
       "10      much   11.944731   75.127328   Topic5  -4.8525   0.1101\n",
       "45   several   12.198188   90.155943   Topic5  -4.8315  -0.0512\n",
       "\n",
       "[302 rows x 6 columns], token_table=      Topic      Freq        Term\n",
       "term                             \n",
       "96        1  0.717653        able\n",
       "96        4  0.273392        able\n",
       "435       3  0.943810    accurate\n",
       "128       5  0.972583      actual\n",
       "694       4  0.948747  advertised\n",
       "...     ...       ...         ...\n",
       "36        1  0.492348       worth\n",
       "36        2  0.239862       worth\n",
       "36        3  0.151492       worth\n",
       "36        4  0.113619       worth\n",
       "148       5  0.974048       young\n",
       "\n",
       "[347 rows x 3 columns], R=30, lambda_step=0.01, plot_opts={'xlab': 'PC1', 'ylab': 'PC2'}, topic_order=[1, 3, 5, 4, 2])"
      ]
     },
     "execution_count": 30,
     "metadata": {},
     "output_type": "execute_result"
    }
   ],
   "source": [
    "# Visualize topics for 5 stars\n",
    "pyLDAvis.enable_notebook()\n",
    "\n",
    "vis = pyLDAvis.gensim_models.prepare(lda_model_5stars, doc_term_matrix_5stars, dictionary_5stars)\n",
    "\n",
    "vis"
   ]
  },
  {
   "cell_type": "code",
   "execution_count": null,
   "id": "136c789e",
   "metadata": {},
   "outputs": [],
   "source": []
  },
  {
   "cell_type": "code",
   "execution_count": null,
   "id": "1ae356be",
   "metadata": {},
   "outputs": [],
   "source": []
  },
  {
   "cell_type": "code",
   "execution_count": null,
   "id": "71ffee47",
   "metadata": {},
   "outputs": [],
   "source": []
  }
 ],
 "metadata": {
  "kernelspec": {
   "display_name": "PythonData",
   "language": "python",
   "name": "pythondata"
  },
  "language_info": {
   "codemirror_mode": {
    "name": "ipython",
    "version": 3
   },
   "file_extension": ".py",
   "mimetype": "text/x-python",
   "name": "python",
   "nbconvert_exporter": "python",
   "pygments_lexer": "ipython3",
   "version": "3.7.9"
  }
 },
 "nbformat": 4,
 "nbformat_minor": 5
}

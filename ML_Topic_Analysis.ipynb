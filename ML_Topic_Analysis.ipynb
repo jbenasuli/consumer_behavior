{
 "cells": [
  {
   "cell_type": "markdown",
   "id": "a7a9bffd",
   "metadata": {},
   "source": [
    "# Machine learning model to read reviews"
   ]
  },
  {
   "cell_type": "markdown",
   "id": "8efc1885",
   "metadata": {},
   "source": [
    "Question: how can we analyze a large number or reviews with NPL?\n",
    "\n",
    "Goal: enable companies to quickly extract the key topics covered from the customer feedback without having to read through them one by one"
   ]
  },
  {
   "cell_type": "code",
   "execution_count": 1,
   "id": "16f94064",
   "metadata": {},
   "outputs": [],
   "source": [
    "# Import dependencies\n",
    "from sqlalchemy import create_engine\n",
    "import pandas as pd\n",
    "import spacy\n",
    "\n",
    "# Libraries for visualization\n",
    "import matplotlib.pyplot as plt\n",
    "import seaborn as sns\n",
    "\n",
    "\n",
    "#Libraries for lemmatization\n",
    "import nltk\n",
    "import re\n",
    "from nltk.corpus import stopwords\n",
    "from nltk.stem import WordNetLemmatizer\n",
    "from nltk.tokenize import word_tokenize\n",
    "from nltk import FreqDist\n",
    "\n",
    "#Libraries for word cloud\n",
    "from os import path\n",
    "from PIL import Image\n",
    "from wordcloud import WordCloud, STOPWORDS"
   ]
  },
  {
   "cell_type": "code",
   "execution_count": 3,
   "id": "3b0ca876",
   "metadata": {},
   "outputs": [],
   "source": [
    "# Postgres username, password, and database name\n",
    "\n",
    "POSTGRES_ADDRESS = 'mypostgresdb.cwuhtytzosg8.us-east-2.rds.amazonaws.com' \n",
    "POSTGRES_PORT = '5432'\n",
    "POSTGRES_USERNAME = 'root' \n",
    "POSTGRES_PASSWORD = 'XXXX' ## CHANGE THIS TO YOUR PANOPLY/POSTGRES PASSWORD\n",
    "POSTGRES_DBNAME = 'my_data_class_db'\n",
    "# A long string that contains the necessary Postgres login information\n",
    "postgres_str = ('postgresql://{username}:{password}@{ipaddress}:{port}/{dbname}'\n",
    ".format(username=POSTGRES_USERNAME,\n",
    "password=POSTGRES_PASSWORD,\n",
    "ipaddress=POSTGRES_ADDRESS,\n",
    "port=POSTGRES_PORT,\n",
    "dbname=POSTGRES_DBNAME))\n",
    "# Create the connection\n",
    "cnx = create_engine(postgres_str)"
   ]
  },
  {
   "cell_type": "code",
   "execution_count": 5,
   "id": "03434cf8",
   "metadata": {},
   "outputs": [
    {
     "data": {
      "text/html": [
       "<div>\n",
       "<style scoped>\n",
       "    .dataframe tbody tr th:only-of-type {\n",
       "        vertical-align: middle;\n",
       "    }\n",
       "\n",
       "    .dataframe tbody tr th {\n",
       "        vertical-align: top;\n",
       "    }\n",
       "\n",
       "    .dataframe thead th {\n",
       "        text-align: right;\n",
       "    }\n",
       "</style>\n",
       "<table border=\"1\" class=\"dataframe\">\n",
       "  <thead>\n",
       "    <tr style=\"text-align: right;\">\n",
       "      <th></th>\n",
       "      <th>customer_id</th>\n",
       "      <th>review_id</th>\n",
       "      <th>star_rating</th>\n",
       "      <th>review_headline</th>\n",
       "      <th>review_body</th>\n",
       "    </tr>\n",
       "  </thead>\n",
       "  <tbody>\n",
       "    <tr>\n",
       "      <th>0</th>\n",
       "      <td>51982153</td>\n",
       "      <td>R1DZ76NBD2TX55</td>\n",
       "      <td>5</td>\n",
       "      <td>my wife and i had to pick one of these up over...</td>\n",
       "      <td>my wife and i had to pick one of these up over...</td>\n",
       "    </tr>\n",
       "    <tr>\n",
       "      <th>1</th>\n",
       "      <td>44662747</td>\n",
       "      <td>R3G4HN08IK8Q5W</td>\n",
       "      <td>5</td>\n",
       "      <td>this is big and comfortable  it inflatesdeflat...</td>\n",
       "      <td>this is big and comfortable  it inflatesdeflat...</td>\n",
       "    </tr>\n",
       "    <tr>\n",
       "      <th>2</th>\n",
       "      <td>17097525</td>\n",
       "      <td>R1S3TBZK71L487</td>\n",
       "      <td>1</td>\n",
       "      <td>horrible it was so comfortable for the first f...</td>\n",
       "      <td>horrible it was so comfortable for the first f...</td>\n",
       "    </tr>\n",
       "    <tr>\n",
       "      <th>3</th>\n",
       "      <td>29924839</td>\n",
       "      <td>R9P8YG335IDYV</td>\n",
       "      <td>5</td>\n",
       "      <td>we bought this so our friends kids would have ...</td>\n",
       "      <td>we bought this so our friends kids would have ...</td>\n",
       "    </tr>\n",
       "    <tr>\n",
       "      <th>4</th>\n",
       "      <td>46198682</td>\n",
       "      <td>R5VTP1LCQIATH</td>\n",
       "      <td>4</td>\n",
       "      <td>this bed exceeded my expectations in sturdines...</td>\n",
       "      <td>this bed exceeded my expectations in sturdines...</td>\n",
       "    </tr>\n",
       "  </tbody>\n",
       "</table>\n",
       "</div>"
      ],
      "text/plain": [
       "   customer_id       review_id  star_rating  \\\n",
       "0     51982153  R1DZ76NBD2TX55            5   \n",
       "1     44662747  R3G4HN08IK8Q5W            5   \n",
       "2     17097525  R1S3TBZK71L487            1   \n",
       "3     29924839   R9P8YG335IDYV            5   \n",
       "4     46198682   R5VTP1LCQIATH            4   \n",
       "\n",
       "                                     review_headline  \\\n",
       "0  my wife and i had to pick one of these up over...   \n",
       "1  this is big and comfortable  it inflatesdeflat...   \n",
       "2  horrible it was so comfortable for the first f...   \n",
       "3  we bought this so our friends kids would have ...   \n",
       "4  this bed exceeded my expectations in sturdines...   \n",
       "\n",
       "                                         review_body  \n",
       "0  my wife and i had to pick one of these up over...  \n",
       "1  this is big and comfortable  it inflatesdeflat...  \n",
       "2  horrible it was so comfortable for the first f...  \n",
       "3  we bought this so our friends kids would have ...  \n",
       "4  this bed exceeded my expectations in sturdines...  "
      ]
     },
     "execution_count": 5,
     "metadata": {},
     "output_type": "execute_result"
    }
   ],
   "source": [
    "# 3 Load database for sentiment/topic analysis\n",
    "df = pd.read_sql_query('''SELECT * FROM airmattress_cleaned''', con=cnx)\n",
    "df.head()"
   ]
  },
  {
   "cell_type": "markdown",
   "id": "28316a4c",
   "metadata": {},
   "source": [
    "### Prepare data for ML model"
   ]
  },
  {
   "cell_type": "code",
   "execution_count": 6,
   "id": "1f5fa887",
   "metadata": {},
   "outputs": [],
   "source": [
    "# function to plot most frequent terms\n",
    "def freq_words(x, terms = 30):\n",
    "  all_words = ' '.join([text for text in x])\n",
    "  all_words = all_words.split()\n",
    "\n",
    "  fdist = FreqDist(all_words)\n",
    "  words_df = pd.DataFrame({'word':list(fdist.keys()), 'count':list(fdist.values())})\n",
    "\n",
    "  # selecting top 20 most frequent words\n",
    "  d = words_df.nlargest(columns=\"count\", n = terms) \n",
    "  plt.figure(figsize=(20,5))\n",
    "  ax = sns.barplot(data=d, x= \"word\", y = \"count\", color = 'black')\n",
    "  ax.set(ylabel = 'Count')\n",
    "  plt.show()"
   ]
  },
  {
   "cell_type": "code",
   "execution_count": null,
   "id": "f4d17934",
   "metadata": {},
   "outputs": [],
   "source": []
  },
  {
   "cell_type": "code",
   "execution_count": null,
   "id": "a7763846",
   "metadata": {},
   "outputs": [],
   "source": []
  }
 ],
 "metadata": {
  "kernelspec": {
   "display_name": "PythonData",
   "language": "python",
   "name": "pythondata"
  },
  "language_info": {
   "codemirror_mode": {
    "name": "ipython",
    "version": 3
   },
   "file_extension": ".py",
   "mimetype": "text/x-python",
   "name": "python",
   "nbconvert_exporter": "python",
   "pygments_lexer": "ipython3",
   "version": "3.7.9"
  }
 },
 "nbformat": 4,
 "nbformat_minor": 5
}

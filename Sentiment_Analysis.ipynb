{
 "cells": [
  {
   "cell_type": "code",
   "execution_count": 1,
   "metadata": {},
   "outputs": [
    {
     "name": "stderr",
     "output_type": "stream",
     "text": [
      "[nltk_data] Downloading package stopwords to\n",
      "[nltk_data]     /Users/awebber00/nltk_data...\n",
      "[nltk_data]   Package stopwords is already up-to-date!\n"
     ]
    }
   ],
   "source": [
    "import numpy as np \n",
    "import pandas as pd \n",
    "import re  \n",
    "import nltk \n",
    "nltk.download('stopwords')  \n",
    "from nltk.corpus import stopwords "
   ]
  },
  {
   "cell_type": "code",
   "execution_count": 2,
   "metadata": {},
   "outputs": [
    {
     "data": {
      "text/html": [
       "<div>\n",
       "<style scoped>\n",
       "    .dataframe tbody tr th:only-of-type {\n",
       "        vertical-align: middle;\n",
       "    }\n",
       "\n",
       "    .dataframe tbody tr th {\n",
       "        vertical-align: top;\n",
       "    }\n",
       "\n",
       "    .dataframe thead th {\n",
       "        text-align: right;\n",
       "    }\n",
       "</style>\n",
       "<table border=\"1\" class=\"dataframe\">\n",
       "  <thead>\n",
       "    <tr style=\"text-align: right;\">\n",
       "      <th></th>\n",
       "      <th>customer_id</th>\n",
       "      <th>review_id</th>\n",
       "      <th>star_rating</th>\n",
       "      <th>review_headline</th>\n",
       "      <th>review_body</th>\n",
       "    </tr>\n",
       "  </thead>\n",
       "  <tbody>\n",
       "    <tr>\n",
       "      <th>0</th>\n",
       "      <td>51982153</td>\n",
       "      <td>R1DZ76NBD2TX55</td>\n",
       "      <td>5</td>\n",
       "      <td>my wife and i had to pick one of these up over...</td>\n",
       "      <td>my wife and i had to pick one of these up over...</td>\n",
       "    </tr>\n",
       "    <tr>\n",
       "      <th>1</th>\n",
       "      <td>44662747</td>\n",
       "      <td>R3G4HN08IK8Q5W</td>\n",
       "      <td>5</td>\n",
       "      <td>this is big and comfortable  it inflatesdeflat...</td>\n",
       "      <td>this is big and comfortable  it inflatesdeflat...</td>\n",
       "    </tr>\n",
       "    <tr>\n",
       "      <th>2</th>\n",
       "      <td>17097525</td>\n",
       "      <td>R1S3TBZK71L487</td>\n",
       "      <td>1</td>\n",
       "      <td>horrible it was so comfortable for the first f...</td>\n",
       "      <td>horrible it was so comfortable for the first f...</td>\n",
       "    </tr>\n",
       "    <tr>\n",
       "      <th>3</th>\n",
       "      <td>29924839</td>\n",
       "      <td>R9P8YG335IDYV</td>\n",
       "      <td>5</td>\n",
       "      <td>we bought this so our friends kids would have ...</td>\n",
       "      <td>we bought this so our friends kids would have ...</td>\n",
       "    </tr>\n",
       "    <tr>\n",
       "      <th>4</th>\n",
       "      <td>46198682</td>\n",
       "      <td>R5VTP1LCQIATH</td>\n",
       "      <td>4</td>\n",
       "      <td>this bed exceeded my expectations in sturdines...</td>\n",
       "      <td>this bed exceeded my expectations in sturdines...</td>\n",
       "    </tr>\n",
       "    <tr>\n",
       "      <th>5</th>\n",
       "      <td>11489596</td>\n",
       "      <td>R157632LYK6UT6</td>\n",
       "      <td>1</td>\n",
       "      <td>i wish i could return this item i read almost ...</td>\n",
       "      <td>i wish i could return this item i read almost ...</td>\n",
       "    </tr>\n",
       "    <tr>\n",
       "      <th>6</th>\n",
       "      <td>12256364</td>\n",
       "      <td>R2759URB10Q8RD</td>\n",
       "      <td>1</td>\n",
       "      <td>our bad experience is the same as some others ...</td>\n",
       "      <td>our bad experience is the same as some others ...</td>\n",
       "    </tr>\n",
       "    <tr>\n",
       "      <th>7</th>\n",
       "      <td>22867429</td>\n",
       "      <td>R238AOC9MSH1XZ</td>\n",
       "      <td>5</td>\n",
       "      <td>grandkids love this  so do we  it is comfortab...</td>\n",
       "      <td>grandkids love this  so do we  it is comfortab...</td>\n",
       "    </tr>\n",
       "    <tr>\n",
       "      <th>8</th>\n",
       "      <td>40522779</td>\n",
       "      <td>R3BYPZR2ROSYJ5</td>\n",
       "      <td>5</td>\n",
       "      <td>enough said doesnt deflate yet at least and fe...</td>\n",
       "      <td>enough said doesnt deflate yet at least and fe...</td>\n",
       "    </tr>\n",
       "    <tr>\n",
       "      <th>9</th>\n",
       "      <td>42989339</td>\n",
       "      <td>RM2WGEJDWJY1I</td>\n",
       "      <td>2</td>\n",
       "      <td>this thing popped after 1 month of every day u...</td>\n",
       "      <td>this thing popped after 1 month of every day u...</td>\n",
       "    </tr>\n",
       "  </tbody>\n",
       "</table>\n",
       "</div>"
      ],
      "text/plain": [
       "   customer_id       review_id  star_rating  \\\n",
       "0     51982153  R1DZ76NBD2TX55            5   \n",
       "1     44662747  R3G4HN08IK8Q5W            5   \n",
       "2     17097525  R1S3TBZK71L487            1   \n",
       "3     29924839   R9P8YG335IDYV            5   \n",
       "4     46198682   R5VTP1LCQIATH            4   \n",
       "5     11489596  R157632LYK6UT6            1   \n",
       "6     12256364  R2759URB10Q8RD            1   \n",
       "7     22867429  R238AOC9MSH1XZ            5   \n",
       "8     40522779  R3BYPZR2ROSYJ5            5   \n",
       "9     42989339   RM2WGEJDWJY1I            2   \n",
       "\n",
       "                                     review_headline  \\\n",
       "0  my wife and i had to pick one of these up over...   \n",
       "1  this is big and comfortable  it inflatesdeflat...   \n",
       "2  horrible it was so comfortable for the first f...   \n",
       "3  we bought this so our friends kids would have ...   \n",
       "4  this bed exceeded my expectations in sturdines...   \n",
       "5  i wish i could return this item i read almost ...   \n",
       "6  our bad experience is the same as some others ...   \n",
       "7  grandkids love this  so do we  it is comfortab...   \n",
       "8  enough said doesnt deflate yet at least and fe...   \n",
       "9  this thing popped after 1 month of every day u...   \n",
       "\n",
       "                                         review_body  \n",
       "0  my wife and i had to pick one of these up over...  \n",
       "1  this is big and comfortable  it inflatesdeflat...  \n",
       "2  horrible it was so comfortable for the first f...  \n",
       "3  we bought this so our friends kids would have ...  \n",
       "4  this bed exceeded my expectations in sturdines...  \n",
       "5  i wish i could return this item i read almost ...  \n",
       "6  our bad experience is the same as some others ...  \n",
       "7  grandkids love this  so do we  it is comfortab...  \n",
       "8  enough said doesnt deflate yet at least and fe...  \n",
       "9  this thing popped after 1 month of every day u...  "
      ]
     },
     "execution_count": 2,
     "metadata": {},
     "output_type": "execute_result"
    }
   ],
   "source": [
    "df = pd.read_csv(\"/Users/awebber00/Desktop/Columbia/final_project/airmattress_cleaned.csv\")\n",
    "df.head(10)"
   ]
  },
  {
   "cell_type": "code",
   "execution_count": 3,
   "metadata": {},
   "outputs": [
    {
     "data": {
      "text/plain": [
       "(4753, 5)"
      ]
     },
     "execution_count": 3,
     "metadata": {},
     "output_type": "execute_result"
    }
   ],
   "source": [
    "df.shape"
   ]
  },
  {
   "cell_type": "code",
   "execution_count": 4,
   "metadata": {},
   "outputs": [],
   "source": [
    "%matplotlib inline"
   ]
  },
  {
   "cell_type": "code",
   "execution_count": 5,
   "metadata": {},
   "outputs": [
    {
     "data": {
      "text/plain": [
       "<AxesSubplot:xlabel='star_rating', ylabel='count'>"
      ]
     },
     "execution_count": 5,
     "metadata": {},
     "output_type": "execute_result"
    },
    {
     "data": {
      "image/png": "[encoded data removed]",
      "text/plain": [
       "<Figure size 432x288 with 1 Axes>"
      ]
     },
     "metadata": {
      "needs_background": "light"
     },
     "output_type": "display_data"
    }
   ],
   "source": [
    "import seaborn as sns\n",
    "sns.countplot(x='star_rating', data=df)"
   ]
  },
  {
   "cell_type": "code",
   "execution_count": 6,
   "metadata": {},
   "outputs": [],
   "source": [
    "X = df.iloc[:, 4].values  \n",
    "y = df.iloc[:, 0].values"
   ]
  },
  {
   "cell_type": "code",
   "execution_count": 7,
   "metadata": {},
   "outputs": [],
   "source": [
    "processed_dfs = []\n",
    " \n",
    "for df in range(0, len(X)):  \n",
    "    # Remove all the special characters\n",
    "    processed_df = re.sub(r'\\W', ' ', str(X[df]))\n",
    " \n",
    "    # remove all single characters\n",
    "    processed_df = re.sub(r'\\s+[a-zA-Z]\\s+', ' ', processed_df)\n",
    " \n",
    "    # Remove single characters from the start\n",
    "    processed_df = re.sub(r'\\^[a-zA-Z]\\s+', ' ', processed_df) \n",
    " \n",
    "    # Substituting multiple spaces with single space\n",
    "    processed_df = re.sub(r'\\s+', ' ', processed_df, flags=re.I)\n",
    " \n",
    "    # Removing prefixed 'b'\n",
    "    processed_df = re.sub(r'^b\\s+', '', processed_df)\n",
    " \n",
    "    # Converting to Lowercase\n",
    "    processed_df = processed_df.lower()\n",
    " \n",
    "    processed_dfs.append(processed_df)"
   ]
  },
  {
   "cell_type": "code",
   "execution_count": 8,
   "metadata": {},
   "outputs": [],
   "source": [
    "from sklearn.feature_extraction.text import TfidfVectorizer  \n",
    "tfidfconverter = TfidfVectorizer(max_features=2000, min_df=5, max_df=0.7, stop_words=stopwords.words('english'))  \n",
    "X = tfidfconverter.fit_transform(processed_dfs).toarray()"
   ]
  },
  {
   "cell_type": "code",
   "execution_count": 9,
   "metadata": {},
   "outputs": [],
   "source": [
    "from sklearn.model_selection import train_test_split  \n",
    "X_train, X_test, y_train, y_test = train_test_split(X, y, test_size=5, random_state=0)"
   ]
  },
  {
   "cell_type": "code",
   "execution_count": 10,
   "metadata": {},
   "outputs": [
    {
     "data": {
      "text/plain": [
       "RandomForestClassifier(random_state=0)"
      ]
     },
     "execution_count": 10,
     "metadata": {},
     "output_type": "execute_result"
    }
   ],
   "source": [
    "from sklearn.ensemble import RandomForestClassifier\n",
    "text_classifier = RandomForestClassifier(n_estimators=100, random_state=0)  \n",
    "text_classifier.fit(X_train, y_train)"
   ]
  },
  {
   "cell_type": "code",
   "execution_count": 11,
   "metadata": {},
   "outputs": [],
   "source": [
    "predictions = text_classifier.predict(X_test)"
   ]
  },
  {
   "cell_type": "code",
   "execution_count": 12,
   "metadata": {},
   "outputs": [
    {
     "name": "stdout",
     "output_type": "stream",
     "text": [
      "[[0 0 0 0 0 0 0 0 0 1]\n",
      " [0 0 0 1 0 0 0 0 0 0]\n",
      " [0 0 0 0 0 0 0 0 0 0]\n",
      " [0 0 0 0 0 0 0 0 0 0]\n",
      " [0 0 1 0 0 0 0 0 0 0]\n",
      " [0 0 0 0 0 0 0 0 0 0]\n",
      " [0 0 0 0 0 0 0 1 0 0]\n",
      " [0 0 0 0 0 0 0 0 0 0]\n",
      " [0 0 0 0 0 1 0 0 0 0]\n",
      " [0 0 0 0 0 0 0 0 0 0]]\n",
      "              precision    recall  f1-score   support\n",
      "\n",
      "     1630290       0.00      0.00      0.00       1.0\n",
      "     3016532       0.00      0.00      0.00       1.0\n",
      "    26965789       0.00      0.00      0.00       0.0\n",
      "    27574102       0.00      0.00      0.00       0.0\n",
      "    30585985       0.00      0.00      0.00       1.0\n",
      "    32431746       0.00      0.00      0.00       0.0\n",
      "    35892018       0.00      0.00      0.00       1.0\n",
      "    40499788       0.00      0.00      0.00       0.0\n",
      "    43224175       0.00      0.00      0.00       1.0\n",
      "    52242951       0.00      0.00      0.00       0.0\n",
      "\n",
      "    accuracy                           0.00       5.0\n",
      "   macro avg       0.00      0.00      0.00       5.0\n",
      "weighted avg       0.00      0.00      0.00       5.0\n",
      "\n",
      "0.0\n"
     ]
    },
    {
     "name": "stderr",
     "output_type": "stream",
     "text": [
      "/Users/awebber00/opt/anaconda3/envs/PythonData/lib/python3.7/site-packages/sklearn/metrics/_classification.py:1245: UndefinedMetricWarning: Precision and F-score are ill-defined and being set to 0.0 in labels with no predicted samples. Use `zero_division` parameter to control this behavior.\n",
      "  _warn_prf(average, modifier, msg_start, len(result))\n",
      "/Users/awebber00/opt/anaconda3/envs/PythonData/lib/python3.7/site-packages/sklearn/metrics/_classification.py:1245: UndefinedMetricWarning: Recall and F-score are ill-defined and being set to 0.0 in labels with no true samples. Use `zero_division` parameter to control this behavior.\n",
      "  _warn_prf(average, modifier, msg_start, len(result))\n",
      "/Users/awebber00/opt/anaconda3/envs/PythonData/lib/python3.7/site-packages/sklearn/metrics/_classification.py:1245: UndefinedMetricWarning: Precision and F-score are ill-defined and being set to 0.0 in labels with no predicted samples. Use `zero_division` parameter to control this behavior.\n",
      "  _warn_prf(average, modifier, msg_start, len(result))\n",
      "/Users/awebber00/opt/anaconda3/envs/PythonData/lib/python3.7/site-packages/sklearn/metrics/_classification.py:1245: UndefinedMetricWarning: Recall and F-score are ill-defined and being set to 0.0 in labels with no true samples. Use `zero_division` parameter to control this behavior.\n",
      "  _warn_prf(average, modifier, msg_start, len(result))\n",
      "/Users/awebber00/opt/anaconda3/envs/PythonData/lib/python3.7/site-packages/sklearn/metrics/_classification.py:1245: UndefinedMetricWarning: Precision and F-score are ill-defined and being set to 0.0 in labels with no predicted samples. Use `zero_division` parameter to control this behavior.\n",
      "  _warn_prf(average, modifier, msg_start, len(result))\n",
      "/Users/awebber00/opt/anaconda3/envs/PythonData/lib/python3.7/site-packages/sklearn/metrics/_classification.py:1245: UndefinedMetricWarning: Recall and F-score are ill-defined and being set to 0.0 in labels with no true samples. Use `zero_division` parameter to control this behavior.\n",
      "  _warn_prf(average, modifier, msg_start, len(result))\n"
     ]
    }
   ],
   "source": [
    "from sklearn.metrics import classification_report, confusion_matrix, accuracy_score\n",
    " \n",
    "print(confusion_matrix(y_test,predictions))  \n",
    "print(classification_report(y_test,predictions))  \n",
    "print(accuracy_score(y_test, predictions))"
   ]
  },
  {
   "cell_type": "code",
   "execution_count": null,
   "metadata": {},
   "outputs": [],
   "source": []
  }
 ],
 "metadata": {
  "kernelspec": {
   "display_name": "Python 3",
   "language": "python",
   "name": "python3"
  },
  "language_info": {
   "codemirror_mode": {
    "name": "ipython",
    "version": 3
   },
   "file_extension": ".py",
   "mimetype": "text/x-python",
   "name": "python",
   "nbconvert_exporter": "python",
   "pygments_lexer": "ipython3",
   "version": "3.7.9"
  }
 },
 "nbformat": 4,
 "nbformat_minor": 4
}

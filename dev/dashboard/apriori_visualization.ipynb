{
 "cells": [
  {
   "cell_type": "code",
   "execution_count": 2,
   "metadata": {},
   "outputs": [],
   "source": [
    "# Import dependencies\n",
    "import numpy as np\n",
    "import pandas as pd\n",
    "import re \n",
    "\n",
    "# Import depenencies for data visualization\n",
    "import matplotlib.pyplot as plt  \n",
    "import networkx as nx"
   ]
  },
  {
   "cell_type": "code",
   "execution_count": 6,
   "metadata": {},
   "outputs": [],
   "source": [
    "# Loading Apriori Table\n",
    "apriori_data_to_load = \"Resources/apriori_viz_table_conf60.csv\""
   ]
  },
  {
   "cell_type": "code",
   "execution_count": 7,
   "metadata": {},
   "outputs": [
    {
     "data": {
      "text/html": [
       "<div>\n",
       "<style scoped>\n",
       "    .dataframe tbody tr th:only-of-type {\n",
       "        vertical-align: middle;\n",
       "    }\n",
       "\n",
       "    .dataframe tbody tr th {\n",
       "        vertical-align: top;\n",
       "    }\n",
       "\n",
       "    .dataframe thead th {\n",
       "        text-align: right;\n",
       "    }\n",
       "</style>\n",
       "<table border=\"1\" class=\"dataframe\">\n",
       "  <thead>\n",
       "    <tr style=\"text-align: right;\">\n",
       "      <th></th>\n",
       "      <th>Category</th>\n",
       "      <th>Antecedents IDs</th>\n",
       "      <th>Antecedents Names</th>\n",
       "      <th>Consequent IDs</th>\n",
       "      <th>Consequent Names</th>\n",
       "      <th>confidence</th>\n",
       "    </tr>\n",
       "  </thead>\n",
       "  <tbody>\n",
       "    <tr>\n",
       "      <th>0</th>\n",
       "      <td>Videos</td>\n",
       "      <td>0788802194, 0788812408, 0788812807</td>\n",
       "      <td>Cinderella (Walt Disney's Masterpiece) [VHS], ...</td>\n",
       "      <td>6304401132, 0788805533, 0788806270</td>\n",
       "      <td>Sleeping Beauty (Fully Restored Limited Editio...</td>\n",
       "      <td>1.0</td>\n",
       "    </tr>\n",
       "    <tr>\n",
       "      <th>1</th>\n",
       "      <td>Videos</td>\n",
       "      <td>0788812408, 155890641X, 0788802194, 6304401132...</td>\n",
       "      <td>The Little Mermaid (Fully Restored Special Edi...</td>\n",
       "      <td>6300274195</td>\n",
       "      <td>Dumbo [VHS]</td>\n",
       "      <td>1.0</td>\n",
       "    </tr>\n",
       "    <tr>\n",
       "      <th>2</th>\n",
       "      <td>Videos</td>\n",
       "      <td>155890641X, 6300274195, 0788802194, 6304401132...</td>\n",
       "      <td>Snow White and the Seven Dwarfs (Walt Disney's...</td>\n",
       "      <td>0788812408</td>\n",
       "      <td>The Little Mermaid (Fully Restored Special Edi...</td>\n",
       "      <td>1.0</td>\n",
       "    </tr>\n",
       "    <tr>\n",
       "      <th>3</th>\n",
       "      <td>Videos</td>\n",
       "      <td>155890641X, 0788812408, 0788802194, 6300274195</td>\n",
       "      <td>Snow White and the Seven Dwarfs (Walt Disney's...</td>\n",
       "      <td>6304401132, 0788812807</td>\n",
       "      <td>Sleeping Beauty (Fully Restored Limited Editio...</td>\n",
       "      <td>1.0</td>\n",
       "    </tr>\n",
       "    <tr>\n",
       "      <th>4</th>\n",
       "      <td>Videos</td>\n",
       "      <td>155890641X, 0788812408, 6304401132, 6300274195</td>\n",
       "      <td>Snow White and the Seven Dwarfs (Walt Disney's...</td>\n",
       "      <td>0788802194, 0788812807</td>\n",
       "      <td>Cinderella (Walt Disney's Masterpiece) [VHS], ...</td>\n",
       "      <td>1.0</td>\n",
       "    </tr>\n",
       "  </tbody>\n",
       "</table>\n",
       "</div>"
      ],
      "text/plain": [
       "  Category                                    Antecedents IDs  \\\n",
       "0   Videos                 0788802194, 0788812408, 0788812807   \n",
       "1   Videos  0788812408, 155890641X, 0788802194, 6304401132...   \n",
       "2   Videos  155890641X, 6300274195, 0788802194, 6304401132...   \n",
       "3   Videos     155890641X, 0788812408, 0788802194, 6300274195   \n",
       "4   Videos     155890641X, 0788812408, 6304401132, 6300274195   \n",
       "\n",
       "                                   Antecedents Names  \\\n",
       "0  Cinderella (Walt Disney's Masterpiece) [VHS], ...   \n",
       "1  The Little Mermaid (Fully Restored Special Edi...   \n",
       "2  Snow White and the Seven Dwarfs (Walt Disney's...   \n",
       "3  Snow White and the Seven Dwarfs (Walt Disney's...   \n",
       "4  Snow White and the Seven Dwarfs (Walt Disney's...   \n",
       "\n",
       "                       Consequent IDs  \\\n",
       "0  6304401132, 0788805533, 0788806270   \n",
       "1                          6300274195   \n",
       "2                          0788812408   \n",
       "3              6304401132, 0788812807   \n",
       "4              0788802194, 0788812807   \n",
       "\n",
       "                                    Consequent Names  confidence  \n",
       "0  Sleeping Beauty (Fully Restored Limited Editio...         1.0  \n",
       "1                                     Dumbo [VHS]            1.0  \n",
       "2  The Little Mermaid (Fully Restored Special Edi...         1.0  \n",
       "3  Sleeping Beauty (Fully Restored Limited Editio...         1.0  \n",
       "4  Cinderella (Walt Disney's Masterpiece) [VHS], ...         1.0  "
      ]
     },
     "execution_count": 7,
     "metadata": {},
     "output_type": "execute_result"
    }
   ],
   "source": [
    "# Transporting Data Into DataFrame\n",
    "apriori_viz_df = pd.read_csv(apriori_data_to_load)\n",
    "apriori_viz_df.head()"
   ]
  },
  {
   "cell_type": "code",
   "execution_count": null,
   "metadata": {},
   "outputs": [],
   "source": []
  }
 ],
 "metadata": {
  "kernelspec": {
   "display_name": "PythonData",
   "language": "python",
   "name": "pythondata"
  },
  "language_info": {
   "codemirror_mode": {
    "name": "ipython",
    "version": 3
   },
   "file_extension": ".py",
   "mimetype": "text/x-python",
   "name": "python",
   "nbconvert_exporter": "python",
   "pygments_lexer": "ipython3",
   "version": "3.7.9"
  }
 },
 "nbformat": 4,
 "nbformat_minor": 4
}

{
 "cells": [
  {
   "cell_type": "code",
   "execution_count": 63,
   "metadata": {},
   "outputs": [],
   "source": [
    "# Import dependencies\n",
    "import numpy as np\n",
    "import pandas as pd\n",
    "import re \n",
    "\n",
    "# Import depenencies for data visualization\n",
    "import matplotlib.pyplot as plt  \n",
    "import networkx as nx"
   ]
  },
  {
   "cell_type": "code",
   "execution_count": 64,
   "metadata": {},
   "outputs": [],
   "source": [
    "# Loading Apriori Table\n",
    "apriori_data_to_load = \"Resources/apriori_viz_table_conf60.csv\""
   ]
  },
  {
   "cell_type": "code",
   "execution_count": 65,
   "metadata": {},
   "outputs": [
    {
     "data": {
      "text/html": [
       "<div>\n",
       "<style scoped>\n",
       "    .dataframe tbody tr th:only-of-type {\n",
       "        vertical-align: middle;\n",
       "    }\n",
       "\n",
       "    .dataframe tbody tr th {\n",
       "        vertical-align: top;\n",
       "    }\n",
       "\n",
       "    .dataframe thead th {\n",
       "        text-align: right;\n",
       "    }\n",
       "</style>\n",
       "<table border=\"1\" class=\"dataframe\">\n",
       "  <thead>\n",
       "    <tr style=\"text-align: right;\">\n",
       "      <th></th>\n",
       "      <th>Category</th>\n",
       "      <th>Antecedents IDs</th>\n",
       "      <th>Antecedents Names</th>\n",
       "      <th>Consequent IDs</th>\n",
       "      <th>Consequent Names</th>\n",
       "      <th>confidence</th>\n",
       "    </tr>\n",
       "  </thead>\n",
       "  <tbody>\n",
       "    <tr>\n",
       "      <th>0</th>\n",
       "      <td>Videos</td>\n",
       "      <td>0788802194, 0788812408, 0788812807</td>\n",
       "      <td>Cinderella (Walt Disney's Masterpiece) [VHS], ...</td>\n",
       "      <td>6304401132, 0788805533, 0788806270</td>\n",
       "      <td>Sleeping Beauty (Fully Restored Limited Editio...</td>\n",
       "      <td>1.0</td>\n",
       "    </tr>\n",
       "    <tr>\n",
       "      <th>1</th>\n",
       "      <td>Videos</td>\n",
       "      <td>0788812408, 155890641X, 0788802194, 6304401132...</td>\n",
       "      <td>The Little Mermaid (Fully Restored Special Edi...</td>\n",
       "      <td>6300274195</td>\n",
       "      <td>Dumbo [VHS]</td>\n",
       "      <td>1.0</td>\n",
       "    </tr>\n",
       "    <tr>\n",
       "      <th>2</th>\n",
       "      <td>Videos</td>\n",
       "      <td>155890641X, 6300274195, 0788802194, 6304401132...</td>\n",
       "      <td>Snow White and the Seven Dwarfs (Walt Disney's...</td>\n",
       "      <td>0788812408</td>\n",
       "      <td>The Little Mermaid (Fully Restored Special Edi...</td>\n",
       "      <td>1.0</td>\n",
       "    </tr>\n",
       "    <tr>\n",
       "      <th>3</th>\n",
       "      <td>Videos</td>\n",
       "      <td>155890641X, 0788812408, 0788802194, 6300274195</td>\n",
       "      <td>Snow White and the Seven Dwarfs (Walt Disney's...</td>\n",
       "      <td>6304401132, 0788812807</td>\n",
       "      <td>Sleeping Beauty (Fully Restored Limited Editio...</td>\n",
       "      <td>1.0</td>\n",
       "    </tr>\n",
       "    <tr>\n",
       "      <th>4</th>\n",
       "      <td>Videos</td>\n",
       "      <td>155890641X, 0788812408, 6304401132, 6300274195</td>\n",
       "      <td>Snow White and the Seven Dwarfs (Walt Disney's...</td>\n",
       "      <td>0788802194, 0788812807</td>\n",
       "      <td>Cinderella (Walt Disney's Masterpiece) [VHS], ...</td>\n",
       "      <td>1.0</td>\n",
       "    </tr>\n",
       "  </tbody>\n",
       "</table>\n",
       "</div>"
      ],
      "text/plain": [
       "  Category                                    Antecedents IDs  \\\n",
       "0   Videos                 0788802194, 0788812408, 0788812807   \n",
       "1   Videos  0788812408, 155890641X, 0788802194, 6304401132...   \n",
       "2   Videos  155890641X, 6300274195, 0788802194, 6304401132...   \n",
       "3   Videos     155890641X, 0788812408, 0788802194, 6300274195   \n",
       "4   Videos     155890641X, 0788812408, 6304401132, 6300274195   \n",
       "\n",
       "                                   Antecedents Names  \\\n",
       "0  Cinderella (Walt Disney's Masterpiece) [VHS], ...   \n",
       "1  The Little Mermaid (Fully Restored Special Edi...   \n",
       "2  Snow White and the Seven Dwarfs (Walt Disney's...   \n",
       "3  Snow White and the Seven Dwarfs (Walt Disney's...   \n",
       "4  Snow White and the Seven Dwarfs (Walt Disney's...   \n",
       "\n",
       "                       Consequent IDs  \\\n",
       "0  6304401132, 0788805533, 0788806270   \n",
       "1                          6300274195   \n",
       "2                          0788812408   \n",
       "3              6304401132, 0788812807   \n",
       "4              0788802194, 0788812807   \n",
       "\n",
       "                                    Consequent Names  confidence  \n",
       "0  Sleeping Beauty (Fully Restored Limited Editio...         1.0  \n",
       "1                                     Dumbo [VHS]            1.0  \n",
       "2  The Little Mermaid (Fully Restored Special Edi...         1.0  \n",
       "3  Sleeping Beauty (Fully Restored Limited Editio...         1.0  \n",
       "4  Cinderella (Walt Disney's Masterpiece) [VHS], ...         1.0  "
      ]
     },
     "execution_count": 65,
     "metadata": {},
     "output_type": "execute_result"
    }
   ],
   "source": [
    "# Transporting Data Into DataFrame\n",
    "apriori_viz_df = pd.read_csv(apriori_data_to_load)\n",
    "apriori_viz_df.head()"
   ]
  },
  {
   "cell_type": "code",
   "execution_count": 66,
   "metadata": {},
   "outputs": [
    {
     "data": {
      "text/html": [
       "<div>\n",
       "<style scoped>\n",
       "    .dataframe tbody tr th:only-of-type {\n",
       "        vertical-align: middle;\n",
       "    }\n",
       "\n",
       "    .dataframe tbody tr th {\n",
       "        vertical-align: top;\n",
       "    }\n",
       "\n",
       "    .dataframe thead th {\n",
       "        text-align: right;\n",
       "    }\n",
       "</style>\n",
       "<table border=\"1\" class=\"dataframe\">\n",
       "  <thead>\n",
       "    <tr style=\"text-align: right;\">\n",
       "      <th></th>\n",
       "      <th>Category</th>\n",
       "      <th>Antecedents IDs</th>\n",
       "      <th>Antecedents Names</th>\n",
       "      <th>Consequent IDs</th>\n",
       "      <th>Consequent Names</th>\n",
       "      <th>confidence</th>\n",
       "    </tr>\n",
       "  </thead>\n",
       "  <tbody>\n",
       "    <tr>\n",
       "      <th>0</th>\n",
       "      <td>Videos</td>\n",
       "      <td>0788802194, 0788812408, 0788812807</td>\n",
       "      <td>Cinderella (Walt Disney's Masterpiece) [VHS], ...</td>\n",
       "      <td>6304401132, 0788805533, 0788806270</td>\n",
       "      <td>Sleeping Beauty (Fully Restored Limited Editio...</td>\n",
       "      <td>1.0</td>\n",
       "    </tr>\n",
       "    <tr>\n",
       "      <th>1</th>\n",
       "      <td>Videos</td>\n",
       "      <td>0788812408, 155890641X, 0788802194, 6304401132...</td>\n",
       "      <td>The Little Mermaid (Fully Restored Special Edi...</td>\n",
       "      <td>6300274195</td>\n",
       "      <td>Dumbo [VHS]</td>\n",
       "      <td>1.0</td>\n",
       "    </tr>\n",
       "    <tr>\n",
       "      <th>2</th>\n",
       "      <td>Videos</td>\n",
       "      <td>155890641X, 6300274195, 0788802194, 6304401132...</td>\n",
       "      <td>Snow White and the Seven Dwarfs (Walt Disney's...</td>\n",
       "      <td>0788812408</td>\n",
       "      <td>The Little Mermaid (Fully Restored Special Edi...</td>\n",
       "      <td>1.0</td>\n",
       "    </tr>\n",
       "    <tr>\n",
       "      <th>3</th>\n",
       "      <td>Videos</td>\n",
       "      <td>155890641X, 0788812408, 0788802194, 6300274195</td>\n",
       "      <td>Snow White and the Seven Dwarfs (Walt Disney's...</td>\n",
       "      <td>6304401132, 0788812807</td>\n",
       "      <td>Sleeping Beauty (Fully Restored Limited Editio...</td>\n",
       "      <td>1.0</td>\n",
       "    </tr>\n",
       "    <tr>\n",
       "      <th>4</th>\n",
       "      <td>Videos</td>\n",
       "      <td>155890641X, 0788812408, 6304401132, 6300274195</td>\n",
       "      <td>Snow White and the Seven Dwarfs (Walt Disney's...</td>\n",
       "      <td>0788802194, 0788812807</td>\n",
       "      <td>Cinderella (Walt Disney's Masterpiece) [VHS], ...</td>\n",
       "      <td>1.0</td>\n",
       "    </tr>\n",
       "    <tr>\n",
       "      <th>5</th>\n",
       "      <td>Videos</td>\n",
       "      <td>155890641X, 0788812408, 0788812807, 6300274195</td>\n",
       "      <td>Snow White and the Seven Dwarfs (Walt Disney's...</td>\n",
       "      <td>0788802194, 6304401132</td>\n",
       "      <td>Cinderella (Walt Disney's Masterpiece) [VHS], ...</td>\n",
       "      <td>1.0</td>\n",
       "    </tr>\n",
       "  </tbody>\n",
       "</table>\n",
       "</div>"
      ],
      "text/plain": [
       "  Category                                    Antecedents IDs  \\\n",
       "0   Videos                 0788802194, 0788812408, 0788812807   \n",
       "1   Videos  0788812408, 155890641X, 0788802194, 6304401132...   \n",
       "2   Videos  155890641X, 6300274195, 0788802194, 6304401132...   \n",
       "3   Videos     155890641X, 0788812408, 0788802194, 6300274195   \n",
       "4   Videos     155890641X, 0788812408, 6304401132, 6300274195   \n",
       "5   Videos     155890641X, 0788812408, 0788812807, 6300274195   \n",
       "\n",
       "                                   Antecedents Names  \\\n",
       "0  Cinderella (Walt Disney's Masterpiece) [VHS], ...   \n",
       "1  The Little Mermaid (Fully Restored Special Edi...   \n",
       "2  Snow White and the Seven Dwarfs (Walt Disney's...   \n",
       "3  Snow White and the Seven Dwarfs (Walt Disney's...   \n",
       "4  Snow White and the Seven Dwarfs (Walt Disney's...   \n",
       "5  Snow White and the Seven Dwarfs (Walt Disney's...   \n",
       "\n",
       "                       Consequent IDs  \\\n",
       "0  6304401132, 0788805533, 0788806270   \n",
       "1                          6300274195   \n",
       "2                          0788812408   \n",
       "3              6304401132, 0788812807   \n",
       "4              0788802194, 0788812807   \n",
       "5              0788802194, 6304401132   \n",
       "\n",
       "                                    Consequent Names  confidence  \n",
       "0  Sleeping Beauty (Fully Restored Limited Editio...         1.0  \n",
       "1                                     Dumbo [VHS]            1.0  \n",
       "2  The Little Mermaid (Fully Restored Special Edi...         1.0  \n",
       "3  Sleeping Beauty (Fully Restored Limited Editio...         1.0  \n",
       "4  Cinderella (Walt Disney's Masterpiece) [VHS], ...         1.0  \n",
       "5  Cinderella (Walt Disney's Masterpiece) [VHS], ...         1.0  "
      ]
     },
     "execution_count": 66,
     "metadata": {},
     "output_type": "execute_result"
    }
   ],
   "source": [
    "apriori_viz = apriori_viz_df.iloc[0:6]\n",
    "apriori_viz"
   ]
  },
  {
   "cell_type": "code",
   "execution_count": 70,
   "metadata": {},
   "outputs": [
    {
     "data": {
      "text/html": [
       "<div>\n",
       "<style scoped>\n",
       "    .dataframe tbody tr th:only-of-type {\n",
       "        vertical-align: middle;\n",
       "    }\n",
       "\n",
       "    .dataframe tbody tr th {\n",
       "        vertical-align: top;\n",
       "    }\n",
       "\n",
       "    .dataframe thead th {\n",
       "        text-align: right;\n",
       "    }\n",
       "</style>\n",
       "<table border=\"1\" class=\"dataframe\">\n",
       "  <thead>\n",
       "    <tr style=\"text-align: right;\">\n",
       "      <th></th>\n",
       "      <th>Antecedents Names</th>\n",
       "    </tr>\n",
       "  </thead>\n",
       "  <tbody>\n",
       "    <tr>\n",
       "      <th>0</th>\n",
       "      <td>Cinderella (Walt Disney's Masterpiece) [VHS], ...</td>\n",
       "    </tr>\n",
       "    <tr>\n",
       "      <th>1</th>\n",
       "      <td>The Little Mermaid (Fully Restored Special Edi...</td>\n",
       "    </tr>\n",
       "    <tr>\n",
       "      <th>2</th>\n",
       "      <td>Snow White and the Seven Dwarfs (Walt Disney's...</td>\n",
       "    </tr>\n",
       "    <tr>\n",
       "      <th>3</th>\n",
       "      <td>Snow White and the Seven Dwarfs (Walt Disney's...</td>\n",
       "    </tr>\n",
       "    <tr>\n",
       "      <th>4</th>\n",
       "      <td>Snow White and the Seven Dwarfs (Walt Disney's...</td>\n",
       "    </tr>\n",
       "    <tr>\n",
       "      <th>5</th>\n",
       "      <td>Snow White and the Seven Dwarfs (Walt Disney's...</td>\n",
       "    </tr>\n",
       "  </tbody>\n",
       "</table>\n",
       "</div>"
      ],
      "text/plain": [
       "                                   Antecedents Names\n",
       "0  Cinderella (Walt Disney's Masterpiece) [VHS], ...\n",
       "1  The Little Mermaid (Fully Restored Special Edi...\n",
       "2  Snow White and the Seven Dwarfs (Walt Disney's...\n",
       "3  Snow White and the Seven Dwarfs (Walt Disney's...\n",
       "4  Snow White and the Seven Dwarfs (Walt Disney's...\n",
       "5  Snow White and the Seven Dwarfs (Walt Disney's..."
      ]
     },
     "execution_count": 70,
     "metadata": {},
     "output_type": "execute_result"
    }
   ],
   "source": [
    "apriori_viz[['Antecedents Names']]"
   ]
  },
  {
   "cell_type": "code",
   "execution_count": null,
   "metadata": {},
   "outputs": [],
   "source": []
  },
  {
   "cell_type": "code",
   "execution_count": 72,
   "metadata": {},
   "outputs": [],
   "source": [
    "video_apriori_list = [['Videos', '0788802194', 'Cinderella', '6304401132', 'Sleeping Beauty', 1.0 ],\n",
    "                     ['Videos', '0788812408', 'The Little Mermaid', '0788805533', 'The Lion King II', 1.0],\n",
    "                     ['Videos', '0788812807', 'The Lady and The Tramp', '0788806270', 'Bambi', 1.0 ]]"
   ]
  },
  {
   "cell_type": "code",
   "execution_count": 73,
   "metadata": {},
   "outputs": [
    {
     "data": {
      "text/html": [
       "<div>\n",
       "<style scoped>\n",
       "    .dataframe tbody tr th:only-of-type {\n",
       "        vertical-align: middle;\n",
       "    }\n",
       "\n",
       "    .dataframe tbody tr th {\n",
       "        vertical-align: top;\n",
       "    }\n",
       "\n",
       "    .dataframe thead th {\n",
       "        text-align: right;\n",
       "    }\n",
       "</style>\n",
       "<table border=\"1\" class=\"dataframe\">\n",
       "  <thead>\n",
       "    <tr style=\"text-align: right;\">\n",
       "      <th></th>\n",
       "      <th>Category</th>\n",
       "      <th>Antecedent ID</th>\n",
       "      <th>Antecedent Name</th>\n",
       "      <th>Consequent ID</th>\n",
       "      <th>Consequent Name</th>\n",
       "      <th>Confidence</th>\n",
       "    </tr>\n",
       "  </thead>\n",
       "  <tbody>\n",
       "    <tr>\n",
       "      <th>0</th>\n",
       "      <td>Videos</td>\n",
       "      <td>0788802194</td>\n",
       "      <td>Cinderella</td>\n",
       "      <td>6304401132</td>\n",
       "      <td>Sleeping Beauty</td>\n",
       "      <td>1.0</td>\n",
       "    </tr>\n",
       "    <tr>\n",
       "      <th>1</th>\n",
       "      <td>Videos</td>\n",
       "      <td>0788812408</td>\n",
       "      <td>The Little Mermaid</td>\n",
       "      <td>0788805533</td>\n",
       "      <td>The Lion King II</td>\n",
       "      <td>1.0</td>\n",
       "    </tr>\n",
       "    <tr>\n",
       "      <th>2</th>\n",
       "      <td>Videos</td>\n",
       "      <td>0788812807</td>\n",
       "      <td>The Lady and The Tramp</td>\n",
       "      <td>0788806270</td>\n",
       "      <td>Bambi</td>\n",
       "      <td>1.0</td>\n",
       "    </tr>\n",
       "  </tbody>\n",
       "</table>\n",
       "</div>"
      ],
      "text/plain": [
       "  Category Antecedent ID         Antecedent Name Consequent ID  \\\n",
       "0   Videos    0788802194              Cinderella    6304401132   \n",
       "1   Videos    0788812408      The Little Mermaid    0788805533   \n",
       "2   Videos    0788812807  The Lady and The Tramp    0788806270   \n",
       "\n",
       "    Consequent Name  Confidence  \n",
       "0   Sleeping Beauty         1.0  \n",
       "1  The Lion King II         1.0  \n",
       "2             Bambi         1.0  "
      ]
     },
     "execution_count": 73,
     "metadata": {},
     "output_type": "execute_result"
    }
   ],
   "source": [
    "apriori_cleaned_df = pd.DataFrame(video_apriori_list, columns = ['Category', 'Antecedent ID', 'Antecedent Name', 'Consequent ID', 'Consequent Name', 'Confidence'])\n",
    "apriori_cleaned_df"
   ]
  },
  {
   "cell_type": "code",
   "execution_count": 89,
   "metadata": {},
   "outputs": [
    {
     "data": {
      "image/png": "[encoded data removed]",
      "text/plain": [
       "<Figure size 432x288 with 1 Axes>"
      ]
     },
     "metadata": {},
     "output_type": "display_data"
    },
    {
     "data": {
      "image/png": "[encoded data removed]",
      "text/plain": [
       "<Figure size 432x288 with 1 Axes>"
      ]
     },
     "metadata": {},
     "output_type": "display_data"
    },
    {
     "data": {
      "image/png": "[encoded data removed]",
      "text/plain": [
       "<Figure size 432x288 with 1 Axes>"
      ]
     },
     "metadata": {},
     "output_type": "display_data"
    },
    {
     "data": {
      "image/png": "[encoded data removed]",
      "text/plain": [
       "<Figure size 432x288 with 1 Axes>"
      ]
     },
     "metadata": {},
     "output_type": "display_data"
    },
    {
     "data": {
      "image/png": "[encoded data removed]",
      "text/plain": [
       "<Figure size 432x288 with 1 Axes>"
      ]
     },
     "metadata": {},
     "output_type": "display_data"
    },
    {
     "data": {
      "image/png": "[encoded data removed]",
      "text/plain": [
       "<Figure size 432x288 with 1 Axes>"
      ]
     },
     "metadata": {},
     "output_type": "display_data"
    },
    {
     "data": {
      "image/png": "[encoded data removed]",
      "text/plain": [
       "<Figure size 432x288 with 1 Axes>"
      ]
     },
     "metadata": {},
     "output_type": "display_data"
    },
    {
     "data": {
      "image/png": "[encoded data removed]",
      "text/plain": [
       "<Figure size 432x288 with 1 Axes>"
      ]
     },
     "metadata": {},
     "output_type": "display_data"
    },
    {
     "data": {
      "image/png": "[encoded data removed]",
      "text/plain": [
       "<Figure size 432x288 with 1 Axes>"
      ]
     },
     "metadata": {},
     "output_type": "display_data"
    },
    {
     "data": {
      "image/png": "[encoded data removed]",
      "text/plain": [
       "<Figure size 432x288 with 1 Axes>"
      ]
     },
     "metadata": {},
     "output_type": "display_data"
    },
    {
     "data": {
      "image/png": "[encoded data removed]",
      "text/plain": [
       "<Figure size 432x288 with 1 Axes>"
      ]
     },
     "metadata": {},
     "output_type": "display_data"
    },
    {
     "data": {
      "image/png": "[encoded data removed]",
      "text/plain": [
       "<Figure size 432x288 with 1 Axes>"
      ]
     },
     "metadata": {},
     "output_type": "display_data"
    },
    {
     "data": {
      "image/png": "[encoded data removed]",
      "text/plain": [
       "<Figure size 432x288 with 1 Axes>"
      ]
     },
     "metadata": {},
     "output_type": "display_data"
    }
   ],
   "source": [
    "def apriori_graph(associations, associations_to_show):\n",
    "    xgraph = nx.DiGraph()\n",
    "    apriori_color=[]\n",
    "    N = 50\n",
    "    colors = np.random.rand(N)    \n",
    "    strs=['R0', 'R1', 'R2', 'R3', 'R4', 'R5']\n",
    "\n",
    "    for i in range(associations_to_show):\n",
    "        xgraph.add_nodes_from([\"R\"+str(i)])\n",
    "        for a in associations.iloc[i]['Antecedent ID']:\n",
    "            xgraph.add_nodes_from([a])\n",
    "            xgraph.add_edge(a, \"R\"+str(i), color=colors[i] , weight = 2)\n",
    "        for c in associations.iloc[i]['Consequent ID']:\n",
    "            xgraph.add_nodes_from([c])\n",
    "            xgraph.add_edge(\"R\"+str(i), c, color=colors[i],  weight=2)\n",
    "\n",
    "    for node in xgraph:\n",
    "        found_a_string = False\n",
    "        for item in strs: \n",
    "            if node==item:\n",
    "                found_a_string = True\n",
    "        if found_a_string:\n",
    "            apriori_color.append('yellow')\n",
    "        else:\n",
    "            apriori_color.append('green')       \n",
    "\n",
    "    edges = xgraph.edges()\n",
    "    colors = [xgraph[u][v]['color'] for u,v in edges]\n",
    "    weights = [xgraph[u][v]['weight'] for u,v in edges]\n",
    "\n",
    "    text = nx.spring_layout(xgraph, k=16, scale=1)\n",
    "    nx.draw(xgraph, text, edgelist=edges, node_color=apriori_color, edge_color=colors, width=weights, font_size=16, \n",
    "            with_labels=False)            \n",
    "\n",
    "    for p in text:  \n",
    "        text[p][1] += 0.07\n",
    "        nx.draw_networkx_labels(xgraph, text)\n",
    "        plt.show()\n",
    "\n",
    "apriori_graph(apriori_cleaned_df, 3)\n",
    "\n"
   ]
  },
  {
   "cell_type": "code",
   "execution_count": 13,
   "metadata": {},
   "outputs": [],
   "source": []
  },
  {
   "cell_type": "code",
   "execution_count": null,
   "metadata": {},
   "outputs": [],
   "source": []
  }
 ],
 "metadata": {
  "kernelspec": {
   "display_name": "PythonData",
   "language": "python",
   "name": "pythondata"
  },
  "language_info": {
   "codemirror_mode": {
    "name": "ipython",
    "version": 3
   },
   "file_extension": ".py",
   "mimetype": "text/x-python",
   "name": "python",
   "nbconvert_exporter": "python",
   "pygments_lexer": "ipython3",
   "version": "3.7.9"
  }
 },
 "nbformat": 4,
 "nbformat_minor": 4
}

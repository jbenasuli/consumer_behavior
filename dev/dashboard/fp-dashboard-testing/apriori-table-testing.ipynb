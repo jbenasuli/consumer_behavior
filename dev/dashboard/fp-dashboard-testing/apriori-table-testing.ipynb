{
 "cells": [
  {
   "cell_type": "code",
   "execution_count": 1,
   "id": "0903dad6",
   "metadata": {},
   "outputs": [],
   "source": [
    "import pandas as pd\n",
    "import numpy as np"
   ]
  },
  {
   "cell_type": "code",
   "execution_count": 2,
   "id": "687a1540",
   "metadata": {},
   "outputs": [
    {
     "data": {
      "text/html": [
       "<div>\n",
       "<style scoped>\n",
       "    .dataframe tbody tr th:only-of-type {\n",
       "        vertical-align: middle;\n",
       "    }\n",
       "\n",
       "    .dataframe tbody tr th {\n",
       "        vertical-align: top;\n",
       "    }\n",
       "\n",
       "    .dataframe thead th {\n",
       "        text-align: right;\n",
       "    }\n",
       "</style>\n",
       "<table border=\"1\" class=\"dataframe\">\n",
       "  <thead>\n",
       "    <tr style=\"text-align: right;\">\n",
       "      <th></th>\n",
       "      <th>segment</th>\n",
       "      <th>antecedentIds</th>\n",
       "      <th>antecedentNames</th>\n",
       "      <th>consequentIds</th>\n",
       "      <th>consequentNames</th>\n",
       "      <th>confidence</th>\n",
       "    </tr>\n",
       "  </thead>\n",
       "  <tbody>\n",
       "    <tr>\n",
       "      <th>0</th>\n",
       "      <td>Videos</td>\n",
       "      <td>6304401132, 6303929338, 078881172X</td>\n",
       "      <td>Mulan, Hercules, Lion King</td>\n",
       "      <td>788812408</td>\n",
       "      <td>Alladin</td>\n",
       "      <td>1</td>\n",
       "    </tr>\n",
       "    <tr>\n",
       "      <th>1</th>\n",
       "      <td>Videos</td>\n",
       "      <td>6304401132, 6303929338</td>\n",
       "      <td>Mulan, Hercules</td>\n",
       "      <td>078881172X, 0788812408</td>\n",
       "      <td>Alladin, Little Mermaid</td>\n",
       "      <td>1</td>\n",
       "    </tr>\n",
       "    <tr>\n",
       "      <th>2</th>\n",
       "      <td>Videos</td>\n",
       "      <td>6303929338, 0788812408</td>\n",
       "      <td>Mulan, Hercules</td>\n",
       "      <td>6304401132, 078881172X</td>\n",
       "      <td>Alladin, Little Mermaid</td>\n",
       "      <td>1</td>\n",
       "    </tr>\n",
       "  </tbody>\n",
       "</table>\n",
       "</div>"
      ],
      "text/plain": [
       "  segment                       antecedentIds             antecedentNames  \\\n",
       "0  Videos  6304401132, 6303929338, 078881172X  Mulan, Hercules, Lion King   \n",
       "1  Videos              6304401132, 6303929338             Mulan, Hercules   \n",
       "2  Videos              6303929338, 0788812408             Mulan, Hercules   \n",
       "\n",
       "            consequentIds          consequentNames  confidence  \n",
       "0               788812408                  Alladin           1  \n",
       "1  078881172X, 0788812408  Alladin, Little Mermaid           1  \n",
       "2  6304401132, 078881172X  Alladin, Little Mermaid           1  "
      ]
     },
     "execution_count": 2,
     "metadata": {},
     "output_type": "execute_result"
    }
   ],
   "source": [
    "sample_table_df = pd.read_csv('sample_upload.csv')\n",
    "sample_table_df"
   ]
  },
  {
   "cell_type": "code",
   "execution_count": 4,
   "id": "cc03a787",
   "metadata": {},
   "outputs": [
    {
     "data": {
      "text/plain": [
       "0    6304401132, 6303929338, 078881172X\n",
       "Name: antecedentIds, dtype: object"
      ]
     },
     "execution_count": 4,
     "metadata": {},
     "output_type": "execute_result"
    }
   ],
   "source": [
    "sample_table_df.head(1)['antecedentIds']"
   ]
  },
  {
   "cell_type": "code",
   "execution_count": 5,
   "id": "760b6b2c",
   "metadata": {},
   "outputs": [],
   "source": [
    "sample_table_df.to_json(r'apriori-static/js/sample_table.json',orient='records')"
   ]
  },
  {
   "cell_type": "code",
   "execution_count": null,
   "id": "92314611",
   "metadata": {},
   "outputs": [],
   "source": []
  }
 ],
 "metadata": {
  "kernelspec": {
   "display_name": "pythondata",
   "language": "python",
   "name": "pythondata"
  },
  "language_info": {
   "codemirror_mode": {
    "name": "ipython",
    "version": 3
   },
   "file_extension": ".py",
   "mimetype": "text/x-python",
   "name": "python",
   "nbconvert_exporter": "python",
   "pygments_lexer": "ipython3",
   "version": "3.8.8"
  }
 },
 "nbformat": 4,
 "nbformat_minor": 5
}

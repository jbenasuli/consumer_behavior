{
  "nbformat": 4,
  "nbformat_minor": 0,
  "metadata": {
    "colab": {
      "name": "PRELIM_ETL-furniture",
      "provenance": [],
      "collapsed_sections": [],
      "machine_shape": "hm",
      "include_colab_link": true
    },
    "kernelspec": {
      "name": "python3",
      "display_name": "Python 3"
    },
    "nteract": {
      "version": "0.12.3"
    },
    "language_info": {
      "name": "python"
    }
  },
  "cells": [
    {
      "cell_type": "markdown",
      "metadata": {
        "id": "view-in-github",
        "colab_type": "text"
      },
      "source": [
        "<a href=\"https://colab.research.google.com/github/jbenasuli/final_project/blob/database/dev/database/Amazon_Vine-PySpark-ETLs/%20PRELIM_ETL_furniture.ipynb\" target=\"_parent\"><img src=\"https://colab.research.google.com/assets/colab-badge.svg\" alt=\"Open In Colab\"/></a>"
      ]
    },
    {
      "cell_type": "code",
      "metadata": {
        "id": "V58rxea0HqSa",
        "colab": {
          "base_uri": "https://localhost:8080/"
        },
        "outputId": "1221bb5b-eaf9-4a84-9662-2b9b575fea70"
      },
      "source": [
        "import os\n",
        "# Find the latest version of spark 2.0  from http://www-us.apache.org/dist/spark/ and enter as the spark version\n",
        "# For example:\n",
        "# spark_version = 'spark-3.1.1'\n",
        "spark_version = 'spark-3.1.1'\n",
        "os.environ['SPARK_VERSION']=spark_version\n",
        "\n",
        "# Install Spark and Java\n",
        "!apt-get update\n",
        "!apt-get install openjdk-11-jdk-headless -qq > /dev/null\n",
        "!wget -q http://www-us.apache.org/dist/spark/$SPARK_VERSION/$SPARK_VERSION-bin-hadoop2.7.tgz\n",
        "!tar xf $SPARK_VERSION-bin-hadoop2.7.tgz\n",
        "!pip install -q findspark\n",
        "\n",
        "# Set Environment Variables\n",
        "import os\n",
        "os.environ[\"JAVA_HOME\"] = \"/usr/lib/jvm/java-11-openjdk-amd64\"\n",
        "os.environ[\"SPARK_HOME\"] = f\"/content/{spark_version}-bin-hadoop2.7\"\n",
        "\n",
        "# Start a SparkSession\n",
        "import findspark\n",
        "findspark.init()"
      ],
      "execution_count": 1,
      "outputs": [
        {
          "output_type": "stream",
          "text": [
            "Get:1 https://cloud.r-project.org/bin/linux/ubuntu bionic-cran40/ InRelease [3,626 B]\n",
            "Ign:2 https://developer.download.nvidia.com/compute/cuda/repos/ubuntu1804/x86_64  InRelease\n",
            "Get:3 https://cloud.r-project.org/bin/linux/ubuntu bionic-cran40/ Packages [53.9 kB]\n",
            "Ign:4 https://developer.download.nvidia.com/compute/machine-learning/repos/ubuntu1804/x86_64  InRelease\n",
            "Get:5 https://developer.download.nvidia.com/compute/cuda/repos/ubuntu1804/x86_64  Release [697 B]\n",
            "Get:6 http://ppa.launchpad.net/c2d4u.team/c2d4u4.0+/ubuntu bionic InRelease [15.9 kB]\n",
            "Hit:7 http://archive.ubuntu.com/ubuntu bionic InRelease\n",
            "Hit:8 https://developer.download.nvidia.com/compute/machine-learning/repos/ubuntu1804/x86_64  Release\n",
            "Get:9 https://developer.download.nvidia.com/compute/cuda/repos/ubuntu1804/x86_64  Release.gpg [836 B]\n",
            "Get:10 http://security.ubuntu.com/ubuntu bionic-security InRelease [88.7 kB]\n",
            "Get:11 http://archive.ubuntu.com/ubuntu bionic-updates InRelease [88.7 kB]\n",
            "Hit:13 http://ppa.launchpad.net/cran/libgit2/ubuntu bionic InRelease\n",
            "Ign:14 https://developer.download.nvidia.com/compute/cuda/repos/ubuntu1804/x86_64  Packages\n",
            "Get:14 https://developer.download.nvidia.com/compute/cuda/repos/ubuntu1804/x86_64  Packages [742 kB]\n",
            "Get:15 http://archive.ubuntu.com/ubuntu bionic-backports InRelease [74.6 kB]\n",
            "Hit:16 http://ppa.launchpad.net/deadsnakes/ppa/ubuntu bionic InRelease\n",
            "Get:17 http://security.ubuntu.com/ubuntu bionic-security/universe amd64 Packages [1,410 kB]\n",
            "Get:18 http://ppa.launchpad.net/graphics-drivers/ppa/ubuntu bionic InRelease [15.9 kB]\n",
            "Get:19 http://archive.ubuntu.com/ubuntu bionic-updates/multiverse amd64 Packages [31.6 kB]\n",
            "Get:20 http://archive.ubuntu.com/ubuntu bionic-updates/restricted amd64 Packages [426 kB]\n",
            "Get:21 http://ppa.launchpad.net/c2d4u.team/c2d4u4.0+/ubuntu bionic/main Sources [1,759 kB]\n",
            "Get:22 http://security.ubuntu.com/ubuntu bionic-security/restricted amd64 Packages [396 kB]\n",
            "Get:23 http://security.ubuntu.com/ubuntu bionic-security/main amd64 Packages [2,116 kB]\n",
            "Get:24 http://archive.ubuntu.com/ubuntu bionic-updates/universe amd64 Packages [2,181 kB]\n",
            "Get:25 http://security.ubuntu.com/ubuntu bionic-security/multiverse amd64 Packages [24.7 kB]\n",
            "Get:26 http://archive.ubuntu.com/ubuntu bionic-updates/main amd64 Packages [2,546 kB]\n",
            "Get:27 http://ppa.launchpad.net/c2d4u.team/c2d4u4.0+/ubuntu bionic/main amd64 Packages [900 kB]\n",
            "Get:28 http://ppa.launchpad.net/graphics-drivers/ppa/ubuntu bionic/main amd64 Packages [53.2 kB]\n",
            "Fetched 12.9 MB in 7s (1,798 kB/s)\n",
            "Reading package lists... Done\n"
          ],
          "name": "stdout"
        }
      ]
    },
    {
      "cell_type": "code",
      "metadata": {
        "id": "_xKwTpATHqSe",
        "colab": {
          "base_uri": "https://localhost:8080/"
        },
        "outputId": "d2e7918f-4770-4782-c603-a24aa6a07f00"
      },
      "source": [
        "# Download the Postgres driver that will allow Spark to interact with Postgres.\n",
        "!wget https://jdbc.postgresql.org/download/postgresql-42.2.16.jar"
      ],
      "execution_count": 2,
      "outputs": [
        {
          "output_type": "stream",
          "text": [
            "--2021-05-02 23:40:55--  https://jdbc.postgresql.org/download/postgresql-42.2.16.jar\n",
            "Resolving jdbc.postgresql.org (jdbc.postgresql.org)... 72.32.157.228, 2001:4800:3e1:1::228\n",
            "Connecting to jdbc.postgresql.org (jdbc.postgresql.org)|72.32.157.228|:443... connected.\n",
            "HTTP request sent, awaiting response... 200 OK\n",
            "Length: 1002883 (979K) [application/java-archive]\n",
            "Saving to: ‘postgresql-42.2.16.jar’\n",
            "\n",
            "postgresql-42.2.16. 100%[===================>] 979.38K  1.21MB/s    in 0.8s    \n",
            "\n",
            "2021-05-02 23:40:57 (1.21 MB/s) - ‘postgresql-42.2.16.jar’ saved [1002883/1002883]\n",
            "\n"
          ],
          "name": "stdout"
        }
      ]
    },
    {
      "cell_type": "code",
      "metadata": {
        "id": "MMqDAjVS0KN9"
      },
      "source": [
        "from pyspark.sql import SparkSession\n",
        "spark = SparkSession.builder.appName(\"BigData-Challenge\").config(\"spark.driver.extraClassPath\",\"/content/postgresql-42.2.16.jar\").getOrCreate()"
      ],
      "execution_count": 3,
      "outputs": []
    },
    {
      "cell_type": "code",
      "metadata": {
        "id": "hbbRSWPwJw4k"
      },
      "source": [
        "import datetime\n",
        "from pyspark.sql.functions import to_date\n",
        "from pyspark.sql.functions import col\n",
        "from pyspark.sql.types import StructField, StringType, IntegerType, StructType, BooleanType, DateType\n",
        "from pyspark import SparkFiles"
      ],
      "execution_count": 4,
      "outputs": []
    },
    {
      "cell_type": "markdown",
      "metadata": {
        "id": "cyBsySGuY-9V"
      },
      "source": [
        "### Load Amazon Data into Spark DataFrame"
      ]
    },
    {
      "cell_type": "markdown",
      "metadata": {
        "id": "VHY6-k4WgZRO"
      },
      "source": [
        "Note: Enter URL for Desired Dataset"
      ]
    },
    {
      "cell_type": "code",
      "metadata": {
        "id": "CtCmBhQJY-9Z",
        "colab": {
          "base_uri": "https://localhost:8080/"
        },
        "outputId": "bfe1c953-096c-4e54-9da9-2f8994bc664f"
      },
      "source": [
        "#1 load product segment\n",
        "url = \"https://s3.amazonaws.com/amazon-reviews-pds/tsv/amazon_reviews_us_Furniture_v1_00.tsv.gz\"\n",
        "spark.sparkContext.addFile(url)\n",
        "df = spark.read.option(\"encoding\", \"UTF-8\").csv(SparkFiles.get(\"\"), sep=\"\\t\", header=True, inferSchema=True)\n",
        "df.show()"
      ],
      "execution_count": 5,
      "outputs": [
        {
          "output_type": "stream",
          "text": [
            "+-----------+-----------+--------------+----------+--------------+--------------------+----------------+-----------+-------------+-----------+----+-----------------+--------------------+--------------------+-----------+\n",
            "|marketplace|customer_id|     review_id|product_id|product_parent|       product_title|product_category|star_rating|helpful_votes|total_votes|vine|verified_purchase|     review_headline|         review_body|review_date|\n",
            "+-----------+-----------+--------------+----------+--------------+--------------------+----------------+-----------+-------------+-----------+----+-----------------+--------------------+--------------------+-----------+\n",
            "|         US|   24509695|R3VR960AHLFKDV|B004HB5E0E|     488241329|Shoal Creek Compu...|       Furniture|          4|            0|          0|   N|                Y|... desk is very ...|This desk is very...| 2015-08-31|\n",
            "|         US|   34731776|R16LGVMFKIUT0G|B0042TNMMS|     205864445|Dorel Home Produc...|       Furniture|          5|            0|          0|   N|                Y|          Five Stars|          Great item| 2015-08-31|\n",
            "|         US|    1272331|R1AIMEEPYHMOE4|B0030MPBZ4|     124663823|Bathroom Vanity T...|       Furniture|          5|            1|          1|   N|                Y|          Five Stars|Perfect fit for m...| 2015-08-31|\n",
            "|         US|   45284262|R1892CCSZWZ9SR|B005G02ESA|     382367578|Sleep Master Ulti...|       Furniture|          3|            0|          0|   N|                Y|         Good enough|We use this on a ...| 2015-08-31|\n",
            "|         US|   30003523|R285P679YWVKD1|B005JS8AUA|     309497463|1 1/4\" GashGuards...|       Furniture|          3|            0|          0|   N|                N|Gash Gards for da...|The product is fi...| 2015-08-31|\n",
            "|         US|   18311821| RLB33HJBXHZHU|B00AVUQQGQ|     574537906|Serta Bonded Leat...|       Furniture|          5|            0|          0|   N|                Y|          Five Stars|Love this product...| 2015-08-31|\n",
            "|         US|   42943632|R1VGTZ94DBAD6A|B00CFY20GQ|     407473883|Prepac Shoe Stora...|       Furniture|          5|            2|          2|   N|                Y|   I love this bench|I love this bench...| 2015-08-31|\n",
            "|         US|   43157304|R168KF82ICSOHD|B00FKC48QA|     435120460|HomCom PU Leather...|       Furniture|          5|            0|          0|   N|                Y|Great storage cap...|Have had this for...| 2015-08-31|\n",
            "|         US|   51918480|R20DIYIJ0OCMOG|B00N9IAL9K|     356495985|  Folding Step Stool|       Furniture|          5|            0|          0|   N|                Y|This is the best ...|This is the best ...| 2015-08-31|\n",
            "|         US|   14522766| RD46RNVOHNZSC|B001T4XU1C|     243050228|Ace Bayou Adult V...|       Furniture|          5|            0|          0|   N|                Y|    great for price!|    my son loves it!| 2015-08-31|\n",
            "|         US|   43054112|R2JDOCETTM3AXS|B002HRFLBC|      93574483|4D Concepts Audio...|       Furniture|          5|            0|          0|   N|                Y|          Five Stars|       Great product| 2015-08-31|\n",
            "|         US|   26622950|R33YMW36IDZ6LE|B006MISZOC|     941823468|Zinus SC-SBBK-14N...|       Furniture|          5|            0|          0|   N|                Y|             perfect|bought with sleep...| 2015-08-31|\n",
            "|         US|   17988940|R30ZGGUHZ04C1S|B008BMGABC|     460567746|Poundex Marble Di...|       Furniture|          5|            1|          1|   N|                Y|   Very satisfied!!!|Delivery was on t...| 2015-08-31|\n",
            "|         US|   18444952| RS2EZU76IK2BT|B00CO2VH5Y|     829613894|Safavieh Lyndhurs...|       Furniture|          5|            0|          0|   N|                Y|soft and great fo...|Exactly as pictur...| 2015-08-31|\n",
            "|         US|   16937084|R1GJC1BP028XO9|B00LI4RJQ0|     816478187|Sauder Boone Moun...|       Furniture|          5|            2|          3|   N|                Y|        Great table.|Beautiful table. ...| 2015-08-31|\n",
            "|         US|   23665632|R2VKJPGXXEK5GP|B0046EC1D0|     358594389|Winsome Wood Brea...|       Furniture|          1|            0|          0|   N|                Y|Not what I expect...|I have cleaned up...| 2015-08-31|\n",
            "|         US|    4110125|R17KS83G3KLT97|B00DQQPL36|     312571325|HODEDAH IMPORT Me...|       Furniture|          3|            0|          0|   N|                Y|         Three Stars|First one came in...| 2015-08-31|\n",
            "|         US|     107621|R3PQL8SR4NEHWL|B003X7RWB2|     402665054|Flash Furniture H...|       Furniture|          4|            0|          0|   N|                Y|          Four Stars|Good deal to get ...| 2015-08-31|\n",
            "|         US|    2415090|R2F5WW7WNO5RRG|B001TJYPJ8|     854989315|Sleep Revolution ...|       Furniture|          5|            0|          0|   N|                Y|          Five Stars|Comfortable and e...| 2015-08-31|\n",
            "|         US|   48285966|R3UDJKVWQCFIC9|B000TMHX9A|     814079288|Flash Furniture V...|       Furniture|          5|            0|          0|   N|                Y|Very comfortable....|As advertised. Ve...| 2015-08-31|\n",
            "+-----------+-----------+--------------+----------+--------------+--------------------+----------------+-----------+-------------+-----------+----+-----------------+--------------------+--------------------+-----------+\n",
            "only showing top 20 rows\n",
            "\n"
          ],
          "name": "stdout"
        }
      ]
    },
    {
      "cell_type": "markdown",
      "metadata": {
        "id": "2yUSe55VY-9t"
      },
      "source": [
        "### Create DataFrame - Perform Preliminary Cleaning"
      ]
    },
    {
      "cell_type": "code",
      "metadata": {
        "id": "C8REmY1aY-9u",
        "colab": {
          "base_uri": "https://localhost:8080/"
        },
        "outputId": "dac267d5-dfae-43aa-a99d-0924ff5a4639"
      },
      "source": [
        "#1 Check the schema, print row & column count\n",
        "df.printSchema()\n",
        "print((df.count(), len(df.columns)))"
      ],
      "execution_count": 6,
      "outputs": [
        {
          "output_type": "stream",
          "text": [
            "root\n",
            " |-- marketplace: string (nullable = true)\n",
            " |-- customer_id: integer (nullable = true)\n",
            " |-- review_id: string (nullable = true)\n",
            " |-- product_id: string (nullable = true)\n",
            " |-- product_parent: integer (nullable = true)\n",
            " |-- product_title: string (nullable = true)\n",
            " |-- product_category: string (nullable = true)\n",
            " |-- star_rating: integer (nullable = true)\n",
            " |-- helpful_votes: integer (nullable = true)\n",
            " |-- total_votes: integer (nullable = true)\n",
            " |-- vine: string (nullable = true)\n",
            " |-- verified_purchase: string (nullable = true)\n",
            " |-- review_headline: string (nullable = true)\n",
            " |-- review_body: string (nullable = true)\n",
            " |-- review_date: string (nullable = true)\n",
            "\n",
            "(792113, 15)\n"
          ],
          "name": "stdout"
        }
      ]
    },
    {
      "cell_type": "code",
      "metadata": {
        "id": "oGosPEeAKCFm",
        "colab": {
          "base_uri": "https://localhost:8080/"
        },
        "outputId": "7d17f7bc-85a0-4c21-f33d-2485cfe7e70a"
      },
      "source": [
        "#2 Drop the round 1 columns\n",
        "columns_to_drop = ['marketplace', 'product_parent', 'vine', 'review_headline', 'review_body', 'review_date']\n",
        "df_dropped = df.drop(*columns_to_drop)\n",
        "df_dropped.show()"
      ],
      "execution_count": 7,
      "outputs": [
        {
          "output_type": "stream",
          "text": [
            "+-----------+--------------+----------+--------------------+----------------+-----------+-------------+-----------+-----------------+\n",
            "|customer_id|     review_id|product_id|       product_title|product_category|star_rating|helpful_votes|total_votes|verified_purchase|\n",
            "+-----------+--------------+----------+--------------------+----------------+-----------+-------------+-----------+-----------------+\n",
            "|   24509695|R3VR960AHLFKDV|B004HB5E0E|Shoal Creek Compu...|       Furniture|          4|            0|          0|                Y|\n",
            "|   34731776|R16LGVMFKIUT0G|B0042TNMMS|Dorel Home Produc...|       Furniture|          5|            0|          0|                Y|\n",
            "|    1272331|R1AIMEEPYHMOE4|B0030MPBZ4|Bathroom Vanity T...|       Furniture|          5|            1|          1|                Y|\n",
            "|   45284262|R1892CCSZWZ9SR|B005G02ESA|Sleep Master Ulti...|       Furniture|          3|            0|          0|                Y|\n",
            "|   30003523|R285P679YWVKD1|B005JS8AUA|1 1/4\" GashGuards...|       Furniture|          3|            0|          0|                N|\n",
            "|   18311821| RLB33HJBXHZHU|B00AVUQQGQ|Serta Bonded Leat...|       Furniture|          5|            0|          0|                Y|\n",
            "|   42943632|R1VGTZ94DBAD6A|B00CFY20GQ|Prepac Shoe Stora...|       Furniture|          5|            2|          2|                Y|\n",
            "|   43157304|R168KF82ICSOHD|B00FKC48QA|HomCom PU Leather...|       Furniture|          5|            0|          0|                Y|\n",
            "|   51918480|R20DIYIJ0OCMOG|B00N9IAL9K|  Folding Step Stool|       Furniture|          5|            0|          0|                Y|\n",
            "|   14522766| RD46RNVOHNZSC|B001T4XU1C|Ace Bayou Adult V...|       Furniture|          5|            0|          0|                Y|\n",
            "|   43054112|R2JDOCETTM3AXS|B002HRFLBC|4D Concepts Audio...|       Furniture|          5|            0|          0|                Y|\n",
            "|   26622950|R33YMW36IDZ6LE|B006MISZOC|Zinus SC-SBBK-14N...|       Furniture|          5|            0|          0|                Y|\n",
            "|   17988940|R30ZGGUHZ04C1S|B008BMGABC|Poundex Marble Di...|       Furniture|          5|            1|          1|                Y|\n",
            "|   18444952| RS2EZU76IK2BT|B00CO2VH5Y|Safavieh Lyndhurs...|       Furniture|          5|            0|          0|                Y|\n",
            "|   16937084|R1GJC1BP028XO9|B00LI4RJQ0|Sauder Boone Moun...|       Furniture|          5|            2|          3|                Y|\n",
            "|   23665632|R2VKJPGXXEK5GP|B0046EC1D0|Winsome Wood Brea...|       Furniture|          1|            0|          0|                Y|\n",
            "|    4110125|R17KS83G3KLT97|B00DQQPL36|HODEDAH IMPORT Me...|       Furniture|          3|            0|          0|                Y|\n",
            "|     107621|R3PQL8SR4NEHWL|B003X7RWB2|Flash Furniture H...|       Furniture|          4|            0|          0|                Y|\n",
            "|    2415090|R2F5WW7WNO5RRG|B001TJYPJ8|Sleep Revolution ...|       Furniture|          5|            0|          0|                Y|\n",
            "|   48285966|R3UDJKVWQCFIC9|B000TMHX9A|Flash Furniture V...|       Furniture|          5|            0|          0|                Y|\n",
            "+-----------+--------------+----------+--------------------+----------------+-----------+-------------+-----------+-----------------+\n",
            "only showing top 20 rows\n",
            "\n"
          ],
          "name": "stdout"
        }
      ]
    },
    {
      "cell_type": "code",
      "metadata": {
        "id": "1cWyyOQyKB8v",
        "colab": {
          "base_uri": "https://localhost:8080/"
        },
        "outputId": "7e541331-c01f-4080-e948-e3cbef0b3c58"
      },
      "source": [
        "#3 Filter Step 1:\n",
        "df_filtered = df_dropped.filter(df_dropped.verified_purchase == 'Y')\n",
        "df_filtered.show\n",
        "print((df_filtered.count(), len(df_filtered.columns)))"
      ],
      "execution_count": 8,
      "outputs": [
        {
          "output_type": "stream",
          "text": [
            "(718192, 9)\n"
          ],
          "name": "stdout"
        }
      ]
    },
    {
      "cell_type": "code",
      "metadata": {
        "id": "fVJDJ4LBRHCV",
        "colab": {
          "base_uri": "https://localhost:8080/"
        },
        "outputId": "20317e18-e804-4e6c-907e-900b58e47f71"
      },
      "source": [
        "#4 drop filtered verified_purchase column\n",
        "columns_to_drop = ['verified_purchase']\n",
        "df_dropped_2 = df_filtered.drop(*columns_to_drop)\n",
        "df_dropped_2.show()"
      ],
      "execution_count": 9,
      "outputs": [
        {
          "output_type": "stream",
          "text": [
            "+-----------+--------------+----------+--------------------+----------------+-----------+-------------+-----------+\n",
            "|customer_id|     review_id|product_id|       product_title|product_category|star_rating|helpful_votes|total_votes|\n",
            "+-----------+--------------+----------+--------------------+----------------+-----------+-------------+-----------+\n",
            "|   24509695|R3VR960AHLFKDV|B004HB5E0E|Shoal Creek Compu...|       Furniture|          4|            0|          0|\n",
            "|   34731776|R16LGVMFKIUT0G|B0042TNMMS|Dorel Home Produc...|       Furniture|          5|            0|          0|\n",
            "|    1272331|R1AIMEEPYHMOE4|B0030MPBZ4|Bathroom Vanity T...|       Furniture|          5|            1|          1|\n",
            "|   45284262|R1892CCSZWZ9SR|B005G02ESA|Sleep Master Ulti...|       Furniture|          3|            0|          0|\n",
            "|   18311821| RLB33HJBXHZHU|B00AVUQQGQ|Serta Bonded Leat...|       Furniture|          5|            0|          0|\n",
            "|   42943632|R1VGTZ94DBAD6A|B00CFY20GQ|Prepac Shoe Stora...|       Furniture|          5|            2|          2|\n",
            "|   43157304|R168KF82ICSOHD|B00FKC48QA|HomCom PU Leather...|       Furniture|          5|            0|          0|\n",
            "|   51918480|R20DIYIJ0OCMOG|B00N9IAL9K|  Folding Step Stool|       Furniture|          5|            0|          0|\n",
            "|   14522766| RD46RNVOHNZSC|B001T4XU1C|Ace Bayou Adult V...|       Furniture|          5|            0|          0|\n",
            "|   43054112|R2JDOCETTM3AXS|B002HRFLBC|4D Concepts Audio...|       Furniture|          5|            0|          0|\n",
            "|   26622950|R33YMW36IDZ6LE|B006MISZOC|Zinus SC-SBBK-14N...|       Furniture|          5|            0|          0|\n",
            "|   17988940|R30ZGGUHZ04C1S|B008BMGABC|Poundex Marble Di...|       Furniture|          5|            1|          1|\n",
            "|   18444952| RS2EZU76IK2BT|B00CO2VH5Y|Safavieh Lyndhurs...|       Furniture|          5|            0|          0|\n",
            "|   16937084|R1GJC1BP028XO9|B00LI4RJQ0|Sauder Boone Moun...|       Furniture|          5|            2|          3|\n",
            "|   23665632|R2VKJPGXXEK5GP|B0046EC1D0|Winsome Wood Brea...|       Furniture|          1|            0|          0|\n",
            "|    4110125|R17KS83G3KLT97|B00DQQPL36|HODEDAH IMPORT Me...|       Furniture|          3|            0|          0|\n",
            "|     107621|R3PQL8SR4NEHWL|B003X7RWB2|Flash Furniture H...|       Furniture|          4|            0|          0|\n",
            "|    2415090|R2F5WW7WNO5RRG|B001TJYPJ8|Sleep Revolution ...|       Furniture|          5|            0|          0|\n",
            "|   48285966|R3UDJKVWQCFIC9|B000TMHX9A|Flash Furniture V...|       Furniture|          5|            0|          0|\n",
            "|   33228559|R1MLGVJH3J5W6N|B005MZBB2O|Amelia Floral Mut...|       Furniture|          5|            0|          0|\n",
            "+-----------+--------------+----------+--------------------+----------------+-----------+-------------+-----------+\n",
            "only showing top 20 rows\n",
            "\n"
          ],
          "name": "stdout"
        }
      ]
    },
    {
      "cell_type": "markdown",
      "metadata": {
        "id": "Si3TGL5tHP1Z"
      },
      "source": [
        "## Create Analysis-Specific DFs/Tables\n",
        "### Perform Analysis-Specific Transforms"
      ]
    },
    {
      "cell_type": "markdown",
      "metadata": {
        "id": "hy5OVX7YHaXR"
      },
      "source": [
        "### Segmentation Analysis DF"
      ]
    },
    {
      "cell_type": "code",
      "metadata": {
        "id": "PldvjkUWHCt6",
        "colab": {
          "base_uri": "https://localhost:8080/"
        },
        "outputId": "e0fcd0d2-3dbf-4396-9006-1cad310bb6eb"
      },
      "source": [
        "# 1 Create Segmentation DF by Droppig Addtional Columns\n",
        "segmentation_cols_drop = ['review_id', 'product_id', 'product_title', 'star_rating', 'helpful_votes', 'total_votes']\n",
        "segmentation_dropped_df = df_dropped_2.drop(*segmentation_cols_drop)\n",
        "segmentation_dropped_df.show()"
      ],
      "execution_count": 10,
      "outputs": [
        {
          "output_type": "stream",
          "text": [
            "+-----------+----------------+\n",
            "|customer_id|product_category|\n",
            "+-----------+----------------+\n",
            "|   24509695|       Furniture|\n",
            "|   34731776|       Furniture|\n",
            "|    1272331|       Furniture|\n",
            "|   45284262|       Furniture|\n",
            "|   18311821|       Furniture|\n",
            "|   42943632|       Furniture|\n",
            "|   43157304|       Furniture|\n",
            "|   51918480|       Furniture|\n",
            "|   14522766|       Furniture|\n",
            "|   43054112|       Furniture|\n",
            "|   26622950|       Furniture|\n",
            "|   17988940|       Furniture|\n",
            "|   18444952|       Furniture|\n",
            "|   16937084|       Furniture|\n",
            "|   23665632|       Furniture|\n",
            "|    4110125|       Furniture|\n",
            "|     107621|       Furniture|\n",
            "|    2415090|       Furniture|\n",
            "|   48285966|       Furniture|\n",
            "|   33228559|       Furniture|\n",
            "+-----------+----------------+\n",
            "only showing top 20 rows\n",
            "\n"
          ],
          "name": "stdout"
        }
      ]
    },
    {
      "cell_type": "markdown",
      "metadata": {
        "id": "GWLZJ8LIWpbK"
      },
      "source": [
        "Note: must change Category Label name in withColumnRenamed('count(product_category)', 'name')"
      ]
    },
    {
      "cell_type": "code",
      "metadata": {
        "id": "CB7H2fA_HCnX",
        "colab": {
          "base_uri": "https://localhost:8080/"
        },
        "outputId": "d9ae2112-20b1-4b76-a2ee-42672dc7d4a8"
      },
      "source": [
        "#2 Segmentation GroupBy\n",
        "#2a GroupBy customer_id\n",
        "#2b Count product_category and rename count columns as Segment Name\n",
        "segment_df = segmentation_dropped_df.groupby(\"customer_id\")\\\n",
        ".agg({'product_category':'count'}).withColumnRenamed('count(product_category)', 'furniture')\n",
        "#2c Check results\n",
        "segment_df.show()"
      ],
      "execution_count": 11,
      "outputs": [
        {
          "output_type": "stream",
          "text": [
            "+-----------+---------+\n",
            "|customer_id|furniture|\n",
            "+-----------+---------+\n",
            "|   17067926|        2|\n",
            "|   10714827|        1|\n",
            "|   42560427|        1|\n",
            "|   30717305|        1|\n",
            "|    1178966|        1|\n",
            "|   10429047|        1|\n",
            "|   52541790|        2|\n",
            "|   52512151|        1|\n",
            "|   37534120|        1|\n",
            "|   22555935|        1|\n",
            "|   18681995|        1|\n",
            "|    2119235|        2|\n",
            "|   21846356|        1|\n",
            "|   42251639|        1|\n",
            "|    7730812|        1|\n",
            "|   37666248|        1|\n",
            "|   43676452|        1|\n",
            "|   41466760|        1|\n",
            "|   30403003|        1|\n",
            "|   44524374|        1|\n",
            "+-----------+---------+\n",
            "only showing top 20 rows\n",
            "\n"
          ],
          "name": "stdout"
        }
      ]
    },
    {
      "cell_type": "code",
      "metadata": {
        "id": "B4y9GGlYL46X",
        "colab": {
          "base_uri": "https://localhost:8080/"
        },
        "outputId": "c105c796-6e60-4b32-81e7-fb3d74fe821c"
      },
      "source": [
        "#3 Check segment_df Schema and Row Count\n",
        "segment_df.printSchema()\n",
        "print(segment_df.count())"
      ],
      "execution_count": 12,
      "outputs": [
        {
          "output_type": "stream",
          "text": [
            "root\n",
            " |-- customer_id: integer (nullable = true)\n",
            " |-- furniture: long (nullable = false)\n",
            "\n",
            "600425\n"
          ],
          "name": "stdout"
        }
      ]
    },
    {
      "cell_type": "markdown",
      "metadata": {
        "id": "C32fEqE9XE6y"
      },
      "source": [
        "Note: Column Name in df.sort('name' ...) must align with Column name from step 2"
      ]
    },
    {
      "cell_type": "code",
      "metadata": {
        "id": "YnyAXUQ0OVTM",
        "colab": {
          "base_uri": "https://localhost:8080/"
        },
        "outputId": "6c66ed6f-c576-42fa-9028-5c4df7d34a25"
      },
      "source": [
        "#4 Filter for Top n Results\n",
        "#4a Declare number of rows to filter by (100,000)\n",
        "row_count = 100000\n",
        "#4a Sort by Segment Desc and limit to row_count\n",
        "filtered_segment_df = segment_df.sort(\"furniture\", ascending=False).limit(row_count)\n",
        "#4b Check Results\n",
        "filtered_segment_df.show()\n",
        "print(filtered_segment_df.count())"
      ],
      "execution_count": 13,
      "outputs": [
        {
          "output_type": "stream",
          "text": [
            "+-----------+---------+\n",
            "|customer_id|furniture|\n",
            "+-----------+---------+\n",
            "|   45212655|       33|\n",
            "|   35178127|       27|\n",
            "|   20845991|       25|\n",
            "|   36020793|       25|\n",
            "|   12609448|       24|\n",
            "|   40418760|       22|\n",
            "|   13278937|       22|\n",
            "|   11643260|       19|\n",
            "|   36700743|       18|\n",
            "|    5669343|       17|\n",
            "|   11159931|       17|\n",
            "|   51201731|       17|\n",
            "|   35095279|       17|\n",
            "|   51672584|       17|\n",
            "|   37870254|       16|\n",
            "|   44471976|       16|\n",
            "|   43450674|       16|\n",
            "|   51032921|       16|\n",
            "|   15153767|       15|\n",
            "|   50114748|       15|\n",
            "+-----------+---------+\n",
            "only showing top 20 rows\n",
            "\n",
            "100000\n"
          ],
          "name": "stdout"
        }
      ]
    },
    {
      "cell_type": "markdown",
      "metadata": {
        "id": "iuQnSLoxVvJ5"
      },
      "source": [
        "### Segmentation ETL Complete - Add Database Export Code"
      ]
    },
    {
      "cell_type": "code",
      "metadata": {
        "id": "u1a7WsMM4Fkp"
      },
      "source": [
        "# Configure settings for RDS\n",
        "mode = \"append\"\n",
        "jdbc_url='jdbc:postgresql://<connection_srtring>'\n",
        "config = {\"user\":'<username>', \n",
        "          \"password\": '<password>', \n",
        "          \"driver\":\"org.postgresql.Driver\"}"
      ],
      "execution_count": 14,
      "outputs": []
    },
    {
      "cell_type": "markdown",
      "metadata": {
        "id": "zOE5O-RDXg7y"
      },
      "source": [
        "Note: table name in table='name_segment' must align with table name in Postgres"
      ]
    },
    {
      "cell_type": "code",
      "metadata": {
        "id": "CvdvijJe4FiE"
      },
      "source": [
        "# Write segment table to Postgres/RDS\n",
        "# xx mins\n",
        "filtered_segment_df.write.jdbc(url=jdbc_url, table='furniture_segment', mode=mode, properties=config)"
      ],
      "execution_count": 15,
      "outputs": []
    },
    {
      "cell_type": "markdown",
      "metadata": {
        "id": "hf1b-3fhV2vd"
      },
      "source": [
        "## Apriori Analysis DF\n",
        "### Enter Apriori Transfomations Below - Use df_dropped_2 as Start Point"
      ]
    },
    {
      "cell_type": "code",
      "metadata": {
        "id": "V5fqsDHoWRRo",
        "colab": {
          "base_uri": "https://localhost:8080/"
        },
        "outputId": "ad321df6-815e-4e71-8a1b-cd77db732bf7"
      },
      "source": [
        "# 1 Create Apriori DF by First Dropping Addtional Columns\n",
        "apriori_cols_drop = ['product_category', 'product_title', 'star_rating', 'helpful_votes', 'total_votes']\n",
        "apriori_dropped_df = df_dropped_2.drop(*apriori_cols_drop)\n",
        "apriori_dropped_df.show()"
      ],
      "execution_count": 16,
      "outputs": [
        {
          "output_type": "stream",
          "text": [
            "+-----------+--------------+----------+\n",
            "|customer_id|     review_id|product_id|\n",
            "+-----------+--------------+----------+\n",
            "|   24509695|R3VR960AHLFKDV|B004HB5E0E|\n",
            "|   34731776|R16LGVMFKIUT0G|B0042TNMMS|\n",
            "|    1272331|R1AIMEEPYHMOE4|B0030MPBZ4|\n",
            "|   45284262|R1892CCSZWZ9SR|B005G02ESA|\n",
            "|   18311821| RLB33HJBXHZHU|B00AVUQQGQ|\n",
            "|   42943632|R1VGTZ94DBAD6A|B00CFY20GQ|\n",
            "|   43157304|R168KF82ICSOHD|B00FKC48QA|\n",
            "|   51918480|R20DIYIJ0OCMOG|B00N9IAL9K|\n",
            "|   14522766| RD46RNVOHNZSC|B001T4XU1C|\n",
            "|   43054112|R2JDOCETTM3AXS|B002HRFLBC|\n",
            "|   26622950|R33YMW36IDZ6LE|B006MISZOC|\n",
            "|   17988940|R30ZGGUHZ04C1S|B008BMGABC|\n",
            "|   18444952| RS2EZU76IK2BT|B00CO2VH5Y|\n",
            "|   16937084|R1GJC1BP028XO9|B00LI4RJQ0|\n",
            "|   23665632|R2VKJPGXXEK5GP|B0046EC1D0|\n",
            "|    4110125|R17KS83G3KLT97|B00DQQPL36|\n",
            "|     107621|R3PQL8SR4NEHWL|B003X7RWB2|\n",
            "|    2415090|R2F5WW7WNO5RRG|B001TJYPJ8|\n",
            "|   48285966|R3UDJKVWQCFIC9|B000TMHX9A|\n",
            "|   33228559|R1MLGVJH3J5W6N|B005MZBB2O|\n",
            "+-----------+--------------+----------+\n",
            "only showing top 20 rows\n",
            "\n"
          ],
          "name": "stdout"
        }
      ]
    },
    {
      "cell_type": "markdown",
      "metadata": {
        "id": "efnKvbn_YDxY"
      },
      "source": [
        "### Prelim Apriori ETL Complete - Add Database Export Code"
      ]
    },
    {
      "cell_type": "code",
      "metadata": {
        "id": "uSTKJzcGO4wv"
      },
      "source": [
        "# Configure settings for RDS\n",
        "mode = \"append\"\n",
        "jdbc_url='jdbc:postgresql://<connection_srtring>'\n",
        "config = {\"user\":'<username>', \n",
        "          \"password\": '<password>', \n",
        "          \"driver\":\"org.postgresql.Driver\"}"
      ],
      "execution_count": 17,
      "outputs": []
    },
    {
      "cell_type": "markdown",
      "metadata": {
        "id": "nmwVVxzUYIsn"
      },
      "source": [
        "Note: table name in table='segment_apriori' must align with table name in Postgres"
      ]
    },
    {
      "cell_type": "code",
      "metadata": {
        "id": "vwcIfmxwO33L"
      },
      "source": [
        "# Write segment_apriori table to RDS\n",
        "# 8 mins 58 secs\n",
        "apriori_dropped_df.write.jdbc(url=jdbc_url, table='furniture_apriori', mode=mode, properties=config)"
      ],
      "execution_count": 18,
      "outputs": []
    },
    {
      "cell_type": "markdown",
      "metadata": {
        "id": "4H-EhptPWT_O"
      },
      "source": [
        "## Amazon Reviews S3 -> Postgres/RDS ETL Complete\n",
        "\n"
      ]
    },
    {
      "cell_type": "markdown",
      "metadata": {
        "id": "vLAhPy7UY-6E"
      },
      "source": [
        "### Run Queries in Postgres to Confirm Segment ETL\n",
        "Check Row Count of Segment Table - SELECT COUNT(*) FROM furniture_segment;\n",
        "\n",
        "Check 10 Rows of Segment Table - SELECT * FROM furniture_segment LIMIT(10);\n"
      ]
    },
    {
      "cell_type": "code",
      "metadata": {
        "id": "jA4ZFLCuY7bz",
        "colab": {
          "base_uri": "https://localhost:8080/"
        },
        "outputId": "3c50a7ad-ac24-4171-b84f-3e53daeede24"
      },
      "source": [
        "# Upon Confirmation of Above Checks Run This Cell\n",
        "print('Segment ETL Successful')"
      ],
      "execution_count": 19,
      "outputs": [
        {
          "output_type": "stream",
          "text": [
            "Segment ETL Successful\n"
          ],
          "name": "stdout"
        }
      ]
    },
    {
      "cell_type": "markdown",
      "metadata": {
        "id": "EVw7yd0EZ0Cc"
      },
      "source": [
        "### Run Queries in Postgres to Confirm Apriori ETL\n",
        "Check Row Count of Apriori Table - SELECT COUNT(*) FROM furniture_apriori;\n",
        "\n",
        "Check 10 Rows of Apriori Table - SELECT * FROM furniture_apriori LIMIT(10);"
      ]
    },
    {
      "cell_type": "code",
      "metadata": {
        "id": "gHJg88FDaN3p",
        "colab": {
          "base_uri": "https://localhost:8080/"
        },
        "outputId": "742ee37b-135c-43da-a093-31e2b7fbd955"
      },
      "source": [
        "# Upon Confirmation of Above Checks Run This Cell\n",
        "print('Apriori ETL Successful')"
      ],
      "execution_count": 20,
      "outputs": [
        {
          "output_type": "stream",
          "text": [
            "Apriori ETL Successful\n"
          ],
          "name": "stdout"
        }
      ]
    }
  ]
}
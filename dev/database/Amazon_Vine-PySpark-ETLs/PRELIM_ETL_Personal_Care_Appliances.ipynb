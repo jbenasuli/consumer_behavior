{
  "nbformat": 4,
  "nbformat_minor": 0,
  "metadata": {
    "colab": {
      "name": "PRELIM_ETL-Personal_Care_Appliances",
      "provenance": [],
      "collapsed_sections": [],
      "machine_shape": "hm",
      "include_colab_link": true
    },
    "kernelspec": {
      "name": "python3",
      "display_name": "Python 3"
    },
    "nteract": {
      "version": "0.12.3"
    },
    "language_info": {
      "name": "python"
    }
  },
  "cells": [
    {
      "cell_type": "markdown",
      "metadata": {
        "id": "view-in-github",
        "colab_type": "text"
      },
      "source": [
        "<a href=\"https://colab.research.google.com/github/jbenasuli/final_project/blob/database/dev/database/Amazon_Vine-PySpark-ETLs/PRELIM_ETL_Personal_Care_Appliances.ipynb\" target=\"_parent\"><img src=\"https://colab.research.google.com/assets/colab-badge.svg\" alt=\"Open In Colab\"/></a>"
      ]
    },
    {
      "cell_type": "code",
      "metadata": {
        "id": "V58rxea0HqSa",
        "colab": {
          "base_uri": "https://localhost:8080/"
        },
        "outputId": "31858799-808a-45a2-f899-7678a231ef97"
      },
      "source": [
        "import os\n",
        "# Find the latest version of spark 2.0  from http://www-us.apache.org/dist/spark/ and enter as the spark version\n",
        "# For example:\n",
        "# spark_version = 'spark-3.1.1'\n",
        "spark_version = 'spark-3.1.1'\n",
        "os.environ['SPARK_VERSION']=spark_version\n",
        "\n",
        "# Install Spark and Java\n",
        "!apt-get update\n",
        "!apt-get install openjdk-11-jdk-headless -qq > /dev/null\n",
        "!wget -q http://www-us.apache.org/dist/spark/$SPARK_VERSION/$SPARK_VERSION-bin-hadoop2.7.tgz\n",
        "!tar xf $SPARK_VERSION-bin-hadoop2.7.tgz\n",
        "!pip install -q findspark\n",
        "\n",
        "# Set Environment Variables\n",
        "import os\n",
        "os.environ[\"JAVA_HOME\"] = \"/usr/lib/jvm/java-11-openjdk-amd64\"\n",
        "os.environ[\"SPARK_HOME\"] = f\"/content/{spark_version}-bin-hadoop2.7\"\n",
        "\n",
        "# Start a SparkSession\n",
        "import findspark\n",
        "findspark.init()"
      ],
      "execution_count": 1,
      "outputs": [
        {
          "output_type": "stream",
          "text": [
            "Get:1 http://security.ubuntu.com/ubuntu bionic-security InRelease [88.7 kB]\n",
            "Get:2 https://cloud.r-project.org/bin/linux/ubuntu bionic-cran40/ InRelease [3,626 B]\n",
            "Ign:3 https://developer.download.nvidia.com/compute/cuda/repos/ubuntu1804/x86_64  InRelease\n",
            "Ign:4 https://developer.download.nvidia.com/compute/machine-learning/repos/ubuntu1804/x86_64  InRelease\n",
            "Get:5 https://developer.download.nvidia.com/compute/cuda/repos/ubuntu1804/x86_64  Release [697 B]\n",
            "Hit:6 https://developer.download.nvidia.com/compute/machine-learning/repos/ubuntu1804/x86_64  Release\n",
            "Get:7 https://developer.download.nvidia.com/compute/cuda/repos/ubuntu1804/x86_64  Release.gpg [836 B]\n",
            "Get:8 http://ppa.launchpad.net/c2d4u.team/c2d4u4.0+/ubuntu bionic InRelease [15.9 kB]\n",
            "Hit:9 http://archive.ubuntu.com/ubuntu bionic InRelease\n",
            "Get:10 http://archive.ubuntu.com/ubuntu bionic-updates InRelease [88.7 kB]\n",
            "Get:11 https://cloud.r-project.org/bin/linux/ubuntu bionic-cran40/ Packages [53.9 kB]\n",
            "Hit:12 http://ppa.launchpad.net/cran/libgit2/ubuntu bionic InRelease\n",
            "Get:13 http://ppa.launchpad.net/deadsnakes/ppa/ubuntu bionic InRelease [15.9 kB]\n",
            "Get:14 http://security.ubuntu.com/ubuntu bionic-security/universe amd64 Packages [1,410 kB]\n",
            "Get:15 http://archive.ubuntu.com/ubuntu bionic-backports InRelease [74.6 kB]\n",
            "Get:16 http://security.ubuntu.com/ubuntu bionic-security/multiverse amd64 Packages [24.7 kB]\n",
            "Get:17 http://security.ubuntu.com/ubuntu bionic-security/restricted amd64 Packages [396 kB]\n",
            "Get:18 http://security.ubuntu.com/ubuntu bionic-security/main amd64 Packages [2,116 kB]\n",
            "Get:20 http://ppa.launchpad.net/graphics-drivers/ppa/ubuntu bionic InRelease [15.9 kB]\n",
            "Ign:21 https://developer.download.nvidia.com/compute/cuda/repos/ubuntu1804/x86_64  Packages\n",
            "Get:21 https://developer.download.nvidia.com/compute/cuda/repos/ubuntu1804/x86_64  Packages [742 kB]\n",
            "Get:22 http://ppa.launchpad.net/c2d4u.team/c2d4u4.0+/ubuntu bionic/main Sources [1,759 kB]\n",
            "Get:23 http://archive.ubuntu.com/ubuntu bionic-updates/multiverse amd64 Packages [31.6 kB]\n",
            "Get:24 http://archive.ubuntu.com/ubuntu bionic-updates/main amd64 Packages [2,546 kB]\n",
            "Get:25 http://ppa.launchpad.net/c2d4u.team/c2d4u4.0+/ubuntu bionic/main amd64 Packages [900 kB]\n",
            "Get:26 http://archive.ubuntu.com/ubuntu bionic-updates/universe amd64 Packages [2,181 kB]\n",
            "Get:27 http://archive.ubuntu.com/ubuntu bionic-updates/restricted amd64 Packages [426 kB]\n",
            "Get:28 http://ppa.launchpad.net/deadsnakes/ppa/ubuntu bionic/main amd64 Packages [40.7 kB]\n",
            "Get:29 http://ppa.launchpad.net/graphics-drivers/ppa/ubuntu bionic/main amd64 Packages [53.2 kB]\n",
            "Fetched 13.0 MB in 5s (2,812 kB/s)\n",
            "Reading package lists... Done\n"
          ],
          "name": "stdout"
        }
      ]
    },
    {
      "cell_type": "code",
      "metadata": {
        "id": "_xKwTpATHqSe",
        "colab": {
          "base_uri": "https://localhost:8080/"
        },
        "outputId": "03b95a3f-e6a3-4b32-b0d0-5741d465c1e2"
      },
      "source": [
        "# Download the Postgres driver that will allow Spark to interact with Postgres.\n",
        "!wget https://jdbc.postgresql.org/download/postgresql-42.2.16.jar"
      ],
      "execution_count": 2,
      "outputs": [
        {
          "output_type": "stream",
          "text": [
            "--2021-05-03 03:53:16--  https://jdbc.postgresql.org/download/postgresql-42.2.16.jar\n",
            "Resolving jdbc.postgresql.org (jdbc.postgresql.org)... 72.32.157.228, 2001:4800:3e1:1::228\n",
            "Connecting to jdbc.postgresql.org (jdbc.postgresql.org)|72.32.157.228|:443... connected.\n",
            "HTTP request sent, awaiting response... 200 OK\n",
            "Length: 1002883 (979K) [application/java-archive]\n",
            "Saving to: ‘postgresql-42.2.16.jar’\n",
            "\n",
            "\rpostgresql-42.2.16.   0%[                    ]       0  --.-KB/s               \rpostgresql-42.2.16. 100%[===================>] 979.38K  --.-KB/s    in 0.08s   \n",
            "\n",
            "2021-05-03 03:53:16 (11.4 MB/s) - ‘postgresql-42.2.16.jar’ saved [1002883/1002883]\n",
            "\n"
          ],
          "name": "stdout"
        }
      ]
    },
    {
      "cell_type": "code",
      "metadata": {
        "id": "MMqDAjVS0KN9"
      },
      "source": [
        "from pyspark.sql import SparkSession\n",
        "spark = SparkSession.builder.appName(\"BigData-Challenge\").config(\"spark.driver.extraClassPath\",\"/content/postgresql-42.2.16.jar\").getOrCreate()"
      ],
      "execution_count": 3,
      "outputs": []
    },
    {
      "cell_type": "code",
      "metadata": {
        "id": "hbbRSWPwJw4k"
      },
      "source": [
        "import datetime\n",
        "from pyspark.sql.functions import to_date\n",
        "from pyspark.sql.functions import col\n",
        "from pyspark.sql.types import StructField, StringType, IntegerType, StructType, BooleanType, DateType\n",
        "from pyspark import SparkFiles"
      ],
      "execution_count": 4,
      "outputs": []
    },
    {
      "cell_type": "markdown",
      "metadata": {
        "id": "cyBsySGuY-9V"
      },
      "source": [
        "### Load Amazon Data into Spark DataFrame"
      ]
    },
    {
      "cell_type": "markdown",
      "metadata": {
        "id": "VHY6-k4WgZRO"
      },
      "source": [
        "Note: Enter URL for Desired Dataset"
      ]
    },
    {
      "cell_type": "code",
      "metadata": {
        "id": "CtCmBhQJY-9Z",
        "colab": {
          "base_uri": "https://localhost:8080/"
        },
        "outputId": "f355e627-4db7-4329-9cae-1ac9edee9539"
      },
      "source": [
        "#1 load product segment\n",
        "url = \"https://s3.amazonaws.com/amazon-reviews-pds/tsv/amazon_reviews_us_Personal_Care_Appliances_v1_00.tsv.gz\"\n",
        "spark.sparkContext.addFile(url)\n",
        "df = spark.read.option(\"encoding\", \"UTF-8\").csv(SparkFiles.get(\"\"), sep=\"\\t\", header=True, inferSchema=True)\n",
        "df.show()"
      ],
      "execution_count": 5,
      "outputs": [
        {
          "output_type": "stream",
          "text": [
            "+-----------+-----------+--------------+----------+--------------+--------------------+--------------------+-----------+-------------+-----------+----+-----------------+--------------------+--------------------+-----------+\n",
            "|marketplace|customer_id|     review_id|product_id|product_parent|       product_title|    product_category|star_rating|helpful_votes|total_votes|vine|verified_purchase|     review_headline|         review_body|review_date|\n",
            "+-----------+-----------+--------------+----------+--------------+--------------------+--------------------+-----------+-------------+-----------+----+-----------------+--------------------+--------------------+-----------+\n",
            "|         US|   32114233|R1QX6706ZWJ1P5|B00OYRW4UE|     223980852|Elite Sportz Exer...|Personal_Care_App...|          5|            0|          0|   N|                Y|Good quality. Shi...|Exactly as descri...| 2015-08-31|\n",
            "|         US|   18125776|R3QWMLJHIW6P37|B0000537JQ|     819771537|     Ezy Dose Weekly|Personal_Care_App...|          5|            0|          0|   N|                Y|          Five Stars|         It is great| 2015-08-31|\n",
            "|         US|   19917519|R14Z1VR1N0Z9G6|B00HXXO332|     849307176|Pulse Oximeter, B...|Personal_Care_App...|          5|            1|          1|   N|                Y|It's really nice ...|It's really nice ...| 2015-08-31|\n",
            "|         US|   18277171| R25ZRJL0GH0U0|B00EOB0JA2|     700864740|SE Tools Tool Kit...|Personal_Care_App...|          2|            0|          0|   N|                Y|           Two Stars|The kit works fin...| 2015-08-31|\n",
            "|         US|    2593270|R3837KYH7AZNIY|B00OC2O1UC|     794298839|doTERRA HD Clear ...|Personal_Care_App...|          4|            0|          1|   N|                Y|          Four Stars|It works better t...| 2015-08-31|\n",
            "|         US|    2592955|R2MN0QYCY6EVIV|B00HES9CMS|     318730927|Viva Naturals #1 ...|Personal_Care_App...|          5|            0|          0|   N|                Y|      not bad at all|I added to my oat...| 2015-08-31|\n",
            "|         US|   15168265|R3AN2UJ1D42ZS0|B0016BFR4G|     887476137|Uncle Lee's Organ...|Personal_Care_App...|          5|            0|          0|   N|                Y|Mild, enjoyable t...|Husband drinks th...| 2015-08-31|\n",
            "|         US|   13761624|R3U29ZLUWEEK4M|B00K504UUG|     458706868|Syrtenty Electrod...|Personal_Care_App...|          5|            0|          0|   N|                Y|          Five Stars|       Good quality.| 2015-08-31|\n",
            "|         US|   37070734|R16ZDMJJHK796C|B00HES9CMS|     318730927|Viva Naturals #1 ...|Personal_Care_App...|          5|            0|          0|   N|                N|        High Quality|This is high qual...| 2015-08-31|\n",
            "|         US|   29615023| RRRDOEJZD1Y22|B00P6TUO5G|     170248843|Viva Naturals Org...|Personal_Care_App...|          4|            0|          0|   N|                Y|          we like it|Buying more produ...| 2015-08-31|\n",
            "|         US|   47893062|R2KR5ZEAS859DK|B0006VJ6TO|     412568457|Body Back Company...|Personal_Care_App...|          5|            0|          0|   N|                Y|          Five Stars|    Their best cane.| 2015-08-31|\n",
            "|         US|    2582596| RR7PGQY763IHF|B00H9L7VIW|     851045898|boostULTIMATE - 6...|Personal_Care_App...|          5|            0|          0|   N|                Y|       Great product|Great product! Ma...| 2015-08-31|\n",
            "|         US|   21969415| RN37YYZBP9BMP|B00P1JNZUW|     274294586|doTERRA Veráge Sk...|Personal_Care_App...|          5|            4|          4|   N|                Y|Love the prouduct...|Love the prouduct...| 2015-08-31|\n",
            "|         US|   43153609| R1UXGB70OR5TW|B00N5HD340|     955577225|      Straight Razor|Personal_Care_App...|          5|            0|          0|   N|                Y|          Five Stars|          great buy.| 2015-08-31|\n",
            "|         US|   17782951|R1OC5ZNXSGO7P1|B0007DHMVK|      78719480|BONGER Massage To...|Personal_Care_App...|          5|            0|          0|   N|                Y|          Five stars|These are so much...| 2015-08-31|\n",
            "|         US|   13710264|R1W4ZN8BPVNWK3|B0002JG2NI|     900996767|Home Health Casto...|Personal_Care_App...|          5|            0|          0|   N|                Y|It works for home...|It works for home...| 2015-08-31|\n",
            "|         US|   30720884|R2KE33CNN5X2B0|B00OYRW4UE|     223980852|Elite Sportz Exer...|Personal_Care_App...|          5|            0|          0|   N|                Y|These work great ...|These work great ...| 2015-08-31|\n",
            "|         US|   35206254|R1A26EDSO0U5N6|B00598WT0C|     218203731|Aloha Eyewear “St...|Personal_Care_App...|          5|            0|          0|   N|                Y|             awesome|for anyone needin...| 2015-08-31|\n",
            "|         US|   10261156|R3L81GOHVS3E9P|B0006VJ6TO|     412568457|Body Back Company...|Personal_Care_App...|          5|            0|          0|   N|                Y| Deep tissue massage|This works perfec...| 2015-08-31|\n",
            "|         US|   50708344| RNFW9SWC5D0YF|B00J7G96NK|     256041044|Oral B Glide Flos...|Personal_Care_App...|          5|            2|          2|   N|                N|These are an esse...|Not only are thes...| 2015-08-31|\n",
            "+-----------+-----------+--------------+----------+--------------+--------------------+--------------------+-----------+-------------+-----------+----+-----------------+--------------------+--------------------+-----------+\n",
            "only showing top 20 rows\n",
            "\n"
          ],
          "name": "stdout"
        }
      ]
    },
    {
      "cell_type": "markdown",
      "metadata": {
        "id": "2yUSe55VY-9t"
      },
      "source": [
        "### Create DataFrame - Perform Preliminary Cleaning"
      ]
    },
    {
      "cell_type": "code",
      "metadata": {
        "id": "C8REmY1aY-9u",
        "colab": {
          "base_uri": "https://localhost:8080/"
        },
        "outputId": "f1c4f07d-e58e-4b6f-aa40-f81f643ca196"
      },
      "source": [
        "#1 Check the schema, print row & column count\n",
        "df.printSchema()\n",
        "print((df.count(), len(df.columns)))"
      ],
      "execution_count": 6,
      "outputs": [
        {
          "output_type": "stream",
          "text": [
            "root\n",
            " |-- marketplace: string (nullable = true)\n",
            " |-- customer_id: integer (nullable = true)\n",
            " |-- review_id: string (nullable = true)\n",
            " |-- product_id: string (nullable = true)\n",
            " |-- product_parent: integer (nullable = true)\n",
            " |-- product_title: string (nullable = true)\n",
            " |-- product_category: string (nullable = true)\n",
            " |-- star_rating: integer (nullable = true)\n",
            " |-- helpful_votes: integer (nullable = true)\n",
            " |-- total_votes: integer (nullable = true)\n",
            " |-- vine: string (nullable = true)\n",
            " |-- verified_purchase: string (nullable = true)\n",
            " |-- review_headline: string (nullable = true)\n",
            " |-- review_body: string (nullable = true)\n",
            " |-- review_date: string (nullable = true)\n",
            "\n",
            "(85981, 15)\n"
          ],
          "name": "stdout"
        }
      ]
    },
    {
      "cell_type": "code",
      "metadata": {
        "id": "oGosPEeAKCFm",
        "colab": {
          "base_uri": "https://localhost:8080/"
        },
        "outputId": "ade5213c-5608-4664-b26e-1d8eea9eeff1"
      },
      "source": [
        "#2 Drop the round 1 columns\n",
        "columns_to_drop = ['marketplace', 'product_parent', 'vine', 'review_headline', 'review_body', 'review_date']\n",
        "df_dropped = df.drop(*columns_to_drop)\n",
        "df_dropped.show()"
      ],
      "execution_count": 7,
      "outputs": [
        {
          "output_type": "stream",
          "text": [
            "+-----------+--------------+----------+--------------------+--------------------+-----------+-------------+-----------+-----------------+\n",
            "|customer_id|     review_id|product_id|       product_title|    product_category|star_rating|helpful_votes|total_votes|verified_purchase|\n",
            "+-----------+--------------+----------+--------------------+--------------------+-----------+-------------+-----------+-----------------+\n",
            "|   32114233|R1QX6706ZWJ1P5|B00OYRW4UE|Elite Sportz Exer...|Personal_Care_App...|          5|            0|          0|                Y|\n",
            "|   18125776|R3QWMLJHIW6P37|B0000537JQ|     Ezy Dose Weekly|Personal_Care_App...|          5|            0|          0|                Y|\n",
            "|   19917519|R14Z1VR1N0Z9G6|B00HXXO332|Pulse Oximeter, B...|Personal_Care_App...|          5|            1|          1|                Y|\n",
            "|   18277171| R25ZRJL0GH0U0|B00EOB0JA2|SE Tools Tool Kit...|Personal_Care_App...|          2|            0|          0|                Y|\n",
            "|    2593270|R3837KYH7AZNIY|B00OC2O1UC|doTERRA HD Clear ...|Personal_Care_App...|          4|            0|          1|                Y|\n",
            "|    2592955|R2MN0QYCY6EVIV|B00HES9CMS|Viva Naturals #1 ...|Personal_Care_App...|          5|            0|          0|                Y|\n",
            "|   15168265|R3AN2UJ1D42ZS0|B0016BFR4G|Uncle Lee's Organ...|Personal_Care_App...|          5|            0|          0|                Y|\n",
            "|   13761624|R3U29ZLUWEEK4M|B00K504UUG|Syrtenty Electrod...|Personal_Care_App...|          5|            0|          0|                Y|\n",
            "|   37070734|R16ZDMJJHK796C|B00HES9CMS|Viva Naturals #1 ...|Personal_Care_App...|          5|            0|          0|                N|\n",
            "|   29615023| RRRDOEJZD1Y22|B00P6TUO5G|Viva Naturals Org...|Personal_Care_App...|          4|            0|          0|                Y|\n",
            "|   47893062|R2KR5ZEAS859DK|B0006VJ6TO|Body Back Company...|Personal_Care_App...|          5|            0|          0|                Y|\n",
            "|    2582596| RR7PGQY763IHF|B00H9L7VIW|boostULTIMATE - 6...|Personal_Care_App...|          5|            0|          0|                Y|\n",
            "|   21969415| RN37YYZBP9BMP|B00P1JNZUW|doTERRA Veráge Sk...|Personal_Care_App...|          5|            4|          4|                Y|\n",
            "|   43153609| R1UXGB70OR5TW|B00N5HD340|      Straight Razor|Personal_Care_App...|          5|            0|          0|                Y|\n",
            "|   17782951|R1OC5ZNXSGO7P1|B0007DHMVK|BONGER Massage To...|Personal_Care_App...|          5|            0|          0|                Y|\n",
            "|   13710264|R1W4ZN8BPVNWK3|B0002JG2NI|Home Health Casto...|Personal_Care_App...|          5|            0|          0|                Y|\n",
            "|   30720884|R2KE33CNN5X2B0|B00OYRW4UE|Elite Sportz Exer...|Personal_Care_App...|          5|            0|          0|                Y|\n",
            "|   35206254|R1A26EDSO0U5N6|B00598WT0C|Aloha Eyewear “St...|Personal_Care_App...|          5|            0|          0|                Y|\n",
            "|   10261156|R3L81GOHVS3E9P|B0006VJ6TO|Body Back Company...|Personal_Care_App...|          5|            0|          0|                Y|\n",
            "|   50708344| RNFW9SWC5D0YF|B00J7G96NK|Oral B Glide Flos...|Personal_Care_App...|          5|            2|          2|                N|\n",
            "+-----------+--------------+----------+--------------------+--------------------+-----------+-------------+-----------+-----------------+\n",
            "only showing top 20 rows\n",
            "\n"
          ],
          "name": "stdout"
        }
      ]
    },
    {
      "cell_type": "code",
      "metadata": {
        "id": "1cWyyOQyKB8v",
        "colab": {
          "base_uri": "https://localhost:8080/"
        },
        "outputId": "70f2695e-b2dd-4be4-d891-7cb3db4f0235"
      },
      "source": [
        "#3 Filter Step 1:\n",
        "df_filtered = df_dropped.filter(df_dropped.verified_purchase == 'Y')\n",
        "df_filtered.show\n",
        "print((df_filtered.count(), len(df_filtered.columns)))"
      ],
      "execution_count": 8,
      "outputs": [
        {
          "output_type": "stream",
          "text": [
            "(63312, 9)\n"
          ],
          "name": "stdout"
        }
      ]
    },
    {
      "cell_type": "code",
      "metadata": {
        "id": "fVJDJ4LBRHCV",
        "colab": {
          "base_uri": "https://localhost:8080/"
        },
        "outputId": "eacf4acd-c4c0-48bc-ade5-9d55f4c8efa4"
      },
      "source": [
        "#4 drop filtered verified_purchase column\n",
        "columns_to_drop = ['verified_purchase']\n",
        "df_dropped_2 = df_filtered.drop(*columns_to_drop)\n",
        "df_dropped_2.show()"
      ],
      "execution_count": 9,
      "outputs": [
        {
          "output_type": "stream",
          "text": [
            "+-----------+--------------+----------+--------------------+--------------------+-----------+-------------+-----------+\n",
            "|customer_id|     review_id|product_id|       product_title|    product_category|star_rating|helpful_votes|total_votes|\n",
            "+-----------+--------------+----------+--------------------+--------------------+-----------+-------------+-----------+\n",
            "|   32114233|R1QX6706ZWJ1P5|B00OYRW4UE|Elite Sportz Exer...|Personal_Care_App...|          5|            0|          0|\n",
            "|   18125776|R3QWMLJHIW6P37|B0000537JQ|     Ezy Dose Weekly|Personal_Care_App...|          5|            0|          0|\n",
            "|   19917519|R14Z1VR1N0Z9G6|B00HXXO332|Pulse Oximeter, B...|Personal_Care_App...|          5|            1|          1|\n",
            "|   18277171| R25ZRJL0GH0U0|B00EOB0JA2|SE Tools Tool Kit...|Personal_Care_App...|          2|            0|          0|\n",
            "|    2593270|R3837KYH7AZNIY|B00OC2O1UC|doTERRA HD Clear ...|Personal_Care_App...|          4|            0|          1|\n",
            "|    2592955|R2MN0QYCY6EVIV|B00HES9CMS|Viva Naturals #1 ...|Personal_Care_App...|          5|            0|          0|\n",
            "|   15168265|R3AN2UJ1D42ZS0|B0016BFR4G|Uncle Lee's Organ...|Personal_Care_App...|          5|            0|          0|\n",
            "|   13761624|R3U29ZLUWEEK4M|B00K504UUG|Syrtenty Electrod...|Personal_Care_App...|          5|            0|          0|\n",
            "|   29615023| RRRDOEJZD1Y22|B00P6TUO5G|Viva Naturals Org...|Personal_Care_App...|          4|            0|          0|\n",
            "|   47893062|R2KR5ZEAS859DK|B0006VJ6TO|Body Back Company...|Personal_Care_App...|          5|            0|          0|\n",
            "|    2582596| RR7PGQY763IHF|B00H9L7VIW|boostULTIMATE - 6...|Personal_Care_App...|          5|            0|          0|\n",
            "|   21969415| RN37YYZBP9BMP|B00P1JNZUW|doTERRA Veráge Sk...|Personal_Care_App...|          5|            4|          4|\n",
            "|   43153609| R1UXGB70OR5TW|B00N5HD340|      Straight Razor|Personal_Care_App...|          5|            0|          0|\n",
            "|   17782951|R1OC5ZNXSGO7P1|B0007DHMVK|BONGER Massage To...|Personal_Care_App...|          5|            0|          0|\n",
            "|   13710264|R1W4ZN8BPVNWK3|B0002JG2NI|Home Health Casto...|Personal_Care_App...|          5|            0|          0|\n",
            "|   30720884|R2KE33CNN5X2B0|B00OYRW4UE|Elite Sportz Exer...|Personal_Care_App...|          5|            0|          0|\n",
            "|   35206254|R1A26EDSO0U5N6|B00598WT0C|Aloha Eyewear “St...|Personal_Care_App...|          5|            0|          0|\n",
            "|   10261156|R3L81GOHVS3E9P|B0006VJ6TO|Body Back Company...|Personal_Care_App...|          5|            0|          0|\n",
            "|   41933766|R24V6VDHS7JMQV|B0006Z0NY2|      Gopher Reacher|Personal_Care_App...|          5|            1|          1|\n",
            "|   28020969|  RBA56WVCDD5M|B00H9L7VIW|boostULTIMATE - 6...|Personal_Care_App...|          5|            0|          0|\n",
            "+-----------+--------------+----------+--------------------+--------------------+-----------+-------------+-----------+\n",
            "only showing top 20 rows\n",
            "\n"
          ],
          "name": "stdout"
        }
      ]
    },
    {
      "cell_type": "markdown",
      "metadata": {
        "id": "Si3TGL5tHP1Z"
      },
      "source": [
        "## Create Analysis-Specific DFs/Tables\n",
        "### Perform Analysis-Specific Transforms"
      ]
    },
    {
      "cell_type": "markdown",
      "metadata": {
        "id": "hy5OVX7YHaXR"
      },
      "source": [
        "### Segmentation Analysis DF"
      ]
    },
    {
      "cell_type": "code",
      "metadata": {
        "id": "PldvjkUWHCt6",
        "colab": {
          "base_uri": "https://localhost:8080/"
        },
        "outputId": "2589f6d1-8b58-4d8a-cd7d-2c0e362f37e3"
      },
      "source": [
        "# 1 Create Segmentation DF by Droppig Addtional Columns\n",
        "segmentation_cols_drop = ['review_id', 'product_id', 'product_title', 'star_rating', 'helpful_votes', 'total_votes']\n",
        "segmentation_dropped_df = df_dropped_2.drop(*segmentation_cols_drop)\n",
        "segmentation_dropped_df.show()"
      ],
      "execution_count": 10,
      "outputs": [
        {
          "output_type": "stream",
          "text": [
            "+-----------+--------------------+\n",
            "|customer_id|    product_category|\n",
            "+-----------+--------------------+\n",
            "|   32114233|Personal_Care_App...|\n",
            "|   18125776|Personal_Care_App...|\n",
            "|   19917519|Personal_Care_App...|\n",
            "|   18277171|Personal_Care_App...|\n",
            "|    2593270|Personal_Care_App...|\n",
            "|    2592955|Personal_Care_App...|\n",
            "|   15168265|Personal_Care_App...|\n",
            "|   13761624|Personal_Care_App...|\n",
            "|   29615023|Personal_Care_App...|\n",
            "|   47893062|Personal_Care_App...|\n",
            "|    2582596|Personal_Care_App...|\n",
            "|   21969415|Personal_Care_App...|\n",
            "|   43153609|Personal_Care_App...|\n",
            "|   17782951|Personal_Care_App...|\n",
            "|   13710264|Personal_Care_App...|\n",
            "|   30720884|Personal_Care_App...|\n",
            "|   35206254|Personal_Care_App...|\n",
            "|   10261156|Personal_Care_App...|\n",
            "|   41933766|Personal_Care_App...|\n",
            "|   28020969|Personal_Care_App...|\n",
            "+-----------+--------------------+\n",
            "only showing top 20 rows\n",
            "\n"
          ],
          "name": "stdout"
        }
      ]
    },
    {
      "cell_type": "markdown",
      "metadata": {
        "id": "GWLZJ8LIWpbK"
      },
      "source": [
        "Note: must change Category Label name in withColumnRenamed('count(product_category)', 'name')"
      ]
    },
    {
      "cell_type": "code",
      "metadata": {
        "id": "CB7H2fA_HCnX",
        "colab": {
          "base_uri": "https://localhost:8080/"
        },
        "outputId": "f592b5f8-e2a7-4392-9e88-e3ce2a2fc16c"
      },
      "source": [
        "#2 Segmentation GroupBy\n",
        "#2a GroupBy customer_id\n",
        "#2b Count product_category and rename count columns as Segment Name\n",
        "segment_df = segmentation_dropped_df.groupby(\"customer_id\")\\\n",
        ".agg({'product_category':'count'}).withColumnRenamed('count(product_category)', 'personal_care_appliances')\n",
        "#2c Check results\n",
        "segment_df.show()"
      ],
      "execution_count": 11,
      "outputs": [
        {
          "output_type": "stream",
          "text": [
            "+-----------+------------------------+\n",
            "|customer_id|personal_care_appliances|\n",
            "+-----------+------------------------+\n",
            "|   11160821|                       1|\n",
            "|    1099354|                       1|\n",
            "|   31581262|                       1|\n",
            "|   27596904|                       1|\n",
            "|    2405598|                       1|\n",
            "|   11229098|                       1|\n",
            "|   46000147|                       1|\n",
            "|   15234640|                       1|\n",
            "|   28937218|                       1|\n",
            "|   27954895|                       1|\n",
            "|   31689770|                       1|\n",
            "|   30117841|                       1|\n",
            "|   38591899|                       1|\n",
            "|   24557051|                       1|\n",
            "|    2780908|                       1|\n",
            "|   11096259|                       1|\n",
            "|    2416824|                       1|\n",
            "|   33939357|                       1|\n",
            "|     501949|                       1|\n",
            "|   15676483|                       1|\n",
            "+-----------+------------------------+\n",
            "only showing top 20 rows\n",
            "\n"
          ],
          "name": "stdout"
        }
      ]
    },
    {
      "cell_type": "code",
      "metadata": {
        "id": "B4y9GGlYL46X",
        "colab": {
          "base_uri": "https://localhost:8080/"
        },
        "outputId": "dd9b8850-4c7d-4a37-84a6-bf611c4e86ca"
      },
      "source": [
        "#3 Check segment_df Schema and Row Count\n",
        "segment_df.printSchema()\n",
        "print(segment_df.count())"
      ],
      "execution_count": 12,
      "outputs": [
        {
          "output_type": "stream",
          "text": [
            "root\n",
            " |-- customer_id: integer (nullable = true)\n",
            " |-- personal_care_appliances: long (nullable = false)\n",
            "\n",
            "61769\n"
          ],
          "name": "stdout"
        }
      ]
    },
    {
      "cell_type": "markdown",
      "metadata": {
        "id": "C32fEqE9XE6y"
      },
      "source": [
        "Note: Column Name in df.sort('name' ...) must align with Column name from step 2"
      ]
    },
    {
      "cell_type": "code",
      "metadata": {
        "id": "YnyAXUQ0OVTM",
        "colab": {
          "base_uri": "https://localhost:8080/"
        },
        "outputId": "a7cfa9a7-210b-4e2a-c5d5-67d328a6fe24"
      },
      "source": [
        "#4 Filter for Top n Results\n",
        "#4a Declare number of rows to filter by (100,000)\n",
        "row_count = 100000\n",
        "#4a Sort by Segment Desc and limit to row_count\n",
        "filtered_segment_df = segment_df.sort('personal_care_appliances', ascending=False).limit(row_count)\n",
        "#4b Check Results\n",
        "filtered_segment_df.show()\n",
        "print(filtered_segment_df.count())"
      ],
      "execution_count": 13,
      "outputs": [
        {
          "output_type": "stream",
          "text": [
            "+-----------+------------------------+\n",
            "|customer_id|personal_care_appliances|\n",
            "+-----------+------------------------+\n",
            "|    3949232|                       8|\n",
            "|    6660431|                       7|\n",
            "|    1597288|                       5|\n",
            "|   52082728|                       5|\n",
            "|   13096644|                       5|\n",
            "|   30882451|                       5|\n",
            "|   16856119|                       5|\n",
            "|   43642145|                       4|\n",
            "|     768135|                       4|\n",
            "|   45365967|                       4|\n",
            "|   52392440|                       4|\n",
            "|   18280728|                       4|\n",
            "|   48401768|                       4|\n",
            "|   51500774|                       4|\n",
            "|   27257256|                       4|\n",
            "|   11408281|                       4|\n",
            "|   16155270|                       4|\n",
            "|   32399423|                       4|\n",
            "|   38193696|                       4|\n",
            "|   44415965|                       4|\n",
            "+-----------+------------------------+\n",
            "only showing top 20 rows\n",
            "\n",
            "61769\n"
          ],
          "name": "stdout"
        }
      ]
    },
    {
      "cell_type": "markdown",
      "metadata": {
        "id": "iuQnSLoxVvJ5"
      },
      "source": [
        "### Segmentation ETL Complete - Add Database Export Code"
      ]
    },
    {
      "cell_type": "code",
      "metadata": {
        "id": "u1a7WsMM4Fkp"
      },
      "source": [
        "# Configure settings for RDS\n",
        "mode = \"append\"\n",
        "jdbc_url='jdbc:postgresql://<connection_srtring>'\n",
        "config = {\"user\":'<username>', \n",
        "          \"password\": '<password>', \n",
        "          \"driver\":\"org.postgresql.Driver\"}"
      ],
      "execution_count": 14,
      "outputs": []
    },
    {
      "cell_type": "markdown",
      "metadata": {
        "id": "zOE5O-RDXg7y"
      },
      "source": [
        "Note: table name in table='name_segment' must align with table name in Postgres"
      ]
    },
    {
      "cell_type": "code",
      "metadata": {
        "id": "CvdvijJe4FiE"
      },
      "source": [
        "# Write segment table to Postgres/RDS\n",
        "# 11 secs\n",
        "filtered_segment_df.write.jdbc(url=jdbc_url, table='personal_care_appliances_segment', mode=mode, properties=config)"
      ],
      "execution_count": 15,
      "outputs": []
    },
    {
      "cell_type": "markdown",
      "metadata": {
        "id": "hf1b-3fhV2vd"
      },
      "source": [
        "## Apriori Analysis DF\n",
        "### Enter Apriori Transfomations Below - Use df_dropped_2 as Start Point"
      ]
    },
    {
      "cell_type": "code",
      "metadata": {
        "id": "V5fqsDHoWRRo",
        "colab": {
          "base_uri": "https://localhost:8080/"
        },
        "outputId": "afbcc625-71d7-4e1b-ba72-d9f6edf3561c"
      },
      "source": [
        "# 1 Create Apriori DF by First Dropping Addtional Columns\n",
        "apriori_cols_drop = ['product_category', 'product_title', 'star_rating', 'helpful_votes', 'total_votes']\n",
        "apriori_dropped_df = df_dropped_2.drop(*apriori_cols_drop)\n",
        "apriori_dropped_df.show()"
      ],
      "execution_count": 17,
      "outputs": [
        {
          "output_type": "stream",
          "text": [
            "+-----------+--------------+----------+\n",
            "|customer_id|     review_id|product_id|\n",
            "+-----------+--------------+----------+\n",
            "|   32114233|R1QX6706ZWJ1P5|B00OYRW4UE|\n",
            "|   18125776|R3QWMLJHIW6P37|B0000537JQ|\n",
            "|   19917519|R14Z1VR1N0Z9G6|B00HXXO332|\n",
            "|   18277171| R25ZRJL0GH0U0|B00EOB0JA2|\n",
            "|    2593270|R3837KYH7AZNIY|B00OC2O1UC|\n",
            "|    2592955|R2MN0QYCY6EVIV|B00HES9CMS|\n",
            "|   15168265|R3AN2UJ1D42ZS0|B0016BFR4G|\n",
            "|   13761624|R3U29ZLUWEEK4M|B00K504UUG|\n",
            "|   29615023| RRRDOEJZD1Y22|B00P6TUO5G|\n",
            "|   47893062|R2KR5ZEAS859DK|B0006VJ6TO|\n",
            "|    2582596| RR7PGQY763IHF|B00H9L7VIW|\n",
            "|   21969415| RN37YYZBP9BMP|B00P1JNZUW|\n",
            "|   43153609| R1UXGB70OR5TW|B00N5HD340|\n",
            "|   17782951|R1OC5ZNXSGO7P1|B0007DHMVK|\n",
            "|   13710264|R1W4ZN8BPVNWK3|B0002JG2NI|\n",
            "|   30720884|R2KE33CNN5X2B0|B00OYRW4UE|\n",
            "|   35206254|R1A26EDSO0U5N6|B00598WT0C|\n",
            "|   10261156|R3L81GOHVS3E9P|B0006VJ6TO|\n",
            "|   41933766|R24V6VDHS7JMQV|B0006Z0NY2|\n",
            "|   28020969|  RBA56WVCDD5M|B00H9L7VIW|\n",
            "+-----------+--------------+----------+\n",
            "only showing top 20 rows\n",
            "\n"
          ],
          "name": "stdout"
        }
      ]
    },
    {
      "cell_type": "markdown",
      "metadata": {
        "id": "efnKvbn_YDxY"
      },
      "source": [
        "### Prelim Apriori ETL Complete - Add Database Export Code"
      ]
    },
    {
      "cell_type": "code",
      "metadata": {
        "id": "uSTKJzcGO4wv"
      },
      "source": [
        "# Configure settings for RDS\n",
        "mode = \"append\"\n",
        "jdbc_url='jdbc:postgresql://<connection_srtring>'\n",
        "config = {\"user\":'<username>', \n",
        "          \"password\": '<password>', \n",
        "          \"driver\":\"org.postgresql.Driver\"}"
      ],
      "execution_count": 18,
      "outputs": []
    },
    {
      "cell_type": "markdown",
      "metadata": {
        "id": "nmwVVxzUYIsn"
      },
      "source": [
        "Note: table name in table='segment_apriori' must align with table name in Postgres"
      ]
    },
    {
      "cell_type": "code",
      "metadata": {
        "id": "vwcIfmxwO33L"
      },
      "source": [
        "# Write segment_apriori table to RDS\n",
        "# 5 mins\n",
        "apriori_dropped_df.write.jdbc(url=jdbc_url, table='personal_care_appliances_apriori', mode=mode, properties=config)"
      ],
      "execution_count": 19,
      "outputs": []
    },
    {
      "cell_type": "markdown",
      "metadata": {
        "id": "4H-EhptPWT_O"
      },
      "source": [
        "## Amazon Reviews S3 -> Postgres/RDS ETL Complete\n",
        "\n"
      ]
    },
    {
      "cell_type": "markdown",
      "metadata": {
        "id": "vLAhPy7UY-6E"
      },
      "source": [
        "### Run Queries in Postgres to Confirm Segment ETL\n",
        "Check Row Count of Segment Table - SELECT COUNT(*) FROM personal_care_appliances_segment;\n",
        "\n",
        "Check 10 Rows of Segment Table - SELECT * FROM personal_care_appliances__segment LIMIT(10);\n"
      ]
    },
    {
      "cell_type": "code",
      "metadata": {
        "id": "jA4ZFLCuY7bz",
        "colab": {
          "base_uri": "https://localhost:8080/"
        },
        "outputId": "813f42ca-5003-4df2-d810-f7fb5561074e"
      },
      "source": [
        "# Upon Confirmation of Above Checks Run This Cell\n",
        "print('Segment ETL Successful')"
      ],
      "execution_count": 16,
      "outputs": [
        {
          "output_type": "stream",
          "text": [
            "Segment ETL Successful\n"
          ],
          "name": "stdout"
        }
      ]
    },
    {
      "cell_type": "markdown",
      "metadata": {
        "id": "EVw7yd0EZ0Cc"
      },
      "source": [
        "### Run Queries in Postgres to Confirm Apriori ETL\n",
        "Check Row Count of Apriori Table - SELECT COUNT(*) FROM personal_care_appliances_apriori;\n",
        "\n",
        "Check 10 Rows of Apriori Table - SELECT * FROM personal_care_appliances_apriori LIMIT(10);"
      ]
    },
    {
      "cell_type": "code",
      "metadata": {
        "id": "gHJg88FDaN3p",
        "colab": {
          "base_uri": "https://localhost:8080/"
        },
        "outputId": "28db7a06-c19e-4315-c344-568f4f530c96"
      },
      "source": [
        "# Upon Confirmation of Above Checks Run This Cell\n",
        "print('Apriori ETL Successful')"
      ],
      "execution_count": 20,
      "outputs": [
        {
          "output_type": "stream",
          "text": [
            "Apriori ETL Successful\n"
          ],
          "name": "stdout"
        }
      ]
    }
  ]
}
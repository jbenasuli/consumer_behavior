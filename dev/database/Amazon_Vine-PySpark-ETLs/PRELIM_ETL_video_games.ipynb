{
  "nbformat": 4,
  "nbformat_minor": 0,
  "metadata": {
    "colab": {
      "name": "PRELIM_ETL-video_games",
      "provenance": [],
      "collapsed_sections": [],
      "machine_shape": "hm",
      "include_colab_link": true
    },
    "kernelspec": {
      "name": "python3",
      "display_name": "Python 3"
    },
    "nteract": {
      "version": "0.12.3"
    },
    "language_info": {
      "name": "python"
    }
  },
  "cells": [
    {
      "cell_type": "markdown",
      "metadata": {
        "id": "view-in-github",
        "colab_type": "text"
      },
      "source": [
        "<a href=\"https://colab.research.google.com/github/jbenasuli/final_project/blob/database/dev/database/Amazon_Vine-PySpark-ETLs/PRELIM_ETL_video_games.ipynb\" target=\"_parent\"><img src=\"https://colab.research.google.com/assets/colab-badge.svg\" alt=\"Open In Colab\"/></a>"
      ]
    },
    {
      "cell_type": "code",
      "metadata": {
        "id": "V58rxea0HqSa",
        "colab": {
          "base_uri": "https://localhost:8080/"
        },
        "outputId": "67dea987-80a3-4464-bea7-5ded5a89a608"
      },
      "source": [
        "import os\n",
        "# Find the latest version of spark 2.0  from http://www-us.apache.org/dist/spark/ and enter as the spark version\n",
        "# For example:\n",
        "# spark_version = 'spark-3.1.1'\n",
        "spark_version = 'spark-3.1.1'\n",
        "os.environ['SPARK_VERSION']=spark_version\n",
        "\n",
        "# Install Spark and Java\n",
        "!apt-get update\n",
        "!apt-get install openjdk-11-jdk-headless -qq > /dev/null\n",
        "!wget -q http://www-us.apache.org/dist/spark/$SPARK_VERSION/$SPARK_VERSION-bin-hadoop2.7.tgz\n",
        "!tar xf $SPARK_VERSION-bin-hadoop2.7.tgz\n",
        "!pip install -q findspark\n",
        "\n",
        "# Set Environment Variables\n",
        "import os\n",
        "os.environ[\"JAVA_HOME\"] = \"/usr/lib/jvm/java-11-openjdk-amd64\"\n",
        "os.environ[\"SPARK_HOME\"] = f\"/content/{spark_version}-bin-hadoop2.7\"\n",
        "\n",
        "# Start a SparkSession\n",
        "import findspark\n",
        "findspark.init()"
      ],
      "execution_count": 1,
      "outputs": [
        {
          "output_type": "stream",
          "text": [
            "\r0% [Working]\r            \rGet:1 http://security.ubuntu.com/ubuntu bionic-security InRelease [88.7 kB]\n",
            "\r0% [Connecting to archive.ubuntu.com] [1 InRelease 14.2 kB/88.7 kB 16%] [Connec\r0% [Connecting to archive.ubuntu.com (91.189.88.142)] [Connected to cloud.r-pro\r                                                                               \rIgn:2 https://developer.download.nvidia.com/compute/cuda/repos/ubuntu1804/x86_64  InRelease\n",
            "Ign:3 https://developer.download.nvidia.com/compute/machine-learning/repos/ubuntu1804/x86_64  InRelease\n",
            "Get:4 https://developer.download.nvidia.com/compute/cuda/repos/ubuntu1804/x86_64  Release [697 B]\n",
            "Hit:5 https://developer.download.nvidia.com/compute/machine-learning/repos/ubuntu1804/x86_64  Release\n",
            "Get:6 https://cloud.r-project.org/bin/linux/ubuntu bionic-cran40/ InRelease [3,626 B]\n",
            "Get:7 https://developer.download.nvidia.com/compute/cuda/repos/ubuntu1804/x86_64  Release.gpg [836 B]\n",
            "Hit:8 http://archive.ubuntu.com/ubuntu bionic InRelease\n",
            "Get:9 http://ppa.launchpad.net/c2d4u.team/c2d4u4.0+/ubuntu bionic InRelease [15.9 kB]\n",
            "Get:10 http://archive.ubuntu.com/ubuntu bionic-updates InRelease [88.7 kB]\n",
            "Get:11 http://security.ubuntu.com/ubuntu bionic-security/universe amd64 Packages [1,410 kB]\n",
            "Hit:12 http://ppa.launchpad.net/cran/libgit2/ubuntu bionic InRelease\n",
            "Get:13 http://security.ubuntu.com/ubuntu bionic-security/main amd64 Packages [2,116 kB]\n",
            "Get:14 http://archive.ubuntu.com/ubuntu bionic-backports InRelease [74.6 kB]\n",
            "Get:16 http://security.ubuntu.com/ubuntu bionic-security/restricted amd64 Packages [396 kB]\n",
            "Get:17 http://security.ubuntu.com/ubuntu bionic-security/multiverse amd64 Packages [24.7 kB]\n",
            "Hit:18 http://ppa.launchpad.net/deadsnakes/ppa/ubuntu bionic InRelease\n",
            "Get:19 https://cloud.r-project.org/bin/linux/ubuntu bionic-cran40/ Packages [53.9 kB]\n",
            "Get:20 http://ppa.launchpad.net/graphics-drivers/ppa/ubuntu bionic InRelease [15.9 kB]\n",
            "Ign:21 https://developer.download.nvidia.com/compute/cuda/repos/ubuntu1804/x86_64  Packages\n",
            "Get:21 https://developer.download.nvidia.com/compute/cuda/repos/ubuntu1804/x86_64  Packages [742 kB]\n",
            "Get:22 http://ppa.launchpad.net/c2d4u.team/c2d4u4.0+/ubuntu bionic/main Sources [1,759 kB]\n",
            "Get:23 http://archive.ubuntu.com/ubuntu bionic-updates/restricted amd64 Packages [426 kB]\n",
            "Get:24 http://archive.ubuntu.com/ubuntu bionic-updates/multiverse amd64 Packages [31.6 kB]\n",
            "Get:25 http://archive.ubuntu.com/ubuntu bionic-updates/universe amd64 Packages [2,181 kB]\n",
            "Get:26 http://archive.ubuntu.com/ubuntu bionic-updates/main amd64 Packages [2,546 kB]\n",
            "Get:27 http://ppa.launchpad.net/c2d4u.team/c2d4u4.0+/ubuntu bionic/main amd64 Packages [900 kB]\n",
            "Get:28 http://ppa.launchpad.net/graphics-drivers/ppa/ubuntu bionic/main amd64 Packages [53.2 kB]\n",
            "Fetched 12.9 MB in 4s (3,360 kB/s)\n",
            "Reading package lists... Done\n"
          ],
          "name": "stdout"
        }
      ]
    },
    {
      "cell_type": "code",
      "metadata": {
        "id": "_xKwTpATHqSe",
        "colab": {
          "base_uri": "https://localhost:8080/"
        },
        "outputId": "5d7601b0-5d19-40e8-f31d-59d1692d581e"
      },
      "source": [
        "# Download the Postgres driver that will allow Spark to interact with Postgres.\n",
        "!wget https://jdbc.postgresql.org/download/postgresql-42.2.16.jar"
      ],
      "execution_count": 2,
      "outputs": [
        {
          "output_type": "stream",
          "text": [
            "--2021-05-02 22:37:07--  https://jdbc.postgresql.org/download/postgresql-42.2.16.jar\n",
            "Resolving jdbc.postgresql.org (jdbc.postgresql.org)... 72.32.157.228, 2001:4800:3e1:1::228\n",
            "Connecting to jdbc.postgresql.org (jdbc.postgresql.org)|72.32.157.228|:443... connected.\n",
            "HTTP request sent, awaiting response... 200 OK\n",
            "Length: 1002883 (979K) [application/java-archive]\n",
            "Saving to: ‘postgresql-42.2.16.jar’\n",
            "\n",
            "\rpostgresql-42.2.16.   0%[                    ]       0  --.-KB/s               \rpostgresql-42.2.16. 100%[===================>] 979.38K  --.-KB/s    in 0.08s   \n",
            "\n",
            "2021-05-02 22:37:07 (11.6 MB/s) - ‘postgresql-42.2.16.jar’ saved [1002883/1002883]\n",
            "\n"
          ],
          "name": "stdout"
        }
      ]
    },
    {
      "cell_type": "code",
      "metadata": {
        "id": "MMqDAjVS0KN9"
      },
      "source": [
        "from pyspark.sql import SparkSession\n",
        "spark = SparkSession.builder.appName(\"BigData-Challenge\").config(\"spark.driver.extraClassPath\",\"/content/postgresql-42.2.16.jar\").getOrCreate()"
      ],
      "execution_count": 3,
      "outputs": []
    },
    {
      "cell_type": "code",
      "metadata": {
        "id": "hbbRSWPwJw4k"
      },
      "source": [
        "import datetime\n",
        "from pyspark.sql.functions import to_date\n",
        "from pyspark.sql.functions import col\n",
        "from pyspark.sql.types import StructField, StringType, IntegerType, StructType, BooleanType, DateType\n",
        "from pyspark import SparkFiles"
      ],
      "execution_count": 4,
      "outputs": []
    },
    {
      "cell_type": "markdown",
      "metadata": {
        "id": "cyBsySGuY-9V"
      },
      "source": [
        "### Load Amazon Data into Spark DataFrame"
      ]
    },
    {
      "cell_type": "markdown",
      "metadata": {
        "id": "VHY6-k4WgZRO"
      },
      "source": [
        "Note: Enter URL for Desired Dataset"
      ]
    },
    {
      "cell_type": "code",
      "metadata": {
        "id": "CtCmBhQJY-9Z",
        "colab": {
          "base_uri": "https://localhost:8080/"
        },
        "outputId": "77fe293c-1fd4-4d0e-e8d0-ded23de913dd"
      },
      "source": [
        "#1 load product segment\n",
        "url = 'https://s3.amazonaws.com/amazon-reviews-pds/tsv/amazon_reviews_us_Video_Games_v1_00.tsv.gz'\n",
        "spark.sparkContext.addFile(url)\n",
        "df = spark.read.option(\"encoding\", \"UTF-8\").csv(SparkFiles.get(\"\"), sep=\"\\t\", header=True, inferSchema=True)\n",
        "df.show()"
      ],
      "execution_count": 6,
      "outputs": [
        {
          "output_type": "stream",
          "text": [
            "+-----------+-----------+--------------+----------+--------------+--------------------+----------------+-----------+-------------+-----------+----+-----------------+--------------------+--------------------+-----------+\n",
            "|marketplace|customer_id|     review_id|product_id|product_parent|       product_title|product_category|star_rating|helpful_votes|total_votes|vine|verified_purchase|     review_headline|         review_body|review_date|\n",
            "+-----------+-----------+--------------+----------+--------------+--------------------+----------------+-----------+-------------+-----------+----+-----------------+--------------------+--------------------+-----------+\n",
            "|         US|   12039526| RTIS3L2M1F5SM|B001CXYMFS|     737716809|Thrustmaster T-Fl...|     Video Games|          5|            0|          0|   N|                Y|an amazing joysti...|Used this for Eli...| 2015-08-31|\n",
            "|         US|    9636577| R1ZV7R40OLHKD|B00M920ND6|     569686175|Tonsee 6 buttons ...|     Video Games|          5|            0|          0|   N|                Y|Definitely a sile...|Loved it,  I didn...| 2015-08-31|\n",
            "|         US|    2331478|R3BH071QLH8QMC|B0029CSOD2|      98937668|Hidden Mysteries:...|     Video Games|          1|            0|          1|   N|                Y|            One Star|poor quality work...| 2015-08-31|\n",
            "|         US|   52495923|R127K9NTSXA2YH|B00GOOSV98|      23143350|GelTabz Performan...|     Video Games|          3|            0|          0|   N|                Y|good, but could b...|nice, but tend to...| 2015-08-31|\n",
            "|         US|   14533949|R32ZWUXDJPW27Q|B00Y074JOM|     821342511|Zero Suit Samus a...|     Video Games|          4|            0|          0|   N|                Y|   Great but flawed.|Great amiibo, gre...| 2015-08-31|\n",
            "|         US|    2377552|R3AQQ4YUKJWBA6|B002UBI6W6|     328764615|Psyclone Recharge...|     Video Games|          1|            0|          0|   N|                Y|            One Star|The remote consta...| 2015-08-31|\n",
            "|         US|   17521011|R2F0POU5K6F73F|B008XHCLFO|      24234603|Protection for yo...|     Video Games|          5|            0|          0|   N|                Y|              A Must|I have a 2012-201...| 2015-08-31|\n",
            "|         US|   19676307|R3VNR804HYSMR6|B00BRA9R6A|     682267517|   Nerf 3DS XL Armor|     Video Games|          5|            0|          0|   N|                Y|          Five Stars|Perfect, kids lov...| 2015-08-31|\n",
            "|         US|     224068| R3GZTM72WA2QH|B009EPWJLA|     435241890|One Piece: Pirate...|     Video Games|          5|            0|          0|   N|                Y|          Five Stars|            Excelent| 2015-08-31|\n",
            "|         US|   48467989| RNQOY62705W1K|B0000AV7GB|     256572651|Playstation 2 Dan...|     Video Games|          4|            0|          0|   N|                Y|          Four Stars|Slippery but expe...| 2015-08-31|\n",
            "|         US|     106569|R1VTIA3JTYBY02|B00008KTNN|     384411423|Metal Arms: Glitc...|     Video Games|          5|            0|          0|   N|                N|          Five Stars|Love the game. Se...| 2015-08-31|\n",
            "|         US|   48269642|R29DOU8791QZL8|B000A3IA0Y|     472622859|72 Pin Connector ...|     Video Games|          1|            0|          0|   N|                Y| Game will get stuck|Does not fit prop...| 2015-08-31|\n",
            "|         US|   52738710|R15DUT1VIJ9RJZ|B0053BQN34|     577628462|uDraw Gametablet ...|     Video Games|          2|            0|          0|   N|                Y|We have tried it ...|This was way too ...| 2015-08-31|\n",
            "|         US|   10556786|R3IMF2MQ3OU9ZM|B002I0HIMI|     988218515|NBA 2K12(Covers M...|     Video Games|          4|            0|          0|   N|                Y|          Four Stars|Works great good ...| 2015-08-31|\n",
            "|         US|    2963837|R23H79DHOZTYAU|B0081EH12M|     770100932|New Trigger Grips...|     Video Games|          1|            1|          1|   N|                Y|Now i have to buy...|It did not fit th...| 2015-08-31|\n",
            "|         US|   23092109| RIV24EQAIXA4O|B005FMLZQQ|      24647669|Xbox 360 Media Re...|     Video Games|          5|            0|          0|   N|                Y|          Five Stars|perfect lightweig...| 2015-08-31|\n",
            "|         US|   23091728|R3UCNGYDVN24YB|B002BSA388|      33706205|Super Mario Galaxy 2|     Video Games|          5|            0|          0|   N|                Y|          Five Stars|               great| 2015-08-31|\n",
            "|         US|   10712640| RUL4H4XTTN2DY|B00BUSLSAC|     829667834|Nintendo 3DS XL -...|     Video Games|          5|            0|          0|   N|                Y|          Five Stars|Works beautifully...| 2015-08-31|\n",
            "|         US|   17455376|R20JF7Z4DHTNX5|B00KWF38AW|     110680188|Captain Toad:  Tr...|     Video Games|          5|            0|          0|   N|                Y|          Five Stars|Kids loved the ga...| 2015-08-31|\n",
            "|         US|   14754850|R2T1AJ5MFI2260|B00BRQJYA8|     616463426|Lego Batman 2: DC...|     Video Games|          4|            0|          0|   N|                Y|          Four Stars|           Goodngame| 2015-08-31|\n",
            "+-----------+-----------+--------------+----------+--------------+--------------------+----------------+-----------+-------------+-----------+----+-----------------+--------------------+--------------------+-----------+\n",
            "only showing top 20 rows\n",
            "\n"
          ],
          "name": "stdout"
        }
      ]
    },
    {
      "cell_type": "markdown",
      "metadata": {
        "id": "2yUSe55VY-9t"
      },
      "source": [
        "### Create DataFrame - Perform Preliminary Cleaning"
      ]
    },
    {
      "cell_type": "code",
      "metadata": {
        "id": "C8REmY1aY-9u",
        "colab": {
          "base_uri": "https://localhost:8080/"
        },
        "outputId": "d0333d5f-05da-4b00-aac2-655b3b4bb127"
      },
      "source": [
        "#1 Check the schema, print row & column count\n",
        "df.printSchema()\n",
        "print((df.count(), len(df.columns)))"
      ],
      "execution_count": 7,
      "outputs": [
        {
          "output_type": "stream",
          "text": [
            "root\n",
            " |-- marketplace: string (nullable = true)\n",
            " |-- customer_id: integer (nullable = true)\n",
            " |-- review_id: string (nullable = true)\n",
            " |-- product_id: string (nullable = true)\n",
            " |-- product_parent: integer (nullable = true)\n",
            " |-- product_title: string (nullable = true)\n",
            " |-- product_category: string (nullable = true)\n",
            " |-- star_rating: integer (nullable = true)\n",
            " |-- helpful_votes: integer (nullable = true)\n",
            " |-- total_votes: integer (nullable = true)\n",
            " |-- vine: string (nullable = true)\n",
            " |-- verified_purchase: string (nullable = true)\n",
            " |-- review_headline: string (nullable = true)\n",
            " |-- review_body: string (nullable = true)\n",
            " |-- review_date: string (nullable = true)\n",
            "\n",
            "(1785997, 15)\n"
          ],
          "name": "stdout"
        }
      ]
    },
    {
      "cell_type": "code",
      "metadata": {
        "id": "oGosPEeAKCFm",
        "colab": {
          "base_uri": "https://localhost:8080/"
        },
        "outputId": "f2f31b20-3d89-483a-f4c5-09aa3f93d9f6"
      },
      "source": [
        "#2 Drop the round 1 columns\n",
        "columns_to_drop = ['marketplace', 'product_parent', 'vine', 'review_headline', 'review_body', 'review_date']\n",
        "df_dropped = df.drop(*columns_to_drop)\n",
        "df_dropped.show()"
      ],
      "execution_count": 8,
      "outputs": [
        {
          "output_type": "stream",
          "text": [
            "+-----------+--------------+----------+--------------------+----------------+-----------+-------------+-----------+-----------------+\n",
            "|customer_id|     review_id|product_id|       product_title|product_category|star_rating|helpful_votes|total_votes|verified_purchase|\n",
            "+-----------+--------------+----------+--------------------+----------------+-----------+-------------+-----------+-----------------+\n",
            "|   12039526| RTIS3L2M1F5SM|B001CXYMFS|Thrustmaster T-Fl...|     Video Games|          5|            0|          0|                Y|\n",
            "|    9636577| R1ZV7R40OLHKD|B00M920ND6|Tonsee 6 buttons ...|     Video Games|          5|            0|          0|                Y|\n",
            "|    2331478|R3BH071QLH8QMC|B0029CSOD2|Hidden Mysteries:...|     Video Games|          1|            0|          1|                Y|\n",
            "|   52495923|R127K9NTSXA2YH|B00GOOSV98|GelTabz Performan...|     Video Games|          3|            0|          0|                Y|\n",
            "|   14533949|R32ZWUXDJPW27Q|B00Y074JOM|Zero Suit Samus a...|     Video Games|          4|            0|          0|                Y|\n",
            "|    2377552|R3AQQ4YUKJWBA6|B002UBI6W6|Psyclone Recharge...|     Video Games|          1|            0|          0|                Y|\n",
            "|   17521011|R2F0POU5K6F73F|B008XHCLFO|Protection for yo...|     Video Games|          5|            0|          0|                Y|\n",
            "|   19676307|R3VNR804HYSMR6|B00BRA9R6A|   Nerf 3DS XL Armor|     Video Games|          5|            0|          0|                Y|\n",
            "|     224068| R3GZTM72WA2QH|B009EPWJLA|One Piece: Pirate...|     Video Games|          5|            0|          0|                Y|\n",
            "|   48467989| RNQOY62705W1K|B0000AV7GB|Playstation 2 Dan...|     Video Games|          4|            0|          0|                Y|\n",
            "|     106569|R1VTIA3JTYBY02|B00008KTNN|Metal Arms: Glitc...|     Video Games|          5|            0|          0|                N|\n",
            "|   48269642|R29DOU8791QZL8|B000A3IA0Y|72 Pin Connector ...|     Video Games|          1|            0|          0|                Y|\n",
            "|   52738710|R15DUT1VIJ9RJZ|B0053BQN34|uDraw Gametablet ...|     Video Games|          2|            0|          0|                Y|\n",
            "|   10556786|R3IMF2MQ3OU9ZM|B002I0HIMI|NBA 2K12(Covers M...|     Video Games|          4|            0|          0|                Y|\n",
            "|    2963837|R23H79DHOZTYAU|B0081EH12M|New Trigger Grips...|     Video Games|          1|            1|          1|                Y|\n",
            "|   23092109| RIV24EQAIXA4O|B005FMLZQQ|Xbox 360 Media Re...|     Video Games|          5|            0|          0|                Y|\n",
            "|   23091728|R3UCNGYDVN24YB|B002BSA388|Super Mario Galaxy 2|     Video Games|          5|            0|          0|                Y|\n",
            "|   10712640| RUL4H4XTTN2DY|B00BUSLSAC|Nintendo 3DS XL -...|     Video Games|          5|            0|          0|                Y|\n",
            "|   17455376|R20JF7Z4DHTNX5|B00KWF38AW|Captain Toad:  Tr...|     Video Games|          5|            0|          0|                Y|\n",
            "|   14754850|R2T1AJ5MFI2260|B00BRQJYA8|Lego Batman 2: DC...|     Video Games|          4|            0|          0|                Y|\n",
            "+-----------+--------------+----------+--------------------+----------------+-----------+-------------+-----------+-----------------+\n",
            "only showing top 20 rows\n",
            "\n"
          ],
          "name": "stdout"
        }
      ]
    },
    {
      "cell_type": "code",
      "metadata": {
        "id": "1cWyyOQyKB8v",
        "colab": {
          "base_uri": "https://localhost:8080/"
        },
        "outputId": "2f67629b-5f42-41a1-f7fe-28c824ebe942"
      },
      "source": [
        "#3 Filter Step 1:\n",
        "df_filtered = df_dropped.filter(df_dropped.verified_purchase == 'Y')\n",
        "df_filtered.show\n",
        "print((df_filtered.count(), len(df_filtered.columns)))"
      ],
      "execution_count": 9,
      "outputs": [
        {
          "output_type": "stream",
          "text": [
            "(1169701, 9)\n"
          ],
          "name": "stdout"
        }
      ]
    },
    {
      "cell_type": "code",
      "metadata": {
        "id": "fVJDJ4LBRHCV",
        "colab": {
          "base_uri": "https://localhost:8080/"
        },
        "outputId": "379b5d6a-f434-453e-bb27-71b9d17b85d7"
      },
      "source": [
        "#4 drop filtered verified_purchase column\n",
        "columns_to_drop = ['verified_purchase']\n",
        "df_dropped_2 = df_filtered.drop(*columns_to_drop)\n",
        "df_dropped_2.show()"
      ],
      "execution_count": 10,
      "outputs": [
        {
          "output_type": "stream",
          "text": [
            "+-----------+--------------+----------+--------------------+----------------+-----------+-------------+-----------+\n",
            "|customer_id|     review_id|product_id|       product_title|product_category|star_rating|helpful_votes|total_votes|\n",
            "+-----------+--------------+----------+--------------------+----------------+-----------+-------------+-----------+\n",
            "|   12039526| RTIS3L2M1F5SM|B001CXYMFS|Thrustmaster T-Fl...|     Video Games|          5|            0|          0|\n",
            "|    9636577| R1ZV7R40OLHKD|B00M920ND6|Tonsee 6 buttons ...|     Video Games|          5|            0|          0|\n",
            "|    2331478|R3BH071QLH8QMC|B0029CSOD2|Hidden Mysteries:...|     Video Games|          1|            0|          1|\n",
            "|   52495923|R127K9NTSXA2YH|B00GOOSV98|GelTabz Performan...|     Video Games|          3|            0|          0|\n",
            "|   14533949|R32ZWUXDJPW27Q|B00Y074JOM|Zero Suit Samus a...|     Video Games|          4|            0|          0|\n",
            "|    2377552|R3AQQ4YUKJWBA6|B002UBI6W6|Psyclone Recharge...|     Video Games|          1|            0|          0|\n",
            "|   17521011|R2F0POU5K6F73F|B008XHCLFO|Protection for yo...|     Video Games|          5|            0|          0|\n",
            "|   19676307|R3VNR804HYSMR6|B00BRA9R6A|   Nerf 3DS XL Armor|     Video Games|          5|            0|          0|\n",
            "|     224068| R3GZTM72WA2QH|B009EPWJLA|One Piece: Pirate...|     Video Games|          5|            0|          0|\n",
            "|   48467989| RNQOY62705W1K|B0000AV7GB|Playstation 2 Dan...|     Video Games|          4|            0|          0|\n",
            "|   48269642|R29DOU8791QZL8|B000A3IA0Y|72 Pin Connector ...|     Video Games|          1|            0|          0|\n",
            "|   52738710|R15DUT1VIJ9RJZ|B0053BQN34|uDraw Gametablet ...|     Video Games|          2|            0|          0|\n",
            "|   10556786|R3IMF2MQ3OU9ZM|B002I0HIMI|NBA 2K12(Covers M...|     Video Games|          4|            0|          0|\n",
            "|    2963837|R23H79DHOZTYAU|B0081EH12M|New Trigger Grips...|     Video Games|          1|            1|          1|\n",
            "|   23092109| RIV24EQAIXA4O|B005FMLZQQ|Xbox 360 Media Re...|     Video Games|          5|            0|          0|\n",
            "|   23091728|R3UCNGYDVN24YB|B002BSA388|Super Mario Galaxy 2|     Video Games|          5|            0|          0|\n",
            "|   10712640| RUL4H4XTTN2DY|B00BUSLSAC|Nintendo 3DS XL -...|     Video Games|          5|            0|          0|\n",
            "|   17455376|R20JF7Z4DHTNX5|B00KWF38AW|Captain Toad:  Tr...|     Video Games|          5|            0|          0|\n",
            "|   14754850|R2T1AJ5MFI2260|B00BRQJYA8|Lego Batman 2: DC...|     Video Games|          4|            0|          0|\n",
            "|   14533949| RYSSKR5ZTU8JX|B0056WJA6C|           Bodycount|     Video Games|          1|            0|          0|\n",
            "+-----------+--------------+----------+--------------------+----------------+-----------+-------------+-----------+\n",
            "only showing top 20 rows\n",
            "\n"
          ],
          "name": "stdout"
        }
      ]
    },
    {
      "cell_type": "markdown",
      "metadata": {
        "id": "Si3TGL5tHP1Z"
      },
      "source": [
        "## Create Analysis-Specific DFs/Tables\n",
        "### Perform Analysis-Specific Transforms"
      ]
    },
    {
      "cell_type": "markdown",
      "metadata": {
        "id": "hy5OVX7YHaXR"
      },
      "source": [
        "### Segmentation Analysis DF"
      ]
    },
    {
      "cell_type": "code",
      "metadata": {
        "id": "PldvjkUWHCt6",
        "colab": {
          "base_uri": "https://localhost:8080/"
        },
        "outputId": "294c9694-15cd-4a1e-ec17-8b4d7bdf2e9c"
      },
      "source": [
        "# 1 Create Segmentation DF by Droppig Addtional Columns\n",
        "segmentation_cols_drop = ['review_id', 'product_id', 'product_title', 'star_rating', 'helpful_votes', 'total_votes']\n",
        "segmentation_dropped_df = df_dropped_2.drop(*segmentation_cols_drop)\n",
        "segmentation_dropped_df.show()"
      ],
      "execution_count": 11,
      "outputs": [
        {
          "output_type": "stream",
          "text": [
            "+-----------+----------------+\n",
            "|customer_id|product_category|\n",
            "+-----------+----------------+\n",
            "|   12039526|     Video Games|\n",
            "|    9636577|     Video Games|\n",
            "|    2331478|     Video Games|\n",
            "|   52495923|     Video Games|\n",
            "|   14533949|     Video Games|\n",
            "|    2377552|     Video Games|\n",
            "|   17521011|     Video Games|\n",
            "|   19676307|     Video Games|\n",
            "|     224068|     Video Games|\n",
            "|   48467989|     Video Games|\n",
            "|   48269642|     Video Games|\n",
            "|   52738710|     Video Games|\n",
            "|   10556786|     Video Games|\n",
            "|    2963837|     Video Games|\n",
            "|   23092109|     Video Games|\n",
            "|   23091728|     Video Games|\n",
            "|   10712640|     Video Games|\n",
            "|   17455376|     Video Games|\n",
            "|   14754850|     Video Games|\n",
            "|   14533949|     Video Games|\n",
            "+-----------+----------------+\n",
            "only showing top 20 rows\n",
            "\n"
          ],
          "name": "stdout"
        }
      ]
    },
    {
      "cell_type": "markdown",
      "metadata": {
        "id": "GWLZJ8LIWpbK"
      },
      "source": [
        "Note: must change Category Label name in withColumnRenamed('count(product_category)', 'name')"
      ]
    },
    {
      "cell_type": "code",
      "metadata": {
        "id": "CB7H2fA_HCnX",
        "colab": {
          "base_uri": "https://localhost:8080/"
        },
        "outputId": "4e19e4ae-1ba1-4054-e8a7-7d59bc88d148"
      },
      "source": [
        "#2 Segmentation GroupBy\n",
        "#2a GroupBy customer_id\n",
        "#2b Count product_category and rename count columns as Segment Name\n",
        "segment_df = segmentation_dropped_df.groupby(\"customer_id\")\\\n",
        ".agg({'product_category':'count'}).withColumnRenamed('count(product_category)', 'video_games')\n",
        "#2c Check results\n",
        "segment_df.show()"
      ],
      "execution_count": 12,
      "outputs": [
        {
          "output_type": "stream",
          "text": [
            "+-----------+-----------+\n",
            "|customer_id|video_games|\n",
            "+-----------+-----------+\n",
            "|   48670265|          1|\n",
            "|   49103216|          2|\n",
            "|   46261368|          1|\n",
            "|    4883305|          5|\n",
            "|   41192649|          1|\n",
            "|   10437900|          2|\n",
            "|   22245671|          1|\n",
            "|    2574873|          1|\n",
            "|    4696154|          1|\n",
            "|    5621202|          1|\n",
            "|    5871933|          2|\n",
            "|   44089812|          1|\n",
            "|    2845910|          1|\n",
            "|    5274369|          1|\n",
            "|   39069693|          2|\n",
            "|     137793|          1|\n",
            "|   31914942|          3|\n",
            "|    4707708|          2|\n",
            "|   17088720|          2|\n",
            "|   52272486|          3|\n",
            "+-----------+-----------+\n",
            "only showing top 20 rows\n",
            "\n"
          ],
          "name": "stdout"
        }
      ]
    },
    {
      "cell_type": "code",
      "metadata": {
        "id": "B4y9GGlYL46X",
        "colab": {
          "base_uri": "https://localhost:8080/"
        },
        "outputId": "afb1fe32-4039-41b6-ffa3-d99248f64404"
      },
      "source": [
        "#3 Check segment_df Schema and Row Count\n",
        "segment_df.printSchema()\n",
        "print(segment_df.count())"
      ],
      "execution_count": 13,
      "outputs": [
        {
          "output_type": "stream",
          "text": [
            "root\n",
            " |-- customer_id: integer (nullable = true)\n",
            " |-- video_games: long (nullable = false)\n",
            "\n",
            "734317\n"
          ],
          "name": "stdout"
        }
      ]
    },
    {
      "cell_type": "markdown",
      "metadata": {
        "id": "C32fEqE9XE6y"
      },
      "source": [
        "Note: Column Name in df.sort('name' ...) must align with Column name from step 2"
      ]
    },
    {
      "cell_type": "code",
      "metadata": {
        "id": "YnyAXUQ0OVTM",
        "colab": {
          "base_uri": "https://localhost:8080/"
        },
        "outputId": "bd0c05c2-50a6-4a43-e3ca-3a27c1edbfa2"
      },
      "source": [
        "#4 Filter for Top n Results\n",
        "#4a Declare number of rows to filter by (100,000)\n",
        "row_count = 100000\n",
        "#4a Sort by Segment Desc and limit to row_count\n",
        "filtered_segment_df = segment_df.sort('video_games', ascending=False).limit(row_count)\n",
        "#4b Check Results\n",
        "filtered_segment_df.show()\n",
        "print(filtered_segment_df.count())"
      ],
      "execution_count": 14,
      "outputs": [
        {
          "output_type": "stream",
          "text": [
            "+-----------+-----------+\n",
            "|customer_id|video_games|\n",
            "+-----------+-----------+\n",
            "|   24594001|        407|\n",
            "|   10075230|        218|\n",
            "|    6010757|        170|\n",
            "|   15913633|        146|\n",
            "|   12354745|        121|\n",
            "|    2335562|        114|\n",
            "|   51310953|        111|\n",
            "|   15506517|        109|\n",
            "|   48373154|        105|\n",
            "|   14886512|        105|\n",
            "|    5102093|        104|\n",
            "|   43452218|        103|\n",
            "|   13548400|        100|\n",
            "|   42246054|         99|\n",
            "|   12470583|         94|\n",
            "|   13516428|         94|\n",
            "|   44561972|         93|\n",
            "|   10345078|         92|\n",
            "|   38614358|         92|\n",
            "|   14513464|         92|\n",
            "+-----------+-----------+\n",
            "only showing top 20 rows\n",
            "\n",
            "100000\n"
          ],
          "name": "stdout"
        }
      ]
    },
    {
      "cell_type": "markdown",
      "metadata": {
        "id": "iuQnSLoxVvJ5"
      },
      "source": [
        "### Segmentation ETL Complete - Add Database Export Code"
      ]
    },
    {
      "cell_type": "code",
      "metadata": {
        "id": "u1a7WsMM4Fkp"
      },
      "source": [
        "# Configure settings for RDS\n",
        "mode = \"append\"\n",
        "jdbc_url='jdbc:postgresql://<connection_srtring>'\n",
        "config = {\"user\":'<username>', \n",
        "          \"password\": '<password>', \n",
        "          \"driver\":\"org.postgresql.Driver\"}"
      ],
      "execution_count": 15,
      "outputs": []
    },
    {
      "cell_type": "markdown",
      "metadata": {
        "id": "zOE5O-RDXg7y"
      },
      "source": [
        "Note: table name in table='name_segment' must align with table name in Postgres"
      ]
    },
    {
      "cell_type": "code",
      "metadata": {
        "id": "CvdvijJe4FiE"
      },
      "source": [
        "# Write segment table to Postgres/RDS\n",
        "# 54 secs\n",
        "filtered_segment_df.write.jdbc(url=jdbc_url, table='video_games_segment', mode=mode, properties=config)"
      ],
      "execution_count": 16,
      "outputs": []
    },
    {
      "cell_type": "markdown",
      "metadata": {
        "id": "hf1b-3fhV2vd"
      },
      "source": [
        "## Apriori Analysis DF\n",
        "### Enter Apriori Transfomations Below - Use df_dropped_2 as Start Point"
      ]
    },
    {
      "cell_type": "code",
      "metadata": {
        "id": "V5fqsDHoWRRo",
        "colab": {
          "base_uri": "https://localhost:8080/"
        },
        "outputId": "3466646b-2de6-4f75-b229-3218420446a4"
      },
      "source": [
        "# 1 Create Apriori DF by Dropping Columns\n",
        "apriori_cols_drop = ['product_category', 'product_title', 'star_rating', 'helpful_votes', 'total_votes']\n",
        "apriori_dropped_df = df_dropped_2.drop(*apriori_cols_drop)\n",
        "apriori_dropped_df.show()"
      ],
      "execution_count": 18,
      "outputs": [
        {
          "output_type": "stream",
          "text": [
            "+-----------+--------------+----------+\n",
            "|customer_id|     review_id|product_id|\n",
            "+-----------+--------------+----------+\n",
            "|   12039526| RTIS3L2M1F5SM|B001CXYMFS|\n",
            "|    9636577| R1ZV7R40OLHKD|B00M920ND6|\n",
            "|    2331478|R3BH071QLH8QMC|B0029CSOD2|\n",
            "|   52495923|R127K9NTSXA2YH|B00GOOSV98|\n",
            "|   14533949|R32ZWUXDJPW27Q|B00Y074JOM|\n",
            "|    2377552|R3AQQ4YUKJWBA6|B002UBI6W6|\n",
            "|   17521011|R2F0POU5K6F73F|B008XHCLFO|\n",
            "|   19676307|R3VNR804HYSMR6|B00BRA9R6A|\n",
            "|     224068| R3GZTM72WA2QH|B009EPWJLA|\n",
            "|   48467989| RNQOY62705W1K|B0000AV7GB|\n",
            "|   48269642|R29DOU8791QZL8|B000A3IA0Y|\n",
            "|   52738710|R15DUT1VIJ9RJZ|B0053BQN34|\n",
            "|   10556786|R3IMF2MQ3OU9ZM|B002I0HIMI|\n",
            "|    2963837|R23H79DHOZTYAU|B0081EH12M|\n",
            "|   23092109| RIV24EQAIXA4O|B005FMLZQQ|\n",
            "|   23091728|R3UCNGYDVN24YB|B002BSA388|\n",
            "|   10712640| RUL4H4XTTN2DY|B00BUSLSAC|\n",
            "|   17455376|R20JF7Z4DHTNX5|B00KWF38AW|\n",
            "|   14754850|R2T1AJ5MFI2260|B00BRQJYA8|\n",
            "|   14533949| RYSSKR5ZTU8JX|B0056WJA6C|\n",
            "+-----------+--------------+----------+\n",
            "only showing top 20 rows\n",
            "\n"
          ],
          "name": "stdout"
        }
      ]
    },
    {
      "cell_type": "markdown",
      "metadata": {
        "id": "efnKvbn_YDxY"
      },
      "source": [
        "### Prelim Apriori ETL Complete - Add Database Export Code"
      ]
    },
    {
      "cell_type": "code",
      "metadata": {
        "id": "uSTKJzcGO4wv"
      },
      "source": [
        "# Configure settings for RDS\n",
        "mode = \"append\"\n",
        "jdbc_url='jdbc:postgresql://<connection_srtring>'\n",
        "config = {\"user\":'<username>', \n",
        "          \"password\": '<password>', \n",
        "          \"driver\":\"org.postgresql.Driver\"}"
      ],
      "execution_count": 19,
      "outputs": []
    },
    {
      "cell_type": "markdown",
      "metadata": {
        "id": "nmwVVxzUYIsn"
      },
      "source": [
        "Note: table name in table='segment_apriori' must align with table name in Postgres"
      ]
    },
    {
      "cell_type": "code",
      "metadata": {
        "id": "vwcIfmxwO33L"
      },
      "source": [
        "# Write segment_apriori table to RDS\n",
        "# 2 mins 56 secs\n",
        "apriori_dropped_df.write.jdbc(url=jdbc_url, table='video_games_apriori', mode=mode, properties=config)"
      ],
      "execution_count": 20,
      "outputs": []
    },
    {
      "cell_type": "markdown",
      "metadata": {
        "id": "4H-EhptPWT_O"
      },
      "source": [
        "## Amazon Reviews S3 -> Postgres/RDS ETL Complete\n",
        "\n"
      ]
    },
    {
      "cell_type": "markdown",
      "metadata": {
        "id": "vLAhPy7UY-6E"
      },
      "source": [
        "### Run Queries in Postgres to Confirm Segment ETL\n",
        "Check Row Count of Segment Table - SELECT COUNT(*) FROM video_games_segment;\n",
        "\n",
        "Check 10 Rows of Segment Table - SELECT * FROM video_games_segment LIMIT(10);\n"
      ]
    },
    {
      "cell_type": "code",
      "metadata": {
        "id": "jA4ZFLCuY7bz",
        "colab": {
          "base_uri": "https://localhost:8080/"
        },
        "outputId": "aa220926-7ee0-406a-d485-32ada92980ae"
      },
      "source": [
        "# Upon Confirmation of Above Checks Run This Cell\n",
        "print('Segment ETL Successful')"
      ],
      "execution_count": 17,
      "outputs": [
        {
          "output_type": "stream",
          "text": [
            "Segment ETL Successful\n"
          ],
          "name": "stdout"
        }
      ]
    },
    {
      "cell_type": "markdown",
      "metadata": {
        "id": "EVw7yd0EZ0Cc"
      },
      "source": [
        "### Run Queries in Postgres to Confirm Apriori ETL\n",
        "Check Row Count of Apriori Table - SELECT COUNT(*) FROM video_games_apriori;\n",
        "\n",
        "Check 10 Rows of Apriori Table - SELECT * FROM video_games_apriori LIMIT(10);"
      ]
    },
    {
      "cell_type": "code",
      "metadata": {
        "id": "gHJg88FDaN3p"
      },
      "source": [
        "# Upon Confirmation of Above Checks Run This Cell\n",
        "print('Apriori ETL Successful')"
      ],
      "execution_count": null,
      "outputs": []
    },
    {
      "cell_type": "markdown",
      "metadata": {
        "id": "5Jxw6IzzQE4F"
      },
      "source": [
        "## Save Copy to Info\n",
        "### Path = dev/database/Amazon_Vine-PySpark-ETLs\n",
        "### Branch = database"
      ]
    }
  ]
}
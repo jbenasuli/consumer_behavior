{
  "nbformat": 4,
  "nbformat_minor": 0,
  "metadata": {
    "colab": {
      "name": "Copy of product_specific_dbextract.ipynb",
      "provenance": [],
      "collapsed_sections": [],
      "machine_shape": "hm",
      "include_colab_link": true
    },
    "kernelspec": {
      "name": "python3",
      "display_name": "Python 3"
    },
    "language_info": {
      "name": "python"
    }
  },
  "cells": [
    {
      "cell_type": "markdown",
      "metadata": {
        "id": "view-in-github",
        "colab_type": "text"
      },
      "source": [
        "<a href=\"https://colab.research.google.com/github/jbenasuli/final_project/blob/database/dev/database/Amazon_Vine-PySpark-ETLs/airmattress_extract.ipynb\" target=\"_parent\"><img src=\"https://colab.research.google.com/assets/colab-badge.svg\" alt=\"Open In Colab\"/></a>"
      ]
    },
    {
      "cell_type": "code",
      "metadata": {
        "colab": {
          "base_uri": "https://localhost:8080/"
        },
        "id": "l8zlJBEjBxr2",
        "outputId": "2e932758-be11-4d19-da20-17adb5a5d591"
      },
      "source": [
        "import os\n",
        "# Find the latest version of spark 2.0  from http://www-us.apache.org/dist/spark/ and enter as the spark version\n",
        "# For example:\n",
        "# spark_version = 'spark-3.0.0'\n",
        "spark_version = 'spark-3.1.1'\n",
        "os.environ['SPARK_VERSION']=spark_version\n",
        "\n",
        "# Install Spark and Java\n",
        "!apt-get update\n",
        "!apt-get install openjdk-11-jdk-headless -qq > /dev/null\n",
        "!wget -q http://www-us.apache.org/dist/spark/$SPARK_VERSION/$SPARK_VERSION-bin-hadoop2.7.tgz\n",
        "!tar xf $SPARK_VERSION-bin-hadoop2.7.tgz\n",
        "!pip install -q findspark\n",
        "\n",
        "# Set Environment Variables\n",
        "import os\n",
        "os.environ[\"JAVA_HOME\"] = \"/usr/lib/jvm/java-11-openjdk-amd64\"\n",
        "os.environ[\"SPARK_HOME\"] = f\"/content/{spark_version}-bin-hadoop2.7\"\n",
        "\n",
        "# Start a SparkSession\n",
        "import findspark\n",
        "findspark.init()"
      ],
      "execution_count": 1,
      "outputs": [
        {
          "output_type": "stream",
          "text": [
            "\r0% [Working]\r            \rHit:1 https://cloud.r-project.org/bin/linux/ubuntu bionic-cran40/ InRelease\n",
            "\r0% [Connecting to archive.ubuntu.com] [Connecting to security.ubuntu.com (91.18\r0% [1 InRelease gpgv 3,626 B] [Connecting to archive.ubuntu.com] [Waiting for h\r                                                                               \rHit:2 http://security.ubuntu.com/ubuntu bionic-security InRelease\n",
            "\r0% [1 InRelease gpgv 3,626 B] [Connecting to archive.ubuntu.com] [Waiting for h\r                                                                               \rIgn:3 https://developer.download.nvidia.com/compute/cuda/repos/ubuntu1804/x86_64  InRelease\n",
            "\r0% [1 InRelease gpgv 3,626 B] [Connecting to archive.ubuntu.com (91.189.88.152)\r                                                                               \rHit:4 http://ppa.launchpad.net/c2d4u.team/c2d4u4.0+/ubuntu bionic InRelease\n",
            "\r0% [1 InRelease gpgv 3,626 B] [Connecting to archive.ubuntu.com (91.189.88.152)\r                                                                               \rIgn:5 https://developer.download.nvidia.com/compute/machine-learning/repos/ubuntu1804/x86_64  InRelease\n",
            "\r0% [1 InRelease gpgv 3,626 B] [Connecting to archive.ubuntu.com (91.189.88.152)\r                                                                               \rHit:6 https://developer.download.nvidia.com/compute/cuda/repos/ubuntu1804/x86_64  Release\n",
            "Hit:7 https://developer.download.nvidia.com/compute/machine-learning/repos/ubuntu1804/x86_64  Release\n",
            "Hit:8 http://archive.ubuntu.com/ubuntu bionic InRelease\n",
            "Hit:9 http://ppa.launchpad.net/cran/libgit2/ubuntu bionic InRelease\n",
            "Hit:10 http://archive.ubuntu.com/ubuntu bionic-updates InRelease\n",
            "Hit:11 http://archive.ubuntu.com/ubuntu bionic-backports InRelease\n",
            "Hit:12 http://ppa.launchpad.net/deadsnakes/ppa/ubuntu bionic InRelease\n",
            "Hit:13 http://ppa.launchpad.net/graphics-drivers/ppa/ubuntu bionic InRelease\n",
            "Reading package lists... Done\n"
          ],
          "name": "stdout"
        }
      ]
    },
    {
      "cell_type": "code",
      "metadata": {
        "colab": {
          "base_uri": "https://localhost:8080/"
        },
        "id": "6TyW2pR27h6Q",
        "outputId": "3a972df2-cd63-4d01-bab2-0fef558f5575"
      },
      "source": [
        "# Download the Postgres driver that will allow Spark to interact with Postgres.\n",
        "!wget https://jdbc.postgresql.org/download/postgresql-42.2.16.jar"
      ],
      "execution_count": 2,
      "outputs": [
        {
          "output_type": "stream",
          "text": [
            "--2021-04-30 22:38:43--  https://jdbc.postgresql.org/download/postgresql-42.2.16.jar\n",
            "Resolving jdbc.postgresql.org (jdbc.postgresql.org)... 72.32.157.228, 2001:4800:3e1:1::228\n",
            "Connecting to jdbc.postgresql.org (jdbc.postgresql.org)|72.32.157.228|:443... connected.\n",
            "HTTP request sent, awaiting response... 200 OK\n",
            "Length: 1002883 (979K) [application/java-archive]\n",
            "Saving to: ‘postgresql-42.2.16.jar.1’\n",
            "\n",
            "postgresql-42.2.16. 100%[===================>] 979.38K  --.-KB/s    in 0.09s   \n",
            "\n",
            "2021-04-30 22:38:44 (11.2 MB/s) - ‘postgresql-42.2.16.jar.1’ saved [1002883/1002883]\n",
            "\n"
          ],
          "name": "stdout"
        }
      ]
    },
    {
      "cell_type": "code",
      "metadata": {
        "id": "sIxH8PBdCBt3"
      },
      "source": [
        "from pyspark.sql import SparkSession\n",
        "spark = SparkSession.builder.appName(\"BigData-Challenge\").config(\"spark.driver.extraClassPath\",\"/content/postgresql-42.2.16.jar\").getOrCreate()"
      ],
      "execution_count": 3,
      "outputs": []
    },
    {
      "cell_type": "code",
      "metadata": {
        "id": "O1QYt7uo4RDj"
      },
      "source": [
        "import datetime\n",
        "from pyspark.sql.functions import to_date\n",
        "from pyspark.sql.functions import col\n",
        "from pyspark.sql.types import StructField, StringType, IntegerType, StructType, BooleanType, DateType\n",
        "from pyspark import SparkFiles"
      ],
      "execution_count": 4,
      "outputs": []
    },
    {
      "cell_type": "code",
      "metadata": {
        "colab": {
          "base_uri": "https://localhost:8080/"
        },
        "id": "XFX0cqSGCBwT",
        "outputId": "d9d60c61-ac7d-4afb-8ec5-c27994758697"
      },
      "source": [
        "# Create dataframe with raw data from 'outdoors' category\n",
        "url = \"https://s3.amazonaws.com/amazon-reviews-pds/tsv/amazon_reviews_us_Outdoors_v1_00.tsv.gz\"\n",
        "spark.sparkContext.addFile(url)\n",
        "df = spark.read.option(\"encoding\", \"UTF-8\").csv(SparkFiles.get(\"\"), sep=\"\\t\", header=True, inferSchema=True)\n",
        "df.show()\n",
        "print((df.count(), len(df.columns)))"
      ],
      "execution_count": 5,
      "outputs": [
        {
          "output_type": "stream",
          "text": [
            "+-----------+-----------+--------------+----------+--------------+--------------------+----------------+-----------+-------------+-----------+----+-----------------+--------------------+--------------------+-----------+\n",
            "|marketplace|customer_id|     review_id|product_id|product_parent|       product_title|product_category|star_rating|helpful_votes|total_votes|vine|verified_purchase|     review_headline|         review_body|review_date|\n",
            "+-----------+-----------+--------------+----------+--------------+--------------------+----------------+-----------+-------------+-----------+----+-----------------+--------------------+--------------------+-----------+\n",
            "|         US|   18446823|R35T75OLUGHL5C|B000NV6H94|     110804376|Stearns Youth Boa...|        Outdoors|          4|            0|          0|   N|                Y|          Four Stars|          GOOD VALUE| 2015-08-31|\n",
            "|         US|   13724367|R2BV735O46BN33|B000IN0W3Y|     624096774|Primal Wear Men's...|        Outdoors|          5|            0|          0|   N|                Y|          Five Stars|  Excellent quality.| 2015-08-31|\n",
            "|         US|   51001958|R2NBEUGPQQGXP1|B008RBJXFM|     278970944|Osprey Hydraulics...|        Outdoors|          4|            0|          0|   N|                Y|Only Flaw Is The Cap|3rd season using ...| 2015-08-31|\n",
            "|         US|   32866903|R17LLAOJ8ITK0S|B00FK8WUQY|     312877650|CamelBak eddy .75...|        Outdoors|          3|            1|          1|   N|                Y|Poor design leads...|poor construction...| 2015-08-31|\n",
            "|         US|   30907790|R39PEQBT5ISEF4|B00EZA3VW0|     305567912|Children Black Re...|        Outdoors|          1|            0|          0|   N|                Y|Very bad quality,...|Very bad quality,...| 2015-08-31|\n",
            "|         US|   20232229|R3GNM3SU9VHJFT|B006JA8WEG|     842306035|Ibera Bicycle Tri...|        Outdoors|          4|            1|          1|   N|                Y|Nice bag. Should ...|Nice bag. Should ...| 2015-08-31|\n",
            "|         US|   17698862| R2Y81OP0EK467|B002PWFSEO|     451480122|Therm-a-Rest Comp...|        Outdoors|          5|            0|          0|   N|                Y|Very comfortable ...|Gave this to my s...| 2015-08-31|\n",
            "|         US|   38486114|R2LFGSI6HAYH5F|B002DZGKHW|     124386306|Sawyer Products P...|        Outdoors|          5|            1|          1|   N|                Y| Worked like a charm|Went on vacation ...| 2015-08-31|\n",
            "|         US|   26319572|R297G6ED1IQO7W|B00ABA08F6|     991442421|Zippo Hand Warmer...|        Outdoors|          5|            1|          1|   N|                Y|Great item. Gets ...|Great item. Gets ...| 2015-08-31|\n",
            "|         US|   27152337| RE27RFC6101N6|B003Z8WIHC|     886483892|Camp Chef Dutch O...|        Outdoors|          5|            0|          0|   N|                Y|Great value for t...|I am so glad I bo...| 2015-08-31|\n",
            "|         US|   12516845|R3BPDME6E94W8Z|B007CP6UK0|     150224054|3CERA Portable Wi...|        Outdoors|          5|            0|          0|   N|                Y|          Five Stars|        good to have| 2015-08-31|\n",
            "|         US|    3225242|R2P08O1RILUOX3|B003V3U9JK|     343847969|Texsport King Kot...|        Outdoors|          3|            0|          0|   N|                Y|Cot set up inconv...|VERY difficult to...| 2015-08-31|\n",
            "|         US|     961839|R37CVAB03PTDVI|B00Y846HN8|     858088629|Wallygadgets 2 Wh...|        Outdoors|          5|            0|          1|   N|                Y|          Five Stars|Thanks excellent ...| 2015-08-31|\n",
            "|         US|   47796452| RAWNWOGXPCPMD|B00IYQ84VY|     474493517|RainStoppers 34-I...|        Outdoors|          5|            0|          0|   N|                Y|          Five Stars|This umbrella is ...| 2015-08-31|\n",
            "|         US|   32004835| R5DYGP6ASX77M|B002MYCKLY|     920014456|Alpha Deluxe Port...|        Outdoors|          5|            0|          0|   N|                Y|          Five Stars|Love it !! I even...| 2015-08-31|\n",
            "|         US|   23972939|R1O0SAOOGF2KG7|B00EZV69JG|     128489321|Speedfil Z4 BTA B...|        Outdoors|          4|            0|          0|   N|                Y|        Good enough.|This is a fine mo...| 2015-08-31|\n",
            "|         US|   40889047|R35NJUT0U3MU3V|B00AWOT3T8|     571303876|O'Brien Kids Plat...|        Outdoors|          5|            0|          0|   N|                Y| Got Up on First Try|We just bought th...| 2015-08-31|\n",
            "|         US|   11244387|R242C08MF9D1AH|B0000AXTID|     739769424|Kwik-Tek F-5R Pla...|        Outdoors|          5|            0|          0|   N|                Y|They go over an a...|I have these on m...| 2015-08-31|\n",
            "|         US|   20121211| R3RYG8TJTO4E2|B00IFHFJXI|     984009972|Ivation Portable ...|        Outdoors|          5|            0|          0|   N|                Y|Greatest Item I b...|This is the best ...| 2015-08-31|\n",
            "|         US|   25657249|R3IKH1DNY0CP9F|B00KFILTWU|     405521681|GreenInsync Repla...|        Outdoors|          2|            0|          0|   N|                Y|I received this p...|I received this p...| 2015-08-31|\n",
            "+-----------+-----------+--------------+----------+--------------+--------------------+----------------+-----------+-------------+-----------+----+-----------------+--------------------+--------------------+-----------+\n",
            "only showing top 20 rows\n",
            "\n",
            "(2302401, 15)\n"
          ],
          "name": "stdout"
        }
      ]
    },
    {
      "cell_type": "code",
      "metadata": {
        "colab": {
          "base_uri": "https://localhost:8080/"
        },
        "id": "YdoW7UiRC_do",
        "outputId": "6ae25b73-f2e3-4ac0-e6ee-b13d095ea307"
      },
      "source": [
        "# Filter the data and create a new DataFrame or table to retrieve all the rows for that specific product\n",
        "airmattress_df = df.filter(df.product_id == \"B000M0MJU2\")\n",
        "airmattress_df.show()"
      ],
      "execution_count": 6,
      "outputs": [
        {
          "output_type": "stream",
          "text": [
            "+-----------+-----------+--------------+----------+--------------+--------------------+----------------+-----------+-------------+-----------+----+-----------------+--------------------+--------------------+-----------+\n",
            "|marketplace|customer_id|     review_id|product_id|product_parent|       product_title|product_category|star_rating|helpful_votes|total_votes|vine|verified_purchase|     review_headline|         review_body|review_date|\n",
            "+-----------+-----------+--------------+----------+--------------+--------------------+----------------+-----------+-------------+-----------+----+-----------------+--------------------+--------------------+-----------+\n",
            "|         US|   46387114|R26RZ3C5VL3H5W|B000M0MJU2|     805416447|Intex Raised Down...|        Outdoors|          5|            0|          0|   N|                Y|          Five Stars|Very comfortable ...| 2015-08-31|\n",
            "|         US|   44581842|R2A498KG3CWVC3|B000M0MJU2|     805416447|Intex Raised Down...|        Outdoors|          1|            1|          1|   N|                N|    Cannot Recommend|This airmatress d...| 2015-08-31|\n",
            "|         US|   32473989|R33Z46RRJXS3O7|B000M0MJU2|     805416447|Intex Raised Down...|        Outdoors|          5|            0|          0|   N|                Y|          Five Stars|Good product Grea...| 2015-08-31|\n",
            "|         US|    7668480|R1W6FG4HPA0K6C|B000M0MJU2|     805416447|Intex Raised Down...|        Outdoors|          5|            0|          0|   N|                Y|          Five Stars|Super comfortable...| 2015-08-31|\n",
            "|         US|    2368997|R3JTF0SET2BV4Y|B000M0MJU2|     805416447|Intex Raised Down...|        Outdoors|          5|            0|          0|   N|                Y|          Five Stars|                good| 2015-08-31|\n",
            "|         US|   18058018|R3F9612FGI1Z7J|B000M0MJU2|     805416447|Intex Raised Down...|        Outdoors|          5|            0|          0|   N|                Y|   Nice air mattress|Nice air mattress...| 2015-08-31|\n",
            "|         US|   12475486|R32QY0RIV9431Y|B000M0MJU2|     805416447|Intex Raised Down...|        Outdoors|          5|            0|          0|   N|                Y|and the mattress ...|I've already used...| 2015-08-30|\n",
            "|         US|   21029830| RYQ2Z9ZLMS0UU|B000M0MJU2|     805416447|Intex Raised Down...|        Outdoors|          5|            0|          0|   N|                Y|... but they serv...|Thought they were...| 2015-08-30|\n",
            "|         US|   35573763|R33S8HEPGT46PA|B000M0MJU2|     805416447|Intex Raised Down...|        Outdoors|          5|            0|          0|   N|                Y|          Five Stars|Best extra bed, e...| 2015-08-30|\n",
            "|         US|     599402| RUP59IEO70M9T|B000M0MJU2|     805416447|Intex Raised Down...|        Outdoors|          1|            0|          0|   N|                Y|I love this but i...|I love this but i...| 2015-08-30|\n",
            "|         US|    2281408|R1GGP7ZOM0SH0L|B000M0MJU2|     805416447|Intex Raised Down...|        Outdoors|          3|            0|          0|   N|                Y|         Three Stars|This air bed leak...| 2015-08-30|\n",
            "|         US|   12187001|R3S7TE4GBA58LO|B000M0MJU2|     805416447|Intex Raised Down...|        Outdoors|          4|            0|          0|   N|                Y|My Mom felt comfo...|My Mom felt comfo...| 2015-08-30|\n",
            "|         US|   11214207|R2GMNUQVY8DEE3|B000M0MJU2|     805416447|Intex Raised Down...|        Outdoors|          5|            0|          0|   N|                Y|          Five Stars|      It worked well| 2015-08-30|\n",
            "|         US|    4591182| RHT0A841S8UJG|B000M0MJU2|     805416447|Intex Raised Down...|        Outdoors|          1|            1|          1|   N|                N|Its garbage had m...|Its garbage had m...| 2015-08-30|\n",
            "|         US|   49237740|R2JOXI54NG9XD8|B000M0MJU2|     805416447|Intex Raised Down...|        Outdoors|          2|            0|          0|   N|                Y|     Not as expected|Not comfortable a...| 2015-08-29|\n",
            "|         US|   17826608|R2N0AGW8FQIC2G|B000M0MJU2|     805416447|Intex Raised Down...|        Outdoors|          5|            0|          1|   N|                Y| Great nights sleep.|I had my doubts a...| 2015-08-29|\n",
            "|         US|     146356|R2603JT1LW4LFD|B000M0MJU2|     805416447|Intex Raised Down...|        Outdoors|          5|            0|          0|   N|                Y|          Five Stars|i love it and it ...| 2015-08-29|\n",
            "|         US|   21447444|R38JUOE3FDCREY|B000M0MJU2|     805416447|Intex Raised Down...|        Outdoors|          1|            0|          0|   N|                Y|Busted After 30 Days|We've had it a mo...| 2015-08-29|\n",
            "|         US|   22499938|R2UWVFEJH5JMKY|B000M0MJU2|     805416447|Intex Raised Down...|        Outdoors|          4|            0|          0|   N|                Y|            Worth it|Easy to inflate &...| 2015-08-29|\n",
            "|         US|    8348926|R28S38VVTGQH9N|B000M0MJU2|     805416447|Intex Raised Down...|        Outdoors|          1|            1|          1|   N|                N|      Don't buy one!|Don't buy one I'v...| 2015-08-28|\n",
            "+-----------+-----------+--------------+----------+--------------+--------------------+----------------+-----------+-------------+-----------+----+-----------------+--------------------+--------------------+-----------+\n",
            "only showing top 20 rows\n",
            "\n"
          ],
          "name": "stdout"
        }
      ]
    },
    {
      "cell_type": "code",
      "metadata": {
        "colab": {
          "base_uri": "https://localhost:8080/"
        },
        "id": "Dv97UE2W4BtY",
        "outputId": "39ddff27-0720-4d27-e581-f008d4c179cd"
      },
      "source": [
        "#2 Check the schema\n",
        "airmattress_df.printSchema()"
      ],
      "execution_count": 7,
      "outputs": [
        {
          "output_type": "stream",
          "text": [
            "root\n",
            " |-- marketplace: string (nullable = true)\n",
            " |-- customer_id: integer (nullable = true)\n",
            " |-- review_id: string (nullable = true)\n",
            " |-- product_id: string (nullable = true)\n",
            " |-- product_parent: integer (nullable = true)\n",
            " |-- product_title: string (nullable = true)\n",
            " |-- product_category: string (nullable = true)\n",
            " |-- star_rating: integer (nullable = true)\n",
            " |-- helpful_votes: integer (nullable = true)\n",
            " |-- total_votes: integer (nullable = true)\n",
            " |-- vine: string (nullable = true)\n",
            " |-- verified_purchase: string (nullable = true)\n",
            " |-- review_headline: string (nullable = true)\n",
            " |-- review_body: string (nullable = true)\n",
            " |-- review_date: string (nullable = true)\n",
            "\n"
          ],
          "name": "stdout"
        }
      ]
    },
    {
      "cell_type": "code",
      "metadata": {
        "colab": {
          "base_uri": "https://localhost:8080/"
        },
        "id": "YDL3Y5XN4FrS",
        "outputId": "51e3b526-114a-4003-9d56-2a3aa1bdff27"
      },
      "source": [
        "#3 Drop the non-beneficial columns\n",
        "columns_to_drop = [\"marketplace\"]\n",
        "airmattress_df = airmattress_df.drop(*columns_to_drop)\n",
        "airmattress_df.show()"
      ],
      "execution_count": 8,
      "outputs": [
        {
          "output_type": "stream",
          "text": [
            "+-----------+--------------+----------+--------------+--------------------+----------------+-----------+-------------+-----------+----+-----------------+--------------------+--------------------+-----------+\n",
            "|customer_id|     review_id|product_id|product_parent|       product_title|product_category|star_rating|helpful_votes|total_votes|vine|verified_purchase|     review_headline|         review_body|review_date|\n",
            "+-----------+--------------+----------+--------------+--------------------+----------------+-----------+-------------+-----------+----+-----------------+--------------------+--------------------+-----------+\n",
            "|   46387114|R26RZ3C5VL3H5W|B000M0MJU2|     805416447|Intex Raised Down...|        Outdoors|          5|            0|          0|   N|                Y|          Five Stars|Very comfortable ...| 2015-08-31|\n",
            "|   44581842|R2A498KG3CWVC3|B000M0MJU2|     805416447|Intex Raised Down...|        Outdoors|          1|            1|          1|   N|                N|    Cannot Recommend|This airmatress d...| 2015-08-31|\n",
            "|   32473989|R33Z46RRJXS3O7|B000M0MJU2|     805416447|Intex Raised Down...|        Outdoors|          5|            0|          0|   N|                Y|          Five Stars|Good product Grea...| 2015-08-31|\n",
            "|    7668480|R1W6FG4HPA0K6C|B000M0MJU2|     805416447|Intex Raised Down...|        Outdoors|          5|            0|          0|   N|                Y|          Five Stars|Super comfortable...| 2015-08-31|\n",
            "|    2368997|R3JTF0SET2BV4Y|B000M0MJU2|     805416447|Intex Raised Down...|        Outdoors|          5|            0|          0|   N|                Y|          Five Stars|                good| 2015-08-31|\n",
            "|   18058018|R3F9612FGI1Z7J|B000M0MJU2|     805416447|Intex Raised Down...|        Outdoors|          5|            0|          0|   N|                Y|   Nice air mattress|Nice air mattress...| 2015-08-31|\n",
            "|   12475486|R32QY0RIV9431Y|B000M0MJU2|     805416447|Intex Raised Down...|        Outdoors|          5|            0|          0|   N|                Y|and the mattress ...|I've already used...| 2015-08-30|\n",
            "|   21029830| RYQ2Z9ZLMS0UU|B000M0MJU2|     805416447|Intex Raised Down...|        Outdoors|          5|            0|          0|   N|                Y|... but they serv...|Thought they were...| 2015-08-30|\n",
            "|   35573763|R33S8HEPGT46PA|B000M0MJU2|     805416447|Intex Raised Down...|        Outdoors|          5|            0|          0|   N|                Y|          Five Stars|Best extra bed, e...| 2015-08-30|\n",
            "|     599402| RUP59IEO70M9T|B000M0MJU2|     805416447|Intex Raised Down...|        Outdoors|          1|            0|          0|   N|                Y|I love this but i...|I love this but i...| 2015-08-30|\n",
            "|    2281408|R1GGP7ZOM0SH0L|B000M0MJU2|     805416447|Intex Raised Down...|        Outdoors|          3|            0|          0|   N|                Y|         Three Stars|This air bed leak...| 2015-08-30|\n",
            "|   12187001|R3S7TE4GBA58LO|B000M0MJU2|     805416447|Intex Raised Down...|        Outdoors|          4|            0|          0|   N|                Y|My Mom felt comfo...|My Mom felt comfo...| 2015-08-30|\n",
            "|   11214207|R2GMNUQVY8DEE3|B000M0MJU2|     805416447|Intex Raised Down...|        Outdoors|          5|            0|          0|   N|                Y|          Five Stars|      It worked well| 2015-08-30|\n",
            "|    4591182| RHT0A841S8UJG|B000M0MJU2|     805416447|Intex Raised Down...|        Outdoors|          1|            1|          1|   N|                N|Its garbage had m...|Its garbage had m...| 2015-08-30|\n",
            "|   49237740|R2JOXI54NG9XD8|B000M0MJU2|     805416447|Intex Raised Down...|        Outdoors|          2|            0|          0|   N|                Y|     Not as expected|Not comfortable a...| 2015-08-29|\n",
            "|   17826608|R2N0AGW8FQIC2G|B000M0MJU2|     805416447|Intex Raised Down...|        Outdoors|          5|            0|          1|   N|                Y| Great nights sleep.|I had my doubts a...| 2015-08-29|\n",
            "|     146356|R2603JT1LW4LFD|B000M0MJU2|     805416447|Intex Raised Down...|        Outdoors|          5|            0|          0|   N|                Y|          Five Stars|i love it and it ...| 2015-08-29|\n",
            "|   21447444|R38JUOE3FDCREY|B000M0MJU2|     805416447|Intex Raised Down...|        Outdoors|          1|            0|          0|   N|                Y|Busted After 30 Days|We've had it a mo...| 2015-08-29|\n",
            "|   22499938|R2UWVFEJH5JMKY|B000M0MJU2|     805416447|Intex Raised Down...|        Outdoors|          4|            0|          0|   N|                Y|            Worth it|Easy to inflate &...| 2015-08-29|\n",
            "|    8348926|R28S38VVTGQH9N|B000M0MJU2|     805416447|Intex Raised Down...|        Outdoors|          1|            1|          1|   N|                N|      Don't buy one!|Don't buy one I'v...| 2015-08-28|\n",
            "+-----------+--------------+----------+--------------+--------------------+----------------+-----------+-------------+-----------+----+-----------------+--------------------+--------------------+-----------+\n",
            "only showing top 20 rows\n",
            "\n"
          ],
          "name": "stdout"
        }
      ]
    },
    {
      "cell_type": "code",
      "metadata": {
        "colab": {
          "base_uri": "https://localhost:8080/"
        },
        "id": "0LrOgw5_4FpF",
        "outputId": "2ed5ff6a-8e92-4767-ead2-ddcf8a5a5b98"
      },
      "source": [
        "#4 Convert date from string to datetime\n",
        "from pyspark.sql.types import *\n",
        "airmattress_df = airmattress_df.withColumn(\"review_date\", airmattress_df[\"review_date\"].cast(DateType()))\n",
        "airmattress_df.printSchema()\n",
        "airmattress_df.show()"
      ],
      "execution_count": 9,
      "outputs": [
        {
          "output_type": "stream",
          "text": [
            "root\n",
            " |-- customer_id: integer (nullable = true)\n",
            " |-- review_id: string (nullable = true)\n",
            " |-- product_id: string (nullable = true)\n",
            " |-- product_parent: integer (nullable = true)\n",
            " |-- product_title: string (nullable = true)\n",
            " |-- product_category: string (nullable = true)\n",
            " |-- star_rating: integer (nullable = true)\n",
            " |-- helpful_votes: integer (nullable = true)\n",
            " |-- total_votes: integer (nullable = true)\n",
            " |-- vine: string (nullable = true)\n",
            " |-- verified_purchase: string (nullable = true)\n",
            " |-- review_headline: string (nullable = true)\n",
            " |-- review_body: string (nullable = true)\n",
            " |-- review_date: date (nullable = true)\n",
            "\n",
            "+-----------+--------------+----------+--------------+--------------------+----------------+-----------+-------------+-----------+----+-----------------+--------------------+--------------------+-----------+\n",
            "|customer_id|     review_id|product_id|product_parent|       product_title|product_category|star_rating|helpful_votes|total_votes|vine|verified_purchase|     review_headline|         review_body|review_date|\n",
            "+-----------+--------------+----------+--------------+--------------------+----------------+-----------+-------------+-----------+----+-----------------+--------------------+--------------------+-----------+\n",
            "|   46387114|R26RZ3C5VL3H5W|B000M0MJU2|     805416447|Intex Raised Down...|        Outdoors|          5|            0|          0|   N|                Y|          Five Stars|Very comfortable ...| 2015-08-31|\n",
            "|   44581842|R2A498KG3CWVC3|B000M0MJU2|     805416447|Intex Raised Down...|        Outdoors|          1|            1|          1|   N|                N|    Cannot Recommend|This airmatress d...| 2015-08-31|\n",
            "|   32473989|R33Z46RRJXS3O7|B000M0MJU2|     805416447|Intex Raised Down...|        Outdoors|          5|            0|          0|   N|                Y|          Five Stars|Good product Grea...| 2015-08-31|\n",
            "|    7668480|R1W6FG4HPA0K6C|B000M0MJU2|     805416447|Intex Raised Down...|        Outdoors|          5|            0|          0|   N|                Y|          Five Stars|Super comfortable...| 2015-08-31|\n",
            "|    2368997|R3JTF0SET2BV4Y|B000M0MJU2|     805416447|Intex Raised Down...|        Outdoors|          5|            0|          0|   N|                Y|          Five Stars|                good| 2015-08-31|\n",
            "|   18058018|R3F9612FGI1Z7J|B000M0MJU2|     805416447|Intex Raised Down...|        Outdoors|          5|            0|          0|   N|                Y|   Nice air mattress|Nice air mattress...| 2015-08-31|\n",
            "|   12475486|R32QY0RIV9431Y|B000M0MJU2|     805416447|Intex Raised Down...|        Outdoors|          5|            0|          0|   N|                Y|and the mattress ...|I've already used...| 2015-08-30|\n",
            "|   21029830| RYQ2Z9ZLMS0UU|B000M0MJU2|     805416447|Intex Raised Down...|        Outdoors|          5|            0|          0|   N|                Y|... but they serv...|Thought they were...| 2015-08-30|\n",
            "|   35573763|R33S8HEPGT46PA|B000M0MJU2|     805416447|Intex Raised Down...|        Outdoors|          5|            0|          0|   N|                Y|          Five Stars|Best extra bed, e...| 2015-08-30|\n",
            "|     599402| RUP59IEO70M9T|B000M0MJU2|     805416447|Intex Raised Down...|        Outdoors|          1|            0|          0|   N|                Y|I love this but i...|I love this but i...| 2015-08-30|\n",
            "|    2281408|R1GGP7ZOM0SH0L|B000M0MJU2|     805416447|Intex Raised Down...|        Outdoors|          3|            0|          0|   N|                Y|         Three Stars|This air bed leak...| 2015-08-30|\n",
            "|   12187001|R3S7TE4GBA58LO|B000M0MJU2|     805416447|Intex Raised Down...|        Outdoors|          4|            0|          0|   N|                Y|My Mom felt comfo...|My Mom felt comfo...| 2015-08-30|\n",
            "|   11214207|R2GMNUQVY8DEE3|B000M0MJU2|     805416447|Intex Raised Down...|        Outdoors|          5|            0|          0|   N|                Y|          Five Stars|      It worked well| 2015-08-30|\n",
            "|    4591182| RHT0A841S8UJG|B000M0MJU2|     805416447|Intex Raised Down...|        Outdoors|          1|            1|          1|   N|                N|Its garbage had m...|Its garbage had m...| 2015-08-30|\n",
            "|   49237740|R2JOXI54NG9XD8|B000M0MJU2|     805416447|Intex Raised Down...|        Outdoors|          2|            0|          0|   N|                Y|     Not as expected|Not comfortable a...| 2015-08-29|\n",
            "|   17826608|R2N0AGW8FQIC2G|B000M0MJU2|     805416447|Intex Raised Down...|        Outdoors|          5|            0|          1|   N|                Y| Great nights sleep.|I had my doubts a...| 2015-08-29|\n",
            "|     146356|R2603JT1LW4LFD|B000M0MJU2|     805416447|Intex Raised Down...|        Outdoors|          5|            0|          0|   N|                Y|          Five Stars|i love it and it ...| 2015-08-29|\n",
            "|   21447444|R38JUOE3FDCREY|B000M0MJU2|     805416447|Intex Raised Down...|        Outdoors|          1|            0|          0|   N|                Y|Busted After 30 Days|We've had it a mo...| 2015-08-29|\n",
            "|   22499938|R2UWVFEJH5JMKY|B000M0MJU2|     805416447|Intex Raised Down...|        Outdoors|          4|            0|          0|   N|                Y|            Worth it|Easy to inflate &...| 2015-08-29|\n",
            "|    8348926|R28S38VVTGQH9N|B000M0MJU2|     805416447|Intex Raised Down...|        Outdoors|          1|            1|          1|   N|                N|      Don't buy one!|Don't buy one I'v...| 2015-08-28|\n",
            "+-----------+--------------+----------+--------------+--------------------+----------------+-----------+-------------+-----------+----+-----------------+--------------------+--------------------+-----------+\n",
            "only showing top 20 rows\n",
            "\n"
          ],
          "name": "stdout"
        }
      ]
    },
    {
      "cell_type": "code",
      "metadata": {
        "colab": {
          "base_uri": "https://localhost:8080/"
        },
        "id": "GeG7tQTc4FnD",
        "outputId": "d86db895-cc19-4902-8f95-3f2bc44ff0f8"
      },
      "source": [
        "#5 star rating already IntegerType\n",
        "# check row count before export write\n",
        "final_row_count = airmattress_df.count()\n",
        "print(\"{:,}\".format(final_row_count))"
      ],
      "execution_count": 10,
      "outputs": [
        {
          "output_type": "stream",
          "text": [
            "4,753\n"
          ],
          "name": "stdout"
        }
      ]
    },
    {
      "cell_type": "markdown",
      "metadata": {
        "id": "9yggSmG65NJW"
      },
      "source": [
        "### Connect to the AWS RDS instance and write each DataFrame to its table. "
      ]
    },
    {
      "cell_type": "code",
      "metadata": {
        "id": "u1a7WsMM4Fkp"
      },
      "source": [
        "# Configure settings for RDS\n",
        "mode = \"append\"\n",
        "jdbc_url='jdbc:postgresql://<connection_srtring>'\n",
        "config = {\"user\":'<username>', \n",
        "          \"password\": '<password>', \n",
        "          \"driver\":\"org.postgresql.Driver\"}"
      ],
      "execution_count": 11,
      "outputs": []
    },
    {
      "cell_type": "code",
      "metadata": {
        "id": "CvdvijJe4FiE"
      },
      "source": [
        "# Write airmattress reviews to table in RDS\n",
        "# 0.5 mins\n",
        "airmattress_df.write.jdbc(url=jdbc_url, table='airmattress_sentiment', mode=mode, properties=config)"
      ],
      "execution_count": 12,
      "outputs": []
    }
  ]
}
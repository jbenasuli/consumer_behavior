{
  "nbformat": 4,
  "nbformat_minor": 0,
  "metadata": {
    "colab": {
      "name": "PRELIM_ETL-Office_Products",
      "provenance": [],
      "collapsed_sections": [],
      "machine_shape": "hm",
      "include_colab_link": true
    },
    "kernelspec": {
      "name": "python3",
      "display_name": "Python 3"
    },
    "nteract": {
      "version": "0.12.3"
    },
    "language_info": {
      "name": "python"
    }
  },
  "cells": [
    {
      "cell_type": "markdown",
      "metadata": {
        "id": "view-in-github",
        "colab_type": "text"
      },
      "source": [
        "<a href=\"https://colab.research.google.com/github/jbenasuli/final_project/blob/database/dev/database/Amazon_Vine-PySpark-ETLs/PRELIM_ETL_Office_Products.ipynb\" target=\"_parent\"><img src=\"https://colab.research.google.com/assets/colab-badge.svg\" alt=\"Open In Colab\"/></a>"
      ]
    },
    {
      "cell_type": "code",
      "metadata": {
        "id": "V58rxea0HqSa",
        "colab": {
          "base_uri": "https://localhost:8080/"
        },
        "outputId": "528bd5b4-b984-4d2d-ad77-dd22f40e0db7"
      },
      "source": [
        "import os\n",
        "# Find the latest version of spark 2.0  from http://www-us.apache.org/dist/spark/ and enter as the spark version\n",
        "# For example:\n",
        "# spark_version = 'spark-3.1.1'\n",
        "spark_version = 'spark-3.1.1'\n",
        "os.environ['SPARK_VERSION']=spark_version\n",
        "\n",
        "# Install Spark and Java\n",
        "!apt-get update\n",
        "!apt-get install openjdk-11-jdk-headless -qq > /dev/null\n",
        "!wget -q http://www-us.apache.org/dist/spark/$SPARK_VERSION/$SPARK_VERSION-bin-hadoop2.7.tgz\n",
        "!tar xf $SPARK_VERSION-bin-hadoop2.7.tgz\n",
        "!pip install -q findspark\n",
        "\n",
        "# Set Environment Variables\n",
        "import os\n",
        "os.environ[\"JAVA_HOME\"] = \"/usr/lib/jvm/java-11-openjdk-amd64\"\n",
        "os.environ[\"SPARK_HOME\"] = f\"/content/{spark_version}-bin-hadoop2.7\"\n",
        "\n",
        "# Start a SparkSession\n",
        "import findspark\n",
        "findspark.init()"
      ],
      "execution_count": 1,
      "outputs": [
        {
          "output_type": "stream",
          "text": [
            "\r0% [Working]\r            \rHit:1 http://archive.ubuntu.com/ubuntu bionic InRelease\n",
            "\r0% [Waiting for headers] [Connecting to security.ubuntu.com (91.189.91.39)] [Co\r                                                                               \rGet:2 http://archive.ubuntu.com/ubuntu bionic-updates InRelease [88.7 kB]\n",
            "\r                                                                               \rGet:3 http://ppa.launchpad.net/c2d4u.team/c2d4u4.0+/ubuntu bionic InRelease [15.9 kB]\n",
            "\r0% [2 InRelease 47.5 kB/88.7 kB 54%] [Connecting to security.ubuntu.com (91.189\r0% [1 InRelease gpgv 242 kB] [2 InRelease 47.5 kB/88.7 kB 54%] [Connecting to s\r0% [1 InRelease gpgv 242 kB] [Connecting to security.ubuntu.com (91.189.91.39)]\r                                                                               \rHit:4 http://ppa.launchpad.net/cran/libgit2/ubuntu bionic InRelease\n",
            "\r0% [1 InRelease gpgv 242 kB] [Waiting for headers] [Connecting to security.ubun\r                                                                               \rGet:5 https://cloud.r-project.org/bin/linux/ubuntu bionic-cran40/ InRelease [3,626 B]\n",
            "\r0% [1 InRelease gpgv 242 kB] [Waiting for headers] [Connecting to security.ubun\r0% [1 InRelease gpgv 242 kB] [Waiting for headers] [Connecting to security.ubun\r                                                                               \rGet:6 http://archive.ubuntu.com/ubuntu bionic-backports InRelease [74.6 kB]\n",
            "\r0% [1 InRelease gpgv 242 kB] [6 InRelease 0 B/74.6 kB 0%] [Connecting to securi\r0% [1 InRelease gpgv 242 kB] [Waiting for headers] [Waiting for headers] [Waiti\r                                                                               \rGet:7 http://ppa.launchpad.net/deadsnakes/ppa/ubuntu bionic InRelease [15.9 kB]\n",
            "Get:8 http://ppa.launchpad.net/graphics-drivers/ppa/ubuntu bionic InRelease [15.9 kB]\n",
            "Ign:9 https://developer.download.nvidia.com/compute/cuda/repos/ubuntu1804/x86_64  InRelease\n",
            "Get:10 http://security.ubuntu.com/ubuntu bionic-security InRelease [88.7 kB]\n",
            "Ign:11 https://developer.download.nvidia.com/compute/machine-learning/repos/ubuntu1804/x86_64  InRelease\n",
            "Get:12 https://developer.download.nvidia.com/compute/cuda/repos/ubuntu1804/x86_64  Release [697 B]\n",
            "Hit:13 https://developer.download.nvidia.com/compute/machine-learning/repos/ubuntu1804/x86_64  Release\n",
            "Get:14 https://developer.download.nvidia.com/compute/cuda/repos/ubuntu1804/x86_64  Release.gpg [836 B]\n",
            "Get:15 http://ppa.launchpad.net/c2d4u.team/c2d4u4.0+/ubuntu bionic/main Sources [1,759 kB]\n",
            "Get:16 http://ppa.launchpad.net/c2d4u.team/c2d4u4.0+/ubuntu bionic/main amd64 Packages [900 kB]\n",
            "Get:17 http://archive.ubuntu.com/ubuntu bionic-updates/universe amd64 Packages [2,181 kB]\n",
            "Get:18 http://archive.ubuntu.com/ubuntu bionic-updates/restricted amd64 Packages [426 kB]\n",
            "Get:19 http://archive.ubuntu.com/ubuntu bionic-updates/main amd64 Packages [2,546 kB]\n",
            "Get:20 http://archive.ubuntu.com/ubuntu bionic-updates/multiverse amd64 Packages [31.6 kB]\n",
            "Get:21 https://cloud.r-project.org/bin/linux/ubuntu bionic-cran40/ Packages [53.9 kB]\n",
            "Get:22 http://ppa.launchpad.net/deadsnakes/ppa/ubuntu bionic/main amd64 Packages [40.6 kB]\n",
            "Get:23 http://ppa.launchpad.net/graphics-drivers/ppa/ubuntu bionic/main amd64 Packages [53.2 kB]\n",
            "Ign:25 https://developer.download.nvidia.com/compute/cuda/repos/ubuntu1804/x86_64  Packages\n",
            "Get:25 https://developer.download.nvidia.com/compute/cuda/repos/ubuntu1804/x86_64  Packages [742 kB]\n",
            "Get:26 http://security.ubuntu.com/ubuntu bionic-security/multiverse amd64 Packages [24.7 kB]\n",
            "Get:27 http://security.ubuntu.com/ubuntu bionic-security/universe amd64 Packages [1,410 kB]\n",
            "Get:28 http://security.ubuntu.com/ubuntu bionic-security/restricted amd64 Packages [396 kB]\n",
            "Get:29 http://security.ubuntu.com/ubuntu bionic-security/main amd64 Packages [2,116 kB]\n",
            "Fetched 13.0 MB in 3s (3,729 kB/s)\n",
            "Reading package lists... Done\n"
          ],
          "name": "stdout"
        }
      ]
    },
    {
      "cell_type": "code",
      "metadata": {
        "id": "_xKwTpATHqSe",
        "colab": {
          "base_uri": "https://localhost:8080/"
        },
        "outputId": "47e023c9-486d-42de-c6a8-94dcb2e3848f"
      },
      "source": [
        "# Download the Postgres driver that will allow Spark to interact with Postgres.\n",
        "!wget https://jdbc.postgresql.org/download/postgresql-42.2.16.jar"
      ],
      "execution_count": 2,
      "outputs": [
        {
          "output_type": "stream",
          "text": [
            "--2021-05-03 03:24:55--  https://jdbc.postgresql.org/download/postgresql-42.2.16.jar\n",
            "Resolving jdbc.postgresql.org (jdbc.postgresql.org)... 72.32.157.228, 2001:4800:3e1:1::228\n",
            "Connecting to jdbc.postgresql.org (jdbc.postgresql.org)|72.32.157.228|:443... connected.\n",
            "HTTP request sent, awaiting response... 200 OK\n",
            "Length: 1002883 (979K) [application/java-archive]\n",
            "Saving to: ‘postgresql-42.2.16.jar’\n",
            "\n",
            "postgresql-42.2.16. 100%[===================>] 979.38K  1.68MB/s    in 0.6s    \n",
            "\n",
            "2021-05-03 03:24:56 (1.68 MB/s) - ‘postgresql-42.2.16.jar’ saved [1002883/1002883]\n",
            "\n"
          ],
          "name": "stdout"
        }
      ]
    },
    {
      "cell_type": "code",
      "metadata": {
        "id": "MMqDAjVS0KN9"
      },
      "source": [
        "from pyspark.sql import SparkSession\n",
        "spark = SparkSession.builder.appName(\"BigData-Challenge\").config(\"spark.driver.extraClassPath\",\"/content/postgresql-42.2.16.jar\").getOrCreate()"
      ],
      "execution_count": 3,
      "outputs": []
    },
    {
      "cell_type": "code",
      "metadata": {
        "id": "hbbRSWPwJw4k"
      },
      "source": [
        "import datetime\n",
        "from pyspark.sql.functions import to_date\n",
        "from pyspark.sql.functions import col\n",
        "from pyspark.sql.types import StructField, StringType, IntegerType, StructType, BooleanType, DateType\n",
        "from pyspark import SparkFiles"
      ],
      "execution_count": 4,
      "outputs": []
    },
    {
      "cell_type": "markdown",
      "metadata": {
        "id": "cyBsySGuY-9V"
      },
      "source": [
        "### Load Amazon Data into Spark DataFrame"
      ]
    },
    {
      "cell_type": "markdown",
      "metadata": {
        "id": "VHY6-k4WgZRO"
      },
      "source": [
        "Note: Enter URL for Desired Dataset"
      ]
    },
    {
      "cell_type": "code",
      "metadata": {
        "id": "CtCmBhQJY-9Z",
        "colab": {
          "base_uri": "https://localhost:8080/"
        },
        "outputId": "5fbd11ce-2089-4fbc-c6e9-ee4f740570d9"
      },
      "source": [
        "#1 load product segment\n",
        "url = \"https://s3.amazonaws.com/amazon-reviews-pds/tsv/amazon_reviews_us_Office_Products_v1_00.tsv.gz\"\n",
        "spark.sparkContext.addFile(url)\n",
        "df = spark.read.option(\"encoding\", \"UTF-8\").csv(SparkFiles.get(\"\"), sep=\"\\t\", header=True, inferSchema=True)\n",
        "df.show()"
      ],
      "execution_count": 5,
      "outputs": [
        {
          "output_type": "stream",
          "text": [
            "+-----------+-----------+--------------+----------+--------------+--------------------+----------------+-----------+-------------+-----------+----+-----------------+--------------------+--------------------+-----------+\n",
            "|marketplace|customer_id|     review_id|product_id|product_parent|       product_title|product_category|star_rating|helpful_votes|total_votes|vine|verified_purchase|     review_headline|         review_body|review_date|\n",
            "+-----------+-----------+--------------+----------+--------------+--------------------+----------------+-----------+-------------+-----------+----+-----------------+--------------------+--------------------+-----------+\n",
            "|         US|   43081963|R18RVCKGH1SSI9|B001BM2MAC|     307809868|Scotch Cushion Wr...| Office Products|          5|            0|          0|   N|                Y|          Five Stars|      Great product.| 2015-08-31|\n",
            "|         US|   10951564|R3L4L6LW1PUOFY|B00DZYEXPQ|      75004341|Dust-Off Compress...| Office Products|          5|            0|          1|   N|                Y|Phffffffft, Phfff...|What's to say abo...| 2015-08-31|\n",
            "|         US|   21143145|R2J8AWXWTDX2TF|B00RTMUHDW|     529689027|Amram Tagger Stan...| Office Products|          5|            0|          0|   N|                Y|but I am sure I w...|Haven't used yet,...| 2015-08-31|\n",
            "|         US|   52782374|R1PR37BR7G3M6A|B00D7H8XB6|     868449945|AmazonBasics 12-S...| Office Products|          1|            2|          3|   N|                Y|and the shredder ...|Although this was...| 2015-08-31|\n",
            "|         US|   24045652|R3BDDDZMZBZDPU|B001XCWP34|      33521401|Derwent Colored P...| Office Products|          4|            0|          0|   N|                Y|          Four Stars|Gorgeous colors a...| 2015-08-31|\n",
            "|         US|   21751234| R8T6MO75ND212|B004J2NBCO|     214932869|Quartet Magnetic ...| Office Products|          5|            0|          0|   N|                Y|          Five Stars|Perfect for plann...| 2015-08-31|\n",
            "|         US|    9109358|R2YWMQT2V11XYZ|B00MOPAG8K|     863351797|KITLEX40X2592UNV2...| Office Products|          5|            0|          0|   N|                N|          Five Stars|Gold plated fuser...| 2015-08-31|\n",
            "|         US|    9967215|R1V2HYL6OI9V39|B003AHIK7U|     383470576|Bible Dry Highlig...| Office Products|          5|            6|          6|   N|                Y|Won't bleed throu...|I have used these...| 2015-08-31|\n",
            "|         US|   11234247|R3BLQBKUNXGFS4|B006TKH2RO|     999128878|Parker Ingenuity ...| Office Products|          5|            0|          0|   N|                Y|           Nice pen!|Heavy pen that wr...| 2015-08-31|\n",
            "|         US|   12731488|R17MOWJCAR9Y8Q|B00W61M9K0|     622066861| RFID Card Protector| Office Products|          5|            0|          0|   N|                Y| Credit card sleeves|Not sure if they ...| 2015-08-31|\n",
            "|         US|   49861762|R11EPG1GHOXMGB|B00BXOGI3A|     688569009|The Original Stan...| Office Products|          4|            0|          0|   N|                N|          Four Stars|Great product for...| 2015-08-31|\n",
            "|         US|    1541556|R2797NKTEX5THN|B0018RHWGE|     513803406|Zebra Sparky-1 WK...| Office Products|          5|            0|          0|   N|                Y|Love these highli...|Love these highli...| 2015-08-31|\n",
            "|         US|   10579374|R2RUTMJS50E4WF|B00IA8H2OG|     201212366|E-Z Ink (TM) Comp...| Office Products|          5|            0|          0|   N|                Y|          Five Stars|Received on time,...| 2015-08-31|\n",
            "|         US|   43622307|R1FZYL1HX7O4RM|B007TOIA66|     954138793|Eric 11\" Giant Si...| Office Products|          1|            0|          0|   N|                Y|            One Star|worked about a mo...| 2015-08-31|\n",
            "|         US|   50773856|R22ENT0KU5CHPX|B00EANURCE|      43216076|Brother MFCJ450 W...| Office Products|          5|            0|          0|   N|                Y|Brothers Wireless...|I purchased this ...| 2015-08-31|\n",
            "|         US|   10165223|R2E5M7FWJC9JLE|B00T3Q0EOO|     637096152|Clarity D613 DECT...| Office Products|          5|            0|          0|   N|                Y|          Five Stars|Everything works ...| 2015-08-31|\n",
            "|         US|   14744748|R31BNW3O2Q5J3E|B00WN0N818|     710040412|Permo 50 Feet Whi...| Office Products|          5|            0|          0|   N|                Y|          Five Stars|          Thank you!| 2015-08-31|\n",
            "|         US|   37536631|R1JMQF1OOMNF49|B001GAOTSW|     696023182|Pilot G2 Retracta...| Office Products|          5|            0|          0|   N|                Y|          Five Stars|     Love these pens| 2015-08-31|\n",
            "|         US|     126687| RJH6WQDOA6CZP|B003BNY7PW|     474277918|AT&T DECT 6.0 Acc...| Office Products|          5|            0|          0|   N|                Y|          Five Stars|The product is ev...| 2015-08-31|\n",
            "|         US|   31130095|R2EVL0Z5JVV86X|B00092RJX0|     887474295|Pilot G2 Retracta...| Office Products|          5|            0|          0|   N|                Y|          Five Stars|           Great buy| 2015-08-31|\n",
            "+-----------+-----------+--------------+----------+--------------+--------------------+----------------+-----------+-------------+-----------+----+-----------------+--------------------+--------------------+-----------+\n",
            "only showing top 20 rows\n",
            "\n"
          ],
          "name": "stdout"
        }
      ]
    },
    {
      "cell_type": "markdown",
      "metadata": {
        "id": "2yUSe55VY-9t"
      },
      "source": [
        "### Create DataFrame - Perform Preliminary Cleaning"
      ]
    },
    {
      "cell_type": "code",
      "metadata": {
        "id": "C8REmY1aY-9u",
        "colab": {
          "base_uri": "https://localhost:8080/"
        },
        "outputId": "b723b7a7-d7ca-412b-edb7-d1a199147f1f"
      },
      "source": [
        "#1 Check the schema, print row & column count\n",
        "df.printSchema()\n",
        "print((df.count(), len(df.columns)))"
      ],
      "execution_count": 6,
      "outputs": [
        {
          "output_type": "stream",
          "text": [
            "root\n",
            " |-- marketplace: string (nullable = true)\n",
            " |-- customer_id: integer (nullable = true)\n",
            " |-- review_id: string (nullable = true)\n",
            " |-- product_id: string (nullable = true)\n",
            " |-- product_parent: integer (nullable = true)\n",
            " |-- product_title: string (nullable = true)\n",
            " |-- product_category: string (nullable = true)\n",
            " |-- star_rating: string (nullable = true)\n",
            " |-- helpful_votes: integer (nullable = true)\n",
            " |-- total_votes: integer (nullable = true)\n",
            " |-- vine: string (nullable = true)\n",
            " |-- verified_purchase: string (nullable = true)\n",
            " |-- review_headline: string (nullable = true)\n",
            " |-- review_body: string (nullable = true)\n",
            " |-- review_date: string (nullable = true)\n",
            "\n",
            "(2642434, 15)\n"
          ],
          "name": "stdout"
        }
      ]
    },
    {
      "cell_type": "code",
      "metadata": {
        "id": "oGosPEeAKCFm",
        "colab": {
          "base_uri": "https://localhost:8080/"
        },
        "outputId": "a833f0cc-baee-418d-ff7b-ebf0252771e7"
      },
      "source": [
        "#2 Drop the round 1 columns\n",
        "columns_to_drop = ['marketplace', 'product_parent', 'vine', 'review_headline', 'review_body', 'review_date']\n",
        "df_dropped = df.drop(*columns_to_drop)\n",
        "df_dropped.show()"
      ],
      "execution_count": 7,
      "outputs": [
        {
          "output_type": "stream",
          "text": [
            "+-----------+--------------+----------+--------------------+----------------+-----------+-------------+-----------+-----------------+\n",
            "|customer_id|     review_id|product_id|       product_title|product_category|star_rating|helpful_votes|total_votes|verified_purchase|\n",
            "+-----------+--------------+----------+--------------------+----------------+-----------+-------------+-----------+-----------------+\n",
            "|   43081963|R18RVCKGH1SSI9|B001BM2MAC|Scotch Cushion Wr...| Office Products|          5|            0|          0|                Y|\n",
            "|   10951564|R3L4L6LW1PUOFY|B00DZYEXPQ|Dust-Off Compress...| Office Products|          5|            0|          1|                Y|\n",
            "|   21143145|R2J8AWXWTDX2TF|B00RTMUHDW|Amram Tagger Stan...| Office Products|          5|            0|          0|                Y|\n",
            "|   52782374|R1PR37BR7G3M6A|B00D7H8XB6|AmazonBasics 12-S...| Office Products|          1|            2|          3|                Y|\n",
            "|   24045652|R3BDDDZMZBZDPU|B001XCWP34|Derwent Colored P...| Office Products|          4|            0|          0|                Y|\n",
            "|   21751234| R8T6MO75ND212|B004J2NBCO|Quartet Magnetic ...| Office Products|          5|            0|          0|                Y|\n",
            "|    9109358|R2YWMQT2V11XYZ|B00MOPAG8K|KITLEX40X2592UNV2...| Office Products|          5|            0|          0|                N|\n",
            "|    9967215|R1V2HYL6OI9V39|B003AHIK7U|Bible Dry Highlig...| Office Products|          5|            6|          6|                Y|\n",
            "|   11234247|R3BLQBKUNXGFS4|B006TKH2RO|Parker Ingenuity ...| Office Products|          5|            0|          0|                Y|\n",
            "|   12731488|R17MOWJCAR9Y8Q|B00W61M9K0| RFID Card Protector| Office Products|          5|            0|          0|                Y|\n",
            "|   49861762|R11EPG1GHOXMGB|B00BXOGI3A|The Original Stan...| Office Products|          4|            0|          0|                N|\n",
            "|    1541556|R2797NKTEX5THN|B0018RHWGE|Zebra Sparky-1 WK...| Office Products|          5|            0|          0|                Y|\n",
            "|   10579374|R2RUTMJS50E4WF|B00IA8H2OG|E-Z Ink (TM) Comp...| Office Products|          5|            0|          0|                Y|\n",
            "|   43622307|R1FZYL1HX7O4RM|B007TOIA66|Eric 11\" Giant Si...| Office Products|          1|            0|          0|                Y|\n",
            "|   50773856|R22ENT0KU5CHPX|B00EANURCE|Brother MFCJ450 W...| Office Products|          5|            0|          0|                Y|\n",
            "|   10165223|R2E5M7FWJC9JLE|B00T3Q0EOO|Clarity D613 DECT...| Office Products|          5|            0|          0|                Y|\n",
            "|   14744748|R31BNW3O2Q5J3E|B00WN0N818|Permo 50 Feet Whi...| Office Products|          5|            0|          0|                Y|\n",
            "|   37536631|R1JMQF1OOMNF49|B001GAOTSW|Pilot G2 Retracta...| Office Products|          5|            0|          0|                Y|\n",
            "|     126687| RJH6WQDOA6CZP|B003BNY7PW|AT&T DECT 6.0 Acc...| Office Products|          5|            0|          0|                Y|\n",
            "|   31130095|R2EVL0Z5JVV86X|B00092RJX0|Pilot G2 Retracta...| Office Products|          5|            0|          0|                Y|\n",
            "+-----------+--------------+----------+--------------------+----------------+-----------+-------------+-----------+-----------------+\n",
            "only showing top 20 rows\n",
            "\n"
          ],
          "name": "stdout"
        }
      ]
    },
    {
      "cell_type": "code",
      "metadata": {
        "id": "1cWyyOQyKB8v",
        "colab": {
          "base_uri": "https://localhost:8080/"
        },
        "outputId": "ffb51758-ac8a-4761-e246-08d9f5252ea9"
      },
      "source": [
        "#3 Filter Step 1:\n",
        "df_filtered = df_dropped.filter(df_dropped.verified_purchase == 'Y')\n",
        "df_filtered.show\n",
        "print((df_filtered.count(), len(df_filtered.columns)))"
      ],
      "execution_count": 8,
      "outputs": [
        {
          "output_type": "stream",
          "text": [
            "(2257866, 9)\n"
          ],
          "name": "stdout"
        }
      ]
    },
    {
      "cell_type": "code",
      "metadata": {
        "id": "fVJDJ4LBRHCV",
        "colab": {
          "base_uri": "https://localhost:8080/"
        },
        "outputId": "2dda047c-4b31-4b6d-c059-afdd8d3a3975"
      },
      "source": [
        "#4 drop filtered verified_purchase column\n",
        "columns_to_drop = ['verified_purchase']\n",
        "df_dropped_2 = df_filtered.drop(*columns_to_drop)\n",
        "df_dropped_2.show()"
      ],
      "execution_count": 9,
      "outputs": [
        {
          "output_type": "stream",
          "text": [
            "+-----------+--------------+----------+--------------------+----------------+-----------+-------------+-----------+\n",
            "|customer_id|     review_id|product_id|       product_title|product_category|star_rating|helpful_votes|total_votes|\n",
            "+-----------+--------------+----------+--------------------+----------------+-----------+-------------+-----------+\n",
            "|   43081963|R18RVCKGH1SSI9|B001BM2MAC|Scotch Cushion Wr...| Office Products|          5|            0|          0|\n",
            "|   10951564|R3L4L6LW1PUOFY|B00DZYEXPQ|Dust-Off Compress...| Office Products|          5|            0|          1|\n",
            "|   21143145|R2J8AWXWTDX2TF|B00RTMUHDW|Amram Tagger Stan...| Office Products|          5|            0|          0|\n",
            "|   52782374|R1PR37BR7G3M6A|B00D7H8XB6|AmazonBasics 12-S...| Office Products|          1|            2|          3|\n",
            "|   24045652|R3BDDDZMZBZDPU|B001XCWP34|Derwent Colored P...| Office Products|          4|            0|          0|\n",
            "|   21751234| R8T6MO75ND212|B004J2NBCO|Quartet Magnetic ...| Office Products|          5|            0|          0|\n",
            "|    9967215|R1V2HYL6OI9V39|B003AHIK7U|Bible Dry Highlig...| Office Products|          5|            6|          6|\n",
            "|   11234247|R3BLQBKUNXGFS4|B006TKH2RO|Parker Ingenuity ...| Office Products|          5|            0|          0|\n",
            "|   12731488|R17MOWJCAR9Y8Q|B00W61M9K0| RFID Card Protector| Office Products|          5|            0|          0|\n",
            "|    1541556|R2797NKTEX5THN|B0018RHWGE|Zebra Sparky-1 WK...| Office Products|          5|            0|          0|\n",
            "|   10579374|R2RUTMJS50E4WF|B00IA8H2OG|E-Z Ink (TM) Comp...| Office Products|          5|            0|          0|\n",
            "|   43622307|R1FZYL1HX7O4RM|B007TOIA66|Eric 11\" Giant Si...| Office Products|          1|            0|          0|\n",
            "|   50773856|R22ENT0KU5CHPX|B00EANURCE|Brother MFCJ450 W...| Office Products|          5|            0|          0|\n",
            "|   10165223|R2E5M7FWJC9JLE|B00T3Q0EOO|Clarity D613 DECT...| Office Products|          5|            0|          0|\n",
            "|   14744748|R31BNW3O2Q5J3E|B00WN0N818|Permo 50 Feet Whi...| Office Products|          5|            0|          0|\n",
            "|   37536631|R1JMQF1OOMNF49|B001GAOTSW|Pilot G2 Retracta...| Office Products|          5|            0|          0|\n",
            "|     126687| RJH6WQDOA6CZP|B003BNY7PW|AT&T DECT 6.0 Acc...| Office Products|          5|            0|          0|\n",
            "|   31130095|R2EVL0Z5JVV86X|B00092RJX0|Pilot G2 Retracta...| Office Products|          5|            0|          0|\n",
            "|   14300387| R8NWAB2MG94Z6|B000050FZP|AT&T 210M Trimlin...| Office Products|          1|            1|          1|\n",
            "|   22083223|R30C4P6E397CB7|B00EUI162O|Sophia Global Com...| Office Products|          5|            0|          0|\n",
            "+-----------+--------------+----------+--------------------+----------------+-----------+-------------+-----------+\n",
            "only showing top 20 rows\n",
            "\n"
          ],
          "name": "stdout"
        }
      ]
    },
    {
      "cell_type": "markdown",
      "metadata": {
        "id": "Si3TGL5tHP1Z"
      },
      "source": [
        "## Create Analysis-Specific DFs/Tables\n",
        "### Perform Analysis-Specific Transforms"
      ]
    },
    {
      "cell_type": "markdown",
      "metadata": {
        "id": "hy5OVX7YHaXR"
      },
      "source": [
        "### Segmentation Analysis DF"
      ]
    },
    {
      "cell_type": "code",
      "metadata": {
        "id": "PldvjkUWHCt6",
        "colab": {
          "base_uri": "https://localhost:8080/"
        },
        "outputId": "6232a4dd-165a-40e6-a760-f0b8b9a9d290"
      },
      "source": [
        "# 1 Create Segmentation DF by Droppig Addtional Columns\n",
        "segmentation_cols_drop = ['review_id', 'product_id', 'product_title', 'star_rating', 'helpful_votes', 'total_votes']\n",
        "segmentation_dropped_df = df_dropped_2.drop(*segmentation_cols_drop)\n",
        "segmentation_dropped_df.show()"
      ],
      "execution_count": 10,
      "outputs": [
        {
          "output_type": "stream",
          "text": [
            "+-----------+----------------+\n",
            "|customer_id|product_category|\n",
            "+-----------+----------------+\n",
            "|   43081963| Office Products|\n",
            "|   10951564| Office Products|\n",
            "|   21143145| Office Products|\n",
            "|   52782374| Office Products|\n",
            "|   24045652| Office Products|\n",
            "|   21751234| Office Products|\n",
            "|    9967215| Office Products|\n",
            "|   11234247| Office Products|\n",
            "|   12731488| Office Products|\n",
            "|    1541556| Office Products|\n",
            "|   10579374| Office Products|\n",
            "|   43622307| Office Products|\n",
            "|   50773856| Office Products|\n",
            "|   10165223| Office Products|\n",
            "|   14744748| Office Products|\n",
            "|   37536631| Office Products|\n",
            "|     126687| Office Products|\n",
            "|   31130095| Office Products|\n",
            "|   14300387| Office Products|\n",
            "|   22083223| Office Products|\n",
            "+-----------+----------------+\n",
            "only showing top 20 rows\n",
            "\n"
          ],
          "name": "stdout"
        }
      ]
    },
    {
      "cell_type": "markdown",
      "metadata": {
        "id": "GWLZJ8LIWpbK"
      },
      "source": [
        "Note: must change Category Label name in withColumnRenamed('count(product_category)', 'name')"
      ]
    },
    {
      "cell_type": "code",
      "metadata": {
        "id": "CB7H2fA_HCnX",
        "colab": {
          "base_uri": "https://localhost:8080/"
        },
        "outputId": "18830102-429b-4727-ab8e-a2937043c536"
      },
      "source": [
        "#2 Segmentation GroupBy\n",
        "#2a GroupBy customer_id\n",
        "#2b Count product_category and rename count columns as Segment Name\n",
        "segment_df = segmentation_dropped_df.groupby(\"customer_id\")\\\n",
        ".agg({'product_category':'count'}).withColumnRenamed('count(product_category)', 'office_products')\n",
        "#2c Check results\n",
        "segment_df.show()"
      ],
      "execution_count": 11,
      "outputs": [
        {
          "output_type": "stream",
          "text": [
            "+-----------+---------------+\n",
            "|customer_id|office_products|\n",
            "+-----------+---------------+\n",
            "|   43622307|              1|\n",
            "|   33972406|              1|\n",
            "|     108460|              1|\n",
            "|   43515569|              1|\n",
            "|     132406|              1|\n",
            "|   42560427|              1|\n",
            "|    1673863|              2|\n",
            "|   14552054|              1|\n",
            "|   45632184|              1|\n",
            "|   14703850|              2|\n",
            "|   35768925|              3|\n",
            "|   45640757|             28|\n",
            "|   33194403|              1|\n",
            "|   39383689|              1|\n",
            "|   10645124|              1|\n",
            "|   52512151|             10|\n",
            "|   14646714|              1|\n",
            "|   38659596|              1|\n",
            "|   15634680|              1|\n",
            "|   44178035|              1|\n",
            "+-----------+---------------+\n",
            "only showing top 20 rows\n",
            "\n"
          ],
          "name": "stdout"
        }
      ]
    },
    {
      "cell_type": "code",
      "metadata": {
        "id": "B4y9GGlYL46X",
        "colab": {
          "base_uri": "https://localhost:8080/"
        },
        "outputId": "cbbd6173-56ed-40f2-9fa9-ae430013e004"
      },
      "source": [
        "#3 Check segment_df Schema and Row Count\n",
        "segment_df.printSchema()\n",
        "print(segment_df.count())"
      ],
      "execution_count": 12,
      "outputs": [
        {
          "output_type": "stream",
          "text": [
            "root\n",
            " |-- customer_id: integer (nullable = true)\n",
            " |-- office_products: long (nullable = false)\n",
            "\n",
            "1557076\n"
          ],
          "name": "stdout"
        }
      ]
    },
    {
      "cell_type": "markdown",
      "metadata": {
        "id": "C32fEqE9XE6y"
      },
      "source": [
        "Note: Column Name in df.sort('name' ...) must align with Column name from step 2"
      ]
    },
    {
      "cell_type": "code",
      "metadata": {
        "id": "YnyAXUQ0OVTM",
        "colab": {
          "base_uri": "https://localhost:8080/"
        },
        "outputId": "11595316-f824-401e-92f7-25d98d490844"
      },
      "source": [
        "#4 Filter for Top n Results\n",
        "#4a Declare number of rows to filter by (100,000)\n",
        "row_count = 100000\n",
        "#4a Sort by Segment Desc and limit to row_count\n",
        "filtered_segment_df = segment_df.sort('office_products', ascending=False).limit(row_count)\n",
        "#4b Check Results\n",
        "filtered_segment_df.show()\n",
        "print(filtered_segment_df.count())"
      ],
      "execution_count": 13,
      "outputs": [
        {
          "output_type": "stream",
          "text": [
            "+-----------+---------------+\n",
            "|customer_id|office_products|\n",
            "+-----------+---------------+\n",
            "|   46054413|            121|\n",
            "|    5044927|            117|\n",
            "|   16016941|            104|\n",
            "|   50749068|            101|\n",
            "|   44115969|             99|\n",
            "|   44062423|             99|\n",
            "|   39061233|             97|\n",
            "|   51148531|             84|\n",
            "|   35321242|             79|\n",
            "|   50820654|             76|\n",
            "|   11474525|             72|\n",
            "|   13521389|             69|\n",
            "|     544143|             69|\n",
            "|   38398088|             69|\n",
            "|   52443411|             69|\n",
            "|   51126130|             68|\n",
            "|   49452274|             66|\n",
            "|   41309704|             66|\n",
            "|   33928846|             66|\n",
            "|   11451031|             66|\n",
            "+-----------+---------------+\n",
            "only showing top 20 rows\n",
            "\n",
            "100000\n"
          ],
          "name": "stdout"
        }
      ]
    },
    {
      "cell_type": "markdown",
      "metadata": {
        "id": "iuQnSLoxVvJ5"
      },
      "source": [
        "### Segmentation ETL Complete - Add Database Export Code"
      ]
    },
    {
      "cell_type": "code",
      "metadata": {
        "id": "u1a7WsMM4Fkp"
      },
      "source": [
        "# Configure settings for RDS\n",
        "mode = \"append\"\n",
        "jdbc_url='jdbc:postgresql://<connection_srtring>'\n",
        "config = {\"user\":'<username>', \n",
        "          \"password\": '<password>', \n",
        "          \"driver\":\"org.postgresql.Driver\"}"
      ],
      "execution_count": 14,
      "outputs": []
    },
    {
      "cell_type": "markdown",
      "metadata": {
        "id": "zOE5O-RDXg7y"
      },
      "source": [
        "Note: table name in table='name_segment' must align with table name in Postgres"
      ]
    },
    {
      "cell_type": "code",
      "metadata": {
        "id": "CvdvijJe4FiE"
      },
      "source": [
        "# Write segment table to Postgres/RDS\n",
        "# xx mins\n",
        "filtered_segment_df.write.jdbc(url=jdbc_url, table='office_products_segment', mode=mode, properties=config)"
      ],
      "execution_count": 15,
      "outputs": []
    },
    {
      "cell_type": "markdown",
      "metadata": {
        "id": "hf1b-3fhV2vd"
      },
      "source": [
        "## Apriori Analysis DF\n",
        "### Enter Apriori Transfomations Below - Use df_dropped_2 as Start Point"
      ]
    },
    {
      "cell_type": "code",
      "metadata": {
        "id": "V5fqsDHoWRRo",
        "colab": {
          "base_uri": "https://localhost:8080/"
        },
        "outputId": "923fd54f-9cff-4535-d1a3-e01557fb4404"
      },
      "source": [
        "# 1 Create Apriori DF by First Dropping Addtional Columns\n",
        "apriori_cols_drop = ['product_category', 'product_title', 'star_rating', 'helpful_votes', 'total_votes']\n",
        "apriori_dropped_df = df_dropped_2.drop(*apriori_cols_drop)\n",
        "apriori_dropped_df.show()"
      ],
      "execution_count": 17,
      "outputs": [
        {
          "output_type": "stream",
          "text": [
            "+-----------+--------------+----------+\n",
            "|customer_id|     review_id|product_id|\n",
            "+-----------+--------------+----------+\n",
            "|   43081963|R18RVCKGH1SSI9|B001BM2MAC|\n",
            "|   10951564|R3L4L6LW1PUOFY|B00DZYEXPQ|\n",
            "|   21143145|R2J8AWXWTDX2TF|B00RTMUHDW|\n",
            "|   52782374|R1PR37BR7G3M6A|B00D7H8XB6|\n",
            "|   24045652|R3BDDDZMZBZDPU|B001XCWP34|\n",
            "|   21751234| R8T6MO75ND212|B004J2NBCO|\n",
            "|    9967215|R1V2HYL6OI9V39|B003AHIK7U|\n",
            "|   11234247|R3BLQBKUNXGFS4|B006TKH2RO|\n",
            "|   12731488|R17MOWJCAR9Y8Q|B00W61M9K0|\n",
            "|    1541556|R2797NKTEX5THN|B0018RHWGE|\n",
            "|   10579374|R2RUTMJS50E4WF|B00IA8H2OG|\n",
            "|   43622307|R1FZYL1HX7O4RM|B007TOIA66|\n",
            "|   50773856|R22ENT0KU5CHPX|B00EANURCE|\n",
            "|   10165223|R2E5M7FWJC9JLE|B00T3Q0EOO|\n",
            "|   14744748|R31BNW3O2Q5J3E|B00WN0N818|\n",
            "|   37536631|R1JMQF1OOMNF49|B001GAOTSW|\n",
            "|     126687| RJH6WQDOA6CZP|B003BNY7PW|\n",
            "|   31130095|R2EVL0Z5JVV86X|B00092RJX0|\n",
            "|   14300387| R8NWAB2MG94Z6|B000050FZP|\n",
            "|   22083223|R30C4P6E397CB7|B00EUI162O|\n",
            "+-----------+--------------+----------+\n",
            "only showing top 20 rows\n",
            "\n"
          ],
          "name": "stdout"
        }
      ]
    },
    {
      "cell_type": "markdown",
      "metadata": {
        "id": "efnKvbn_YDxY"
      },
      "source": [
        "### Prelim Apriori ETL Complete - Add Database Export Code"
      ]
    },
    {
      "cell_type": "code",
      "metadata": {
        "id": "uSTKJzcGO4wv"
      },
      "source": [
        "# Configure settings for RDS\n",
        "mode = \"append\"\n",
        "jdbc_url='jdbc:postgresql://<connection_srtring>'\n",
        "config = {\"user\":'<username>', \n",
        "          \"password\": '<password>', \n",
        "          \"driver\":\"org.postgresql.Driver\"}"
      ],
      "execution_count": 18,
      "outputs": []
    },
    {
      "cell_type": "markdown",
      "metadata": {
        "id": "nmwVVxzUYIsn"
      },
      "source": [
        "Note: table name in table='segment_apriori' must align with table name in Postgres"
      ]
    },
    {
      "cell_type": "code",
      "metadata": {
        "id": "vwcIfmxwO33L"
      },
      "source": [
        "# Write segment_apriori table to RDS\n",
        "# 15 mins 40 secs\n",
        "apriori_dropped_df.write.jdbc(url=jdbc_url, table='office_products_apriori', mode=mode, properties=config)"
      ],
      "execution_count": 19,
      "outputs": []
    },
    {
      "cell_type": "markdown",
      "metadata": {
        "id": "4H-EhptPWT_O"
      },
      "source": [
        "## Amazon Reviews S3 -> Postgres/RDS ETL Complete\n",
        "\n"
      ]
    },
    {
      "cell_type": "markdown",
      "metadata": {
        "id": "vLAhPy7UY-6E"
      },
      "source": [
        "### Run Queries in Postgres to Confirm Segment ETL\n",
        "Check Row Count of Segment Table - SELECT COUNT(*) FROM office_products_segment;\n",
        "\n",
        "Check 10 Rows of Segment Table - SELECT * FROM office_products_segment LIMIT(10);\n"
      ]
    },
    {
      "cell_type": "code",
      "metadata": {
        "id": "jA4ZFLCuY7bz",
        "colab": {
          "base_uri": "https://localhost:8080/"
        },
        "outputId": "42b19208-ea4a-4373-d8a3-d2d53e62a482"
      },
      "source": [
        "# Upon Confirmation of Above Checks Run This Cell\n",
        "print('Segment ETL Successful')"
      ],
      "execution_count": 16,
      "outputs": [
        {
          "output_type": "stream",
          "text": [
            "Segment ETL Successful\n"
          ],
          "name": "stdout"
        }
      ]
    },
    {
      "cell_type": "markdown",
      "metadata": {
        "id": "EVw7yd0EZ0Cc"
      },
      "source": [
        "### Run Queries in Postgres to Confirm Apriori ETL\n",
        "Check Row Count of Apriori Table - SELECT COUNT(*) FROM office_products_apriori;\n",
        "\n",
        "Check 10 Rows of Apriori Table - SELECT * FROM office_products_apriori LIMIT(10);"
      ]
    },
    {
      "cell_type": "code",
      "metadata": {
        "id": "gHJg88FDaN3p",
        "colab": {
          "base_uri": "https://localhost:8080/"
        },
        "outputId": "71e5f739-51a4-42db-e2bc-4aef4eb23f9c"
      },
      "source": [
        "# Upon Confirmation of Above Checks Run This Cell\n",
        "print('Apriori ETL Successful')"
      ],
      "execution_count": 20,
      "outputs": [
        {
          "output_type": "stream",
          "text": [
            "Apriori ETL Successful\n"
          ],
          "name": "stdout"
        }
      ]
    }
  ]
}
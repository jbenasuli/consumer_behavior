{
  "nbformat": 4,
  "nbformat_minor": 0,
  "metadata": {
    "colab": {
      "name": "PRELIM_ETL-Music",
      "provenance": [],
      "collapsed_sections": [],
      "machine_shape": "hm",
      "include_colab_link": true
    },
    "kernelspec": {
      "name": "python3",
      "display_name": "Python 3"
    },
    "nteract": {
      "version": "0.12.3"
    },
    "language_info": {
      "name": "python"
    }
  },
  "cells": [
    {
      "cell_type": "markdown",
      "metadata": {
        "id": "view-in-github",
        "colab_type": "text"
      },
      "source": [
        "<a href=\"https://colab.research.google.com/github/jbenasuli/final_project/blob/main/dev/database/Amazon_Vine-PySpark-ETLs/PRELIM_ETL_Music.ipynb\" target=\"_parent\"><img src=\"https://colab.research.google.com/assets/colab-badge.svg\" alt=\"Open In Colab\"/></a>"
      ]
    },
    {
      "cell_type": "code",
      "metadata": {
        "id": "V58rxea0HqSa",
        "colab": {
          "base_uri": "https://localhost:8080/"
        },
        "outputId": "fb965e28-de20-4369-f802-18a6b370ae52"
      },
      "source": [
        "import os\n",
        "# Find the latest version of spark 2.0  from http://www-us.apache.org/dist/spark/ and enter as the spark version\n",
        "# For example:\n",
        "# spark_version = 'spark-3.1.1'\n",
        "spark_version = 'spark-3.1.1'\n",
        "os.environ['SPARK_VERSION']=spark_version\n",
        "\n",
        "# Install Spark and Java\n",
        "!apt-get update\n",
        "!apt-get install openjdk-11-jdk-headless -qq > /dev/null\n",
        "!wget -q http://www-us.apache.org/dist/spark/$SPARK_VERSION/$SPARK_VERSION-bin-hadoop2.7.tgz\n",
        "!tar xf $SPARK_VERSION-bin-hadoop2.7.tgz\n",
        "!pip install -q findspark\n",
        "\n",
        "# Set Environment Variables\n",
        "import os\n",
        "os.environ[\"JAVA_HOME\"] = \"/usr/lib/jvm/java-11-openjdk-amd64\"\n",
        "os.environ[\"SPARK_HOME\"] = f\"/content/{spark_version}-bin-hadoop2.7\"\n",
        "\n",
        "# Start a SparkSession\n",
        "import findspark\n",
        "findspark.init()"
      ],
      "execution_count": 1,
      "outputs": [
        {
          "output_type": "stream",
          "text": [
            "\r0% [Working]\r            \rGet:1 http://ppa.launchpad.net/c2d4u.team/c2d4u4.0+/ubuntu bionic InRelease [15.9 kB]\n",
            "\r0% [Waiting for headers] [Connecting to security.ubuntu.com (91.189.91.38)] [Co\r                                                                               \rHit:2 http://archive.ubuntu.com/ubuntu bionic InRelease\n",
            "\r0% [Waiting for headers] [Connecting to security.ubuntu.com (91.189.91.38)] [Co\r                                                                               \rGet:3 http://archive.ubuntu.com/ubuntu bionic-updates InRelease [88.7 kB]\n",
            "\r0% [3 InRelease 30.1 kB/88.7 kB 34%] [Connecting to security.ubuntu.com (91.189\r0% [2 InRelease gpgv 242 kB] [3 InRelease 33.0 kB/88.7 kB 37%] [Connecting to s\r                                                                               \rHit:4 http://ppa.launchpad.net/cran/libgit2/ubuntu bionic InRelease\n",
            "\r0% [2 InRelease gpgv 242 kB] [3 InRelease 33.0 kB/88.7 kB 37%] [Connecting to s\r0% [2 InRelease gpgv 242 kB] [Waiting for headers] [Connecting to security.ubun\r                                                                               \rGet:5 https://cloud.r-project.org/bin/linux/ubuntu bionic-cran40/ InRelease [3,626 B]\n",
            "\r0% [2 InRelease gpgv 242 kB] [Waiting for headers] [Connecting to security.ubun\r                                                                               \rHit:6 http://ppa.launchpad.net/deadsnakes/ppa/ubuntu bionic InRelease\n",
            "\r0% [2 InRelease gpgv 242 kB] [Waiting for headers] [Connecting to security.ubun\r                                                                               \rGet:7 http://archive.ubuntu.com/ubuntu bionic-backports InRelease [74.6 kB]\n",
            "Get:8 http://ppa.launchpad.net/graphics-drivers/ppa/ubuntu bionic InRelease [21.3 kB]\n",
            "Get:9 http://security.ubuntu.com/ubuntu bionic-security InRelease [88.7 kB]\n",
            "Ign:10 https://developer.download.nvidia.com/compute/cuda/repos/ubuntu1804/x86_64  InRelease\n",
            "Ign:11 https://developer.download.nvidia.com/compute/machine-learning/repos/ubuntu1804/x86_64  InRelease\n",
            "Get:12 https://developer.download.nvidia.com/compute/cuda/repos/ubuntu1804/x86_64  Release [697 B]\n",
            "Hit:13 https://developer.download.nvidia.com/compute/machine-learning/repos/ubuntu1804/x86_64  Release\n",
            "Get:14 https://developer.download.nvidia.com/compute/cuda/repos/ubuntu1804/x86_64  Release.gpg [836 B]\n",
            "Get:15 http://ppa.launchpad.net/c2d4u.team/c2d4u4.0+/ubuntu bionic/main Sources [1,767 kB]\n",
            "Get:16 http://ppa.launchpad.net/c2d4u.team/c2d4u4.0+/ubuntu bionic/main amd64 Packages [904 kB]\n",
            "Get:17 http://archive.ubuntu.com/ubuntu bionic-updates/restricted amd64 Packages [452 kB]\n",
            "Get:18 http://archive.ubuntu.com/ubuntu bionic-updates/main amd64 Packages [2,582 kB]\n",
            "Get:19 http://archive.ubuntu.com/ubuntu bionic-updates/universe amd64 Packages [2,183 kB]\n",
            "Get:20 https://cloud.r-project.org/bin/linux/ubuntu bionic-cran40/ Packages [56.8 kB]\n",
            "Get:21 http://ppa.launchpad.net/graphics-drivers/ppa/ubuntu bionic/main amd64 Packages [41.5 kB]\n",
            "Ign:23 https://developer.download.nvidia.com/compute/cuda/repos/ubuntu1804/x86_64  Packages\n",
            "Get:23 https://developer.download.nvidia.com/compute/cuda/repos/ubuntu1804/x86_64  Packages [772 kB]\n",
            "Get:24 http://security.ubuntu.com/ubuntu bionic-security/universe amd64 Packages [1,411 kB]\n",
            "Get:25 http://security.ubuntu.com/ubuntu bionic-security/main amd64 Packages [2,150 kB]\n",
            "Get:26 http://security.ubuntu.com/ubuntu bionic-security/restricted amd64 Packages [423 kB]\n",
            "Fetched 13.0 MB in 3s (4,701 kB/s)\n",
            "Reading package lists... Done\n"
          ],
          "name": "stdout"
        }
      ]
    },
    {
      "cell_type": "code",
      "metadata": {
        "id": "_xKwTpATHqSe",
        "colab": {
          "base_uri": "https://localhost:8080/"
        },
        "outputId": "ec68caea-ae60-4dcd-ba0a-46e21bff4286"
      },
      "source": [
        "# Download the Postgres driver that will allow Spark to interact with Postgres.\n",
        "!wget https://jdbc.postgresql.org/download/postgresql-42.2.16.jar"
      ],
      "execution_count": 2,
      "outputs": [
        {
          "output_type": "stream",
          "text": [
            "--2021-05-18 03:54:52--  https://jdbc.postgresql.org/download/postgresql-42.2.16.jar\n",
            "Resolving jdbc.postgresql.org (jdbc.postgresql.org)... 72.32.157.228, 2001:4800:3e1:1::228\n",
            "Connecting to jdbc.postgresql.org (jdbc.postgresql.org)|72.32.157.228|:443... connected.\n",
            "HTTP request sent, awaiting response... 200 OK\n",
            "Length: 1002883 (979K) [application/java-archive]\n",
            "Saving to: ‘postgresql-42.2.16.jar’\n",
            "\n",
            "postgresql-42.2.16. 100%[===================>] 979.38K  1.68MB/s    in 0.6s    \n",
            "\n",
            "2021-05-18 03:54:54 (1.68 MB/s) - ‘postgresql-42.2.16.jar’ saved [1002883/1002883]\n",
            "\n"
          ],
          "name": "stdout"
        }
      ]
    },
    {
      "cell_type": "code",
      "metadata": {
        "id": "MMqDAjVS0KN9"
      },
      "source": [
        "from pyspark.sql import SparkSession\n",
        "spark = SparkSession.builder.appName(\"BigData-Challenge\").config(\"spark.driver.extraClassPath\",\"/content/postgresql-42.2.16.jar\").getOrCreate()"
      ],
      "execution_count": 3,
      "outputs": []
    },
    {
      "cell_type": "code",
      "metadata": {
        "id": "hbbRSWPwJw4k"
      },
      "source": [
        "import datetime\n",
        "from pyspark.sql.functions import to_date\n",
        "from pyspark.sql.functions import col\n",
        "from pyspark.sql.types import StructField, StringType, IntegerType, StructType, BooleanType, DateType\n",
        "from pyspark import SparkFiles"
      ],
      "execution_count": 4,
      "outputs": []
    },
    {
      "cell_type": "markdown",
      "metadata": {
        "id": "cyBsySGuY-9V"
      },
      "source": [
        "### Load Amazon Data into Spark DataFrame"
      ]
    },
    {
      "cell_type": "markdown",
      "metadata": {
        "id": "VHY6-k4WgZRO"
      },
      "source": [
        "Note: Enter URL for Desired Dataset"
      ]
    },
    {
      "cell_type": "code",
      "metadata": {
        "id": "CtCmBhQJY-9Z",
        "colab": {
          "base_uri": "https://localhost:8080/"
        },
        "outputId": "4d053de5-3ca7-4054-8359-8de5aba481e2"
      },
      "source": [
        "#1 load product segment\n",
        "url = \"https://s3.amazonaws.com/amazon-reviews-pds/tsv/amazon_reviews_us_Music_v1_00.tsv.gz\"\n",
        "spark.sparkContext.addFile(url)\n",
        "df = spark.read.option(\"encoding\", \"UTF-8\").csv(SparkFiles.get(\"\"), sep=\"\\t\", header=True, inferSchema=True)\n",
        "df.show()"
      ],
      "execution_count": 5,
      "outputs": [
        {
          "output_type": "stream",
          "text": [
            "+-----------+-----------+--------------+----------+--------------+--------------------+----------------+-----------+-------------+-----------+----+-----------------+--------------------+--------------------+-----------+\n",
            "|marketplace|customer_id|     review_id|product_id|product_parent|       product_title|product_category|star_rating|helpful_votes|total_votes|vine|verified_purchase|     review_headline|         review_body|review_date|\n",
            "+-----------+-----------+--------------+----------+--------------+--------------------+----------------+-----------+-------------+-----------+----+-----------------+--------------------+--------------------+-----------+\n",
            "|         US|   10140119|R3LI5TRP3YIDQL|B00TXH4OLC|     384427924|Whatever's for Us...|           Music|          5|            0|          0|   N|                Y|          Five Stars|Love this CD alon...| 2015-08-31|\n",
            "|         US|   27664622|R3LGC3EKEG84PX|B00B6QXN6U|     831769051|Same Trailer Diff...|           Music|          5|            0|          0|   N|                Y|A new fave in our...|This is the album...| 2015-08-31|\n",
            "|         US|   45946560| R9PYL3OYH55QY|B001GCZXW6|      14067376| Soaring (Jazz Club)|           Music|          5|            0|          1|   N|                Y|          Five Stars|  Excellent / thanks| 2015-08-31|\n",
            "|         US|   15146326|R3PWBAWUS4NT0Q|B000003EK6|     566295619|     CARIBBEAN PARTY|           Music|          3|            0|          0|   N|                Y|         Three Stars|Nice variety of c...| 2015-08-31|\n",
            "|         US|   16794688|R15LYP3O51UU9E|B00N1F0BKK|     210426072|         Pain Killer|           Music|          5|            0|          0|   N|                Y|          Five Stars|Purchased as a gi...| 2015-08-31|\n",
            "|         US|   32203364|R1AD7L0CC3DSRI|B00V7KAO7Q|     360249504|A Thoughtiverse U...|           Music|          5|            0|          0|   N|                Y|Definitely worth ...|Really enjoyed th...| 2015-08-31|\n",
            "|         US|    1194276|R32FE8Y45QV434|B000094Q4P|      20972283|Comfort of Her Wings|           Music|          5|            0|          0|   N|                Y|          Five Stars|            Great CD| 2015-08-31|\n",
            "|         US|   45813052|R3NM4MZ4XWL43Q|B00JMK0P1I|     378049560|Sleep Soundly CD ...|           Music|          5|            1|          2|   N|                Y|          Five Stars|       Excellent CD!| 2015-08-31|\n",
            "|         US|   12795687|R3H4FXX6Q7I37D|B008OW1S3O|     141620702|     An Awesome Wave|           Music|          4|            0|          0|   N|                Y|          Four Stars|                nice| 2015-08-31|\n",
            "|         US|   36673840|R30L5PET7LFFDC|B00VI2L3L4|     920557135|          Blurryface|           Music|          5|            1|          1|   N|                Y|        Outstanding!|Outstanding music...| 2015-08-31|\n",
            "|         US|   49453576|  REFRE1LEKLAF|B0000041EV|     683128964|Mozart For Mother...|           Music|          4|            1|          1|   N|                Y|          Four Stars|      quite relaxing| 2015-08-31|\n",
            "|         US|    3285047|R3JTJ5EQN74E9H|B00005YW4H|     268461622|   Come Away with Me|           Music|          5|            0|          0|   N|                Y|          Five Stars|I love this CD.  ...| 2015-08-31|\n",
            "|         US|   24471201|R1W2F091LCOAW5|B00Q9KEZV0|     444090572| Tomorrow Is My Turn|           Music|          5|            0|          0|   N|                Y|FIve Stars and Th...|Rhiannon Giddens ...| 2015-08-31|\n",
            "|         US|   28049396| RYUMFQRRB1FNM|B00GFXRKHW|     482597726|       The Outsiders|           Music|          3|            0|          0|   N|                Y|         Three Stars|Wrecking Ball is ...| 2015-08-31|\n",
            "|         US|   41137196| RHCS6VVXWV3Q3|B004L3AQ10|     609457123|  The Lincoln Lawyer|           Music|          5|            0|          0|   N|                Y|          Five Stars|I was pleased wit...| 2015-08-31|\n",
            "|         US|   43305401|R35UL1YZ2142SL|B0000025PM|     125399885|Bach: Goldberg Va...|           Music|          5|            0|          0|   N|                Y|   The Creative Flow|The music that in...| 2015-08-31|\n",
            "|         US|   50808489|  RU1O6QD1LEBB|B00701QUN8|     144457491|Quiet Riot - Grea...|           Music|          5|            0|          0|   N|                Y|          Five Stars|   Excellent CD&#62;| 2015-08-31|\n",
            "|         US|   15536614|R36RXVL3XIZFH7|B003UJC2QI|     207971309|Love Or Money/Lov...|           Music|          5|            0|          0|   N|                N|    Great Pop Single|Love Or Money by ...| 2015-08-31|\n",
            "|         US|   32536909|R16O7SHYHLEYA1|B00LGA16J2|     760666287|Jonas Kaufmann - ...|           Music|          5|            0|          0|   N|                Y|          Five Stars|      Just splendid!| 2015-08-31|\n",
            "|         US|   51160312|R1Y5GX65Z2V9BG|B00ZGVMLLE|      37408836|        Clockworking|           Music|          5|            0|          0|   N|                N|Glorious Glorious...|One of my favorit...| 2015-08-31|\n",
            "+-----------+-----------+--------------+----------+--------------+--------------------+----------------+-----------+-------------+-----------+----+-----------------+--------------------+--------------------+-----------+\n",
            "only showing top 20 rows\n",
            "\n"
          ],
          "name": "stdout"
        }
      ]
    },
    {
      "cell_type": "markdown",
      "metadata": {
        "id": "2yUSe55VY-9t"
      },
      "source": [
        "### Create DataFrame - Perform Preliminary Cleaning"
      ]
    },
    {
      "cell_type": "code",
      "metadata": {
        "id": "C8REmY1aY-9u",
        "colab": {
          "base_uri": "https://localhost:8080/"
        },
        "outputId": "78856e49-7c3c-4096-c014-420fd88ce533"
      },
      "source": [
        "#1 Check the schema, print row & column count\n",
        "df.printSchema()\n",
        "print((df.count(), len(df.columns)))"
      ],
      "execution_count": 6,
      "outputs": [
        {
          "output_type": "stream",
          "text": [
            "root\n",
            " |-- marketplace: string (nullable = true)\n",
            " |-- customer_id: integer (nullable = true)\n",
            " |-- review_id: string (nullable = true)\n",
            " |-- product_id: string (nullable = true)\n",
            " |-- product_parent: integer (nullable = true)\n",
            " |-- product_title: string (nullable = true)\n",
            " |-- product_category: string (nullable = true)\n",
            " |-- star_rating: integer (nullable = true)\n",
            " |-- helpful_votes: integer (nullable = true)\n",
            " |-- total_votes: integer (nullable = true)\n",
            " |-- vine: string (nullable = true)\n",
            " |-- verified_purchase: string (nullable = true)\n",
            " |-- review_headline: string (nullable = true)\n",
            " |-- review_body: string (nullable = true)\n",
            " |-- review_date: string (nullable = true)\n",
            "\n",
            "(4751577, 15)\n"
          ],
          "name": "stdout"
        }
      ]
    },
    {
      "cell_type": "code",
      "metadata": {
        "id": "oGosPEeAKCFm",
        "colab": {
          "base_uri": "https://localhost:8080/"
        },
        "outputId": "131dcdb0-5ecf-4508-d461-1dafedc681a2"
      },
      "source": [
        "#2 Drop the round 1 columns\n",
        "columns_to_drop = ['marketplace', 'product_parent', 'vine', 'review_headline', 'review_body', 'review_date']\n",
        "df_dropped = df.drop(*columns_to_drop)\n",
        "df_dropped.show()"
      ],
      "execution_count": 7,
      "outputs": [
        {
          "output_type": "stream",
          "text": [
            "+-----------+--------------+----------+--------------------+----------------+-----------+-------------+-----------+-----------------+\n",
            "|customer_id|     review_id|product_id|       product_title|product_category|star_rating|helpful_votes|total_votes|verified_purchase|\n",
            "+-----------+--------------+----------+--------------------+----------------+-----------+-------------+-----------+-----------------+\n",
            "|   10140119|R3LI5TRP3YIDQL|B00TXH4OLC|Whatever's for Us...|           Music|          5|            0|          0|                Y|\n",
            "|   27664622|R3LGC3EKEG84PX|B00B6QXN6U|Same Trailer Diff...|           Music|          5|            0|          0|                Y|\n",
            "|   45946560| R9PYL3OYH55QY|B001GCZXW6| Soaring (Jazz Club)|           Music|          5|            0|          1|                Y|\n",
            "|   15146326|R3PWBAWUS4NT0Q|B000003EK6|     CARIBBEAN PARTY|           Music|          3|            0|          0|                Y|\n",
            "|   16794688|R15LYP3O51UU9E|B00N1F0BKK|         Pain Killer|           Music|          5|            0|          0|                Y|\n",
            "|   32203364|R1AD7L0CC3DSRI|B00V7KAO7Q|A Thoughtiverse U...|           Music|          5|            0|          0|                Y|\n",
            "|    1194276|R32FE8Y45QV434|B000094Q4P|Comfort of Her Wings|           Music|          5|            0|          0|                Y|\n",
            "|   45813052|R3NM4MZ4XWL43Q|B00JMK0P1I|Sleep Soundly CD ...|           Music|          5|            1|          2|                Y|\n",
            "|   12795687|R3H4FXX6Q7I37D|B008OW1S3O|     An Awesome Wave|           Music|          4|            0|          0|                Y|\n",
            "|   36673840|R30L5PET7LFFDC|B00VI2L3L4|          Blurryface|           Music|          5|            1|          1|                Y|\n",
            "|   49453576|  REFRE1LEKLAF|B0000041EV|Mozart For Mother...|           Music|          4|            1|          1|                Y|\n",
            "|    3285047|R3JTJ5EQN74E9H|B00005YW4H|   Come Away with Me|           Music|          5|            0|          0|                Y|\n",
            "|   24471201|R1W2F091LCOAW5|B00Q9KEZV0| Tomorrow Is My Turn|           Music|          5|            0|          0|                Y|\n",
            "|   28049396| RYUMFQRRB1FNM|B00GFXRKHW|       The Outsiders|           Music|          3|            0|          0|                Y|\n",
            "|   41137196| RHCS6VVXWV3Q3|B004L3AQ10|  The Lincoln Lawyer|           Music|          5|            0|          0|                Y|\n",
            "|   43305401|R35UL1YZ2142SL|B0000025PM|Bach: Goldberg Va...|           Music|          5|            0|          0|                Y|\n",
            "|   50808489|  RU1O6QD1LEBB|B00701QUN8|Quiet Riot - Grea...|           Music|          5|            0|          0|                Y|\n",
            "|   15536614|R36RXVL3XIZFH7|B003UJC2QI|Love Or Money/Lov...|           Music|          5|            0|          0|                N|\n",
            "|   32536909|R16O7SHYHLEYA1|B00LGA16J2|Jonas Kaufmann - ...|           Music|          5|            0|          0|                Y|\n",
            "|   51160312|R1Y5GX65Z2V9BG|B00ZGVMLLE|        Clockworking|           Music|          5|            0|          0|                N|\n",
            "+-----------+--------------+----------+--------------------+----------------+-----------+-------------+-----------+-----------------+\n",
            "only showing top 20 rows\n",
            "\n"
          ],
          "name": "stdout"
        }
      ]
    },
    {
      "cell_type": "code",
      "metadata": {
        "id": "1cWyyOQyKB8v",
        "colab": {
          "base_uri": "https://localhost:8080/"
        },
        "outputId": "d01a7928-d151-46b8-a77b-f8e200e6f402"
      },
      "source": [
        "#3 Filter Step 1:\n",
        "df_filtered = df_dropped.filter(df_dropped.verified_purchase == 'Y')\n",
        "df_filtered.show\n",
        "print((df_filtered.count(), len(df_filtered.columns)))"
      ],
      "execution_count": 8,
      "outputs": [
        {
          "output_type": "stream",
          "text": [
            "(1962351, 9)\n"
          ],
          "name": "stdout"
        }
      ]
    },
    {
      "cell_type": "code",
      "metadata": {
        "id": "fVJDJ4LBRHCV",
        "colab": {
          "base_uri": "https://localhost:8080/"
        },
        "outputId": "0fc2655a-367b-4d73-8bef-e45644ff770e"
      },
      "source": [
        "#4 drop filtered verified_purchase column\n",
        "columns_to_drop = ['verified_purchase']\n",
        "df_dropped_2 = df_filtered.drop(*columns_to_drop)\n",
        "df_dropped_2.show()"
      ],
      "execution_count": 9,
      "outputs": [
        {
          "output_type": "stream",
          "text": [
            "+-----------+--------------+----------+--------------------+----------------+-----------+-------------+-----------+\n",
            "|customer_id|     review_id|product_id|       product_title|product_category|star_rating|helpful_votes|total_votes|\n",
            "+-----------+--------------+----------+--------------------+----------------+-----------+-------------+-----------+\n",
            "|   10140119|R3LI5TRP3YIDQL|B00TXH4OLC|Whatever's for Us...|           Music|          5|            0|          0|\n",
            "|   27664622|R3LGC3EKEG84PX|B00B6QXN6U|Same Trailer Diff...|           Music|          5|            0|          0|\n",
            "|   45946560| R9PYL3OYH55QY|B001GCZXW6| Soaring (Jazz Club)|           Music|          5|            0|          1|\n",
            "|   15146326|R3PWBAWUS4NT0Q|B000003EK6|     CARIBBEAN PARTY|           Music|          3|            0|          0|\n",
            "|   16794688|R15LYP3O51UU9E|B00N1F0BKK|         Pain Killer|           Music|          5|            0|          0|\n",
            "|   32203364|R1AD7L0CC3DSRI|B00V7KAO7Q|A Thoughtiverse U...|           Music|          5|            0|          0|\n",
            "|    1194276|R32FE8Y45QV434|B000094Q4P|Comfort of Her Wings|           Music|          5|            0|          0|\n",
            "|   45813052|R3NM4MZ4XWL43Q|B00JMK0P1I|Sleep Soundly CD ...|           Music|          5|            1|          2|\n",
            "|   12795687|R3H4FXX6Q7I37D|B008OW1S3O|     An Awesome Wave|           Music|          4|            0|          0|\n",
            "|   36673840|R30L5PET7LFFDC|B00VI2L3L4|          Blurryface|           Music|          5|            1|          1|\n",
            "|   49453576|  REFRE1LEKLAF|B0000041EV|Mozart For Mother...|           Music|          4|            1|          1|\n",
            "|    3285047|R3JTJ5EQN74E9H|B00005YW4H|   Come Away with Me|           Music|          5|            0|          0|\n",
            "|   24471201|R1W2F091LCOAW5|B00Q9KEZV0| Tomorrow Is My Turn|           Music|          5|            0|          0|\n",
            "|   28049396| RYUMFQRRB1FNM|B00GFXRKHW|       The Outsiders|           Music|          3|            0|          0|\n",
            "|   41137196| RHCS6VVXWV3Q3|B004L3AQ10|  The Lincoln Lawyer|           Music|          5|            0|          0|\n",
            "|   43305401|R35UL1YZ2142SL|B0000025PM|Bach: Goldberg Va...|           Music|          5|            0|          0|\n",
            "|   50808489|  RU1O6QD1LEBB|B00701QUN8|Quiet Riot - Grea...|           Music|          5|            0|          0|\n",
            "|   32536909|R16O7SHYHLEYA1|B00LGA16J2|Jonas Kaufmann - ...|           Music|          5|            0|          0|\n",
            "|   17034306|R25Z4ADMYBHR66|B00AIUSGJE|   Meet The Supremes|           Music|          4|            1|          2|\n",
            "|   49997672| RS04EK5PRDM1H|B003X43FT8|My Time (The Delu...|           Music|          5|            0|          0|\n",
            "+-----------+--------------+----------+--------------------+----------------+-----------+-------------+-----------+\n",
            "only showing top 20 rows\n",
            "\n"
          ],
          "name": "stdout"
        }
      ]
    },
    {
      "cell_type": "markdown",
      "metadata": {
        "id": "Si3TGL5tHP1Z"
      },
      "source": [
        "## Create Analysis-Specific DFs/Tables\n",
        "### Perform Analysis-Specific Transforms"
      ]
    },
    {
      "cell_type": "markdown",
      "metadata": {
        "id": "hy5OVX7YHaXR"
      },
      "source": [
        "### Segmentation Analysis DF"
      ]
    },
    {
      "cell_type": "code",
      "metadata": {
        "id": "PldvjkUWHCt6",
        "colab": {
          "base_uri": "https://localhost:8080/"
        },
        "outputId": "2e974856-b3fe-4903-9152-f5abc18c56e0"
      },
      "source": [
        "# 1 Create Segmentation DF by Droppig Addtional Columns\n",
        "segmentation_cols_drop = ['review_id', 'product_id', 'product_title', 'star_rating', 'helpful_votes', 'total_votes']\n",
        "segmentation_dropped_df = df_dropped_2.drop(*segmentation_cols_drop)\n",
        "segmentation_dropped_df.show()"
      ],
      "execution_count": 10,
      "outputs": [
        {
          "output_type": "stream",
          "text": [
            "+-----------+----------------+\n",
            "|customer_id|product_category|\n",
            "+-----------+----------------+\n",
            "|   10140119|           Music|\n",
            "|   27664622|           Music|\n",
            "|   45946560|           Music|\n",
            "|   15146326|           Music|\n",
            "|   16794688|           Music|\n",
            "|   32203364|           Music|\n",
            "|    1194276|           Music|\n",
            "|   45813052|           Music|\n",
            "|   12795687|           Music|\n",
            "|   36673840|           Music|\n",
            "|   49453576|           Music|\n",
            "|    3285047|           Music|\n",
            "|   24471201|           Music|\n",
            "|   28049396|           Music|\n",
            "|   41137196|           Music|\n",
            "|   43305401|           Music|\n",
            "|   50808489|           Music|\n",
            "|   32536909|           Music|\n",
            "|   17034306|           Music|\n",
            "|   49997672|           Music|\n",
            "+-----------+----------------+\n",
            "only showing top 20 rows\n",
            "\n"
          ],
          "name": "stdout"
        }
      ]
    },
    {
      "cell_type": "markdown",
      "metadata": {
        "id": "GWLZJ8LIWpbK"
      },
      "source": [
        "Note: must change Category Label name in withColumnRenamed('count(product_category)', 'name')"
      ]
    },
    {
      "cell_type": "code",
      "metadata": {
        "id": "CB7H2fA_HCnX",
        "colab": {
          "base_uri": "https://localhost:8080/"
        },
        "outputId": "b29a35f1-8733-433a-a507-a588bf263b6a"
      },
      "source": [
        "#2 Segmentation GroupBy\n",
        "#2a GroupBy customer_id\n",
        "#2b Count product_category and rename count columns as Segment Name\n",
        "segment_df = segmentation_dropped_df.groupby(\"customer_id\")\\\n",
        ".agg({'product_category':'count'}).withColumnRenamed('count(product_category)', 'music')\n",
        "#2c Check results\n",
        "segment_df.show()"
      ],
      "execution_count": 11,
      "outputs": [
        {
          "output_type": "stream",
          "text": [
            "+-----------+-----+\n",
            "|customer_id|music|\n",
            "+-----------+-----+\n",
            "|     651796|    2|\n",
            "|   44979559|    1|\n",
            "|   45632184|    1|\n",
            "|   15232809|    1|\n",
            "|   17067926|    1|\n",
            "|   26163929|    1|\n",
            "|   20587872|    2|\n",
            "|   14230926|    2|\n",
            "|   52081222|    2|\n",
            "|   13382150|    1|\n",
            "|   13517415|    1|\n",
            "|   19324145|   26|\n",
            "|   46311034|    2|\n",
            "|    5573238|    1|\n",
            "|   53095124|    9|\n",
            "|     172523|    1|\n",
            "|     283137|    1|\n",
            "|    1356209|    1|\n",
            "|   28074100|    2|\n",
            "|   34722529|    1|\n",
            "+-----------+-----+\n",
            "only showing top 20 rows\n",
            "\n"
          ],
          "name": "stdout"
        }
      ]
    },
    {
      "cell_type": "code",
      "metadata": {
        "id": "B4y9GGlYL46X",
        "colab": {
          "base_uri": "https://localhost:8080/"
        },
        "outputId": "e1f0c2f7-77a2-4063-8796-8cc6da146db6"
      },
      "source": [
        "#3 Check segment_df Schema and Row Count\n",
        "segment_df.printSchema()\n",
        "print(segment_df.count())"
      ],
      "execution_count": 12,
      "outputs": [
        {
          "output_type": "stream",
          "text": [
            "root\n",
            " |-- customer_id: integer (nullable = true)\n",
            " |-- music: long (nullable = false)\n",
            "\n",
            "886919\n"
          ],
          "name": "stdout"
        }
      ]
    },
    {
      "cell_type": "markdown",
      "metadata": {
        "id": "C32fEqE9XE6y"
      },
      "source": [
        "Note: Column Name in df.sort('name' ...) must align with Column name from step 2"
      ]
    },
    {
      "cell_type": "code",
      "metadata": {
        "id": "YnyAXUQ0OVTM",
        "colab": {
          "base_uri": "https://localhost:8080/"
        },
        "outputId": "df35d73a-60f9-43f4-fd74-709c249beba5"
      },
      "source": [
        "#4 Filter for Top n Results\n",
        "#4a Declare number of rows to filter by (100,000)\n",
        "row_count = 100000\n",
        "#4a Sort by Segment Desc and limit to row_count\n",
        "filtered_segment_df = segment_df.sort('music', ascending=False).limit(row_count)\n",
        "#4b Check Results\n",
        "filtered_segment_df.show()\n",
        "print(filtered_segment_df.count())"
      ],
      "execution_count": 13,
      "outputs": [
        {
          "output_type": "stream",
          "text": [
            "+-----------+-----+\n",
            "|customer_id|music|\n",
            "+-----------+-----+\n",
            "|   29791894| 1089|\n",
            "|   51184997|  984|\n",
            "|   47423754|  976|\n",
            "|   38192329|  881|\n",
            "|   52562189|  850|\n",
            "|   27364030|  821|\n",
            "|   49939297|  775|\n",
            "|   52469795|  774|\n",
            "|   52467002|  742|\n",
            "|   47883385|  716|\n",
            "|   51228286|  679|\n",
            "|   49877557|  595|\n",
            "|   18116317|  549|\n",
            "|   50910905|  480|\n",
            "|   50135456|  469|\n",
            "|   50345651|  462|\n",
            "|   53075795|  440|\n",
            "|   15536614|  414|\n",
            "|   45772507|  413|\n",
            "|   44861557|  409|\n",
            "+-----------+-----+\n",
            "only showing top 20 rows\n",
            "\n",
            "100000\n"
          ],
          "name": "stdout"
        }
      ]
    },
    {
      "cell_type": "markdown",
      "metadata": {
        "id": "iuQnSLoxVvJ5"
      },
      "source": [
        "### Segmentation ETL Complete - Add Database Export Code"
      ]
    },
    {
      "cell_type": "code",
      "metadata": {
        "id": "u1a7WsMM4Fkp"
      },
      "source": [
        "# Configure settings for RDS\n",
        "mode = \"append\"\n",
        "jdbc_url=\"jdbc:postgresql://<connection_string>\"\n",
        "config = {\"user\":<username>, \n",
        "          \"password\": <password>, \n",
        "          \"driver\":\"org.postgresql.Driver\"}"
      ],
      "execution_count": null,
      "outputs": []
    },
    {
      "cell_type": "markdown",
      "metadata": {
        "id": "zOE5O-RDXg7y"
      },
      "source": [
        "Note: table name in table='name_segment' must align with table name in Postgres"
      ]
    },
    {
      "cell_type": "code",
      "metadata": {
        "id": "CvdvijJe4FiE"
      },
      "source": [
        "# Write segment table to Postgres/RDS\n",
        "# xx mins\n",
        "filtered_segment_df.write.jdbc(url=jdbc_url, table='music_segment', mode=mode, properties=config)"
      ],
      "execution_count": null,
      "outputs": []
    },
    {
      "cell_type": "markdown",
      "metadata": {
        "id": "hf1b-3fhV2vd"
      },
      "source": [
        "## Apriori Analysis DF\n",
        "### Enter Apriori Transfomations Below - Use df_dropped_2 as Start Point"
      ]
    },
    {
      "cell_type": "code",
      "metadata": {
        "id": "V5fqsDHoWRRo"
      },
      "source": [
        "# 1 Create Apriori DF by First Dropping Addtional Columns\n",
        "apriori_cols_drop = ['product_category', 'product_title', 'star_rating', 'helpful_votes', 'total_votes']\n",
        "apriori_dropped_df = df_dropped_2.drop(*apriori_cols_drop)\n",
        "apriori_dropped_df.show()"
      ],
      "execution_count": null,
      "outputs": []
    },
    {
      "cell_type": "markdown",
      "metadata": {
        "id": "efnKvbn_YDxY"
      },
      "source": [
        "### Prelim Apriori ETL Complete - Add Database Export Code"
      ]
    },
    {
      "cell_type": "code",
      "metadata": {
        "id": "uSTKJzcGO4wv"
      },
      "source": [
        "# Configure settings for RDS\n",
        "mode = \"append\"\n",
        "jdbc_url=\"jdbc:postgresql://<connection_string>\"\n",
        "config = {\"user\":<username>, \n",
        "          \"password\": <password>, \n",
        "          \"driver\":\"org.postgresql.Driver\"}"
      ],
      "execution_count": null,
      "outputs": []
    },
    {
      "cell_type": "markdown",
      "metadata": {
        "id": "nmwVVxzUYIsn"
      },
      "source": [
        "Note: table name in table='segment_apriori' must align with table name in Postgres"
      ]
    },
    {
      "cell_type": "code",
      "metadata": {
        "id": "vwcIfmxwO33L"
      },
      "source": [
        "# Write segment_apriori table to RDS\n",
        "# 5 mins\n",
        "apriori_dropped_df.write.jdbc(url=jdbc_url, table='music_apriori', mode=mode, properties=config)"
      ],
      "execution_count": null,
      "outputs": []
    },
    {
      "cell_type": "markdown",
      "metadata": {
        "id": "4H-EhptPWT_O"
      },
      "source": [
        "## Amazon Reviews S3 -> Postgres/RDS ETL Complete\n",
        "\n"
      ]
    },
    {
      "cell_type": "markdown",
      "metadata": {
        "id": "vLAhPy7UY-6E"
      },
      "source": [
        "### Run Queries in Postgres to Confirm Segment ETL\n",
        "Check Row Count of Segment Table - SELECT COUNT(*) FROM music_segment;\n",
        "\n",
        "Check 10 Rows of Segment Table - SELECT * FROM music_segment LIMIT(10);\n"
      ]
    },
    {
      "cell_type": "code",
      "metadata": {
        "id": "jA4ZFLCuY7bz"
      },
      "source": [
        "# Upon Confirmation of Above Checks Run This Cell\n",
        "print('Segment ETL Successful')"
      ],
      "execution_count": null,
      "outputs": []
    },
    {
      "cell_type": "markdown",
      "metadata": {
        "id": "EVw7yd0EZ0Cc"
      },
      "source": [
        "### Run Queries in Postgres to Confirm Apriori ETL\n",
        "Check Row Count of Apriori Table - SELECT COUNT(*) FROM music_apriori;\n",
        "\n",
        "Check 10 Rows of Apriori Table - SELECT * FROM music_apriori LIMIT(10);"
      ]
    },
    {
      "cell_type": "code",
      "metadata": {
        "id": "gHJg88FDaN3p"
      },
      "source": [
        "# Upon Confirmation of Above Checks Run This Cell\n",
        "print('Apriori ETL Successful')"
      ],
      "execution_count": null,
      "outputs": []
    }
  ]
}
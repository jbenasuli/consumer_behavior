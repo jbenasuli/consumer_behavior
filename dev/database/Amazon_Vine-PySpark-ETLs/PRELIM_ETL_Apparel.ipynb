{
  "nbformat": 4,
  "nbformat_minor": 0,
  "metadata": {
    "colab": {
      "name": "PRELIM_ETL-Apparel",
      "provenance": [],
      "collapsed_sections": [],
      "machine_shape": "hm",
      "include_colab_link": true
    },
    "kernelspec": {
      "name": "python3",
      "display_name": "Python 3"
    },
    "nteract": {
      "version": "0.12.3"
    },
    "language_info": {
      "name": "python"
    }
  },
  "cells": [
    {
      "cell_type": "markdown",
      "metadata": {
        "id": "view-in-github",
        "colab_type": "text"
      },
      "source": [
        "<a href=\"https://colab.research.google.com/github/jbenasuli/final_project/blob/database/dev/database/Amazon_Vine-PySpark-ETLs/PRELIM_ETL_Apparel.ipynb\" target=\"_parent\"><img src=\"https://colab.research.google.com/assets/colab-badge.svg\" alt=\"Open In Colab\"/></a>"
      ]
    },
    {
      "cell_type": "code",
      "metadata": {
        "id": "V58rxea0HqSa",
        "colab": {
          "base_uri": "https://localhost:8080/"
        },
        "outputId": "eac1fe32-69a7-4be4-9bb8-24568755c8b0"
      },
      "source": [
        "import os\n",
        "# Find the latest version of spark 2.0  from http://www-us.apache.org/dist/spark/ and enter as the spark version\n",
        "# For example:\n",
        "# spark_version = 'spark-3.1.1'\n",
        "spark_version = 'spark-3.1.1'\n",
        "os.environ['SPARK_VERSION']=spark_version\n",
        "\n",
        "# Install Spark and Java\n",
        "!apt-get update\n",
        "!apt-get install openjdk-11-jdk-headless -qq > /dev/null\n",
        "!wget -q http://www-us.apache.org/dist/spark/$SPARK_VERSION/$SPARK_VERSION-bin-hadoop2.7.tgz\n",
        "!tar xf $SPARK_VERSION-bin-hadoop2.7.tgz\n",
        "!pip install -q findspark\n",
        "\n",
        "# Set Environment Variables\n",
        "import os\n",
        "os.environ[\"JAVA_HOME\"] = \"/usr/lib/jvm/java-11-openjdk-amd64\"\n",
        "os.environ[\"SPARK_HOME\"] = f\"/content/{spark_version}-bin-hadoop2.7\"\n",
        "\n",
        "# Start a SparkSession\n",
        "import findspark\n",
        "findspark.init()"
      ],
      "execution_count": 1,
      "outputs": [
        {
          "output_type": "stream",
          "text": [
            "\r0% [Working]\r            \rGet:1 http://security.ubuntu.com/ubuntu bionic-security InRelease [88.7 kB]\n",
            "\r0% [Connecting to archive.ubuntu.com (91.189.88.152)] [1 InRelease 0 B/88.7 kB \r                                                                               \rGet:2 https://cloud.r-project.org/bin/linux/ubuntu bionic-cran40/ InRelease [3,626 B]\n",
            "Ign:3 https://developer.download.nvidia.com/compute/cuda/repos/ubuntu1804/x86_64  InRelease\n",
            "Ign:4 https://developer.download.nvidia.com/compute/machine-learning/repos/ubuntu1804/x86_64  InRelease\n",
            "Get:5 https://developer.download.nvidia.com/compute/cuda/repos/ubuntu1804/x86_64  Release [697 B]\n",
            "Hit:6 https://developer.download.nvidia.com/compute/machine-learning/repos/ubuntu1804/x86_64  Release\n",
            "Get:7 https://developer.download.nvidia.com/compute/cuda/repos/ubuntu1804/x86_64  Release.gpg [836 B]\n",
            "Get:8 http://ppa.launchpad.net/c2d4u.team/c2d4u4.0+/ubuntu bionic InRelease [15.9 kB]\n",
            "Hit:9 http://archive.ubuntu.com/ubuntu bionic InRelease\n",
            "Get:10 http://archive.ubuntu.com/ubuntu bionic-updates InRelease [88.7 kB]\n",
            "Hit:11 http://ppa.launchpad.net/cran/libgit2/ubuntu bionic InRelease\n",
            "Get:12 https://cloud.r-project.org/bin/linux/ubuntu bionic-cran40/ Packages [53.9 kB]\n",
            "Get:13 http://ppa.launchpad.net/deadsnakes/ppa/ubuntu bionic InRelease [15.9 kB]\n",
            "Get:14 http://archive.ubuntu.com/ubuntu bionic-backports InRelease [74.6 kB]\n",
            "Get:15 http://security.ubuntu.com/ubuntu bionic-security/universe amd64 Packages [1,410 kB]\n",
            "Get:17 http://security.ubuntu.com/ubuntu bionic-security/restricted amd64 Packages [396 kB]\n",
            "Get:18 http://security.ubuntu.com/ubuntu bionic-security/main amd64 Packages [2,116 kB]\n",
            "Get:19 http://ppa.launchpad.net/graphics-drivers/ppa/ubuntu bionic InRelease [15.9 kB]\n",
            "Get:20 http://security.ubuntu.com/ubuntu bionic-security/multiverse amd64 Packages [24.7 kB]\n",
            "Ign:21 https://developer.download.nvidia.com/compute/cuda/repos/ubuntu1804/x86_64  Packages\n",
            "Get:21 https://developer.download.nvidia.com/compute/cuda/repos/ubuntu1804/x86_64  Packages [742 kB]\n",
            "Get:22 http://ppa.launchpad.net/c2d4u.team/c2d4u4.0+/ubuntu bionic/main Sources [1,759 kB]\n",
            "Get:23 http://archive.ubuntu.com/ubuntu bionic-updates/universe amd64 Packages [2,181 kB]\n",
            "Get:24 http://ppa.launchpad.net/c2d4u.team/c2d4u4.0+/ubuntu bionic/main amd64 Packages [900 kB]\n",
            "Get:25 http://archive.ubuntu.com/ubuntu bionic-updates/restricted amd64 Packages [426 kB]\n",
            "Get:26 http://archive.ubuntu.com/ubuntu bionic-updates/multiverse amd64 Packages [31.6 kB]\n",
            "Get:27 http://archive.ubuntu.com/ubuntu bionic-updates/main amd64 Packages [2,546 kB]\n",
            "Get:28 http://ppa.launchpad.net/deadsnakes/ppa/ubuntu bionic/main amd64 Packages [40.7 kB]\n",
            "Get:29 http://ppa.launchpad.net/graphics-drivers/ppa/ubuntu bionic/main amd64 Packages [53.2 kB]\n",
            "Fetched 13.0 MB in 4s (3,101 kB/s)\n",
            "Reading package lists... Done\n"
          ],
          "name": "stdout"
        }
      ]
    },
    {
      "cell_type": "code",
      "metadata": {
        "id": "_xKwTpATHqSe",
        "colab": {
          "base_uri": "https://localhost:8080/"
        },
        "outputId": "a4ada451-f5bd-4341-9a70-8667190788b3"
      },
      "source": [
        "# Download the Postgres driver that will allow Spark to interact with Postgres.\n",
        "!wget https://jdbc.postgresql.org/download/postgresql-42.2.16.jar"
      ],
      "execution_count": 2,
      "outputs": [
        {
          "output_type": "stream",
          "text": [
            "--2021-05-03 04:02:02--  https://jdbc.postgresql.org/download/postgresql-42.2.16.jar\n",
            "Resolving jdbc.postgresql.org (jdbc.postgresql.org)... 72.32.157.228, 2001:4800:3e1:1::228\n",
            "Connecting to jdbc.postgresql.org (jdbc.postgresql.org)|72.32.157.228|:443... connected.\n",
            "HTTP request sent, awaiting response... 200 OK\n",
            "Length: 1002883 (979K) [application/java-archive]\n",
            "Saving to: ‘postgresql-42.2.16.jar’\n",
            "\n",
            "postgresql-42.2.16. 100%[===================>] 979.38K  --.-KB/s    in 0.09s   \n",
            "\n",
            "2021-05-03 04:02:02 (10.9 MB/s) - ‘postgresql-42.2.16.jar’ saved [1002883/1002883]\n",
            "\n"
          ],
          "name": "stdout"
        }
      ]
    },
    {
      "cell_type": "code",
      "metadata": {
        "id": "MMqDAjVS0KN9"
      },
      "source": [
        "from pyspark.sql import SparkSession\n",
        "spark = SparkSession.builder.appName(\"BigData-Challenge\").config(\"spark.driver.extraClassPath\",\"/content/postgresql-42.2.16.jar\").getOrCreate()"
      ],
      "execution_count": 3,
      "outputs": []
    },
    {
      "cell_type": "code",
      "metadata": {
        "id": "hbbRSWPwJw4k"
      },
      "source": [
        "import datetime\n",
        "from pyspark.sql.functions import to_date\n",
        "from pyspark.sql.functions import col\n",
        "from pyspark.sql.types import StructField, StringType, IntegerType, StructType, BooleanType, DateType\n",
        "from pyspark import SparkFiles"
      ],
      "execution_count": 4,
      "outputs": []
    },
    {
      "cell_type": "markdown",
      "metadata": {
        "id": "cyBsySGuY-9V"
      },
      "source": [
        "### Load Amazon Data into Spark DataFrame"
      ]
    },
    {
      "cell_type": "markdown",
      "metadata": {
        "id": "VHY6-k4WgZRO"
      },
      "source": [
        "Note: Enter URL for Desired Dataset"
      ]
    },
    {
      "cell_type": "code",
      "metadata": {
        "id": "CtCmBhQJY-9Z",
        "colab": {
          "base_uri": "https://localhost:8080/"
        },
        "outputId": "3961c249-b6bd-4cc9-ef37-a21dc899b07f"
      },
      "source": [
        "#1 load product segment\n",
        "url = \"https://s3.amazonaws.com/amazon-reviews-pds/tsv/amazon_reviews_us_Apparel_v1_00.tsv.gz\"\n",
        "spark.sparkContext.addFile(url)\n",
        "df = spark.read.option(\"encoding\", \"UTF-8\").csv(SparkFiles.get(\"\"), sep=\"\\t\", header=True, inferSchema=True)\n",
        "df.show()"
      ],
      "execution_count": 5,
      "outputs": [
        {
          "output_type": "stream",
          "text": [
            "+-----------+-----------+--------------+----------+--------------+--------------------+----------------+-----------+-------------+-----------+----+-----------------+--------------------+--------------------+-----------+\n",
            "|marketplace|customer_id|     review_id|product_id|product_parent|       product_title|product_category|star_rating|helpful_votes|total_votes|vine|verified_purchase|     review_headline|         review_body|review_date|\n",
            "+-----------+-----------+--------------+----------+--------------+--------------------+----------------+-----------+-------------+-----------+----+-----------------+--------------------+--------------------+-----------+\n",
            "|         US|   32158956|R1KKOXHNI8MSXU|B01KL6O72Y|      24485154|Easy Tool Stainle...|         Apparel|          4|            0|          0|   N|                Y|★ THESE REALLY DO...|These Really Do W...| 2013-01-14|\n",
            "|         US|    2714559|R26SP2OPDK4HT7|B01ID3ZS5W|     363128556|V28 Women Cowl Ne...|         Apparel|          5|            1|          2|   N|                Y|Favorite for wint...|I love this dress...| 2014-03-04|\n",
            "|         US|   12608825| RWQEDYAX373I1|B01I497BGY|     811958549|James Fiallo Men'...|         Apparel|          5|            0|          0|   N|                Y|Great Socks for t...|Nice socks, great...| 2015-07-12|\n",
            "|         US|   25482800|R231YI7R4GPF6J|B01HDXFZK6|     692205728|Belfry Gangster 1...|         Apparel|          5|            0|          0|   N|                Y|          Slick hat!|I bought this for...| 2015-06-03|\n",
            "|         US|    9310286|R3KO3W45DD0L1K|B01G6MBEBY|     431150422|JAEDEN Women's Be...|         Apparel|          5|            0|          0|   N|                Y|I would do it again!|Perfect dress and...| 2015-06-12|\n",
            "|         US|   26631939|R1C4QH63NFL5NJ|B01FWRXN0Y|     366144407|Levi's Boys' 514 ...|         Apparel|          5|            0|          0|   N|                Y|          Five Stars|Excellent for my ...| 2014-04-22|\n",
            "|         US|   48785098|R2GP65O1U9N7BP|B01EXNH1HE|     786052021|Minimalist Wallet...|         Apparel|          5|            0|          0|   N|                Y|            Love it!|Raw is the only w...| 2015-07-28|\n",
            "|         US|   39548589|R3O29CT5MQQ3XQ|B01E7OL09O|     108920964|Harriton Men's Ba...|         Apparel|          4|            0|          0|   N|                Y|         Three Stars|        A bit large.| 2015-07-10|\n",
            "|         US|   29355866|R1ZECD2AA8QFF6|B01DXHX81O|     317132458|Jockey Women's Un...|         Apparel|          5|            0|          0|   N|                Y|          Five Stars|          Great fit!| 2015-08-09|\n",
            "|         US|   27477484|R2S79GCF6J89OA|B01DDULIJK|     110598191|Alexander Del Ros...|         Apparel|          3|            0|          0|   N|                Y|    Not my favorite.|Shirt a bit too l...| 2014-05-24|\n",
            "|         US|   17685865|R1CBCUGNP37MPK|B01BOKOL4A|     121408017|Jockey Women's Un...|         Apparel|          5|            0|          0|   N|                Y|The Jockey Women'...|The Jockey Women'...| 2015-06-10|\n",
            "|         US|   19787539|R3NU4WUR5ZNV1V|B01B3Q4Q0O|     134506082|Bali Passion For ...|         Apparel|          5|            0|          0|   N|                Y|          Five Stars|cup size is just ...| 2013-09-06|\n",
            "|         US|   44196725|R32EPCJ3XF8LGE|B01ADDSL9U|     747539045|Lilyette Women's ...|         Apparel|          5|            0|          0|   N|                Y|          Five Stars|          Perfect...| 2014-11-17|\n",
            "|         US|   45510794|R1XIBC6WQBW31M|B019P1X5XI|     696379847|Vanity Fair Women...|         Apparel|          5|            0|          0|   N|                Y|best ever4 for me...|best  ever4 for m...| 2013-05-12|\n",
            "|         US|   42025740|R1P11MVDZ65LMH|B019MDXIXG|     387286513|Warner's Women's ...|         Apparel|          5|            0|          0|   N|                Y|          Five Stars|          Great fit.| 2014-02-14|\n",
            "|         US|   27097189|R1OJA3DJL0VDDK|B019438FEG|     764190574|Columbia Women's ...|         Apparel|          5|            0|          0|   N|                Y|          Five Stars|I have this Colum...| 2014-10-20|\n",
            "|         US|   13808904|R1THWA5YRJLOOF|B0178HGNIA|     816266887|Robes King RK Cla...|         Apparel|          4|            0|          0|   N|                Y|          Four Stars|My husband found ...| 2015-07-05|\n",
            "|         US|   30225894| R738LCNRSJVXP|B016VIU0QI|     323924698|VIV Collection Be...|         Apparel|          5|            6|          7|   N|                Y|   Awesome leggings!|Awesome leggings!...| 2015-07-29|\n",
            "|         US|   45223824|R1N3Z13931J3O9|B016PUU3VO|     893588059|Fruit of the Loom...|         Apparel|          2|            0|          0|   N|                Y|Sizes not correct...|I ordered the sam...| 2015-01-01|\n",
            "|         US|   22300783|R1LBNTP7E8N89Z|B016AQNDM4|     917361125|Jockey Scrubs Wom...|         Apparel|          1|            0|          0|   N|                Y|            One Star| not exact in sizing| 2015-02-12|\n",
            "+-----------+-----------+--------------+----------+--------------+--------------------+----------------+-----------+-------------+-----------+----+-----------------+--------------------+--------------------+-----------+\n",
            "only showing top 20 rows\n",
            "\n"
          ],
          "name": "stdout"
        }
      ]
    },
    {
      "cell_type": "markdown",
      "metadata": {
        "id": "2yUSe55VY-9t"
      },
      "source": [
        "### Create DataFrame - Perform Preliminary Cleaning"
      ]
    },
    {
      "cell_type": "code",
      "metadata": {
        "id": "C8REmY1aY-9u",
        "colab": {
          "base_uri": "https://localhost:8080/"
        },
        "outputId": "6349e9da-132f-4476-d9b9-ee185f94c073"
      },
      "source": [
        "#1 Check the schema, print row & column count\n",
        "df.printSchema()\n",
        "print((df.count(), len(df.columns)))"
      ],
      "execution_count": 6,
      "outputs": [
        {
          "output_type": "stream",
          "text": [
            "root\n",
            " |-- marketplace: string (nullable = true)\n",
            " |-- customer_id: integer (nullable = true)\n",
            " |-- review_id: string (nullable = true)\n",
            " |-- product_id: string (nullable = true)\n",
            " |-- product_parent: integer (nullable = true)\n",
            " |-- product_title: string (nullable = true)\n",
            " |-- product_category: string (nullable = true)\n",
            " |-- star_rating: integer (nullable = true)\n",
            " |-- helpful_votes: integer (nullable = true)\n",
            " |-- total_votes: integer (nullable = true)\n",
            " |-- vine: string (nullable = true)\n",
            " |-- verified_purchase: string (nullable = true)\n",
            " |-- review_headline: string (nullable = true)\n",
            " |-- review_body: string (nullable = true)\n",
            " |-- review_date: string (nullable = true)\n",
            "\n",
            "(5906333, 15)\n"
          ],
          "name": "stdout"
        }
      ]
    },
    {
      "cell_type": "code",
      "metadata": {
        "id": "oGosPEeAKCFm",
        "colab": {
          "base_uri": "https://localhost:8080/"
        },
        "outputId": "1c03ea78-0fb1-432c-cf19-5b130f987907"
      },
      "source": [
        "#2 Drop the round 1 columns\n",
        "columns_to_drop = ['marketplace', 'product_parent', 'vine', 'review_headline', 'review_body', 'review_date']\n",
        "df_dropped = df.drop(*columns_to_drop)\n",
        "df_dropped.show()"
      ],
      "execution_count": 7,
      "outputs": [
        {
          "output_type": "stream",
          "text": [
            "+-----------+--------------+----------+--------------------+----------------+-----------+-------------+-----------+-----------------+\n",
            "|customer_id|     review_id|product_id|       product_title|product_category|star_rating|helpful_votes|total_votes|verified_purchase|\n",
            "+-----------+--------------+----------+--------------------+----------------+-----------+-------------+-----------+-----------------+\n",
            "|   32158956|R1KKOXHNI8MSXU|B01KL6O72Y|Easy Tool Stainle...|         Apparel|          4|            0|          0|                Y|\n",
            "|    2714559|R26SP2OPDK4HT7|B01ID3ZS5W|V28 Women Cowl Ne...|         Apparel|          5|            1|          2|                Y|\n",
            "|   12608825| RWQEDYAX373I1|B01I497BGY|James Fiallo Men'...|         Apparel|          5|            0|          0|                Y|\n",
            "|   25482800|R231YI7R4GPF6J|B01HDXFZK6|Belfry Gangster 1...|         Apparel|          5|            0|          0|                Y|\n",
            "|    9310286|R3KO3W45DD0L1K|B01G6MBEBY|JAEDEN Women's Be...|         Apparel|          5|            0|          0|                Y|\n",
            "|   26631939|R1C4QH63NFL5NJ|B01FWRXN0Y|Levi's Boys' 514 ...|         Apparel|          5|            0|          0|                Y|\n",
            "|   48785098|R2GP65O1U9N7BP|B01EXNH1HE|Minimalist Wallet...|         Apparel|          5|            0|          0|                Y|\n",
            "|   39548589|R3O29CT5MQQ3XQ|B01E7OL09O|Harriton Men's Ba...|         Apparel|          4|            0|          0|                Y|\n",
            "|   29355866|R1ZECD2AA8QFF6|B01DXHX81O|Jockey Women's Un...|         Apparel|          5|            0|          0|                Y|\n",
            "|   27477484|R2S79GCF6J89OA|B01DDULIJK|Alexander Del Ros...|         Apparel|          3|            0|          0|                Y|\n",
            "|   17685865|R1CBCUGNP37MPK|B01BOKOL4A|Jockey Women's Un...|         Apparel|          5|            0|          0|                Y|\n",
            "|   19787539|R3NU4WUR5ZNV1V|B01B3Q4Q0O|Bali Passion For ...|         Apparel|          5|            0|          0|                Y|\n",
            "|   44196725|R32EPCJ3XF8LGE|B01ADDSL9U|Lilyette Women's ...|         Apparel|          5|            0|          0|                Y|\n",
            "|   45510794|R1XIBC6WQBW31M|B019P1X5XI|Vanity Fair Women...|         Apparel|          5|            0|          0|                Y|\n",
            "|   42025740|R1P11MVDZ65LMH|B019MDXIXG|Warner's Women's ...|         Apparel|          5|            0|          0|                Y|\n",
            "|   27097189|R1OJA3DJL0VDDK|B019438FEG|Columbia Women's ...|         Apparel|          5|            0|          0|                Y|\n",
            "|   13808904|R1THWA5YRJLOOF|B0178HGNIA|Robes King RK Cla...|         Apparel|          4|            0|          0|                Y|\n",
            "|   30225894| R738LCNRSJVXP|B016VIU0QI|VIV Collection Be...|         Apparel|          5|            6|          7|                Y|\n",
            "|   45223824|R1N3Z13931J3O9|B016PUU3VO|Fruit of the Loom...|         Apparel|          2|            0|          0|                Y|\n",
            "|   22300783|R1LBNTP7E8N89Z|B016AQNDM4|Jockey Scrubs Wom...|         Apparel|          1|            0|          0|                Y|\n",
            "+-----------+--------------+----------+--------------------+----------------+-----------+-------------+-----------+-----------------+\n",
            "only showing top 20 rows\n",
            "\n"
          ],
          "name": "stdout"
        }
      ]
    },
    {
      "cell_type": "code",
      "metadata": {
        "id": "1cWyyOQyKB8v",
        "colab": {
          "base_uri": "https://localhost:8080/"
        },
        "outputId": "d57c32ab-9ff3-4c29-a10c-ed4e350082f4"
      },
      "source": [
        "#3 Filter Step 1:\n",
        "df_filtered = df_dropped.filter(df_dropped.verified_purchase == 'Y')\n",
        "df_filtered.show\n",
        "print((df_filtered.count(), len(df_filtered.columns)))"
      ],
      "execution_count": 8,
      "outputs": [
        {
          "output_type": "stream",
          "text": [
            "(5312774, 9)\n"
          ],
          "name": "stdout"
        }
      ]
    },
    {
      "cell_type": "code",
      "metadata": {
        "id": "fVJDJ4LBRHCV",
        "colab": {
          "base_uri": "https://localhost:8080/"
        },
        "outputId": "b42de4fe-2efd-4349-b979-a13f6dcd4403"
      },
      "source": [
        "#4 drop filtered verified_purchase column\n",
        "columns_to_drop = ['verified_purchase']\n",
        "df_dropped_2 = df_filtered.drop(*columns_to_drop)\n",
        "df_dropped_2.show()"
      ],
      "execution_count": 9,
      "outputs": [
        {
          "output_type": "stream",
          "text": [
            "+-----------+--------------+----------+--------------------+----------------+-----------+-------------+-----------+\n",
            "|customer_id|     review_id|product_id|       product_title|product_category|star_rating|helpful_votes|total_votes|\n",
            "+-----------+--------------+----------+--------------------+----------------+-----------+-------------+-----------+\n",
            "|   32158956|R1KKOXHNI8MSXU|B01KL6O72Y|Easy Tool Stainle...|         Apparel|          4|            0|          0|\n",
            "|    2714559|R26SP2OPDK4HT7|B01ID3ZS5W|V28 Women Cowl Ne...|         Apparel|          5|            1|          2|\n",
            "|   12608825| RWQEDYAX373I1|B01I497BGY|James Fiallo Men'...|         Apparel|          5|            0|          0|\n",
            "|   25482800|R231YI7R4GPF6J|B01HDXFZK6|Belfry Gangster 1...|         Apparel|          5|            0|          0|\n",
            "|    9310286|R3KO3W45DD0L1K|B01G6MBEBY|JAEDEN Women's Be...|         Apparel|          5|            0|          0|\n",
            "|   26631939|R1C4QH63NFL5NJ|B01FWRXN0Y|Levi's Boys' 514 ...|         Apparel|          5|            0|          0|\n",
            "|   48785098|R2GP65O1U9N7BP|B01EXNH1HE|Minimalist Wallet...|         Apparel|          5|            0|          0|\n",
            "|   39548589|R3O29CT5MQQ3XQ|B01E7OL09O|Harriton Men's Ba...|         Apparel|          4|            0|          0|\n",
            "|   29355866|R1ZECD2AA8QFF6|B01DXHX81O|Jockey Women's Un...|         Apparel|          5|            0|          0|\n",
            "|   27477484|R2S79GCF6J89OA|B01DDULIJK|Alexander Del Ros...|         Apparel|          3|            0|          0|\n",
            "|   17685865|R1CBCUGNP37MPK|B01BOKOL4A|Jockey Women's Un...|         Apparel|          5|            0|          0|\n",
            "|   19787539|R3NU4WUR5ZNV1V|B01B3Q4Q0O|Bali Passion For ...|         Apparel|          5|            0|          0|\n",
            "|   44196725|R32EPCJ3XF8LGE|B01ADDSL9U|Lilyette Women's ...|         Apparel|          5|            0|          0|\n",
            "|   45510794|R1XIBC6WQBW31M|B019P1X5XI|Vanity Fair Women...|         Apparel|          5|            0|          0|\n",
            "|   42025740|R1P11MVDZ65LMH|B019MDXIXG|Warner's Women's ...|         Apparel|          5|            0|          0|\n",
            "|   27097189|R1OJA3DJL0VDDK|B019438FEG|Columbia Women's ...|         Apparel|          5|            0|          0|\n",
            "|   13808904|R1THWA5YRJLOOF|B0178HGNIA|Robes King RK Cla...|         Apparel|          4|            0|          0|\n",
            "|   30225894| R738LCNRSJVXP|B016VIU0QI|VIV Collection Be...|         Apparel|          5|            6|          7|\n",
            "|   45223824|R1N3Z13931J3O9|B016PUU3VO|Fruit of the Loom...|         Apparel|          2|            0|          0|\n",
            "|   22300783|R1LBNTP7E8N89Z|B016AQNDM4|Jockey Scrubs Wom...|         Apparel|          1|            0|          0|\n",
            "+-----------+--------------+----------+--------------------+----------------+-----------+-------------+-----------+\n",
            "only showing top 20 rows\n",
            "\n"
          ],
          "name": "stdout"
        }
      ]
    },
    {
      "cell_type": "markdown",
      "metadata": {
        "id": "Si3TGL5tHP1Z"
      },
      "source": [
        "## Create Analysis-Specific DFs/Tables\n",
        "### Perform Analysis-Specific Transforms"
      ]
    },
    {
      "cell_type": "markdown",
      "metadata": {
        "id": "hy5OVX7YHaXR"
      },
      "source": [
        "### Segmentation Analysis DF"
      ]
    },
    {
      "cell_type": "code",
      "metadata": {
        "id": "PldvjkUWHCt6",
        "colab": {
          "base_uri": "https://localhost:8080/"
        },
        "outputId": "96641696-60b3-43f8-c9fc-dc6b2fdbde91"
      },
      "source": [
        "# 1 Create Segmentation DF by Droppig Addtional Columns\n",
        "segmentation_cols_drop = ['review_id', 'product_id', 'product_title', 'star_rating', 'helpful_votes', 'total_votes']\n",
        "segmentation_dropped_df = df_dropped_2.drop(*segmentation_cols_drop)\n",
        "segmentation_dropped_df.show()"
      ],
      "execution_count": 10,
      "outputs": [
        {
          "output_type": "stream",
          "text": [
            "+-----------+----------------+\n",
            "|customer_id|product_category|\n",
            "+-----------+----------------+\n",
            "|   32158956|         Apparel|\n",
            "|    2714559|         Apparel|\n",
            "|   12608825|         Apparel|\n",
            "|   25482800|         Apparel|\n",
            "|    9310286|         Apparel|\n",
            "|   26631939|         Apparel|\n",
            "|   48785098|         Apparel|\n",
            "|   39548589|         Apparel|\n",
            "|   29355866|         Apparel|\n",
            "|   27477484|         Apparel|\n",
            "|   17685865|         Apparel|\n",
            "|   19787539|         Apparel|\n",
            "|   44196725|         Apparel|\n",
            "|   45510794|         Apparel|\n",
            "|   42025740|         Apparel|\n",
            "|   27097189|         Apparel|\n",
            "|   13808904|         Apparel|\n",
            "|   30225894|         Apparel|\n",
            "|   45223824|         Apparel|\n",
            "|   22300783|         Apparel|\n",
            "+-----------+----------------+\n",
            "only showing top 20 rows\n",
            "\n"
          ],
          "name": "stdout"
        }
      ]
    },
    {
      "cell_type": "markdown",
      "metadata": {
        "id": "GWLZJ8LIWpbK"
      },
      "source": [
        "Note: must change Category Label name in withColumnRenamed('count(product_category)', 'name')"
      ]
    },
    {
      "cell_type": "code",
      "metadata": {
        "id": "CB7H2fA_HCnX",
        "colab": {
          "base_uri": "https://localhost:8080/"
        },
        "outputId": "8cb4ec02-d90d-4cc7-f7eb-53571bcbb2c4"
      },
      "source": [
        "#2 Segmentation GroupBy\n",
        "#2a GroupBy customer_id\n",
        "#2b Count product_category and rename count columns as Segment Name\n",
        "segment_df = segmentation_dropped_df.groupby(\"customer_id\")\\\n",
        ".agg({'product_category':'count'}).withColumnRenamed('count(product_category)', 'apparel')\n",
        "#2c Check results\n",
        "segment_df.show()"
      ],
      "execution_count": 11,
      "outputs": [
        {
          "output_type": "stream",
          "text": [
            "+-----------+-------+\n",
            "|customer_id|apparel|\n",
            "+-----------+-------+\n",
            "|   13780696|      1|\n",
            "|   43380682|      1|\n",
            "|   27446622|      1|\n",
            "|     120706|      3|\n",
            "|   15915947|      2|\n",
            "|   37520920|      1|\n",
            "|   14309190|      8|\n",
            "|   22316505|      1|\n",
            "|   43949054|      2|\n",
            "|   21102747|      1|\n",
            "|   19021463|      1|\n",
            "|   16075459|      7|\n",
            "|   51475782|      2|\n",
            "|   35471383|      3|\n",
            "|   34788104|      2|\n",
            "|    1169723|      1|\n",
            "|   40659946|      1|\n",
            "|    1319956|      1|\n",
            "|     193166|      2|\n",
            "|   44514239|      1|\n",
            "+-----------+-------+\n",
            "only showing top 20 rows\n",
            "\n"
          ],
          "name": "stdout"
        }
      ]
    },
    {
      "cell_type": "code",
      "metadata": {
        "id": "B4y9GGlYL46X",
        "colab": {
          "base_uri": "https://localhost:8080/"
        },
        "outputId": "3c4a97ca-3935-4fb7-87fe-a694dcfdea20"
      },
      "source": [
        "#3 Check segment_df Schema and Row Count\n",
        "segment_df.printSchema()\n",
        "print(segment_df.count())"
      ],
      "execution_count": 12,
      "outputs": [
        {
          "output_type": "stream",
          "text": [
            "root\n",
            " |-- customer_id: integer (nullable = true)\n",
            " |-- apparel: long (nullable = false)\n",
            "\n",
            "2958291\n"
          ],
          "name": "stdout"
        }
      ]
    },
    {
      "cell_type": "markdown",
      "metadata": {
        "id": "C32fEqE9XE6y"
      },
      "source": [
        "Note: Column Name in df.sort('name' ...) must align with Column name from step 2"
      ]
    },
    {
      "cell_type": "code",
      "metadata": {
        "id": "YnyAXUQ0OVTM",
        "colab": {
          "base_uri": "https://localhost:8080/"
        },
        "outputId": "fba07765-85c2-498a-9604-879ebcef9548"
      },
      "source": [
        "#4 Filter for Top n Results\n",
        "#4a Declare number of rows to filter by (100,000)\n",
        "row_count = 100000\n",
        "#4a Sort by Segment Desc and limit to row_count\n",
        "filtered_segment_df = segment_df.sort('apparel', ascending=False).limit(row_count)\n",
        "#4b Check Results\n",
        "filtered_segment_df.show()\n",
        "print(filtered_segment_df.count())"
      ],
      "execution_count": 13,
      "outputs": [
        {
          "output_type": "stream",
          "text": [
            "+-----------+-------+\n",
            "|customer_id|apparel|\n",
            "+-----------+-------+\n",
            "|   37474421|    258|\n",
            "|   45825821|    249|\n",
            "|   15006109|    223|\n",
            "|   10558864|    192|\n",
            "|    6724212|    175|\n",
            "|   22985631|    165|\n",
            "|   45187592|    162|\n",
            "|   14230771|    154|\n",
            "|   19672530|    152|\n",
            "|   25388273|    148|\n",
            "|   37965911|    146|\n",
            "|   35178127|    143|\n",
            "|   38166052|    143|\n",
            "|    7809052|    140|\n",
            "|   40333751|    140|\n",
            "|   17580988|    133|\n",
            "|   42995420|    131|\n",
            "|    6534413|    127|\n",
            "|    2174967|    124|\n",
            "|   43310494|    124|\n",
            "+-----------+-------+\n",
            "only showing top 20 rows\n",
            "\n",
            "100000\n"
          ],
          "name": "stdout"
        }
      ]
    },
    {
      "cell_type": "markdown",
      "metadata": {
        "id": "iuQnSLoxVvJ5"
      },
      "source": [
        "### Segmentation ETL Complete - Add Database Export Code"
      ]
    },
    {
      "cell_type": "code",
      "metadata": {
        "id": "u1a7WsMM4Fkp"
      },
      "source": [
        "# Configure settings for RDS\n",
        "mode = \"append\"\n",
        "jdbc_url='jdbc:postgresql://<connection_srtring>'\n",
        "config = {\"user\":'<username>', \n",
        "          \"password\": '<password>', \n",
        "          \"driver\":\"org.postgresql.Driver\"}"
      ],
      "execution_count": 14,
      "outputs": []
    },
    {
      "cell_type": "markdown",
      "metadata": {
        "id": "zOE5O-RDXg7y"
      },
      "source": [
        "Note: table name in table='name_segment' must align with table name in Postgres"
      ]
    },
    {
      "cell_type": "code",
      "metadata": {
        "id": "CvdvijJe4FiE"
      },
      "source": [
        "# Write segment table to Postgres/RDS\n",
        "# 1 min 5 secs\n",
        "filtered_segment_df.write.jdbc(url=jdbc_url, table='apparel_segment', mode=mode, properties=config)"
      ],
      "execution_count": 15,
      "outputs": []
    },
    {
      "cell_type": "markdown",
      "metadata": {
        "id": "hf1b-3fhV2vd"
      },
      "source": [
        "## Apriori Analysis DF\n",
        "### Enter Apriori Transfomations Below - Use df_dropped_2 as Start Point"
      ]
    },
    {
      "cell_type": "code",
      "metadata": {
        "id": "V5fqsDHoWRRo",
        "colab": {
          "base_uri": "https://localhost:8080/"
        },
        "outputId": "0d91e4a6-00aa-46ad-acb3-f0d7a8e935a5"
      },
      "source": [
        "# 1 Create Apriori DF by First Dropping Addtional Columns\n",
        "apriori_cols_drop = ['product_category', 'product_title', 'star_rating', 'helpful_votes', 'total_votes']\n",
        "apriori_dropped_df = df_dropped_2.drop(*apriori_cols_drop)\n",
        "apriori_dropped_df.show()"
      ],
      "execution_count": 16,
      "outputs": [
        {
          "output_type": "stream",
          "text": [
            "+-----------+--------------+----------+\n",
            "|customer_id|     review_id|product_id|\n",
            "+-----------+--------------+----------+\n",
            "|   32158956|R1KKOXHNI8MSXU|B01KL6O72Y|\n",
            "|    2714559|R26SP2OPDK4HT7|B01ID3ZS5W|\n",
            "|   12608825| RWQEDYAX373I1|B01I497BGY|\n",
            "|   25482800|R231YI7R4GPF6J|B01HDXFZK6|\n",
            "|    9310286|R3KO3W45DD0L1K|B01G6MBEBY|\n",
            "|   26631939|R1C4QH63NFL5NJ|B01FWRXN0Y|\n",
            "|   48785098|R2GP65O1U9N7BP|B01EXNH1HE|\n",
            "|   39548589|R3O29CT5MQQ3XQ|B01E7OL09O|\n",
            "|   29355866|R1ZECD2AA8QFF6|B01DXHX81O|\n",
            "|   27477484|R2S79GCF6J89OA|B01DDULIJK|\n",
            "|   17685865|R1CBCUGNP37MPK|B01BOKOL4A|\n",
            "|   19787539|R3NU4WUR5ZNV1V|B01B3Q4Q0O|\n",
            "|   44196725|R32EPCJ3XF8LGE|B01ADDSL9U|\n",
            "|   45510794|R1XIBC6WQBW31M|B019P1X5XI|\n",
            "|   42025740|R1P11MVDZ65LMH|B019MDXIXG|\n",
            "|   27097189|R1OJA3DJL0VDDK|B019438FEG|\n",
            "|   13808904|R1THWA5YRJLOOF|B0178HGNIA|\n",
            "|   30225894| R738LCNRSJVXP|B016VIU0QI|\n",
            "|   45223824|R1N3Z13931J3O9|B016PUU3VO|\n",
            "|   22300783|R1LBNTP7E8N89Z|B016AQNDM4|\n",
            "+-----------+--------------+----------+\n",
            "only showing top 20 rows\n",
            "\n"
          ],
          "name": "stdout"
        }
      ]
    },
    {
      "cell_type": "markdown",
      "metadata": {
        "id": "efnKvbn_YDxY"
      },
      "source": [
        "### Prelim Apriori ETL Complete - Add Database Export Code"
      ]
    },
    {
      "cell_type": "code",
      "metadata": {
        "id": "uSTKJzcGO4wv"
      },
      "source": [
        "# Configure settings for RDS\n",
        "mode = \"append\"\n",
        "jdbc_url='jdbc:postgresql://<connection_srtring>'\n",
        "config = {\"user\":'<username>', \n",
        "          \"password\": '<password>', \n",
        "          \"driver\":\"org.postgresql.Driver\"}"
      ],
      "execution_count": 17,
      "outputs": []
    },
    {
      "cell_type": "markdown",
      "metadata": {
        "id": "nmwVVxzUYIsn"
      },
      "source": [
        "Note: table name in table='segment_apriori' must align with table name in Postgres"
      ]
    },
    {
      "cell_type": "code",
      "metadata": {
        "id": "vwcIfmxwO33L"
      },
      "source": [
        "# Write segment_apriori table to RDS\n",
        "# 13 mins 15 secs\n",
        "apriori_dropped_df.write.jdbc(url=jdbc_url, table='apparel_apriori', mode=mode, properties=config)"
      ],
      "execution_count": 18,
      "outputs": []
    },
    {
      "cell_type": "markdown",
      "metadata": {
        "id": "4H-EhptPWT_O"
      },
      "source": [
        "## Amazon Reviews S3 -> Postgres/RDS ETL Complete\n",
        "\n"
      ]
    },
    {
      "cell_type": "markdown",
      "metadata": {
        "id": "vLAhPy7UY-6E"
      },
      "source": [
        "### Run Queries in Postgres to Confirm Segment ETL\n",
        "Check Row Count of Segment Table - SELECT COUNT(*) FROM apparel_segment;\n",
        "\n",
        "Check 10 Rows of Segment Table - SELECT * FROM apparel_segment LIMIT(10);\n"
      ]
    },
    {
      "cell_type": "code",
      "metadata": {
        "id": "jA4ZFLCuY7bz",
        "colab": {
          "base_uri": "https://localhost:8080/"
        },
        "outputId": "15dccfe1-9e16-4f45-f59d-4bec7d846206"
      },
      "source": [
        "# Upon Confirmation of Above Checks Run This Cell\n",
        "print('Segment ETL Successful')"
      ],
      "execution_count": 19,
      "outputs": [
        {
          "output_type": "stream",
          "text": [
            "Segment ETL Successful\n"
          ],
          "name": "stdout"
        }
      ]
    },
    {
      "cell_type": "markdown",
      "metadata": {
        "id": "EVw7yd0EZ0Cc"
      },
      "source": [
        "### Run Queries in Postgres to Confirm Apriori ETL\n",
        "Check Row Count of Apriori Table - SELECT COUNT(*) FROM apparel_apriori;\n",
        "\n",
        "Check 10 Rows of Apriori Table - SELECT * FROM apparel_apriori LIMIT(10);"
      ]
    },
    {
      "cell_type": "code",
      "metadata": {
        "id": "gHJg88FDaN3p",
        "colab": {
          "base_uri": "https://localhost:8080/"
        },
        "outputId": "9440f18c-83f7-454b-928d-39621eeda689"
      },
      "source": [
        "# Upon Confirmation of Above Checks Run This Cell\n",
        "print('Apriori ETL Successful')"
      ],
      "execution_count": 20,
      "outputs": [
        {
          "output_type": "stream",
          "text": [
            "Apriori ETL Successful\n"
          ],
          "name": "stdout"
        }
      ]
    }
  ]
}
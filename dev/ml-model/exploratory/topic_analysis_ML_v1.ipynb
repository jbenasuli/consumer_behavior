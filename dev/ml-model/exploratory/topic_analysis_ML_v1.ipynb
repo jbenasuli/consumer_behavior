{
 "cells": [
  {
   "cell_type": "markdown",
   "metadata": {},
   "source": [
    "# Machine learning model to read reviews"
   ]
  },
  {
   "cell_type": "markdown",
   "metadata": {},
   "source": [
    "Question: how can we analyze a large number or revires with NPL?\n",
    "\n",
    "Goal: enable companies to quickly extract the key topics covered from the customer feedback without having to read through them one by one"
   ]
  },
  {
   "cell_type": "markdown",
   "metadata": {},
   "source": [
    "### Upload the data"
   ]
  },
  {
   "cell_type": "code",
   "execution_count": 1,
   "metadata": {},
   "outputs": [],
   "source": [
    "# Import dependencies\n",
    "from sqlalchemy import create_engine\n",
    "import pandas as pd\n",
    "import spacy\n",
    "\n",
    "# Libraries for visualization\n",
    "import matplotlib.pyplot as plt\n",
    "import seaborn as sns\n",
    "\n",
    "\n",
    "#Libraries for lemmatization\n",
    "import nltk\n",
    "import re\n",
    "from nltk.corpus import stopwords\n",
    "from nltk.stem import WordNetLemmatizer\n",
    "from nltk.tokenize import word_tokenize\n",
    "from nltk import FreqDist\n",
    "\n",
    "#Libraries for word cloud\n",
    "from os import path\n",
    "from PIL import Image\n",
    "from wordcloud import WordCloud, STOPWORDS"
   ]
  },
  {
   "cell_type": "code",
   "execution_count": 2,
   "metadata": {},
   "outputs": [],
   "source": [
    "# Postgres username, password, and database name\n",
    "\n",
    "POSTGRES_ADDRESS = 'mypostgresdb.cwuhtytzosg8.us-east-2.rds.amazonaws.com' ## INSERT YOUR DB ADDRESS IF IT'S NOT ON PANOPLY\n",
    "POSTGRES_PORT = '5432'\n",
    "POSTGRES_USERNAME = 'root' ## CHANGE THIS TO YOUR PANOPLY/POSTGRES USERNAME\n",
    "POSTGRES_PASSWORD = 'XXXX ## CHANGE THIS TO YOUR PANOPLY/POSTGRES PASSWORD\n",
    "POSTGRES_DBNAME = 'my_data_class_db' ## CHANGE THIS TO YOUR DATABASE NAME\n",
    "# A long string that contains the necessary Postgres login information\n",
    "postgres_str = ('postgresql://{username}:{password}@{ipaddress}:{port}/{dbname}'\n",
    ".format(username=POSTGRES_USERNAME,\n",
    "password=POSTGRES_PASSWORD,\n",
    "ipaddress=POSTGRES_ADDRESS,\n",
    "port=POSTGRES_PORT,\n",
    "dbname=POSTGRES_DBNAME))\n",
    "# Create the connection\n",
    "cnx = create_engine(postgres_str)"
   ]
  },
  {
   "cell_type": "code",
   "execution_count": 3,
   "metadata": {},
   "outputs": [
    {
     "data": {
      "text/html": [
       "<div>\n",
       "<style scoped>\n",
       "    .dataframe tbody tr th:only-of-type {\n",
       "        vertical-align: middle;\n",
       "    }\n",
       "\n",
       "    .dataframe tbody tr th {\n",
       "        vertical-align: top;\n",
       "    }\n",
       "\n",
       "    .dataframe thead th {\n",
       "        text-align: right;\n",
       "    }\n",
       "</style>\n",
       "<table border=\"1\" class=\"dataframe\">\n",
       "  <thead>\n",
       "    <tr style=\"text-align: right;\">\n",
       "      <th></th>\n",
       "      <th>customer_id</th>\n",
       "      <th>review_id</th>\n",
       "      <th>star_rating</th>\n",
       "      <th>review_headline</th>\n",
       "      <th>review_body</th>\n",
       "    </tr>\n",
       "  </thead>\n",
       "  <tbody>\n",
       "    <tr>\n",
       "      <th>0</th>\n",
       "      <td>51982153</td>\n",
       "      <td>R1DZ76NBD2TX55</td>\n",
       "      <td>5</td>\n",
       "      <td>my wife and i had to pick one of these up over...</td>\n",
       "      <td>my wife and i had to pick one of these up over...</td>\n",
       "    </tr>\n",
       "    <tr>\n",
       "      <th>1</th>\n",
       "      <td>44662747</td>\n",
       "      <td>R3G4HN08IK8Q5W</td>\n",
       "      <td>5</td>\n",
       "      <td>this is big and comfortable  it inflatesdeflat...</td>\n",
       "      <td>this is big and comfortable  it inflatesdeflat...</td>\n",
       "    </tr>\n",
       "    <tr>\n",
       "      <th>2</th>\n",
       "      <td>17097525</td>\n",
       "      <td>R1S3TBZK71L487</td>\n",
       "      <td>1</td>\n",
       "      <td>horrible it was so comfortable for the first f...</td>\n",
       "      <td>horrible it was so comfortable for the first f...</td>\n",
       "    </tr>\n",
       "    <tr>\n",
       "      <th>3</th>\n",
       "      <td>29924839</td>\n",
       "      <td>R9P8YG335IDYV</td>\n",
       "      <td>5</td>\n",
       "      <td>we bought this so our friends kids would have ...</td>\n",
       "      <td>we bought this so our friends kids would have ...</td>\n",
       "    </tr>\n",
       "    <tr>\n",
       "      <th>4</th>\n",
       "      <td>46198682</td>\n",
       "      <td>R5VTP1LCQIATH</td>\n",
       "      <td>4</td>\n",
       "      <td>this bed exceeded my expectations in sturdines...</td>\n",
       "      <td>this bed exceeded my expectations in sturdines...</td>\n",
       "    </tr>\n",
       "  </tbody>\n",
       "</table>\n",
       "</div>"
      ],
      "text/plain": [
       "   customer_id       review_id  star_rating  \\\n",
       "0     51982153  R1DZ76NBD2TX55            5   \n",
       "1     44662747  R3G4HN08IK8Q5W            5   \n",
       "2     17097525  R1S3TBZK71L487            1   \n",
       "3     29924839   R9P8YG335IDYV            5   \n",
       "4     46198682   R5VTP1LCQIATH            4   \n",
       "\n",
       "                                     review_headline  \\\n",
       "0  my wife and i had to pick one of these up over...   \n",
       "1  this is big and comfortable  it inflatesdeflat...   \n",
       "2  horrible it was so comfortable for the first f...   \n",
       "3  we bought this so our friends kids would have ...   \n",
       "4  this bed exceeded my expectations in sturdines...   \n",
       "\n",
       "                                         review_body  \n",
       "0  my wife and i had to pick one of these up over...  \n",
       "1  this is big and comfortable  it inflatesdeflat...  \n",
       "2  horrible it was so comfortable for the first f...  \n",
       "3  we bought this so our friends kids would have ...  \n",
       "4  this bed exceeded my expectations in sturdines...  "
      ]
     },
     "execution_count": 3,
     "metadata": {},
     "output_type": "execute_result"
    }
   ],
   "source": [
    "# Load database for sentiment/topic analysis\n",
    "df = pd.read_sql_query('''SELECT * FROM airmattress_cleaned''', con=cnx)\n",
    "df.head()"
   ]
  },
  {
   "cell_type": "markdown",
   "metadata": {},
   "source": [
    "### Analyze reviews data"
   ]
  },
  {
   "cell_type": "code",
   "execution_count": 4,
   "metadata": {},
   "outputs": [],
   "source": [
    "# function to plot most frequent terms\n",
    "def freq_words(x, terms = 30):\n",
    "  all_words = ' '.join([text for text in x])\n",
    "  all_words = all_words.split()\n",
    "\n",
    "  fdist = FreqDist(all_words)\n",
    "  words_df = pd.DataFrame({'word':list(fdist.keys()), 'count':list(fdist.values())})\n",
    "\n",
    "  # selecting top 20 most frequent words\n",
    "  d = words_df.nlargest(columns=\"count\", n = terms) \n",
    "  plt.figure(figsize=(20,5))\n",
    "  ax = sns.barplot(data=d, x= \"word\", y = \"count\", color = 'black')\n",
    "  ax.set(ylabel = 'Count')\n",
    "  plt.show()"
   ]
  },
  {
   "cell_type": "code",
   "execution_count": 5,
   "metadata": {
    "scrolled": true
   },
   "outputs": [
    {
     "data": {
      "image/png": "[encoded data removed]",
      "text/plain": [
       "<Figure size 1440x360 with 1 Axes>"
      ]
     },
     "metadata": {
      "needs_background": "light"
     },
     "output_type": "display_data"
    }
   ],
   "source": [
    "freq_words(df['review_body'])"
   ]
  },
  {
   "cell_type": "code",
   "execution_count": 6,
   "metadata": {},
   "outputs": [
    {
     "name": "stderr",
     "output_type": "stream",
     "text": [
      "C:\\Users\\li_mi\\anaconda3\\envs\\PythonData\\lib\\site-packages\\ipykernel_launcher.py:2: FutureWarning: The default value of regex will change from True to False in a future version.\n",
      "  \n"
     ]
    },
    {
     "data": {
      "text/html": [
       "<div>\n",
       "<style scoped>\n",
       "    .dataframe tbody tr th:only-of-type {\n",
       "        vertical-align: middle;\n",
       "    }\n",
       "\n",
       "    .dataframe tbody tr th {\n",
       "        vertical-align: top;\n",
       "    }\n",
       "\n",
       "    .dataframe thead th {\n",
       "        text-align: right;\n",
       "    }\n",
       "</style>\n",
       "<table border=\"1\" class=\"dataframe\">\n",
       "  <thead>\n",
       "    <tr style=\"text-align: right;\">\n",
       "      <th></th>\n",
       "      <th>customer_id</th>\n",
       "      <th>review_id</th>\n",
       "      <th>star_rating</th>\n",
       "      <th>review_headline</th>\n",
       "      <th>review_body</th>\n",
       "    </tr>\n",
       "  </thead>\n",
       "  <tbody>\n",
       "    <tr>\n",
       "      <th>0</th>\n",
       "      <td>51982153</td>\n",
       "      <td>R1DZ76NBD2TX55</td>\n",
       "      <td>5</td>\n",
       "      <td>my wife and i had to pick one of these up over...</td>\n",
       "      <td>my wife and i had to pick one of these up over...</td>\n",
       "    </tr>\n",
       "    <tr>\n",
       "      <th>1</th>\n",
       "      <td>44662747</td>\n",
       "      <td>R3G4HN08IK8Q5W</td>\n",
       "      <td>5</td>\n",
       "      <td>this is big and comfortable  it inflatesdeflat...</td>\n",
       "      <td>this is big and comfortable  it inflatesdeflat...</td>\n",
       "    </tr>\n",
       "    <tr>\n",
       "      <th>2</th>\n",
       "      <td>17097525</td>\n",
       "      <td>R1S3TBZK71L487</td>\n",
       "      <td>1</td>\n",
       "      <td>horrible it was so comfortable for the first f...</td>\n",
       "      <td>horrible it was so comfortable for the first f...</td>\n",
       "    </tr>\n",
       "    <tr>\n",
       "      <th>3</th>\n",
       "      <td>29924839</td>\n",
       "      <td>R9P8YG335IDYV</td>\n",
       "      <td>5</td>\n",
       "      <td>we bought this so our friends kids would have ...</td>\n",
       "      <td>we bought this so our friends kids would have ...</td>\n",
       "    </tr>\n",
       "    <tr>\n",
       "      <th>4</th>\n",
       "      <td>46198682</td>\n",
       "      <td>R5VTP1LCQIATH</td>\n",
       "      <td>4</td>\n",
       "      <td>this bed exceeded my expectations in sturdines...</td>\n",
       "      <td>this bed exceeded my expectations in sturdines...</td>\n",
       "    </tr>\n",
       "    <tr>\n",
       "      <th>...</th>\n",
       "      <td>...</td>\n",
       "      <td>...</td>\n",
       "      <td>...</td>\n",
       "      <td>...</td>\n",
       "      <td>...</td>\n",
       "    </tr>\n",
       "    <tr>\n",
       "      <th>4748</th>\n",
       "      <td>10221632</td>\n",
       "      <td>R2K0TL4VNH71AB</td>\n",
       "      <td>5</td>\n",
       "      <td>good buy very little leak the bed itself is ve...</td>\n",
       "      <td>good buy very little leak the bed itself is ve...</td>\n",
       "    </tr>\n",
       "    <tr>\n",
       "      <th>4749</th>\n",
       "      <td>52922779</td>\n",
       "      <td>R3FMSB7NVM64SP</td>\n",
       "      <td>5</td>\n",
       "      <td>this is a great thing to have the built in pum...</td>\n",
       "      <td>this is a great thing to have the built in pum...</td>\n",
       "    </tr>\n",
       "    <tr>\n",
       "      <th>4750</th>\n",
       "      <td>45643821</td>\n",
       "      <td>R3JPX7JXE4JF61</td>\n",
       "      <td>5</td>\n",
       "      <td>this air mattress is incredible  we bought it ...</td>\n",
       "      <td>this air mattress is incredible  we bought it ...</td>\n",
       "    </tr>\n",
       "    <tr>\n",
       "      <th>4751</th>\n",
       "      <td>14464916</td>\n",
       "      <td>R2XZEVT9OE0BXI</td>\n",
       "      <td>4</td>\n",
       "      <td>i have not had this item for very long and hav...</td>\n",
       "      <td>i have not had this item for very long and hav...</td>\n",
       "    </tr>\n",
       "    <tr>\n",
       "      <th>4752</th>\n",
       "      <td>11092248</td>\n",
       "      <td>R164SXE5K0KQDG</td>\n",
       "      <td>4</td>\n",
       "      <td>i used to have the older version of this one u...</td>\n",
       "      <td>i used to have the older version of this one u...</td>\n",
       "    </tr>\n",
       "  </tbody>\n",
       "</table>\n",
       "<p>4753 rows × 5 columns</p>\n",
       "</div>"
      ],
      "text/plain": [
       "      customer_id       review_id  star_rating  \\\n",
       "0        51982153  R1DZ76NBD2TX55            5   \n",
       "1        44662747  R3G4HN08IK8Q5W            5   \n",
       "2        17097525  R1S3TBZK71L487            1   \n",
       "3        29924839   R9P8YG335IDYV            5   \n",
       "4        46198682   R5VTP1LCQIATH            4   \n",
       "...           ...             ...          ...   \n",
       "4748     10221632  R2K0TL4VNH71AB            5   \n",
       "4749     52922779  R3FMSB7NVM64SP            5   \n",
       "4750     45643821  R3JPX7JXE4JF61            5   \n",
       "4751     14464916  R2XZEVT9OE0BXI            4   \n",
       "4752     11092248  R164SXE5K0KQDG            4   \n",
       "\n",
       "                                        review_headline  \\\n",
       "0     my wife and i had to pick one of these up over...   \n",
       "1     this is big and comfortable  it inflatesdeflat...   \n",
       "2     horrible it was so comfortable for the first f...   \n",
       "3     we bought this so our friends kids would have ...   \n",
       "4     this bed exceeded my expectations in sturdines...   \n",
       "...                                                 ...   \n",
       "4748  good buy very little leak the bed itself is ve...   \n",
       "4749  this is a great thing to have the built in pum...   \n",
       "4750  this air mattress is incredible  we bought it ...   \n",
       "4751  i have not had this item for very long and hav...   \n",
       "4752  i used to have the older version of this one u...   \n",
       "\n",
       "                                            review_body  \n",
       "0     my wife and i had to pick one of these up over...  \n",
       "1     this is big and comfortable  it inflatesdeflat...  \n",
       "2     horrible it was so comfortable for the first f...  \n",
       "3     we bought this so our friends kids would have ...  \n",
       "4     this bed exceeded my expectations in sturdines...  \n",
       "...                                                 ...  \n",
       "4748  good buy very little leak the bed itself is ve...  \n",
       "4749  this is a great thing to have the built in pum...  \n",
       "4750  this air mattress is incredible  we bought it ...  \n",
       "4751  i have not had this item for very long and hav...  \n",
       "4752  i used to have the older version of this one u...  \n",
       "\n",
       "[4753 rows x 5 columns]"
      ]
     },
     "execution_count": 6,
     "metadata": {},
     "output_type": "execute_result"
    }
   ],
   "source": [
    "# Remove unwanted characters, numbers and symbols\n",
    "df['review_body'] = df['review_body'].str.replace(\"[^a-zA-Z#]\", \" \")\n",
    "df"
   ]
  },
  {
   "cell_type": "code",
   "execution_count": 7,
   "metadata": {},
   "outputs": [
    {
     "data": {
      "image/png": "[encoded data removed]",
      "text/plain": [
       "<Figure size 1440x360 with 1 Axes>"
      ]
     },
     "metadata": {
      "needs_background": "light"
     },
     "output_type": "display_data"
    }
   ],
   "source": [
    "freq_words(df['review_body'])"
   ]
  },
  {
   "cell_type": "code",
   "execution_count": 8,
   "metadata": {},
   "outputs": [],
   "source": [
    "from nltk.corpus import stopwords\n",
    "stop_words = stopwords.words('english')\n",
    "\n",
    "# Remove stopwords\n",
    "def remove_stopwords(rev):\n",
    "    rev_new = \" \".join([i for i in rev if i not in stop_words])\n",
    "    return rev_new\n",
    "\n",
    "# Remove short words (length < 3)\n",
    "df['review_body'] = df['review_body'].apply(lambda x: ' '.join([w for w in x.split() if len(w)>2]))\n",
    "\n",
    "# Exclude stopwords from the text\n",
    "reviews = [remove_stopwords(r.split()) for r in df['review_body']]"
   ]
  },
  {
   "cell_type": "code",
   "execution_count": 9,
   "metadata": {},
   "outputs": [
    {
     "name": "stdout",
     "output_type": "stream",
     "text": [
      "Collecting en-core-web-sm==3.0.0\n",
      "  Downloading https://github.com/explosion/spacy-models/releases/download/en_core_web_sm-3.0.0/en_core_web_sm-3.0.0-py3-none-any.whl (13.7 MB)\n",
      "Requirement already satisfied: spacy<3.1.0,>=3.0.0 in c:\\users\\li_mi\\anaconda3\\envs\\pythondata\\lib\\site-packages (from en-core-web-sm==3.0.0) (3.0.6)\n",
      "Requirement already satisfied: catalogue<2.1.0,>=2.0.3 in c:\\users\\li_mi\\anaconda3\\envs\\pythondata\\lib\\site-packages (from spacy<3.1.0,>=3.0.0->en-core-web-sm==3.0.0) (2.0.4)\n",
      "Requirement already satisfied: numpy>=1.15.0 in c:\\users\\li_mi\\anaconda3\\envs\\pythondata\\lib\\site-packages (from spacy<3.1.0,>=3.0.0->en-core-web-sm==3.0.0) (1.20.2)\n",
      "Requirement already satisfied: setuptools in c:\\users\\li_mi\\anaconda3\\envs\\pythondata\\lib\\site-packages (from spacy<3.1.0,>=3.0.0->en-core-web-sm==3.0.0) (52.0.0.post20210125)\n",
      "Requirement already satisfied: thinc<8.1.0,>=8.0.3 in c:\\users\\li_mi\\anaconda3\\envs\\pythondata\\lib\\site-packages (from spacy<3.1.0,>=3.0.0->en-core-web-sm==3.0.0) (8.0.3)\n",
      "Requirement already satisfied: tqdm<5.0.0,>=4.38.0 in c:\\users\\li_mi\\anaconda3\\envs\\pythondata\\lib\\site-packages (from spacy<3.1.0,>=3.0.0->en-core-web-sm==3.0.0) (4.59.0)\n",
      "Requirement already satisfied: wasabi<1.1.0,>=0.8.1 in c:\\users\\li_mi\\anaconda3\\envs\\pythondata\\lib\\site-packages (from spacy<3.1.0,>=3.0.0->en-core-web-sm==3.0.0) (0.8.2)\n",
      "Requirement already satisfied: typing-extensions<4.0.0.0,>=3.7.4 in c:\\users\\li_mi\\anaconda3\\envs\\pythondata\\lib\\site-packages (from spacy<3.1.0,>=3.0.0->en-core-web-sm==3.0.0) (3.7.4.3)\n",
      "Requirement already satisfied: pydantic<1.8.0,>=1.7.1 in c:\\users\\li_mi\\anaconda3\\envs\\pythondata\\lib\\site-packages (from spacy<3.1.0,>=3.0.0->en-core-web-sm==3.0.0) (1.7.3)\n",
      "Requirement already satisfied: preshed<3.1.0,>=3.0.2 in c:\\users\\li_mi\\anaconda3\\envs\\pythondata\\lib\\site-packages (from spacy<3.1.0,>=3.0.0->en-core-web-sm==3.0.0) (3.0.5)\n",
      "Requirement already satisfied: pathy>=0.3.5 in c:\\users\\li_mi\\anaconda3\\envs\\pythondata\\lib\\site-packages (from spacy<3.1.0,>=3.0.0->en-core-web-sm==3.0.0) (0.5.2)\n",
      "Requirement already satisfied: blis<0.8.0,>=0.4.0 in c:\\users\\li_mi\\anaconda3\\envs\\pythondata\\lib\\site-packages (from spacy<3.1.0,>=3.0.0->en-core-web-sm==3.0.0) (0.7.4)\n",
      "Requirement already satisfied: murmurhash<1.1.0,>=0.28.0 in c:\\users\\li_mi\\anaconda3\\envs\\pythondata\\lib\\site-packages (from spacy<3.1.0,>=3.0.0->en-core-web-sm==3.0.0) (1.0.5)\n",
      "Requirement already satisfied: packaging>=20.0 in c:\\users\\li_mi\\anaconda3\\envs\\pythondata\\lib\\site-packages (from spacy<3.1.0,>=3.0.0->en-core-web-sm==3.0.0) (20.9)\n",
      "Requirement already satisfied: spacy-legacy<3.1.0,>=3.0.4 in c:\\users\\li_mi\\anaconda3\\envs\\pythondata\\lib\\site-packages (from spacy<3.1.0,>=3.0.0->en-core-web-sm==3.0.0) (3.0.5)\n",
      "Requirement already satisfied: cymem<2.1.0,>=2.0.2 in c:\\users\\li_mi\\anaconda3\\envs\\pythondata\\lib\\site-packages (from spacy<3.1.0,>=3.0.0->en-core-web-sm==3.0.0) (2.0.5)\n",
      "Requirement already satisfied: typer<0.4.0,>=0.3.0 in c:\\users\\li_mi\\anaconda3\\envs\\pythondata\\lib\\site-packages (from spacy<3.1.0,>=3.0.0->en-core-web-sm==3.0.0) (0.3.2)\n",
      "Requirement already satisfied: srsly<3.0.0,>=2.4.1 in c:\\users\\li_mi\\anaconda3\\envs\\pythondata\\lib\\site-packages (from spacy<3.1.0,>=3.0.0->en-core-web-sm==3.0.0) (2.4.1)\n",
      "Requirement already satisfied: jinja2 in c:\\users\\li_mi\\anaconda3\\envs\\pythondata\\lib\\site-packages (from spacy<3.1.0,>=3.0.0->en-core-web-sm==3.0.0) (2.11.3)\n",
      "Requirement already satisfied: requests<3.0.0,>=2.13.0 in c:\\users\\li_mi\\anaconda3\\envs\\pythondata\\lib\\site-packages (from spacy<3.1.0,>=3.0.0->en-core-web-sm==3.0.0) (2.25.1)\n",
      "Requirement already satisfied: zipp>=0.5 in c:\\users\\li_mi\\anaconda3\\envs\\pythondata\\lib\\site-packages (from catalogue<2.1.0,>=2.0.3->spacy<3.1.0,>=3.0.0->en-core-web-sm==3.0.0) (3.4.1)\n",
      "Requirement already satisfied: pyparsing>=2.0.2 in c:\\users\\li_mi\\anaconda3\\envs\\pythondata\\lib\\site-packages (from packaging>=20.0->spacy<3.1.0,>=3.0.0->en-core-web-sm==3.0.0) (2.4.7)\n",
      "Collecting smart-open<4.0.0,>=2.2.0\n",
      "  Using cached smart_open-3.0.0-py3-none-any.whl\n",
      "Requirement already satisfied: certifi>=2017.4.17 in c:\\users\\li_mi\\anaconda3\\envs\\pythondata\\lib\\site-packages (from requests<3.0.0,>=2.13.0->spacy<3.1.0,>=3.0.0->en-core-web-sm==3.0.0) (2020.12.5)\n",
      "Requirement already satisfied: idna<3,>=2.5 in c:\\users\\li_mi\\anaconda3\\envs\\pythondata\\lib\\site-packages (from requests<3.0.0,>=2.13.0->spacy<3.1.0,>=3.0.0->en-core-web-sm==3.0.0) (2.10)\n",
      "Requirement already satisfied: chardet<5,>=3.0.2 in c:\\users\\li_mi\\anaconda3\\envs\\pythondata\\lib\\site-packages (from requests<3.0.0,>=2.13.0->spacy<3.1.0,>=3.0.0->en-core-web-sm==3.0.0) (4.0.0)\n",
      "Requirement already satisfied: urllib3<1.27,>=1.21.1 in c:\\users\\li_mi\\anaconda3\\envs\\pythondata\\lib\\site-packages (from requests<3.0.0,>=2.13.0->spacy<3.1.0,>=3.0.0->en-core-web-sm==3.0.0) (1.26.4)\n",
      "Requirement already satisfied: click<7.2.0,>=7.1.1 in c:\\users\\li_mi\\anaconda3\\envs\\pythondata\\lib\\site-packages (from typer<0.4.0,>=0.3.0->spacy<3.1.0,>=3.0.0->en-core-web-sm==3.0.0) (7.1.2)\n",
      "Requirement already satisfied: MarkupSafe>=0.23 in c:\\users\\li_mi\\anaconda3\\envs\\pythondata\\lib\\site-packages (from jinja2->spacy<3.1.0,>=3.0.0->en-core-web-sm==3.0.0) (1.1.1)\n",
      "Installing collected packages: smart-open\n",
      "  Attempting uninstall: smart-open\n",
      "    Found existing installation: smart-open 2.0.0\n",
      "    Uninstalling smart-open-2.0.0:\n",
      "      Successfully uninstalled smart-open-2.0.0\n",
      "Successfully installed smart-open-3.0.0\n",
      "[+] Download and installation successful\n",
      "You can now load the package via spacy.load('en_core_web_sm')\n"
     ]
    },
    {
     "name": "stderr",
     "output_type": "stream",
     "text": [
      "2021-05-01 14:40:29.674035: W tensorflow/stream_executor/platform/default/dso_loader.cc:60] Could not load dynamic library 'cudart64_110.dll'; dlerror: cudart64_110.dll not found\n",
      "2021-05-01 14:40:29.674076: I tensorflow/stream_executor/cuda/cudart_stub.cc:29] Ignore above cudart dlerror if you do not have a GPU set up on your machine.\n",
      "ERROR: pip's dependency resolver does not currently take into account all the packages that are installed. This behaviour is the source of the following dependency conflicts.\n",
      "gensim 4.0.1 requires Cython==0.29.21, but you have cython 0.29.23 which is incompatible.\n"
     ]
    }
   ],
   "source": [
    "# To remove noise from reviews, use lemmatization from spaCy library\n",
    "!python -m spacy download en_core_web_sm "
   ]
  },
  {
   "cell_type": "code",
   "execution_count": 10,
   "metadata": {},
   "outputs": [],
   "source": [
    "# Use nlp to remove words that are not aggregating to analysis\n",
    "nlp = spacy.load('en_core_web_sm', disable=['parser', 'ner'])\n",
    "\n",
    "def lemmatization(texts, tags=['NOUN', 'ADJ']): # filter noun and adjective\n",
    "       output = []\n",
    "       for sent in texts:\n",
    "             doc = nlp(\" \".join(sent)) \n",
    "             output.append([token.lemma_ for token in doc if token.pos_ in tags])\n",
    "       return output"
   ]
  },
  {
   "cell_type": "code",
   "execution_count": 11,
   "metadata": {},
   "outputs": [
    {
     "name": "stdout",
     "output_type": "stream",
     "text": [
      "['big', 'comfortable', 'inflatesdeflates', 'unfoldfold', 'hope', 'lasts', 'long', 'time']\n"
     ]
    }
   ],
   "source": [
    "tokenized_reviews = pd.Series(reviews).apply(lambda x: x.split())\n",
    "print(tokenized_reviews[1])"
   ]
  },
  {
   "cell_type": "code",
   "execution_count": 12,
   "metadata": {},
   "outputs": [
    {
     "name": "stdout",
     "output_type": "stream",
     "text": [
      "['big', 'comfortable', 'inflatesdeflate', 'unfoldfold', 'hope', 'long', 'time']\n"
     ]
    }
   ],
   "source": [
    "reviews_2 = lemmatization(tokenized_reviews)\n",
    "print(reviews_2[1]) # print lemmatized review"
   ]
  },
  {
   "cell_type": "code",
   "execution_count": 13,
   "metadata": {},
   "outputs": [
    {
     "data": {
      "image/png": "[encoded data removed]",
      "text/plain": [
       "<Figure size 1440x360 with 1 Axes>"
      ]
     },
     "metadata": {
      "needs_background": "light"
     },
     "output_type": "display_data"
    }
   ],
   "source": [
    "reviews_3 = []\n",
    "for i in range(len(reviews_2)):\n",
    "    reviews_3.append(' '.join(reviews_2[i]))\n",
    "\n",
    "df['reviews'] = reviews_3\n",
    "\n",
    "freq_words(df['reviews'], 20)"
   ]
  },
  {
   "cell_type": "markdown",
   "metadata": {},
   "source": [
    "### Create Latent Dirichlet Allocation (LDA) model"
   ]
  },
  {
   "cell_type": "markdown",
   "metadata": {},
   "source": [
    "One application of LDA in machine learning - specifically, topic discovery, a subproblem in natural language processing - is to discover topics in a collection of documents, and then automatically classify any individual document within the collection in terms of how \"relevant\" it is to each of the discovered topics. A topic is considered to be a set of terms (i.e., individual words or phrases) that, taken together, suggest a shared theme. Souce: Wikipedia\n",
    "\n",
    "Topic Modelling is different from rule-based text mining approaches that use regular expressions or dictionary based keyword searching techniques. It is an unsupervised approach used for finding and observing the bunch of words (called “topics”) in large clusters of texts. Source: https://www.analyticsvidhya.com/blog/2016/08/beginners-guide-to-topic-modeling-in-python/"
   ]
  },
  {
   "cell_type": "code",
   "execution_count": 14,
   "metadata": {},
   "outputs": [
    {
     "name": "stderr",
     "output_type": "stream",
     "text": [
      "C:\\Users\\li_mi\\anaconda3\\envs\\PythonData\\lib\\site-packages\\gensim\\similarities\\__init__.py:15: UserWarning: The gensim.similarities.levenshtein submodule is disabled, because the optional Levenshtein package <https://pypi.org/project/python-Levenshtein/> is unavailable. Install Levenhstein (e.g. `pip install python-Levenshtein`) to suppress this warning.\n",
      "  warnings.warn(msg)\n"
     ]
    }
   ],
   "source": [
    "import gensim\n",
    "from gensim import corpora"
   ]
  },
  {
   "cell_type": "code",
   "execution_count": 15,
   "metadata": {},
   "outputs": [],
   "source": [
    "# Create the term dictionary of our corpus, unique terms are assigned an index\n",
    "dictionary = corpora.Dictionary(reviews_2)"
   ]
  },
  {
   "cell_type": "code",
   "execution_count": 16,
   "metadata": {},
   "outputs": [],
   "source": [
    "# Transform list of reviews into a document term matrix\n",
    "doc_term_matrix = [dictionary.doc2bow(rev) for rev in reviews_2]"
   ]
  },
  {
   "cell_type": "code",
   "execution_count": 17,
   "metadata": {},
   "outputs": [],
   "source": [
    "# Creating the object for LDA model using gensim library\n",
    "LDA = gensim.models.ldamodel.LdaModel\n",
    "\n",
    "# Build LDA model. In this case we specifified # of topics = 5\n",
    "lda_model = LDA(corpus=doc_term_matrix, id2word=dictionary, num_topics=5, random_state=100,\n",
    "                chunksize=1000, passes=50)"
   ]
  },
  {
   "cell_type": "code",
   "execution_count": 18,
   "metadata": {},
   "outputs": [
    {
     "data": {
      "text/plain": [
       "[(0,\n",
       "  '0.015*\"queen\" + 0.013*\"intex\" + 0.009*\"downy\" + 0.009*\"strong\" + 0.008*\"builtin\" + 0.008*\"smell\" + 0.008*\"new\" + 0.007*\"member\" + 0.007*\"kit\" + 0.007*\"work\"'),\n",
       " (1,\n",
       "  '0.038*\"air\" + 0.037*\"time\" + 0.032*\"night\" + 0.032*\"bed\" + 0.023*\"first\" + 0.019*\"leak\" + 0.018*\"amazon\" + 0.018*\"mattress\" + 0.017*\"product\" + 0.016*\"day\"'),\n",
       " (2,\n",
       "  '0.063*\"bed\" + 0.044*\"mattress\" + 0.035*\"air\" + 0.021*\"pump\" + 0.020*\"size\" + 0.020*\"sheet\" + 0.019*\"queen\" + 0.014*\"little\" + 0.014*\"comfortable\" + 0.012*\"night\"'),\n",
       " (3,\n",
       "  '0.056*\"bed\" + 0.051*\"air\" + 0.044*\"comfortable\" + 0.042*\"great\" + 0.034*\"mattress\" + 0.028*\"easy\" + 0.026*\"guest\" + 0.023*\"good\" + 0.021*\"price\" + 0.020*\"pump\"'),\n",
       " (4,\n",
       "  '0.076*\"bed\" + 0.040*\"month\" + 0.032*\"air\" + 0.031*\"mattress\" + 0.017*\"seam\" + 0.014*\"intex\" + 0.014*\"side\" + 0.013*\"product\" + 0.013*\"day\" + 0.013*\"middle\"')]"
      ]
     },
     "execution_count": 18,
     "metadata": {},
     "output_type": "execute_result"
    }
   ],
   "source": [
    "# Print topics\n",
    "lda_model.print_topics()"
   ]
  },
  {
   "cell_type": "markdown",
   "metadata": {},
   "source": [
    "### Topics visualization"
   ]
  },
  {
   "cell_type": "code",
   "execution_count": 19,
   "metadata": {},
   "outputs": [],
   "source": [
    "# Import dependencies\n",
    "import pyLDAvis\n",
    "import pyLDAvis.gensim_models\n",
    "%matplotlib inline"
   ]
  },
  {
   "cell_type": "code",
   "execution_count": 20,
   "metadata": {},
   "outputs": [
    {
     "name": "stderr",
     "output_type": "stream",
     "text": [
      "C:\\Users\\li_mi\\anaconda3\\envs\\PythonData\\lib\\site-packages\\ipykernel\\ipkernel.py:283: DeprecationWarning: `should_run_async` will not call `transform_cell` automatically in the future. Please pass the result to `transformed_cell` argument and any exception that happen during thetransform in `preprocessing_exc_tuple` in IPython 7.17 and above.\n",
      "  and should_run_async(code)\n"
     ]
    },
    {
     "data": {
      "text/html": [
       "\n",
       "<link rel=\"stylesheet\" type=\"text/css\" href=\"https://cdn.jsdelivr.net/gh/bmabey/pyLDAvis@3.3.1/pyLDAvis/js/ldavis.v1.0.0.css\">\n",
       "\n",
       "\n",
       "<div id=\"ldavis_el1632024275335570649976499517\"></div>\n",
       "<script type=\"text/javascript\">\n",
       "\n",
       "var ldavis_el1632024275335570649976499517_data = {\"mdsDat\": {\"x\": [-0.1353582058648918, -0.0674172067513934, -0.06958305121479945, -0.09086876068391253, 0.363227224514997], \"y\": [-0.13617952882612322, -0.148121124061858, 0.154682379676715, 0.1425613635233606, -0.012943090312094393], \"topics\": [1, 2, 3, 4, 5], \"cluster\": [1, 1, 1, 1, 1], \"Freq\": [28.92685000341964, 22.355103407190036, 22.277216443732474, 21.879178027002993, 4.561652118654856]}, \"tinfo\": {\"Term\": [\"month\", \"great\", \"easy\", \"queen\", \"comfortable\", \"size\", \"sheet\", \"first\", \"time\", \"seam\", \"bed\", \"price\", \"leak\", \"amazon\", \"guest\", \"intex\", \"pump\", \"inflate\", \"middle\", \"night\", \"side\", \"love\", \"deflate\", \"little\", \"product\", \"top\", \"huge\", \"mattress\", \"house\", \"use\", \"set\", \"convenient\", \"value\", \"holiday\", \"recommend\", \"setup\", \"flip\", \"handy\", \"delivery\", \"button\", \"portable\", \"reasonable\", \"inlaw\", \"comforter\", \"cover\", \"investment\", \"breeze\", \"sleepover\", \"affordable\", \"push\", \"convenience\", \"blow\", \"woman\", \"slight\", \"capacity\", \"grandchild\", \"tuck\", \"typical\", \"inflatedeflate\", \"figure\", \"easy\", \"love\", \"visit\", \"price\", \"deflate\", \"fast\", \"great\", \"inflate\", \"kid\", \"comfortable\", \"excellent\", \"parent\", \"storage\", \"guest\", \"house\", \"store\", \"perfect\", \"spare\", \"family\", \"good\", \"extra\", \"firm\", \"bag\", \"air\", \"pump\", \"quality\", \"bed\", \"mattress\", \"height\", \"sleep\", \"high\", \"use\", \"product\", \"night\", \"minute\", \"purchase\", \"week\", \"day\", \"size\", \"sheet\", \"trip\", \"cold\", \"awesome\", \"pad\", \"foam\", \"blanket\", \"topper\", \"feature\", \"thick\", \"memory\", \"warm\", \"design\", \"battery\", \"put\", \"standard\", \"pack\", \"inflating\", \"pro\", \"note\", \"average\", \"electricity\", \"layer\", \"necessary\", \"notice\", \"reading\", \"flaw\", \"solid\", \"think\", \"queen\", \"tent\", \"turn\", \"comfy\", \"sized\", \"overall\", \"little\", \"camping\", \"enough\", \"bit\", \"top\", \"firmness\", \"nice\", \"mattress\", \"bed\", \"pump\", \"full\", \"much\", \"air\", \"place\", \"minute\", \"real\", \"comfortable\", \"night\", \"height\", \"people\", \"thing\", \"floor\", \"bag\", \"room\", \"small\", \"sleep\", \"time\", \"slow\", \"disappointed\", \"pain\", \"pay\", \"positive\", \"contact\", \"sleeping\", \"try\", \"situation\", \"date\", \"condition\", \"exact\", \"life\", \"cool\", \"read\", \"traditional\", \"exchange\", \"reliable\", \"carpet\", \"aero\", \"asleep\", \"occasion\", \"odor\", \"deep\", \"young\", \"staying\", \"significant\", \"important\", \"timely\", \"filling\", \"hour\", \"amazon\", \"first\", \"morning\", \"return\", \"brand\", \"leak\", \"back\", \"time\", \"valve\", \"refund\", \"next\", \"thinking\", \"instruction\", \"night\", \"second\", \"bad\", \"review\", \"item\", \"day\", \"product\", \"use\", \"box\", \"inflated\", \"air\", \"middle\", \"hole\", \"sure\", \"new\", \"bed\", \"year\", \"floor\", \"mattress\", \"problem\", \"week\", \"guest\", \"month\", \"good\", \"intex\", \"sleep\", \"seam\", \"huge\", \"bubble\", \"bulge\", \"lump\", \"waste\", \"shape\", \"length\", \"unusable\", \"pop\", \"bump\", \"weigh\", \"usage\", \"hump\", \"ridge\", \"inner\", \"baffle\", \"construction\", \"garbage\", \"woke\", \"cause\", \"giant\", \"section\", \"wake\", \"november\", \"head\", \"unable\", \"constant\", \"rib\", \"burst\", \"warranty\", \"side\", \"month\", \"useless\", \"chamber\", \"fix\", \"middle\", \"daily\", \"intex\", \"bed\", \"expensive\", \"big\", \"money\", \"patch\", \"last\", \"hole\", \"mattress\", \"week\", \"day\", \"air\", \"product\", \"year\", \"top\", \"long\", \"star\", \"use\", \"leak\", \"time\", \"sleep\", \"good\", \"couple\", \"comfortable\", \"thing\", \"great\", \"member\", \"package\", \"amazoncom\", \"website\", \"moment\", \"left\", \"rate\", \"mju\", \"damage\", \"student\", \"rough\", \"quiet\", \"weird\", \"spending\", \"backstore\", \"odd\", \"volt\", \"various\", \"housing\", \"over\", \"nap\", \"pinch\", \"suspect\", \"cozy\", \"bike\", \"visible\", \"asinb\", \"leg\", \"effective\", \"bulging\", \"strong\", \"college\", \"smell\", \"downy\", \"repair\", \"kit\", \"crazy\", \"unit\", \"unexpected\", \"cat\", \"queen\", \"builtin\", \"intex\", \"model\", \"work\", \"foot\", \"old\", \"new\", \"plastic\", \"normal\", \"son\", \"matress\", \"family\", \"house\", \"electric\", \"big\"], \"Freq\": [876.0, 1177.0, 698.0, 401.0, 1439.0, 357.0, 352.0, 494.0, 1055.0, 293.0, 4329.0, 564.0, 465.0, 359.0, 871.0, 492.0, 945.0, 427.0, 384.0, 1185.0, 283.0, 318.0, 356.0, 398.0, 819.0, 318.0, 162.0, 2415.0, 207.0, 746.0, 143.3630758267935, 89.51820635370318, 77.84410007246483, 66.3420764585856, 42.22548317096188, 41.94062636277606, 38.93463145021164, 38.10591173109221, 32.552307272994796, 30.0356063555437, 29.924960588565558, 28.423588411426252, 26.997464635434156, 26.706300934906263, 26.177851874632452, 23.892617682717756, 24.690018744826283, 21.834968429307697, 20.785411714880247, 20.2095786864992, 21.817373602403855, 111.3118697635319, 16.601506196539177, 16.308371929349224, 14.565132588938333, 13.555519975603817, 13.58653111091797, 12.501916923061263, 11.679340893979932, 12.082501838416412, 653.4465735028301, 297.434229778108, 102.54909836099323, 493.3456851849727, 315.31308803716126, 90.21885407636209, 982.0217882827659, 369.94985285496483, 85.22405970219548, 1029.6952907650495, 79.9016630039951, 52.91188641097963, 106.42198344889621, 604.0760260248369, 165.87050248989155, 120.42755738135244, 133.55555071317, 72.52797789590159, 141.34389915618186, 526.4369188364007, 164.481777668318, 173.53006947849337, 196.8096993074778, 1184.4893257181861, 461.13117970562047, 172.80416721087872, 1303.287309443119, 778.662286863487, 181.05319394585388, 297.77962519961324, 180.34008889691793, 289.81442480538396, 283.22279974282526, 313.3314182233179, 142.05624888866964, 144.836870860899, 152.52166541886913, 139.90352147978962, 357.27031993689025, 351.84722873253537, 120.8808897354301, 106.49235322471044, 85.07875634246584, 79.55496512060661, 71.4432101332224, 71.2083963047274, 57.498167306748535, 55.73833943790847, 54.25242629041516, 40.83476186382846, 34.140264142924146, 33.627022187610876, 32.679311274281034, 38.37000468646403, 29.091099721852007, 28.282920790792467, 25.086166380357522, 21.937450031022138, 23.170781333930908, 20.612662331791807, 19.328693329620428, 18.00634266087334, 17.431126332415612, 17.294924680510565, 16.718233417008445, 16.792610795165782, 16.078959043919518, 16.96066166281741, 347.3113250292011, 43.65256116118978, 59.24036683532657, 70.78697557065833, 48.03312449717725, 41.83322305096847, 257.2377444167121, 151.04607363910102, 107.10886148026964, 148.61202846608145, 195.40933459673445, 77.3935838406276, 172.44132503952142, 787.2118965603179, 1133.718488690443, 372.68285954876245, 102.60981551769135, 106.56045665655527, 635.1155107313573, 78.68064447342913, 120.30532525976048, 100.81841257297513, 243.17890123094026, 215.26141409923142, 112.93800490823807, 102.26256890217985, 111.8308800967109, 113.16183646420463, 105.90119508949022, 93.76508348173009, 91.33076312648316, 100.72224889279458, 93.73307061594677, 76.77943895390753, 52.54462397304929, 52.67615567618068, 33.03321686430298, 32.20200605355651, 30.86996762289173, 30.88352091017778, 30.470922614453006, 30.6970572600173, 28.865433524853735, 28.152417184808172, 22.164168097015317, 21.75339588031023, 21.791064213398936, 20.086852596957158, 20.101178695841984, 19.398541298665997, 18.892306075006786, 18.64118593186595, 17.97719326952981, 17.114899643888503, 17.15960741811283, 16.855007465866407, 16.428729158372985, 15.802715407980433, 15.108581015841512, 14.044483845294135, 14.566191920533132, 13.764691768603567, 13.596448398354541, 147.0567901274073, 319.3088338569081, 410.00995855502475, 155.28705083871995, 167.32271896042482, 92.90949616513385, 333.71623584584876, 50.21030083503597, 659.4950151684973, 35.15217070542098, 49.35899069036974, 115.23186835269097, 33.0607597034873, 56.12438701620332, 577.4781987704793, 138.60916161178528, 126.137627748371, 176.3535792488604, 107.1603414818064, 277.37758889133545, 304.2647680674106, 277.31651184562577, 95.94986164174894, 108.65807528963983, 684.2476554695457, 164.562385506037, 124.96335298873475, 83.8521608470886, 113.0739540042519, 562.228116366392, 143.36313293615845, 128.66453886072006, 314.6734932678481, 129.9228672689758, 156.23039619695865, 178.48638968504247, 169.4928071689951, 167.93860825563826, 134.19613315930633, 113.99761344122717, 292.533547925805, 161.9012968521902, 96.40592409808733, 60.29765232550064, 57.03684322897034, 50.451411622804365, 49.87721332475588, 45.041284506712664, 42.63355032065148, 42.96298635169185, 40.10269028002909, 33.39792375553255, 32.98733353257934, 31.703767004111935, 31.173901032446402, 27.087620672521492, 24.97898278566551, 25.614029894912406, 23.714124058220072, 23.280753532244695, 22.881379012445347, 20.08391495435784, 19.858062481206368, 20.194762092968542, 18.423764410771575, 18.218249963641153, 18.17446852680732, 17.617060118017175, 17.343629150806233, 17.0462752948416, 153.39629673309145, 242.4325510242044, 706.7977226534091, 45.00622752807165, 69.78262374254375, 36.63181679675892, 219.6949480630858, 32.61933931376351, 252.77567777755857, 1329.7782288295268, 58.94236201806876, 151.04599788335574, 147.96841057020126, 71.52624221414918, 146.68732712536826, 132.99346161708652, 534.8675917372991, 211.05574308849344, 221.38013143585067, 555.3054797512817, 231.46758014779738, 155.98905227505557, 122.44852157823941, 89.39669112144745, 89.80076656539933, 169.98099391671076, 131.18483001735765, 174.3568687512843, 132.36668805273484, 140.4126543541956, 85.33341142036436, 119.39999674929878, 88.38651475355772, 100.2512310869031, 27.271041150090507, 24.058846008539767, 22.184149209424984, 17.756552471331588, 17.037508050791416, 16.358855694274865, 15.234166934751475, 14.230204299857121, 14.030355638322428, 12.443470587341933, 12.19546726189838, 12.233928034630958, 10.396779111528362, 9.960503812037887, 13.71664161558204, 9.106707157518828, 8.973962785851338, 8.952796854248428, 8.450674731202719, 8.089666192348732, 7.838446884050488, 7.790161198617917, 7.7845766188670735, 7.62827729976176, 7.509151509458034, 7.528819201429433, 7.289407995258239, 7.309235635583257, 7.466560155572142, 7.12560088760763, 32.63762831073324, 19.916178545059047, 27.596607515991927, 33.460892696282386, 21.851708467474385, 27.178776473725485, 11.143781313176468, 21.131539303724185, 12.937784167890195, 18.757347618350806, 53.50845520121404, 28.41900920137846, 46.648392828104626, 19.19835075295332, 25.54316162539439, 17.614542155412657, 24.59884015825048, 27.589377510092678, 18.12617780234227, 17.856852000098648, 17.983442614097363, 15.904425405859458, 18.476194145830487, 18.42726526382698, 17.498171220263295, 16.24426801311054], \"Total\": [876.0, 1177.0, 698.0, 401.0, 1439.0, 357.0, 352.0, 494.0, 1055.0, 293.0, 4329.0, 564.0, 465.0, 359.0, 871.0, 492.0, 945.0, 427.0, 384.0, 1185.0, 283.0, 318.0, 356.0, 398.0, 819.0, 318.0, 162.0, 2415.0, 207.0, 746.0, 144.0684090145435, 90.2239830445141, 78.54595969855696, 67.04506214711823, 42.927210395316884, 42.638557050314695, 39.63731144108591, 38.806014155430894, 33.25191857043852, 30.737968470941553, 30.6290452528381, 29.13965371627882, 27.709779233099262, 27.457375515424573, 26.924692967102146, 24.600787051452137, 25.432469158611525, 22.533066663307334, 21.488677763822402, 20.907854557353577, 22.572453780751935, 116.09983269260339, 17.340964173773017, 17.120336587610925, 15.298589215146734, 14.249784055958292, 14.295065226395174, 13.203915620555312, 12.37894406087031, 12.821899682858641, 698.2370096996366, 318.0492300165213, 108.86101940225115, 564.5909904664776, 356.8325886189433, 99.33704708382534, 1177.8688038862576, 427.8434652306219, 94.26852638466882, 1439.759820937442, 91.53790752517867, 58.855583355208815, 126.42117715019477, 871.9129346938561, 207.9003399862312, 146.08853255653386, 171.37558376163997, 85.25854733053562, 188.40484814549606, 906.6129517821594, 235.59807796099471, 258.8466367790114, 303.2431451548429, 3059.32836774091, 945.3628147820979, 266.3098146292078, 4329.183677476691, 2415.585430532484, 294.52505808187135, 645.0378120010897, 304.66894334974165, 746.7364249844054, 819.3006605991319, 1185.254502685316, 262.8936629855294, 331.76219401793065, 602.9626979377286, 696.376593350591, 357.9775824111124, 352.5544853780029, 121.58881773612495, 107.1948574540483, 85.78854543605232, 80.26131001294675, 72.14587361724571, 71.91149084551711, 58.202220413395466, 56.446450047166124, 54.96260333829906, 41.537898132368795, 34.843085005283555, 34.34652245234396, 33.382704894075424, 39.236556831129555, 29.80011808504548, 28.99374574754919, 25.800137028384743, 22.64685953989489, 23.921417752637442, 21.31834694133093, 20.03253732652093, 18.71829031619896, 18.15034209782809, 18.021540185537955, 17.433417923975437, 17.52024856109913, 16.785246140804468, 17.724448666843298, 401.35804661346896, 47.26725287109331, 67.25279839965995, 81.98578288296848, 57.485134981551894, 49.23392138766782, 398.6017978871559, 221.61468883855036, 149.67031528810688, 221.13608255901326, 318.38398434034286, 108.65362517546843, 309.12903216105565, 2415.585430532484, 4329.183677476691, 945.3628147820979, 169.3754780397405, 194.7475313517973, 3059.32836774091, 128.37057085673288, 262.8936629855294, 195.6998554503827, 1439.759820937442, 1185.254502685316, 294.52505808187135, 237.21595185596246, 316.1833853983764, 361.5659666415979, 303.2431451548429, 202.35673612598563, 218.27172478111785, 645.0378120010897, 1055.8504660488195, 77.48062898681079, 53.243773322873686, 53.38108610710712, 33.7428347559897, 32.91048598182821, 31.5694003150484, 31.5918335743808, 31.170400210655053, 31.40800888977797, 29.56719953307911, 28.855212418113425, 22.86835922661334, 22.462553565138954, 22.50656405849297, 20.791574821382593, 20.813068402388218, 20.096676553378916, 19.599148779708436, 19.36125094019182, 18.682945210796913, 17.818503618748558, 17.87209693645479, 17.56267907221079, 17.15326491255594, 16.52892635663565, 15.822339167266792, 14.76359693410226, 15.317815614043408, 14.476566219319473, 14.30199544497523, 160.31144448083077, 359.3995266959532, 494.2093477288938, 179.80917028886495, 200.58362591770208, 112.39744527204925, 465.42385245459235, 58.34360478208513, 1055.8504660488195, 39.931477706577105, 58.80256970734756, 157.33331974850392, 37.42418286404366, 69.77918251351451, 1185.254502685316, 231.14263064509984, 211.14126167313853, 347.46440440876376, 182.95566778197627, 696.376593350591, 819.3006605991319, 746.7364249844054, 167.3883664749807, 201.6521452406923, 3059.32836774091, 384.77939995755276, 258.47803741898593, 151.13119870818733, 262.37131595310996, 4329.183677476691, 426.7390665608705, 361.5659666415979, 2415.585430532484, 380.0890233539684, 602.9626979377286, 871.9129346938561, 876.8126110017325, 906.6129517821594, 492.7368225226841, 645.0378120010897, 293.22588629352515, 162.59830866552497, 97.09537241315793, 60.9886194826806, 57.726305190836435, 51.14497499112666, 50.588947401501514, 45.73640423787954, 43.32480233571824, 43.66199355690559, 40.791927033249166, 34.09817952785458, 33.68680277553799, 32.39331822178597, 31.886788884101712, 27.77628378153368, 25.66981969045562, 26.3256536798422, 24.41018931537104, 23.9868891017582, 23.577734208265326, 20.778192262443056, 20.550286211580353, 20.94483069773591, 19.12271698696798, 18.914828740814457, 18.873586703003667, 18.315078554261103, 18.040737997361248, 17.744635228966185, 173.38209603032797, 283.96900732916686, 876.8126110017325, 49.666605098969264, 89.01154917521502, 42.543495683335294, 384.77939995755276, 37.75626383025304, 492.7368225226841, 4329.183677476691, 81.43009561922022, 281.0930640693546, 281.4222055817979, 106.87837991489562, 293.24705781547783, 258.47803741898593, 2415.585430532484, 602.9626979377286, 696.376593350591, 3059.32836774091, 819.3006605991319, 426.7390665608705, 318.38398434034286, 182.72389801255906, 191.4339817768307, 746.7364249844054, 465.42385245459235, 1055.8504660488195, 645.0378120010897, 906.6129517821594, 244.46808902372436, 1439.759820937442, 316.1833853983764, 1177.8688038862576, 27.979321411833592, 24.767874632990537, 22.903017666167514, 18.470355326048825, 17.764168749798237, 17.07761600615717, 15.95094413025604, 14.931812798916042, 14.73926244221821, 13.152030524481626, 12.906148336827483, 12.955290545336087, 11.110165501296677, 10.672607757358538, 14.75656776844666, 9.81570937499892, 9.677249434068953, 9.671619362599007, 9.153891739422829, 8.796305717087165, 8.549280401373775, 8.500778592413223, 8.50801819121917, 8.338953054616006, 8.217797733784986, 8.25193585039967, 7.991105059359281, 8.013509526417172, 8.186890157195883, 7.83779072065617, 58.266801987449554, 30.672020937309874, 54.83894347070725, 72.89736701649329, 39.671644842283385, 56.96082997193404, 14.902834276832962, 44.0750529397145, 20.583367400550614, 41.22700249697191, 401.35804661346896, 149.77993796911247, 492.7368225226841, 60.56599367192487, 124.19438380117005, 51.49807391900452, 178.49022880904633, 262.37131595310996, 78.64969465938557, 76.8892770464297, 106.56362154162329, 59.54733612713525, 188.40484814549606, 207.9003399862312, 146.8006087870627, 281.0930640693546], \"Category\": [\"Default\", \"Default\", \"Default\", \"Default\", \"Default\", \"Default\", \"Default\", \"Default\", \"Default\", \"Default\", \"Default\", \"Default\", \"Default\", \"Default\", \"Default\", \"Default\", \"Default\", \"Default\", \"Default\", \"Default\", \"Default\", \"Default\", \"Default\", \"Default\", \"Default\", \"Default\", \"Default\", \"Default\", \"Default\", \"Default\", \"Topic1\", \"Topic1\", \"Topic1\", \"Topic1\", \"Topic1\", \"Topic1\", \"Topic1\", \"Topic1\", \"Topic1\", \"Topic1\", \"Topic1\", \"Topic1\", \"Topic1\", \"Topic1\", \"Topic1\", \"Topic1\", \"Topic1\", \"Topic1\", \"Topic1\", \"Topic1\", \"Topic1\", \"Topic1\", \"Topic1\", \"Topic1\", \"Topic1\", \"Topic1\", \"Topic1\", \"Topic1\", \"Topic1\", \"Topic1\", \"Topic1\", \"Topic1\", \"Topic1\", \"Topic1\", \"Topic1\", \"Topic1\", \"Topic1\", \"Topic1\", \"Topic1\", \"Topic1\", \"Topic1\", \"Topic1\", \"Topic1\", \"Topic1\", \"Topic1\", \"Topic1\", \"Topic1\", \"Topic1\", \"Topic1\", \"Topic1\", \"Topic1\", \"Topic1\", \"Topic1\", \"Topic1\", \"Topic1\", \"Topic1\", \"Topic1\", \"Topic1\", \"Topic1\", \"Topic1\", \"Topic1\", \"Topic1\", \"Topic1\", \"Topic1\", \"Topic1\", \"Topic1\", \"Topic1\", \"Topic1\", \"Topic2\", \"Topic2\", \"Topic2\", \"Topic2\", \"Topic2\", \"Topic2\", \"Topic2\", \"Topic2\", \"Topic2\", \"Topic2\", \"Topic2\", \"Topic2\", \"Topic2\", \"Topic2\", \"Topic2\", \"Topic2\", \"Topic2\", \"Topic2\", \"Topic2\", \"Topic2\", \"Topic2\", \"Topic2\", \"Topic2\", \"Topic2\", \"Topic2\", \"Topic2\", \"Topic2\", \"Topic2\", \"Topic2\", \"Topic2\", \"Topic2\", \"Topic2\", \"Topic2\", \"Topic2\", \"Topic2\", \"Topic2\", \"Topic2\", \"Topic2\", \"Topic2\", \"Topic2\", \"Topic2\", \"Topic2\", \"Topic2\", \"Topic2\", \"Topic2\", \"Topic2\", \"Topic2\", \"Topic2\", \"Topic2\", \"Topic2\", \"Topic2\", \"Topic2\", \"Topic2\", \"Topic2\", \"Topic2\", \"Topic2\", \"Topic2\", \"Topic2\", \"Topic2\", \"Topic2\", \"Topic2\", \"Topic2\", \"Topic2\", \"Topic3\", \"Topic3\", \"Topic3\", \"Topic3\", \"Topic3\", \"Topic3\", \"Topic3\", \"Topic3\", \"Topic3\", \"Topic3\", \"Topic3\", \"Topic3\", \"Topic3\", \"Topic3\", \"Topic3\", \"Topic3\", \"Topic3\", \"Topic3\", \"Topic3\", \"Topic3\", \"Topic3\", \"Topic3\", \"Topic3\", \"Topic3\", \"Topic3\", \"Topic3\", \"Topic3\", \"Topic3\", \"Topic3\", \"Topic3\", \"Topic3\", \"Topic3\", \"Topic3\", \"Topic3\", \"Topic3\", \"Topic3\", \"Topic3\", \"Topic3\", \"Topic3\", \"Topic3\", \"Topic3\", \"Topic3\", \"Topic3\", \"Topic3\", \"Topic3\", \"Topic3\", \"Topic3\", \"Topic3\", \"Topic3\", \"Topic3\", \"Topic3\", \"Topic3\", \"Topic3\", \"Topic3\", \"Topic3\", \"Topic3\", \"Topic3\", \"Topic3\", \"Topic3\", \"Topic3\", \"Topic3\", \"Topic3\", \"Topic3\", \"Topic3\", \"Topic3\", \"Topic3\", \"Topic3\", \"Topic3\", \"Topic3\", \"Topic3\", \"Topic4\", \"Topic4\", \"Topic4\", \"Topic4\", \"Topic4\", \"Topic4\", \"Topic4\", \"Topic4\", \"Topic4\", \"Topic4\", \"Topic4\", \"Topic4\", \"Topic4\", \"Topic4\", \"Topic4\", \"Topic4\", \"Topic4\", \"Topic4\", \"Topic4\", \"Topic4\", \"Topic4\", \"Topic4\", \"Topic4\", \"Topic4\", \"Topic4\", \"Topic4\", \"Topic4\", \"Topic4\", \"Topic4\", \"Topic4\", \"Topic4\", \"Topic4\", \"Topic4\", \"Topic4\", \"Topic4\", \"Topic4\", \"Topic4\", \"Topic4\", \"Topic4\", \"Topic4\", \"Topic4\", \"Topic4\", \"Topic4\", \"Topic4\", \"Topic4\", \"Topic4\", \"Topic4\", \"Topic4\", \"Topic4\", \"Topic4\", \"Topic4\", \"Topic4\", \"Topic4\", \"Topic4\", \"Topic4\", \"Topic4\", \"Topic4\", \"Topic4\", \"Topic4\", \"Topic4\", \"Topic4\", \"Topic4\", \"Topic4\", \"Topic4\", \"Topic5\", \"Topic5\", \"Topic5\", \"Topic5\", \"Topic5\", \"Topic5\", \"Topic5\", \"Topic5\", \"Topic5\", \"Topic5\", \"Topic5\", \"Topic5\", \"Topic5\", \"Topic5\", \"Topic5\", \"Topic5\", \"Topic5\", \"Topic5\", \"Topic5\", \"Topic5\", \"Topic5\", \"Topic5\", \"Topic5\", \"Topic5\", \"Topic5\", \"Topic5\", \"Topic5\", \"Topic5\", \"Topic5\", \"Topic5\", \"Topic5\", \"Topic5\", \"Topic5\", \"Topic5\", \"Topic5\", \"Topic5\", \"Topic5\", \"Topic5\", \"Topic5\", \"Topic5\", \"Topic5\", \"Topic5\", \"Topic5\", \"Topic5\", \"Topic5\", \"Topic5\", \"Topic5\", \"Topic5\", \"Topic5\", \"Topic5\", \"Topic5\", \"Topic5\", \"Topic5\", \"Topic5\", \"Topic5\", \"Topic5\"], \"logprob\": [30.0, 29.0, 28.0, 27.0, 26.0, 25.0, 24.0, 23.0, 22.0, 21.0, 20.0, 19.0, 18.0, 17.0, 16.0, 15.0, 14.0, 13.0, 12.0, 11.0, 10.0, 9.0, 8.0, 7.0, 6.0, 5.0, 4.0, 3.0, 2.0, 1.0, -5.0853, -5.5563, -5.696, -5.8559, -6.3077, -6.3144, -6.3888, -6.4103, -6.5678, -6.6483, -6.652, -6.7035, -6.755, -6.7658, -6.7858, -6.8771, -6.8443, -6.9672, -7.0164, -7.0445, -6.968, -5.3384, -7.2412, -7.259, -7.3721, -7.4439, -7.4416, -7.5248, -7.5929, -7.5589, -3.5684, -4.3555, -5.4204, -3.8495, -4.2971, -5.5485, -3.1611, -4.1373, -5.6054, -3.1137, -5.6699, -6.0821, -5.3833, -3.647, -4.9395, -5.2596, -5.1562, -5.7667, -5.0995, -3.7846, -4.9479, -4.8943, -4.7685, -2.9736, -3.917, -4.8985, -2.878, -3.3931, -4.8519, -4.3543, -4.8558, -4.3815, -4.4045, -4.3034, -5.0945, -5.0751, -5.0234, -5.1097, -3.9145, -3.9298, -4.9982, -5.1249, -5.3494, -5.4165, -5.5241, -5.5274, -5.7412, -5.7723, -5.7993, -6.0834, -6.2625, -6.2776, -6.3062, -6.1457, -6.4225, -6.4507, -6.5707, -6.7048, -6.6501, -6.7671, -6.8314, -6.9023, -6.9347, -6.9426, -6.9765, -6.972, -7.0155, -6.9621, -3.9428, -6.0167, -5.7114, -5.5333, -5.9211, -6.0593, -4.243, -4.7754, -5.1191, -4.7916, -4.5179, -5.4441, -4.6429, -3.1245, -2.7597, -3.8723, -5.162, -5.1243, -3.3392, -5.4276, -5.0029, -5.1797, -4.2992, -4.4211, -5.0661, -5.1654, -5.076, -5.0642, -5.1305, -5.2522, -5.2785, -5.1806, -5.2525, -5.4486, -5.8278, -5.8253, -6.292, -6.3175, -6.3597, -6.3593, -6.3727, -6.3653, -6.4268, -6.4519, -6.691, -6.7097, -6.708, -6.7894, -6.7887, -6.8243, -6.8507, -6.8641, -6.9004, -6.9495, -6.9469, -6.9648, -6.9905, -7.0293, -7.0742, -7.1473, -7.1108, -7.1674, -7.1797, -4.7987, -4.0233, -3.7733, -4.7442, -4.6696, -5.2579, -3.9792, -5.8733, -3.298, -6.2298, -5.8904, -5.0425, -6.2911, -5.7619, -3.4308, -4.8578, -4.9521, -4.617, -5.1152, -4.1641, -4.0716, -4.1643, -5.2257, -5.1013, -3.2612, -4.6862, -4.9615, -5.3604, -5.0614, -3.4576, -4.8241, -4.9323, -4.038, -4.9225, -4.7382, -4.605, -4.6567, -4.6659, -4.8902, -5.0533, -4.0929, -4.6845, -5.2029, -5.6722, -5.7278, -5.8504, -5.8619, -5.9639, -6.0188, -6.0111, -6.08, -6.263, -6.2753, -6.315, -6.3319, -6.4724, -6.5534, -6.5283, -6.6054, -6.6238, -6.6411, -6.7715, -6.7828, -6.766, -6.8578, -6.869, -6.8714, -6.9026, -6.9182, -6.9355, -4.7384, -4.2807, -3.2107, -5.9647, -5.5261, -6.1705, -4.3792, -6.2866, -4.239, -2.5787, -5.6949, -4.7539, -4.7745, -5.5014, -4.7832, -4.8812, -3.4894, -4.4193, -4.3716, -3.4519, -4.327, -4.7217, -4.9638, -5.2784, -5.2739, -4.6358, -4.8949, -4.6104, -4.8859, -4.8269, -5.3249, -4.989, -5.2897, -5.1638, -4.8978, -5.0231, -5.1042, -5.3269, -5.3682, -5.4088, -5.4801, -5.5482, -5.5624, -5.6824, -5.7025, -5.6994, -5.8621, -5.905, -5.585, -5.9946, -6.0093, -6.0116, -6.0694, -6.113, -6.1446, -6.1507, -6.1515, -6.1717, -6.1875, -6.1849, -6.2172, -6.2145, -6.1932, -6.2399, -4.7181, -5.2121, -4.8859, -4.6932, -5.1193, -4.9012, -5.7927, -5.1528, -5.6435, -5.272, -4.2238, -4.8565, -4.361, -5.2488, -4.9632, -5.3349, -5.0009, -4.8862, -5.3063, -5.3212, -5.3142, -5.437, -5.2871, -5.2898, -5.3415, -5.4159], \"loglift\": [30.0, 29.0, 28.0, 27.0, 26.0, 25.0, 24.0, 23.0, 22.0, 21.0, 20.0, 19.0, 18.0, 17.0, 16.0, 15.0, 14.0, 13.0, 12.0, 11.0, 10.0, 9.0, 8.0, 7.0, 6.0, 5.0, 4.0, 3.0, 2.0, 1.0, 1.2355, 1.2325, 1.2314, 1.2299, 1.2239, 1.2239, 1.2225, 1.2222, 1.2191, 1.2173, 1.2171, 1.2155, 1.2144, 1.2127, 1.2123, 1.2112, 1.2108, 1.2089, 1.2071, 1.2064, 1.2064, 1.1983, 1.1968, 1.1918, 1.1913, 1.1905, 1.1896, 1.1858, 1.1822, 1.181, 1.1741, 1.1734, 1.1807, 1.1055, 1.1167, 1.1441, 1.0586, 1.095, 1.1395, 0.9052, 1.1044, 1.1339, 1.0682, 0.8734, 1.0145, 1.0472, 0.9911, 1.0787, 0.953, 0.6968, 0.8811, 0.8405, 0.8081, 0.2915, 0.5225, 0.8079, 0.0399, 0.1083, 0.7538, 0.4674, 0.716, 0.2939, 0.1782, -0.0901, 0.6249, 0.4116, -0.1341, -0.3645, 1.4961, 1.4961, 1.4923, 1.4915, 1.4898, 1.4893, 1.4883, 1.4883, 1.4859, 1.4855, 1.4851, 1.481, 1.4777, 1.4769, 1.4768, 1.4758, 1.474, 1.4733, 1.4701, 1.4663, 1.4662, 1.4645, 1.4623, 1.4593, 1.4577, 1.457, 1.4562, 1.4557, 1.4551, 1.4541, 1.3535, 1.4186, 1.3713, 1.3512, 1.3185, 1.3352, 1.0602, 1.1148, 1.1635, 1.1007, 1.01, 1.1589, 0.9144, 0.3769, 0.1582, 0.5673, 0.9969, 0.8951, -0.074, 1.0086, 0.7164, 0.8349, -0.2803, -0.2077, 0.5396, 0.6567, 0.4588, 0.3365, 0.4461, 0.7289, 0.6269, -0.3588, -0.9235, 1.4925, 1.4884, 1.4883, 1.4804, 1.4798, 1.4792, 1.4789, 1.4789, 1.4787, 1.4776, 1.4769, 1.4703, 1.4695, 1.4693, 1.4671, 1.4668, 1.4662, 1.4649, 1.4637, 1.4631, 1.4613, 1.4609, 1.4605, 1.4584, 1.4567, 1.4554, 1.4517, 1.4513, 1.4512, 1.451, 1.4153, 1.3833, 1.3148, 1.355, 1.3203, 1.3112, 1.1689, 1.3515, 1.031, 1.3741, 1.3265, 1.1902, 1.3776, 1.2838, 0.7826, 0.9902, 0.9865, 0.8234, 0.9667, 0.5811, 0.5111, 0.5111, 0.9451, 0.8833, 0.004, 0.6522, 0.7748, 0.9125, 0.6599, -0.5396, 0.4108, 0.4684, -0.5366, 0.4281, 0.1511, -0.0846, -0.1419, -0.1845, 0.2009, -0.2315, 1.5173, 1.5153, 1.5125, 1.5082, 1.5076, 1.506, 1.5055, 1.5043, 1.5036, 1.5035, 1.5026, 1.4989, 1.4987, 1.4981, 1.497, 1.4945, 1.4924, 1.4922, 1.4907, 1.4898, 1.4897, 1.4857, 1.4854, 1.4832, 1.4824, 1.4821, 1.4819, 1.4808, 1.4802, 1.4795, 1.3972, 1.3615, 1.3041, 1.4211, 1.2763, 1.37, 0.9592, 1.3734, 0.8522, 0.3393, 1.1964, 0.8985, 0.8768, 1.118, 0.8269, 0.8551, 0.012, 0.4699, 0.3736, -0.1868, 0.2556, 0.5132, 0.5641, 0.8047, 0.7627, 0.0396, 0.2533, -0.2814, -0.0641, -0.3455, 0.4671, -0.9701, 0.245, -0.9441, 3.0618, 3.0584, 3.0556, 3.0481, 3.0457, 3.0445, 3.0415, 3.0394, 3.0382, 3.0321, 3.0308, 3.0302, 3.0211, 3.0184, 3.0144, 3.0125, 3.012, 3.0103, 3.0076, 3.0037, 3.0007, 3.0002, 2.9986, 2.9984, 2.9973, 2.9958, 2.9956, 2.9955, 2.9954, 2.9922, 2.5079, 2.6557, 2.4008, 2.3088, 2.4911, 2.3476, 2.7968, 2.3524, 2.6232, 2.3, 1.0725, 1.4254, 0.7301, 1.9386, 1.506, 2.0147, 1.1057, 0.8352, 1.6198, 1.6275, 1.3082, 1.7673, 0.7654, 0.6643, 0.9605, 0.2365]}, \"token.table\": {\"Topic\": [3, 1, 1, 2, 3, 4, 3, 4, 5, 5, 3, 2, 2, 3, 4, 3, 5, 2, 3, 4, 4, 1, 2, 2, 1, 2, 3, 4, 1, 2, 4, 5, 5, 1, 2, 3, 4, 2, 1, 2, 1, 2, 3, 3, 4, 1, 4, 1, 2, 5, 4, 5, 4, 4, 1, 1, 2, 1, 3, 2, 5, 4, 2, 4, 2, 1, 5, 1, 2, 3, 4, 1, 2, 5, 3, 4, 4, 3, 1, 1, 3, 1, 2, 3, 4, 1, 5, 1, 5, 3, 4, 5, 3, 1, 2, 3, 4, 3, 1, 2, 1, 2, 3, 2, 4, 5, 1, 2, 5, 1, 2, 5, 2, 2, 3, 4, 3, 1, 3, 3, 2, 4, 1, 2, 4, 1, 2, 3, 5, 1, 2, 2, 1, 3, 1, 2, 3, 1, 2, 4, 3, 4, 4, 5, 2, 1, 1, 2, 3, 4, 2, 3, 4, 5, 1, 2, 3, 4, 4, 1, 2, 3, 4, 1, 1, 2, 3, 4, 1, 2, 3, 1, 4, 1, 2, 1, 2, 4, 3, 4, 1, 3, 4, 1, 3, 5, 5, 4, 4, 3, 1, 2, 1, 2, 3, 4, 1, 2, 1, 4, 1, 3, 2, 3, 4, 5, 1, 1, 3, 4, 1, 2, 3, 5, 1, 2, 3, 4, 2, 3, 4, 5, 5, 4, 3, 1, 2, 5, 1, 2, 3, 4, 1, 2, 4, 1, 5, 1, 2, 3, 4, 5, 2, 3, 4, 1, 2, 5, 1, 3, 5, 5, 1, 3, 4, 3, 4, 2, 3, 4, 2, 3, 4, 5, 2, 1, 2, 3, 4, 5, 2, 3, 4, 1, 2, 3, 1, 2, 3, 4, 1, 2, 4, 5, 2, 2, 4, 3, 5, 3, 1, 2, 3, 5, 5, 2, 3, 2, 5, 2, 3, 1, 3, 3, 4, 3, 1, 2, 3, 4, 1, 2, 3, 5, 1, 2, 3, 4, 5, 3, 4, 5, 4, 1, 3, 1, 2, 4, 2, 1, 2, 3, 4, 1, 3, 4, 1, 2, 3, 1, 2, 3, 4, 1, 2, 1, 3, 4, 2, 5, 5, 5, 3, 2, 1, 2, 4, 1, 1, 3, 4, 3, 4, 5, 3, 4, 1, 2, 3, 4, 4, 4, 1, 2, 3, 5, 4, 1, 2, 3, 4, 4, 1, 1, 4, 2, 2, 4, 3, 3, 2, 2, 4, 1, 2, 3, 4, 3, 1, 1, 3, 1, 2, 3, 4, 3, 5, 2, 1, 2, 3, 5, 1, 2, 5, 2, 1, 2, 3, 4, 3, 1, 2, 1, 2, 4, 3, 5, 5, 1, 2, 3, 4, 5, 2, 3, 2, 1, 2, 3, 4, 2, 3, 4, 1, 2, 3, 4, 3, 2, 4, 2, 3, 2, 3, 1, 2, 5, 1, 4, 2, 5, 3, 5, 4, 4, 1, 2, 3, 4, 3, 4, 1, 3, 5, 5, 5, 1, 3, 5, 5, 4, 2, 3, 4, 4, 5, 1, 2, 3, 4, 4, 5, 4, 1, 1, 2, 3, 5, 1, 2, 3, 4, 3], \"Freq\": [0.9634455272928683, 0.9772588258247735, 0.38701304916617935, 0.20756189714571274, 0.22357848448451578, 0.18141236679664657, 0.8875915973864633, 0.11129675202338098, 0.9605721097835305, 0.8759739670549711, 0.9540644020249078, 0.9850669968826835, 0.9908082666276221, 0.856991956303545, 0.1371187130085672, 0.06776643564354154, 0.9487300990095816, 0.07577865109458862, 0.5967568773698854, 0.3220592671520016, 0.9739063344217932, 0.6496437038977658, 0.34955448026986385, 0.988535833291827, 0.30098053052797863, 0.26194314782711264, 0.12981662176264314, 0.3072172721429099, 0.17076195088241974, 0.2312401418199434, 0.5371886371509454, 0.05692065029413992, 0.9734968247162404, 0.2080167083891624, 0.6737932510866347, 0.05426522827543367, 0.06783153534429208, 0.9873248234072187, 0.9560737291835194, 0.03445310735796466, 0.059741308255700586, 0.3644219803597736, 0.5735165592547257, 0.8274209415961435, 0.1690429880680293, 0.9829953923893745, 0.9887185930087695, 0.433970002133425, 0.37388184799187385, 0.18694092399593693, 0.9837900990206649, 0.8931088172017393, 0.9805861823442743, 0.9580360362803824, 0.9759916315992321, 0.31586353940192136, 0.6813627778527162, 0.9804825653563461, 0.9813415496081452, 0.5336308406514851, 0.46086299874446446, 0.9754966188369874, 0.21345544680499154, 0.7864148040183899, 0.9888534069410885, 0.32603003305321365, 0.6520600661064273, 0.7153970995866218, 0.16877815067917387, 0.0326443336704575, 0.08265267461243495, 0.9833423440209121, 0.8660038058226478, 0.13416960371900177, 0.970361943425633, 0.9827967675198533, 0.9876297970108314, 0.9819635371794826, 0.9746392755385734, 0.9975174777597261, 0.9774926080597445, 0.2045256712222582, 0.03681462082000648, 0.4090513424445164, 0.34769364107783896, 0.9656563226837171, 0.959353044393459, 0.20130398985001244, 0.7381146294500456, 0.13242835738407038, 0.8740271587348646, 0.9498440003279462, 0.9808165960240997, 0.20104064573221084, 0.0832882675176302, 0.39777327762730286, 0.3173570193344185, 0.9327670319070414, 0.8827669053971532, 0.11489981943264534, 0.9924239387900319, 0.989910988723101, 0.995421561852962, 0.4664091638907531, 0.06858958292511075, 0.45269124730573096, 0.9352125294545811, 0.06301585190811879, 0.855025518309579, 0.3405980425634748, 0.5381449072502902, 0.11580333447158143, 0.9484569872657138, 0.7149046208263212, 0.22048460268475328, 0.06013216436856908, 0.9620279173504159, 0.8739548692217481, 0.12016879451799037, 0.9454299545267584, 0.27017038151195866, 0.7245478413275255, 0.6961007552326111, 0.24618197441153317, 0.05517871840258502, 0.7483883848419465, 0.047769471372890206, 0.10084666178721265, 0.09553894274578041, 0.9060063958218297, 0.09060063958218298, 0.9920907329549852, 0.9358987589056383, 0.9788843839213128, 0.672212713153972, 0.22020761292974947, 0.10430886928251291, 0.1656640537389451, 0.7086740076610429, 0.11044270249263007, 0.8296079422295991, 0.16996845645679592, 0.869698161979982, 0.1175267786459435, 0.970305868704725, 0.9839214261029493, 0.26274596827352587, 0.3125294148937729, 0.3567813674451035, 0.06914367586145417, 0.9841172674223214, 0.09709100980871505, 0.5437096549288042, 0.34952763531137415, 0.08856063565754516, 0.6081163648484768, 0.30110616123565354, 0.983195979757816, 0.9625476435767873, 0.5801814312998995, 0.07941646968363643, 0.18530509592848501, 0.1544209132737375, 0.9824710286852488, 0.833709150594694, 0.06452331511730829, 0.01613082877932707, 0.08489909883856354, 0.692729716427564, 0.10207441185770395, 0.2041488237154079, 0.9792296587791124, 0.9516343101304197, 0.6145487286507421, 0.383668543301292, 0.5908052130977157, 0.2560155923423435, 0.15098355445830514, 0.48360008164785917, 0.5145504868733222, 0.9844125411529184, 0.9169651017496603, 0.08109215185541213, 0.7984594927117187, 0.11062992971306945, 0.08657994499283697, 0.8739452276398034, 0.9963203266354035, 0.98785804470252, 0.9792518971339469, 0.8648022701493352, 0.13322629567165434, 0.3025011210626612, 0.08926262588734264, 0.5405347900955749, 0.06446745202974746, 0.9693880141143745, 0.9689871015993268, 0.974385244027804, 0.9720522807284331, 0.18630198193397035, 0.8025316144847953, 0.11973937668781354, 0.2719504487485935, 0.513458683085031, 0.09538560515808875, 0.9755785434752311, 0.20223478424342656, 0.5848411328120714, 0.2131663942025307, 0.9016795240136883, 0.09547194960144935, 0.5091217949999849, 0.4740099470689515, 0.0716119716816187, 0.10230281668802671, 0.3239589195120846, 0.5012838017713309, 0.9616262861583387, 0.7176254466515244, 0.2814638727884721, 0.9368989204483432, 0.8735248865586224, 0.983898947673074, 0.979407792448993, 0.3361751018442104, 0.6447537401041945, 0.01756138591723487, 0.10945475779323267, 0.07114559256560124, 0.328364273379698, 0.48707367217988534, 0.9338176985511712, 0.06288334670378258, 0.9874181243986541, 0.7221145864223679, 0.2686937995990206, 0.3224891118126506, 0.3258009383781207, 0.130403171015385, 0.22147840156581267, 0.9649983858643764, 0.9870504248757441, 0.42881713526816173, 0.5717561803575489, 0.5401423464810416, 0.45645832096989436, 0.9375954673779673, 0.26417464702501425, 0.4127728859765848, 0.31370739334220443, 0.9569825776504788, 0.16345547397335597, 0.3091440486017819, 0.5259002206099278, 0.1927435781368638, 0.8063296434483, 0.09454467740821759, 0.8620249998984545, 0.038930161285736654, 0.5494293008865527, 0.16945015821734805, 0.28241693036224674, 0.9357512707987082, 0.9366214646738948, 0.1638898667096856, 0.06479366823406175, 0.4306873241440575, 0.2324949271928098, 0.10671898297374877, 0.14618645330032645, 0.7309322665016323, 0.11440678953938592, 0.39789210071966724, 0.5564019619819737, 0.04528853178923042, 0.26407830494705253, 0.18139564077832682, 0.4868152778097422, 0.06665235172785032, 0.16907429097232807, 0.3641600113250143, 0.23410286442322348, 0.23410286442322348, 0.9614814739592158, 0.9433156003859355, 0.9412888352772724, 0.9512034351897499, 0.916897562485237, 0.9679616606386032, 0.3081401170640018, 0.4089859735576751, 0.14006368957454626, 0.14006368957454626, 0.9094727101696443, 0.8530703794502182, 0.14217839657503636, 0.9657255134882601, 0.9689971527888899, 0.996744259308693, 0.9928610274743663, 0.9005092971406156, 0.08495370727741657, 0.32747502374071874, 0.6736629059809072, 0.9779854075283987, 0.31195203956997297, 0.42998794643428706, 0.20656283701254965, 0.05058681722756318, 0.7819083504122483, 0.15171356052774967, 0.07002164332049984, 0.9410902675597083, 0.24148837068425397, 0.6154058478727762, 0.04673968464856528, 0.07789947441427547, 0.015579894882855095, 0.6865888066554111, 0.07628764518393456, 0.2288629355518037, 0.9848382196281806, 0.97946245964752, 0.9723344716838597, 0.8731984893925999, 0.026567905356772815, 0.09918684666528518, 0.9714371196255543, 0.22100085726962096, 0.21836989468307785, 0.3420251362506039, 0.21573893209653475, 0.34541654072761263, 0.37104815682400794, 0.2819477770603481, 0.4876434663936497, 0.3945575118542979, 0.1174152381121369, 0.4370600466675333, 0.13262511760945836, 0.22907974859815536, 0.19893767641418755, 0.9565783014769312, 0.9684845732908833, 0.649619317413719, 0.07134547416682463, 0.2778718467550012, 0.8645647020855199, 0.13454321012281867, 0.9262625147623577, 0.9403832072577903, 0.9619280969246968, 0.9751386718390216, 0.29126235105703313, 0.5160964466098306, 0.18906503489667062, 0.9608899361888383, 0.9784004041544233, 0.833296916169929, 0.15305453562304816, 0.9694298570594682, 0.428517649509728, 0.5545522523067068, 0.8325704515308683, 0.16451990958394402, 0.0057559852883438435, 0.25614134533130106, 0.5065267053742583, 0.23023941153375374, 0.9423117836136485, 0.9721894579186099, 0.39534142293238345, 0.4645261719455505, 0.1383694980263342, 0.9297894063218068, 0.9992296509139066, 0.08220032776719977, 0.09085299384795764, 0.601360292612672, 0.22496931809970463, 0.9732224551076929, 0.9925840160112016, 0.9850239526266994, 0.9883581803585019, 0.9984272349353083, 0.14438195345900634, 0.852205676514135, 0.9482783946547311, 0.987009399697707, 0.9972691518711088, 0.8349984742212772, 0.15656221391648947, 0.461988420609824, 0.1565799680590343, 0.1767338253339595, 0.20463916617616365, 0.981266248032506, 0.9763429154463305, 0.9345610653226495, 0.993796785169457, 0.1832578179336415, 0.4169115357990344, 0.07330312717345659, 0.32528262683221365, 0.4923508421423602, 0.5105860585180032, 0.9532180741219185, 0.5255076656542368, 0.08445658912300234, 0.2252175709946729, 0.16891317824600469, 0.8562191391437749, 0.1407483516400726, 0.9369781244986926, 0.9731505062241012, 0.15671198875742606, 0.09925092621303651, 0.27685784680478603, 0.4701359662722782, 0.948026700820063, 0.8384671175310021, 0.15029127578385887, 0.8214197096788687, 0.07529680672056296, 0.09583229946253467, 0.42906078842948864, 0.5663602407269249, 0.9124066415191785, 0.1654191868634048, 0.13895211696526003, 0.5558084678610401, 0.13895211696526003, 0.9402894798998576, 0.9308770306579118, 0.06346888845394853, 0.9824862128095686, 0.12967158267453524, 0.3542248112084865, 0.23404139311989286, 0.27831949452095367, 0.9591271536587479, 0.8817827798641312, 0.10688276119565226, 0.12122928777878822, 0.0890277582125476, 0.624141411298605, 0.16479606307429023, 0.9670801616834054, 0.6124679933383549, 0.3831851035245092, 0.9793440799190065, 0.9609347172329995, 0.9951573035490581, 0.9624515501005672, 0.9793589450819469, 0.8772869145070151, 0.10408488816184924, 0.9845564280766937, 0.9537137950114888, 0.3400804087970925, 0.6315779020517432, 0.4991485779969776, 0.4764600062698422, 0.9925030855720612, 0.9796121116000739, 0.3883565744178828, 0.012052445412968777, 0.3709474865991501, 0.22765730224496578, 0.08053701258681384, 0.9060413916016556, 0.9930491689113962, 0.8765014973196236, 0.10017159969367126, 0.9305577135100853, 0.9694694851042173, 0.9461605317088373, 0.02755807373909235, 0.02755807373909235, 0.9300163296726979, 0.9548895519199377, 0.9758033766196159, 0.10958455593175274, 0.8824440556609563, 0.977613147893311, 0.9745345816176324, 0.2537470402784372, 0.1376536231575836, 0.2587224724407595, 0.34993872875000165, 0.9677936023840368, 0.900076600914081, 0.958857144935653, 0.9803376461449185, 0.37038711890260717, 0.23350492278642626, 0.1932454533404907, 0.2093492411188649, 0.19215489376411107, 0.1054508563339634, 0.33509938790570587, 0.36556296862440646, 0.9679999568499916], \"Term\": [\"aero\", \"affordable\", \"air\", \"air\", \"air\", \"air\", \"amazon\", \"amazon\", \"amazoncom\", \"asinb\", \"asleep\", \"average\", \"awesome\", \"back\", \"back\", \"backstore\", \"backstore\", \"bad\", \"bad\", \"bad\", \"baffle\", \"bag\", \"bag\", \"battery\", \"bed\", \"bed\", \"bed\", \"bed\", \"big\", \"big\", \"big\", \"big\", \"bike\", \"bit\", \"bit\", \"bit\", \"bit\", \"blanket\", \"blow\", \"blow\", \"box\", \"box\", \"box\", \"brand\", \"brand\", \"breeze\", \"bubble\", \"builtin\", \"builtin\", \"builtin\", \"bulge\", \"bulging\", \"bump\", \"burst\", \"button\", \"camping\", \"camping\", \"capacity\", \"carpet\", \"cat\", \"cat\", \"cause\", \"chamber\", \"chamber\", \"cold\", \"college\", \"college\", \"comfortable\", \"comfortable\", \"comfortable\", \"comfortable\", \"comforter\", \"comfy\", \"comfy\", \"condition\", \"constant\", \"construction\", \"contact\", \"convenience\", \"convenient\", \"cool\", \"couple\", \"couple\", \"couple\", \"couple\", \"cover\", \"cozy\", \"crazy\", \"crazy\", \"daily\", \"daily\", \"damage\", \"date\", \"day\", \"day\", \"day\", \"day\", \"deep\", \"deflate\", \"deflate\", \"delivery\", \"design\", \"disappointed\", \"downy\", \"downy\", \"downy\", \"easy\", \"easy\", \"effective\", \"electric\", \"electric\", \"electric\", \"electricity\", \"enough\", \"enough\", \"enough\", \"exact\", \"excellent\", \"excellent\", \"exchange\", \"expensive\", \"expensive\", \"extra\", \"extra\", \"extra\", \"family\", \"family\", \"family\", \"family\", \"fast\", \"fast\", \"feature\", \"figure\", \"filling\", \"firm\", \"firm\", \"firm\", \"firmness\", \"firmness\", \"firmness\", \"first\", \"first\", \"fix\", \"fix\", \"flaw\", \"flip\", \"floor\", \"floor\", \"floor\", \"floor\", \"foam\", \"foot\", \"foot\", \"foot\", \"full\", \"full\", \"full\", \"garbage\", \"giant\", \"good\", \"good\", \"good\", \"good\", \"grandchild\", \"great\", \"great\", \"great\", \"great\", \"guest\", \"guest\", \"guest\", \"handy\", \"head\", \"height\", \"height\", \"high\", \"high\", \"high\", \"hole\", \"hole\", \"holiday\", \"hour\", \"hour\", \"house\", \"house\", \"house\", \"housing\", \"huge\", \"hump\", \"important\", \"inflate\", \"inflate\", \"inflated\", \"inflated\", \"inflated\", \"inflated\", \"inflatedeflate\", \"inflating\", \"inlaw\", \"inner\", \"instruction\", \"instruction\", \"intex\", \"intex\", \"intex\", \"intex\", \"investment\", \"item\", \"item\", \"item\", \"kid\", \"kid\", \"kit\", \"kit\", \"last\", \"last\", \"last\", \"last\", \"layer\", \"leak\", \"leak\", \"left\", \"leg\", \"length\", \"life\", \"little\", \"little\", \"little\", \"long\", \"long\", \"long\", \"long\", \"love\", \"love\", \"lump\", \"matress\", \"matress\", \"mattress\", \"mattress\", \"mattress\", \"mattress\", \"member\", \"memory\", \"middle\", \"middle\", \"minute\", \"minute\", \"mju\", \"model\", \"model\", \"model\", \"moment\", \"money\", \"money\", \"money\", \"month\", \"month\", \"morning\", \"morning\", \"morning\", \"much\", \"much\", \"much\", \"nap\", \"necessary\", \"new\", \"new\", \"new\", \"new\", \"new\", \"next\", \"next\", \"next\", \"nice\", \"nice\", \"nice\", \"night\", \"night\", \"night\", \"night\", \"normal\", \"normal\", \"normal\", \"normal\", \"note\", \"notice\", \"november\", \"occasion\", \"odd\", \"odor\", \"old\", \"old\", \"old\", \"old\", \"over\", \"overall\", \"overall\", \"pack\", \"package\", \"pad\", \"pain\", \"parent\", \"parent\", \"patch\", \"patch\", \"pay\", \"people\", \"people\", \"people\", \"people\", \"perfect\", \"perfect\", \"perfect\", \"pinch\", \"place\", \"place\", \"place\", \"place\", \"place\", \"plastic\", \"plastic\", \"plastic\", \"pop\", \"portable\", \"positive\", \"price\", \"price\", \"price\", \"pro\", \"problem\", \"problem\", \"problem\", \"problem\", \"product\", \"product\", \"product\", \"pump\", \"pump\", \"pump\", \"purchase\", \"purchase\", \"purchase\", \"purchase\", \"push\", \"put\", \"quality\", \"quality\", \"quality\", \"queen\", \"queen\", \"quiet\", \"rate\", \"read\", \"reading\", \"real\", \"real\", \"real\", \"reasonable\", \"recommend\", \"refund\", \"refund\", \"reliable\", \"repair\", \"repair\", \"return\", \"return\", \"review\", \"review\", \"review\", \"review\", \"rib\", \"ridge\", \"room\", \"room\", \"room\", \"rough\", \"seam\", \"second\", \"second\", \"second\", \"second\", \"section\", \"set\", \"setup\", \"shape\", \"sheet\", \"side\", \"side\", \"significant\", \"situation\", \"size\", \"sized\", \"sized\", \"sleep\", \"sleep\", \"sleep\", \"sleep\", \"sleeping\", \"sleepover\", \"slight\", \"slow\", \"small\", \"small\", \"small\", \"small\", \"smell\", \"smell\", \"solid\", \"son\", \"son\", \"son\", \"son\", \"spare\", \"spare\", \"spending\", \"standard\", \"star\", \"star\", \"star\", \"star\", \"staying\", \"storage\", \"storage\", \"store\", \"store\", \"store\", \"strong\", \"strong\", \"student\", \"sure\", \"sure\", \"sure\", \"sure\", \"suspect\", \"tent\", \"tent\", \"thick\", \"thing\", \"thing\", \"thing\", \"thing\", \"think\", \"thinking\", \"thinking\", \"time\", \"time\", \"time\", \"time\", \"timely\", \"top\", \"top\", \"topper\", \"traditional\", \"trip\", \"try\", \"tuck\", \"turn\", \"turn\", \"typical\", \"unable\", \"unexpected\", \"unexpected\", \"unit\", \"unit\", \"unusable\", \"usage\", \"use\", \"use\", \"use\", \"use\", \"useless\", \"useless\", \"value\", \"valve\", \"valve\", \"various\", \"visible\", \"visit\", \"visit\", \"visit\", \"volt\", \"wake\", \"warm\", \"warranty\", \"warranty\", \"waste\", \"website\", \"week\", \"week\", \"week\", \"week\", \"weigh\", \"weird\", \"woke\", \"woman\", \"work\", \"work\", \"work\", \"work\", \"year\", \"year\", \"year\", \"year\", \"young\"]}, \"R\": 30, \"lambda.step\": 0.01, \"plot.opts\": {\"xlab\": \"PC1\", \"ylab\": \"PC2\"}, \"topic.order\": [4, 3, 2, 5, 1]};\n",
       "\n",
       "function LDAvis_load_lib(url, callback){\n",
       "  var s = document.createElement('script');\n",
       "  s.src = url;\n",
       "  s.async = true;\n",
       "  s.onreadystatechange = s.onload = callback;\n",
       "  s.onerror = function(){console.warn(\"failed to load library \" + url);};\n",
       "  document.getElementsByTagName(\"head\")[0].appendChild(s);\n",
       "}\n",
       "\n",
       "if(typeof(LDAvis) !== \"undefined\"){\n",
       "   // already loaded: just create the visualization\n",
       "   !function(LDAvis){\n",
       "       new LDAvis(\"#\" + \"ldavis_el1632024275335570649976499517\", ldavis_el1632024275335570649976499517_data);\n",
       "   }(LDAvis);\n",
       "}else if(typeof define === \"function\" && define.amd){\n",
       "   // require.js is available: use it to load d3/LDAvis\n",
       "   require.config({paths: {d3: \"https://d3js.org/d3.v5\"}});\n",
       "   require([\"d3\"], function(d3){\n",
       "      window.d3 = d3;\n",
       "      LDAvis_load_lib(\"https://cdn.jsdelivr.net/gh/bmabey/pyLDAvis@3.3.1/pyLDAvis/js/ldavis.v3.0.0.js\", function(){\n",
       "        new LDAvis(\"#\" + \"ldavis_el1632024275335570649976499517\", ldavis_el1632024275335570649976499517_data);\n",
       "      });\n",
       "    });\n",
       "}else{\n",
       "    // require.js not available: dynamically load d3 & LDAvis\n",
       "    LDAvis_load_lib(\"https://d3js.org/d3.v5.js\", function(){\n",
       "         LDAvis_load_lib(\"https://cdn.jsdelivr.net/gh/bmabey/pyLDAvis@3.3.1/pyLDAvis/js/ldavis.v3.0.0.js\", function(){\n",
       "                 new LDAvis(\"#\" + \"ldavis_el1632024275335570649976499517\", ldavis_el1632024275335570649976499517_data);\n",
       "            })\n",
       "         });\n",
       "}\n",
       "</script>"
      ],
      "text/plain": [
       "PreparedData(topic_coordinates=              x         y  topics  cluster       Freq\n",
       "topic                                                \n",
       "3     -0.135358 -0.136180       1        1  28.926850\n",
       "2     -0.067417 -0.148121       2        1  22.355103\n",
       "1     -0.069583  0.154682       3        1  22.277216\n",
       "4     -0.090869  0.142561       4        1  21.879178\n",
       "0      0.363227 -0.012943       5        1   4.561652, topic_info=            Term         Freq        Total Category  logprob  loglift\n",
       "87         month   876.000000   876.000000  Default  30.0000  30.0000\n",
       "78         great  1177.000000  1177.000000  Default  29.0000  29.0000\n",
       "217         easy   698.000000   698.000000  Default  28.0000  28.0000\n",
       "254        queen   401.000000   401.000000  Default  27.0000  27.0000\n",
       "54   comfortable  1439.000000  1439.000000  Default  26.0000  26.0000\n",
       "..           ...          ...          ...      ...      ...      ...\n",
       "741      matress    15.904425    59.547336   Topic5  -5.4370   1.7673\n",
       "13        family    18.476194   188.404848   Topic5  -5.2871   0.7654\n",
       "243        house    18.427265   207.900340   Topic5  -5.2898   0.6643\n",
       "229     electric    17.498171   146.800609   Topic5  -5.3415   0.9605\n",
       "53           big    16.244268   281.093064   Topic5  -5.4159   0.2365\n",
       "\n",
       "[351 rows x 6 columns], token_table=      Topic      Freq        Term\n",
       "term                             \n",
       "723       3  0.963446        aero\n",
       "625       1  0.977259  affordable\n",
       "0         1  0.387013         air\n",
       "0         2  0.207562         air\n",
       "0         3  0.223578         air\n",
       "...     ...       ...         ...\n",
       "94        1  0.192155        year\n",
       "94        2  0.105451        year\n",
       "94        3  0.335099        year\n",
       "94        4  0.365563        year\n",
       "533       3  0.968000       young\n",
       "\n",
       "[504 rows x 3 columns], R=30, lambda_step=0.01, plot_opts={'xlab': 'PC1', 'ylab': 'PC2'}, topic_order=[4, 3, 2, 5, 1])"
      ]
     },
     "execution_count": 20,
     "metadata": {},
     "output_type": "execute_result"
    }
   ],
   "source": [
    "# Visualize topics\n",
    "pyLDAvis.enable_notebook()\n",
    "#vis = pyLDAvis.gensim.prepare(lda_model, doc_term_matrix, dictionary)\n",
    "\n",
    "vis = pyLDAvis.gensim_models.prepare(lda_model, doc_term_matrix, dictionary)\n",
    "\n",
    "vis"
   ]
  },
  {
   "cell_type": "markdown",
   "metadata": {},
   "source": [
    "References:\n",
    "https://www.analyticsvidhya.com/blog/2016/08/beginners-guide-to-topic-modeling-in-python/\n",
    "https://www.analyticsvidhya.com/blog/2018/10/mining-online-reviews-topic-modeling-lda/"
   ]
  },
  {
   "cell_type": "markdown",
   "metadata": {},
   "source": [
    "Next steps: should we remove words like air, mattress, bed, product, etc and redo the analysis"
   ]
  }
 ],
 "metadata": {
  "kernelspec": {
   "display_name": "PythonData",
   "language": "python",
   "name": "pythondata"
  },
  "language_info": {
   "codemirror_mode": {
    "name": "ipython",
    "version": 3
   },
   "file_extension": ".py",
   "mimetype": "text/x-python",
   "name": "python",
   "nbconvert_exporter": "python",
   "pygments_lexer": "ipython3",
   "version": "3.7.9"
  }
 },
 "nbformat": 4,
 "nbformat_minor": 4
}
